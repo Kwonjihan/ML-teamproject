{
  "cells": [
    {
      "cell_type": "markdown",
      "metadata": {
        "id": "view-in-github",
        "colab_type": "text"
      },
      "source": [
        "<a href=\"https://colab.research.google.com/github/Kwonjihan/ML-teamproject/blob/developtemp/SeongYeomByeon/BERT_pretraining_with_cosine_sim_final.ipynb\" target=\"_parent\"><img src=\"https://colab.research.google.com/assets/colab-badge.svg\" alt=\"Open In Colab\"/></a>"
      ]
    },
    {
      "cell_type": "markdown",
      "metadata": {
        "id": "VEqrCggzrhq1"
      },
      "source": [
        "# **[상위 레이어의 Attention에 Embedding 유사도를 반영]**\n",
        "- \"How Does BERT Answer Questions? A Layer-Wise Analysis of Transformer Representations\" 논문에 제시된 [Phases of BERT’s Transformations] 파트를 보면, BERT기반 모델의 초기 레이어는 토큰들을 주제별 클러스터로 그룹화하는 역할을 수행할 뿐, 의미 탐색 작업에 대해서는 낮은 정확도를 기록함.\n",
        "- 하위 레이어에 대한 임베딩 유사도 반영은, 아직 의미적 요소조차 학습하지 못한 상태의 attention에 학습을 저하시키는 방향으로 작용할 것.\n",
        "- 이에 반해 상위 레이어는 직접적인 토큰들 사이의 문맥적 맥락을 이해하는 역할을 수행하므로, 해당 attention score에 임베딩 벡터들간의 유사도를 반영한다면, 학습을 가속화하는 요소로 작용할 수 있지 않을까?\n",
        "- 상위 레이어(레이어 수 / 2번째 이상 레이어)의 attention score를 계산할 때, Query와 Key의 Cosine similarity 행렬을 구함 -> 해당 행렬을 attention score에 합산\n",
        "\n",
        "> 인용구 추가\n",
        "\n",
        "\n",
        "\n",
        "![drawio2.png](data:image/png;base64,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)\n",
        "\n",
        "참고문헌 : https://ar5iv.labs.arxiv.org/html/1909.04925"
      ]
    },
    {
      "cell_type": "code",
      "execution_count": 1,
      "metadata": {
        "colab": {
          "base_uri": "https://localhost:8080/"
        },
        "collapsed": true,
        "id": "u_A5uvF0c5Ff",
        "outputId": "b9d44c7a-ed8a-45bc-a908-65ae87674242"
      },
      "outputs": [
        {
          "output_type": "stream",
          "name": "stdout",
          "text": [
            "Collecting datasets\n",
            "  Downloading datasets-2.19.1-py3-none-any.whl (542 kB)\n",
            "\u001b[2K     \u001b[90m━━━━━━━━━━━━━━━━━━━━━━━━━━━━━━━━━━━━━━━━\u001b[0m \u001b[32m542.0/542.0 kB\u001b[0m \u001b[31m8.6 MB/s\u001b[0m eta \u001b[36m0:00:00\u001b[0m\n",
            "\u001b[?25hRequirement already satisfied: filelock in /usr/local/lib/python3.10/dist-packages (from datasets) (3.14.0)\n",
            "Requirement already satisfied: numpy>=1.17 in /usr/local/lib/python3.10/dist-packages (from datasets) (1.25.2)\n",
            "Requirement already satisfied: pyarrow>=12.0.0 in /usr/local/lib/python3.10/dist-packages (from datasets) (14.0.2)\n",
            "Requirement already satisfied: pyarrow-hotfix in /usr/local/lib/python3.10/dist-packages (from datasets) (0.6)\n",
            "Collecting dill<0.3.9,>=0.3.0 (from datasets)\n",
            "  Downloading dill-0.3.8-py3-none-any.whl (116 kB)\n",
            "\u001b[2K     \u001b[90m━━━━━━━━━━━━━━━━━━━━━━━━━━━━━━━━━━━━━━━━\u001b[0m \u001b[32m116.3/116.3 kB\u001b[0m \u001b[31m15.1 MB/s\u001b[0m eta \u001b[36m0:00:00\u001b[0m\n",
            "\u001b[?25hRequirement already satisfied: pandas in /usr/local/lib/python3.10/dist-packages (from datasets) (2.0.3)\n",
            "Requirement already satisfied: requests>=2.19.0 in /usr/local/lib/python3.10/dist-packages (from datasets) (2.31.0)\n",
            "Requirement already satisfied: tqdm>=4.62.1 in /usr/local/lib/python3.10/dist-packages (from datasets) (4.66.4)\n",
            "Collecting xxhash (from datasets)\n",
            "  Downloading xxhash-3.4.1-cp310-cp310-manylinux_2_17_x86_64.manylinux2014_x86_64.whl (194 kB)\n",
            "\u001b[2K     \u001b[90m━━━━━━━━━━━━━━━━━━━━━━━━━━━━━━━━━━━━━━━━\u001b[0m \u001b[32m194.1/194.1 kB\u001b[0m \u001b[31m27.3 MB/s\u001b[0m eta \u001b[36m0:00:00\u001b[0m\n",
            "\u001b[?25hCollecting multiprocess (from datasets)\n",
            "  Downloading multiprocess-0.70.16-py310-none-any.whl (134 kB)\n",
            "\u001b[2K     \u001b[90m━━━━━━━━━━━━━━━━━━━━━━━━━━━━━━━━━━━━━━━━\u001b[0m \u001b[32m134.8/134.8 kB\u001b[0m \u001b[31m20.7 MB/s\u001b[0m eta \u001b[36m0:00:00\u001b[0m\n",
            "\u001b[?25hRequirement already satisfied: fsspec[http]<=2024.3.1,>=2023.1.0 in /usr/local/lib/python3.10/dist-packages (from datasets) (2023.6.0)\n",
            "Requirement already satisfied: aiohttp in /usr/local/lib/python3.10/dist-packages (from datasets) (3.9.5)\n",
            "Requirement already satisfied: huggingface-hub>=0.21.2 in /usr/local/lib/python3.10/dist-packages (from datasets) (0.23.1)\n",
            "Requirement already satisfied: packaging in /usr/local/lib/python3.10/dist-packages (from datasets) (24.0)\n",
            "Requirement already satisfied: pyyaml>=5.1 in /usr/local/lib/python3.10/dist-packages (from datasets) (6.0.1)\n",
            "Requirement already satisfied: aiosignal>=1.1.2 in /usr/local/lib/python3.10/dist-packages (from aiohttp->datasets) (1.3.1)\n",
            "Requirement already satisfied: attrs>=17.3.0 in /usr/local/lib/python3.10/dist-packages (from aiohttp->datasets) (23.2.0)\n",
            "Requirement already satisfied: frozenlist>=1.1.1 in /usr/local/lib/python3.10/dist-packages (from aiohttp->datasets) (1.4.1)\n",
            "Requirement already satisfied: multidict<7.0,>=4.5 in /usr/local/lib/python3.10/dist-packages (from aiohttp->datasets) (6.0.5)\n",
            "Requirement already satisfied: yarl<2.0,>=1.0 in /usr/local/lib/python3.10/dist-packages (from aiohttp->datasets) (1.9.4)\n",
            "Requirement already satisfied: async-timeout<5.0,>=4.0 in /usr/local/lib/python3.10/dist-packages (from aiohttp->datasets) (4.0.3)\n",
            "Requirement already satisfied: typing-extensions>=3.7.4.3 in /usr/local/lib/python3.10/dist-packages (from huggingface-hub>=0.21.2->datasets) (4.11.0)\n",
            "Requirement already satisfied: charset-normalizer<4,>=2 in /usr/local/lib/python3.10/dist-packages (from requests>=2.19.0->datasets) (3.3.2)\n",
            "Requirement already satisfied: idna<4,>=2.5 in /usr/local/lib/python3.10/dist-packages (from requests>=2.19.0->datasets) (3.7)\n",
            "Requirement already satisfied: urllib3<3,>=1.21.1 in /usr/local/lib/python3.10/dist-packages (from requests>=2.19.0->datasets) (2.0.7)\n",
            "Requirement already satisfied: certifi>=2017.4.17 in /usr/local/lib/python3.10/dist-packages (from requests>=2.19.0->datasets) (2024.2.2)\n",
            "Requirement already satisfied: python-dateutil>=2.8.2 in /usr/local/lib/python3.10/dist-packages (from pandas->datasets) (2.8.2)\n",
            "Requirement already satisfied: pytz>=2020.1 in /usr/local/lib/python3.10/dist-packages (from pandas->datasets) (2023.4)\n",
            "Requirement already satisfied: tzdata>=2022.1 in /usr/local/lib/python3.10/dist-packages (from pandas->datasets) (2024.1)\n",
            "Requirement already satisfied: six>=1.5 in /usr/local/lib/python3.10/dist-packages (from python-dateutil>=2.8.2->pandas->datasets) (1.16.0)\n",
            "Installing collected packages: xxhash, dill, multiprocess, datasets\n",
            "Successfully installed datasets-2.19.1 dill-0.3.8 multiprocess-0.70.16 xxhash-3.4.1\n"
          ]
        }
      ],
      "source": [
        "!pip install -U datasets"
      ]
    },
    {
      "cell_type": "code",
      "execution_count": 2,
      "metadata": {
        "id": "AgffaJtcofIV"
      },
      "outputs": [],
      "source": [
        "import math\n",
        "import torch\n",
        "from torch import nn\n",
        "from torch.nn import CrossEntropyLoss\n",
        "import torch.nn.functional as F\n",
        "from torch.optim import AdamW\n",
        "import random\n",
        "import torch.optim as optim\n",
        "from torch.utils.data import RandomSampler, DataLoader, random_split\n",
        "import os\n",
        "import pandas as pd\n",
        "from torch.utils.data import Dataset, DataLoader\n",
        "from transformers import BertTokenizer, DataCollatorForLanguageModeling\n",
        "from typing import Optional, Tuple\n",
        "from tqdm import tqdm\n",
        "import matplotlib.pyplot as plt\n",
        "import seaborn as sns\n",
        "import numpy as np\n",
        "from transformers.modeling_outputs import ModelOutput, MaskedLMOutput"
      ]
    },
    {
      "cell_type": "code",
      "execution_count": 3,
      "metadata": {
        "colab": {
          "base_uri": "https://localhost:8080/"
        },
        "id": "DwMEaxV7jY6X",
        "outputId": "bde9be7e-5df6-4d5c-eb19-a23d653e32dc"
      },
      "outputs": [
        {
          "output_type": "stream",
          "name": "stdout",
          "text": [
            "Mounted at /content/drive\n"
          ]
        }
      ],
      "source": [
        "from google.colab import drive\n",
        "drive.mount('/content/drive')"
      ]
    },
    {
      "cell_type": "code",
      "execution_count": 4,
      "metadata": {
        "id": "drgT6nqeoqN5"
      },
      "outputs": [],
      "source": [
        "# activation function 불러오기\n",
        "def gelu(x):\n",
        "    return x * 0.5 * (1.0 + torch.erf(x / math.sqrt(2.0)))\n",
        "\n",
        "ACT2FN = {\"gelu\": gelu, \"relu\": torch.nn.functional.relu, \"swish\": torch.nn.functional.silu}"
      ]
    },
    {
      "cell_type": "code",
      "source": [
        "class Config:\n",
        "    vocab_size=30522\n",
        "    hidden_size=768\n",
        "    num_hidden_layers=8\n",
        "    num_attention_heads=12\n",
        "    intermediate_size=3072\n",
        "    hidden_act=\"gelu\"\n",
        "    hidden_dropout_prob=0.1\n",
        "    attention_probs_dropout_prob=0.1\n",
        "    max_position_embeddings=512\n",
        "    type_vocab_size=2\n",
        "    initializer_range=0.02\n",
        "    layer_norm_eps=1e-12\n",
        "    pad_token_id=0\n",
        "    gradient_checkpointing=False\n",
        "    position_embedding_type=\"absolute\"\n",
        "    use_cache=True\n",
        "    is_decoder = False\n",
        "\n",
        "# BERT 입력 임베딩 생성 클래스\n",
        "class BertEmbeddings(nn.Module):\n",
        "    def __init__(self, config: Config):\n",
        "        super().__init__()\n",
        "        # 단어 임베딩, 위치 임베딩, 토큰 타입 임베딩\n",
        "        self.word_embeddings = nn.Embedding(config.vocab_size, config.hidden_size, padding_idx=config.pad_token_id)\n",
        "        self.position_embeddings = nn.Embedding(config.max_position_embeddings, config.hidden_size)\n",
        "        self.token_type_embeddings = nn.Embedding(config.type_vocab_size, config.hidden_size)\n",
        "        # 레이어 정규화와 드롭아웃\n",
        "        self.LayerNorm = nn.LayerNorm(config.hidden_size, eps=config.layer_norm_eps)\n",
        "        self.dropout = nn.Dropout(config.hidden_dropout_prob)\n",
        "        self.position_embedding_type = getattr(config, \"position_embedding_type\", \"absolute\")\n",
        "        self.register_buffer(\"position_ids\", torch.arange(config.max_position_embeddings).expand((1, -1)), persistent=False)\n",
        "        self.register_buffer(\"token_type_ids\", torch.zeros(self.position_ids.size(), dtype=torch.long), persistent=False)\n",
        "\n",
        "    def forward(self, input_ids=None, token_type_ids=None, position_ids=None, inputs_embeds=None, past_key_values_length=0):\n",
        "        if input_ids is not None:\n",
        "            input_shape = input_ids.size()\n",
        "        else:\n",
        "            input_shape = inputs_embeds.size()[:-1]\n",
        "\n",
        "        seq_length = input_shape[1]\n",
        "\n",
        "        if position_ids is None:\n",
        "            position_ids = self.position_ids[:, past_key_values_length: seq_length + past_key_values_length]\n",
        "\n",
        "        if token_type_ids is None:\n",
        "            if hasattr(self, \"token_type_ids\"):\n",
        "                buffered_token_type_ids = self.token_type_ids[:, :seq_length]\n",
        "                buffered_token_type_ids_expanded = buffered_token_type_ids.expand(input_shape[0], seq_length)\n",
        "                token_type_ids = buffered_token_type_ids_expanded\n",
        "            else:\n",
        "                token_type_ids = torch.zeros(input_shape, dtype=torch.long, device=self.position_ids.device)\n",
        "\n",
        "        if inputs_embeds is None:\n",
        "            inputs_embeds = self.word_embeddings(input_ids)\n",
        "        token_type_embeddings = self.token_type_embeddings(token_type_ids)\n",
        "\n",
        "        # 입력 임베딩 생성\n",
        "        embeddings = inputs_embeds + token_type_embeddings\n",
        "        if self.position_embedding_type == \"absolute\":\n",
        "            position_embeddings = self.position_embeddings(position_ids)\n",
        "            embeddings += position_embeddings\n",
        "        embeddings = self.LayerNorm(embeddings)\n",
        "        embeddings = self.dropout(embeddings)\n",
        "        return embeddings\n",
        "\n",
        "# 셀프 어텐션 구현 클래스\n",
        "class BertSelfAttention(nn.Module):\n",
        "    def __init__(self, config, layer_idx, position_embedding_type=None):  # 레이어 인덱스 추가\n",
        "        super().__init__()\n",
        "        self.config = Config\n",
        "        # hidden_size가 num_attention_heads의 배수가 아니면 오류 발생\n",
        "        if config.hidden_size % config.num_attention_heads != 0 and not hasattr(config, \"embedding_size\"):\n",
        "            raise ValueError(\n",
        "                f\"The hidden size ({config.hidden_size}) is not a multiple of the number of attention \"\n",
        "                f\"heads ({config.num_attention_heads})\"\n",
        "            )\n",
        "\n",
        "        #####################################################\n",
        "        # 의미적 유사성 행렬 생성 (임베딩 매트릭스가 존재하는 경우)\n",
        "        self.similarity_matrix = None\n",
        "        if hasattr(config, 'embedding_matrix'):\n",
        "            self.similarity_matrix = self.create_similarity_matrix(config.embedding_matrix)\n",
        "\n",
        "        # 의미적 유사성 적용 레이어 설정 - 상위 레이어에만 적용하기 위함\n",
        "        self.layer_idx = layer_idx  # 몇 번째 레이어인지 불러옴\n",
        "        #####################################################\n",
        "\n",
        "        # 어텐션 헤드의 수와 각 헤드의 크기, 전체 헤드 크기 설정\n",
        "        self.num_attention_heads = config.num_attention_heads\n",
        "        self.attention_head_size = int(\n",
        "            config.hidden_size / config.num_attention_heads)\n",
        "        self.all_head_size = self.num_attention_heads * self.attention_head_size\n",
        "\n",
        "        # Query, Key, Value 행렬 정의\n",
        "        self.query = nn.Linear(config.hidden_size, self.all_head_size)\n",
        "        self.key = nn.Linear(config.hidden_size, self.all_head_size)\n",
        "        self.value = nn.Linear(config.hidden_size, self.all_head_size)\n",
        "\n",
        "        # 드롭아웃 레이어 정의\n",
        "        self.dropout = nn.Dropout(config.attention_probs_dropout_prob)\n",
        "        # 위치 임베딩 유형 설정\n",
        "        self.position_embedding_type = position_embedding_type or getattr(\n",
        "            config, \"position_embedding_type\", \"absolute\"\n",
        "        )\n",
        "        # 상대적 위치 임베딩을 사용하는 경우, 위치 임베딩 레이어 정의\n",
        "        if self.position_embedding_type == \"relative_key\" or self.position_embedding_type == \"relative_key_query\":\n",
        "            self.max_position_embeddings = config.max_position_embeddings\n",
        "            self.distance_embedding = nn.Embedding(\n",
        "                2 * config.max_position_embeddings - 1, self.attention_head_size)\n",
        "\n",
        "        # 디코더인지 여부 설정\n",
        "        self.is_decoder = config.is_decoder\n",
        "\n",
        "    #####################################################\n",
        "    # 유사도 행렬 정의\n",
        "    def create_similarity_matrix(self, embedding_matrix):\n",
        "        similarity_matrix = torch.zeros((embedding_matrix.size(0), embedding_matrix.size(0))) # 0으로 채워진 행렬 생성\n",
        "        for i in range(embedding_matrix.size(0)):\n",
        "            for j in range(embedding_matrix.size(0)):\n",
        "                similarity_matrix[i, j] = torch.cosine_similarity(embedding_matrix[i], embedding_matrix[j], dim=0) # 각 토큰들의 cosine similarity를 구하여 행렬 업데이트\n",
        "        return similarity_matrix\n",
        "    #####################################################\n",
        "\n",
        "    def transpose_for_scores(self, x: torch.Tensor) -> torch.Tensor:\n",
        "        # 텐서의 크기 변환\n",
        "        new_x_shape = x.size()[\n",
        "            :-1] + (self.num_attention_heads, self.attention_head_size)\n",
        "        x = x.view(new_x_shape)\n",
        "        # 텐서의 차원 변경 [batch_size, num_heads, seq_len, head_size]\n",
        "        return x.permute(0, 2, 1, 3)\n",
        "\n",
        "    def forward(\n",
        "        self,\n",
        "        hidden_states: torch.Tensor,\n",
        "        attention_mask: Optional[torch.FloatTensor] = None,\n",
        "        head_mask: Optional[torch.FloatTensor] = None,\n",
        "        encoder_hidden_states: Optional[torch.FloatTensor] = None,\n",
        "        encoder_attention_mask: Optional[torch.FloatTensor] = None,\n",
        "        past_key_value: Optional[Tuple[Tuple[torch.FloatTensor]]] = None,\n",
        "        output_attentions: Optional[bool] = False,\n",
        "    ) -> Tuple[torch.Tensor]:\n",
        "        # Query 레이어 계산\n",
        "        mixed_query_layer = self.query(hidden_states)\n",
        "\n",
        "        # 크로스 어텐션인지 여부 확인\n",
        "        is_cross_attention = encoder_hidden_states is not None\n",
        "\n",
        "        if is_cross_attention and past_key_value is not None:\n",
        "            # 과거의 k, v 값을 재사용 (크로스 어텐션)\n",
        "            key_layer = past_key_value[0]\n",
        "            value_layer = past_key_value[1]\n",
        "            attention_mask = encoder_attention_mask\n",
        "        elif is_cross_attention:\n",
        "            # 인코더의 키와 값을 사용하여 크로스 어텐션 수행\n",
        "            key_layer = self.transpose_for_scores(\n",
        "                self.key(encoder_hidden_states))\n",
        "            value_layer = self.transpose_for_scores(\n",
        "                self.value(encoder_hidden_states))\n",
        "            attention_mask = encoder_attention_mask\n",
        "        elif past_key_value is not None:\n",
        "            # 과거의 k, v 값을 현재의 k, v와 결합 (디코더의 셀프 어텐션)\n",
        "            key_layer = self.transpose_for_scores(self.key(hidden_states))\n",
        "            value_layer = self.transpose_for_scores(self.value(hidden_states))\n",
        "            key_layer = torch.cat([past_key_value[0], key_layer], dim=2)\n",
        "            value_layer = torch.cat([past_key_value[1], value_layer], dim=2)\n",
        "        else:\n",
        "            # 현재의 히든 스테이트에서 키와 값을 계산 (셀프 어텐션)\n",
        "            key_layer = self.transpose_for_scores(self.key(hidden_states))\n",
        "            value_layer = self.transpose_for_scores(self.value(hidden_states))\n",
        "\n",
        "        # Query 레이어 변환\n",
        "        query_layer = self.transpose_for_scores(mixed_query_layer)\n",
        "\n",
        "        # 캐시를 사용할지 여부 설정\n",
        "        use_cache = past_key_value is not None\n",
        "        if self.is_decoder:\n",
        "            # 디코더인 경우, 키와 값을 캐싱\n",
        "            past_key_value = (key_layer, value_layer)\n",
        "\n",
        "        # Query와 Key의 내적(dot product)을 통해 어텐션 스코어 계산\n",
        "        attention_scores = torch.matmul(\n",
        "            query_layer, key_layer.transpose(-1, -2))\n",
        "\n",
        "        ################\n",
        "        # 의미적 유사성을 반영한 어텐션 스코어\n",
        "        if self.layer_idx >= self.config.num_hidden_layers / 2 and self.similarity_matrix is not None:  # 상위 레이어(레이어 수의 반 이상)에만 적용\n",
        "            query_length, key_length = query_layer.shape[2], key_layer.shape[2]\n",
        "            position_ids_l = torch.arange(query_length, dtype=torch.long, device=hidden_states.device).view(-1, 1)\n",
        "            position_ids_r = torch.arange(key_length, dtype=torch.long, device=hidden_states.device).view(1, -1)\n",
        "            distance = position_ids_l - position_ids_r\n",
        "            positional_embedding = self.distance_embedding(distance + self.max_position_embeddings - 1)\n",
        "            positional_embedding = positional_embedding.to(dtype=query_layer.dtype)\n",
        "\n",
        "            # 의미적 유사성 행렬 적용\n",
        "            semantic_scores = self.similarity_matrix[position_ids_l, position_ids_r]  # 쿼리와 키 사이의 유사성 추출\n",
        "            attention_scores += semantic_scores.unsqueeze(0).unsqueeze(0)  # 배치 및 헤드 차원 추가\n",
        "        ################\n",
        "\n",
        "        # 어텐션 스코어를 정규화\n",
        "        attention_scores = attention_scores / \\\n",
        "            math.sqrt(self.attention_head_size)\n",
        "        if attention_mask is not None:\n",
        "            # 어텐션 마스크 적용\n",
        "            attention_scores = attention_scores + attention_mask\n",
        "\n",
        "        # 어텐션 스코어를 확률로 변환\n",
        "        attention_probs = nn.functional.softmax(attention_scores, dim=-1)\n",
        "\n",
        "        # 드롭아웃 적용\n",
        "        attention_probs = self.dropout(attention_probs)\n",
        "\n",
        "        # 헤드 마스크 적용\n",
        "        if head_mask is not None:\n",
        "            attention_probs = attention_probs * head_mask\n",
        "\n",
        "        # 컨텍스트 레이어 계산\n",
        "        context_layer = torch.matmul(attention_probs, value_layer)\n",
        "\n",
        "        # 텐서의 크기 변환 및 재배치\n",
        "        context_layer = context_layer.permute(0, 2, 1, 3).contiguous()\n",
        "        new_context_layer_shape = context_layer.size()[\n",
        "            :-2] + (self.all_head_size,)\n",
        "        context_layer = context_layer.view(new_context_layer_shape)\n",
        "\n",
        "        # 출력 생성\n",
        "        outputs = (context_layer, attention_probs) if output_attentions else (\n",
        "            context_layer,)\n",
        "\n",
        "        # 디코더인 경우, past_key_value를 출력에 포함\n",
        "        if self.is_decoder:\n",
        "            outputs = outputs + (past_key_value,)\n",
        "        return outputs\n",
        "\n",
        "# 셀프 어텐션 출력 처리 클래스\n",
        "class BertSelfOutput(nn.Module):\n",
        "    def __init__(self, config: Config):\n",
        "        super().__init__()\n",
        "        self.dense = nn.Linear(config.hidden_size, config.hidden_size)\n",
        "        self.LayerNorm = nn.LayerNorm(config.hidden_size, eps=config.layer_norm_eps)\n",
        "        self.dropout = nn.Dropout(config.hidden_dropout_prob)\n",
        "\n",
        "    def forward(self, hidden_states, input_tensor):\n",
        "        # 드롭아웃, 레이어 정규화, 잔차 연결 적용\n",
        "        hidden_states = self.dense(hidden_states)\n",
        "        hidden_states = self.dropout(hidden_states)\n",
        "        hidden_states = self.LayerNorm(hidden_states + input_tensor)\n",
        "        return hidden_states\n",
        "\n",
        "# 어텐션 메커니즘 클래스\n",
        "class BertAttention(nn.Module):\n",
        "    def __init__(self, config, layer_idx: int):\n",
        "        super().__init__()\n",
        "        self.self = BertSelfAttention(config, layer_idx=layer_idx) # 레이어 index를 불러옴\n",
        "        self.output = BertSelfOutput(config)\n",
        "\n",
        "    def forward(self, input_tensor, attention_mask=None, head_mask=None, encoder_hidden_states=None, encoder_attention_mask=None, past_key_value=None, output_attentions=False):\n",
        "        # 셀프 어텐션 및 출력 계산\n",
        "        self_outputs = self.self(\n",
        "            input_tensor,\n",
        "            attention_mask,\n",
        "            head_mask,\n",
        "            encoder_hidden_states,\n",
        "            encoder_attention_mask,\n",
        "            past_key_value,\n",
        "            output_attentions,\n",
        "        )\n",
        "        attention_output = self.output(self_outputs[0], input_tensor)\n",
        "        outputs = (attention_output,) + self_outputs[1:]\n",
        "        return outputs\n",
        "\n",
        "# 중간 레이어 활성화 함수 클래스\n",
        "class BertIntermediate(nn.Module):\n",
        "    def __init__(self, config: Config):\n",
        "        super().__init__()\n",
        "        self.dense = nn.Linear(config.hidden_size, config.intermediate_size)\n",
        "        self.intermediate_act_fn = ACT2FN[config.hidden_act]\n",
        "\n",
        "    def forward(self, hidden_states):\n",
        "        # 중간 레이어 활성화 함수 적용\n",
        "        hidden_states = self.dense(hidden_states)\n",
        "        hidden_states = self.intermediate_act_fn(hidden_states)\n",
        "        return hidden_states\n",
        "\n",
        "# 중간 레이어 출력 처리 클래스\n",
        "class BertOutput(nn.Module):\n",
        "    def __init__(self, config: Config):\n",
        "        super().__init__()\n",
        "        self.dense = nn.Linear(config.intermediate_size, config.hidden_size)\n",
        "        self.LayerNorm = nn.LayerNorm(config.hidden_size, eps=config.layer_norm_eps)\n",
        "        self.dropout = nn.Dropout(config.hidden_dropout_prob)\n",
        "\n",
        "    def forward(self, hidden_states, input_tensor):\n",
        "        # 드롭아웃, 레이어 정규화, 잔차 연결 적용\n",
        "        hidden_states = self.dense(hidden_states)\n",
        "        hidden_states = self.dropout(hidden_states)\n",
        "        hidden_states = self.Layer\n",
        "\n",
        "    def forward(self, hidden_states, input_tensor):\n",
        "        # 드롭아웃, 레이어 정규화, 잔차 연결 적용\n",
        "        hidden_states = self.dense(hidden_states)\n",
        "        hidden_states = self.dropout(hidden_states)\n",
        "        hidden_states = self.LayerNorm(hidden_states + input_tensor)\n",
        "        return hidden_states\n",
        "\n",
        "# 하나의 BERT 레이어를 구현하는 클래스\n",
        "class BertLayer(nn.Module):\n",
        "    def __init__(self, config: Config, layer_idx: int):\n",
        "        super().__init__()\n",
        "        #####################################################\n",
        "        self.attention = BertAttention(config, layer_idx=layer_idx) # 레이어의 index를 같이 전달\n",
        "        #####################################################\n",
        "        self.intermediate = BertIntermediate(config)\n",
        "        self.output = BertOutput(config)\n",
        "\n",
        "    def forward(self, hidden_states, attention_mask=None, head_mask=None, encoder_hidden_states=None, encoder_attention_mask=None, past_key_value=None, output_attentions=False):\n",
        "        # 어텐션과 출력 계산\n",
        "        self_attention_outputs = self.attention(\n",
        "            hidden_states,\n",
        "            attention_mask,\n",
        "            head_mask,\n",
        "            encoder_hidden_states,\n",
        "            encoder_attention_mask,\n",
        "            past_key_value,\n",
        "            output_attentions=output_attentions,\n",
        "        )\n",
        "        attention_output = self_attention_outputs[0]\n",
        "        layer_output = self.output(self.intermediate(attention_output), attention_output)\n",
        "        outputs = (layer_output,) + self_attention_outputs[1:]\n",
        "        return outputs\n",
        "\n",
        "\n",
        "# 여러 BERT 레이어를 포함하는 인코더 클래스\n",
        "class BertEncoder(nn.Module):\n",
        "    def __init__(self, config: Config):\n",
        "        super().__init__()\n",
        "        #####################################################\n",
        "        self.layer = nn.ModuleList([BertLayer(config, i) for i in range(config.num_hidden_layers)]) # index i도 같이 전달\n",
        "        #####################################################\n",
        "\n",
        "    def forward(self, hidden_states, attention_mask=None, head_mask=None, encoder_hidden_states=None, encoder_attention_mask=None, past_key_values=None, use_cache=None, output_attentions=False, output_hidden_states=False, return_dict=True):\n",
        "        all_hidden_states = () if output_hidden_states else None\n",
        "        all_attentions = () if output_attentions else None\n",
        "        for i, layer_module in enumerate(self.layer):\n",
        "            layer_head_mask = head_mask[i] if head_mask is not None else None\n",
        "            past_key_value = past_key_values[i] if past_key_values is not None else None\n",
        "\n",
        "            if output_hidden_states:\n",
        "                all_hidden_states = all_hidden_states + (hidden_states,)\n",
        "\n",
        "            layer_outputs = layer_module(\n",
        "                hidden_states,\n",
        "                attention_mask,\n",
        "                layer_head_mask,\n",
        "                encoder_hidden_states,\n",
        "                encoder_attention_mask,\n",
        "                past_key_value,\n",
        "                output_attentions,\n",
        "            )\n",
        "            hidden_states = layer_outputs[0]\n",
        "\n",
        "            if output_attentions:\n",
        "                all_attentions = all_attentions + (layer_outputs[1],)\n",
        "\n",
        "        return (hidden_states, all_hidden_states, all_attentions)\n",
        "\n",
        "# 첫 번째 토큰의 출력을 풀링하는 클래스\n",
        "class BertPooler(nn.Module):\n",
        "    def __init__(self, config: Config):\n",
        "        super().__init__()\n",
        "        self.dense = nn.Linear(config.hidden_size, config.hidden_size)\n",
        "        self.activation = nn.Tanh()\n",
        "\n",
        "    def forward(self, hidden_states):\n",
        "        # 첫 번째 토큰의 텐서를 사용해 풀링 출력 생성\n",
        "        first_token_tensor = hidden_states[:, 0]\n",
        "        pooled_output = self.dense(first_token_tensor)\n",
        "        pooled_output = self.activation(pooled_output)\n",
        "        return pooled_output\n",
        "\n",
        "# 전체 BERT 모델을 구현하는 클래스\n",
        "class BertModel(nn.Module):\n",
        "    def __init__(self, config: Config):\n",
        "        super().__init__()\n",
        "        self.config = config\n",
        "        self.embeddings = BertEmbeddings(config)\n",
        "        self.encoder = BertEncoder(config)\n",
        "        self.pooler = BertPooler(config)\n",
        "\n",
        "    def forward(self, input_ids, attention_mask=None, token_type_ids=None, position_ids=None, head_mask=None, inputs_embeds=None, encoder_hidden_states=None, encoder_attention_mask=None, past_key_values=None, use_cache=None, output_attentions=None, output_hidden_states=None, return_dict=None):\n",
        "        # 입력 텐서의 크기 확인\n",
        "        if input_ids is not None and inputs_embeds is not None:\n",
        "            raise ValueError(\"input_ids 혹은 inputs_embeds 둘 중 하나의 형식으로만 입력해야 합니다.\")\n",
        "        elif input_ids is not None:\n",
        "            input_shape = input_ids.size()\n",
        "        elif inputs_embeds is not None:\n",
        "            input_shape = inputs_embeds.size()[:-1]\n",
        "        else:\n",
        "            raise ValueError(\"input_ids 또는 inputs_embeds의 형식이어야 합니다.\")\n",
        "\n",
        "        device = input_ids.device if input_ids is not None else inputs_embeds.device\n",
        "        if attention_mask is None:\n",
        "            attention_mask = torch.ones(input_shape, device=device)\n",
        "        if token_type_ids is None:\n",
        "            token_type_ids = torch.zeros(input_shape, dtype=torch.long, device=device)\n",
        "\n",
        "        extended_attention_mask = attention_mask[:, None, None, :]\n",
        "        extended_attention_mask = extended_attention_mask.to(dtype=next(self.parameters()).dtype)\n",
        "        extended_attention_mask = (1.0 - extended_attention_mask) * -10000.0\n",
        "\n",
        "        head_mask = [None] * self.config.num_hidden_layers\n",
        "\n",
        "        # 임베딩 출력 계산\n",
        "        embedding_output = self.embeddings(\n",
        "            input_ids=input_ids,\n",
        "            position_ids=position_ids,\n",
        "            token_type_ids=token_type_ids,\n",
        "            inputs_embeds=inputs_embeds,\n",
        "        )\n",
        "        # 인코더 출력 계산\n",
        "        encoder_outputs = self.encoder(\n",
        "            embedding_output,\n",
        "            attention_mask=extended_attention_mask,\n",
        "            head_mask=head_mask,\n",
        "            encoder_hidden_states=encoder_hidden_states,\n",
        "            encoder_attention_mask=encoder_attention_mask,\n",
        "            past_key_values=past_key_values,\n",
        "            use_cache=use_cache,\n",
        "            output_attentions=output_attentions,\n",
        "            output_hidden_states=output_hidden_states,\n",
        "            return_dict=return_dict,\n",
        "        )\n",
        "        sequence_output = encoder_outputs[0]\n",
        "        pooled_output = self.pooler(sequence_output)\n",
        "        return sequence_output, pooled_output\n",
        "\n",
        "class BertPredictionHeadTransform(nn.Module):\n",
        "    def __init__(self, config: Config):\n",
        "        super().__init__()\n",
        "        self.dense = nn.Linear(config.hidden_size, config.hidden_size)\n",
        "        self.transform_act_fn = ACT2FN[config.hidden_act]\n",
        "        self.LayerNorm = nn.LayerNorm(\n",
        "            config.hidden_size, eps=config.layer_norm_eps)\n",
        "\n",
        "    def forward(self, hidden_states):\n",
        "        hidden_states = self.dense(hidden_states)\n",
        "        hidden_states = self.transform_act_fn(hidden_states)\n",
        "        hidden_states = self.LayerNorm(hidden_states)\n",
        "        return hidden_states\n",
        "\n",
        "class BertLMPredictionHead(nn.Module):\n",
        "    def __init__(self, config: Config):\n",
        "        super().__init__()\n",
        "        self.transform = BertPredictionHeadTransform(config)\n",
        "        self.decoder = nn.Linear(\n",
        "            config.hidden_size, config.vocab_size, bias=False)\n",
        "        self.bias = nn.Parameter(torch.zeros(config.vocab_size))\n",
        "\n",
        "        self.decoder.bias = self.bias\n",
        "\n",
        "    def forward(self, hidden_states):\n",
        "        hidden_states = self.transform(hidden_states)\n",
        "        hidden_states = self.decoder(hidden_states)\n",
        "        return hidden_states\n",
        "\n",
        "\n",
        "class BertOnlyMLMHead(nn.Module):\n",
        "    def __init__(self, config: Config):\n",
        "        super().__init__()\n",
        "        self.predictions = BertLMPredictionHead(config)\n",
        "\n",
        "    def forward(self, sequence_output):\n",
        "        prediction_scores = self.predictions(sequence_output)\n",
        "        return prediction_scores\n",
        "\n",
        "class BertForPreTraining(nn.Module):\n",
        "    def __init__(self, config):\n",
        "        super().__init__()\n",
        "        self.config = config\n",
        "        self.bert = BertModel(config)\n",
        "        self.cls = BertOnlyMLMHead(config)\n",
        "\n",
        "    def forward(self, input_ids, attention_mask=None, token_type_ids=None, position_ids=None, head_mask=None, inputs_embeds=None, labels=None, output_attentions=None, output_hidden_states=None, return_dict=None):\n",
        "        return_dict = return_dict if return_dict is not None else True\n",
        "\n",
        "        outputs = self.bert(\n",
        "            input_ids,\n",
        "            attention_mask=attention_mask,\n",
        "            token_type_ids=token_type_ids,\n",
        "            position_ids=position_ids,\n",
        "            head_mask=head_mask,\n",
        "            inputs_embeds=inputs_embeds,\n",
        "            output_attentions=output_attentions,\n",
        "            output_hidden_states=output_hidden_states,\n",
        "            return_dict=return_dict,\n",
        "        )\n",
        "\n",
        "        sequence_output = outputs[0]\n",
        "        prediction_scores = self.cls(sequence_output)\n",
        "\n",
        "        masked_lm_loss = None\n",
        "        if labels is not None:\n",
        "            loss_fct = CrossEntropyLoss()\n",
        "            masked_lm_loss = loss_fct(prediction_scores.view(-1, self.config.vocab_size), labels.view(-1))\n",
        "\n",
        "        if not return_dict:\n",
        "            output = (prediction_scores,) + outputs[2:]\n",
        "            return ((masked_lm_loss,) + output) if masked_lm_loss is not None else output\n",
        "\n",
        "        return MaskedLMOutput(\n",
        "            loss=masked_lm_loss,\n",
        "            logits=prediction_scores,\n",
        "            hidden_states=None,\n",
        "            attentions=None,\n",
        "        )"
      ],
      "metadata": {
        "id": "v2IgRc27ZpJ2"
      },
      "execution_count": 5,
      "outputs": []
    },
    {
      "cell_type": "code",
      "execution_count": 6,
      "metadata": {
        "colab": {
          "base_uri": "https://localhost:8080/",
          "height": 329,
          "referenced_widgets": [
            "e041a70f60484f408e2f8556d591168f",
            "97ceb725693841e5b6feac8326711dc3",
            "9c565ba6f7094ad3856a7c6185612c95",
            "bd9d0aacfcd14ff294bf8331cc96638a",
            "243b9158096c42529bbaf2527edcf468",
            "08af028d92e74f4d85d9b346a48aa0ef",
            "76a3b34d4bff44ce94455f6a38d86a0f",
            "276a27b9049a4dfca7e7332c0032ee82",
            "6f1a2b2a09064c87b557e741fb45dc94",
            "a864ca402dc74e228a9e799667d0156e",
            "398e624ab63c411ca836cf900f58f253",
            "ee56a4c0006d4fe8bc950056b8b81228",
            "afa6875021f2470daa5f5363419e0316",
            "2c06ada9e9384abc8f78e3ed32edb761",
            "388fbbde29b74b3dbbf949fec9f51fc0",
            "1f49ae5025d34172b66c7db3ce6b71e6",
            "97f7b33b6429477392d62ca2c66d0bf4",
            "9e85fd89138d4ed7aac7d8cbf1b322c1",
            "2971f61894f441c5942e851c63adf071",
            "99f266b4d95d4224a9516b1c296e202c",
            "32d6d5d25da04c57a8c1d2030675e9ae",
            "ec65029b55fa46af9bd7cb7fdc759048",
            "d238bda59cea48a1b3322edde085fa4c",
            "f0a8623e7a2841ce976226cc7c1d1cb1",
            "d78c64ed69b6434a88d408f6ef8ea056",
            "558ee01d1e624bf980a10585a2ea0137",
            "5045e8f873be45229046f00b25c21c41",
            "57b7a990ad1a47e8a2e5e9380229d501",
            "ddf8033ab58c4910a3f7c0484893c70d",
            "b830ce343a474d52a62b292fb031b09c",
            "2c055abcd0ed4e92845637546cc98850",
            "13d213af0dac443598a74fcad41acee6",
            "bbd093090dff4ae0b940038333fd0960",
            "cffc3c847fcf4550a616892ab9342834",
            "f2f298dd82ff48579c374a6bf0aac552",
            "4e2227caf7684a4aad7e298a79fc2016",
            "29f2995b3cb64b00a18a343d50409e76",
            "6b410ca1d77141689d4d7cb0fff6add1",
            "f562ca37b81d454ba0bb8017229d7380",
            "beaa95f6dbf14b42b96c4b5c4fb59f00",
            "b48c2b7e8af24a66879174ad645d6f83",
            "ff917b04b5094c1598c7664051d43a75",
            "d3135ceb87ca4ffb94c90ab4e5e4f295",
            "702eed9d636346abbcb61fae405003fe"
          ]
        },
        "id": "9ZuDAl6UsQYX",
        "outputId": "6b891410-91db-4cf2-99c0-686184883a6c"
      },
      "outputs": [
        {
          "output_type": "stream",
          "name": "stderr",
          "text": [
            "/usr/local/lib/python3.10/dist-packages/huggingface_hub/utils/_token.py:89: UserWarning: \n",
            "The secret `HF_TOKEN` does not exist in your Colab secrets.\n",
            "To authenticate with the Hugging Face Hub, create a token in your settings tab (https://huggingface.co/settings/tokens), set it as secret in your Google Colab and restart your session.\n",
            "You will be able to reuse this secret in all of your notebooks.\n",
            "Please note that authentication is recommended but still optional to access public models or datasets.\n",
            "  warnings.warn(\n"
          ]
        },
        {
          "output_type": "display_data",
          "data": {
            "text/plain": [
              "tokenizer_config.json:   0%|          | 0.00/48.0 [00:00<?, ?B/s]"
            ],
            "application/vnd.jupyter.widget-view+json": {
              "version_major": 2,
              "version_minor": 0,
              "model_id": "e041a70f60484f408e2f8556d591168f"
            }
          },
          "metadata": {}
        },
        {
          "output_type": "display_data",
          "data": {
            "text/plain": [
              "vocab.txt:   0%|          | 0.00/232k [00:00<?, ?B/s]"
            ],
            "application/vnd.jupyter.widget-view+json": {
              "version_major": 2,
              "version_minor": 0,
              "model_id": "ee56a4c0006d4fe8bc950056b8b81228"
            }
          },
          "metadata": {}
        },
        {
          "output_type": "display_data",
          "data": {
            "text/plain": [
              "tokenizer.json:   0%|          | 0.00/466k [00:00<?, ?B/s]"
            ],
            "application/vnd.jupyter.widget-view+json": {
              "version_major": 2,
              "version_minor": 0,
              "model_id": "d238bda59cea48a1b3322edde085fa4c"
            }
          },
          "metadata": {}
        },
        {
          "output_type": "stream",
          "name": "stderr",
          "text": [
            "/usr/local/lib/python3.10/dist-packages/huggingface_hub/file_download.py:1132: FutureWarning: `resume_download` is deprecated and will be removed in version 1.0.0. Downloads always resume when possible. If you want to force a new download, use `force_download=True`.\n",
            "  warnings.warn(\n"
          ]
        },
        {
          "output_type": "display_data",
          "data": {
            "text/plain": [
              "config.json:   0%|          | 0.00/570 [00:00<?, ?B/s]"
            ],
            "application/vnd.jupyter.widget-view+json": {
              "version_major": 2,
              "version_minor": 0,
              "model_id": "cffc3c847fcf4550a616892ab9342834"
            }
          },
          "metadata": {}
        },
        {
          "output_type": "stream",
          "name": "stdout",
          "text": [
            "전처리된 데이터셋 불러오기 완료.\n"
          ]
        }
      ],
      "source": [
        "class CSVDataset(Dataset):\n",
        "    def __init__(self, file_path, tokenizer, block_size=512):\n",
        "        # 데이터셋 로드\n",
        "        df = pd.read_csv(file_path)\n",
        "        text = \" \".join(df[\"text\"].tolist())\n",
        "        self.examples = []\n",
        "\n",
        "        # 토크나이즈 및 블록 크기로 자르기\n",
        "        for i in tqdm(range(0, len(text) - block_size, block_size), desc=\"Tokenizing text\"):\n",
        "            chunk = text[i:i + block_size]\n",
        "            inputs = tokenizer(chunk, add_special_tokens=True, max_length=block_size, truncation=True, return_tensors=\"pt\", padding=\"max_length\")\n",
        "            inputs['labels'] = inputs.input_ids.clone()\n",
        "            self.examples.append(inputs)\n",
        "\n",
        "    def __len__(self):\n",
        "        return len(self.examples)\n",
        "\n",
        "    def __getitem__(self, i):\n",
        "        return {key: val.squeeze(0) for key, val in self.examples[i].items()}\n",
        "\n",
        "# 데이터셋 저장 함수\n",
        "def save_dataset(dataset, file_path):\n",
        "    torch.save(dataset, file_path)\n",
        "\n",
        "# 데이터셋 로드 함수\n",
        "def load_dataset(file_path):\n",
        "    return torch.load(file_path)\n",
        "\n",
        "# 메인 함수\n",
        "def main():\n",
        "    # 데이터셋 경로 지정\n",
        "    data_dir = \"/content/drive/MyDrive/bookcorpus_reduced.csv\"\n",
        "    file_path = os.path.join(data_dir)\n",
        "    processed_data_path = os.path.join(\"/content/drive/MyDrive/processed_dataset.pt\")\n",
        "\n",
        "    # 토크나이저 초기화\n",
        "    tokenizer = BertTokenizer.from_pretrained(\"bert-base-uncased\")\n",
        "\n",
        "    # 데이터셋 전처리 및 저장\n",
        "    if not os.path.exists(processed_data_path):\n",
        "        full_dataset = CSVDataset(file_path, tokenizer)\n",
        "        save_dataset(full_dataset, processed_data_path)\n",
        "        print(\"전처리된 데이터셋 저장 완료.\")\n",
        "    else:\n",
        "        full_dataset = load_dataset(processed_data_path)\n",
        "        print(\"전처리된 데이터셋 불러오기 완료.\")\n",
        "\n",
        "    # 데이터셋 분할 (80% train, 10% validation, 10% test)\n",
        "    train_size = int(0.8 * len(full_dataset))\n",
        "    val_size = int(0.1 * len(full_dataset))\n",
        "    test_size = len(full_dataset) - train_size - val_size\n",
        "    train_dataset, val_dataset, test_dataset = random_split(full_dataset, [train_size, val_size, test_size])\n",
        "\n",
        "    # 데이터 로더 생성\n",
        "    data_collator = DataCollatorForLanguageModeling(tokenizer=tokenizer, mlm=True, mlm_probability=0.15)\n",
        "    train_dataloader = DataLoader(train_dataset, batch_size=8, collate_fn=data_collator)\n",
        "    validation_dataloader = DataLoader(val_dataset, batch_size=8, collate_fn=data_collator)\n",
        "    test_dataloader = DataLoader(test_dataset, batch_size=8, collate_fn=data_collator)\n",
        "\n",
        "    return train_dataloader, validation_dataloader, test_dataloader, tokenizer\n",
        "\n",
        "train_dataloader, validation_dataloader, test_dataloader, tokenizer = main()"
      ]
    },
    {
      "cell_type": "code",
      "execution_count": 8,
      "metadata": {
        "colab": {
          "base_uri": "https://localhost:8080/"
        },
        "id": "_JDizczOwPIc",
        "outputId": "06c6f118-e4f2-4f0c-955d-019cafc8e15a"
      },
      "outputs": [
        {
          "output_type": "stream",
          "name": "stdout",
          "text": [
            "Epoch 1/3\n"
          ]
        },
        {
          "output_type": "stream",
          "name": "stderr",
          "text": [
            "Training:   4%|▎         | 11/294 [00:07<03:19,  1.42it/s]"
          ]
        },
        {
          "output_type": "stream",
          "name": "stdout",
          "text": [
            "Batch 10, Loss: 9.7244, Perplexity: 16720.3206\n"
          ]
        },
        {
          "output_type": "stream",
          "name": "stderr",
          "text": [
            "Training:   7%|▋         | 21/294 [00:14<03:13,  1.41it/s]"
          ]
        },
        {
          "output_type": "stream",
          "name": "stdout",
          "text": [
            "Batch 20, Loss: 9.4021, Perplexity: 12114.0760\n"
          ]
        },
        {
          "output_type": "stream",
          "name": "stderr",
          "text": [
            "Training:  11%|█         | 31/294 [00:22<03:09,  1.39it/s]"
          ]
        },
        {
          "output_type": "stream",
          "name": "stdout",
          "text": [
            "Batch 30, Loss: 9.1795, Perplexity: 9696.4698\n"
          ]
        },
        {
          "output_type": "stream",
          "name": "stderr",
          "text": [
            "Training:  14%|█▍        | 41/294 [00:29<03:02,  1.39it/s]"
          ]
        },
        {
          "output_type": "stream",
          "name": "stdout",
          "text": [
            "Batch 40, Loss: 8.9741, Perplexity: 7895.6498\n"
          ]
        },
        {
          "output_type": "stream",
          "name": "stderr",
          "text": [
            "Training:  17%|█▋        | 51/294 [00:36<02:55,  1.39it/s]"
          ]
        },
        {
          "output_type": "stream",
          "name": "stdout",
          "text": [
            "Batch 50, Loss: 8.7812, Perplexity: 6510.8274\n"
          ]
        },
        {
          "output_type": "stream",
          "name": "stderr",
          "text": [
            "Training:  21%|██        | 61/294 [00:43<02:46,  1.40it/s]"
          ]
        },
        {
          "output_type": "stream",
          "name": "stdout",
          "text": [
            "Batch 60, Loss: 8.6033, Perplexity: 5449.5263\n"
          ]
        },
        {
          "output_type": "stream",
          "name": "stderr",
          "text": [
            "Training:  24%|██▍       | 71/294 [00:50<02:37,  1.41it/s]"
          ]
        },
        {
          "output_type": "stream",
          "name": "stdout",
          "text": [
            "Batch 70, Loss: 8.4792, Perplexity: 4813.7289\n"
          ]
        },
        {
          "output_type": "stream",
          "name": "stderr",
          "text": [
            "Training:  28%|██▊       | 81/294 [00:57<02:30,  1.42it/s]"
          ]
        },
        {
          "output_type": "stream",
          "name": "stdout",
          "text": [
            "Batch 80, Loss: 8.3362, Perplexity: 4172.2220\n"
          ]
        },
        {
          "output_type": "stream",
          "name": "stderr",
          "text": [
            "Training:  31%|███       | 91/294 [01:04<02:22,  1.42it/s]"
          ]
        },
        {
          "output_type": "stream",
          "name": "stdout",
          "text": [
            "Batch 90, Loss: 8.2225, Perplexity: 3723.7826\n"
          ]
        },
        {
          "output_type": "stream",
          "name": "stderr",
          "text": [
            "Training:  34%|███▍      | 101/294 [01:11<02:14,  1.43it/s]"
          ]
        },
        {
          "output_type": "stream",
          "name": "stdout",
          "text": [
            "Batch 100, Loss: 8.1384, Perplexity: 3423.3145\n"
          ]
        },
        {
          "output_type": "stream",
          "name": "stderr",
          "text": [
            "Training:  38%|███▊      | 111/294 [01:18<02:08,  1.43it/s]"
          ]
        },
        {
          "output_type": "stream",
          "name": "stdout",
          "text": [
            "Batch 110, Loss: 8.0502, Perplexity: 3134.4134\n"
          ]
        },
        {
          "output_type": "stream",
          "name": "stderr",
          "text": [
            "Training:  41%|████      | 121/294 [01:25<02:01,  1.42it/s]"
          ]
        },
        {
          "output_type": "stream",
          "name": "stdout",
          "text": [
            "Batch 120, Loss: 7.9681, Perplexity: 2887.2584\n"
          ]
        },
        {
          "output_type": "stream",
          "name": "stderr",
          "text": [
            "Training:  45%|████▍     | 131/294 [01:32<01:54,  1.42it/s]"
          ]
        },
        {
          "output_type": "stream",
          "name": "stdout",
          "text": [
            "Batch 130, Loss: 7.9007, Perplexity: 2699.2967\n"
          ]
        },
        {
          "output_type": "stream",
          "name": "stderr",
          "text": [
            "Training:  48%|████▊     | 141/294 [01:39<01:48,  1.41it/s]"
          ]
        },
        {
          "output_type": "stream",
          "name": "stdout",
          "text": [
            "Batch 140, Loss: 7.8481, Perplexity: 2560.8287\n"
          ]
        },
        {
          "output_type": "stream",
          "name": "stderr",
          "text": [
            "Training:  51%|█████▏    | 151/294 [01:47<01:41,  1.41it/s]"
          ]
        },
        {
          "output_type": "stream",
          "name": "stdout",
          "text": [
            "Batch 150, Loss: 7.7836, Perplexity: 2400.9800\n"
          ]
        },
        {
          "output_type": "stream",
          "name": "stderr",
          "text": [
            "Training:  55%|█████▍    | 161/294 [01:54<01:34,  1.41it/s]"
          ]
        },
        {
          "output_type": "stream",
          "name": "stdout",
          "text": [
            "Batch 160, Loss: 7.7431, Perplexity: 2305.5121\n"
          ]
        },
        {
          "output_type": "stream",
          "name": "stderr",
          "text": [
            "Training:  58%|█████▊    | 171/294 [02:01<01:27,  1.41it/s]"
          ]
        },
        {
          "output_type": "stream",
          "name": "stdout",
          "text": [
            "Batch 170, Loss: 7.7058, Perplexity: 2221.2586\n"
          ]
        },
        {
          "output_type": "stream",
          "name": "stderr",
          "text": [
            "Training:  62%|██████▏   | 181/294 [02:08<01:20,  1.41it/s]"
          ]
        },
        {
          "output_type": "stream",
          "name": "stdout",
          "text": [
            "Batch 180, Loss: 7.6605, Perplexity: 2122.9138\n"
          ]
        },
        {
          "output_type": "stream",
          "name": "stderr",
          "text": [
            "Training:  65%|██████▍   | 191/294 [02:15<01:12,  1.41it/s]"
          ]
        },
        {
          "output_type": "stream",
          "name": "stdout",
          "text": [
            "Batch 190, Loss: 7.6298, Perplexity: 2058.5372\n"
          ]
        },
        {
          "output_type": "stream",
          "name": "stderr",
          "text": [
            "Training:  68%|██████▊   | 201/294 [02:22<01:05,  1.41it/s]"
          ]
        },
        {
          "output_type": "stream",
          "name": "stdout",
          "text": [
            "Batch 200, Loss: 7.6076, Perplexity: 2013.4586\n"
          ]
        },
        {
          "output_type": "stream",
          "name": "stderr",
          "text": [
            "Training:  72%|███████▏  | 211/294 [02:29<00:58,  1.41it/s]"
          ]
        },
        {
          "output_type": "stream",
          "name": "stdout",
          "text": [
            "Batch 210, Loss: 7.5790, Perplexity: 1956.7628\n"
          ]
        },
        {
          "output_type": "stream",
          "name": "stderr",
          "text": [
            "Training:  75%|███████▌  | 221/294 [02:36<00:51,  1.41it/s]"
          ]
        },
        {
          "output_type": "stream",
          "name": "stdout",
          "text": [
            "Batch 220, Loss: 7.5475, Perplexity: 1895.9557\n"
          ]
        },
        {
          "output_type": "stream",
          "name": "stderr",
          "text": [
            "Training:  79%|███████▊  | 231/294 [02:43<00:44,  1.42it/s]"
          ]
        },
        {
          "output_type": "stream",
          "name": "stdout",
          "text": [
            "Batch 230, Loss: 7.5186, Perplexity: 1841.9422\n"
          ]
        },
        {
          "output_type": "stream",
          "name": "stderr",
          "text": [
            "Training:  82%|████████▏ | 241/294 [02:50<00:37,  1.42it/s]"
          ]
        },
        {
          "output_type": "stream",
          "name": "stdout",
          "text": [
            "Batch 240, Loss: 7.4956, Perplexity: 1800.1246\n"
          ]
        },
        {
          "output_type": "stream",
          "name": "stderr",
          "text": [
            "Training:  85%|████████▌ | 251/294 [02:57<00:30,  1.41it/s]"
          ]
        },
        {
          "output_type": "stream",
          "name": "stdout",
          "text": [
            "Batch 250, Loss: 7.4712, Perplexity: 1756.6390\n"
          ]
        },
        {
          "output_type": "stream",
          "name": "stderr",
          "text": [
            "Training:  89%|████████▉ | 261/294 [03:04<00:23,  1.41it/s]"
          ]
        },
        {
          "output_type": "stream",
          "name": "stdout",
          "text": [
            "Batch 260, Loss: 7.4553, Perplexity: 1728.9986\n"
          ]
        },
        {
          "output_type": "stream",
          "name": "stderr",
          "text": [
            "Training:  92%|█████████▏| 271/294 [03:12<00:16,  1.41it/s]"
          ]
        },
        {
          "output_type": "stream",
          "name": "stdout",
          "text": [
            "Batch 270, Loss: 7.4423, Perplexity: 1706.6137\n"
          ]
        },
        {
          "output_type": "stream",
          "name": "stderr",
          "text": [
            "Training:  96%|█████████▌| 281/294 [03:19<00:09,  1.41it/s]"
          ]
        },
        {
          "output_type": "stream",
          "name": "stdout",
          "text": [
            "Batch 280, Loss: 7.4229, Perplexity: 1673.8869\n"
          ]
        },
        {
          "output_type": "stream",
          "name": "stderr",
          "text": [
            "Training:  99%|█████████▉| 291/294 [03:26<00:02,  1.41it/s]"
          ]
        },
        {
          "output_type": "stream",
          "name": "stdout",
          "text": [
            "Batch 290, Loss: 7.4082, Perplexity: 1649.3729\n"
          ]
        },
        {
          "output_type": "stream",
          "name": "stderr",
          "text": [
            "Training: 100%|██████████| 294/294 [03:27<00:00,  1.41it/s]\n"
          ]
        },
        {
          "output_type": "stream",
          "name": "stdout",
          "text": [
            "Epoch 1 Loss: 7.4040, Perplexity: 1642.5997\n"
          ]
        },
        {
          "output_type": "stream",
          "name": "stderr",
          "text": [
            "Validating: 100%|██████████| 37/37 [00:09<00:00,  4.10it/s]\n"
          ]
        },
        {
          "output_type": "stream",
          "name": "stdout",
          "text": [
            "Validation Loss: 6.9307, Perplexity: 1023.2315\n",
            "Epoch 2/3\n"
          ]
        },
        {
          "output_type": "stream",
          "name": "stderr",
          "text": [
            "Training:   4%|▎         | 11/294 [00:07<03:20,  1.41it/s]"
          ]
        },
        {
          "output_type": "stream",
          "name": "stdout",
          "text": [
            "Batch 10, Loss: 6.9359, Perplexity: 1028.5957\n"
          ]
        },
        {
          "output_type": "stream",
          "name": "stderr",
          "text": [
            "Training:   7%|▋         | 21/294 [00:14<03:13,  1.41it/s]"
          ]
        },
        {
          "output_type": "stream",
          "name": "stdout",
          "text": [
            "Batch 20, Loss: 6.8268, Perplexity: 922.2059\n"
          ]
        },
        {
          "output_type": "stream",
          "name": "stderr",
          "text": [
            "Training:  11%|█         | 31/294 [00:21<03:06,  1.41it/s]"
          ]
        },
        {
          "output_type": "stream",
          "name": "stdout",
          "text": [
            "Batch 30, Loss: 6.8208, Perplexity: 916.7171\n"
          ]
        },
        {
          "output_type": "stream",
          "name": "stderr",
          "text": [
            "Training:  14%|█▍        | 41/294 [00:29<02:58,  1.41it/s]"
          ]
        },
        {
          "output_type": "stream",
          "name": "stdout",
          "text": [
            "Batch 40, Loss: 6.8295, Perplexity: 924.6913\n"
          ]
        },
        {
          "output_type": "stream",
          "name": "stderr",
          "text": [
            "Training:  17%|█▋        | 51/294 [00:36<02:51,  1.41it/s]"
          ]
        },
        {
          "output_type": "stream",
          "name": "stdout",
          "text": [
            "Batch 50, Loss: 6.7961, Perplexity: 894.3715\n"
          ]
        },
        {
          "output_type": "stream",
          "name": "stderr",
          "text": [
            "Training:  21%|██        | 61/294 [00:43<02:44,  1.41it/s]"
          ]
        },
        {
          "output_type": "stream",
          "name": "stdout",
          "text": [
            "Batch 60, Loss: 6.8227, Perplexity: 918.4738\n"
          ]
        },
        {
          "output_type": "stream",
          "name": "stderr",
          "text": [
            "Training:  24%|██▍       | 71/294 [00:50<02:37,  1.41it/s]"
          ]
        },
        {
          "output_type": "stream",
          "name": "stdout",
          "text": [
            "Batch 70, Loss: 6.8209, Perplexity: 916.8174\n"
          ]
        },
        {
          "output_type": "stream",
          "name": "stderr",
          "text": [
            "Training:  28%|██▊       | 81/294 [00:57<02:30,  1.41it/s]"
          ]
        },
        {
          "output_type": "stream",
          "name": "stdout",
          "text": [
            "Batch 80, Loss: 6.8219, Perplexity: 917.6975\n"
          ]
        },
        {
          "output_type": "stream",
          "name": "stderr",
          "text": [
            "Training:  31%|███       | 91/294 [01:04<02:23,  1.41it/s]"
          ]
        },
        {
          "output_type": "stream",
          "name": "stdout",
          "text": [
            "Batch 90, Loss: 6.8138, Perplexity: 910.3085\n"
          ]
        },
        {
          "output_type": "stream",
          "name": "stderr",
          "text": [
            "Training:  34%|███▍      | 101/294 [01:11<02:16,  1.41it/s]"
          ]
        },
        {
          "output_type": "stream",
          "name": "stdout",
          "text": [
            "Batch 100, Loss: 6.8086, Perplexity: 905.6384\n"
          ]
        },
        {
          "output_type": "stream",
          "name": "stderr",
          "text": [
            "Training:  38%|███▊      | 111/294 [01:18<02:09,  1.41it/s]"
          ]
        },
        {
          "output_type": "stream",
          "name": "stdout",
          "text": [
            "Batch 110, Loss: 6.8065, Perplexity: 903.6832\n"
          ]
        },
        {
          "output_type": "stream",
          "name": "stderr",
          "text": [
            "Training:  41%|████      | 121/294 [01:25<02:02,  1.41it/s]"
          ]
        },
        {
          "output_type": "stream",
          "name": "stdout",
          "text": [
            "Batch 120, Loss: 6.8160, Perplexity: 912.3353\n"
          ]
        },
        {
          "output_type": "stream",
          "name": "stderr",
          "text": [
            "Training:  45%|████▍     | 131/294 [01:32<01:55,  1.41it/s]"
          ]
        },
        {
          "output_type": "stream",
          "name": "stdout",
          "text": [
            "Batch 130, Loss: 6.8160, Perplexity: 912.3216\n"
          ]
        },
        {
          "output_type": "stream",
          "name": "stderr",
          "text": [
            "Training:  48%|████▊     | 141/294 [01:39<01:48,  1.41it/s]"
          ]
        },
        {
          "output_type": "stream",
          "name": "stdout",
          "text": [
            "Batch 140, Loss: 6.8180, Perplexity: 914.1458\n"
          ]
        },
        {
          "output_type": "stream",
          "name": "stderr",
          "text": [
            "Training:  51%|█████▏    | 151/294 [01:46<01:41,  1.41it/s]"
          ]
        },
        {
          "output_type": "stream",
          "name": "stdout",
          "text": [
            "Batch 150, Loss: 6.8092, Perplexity: 906.1021\n"
          ]
        },
        {
          "output_type": "stream",
          "name": "stderr",
          "text": [
            "Training:  55%|█████▍    | 161/294 [01:53<01:34,  1.41it/s]"
          ]
        },
        {
          "output_type": "stream",
          "name": "stdout",
          "text": [
            "Batch 160, Loss: 6.8071, Perplexity: 904.2566\n"
          ]
        },
        {
          "output_type": "stream",
          "name": "stderr",
          "text": [
            "Training:  58%|█████▊    | 171/294 [02:01<01:27,  1.41it/s]"
          ]
        },
        {
          "output_type": "stream",
          "name": "stdout",
          "text": [
            "Batch 170, Loss: 6.8036, Perplexity: 901.1108\n"
          ]
        },
        {
          "output_type": "stream",
          "name": "stderr",
          "text": [
            "Training:  62%|██████▏   | 181/294 [02:08<01:20,  1.41it/s]"
          ]
        },
        {
          "output_type": "stream",
          "name": "stdout",
          "text": [
            "Batch 180, Loss: 6.8029, Perplexity: 900.4614\n"
          ]
        },
        {
          "output_type": "stream",
          "name": "stderr",
          "text": [
            "Training:  65%|██████▍   | 191/294 [02:15<01:13,  1.41it/s]"
          ]
        },
        {
          "output_type": "stream",
          "name": "stdout",
          "text": [
            "Batch 190, Loss: 6.8064, Perplexity: 903.5913\n"
          ]
        },
        {
          "output_type": "stream",
          "name": "stderr",
          "text": [
            "Training:  68%|██████▊   | 201/294 [02:22<01:05,  1.41it/s]"
          ]
        },
        {
          "output_type": "stream",
          "name": "stdout",
          "text": [
            "Batch 200, Loss: 6.8086, Perplexity: 905.5906\n"
          ]
        },
        {
          "output_type": "stream",
          "name": "stderr",
          "text": [
            "Training:  72%|███████▏  | 211/294 [02:29<00:58,  1.41it/s]"
          ]
        },
        {
          "output_type": "stream",
          "name": "stdout",
          "text": [
            "Batch 210, Loss: 6.8061, Perplexity: 903.3507\n"
          ]
        },
        {
          "output_type": "stream",
          "name": "stderr",
          "text": [
            "Training:  75%|███████▌  | 221/294 [02:36<00:51,  1.41it/s]"
          ]
        },
        {
          "output_type": "stream",
          "name": "stdout",
          "text": [
            "Batch 220, Loss: 6.7999, Perplexity: 897.7566\n"
          ]
        },
        {
          "output_type": "stream",
          "name": "stderr",
          "text": [
            "Training:  79%|███████▊  | 231/294 [02:43<00:44,  1.41it/s]"
          ]
        },
        {
          "output_type": "stream",
          "name": "stdout",
          "text": [
            "Batch 230, Loss: 6.8003, Perplexity: 898.1040\n"
          ]
        },
        {
          "output_type": "stream",
          "name": "stderr",
          "text": [
            "Training:  82%|████████▏ | 241/294 [02:50<00:37,  1.41it/s]"
          ]
        },
        {
          "output_type": "stream",
          "name": "stdout",
          "text": [
            "Batch 240, Loss: 6.7949, Perplexity: 893.2938\n"
          ]
        },
        {
          "output_type": "stream",
          "name": "stderr",
          "text": [
            "Training:  85%|████████▌ | 251/294 [02:57<00:30,  1.41it/s]"
          ]
        },
        {
          "output_type": "stream",
          "name": "stdout",
          "text": [
            "Batch 250, Loss: 6.7902, Perplexity: 889.1243\n"
          ]
        },
        {
          "output_type": "stream",
          "name": "stderr",
          "text": [
            "Training:  89%|████████▉ | 261/294 [03:04<00:23,  1.41it/s]"
          ]
        },
        {
          "output_type": "stream",
          "name": "stdout",
          "text": [
            "Batch 260, Loss: 6.7909, Perplexity: 889.7512\n"
          ]
        },
        {
          "output_type": "stream",
          "name": "stderr",
          "text": [
            "Training:  92%|█████████▏| 271/294 [03:11<00:16,  1.41it/s]"
          ]
        },
        {
          "output_type": "stream",
          "name": "stdout",
          "text": [
            "Batch 270, Loss: 6.7842, Perplexity: 883.7326\n"
          ]
        },
        {
          "output_type": "stream",
          "name": "stderr",
          "text": [
            "Training:  96%|█████████▌| 281/294 [03:18<00:09,  1.41it/s]"
          ]
        },
        {
          "output_type": "stream",
          "name": "stdout",
          "text": [
            "Batch 280, Loss: 6.7743, Perplexity: 875.0309\n"
          ]
        },
        {
          "output_type": "stream",
          "name": "stderr",
          "text": [
            "Training:  99%|█████████▉| 291/294 [03:26<00:02,  1.41it/s]"
          ]
        },
        {
          "output_type": "stream",
          "name": "stdout",
          "text": [
            "Batch 290, Loss: 6.7735, Perplexity: 874.3711\n"
          ]
        },
        {
          "output_type": "stream",
          "name": "stderr",
          "text": [
            "Training: 100%|██████████| 294/294 [03:27<00:00,  1.41it/s]\n"
          ]
        },
        {
          "output_type": "stream",
          "name": "stdout",
          "text": [
            "Epoch 2 Loss: 6.7713, Perplexity: 872.4054\n"
          ]
        },
        {
          "output_type": "stream",
          "name": "stderr",
          "text": [
            "Validating: 100%|██████████| 37/37 [00:09<00:00,  4.08it/s]\n"
          ]
        },
        {
          "output_type": "stream",
          "name": "stdout",
          "text": [
            "Validation Loss: 6.8242, Perplexity: 919.8685\n",
            "Epoch 3/3\n"
          ]
        },
        {
          "output_type": "stream",
          "name": "stderr",
          "text": [
            "Training:   4%|▎         | 11/294 [00:07<03:20,  1.41it/s]"
          ]
        },
        {
          "output_type": "stream",
          "name": "stdout",
          "text": [
            "Batch 10, Loss: 6.6988, Perplexity: 811.3957\n"
          ]
        },
        {
          "output_type": "stream",
          "name": "stderr",
          "text": [
            "Training:   7%|▋         | 21/294 [00:14<03:13,  1.41it/s]"
          ]
        },
        {
          "output_type": "stream",
          "name": "stdout",
          "text": [
            "Batch 20, Loss: 6.6045, Perplexity: 738.4345\n"
          ]
        },
        {
          "output_type": "stream",
          "name": "stderr",
          "text": [
            "Training:  11%|█         | 31/294 [00:21<03:06,  1.41it/s]"
          ]
        },
        {
          "output_type": "stream",
          "name": "stdout",
          "text": [
            "Batch 30, Loss: 6.6334, Perplexity: 760.0898\n"
          ]
        },
        {
          "output_type": "stream",
          "name": "stderr",
          "text": [
            "Training:  14%|█▍        | 41/294 [00:29<02:58,  1.42it/s]"
          ]
        },
        {
          "output_type": "stream",
          "name": "stdout",
          "text": [
            "Batch 40, Loss: 6.6635, Perplexity: 783.3077\n"
          ]
        },
        {
          "output_type": "stream",
          "name": "stderr",
          "text": [
            "Training:  17%|█▋        | 51/294 [00:36<02:51,  1.41it/s]"
          ]
        },
        {
          "output_type": "stream",
          "name": "stdout",
          "text": [
            "Batch 50, Loss: 6.6550, Perplexity: 776.6632\n"
          ]
        },
        {
          "output_type": "stream",
          "name": "stderr",
          "text": [
            "Training:  21%|██        | 61/294 [00:43<02:44,  1.41it/s]"
          ]
        },
        {
          "output_type": "stream",
          "name": "stdout",
          "text": [
            "Batch 60, Loss: 6.6636, Perplexity: 783.3502\n"
          ]
        },
        {
          "output_type": "stream",
          "name": "stderr",
          "text": [
            "Training:  24%|██▍       | 71/294 [00:50<02:37,  1.41it/s]"
          ]
        },
        {
          "output_type": "stream",
          "name": "stdout",
          "text": [
            "Batch 70, Loss: 6.6619, Perplexity: 782.0079\n"
          ]
        },
        {
          "output_type": "stream",
          "name": "stderr",
          "text": [
            "Training:  28%|██▊       | 81/294 [00:57<02:31,  1.41it/s]"
          ]
        },
        {
          "output_type": "stream",
          "name": "stdout",
          "text": [
            "Batch 80, Loss: 6.6588, Perplexity: 779.6454\n"
          ]
        },
        {
          "output_type": "stream",
          "name": "stderr",
          "text": [
            "Training:  31%|███       | 91/294 [01:04<02:24,  1.41it/s]"
          ]
        },
        {
          "output_type": "stream",
          "name": "stdout",
          "text": [
            "Batch 90, Loss: 6.6575, Perplexity: 778.6327\n"
          ]
        },
        {
          "output_type": "stream",
          "name": "stderr",
          "text": [
            "Training:  34%|███▍      | 101/294 [01:11<02:16,  1.41it/s]"
          ]
        },
        {
          "output_type": "stream",
          "name": "stdout",
          "text": [
            "Batch 100, Loss: 6.6483, Perplexity: 771.4609\n"
          ]
        },
        {
          "output_type": "stream",
          "name": "stderr",
          "text": [
            "Training:  38%|███▊      | 111/294 [01:18<02:09,  1.41it/s]"
          ]
        },
        {
          "output_type": "stream",
          "name": "stdout",
          "text": [
            "Batch 110, Loss: 6.6499, Perplexity: 772.6750\n"
          ]
        },
        {
          "output_type": "stream",
          "name": "stderr",
          "text": [
            "Training:  41%|████      | 121/294 [01:25<02:02,  1.41it/s]"
          ]
        },
        {
          "output_type": "stream",
          "name": "stdout",
          "text": [
            "Batch 120, Loss: 6.6418, Perplexity: 766.4489\n"
          ]
        },
        {
          "output_type": "stream",
          "name": "stderr",
          "text": [
            "Training:  45%|████▍     | 131/294 [01:32<01:55,  1.41it/s]"
          ]
        },
        {
          "output_type": "stream",
          "name": "stdout",
          "text": [
            "Batch 130, Loss: 6.6453, Perplexity: 769.1809\n"
          ]
        },
        {
          "output_type": "stream",
          "name": "stderr",
          "text": [
            "Training:  48%|████▊     | 141/294 [01:39<01:48,  1.41it/s]"
          ]
        },
        {
          "output_type": "stream",
          "name": "stdout",
          "text": [
            "Batch 140, Loss: 6.6447, Perplexity: 768.7087\n"
          ]
        },
        {
          "output_type": "stream",
          "name": "stderr",
          "text": [
            "Training:  51%|█████▏    | 151/294 [01:47<01:41,  1.41it/s]"
          ]
        },
        {
          "output_type": "stream",
          "name": "stdout",
          "text": [
            "Batch 150, Loss: 6.6468, Perplexity: 770.2881\n"
          ]
        },
        {
          "output_type": "stream",
          "name": "stderr",
          "text": [
            "Training:  55%|█████▍    | 161/294 [01:54<01:34,  1.41it/s]"
          ]
        },
        {
          "output_type": "stream",
          "name": "stdout",
          "text": [
            "Batch 160, Loss: 6.6453, Perplexity: 769.1636\n"
          ]
        },
        {
          "output_type": "stream",
          "name": "stderr",
          "text": [
            "Training:  58%|█████▊    | 171/294 [02:01<01:27,  1.41it/s]"
          ]
        },
        {
          "output_type": "stream",
          "name": "stdout",
          "text": [
            "Batch 170, Loss: 6.6534, Perplexity: 775.4183\n"
          ]
        },
        {
          "output_type": "stream",
          "name": "stderr",
          "text": [
            "Training:  62%|██████▏   | 181/294 [02:08<01:20,  1.41it/s]"
          ]
        },
        {
          "output_type": "stream",
          "name": "stdout",
          "text": [
            "Batch 180, Loss: 6.6555, Perplexity: 777.0123\n"
          ]
        },
        {
          "output_type": "stream",
          "name": "stderr",
          "text": [
            "Training:  65%|██████▍   | 191/294 [02:15<01:12,  1.41it/s]"
          ]
        },
        {
          "output_type": "stream",
          "name": "stdout",
          "text": [
            "Batch 190, Loss: 6.6591, Perplexity: 779.8541\n"
          ]
        },
        {
          "output_type": "stream",
          "name": "stderr",
          "text": [
            "Training:  68%|██████▊   | 201/294 [02:22<01:05,  1.41it/s]"
          ]
        },
        {
          "output_type": "stream",
          "name": "stdout",
          "text": [
            "Batch 200, Loss: 6.6640, Perplexity: 783.6477\n"
          ]
        },
        {
          "output_type": "stream",
          "name": "stderr",
          "text": [
            "Training:  72%|███████▏  | 211/294 [02:29<00:58,  1.41it/s]"
          ]
        },
        {
          "output_type": "stream",
          "name": "stdout",
          "text": [
            "Batch 210, Loss: 6.6591, Perplexity: 779.8111\n"
          ]
        },
        {
          "output_type": "stream",
          "name": "stderr",
          "text": [
            "Training:  75%|███████▌  | 221/294 [02:36<00:51,  1.41it/s]"
          ]
        },
        {
          "output_type": "stream",
          "name": "stdout",
          "text": [
            "Batch 220, Loss: 6.6590, Perplexity: 779.7504\n"
          ]
        },
        {
          "output_type": "stream",
          "name": "stderr",
          "text": [
            "Training:  79%|███████▊  | 231/294 [02:43<00:44,  1.41it/s]"
          ]
        },
        {
          "output_type": "stream",
          "name": "stdout",
          "text": [
            "Batch 230, Loss: 6.6520, Perplexity: 774.3239\n"
          ]
        },
        {
          "output_type": "stream",
          "name": "stderr",
          "text": [
            "Training:  82%|████████▏ | 241/294 [02:50<00:37,  1.41it/s]"
          ]
        },
        {
          "output_type": "stream",
          "name": "stdout",
          "text": [
            "Batch 240, Loss: 6.6513, Perplexity: 773.7779\n"
          ]
        },
        {
          "output_type": "stream",
          "name": "stderr",
          "text": [
            "Training:  85%|████████▌ | 251/294 [02:57<00:30,  1.41it/s]"
          ]
        },
        {
          "output_type": "stream",
          "name": "stdout",
          "text": [
            "Batch 250, Loss: 6.6506, Perplexity: 773.2301\n"
          ]
        },
        {
          "output_type": "stream",
          "name": "stderr",
          "text": [
            "Training:  89%|████████▉ | 261/294 [03:04<00:23,  1.41it/s]"
          ]
        },
        {
          "output_type": "stream",
          "name": "stdout",
          "text": [
            "Batch 260, Loss: 6.6548, Perplexity: 776.4877\n"
          ]
        },
        {
          "output_type": "stream",
          "name": "stderr",
          "text": [
            "Training:  92%|█████████▏| 271/294 [03:12<00:16,  1.41it/s]"
          ]
        },
        {
          "output_type": "stream",
          "name": "stdout",
          "text": [
            "Batch 270, Loss: 6.6519, Perplexity: 774.2525\n"
          ]
        },
        {
          "output_type": "stream",
          "name": "stderr",
          "text": [
            "Training:  96%|█████████▌| 281/294 [03:19<00:09,  1.41it/s]"
          ]
        },
        {
          "output_type": "stream",
          "name": "stdout",
          "text": [
            "Batch 280, Loss: 6.6538, Perplexity: 775.6907\n"
          ]
        },
        {
          "output_type": "stream",
          "name": "stderr",
          "text": [
            "Training:  99%|█████████▉| 291/294 [03:26<00:02,  1.41it/s]"
          ]
        },
        {
          "output_type": "stream",
          "name": "stdout",
          "text": [
            "Batch 290, Loss: 6.6511, Perplexity: 773.6391\n"
          ]
        },
        {
          "output_type": "stream",
          "name": "stderr",
          "text": [
            "Training: 100%|██████████| 294/294 [03:27<00:00,  1.41it/s]\n"
          ]
        },
        {
          "output_type": "stream",
          "name": "stdout",
          "text": [
            "Epoch 3 Loss: 6.6491, Perplexity: 772.1156\n"
          ]
        },
        {
          "output_type": "stream",
          "name": "stderr",
          "text": [
            "Validating: 100%|██████████| 37/37 [00:09<00:00,  4.07it/s]\n"
          ]
        },
        {
          "output_type": "stream",
          "name": "stdout",
          "text": [
            "Validation Loss: 6.6065, Perplexity: 739.8988\n"
          ]
        },
        {
          "output_type": "stream",
          "name": "stderr",
          "text": [
            "Testing: 100%|██████████| 37/37 [00:09<00:00,  4.05it/s]"
          ]
        },
        {
          "output_type": "stream",
          "name": "stdout",
          "text": [
            "Test Loss: 6.6214, Perplexity: 750.9805\n"
          ]
        },
        {
          "output_type": "stream",
          "name": "stderr",
          "text": [
            "\n"
          ]
        }
      ],
      "source": [
        "def calculate_perplexity(loss):\n",
        "    return math.exp(loss)\n",
        "\n",
        "def train(model, train_dataloader, validation_dataloader, tokenizer, device, epochs=3):\n",
        "    model.train()  # 모델을 학습 모드로 설정\n",
        "    model.to(device)  # 모델을 지정된 장치로 이동\n",
        "    optimizer = AdamW(model.parameters(), lr=5e-5)  # 옵티마이저 설정\n",
        "\n",
        "    # 에포크만큼 반복\n",
        "    for epoch in range(epochs):\n",
        "        print(f\"Epoch {epoch + 1}/{epochs}\")\n",
        "        running_loss = 0.0\n",
        "\n",
        "        # 데이터 로더에서 미니배치를 하나씩 가져와서 학습\n",
        "        for step, batch in enumerate(tqdm(train_dataloader, desc=\"Training\")):\n",
        "            inputs = {key: val.to(device) for key, val in batch.items()}\n",
        "\n",
        "            outputs = model(**inputs)\n",
        "            loss = outputs.loss\n",
        "\n",
        "            optimizer.zero_grad()\n",
        "            loss.backward()\n",
        "            optimizer.step()\n",
        "\n",
        "            running_loss += loss.item()\n",
        "\n",
        "            # 10번째 배치마다 현재 손실과 퍼플렉서티 출력\n",
        "            if step % 10 == 0 and step != 0:\n",
        "                current_loss = running_loss / (step + 1)\n",
        "                current_perplexity = calculate_perplexity(current_loss)\n",
        "                print(f\"Batch {step}, Loss: {current_loss:.4f}, Perplexity: {current_perplexity:.4f}\")\n",
        "\n",
        "        # 에포크의 손실과 퍼플렉서티 출력\n",
        "        epoch_loss = running_loss / len(train_dataloader)\n",
        "        epoch_perplexity = calculate_perplexity(epoch_loss)\n",
        "        print(f\"Epoch {epoch + 1} Loss: {epoch_loss:.4f}, Perplexity: {epoch_perplexity:.4f}\")\n",
        "\n",
        "        # 검증 단계\n",
        "        model.eval()  # 모델을 평가 모드로 설정\n",
        "        validation_loss = 0.0\n",
        "\n",
        "        with torch.no_grad():\n",
        "            for step, batch in enumerate(tqdm(validation_dataloader, desc=\"Validating\")):\n",
        "                inputs = {key: val.to(device) for key, val in batch.items()}\n",
        "\n",
        "                outputs = model(**inputs)\n",
        "                loss = outputs.loss\n",
        "\n",
        "                validation_loss += loss.item()\n",
        "\n",
        "        # 검증 손실과 퍼플렉서티 출력\n",
        "        epoch_val_loss = validation_loss / len(validation_dataloader)\n",
        "        epoch_val_perplexity = calculate_perplexity(epoch_val_loss)\n",
        "        print(f\"Validation Loss: {epoch_val_loss:.4f}, Perplexity: {epoch_val_perplexity:.4f}\")\n",
        "        model.train()  # 평가 후에 모델을 다시 학습 모드로 설정\n",
        "\n",
        "def test(model, test_dataloader, device):\n",
        "    model.eval()  # 모델을 평가 모드로 설정\n",
        "    test_loss = 0.0\n",
        "\n",
        "    with torch.no_grad():\n",
        "        for batch in tqdm(test_dataloader, desc=\"Testing\"):\n",
        "            inputs = {key: val.to(device) for key, val in batch.items()}\n",
        "            outputs = model(**inputs)\n",
        "            loss = outputs.loss\n",
        "            test_loss += loss.item()\n",
        "\n",
        "    # 테스트 데이터셋의 퍼플렉서티 출력\n",
        "    test_loss = test_loss / len(test_dataloader)\n",
        "    test_perplexity = calculate_perplexity(test_loss)\n",
        "    print(f\"Test Loss: {test_loss:.4f}, Perplexity: {test_perplexity:.4f}\")\n",
        "\n",
        "# 데이터셋과 데이터 로더 설정\n",
        "# (이 부분은 주어진 코드에서 제공된 데이터 로더를 사용한다고 가정합니다)\n",
        "device = torch.device(\"cuda\" if torch.cuda.is_available() else \"cpu\")\n",
        "model = BertForPreTraining(Config)\n",
        "train(model, train_dataloader, validation_dataloader, tokenizer, device, epochs=3)\n",
        "test(model, test_dataloader, device)"
      ]
    }
  ],
  "metadata": {
    "accelerator": "GPU",
    "colab": {
      "gpuType": "T4",
      "machine_shape": "hm",
      "provenance": [],
      "include_colab_link": true
    },
    "kernelspec": {
      "display_name": "Python 3",
      "name": "python3"
    },
    "language_info": {
      "name": "python"
    },
    "widgets": {
      "application/vnd.jupyter.widget-state+json": {
        "e041a70f60484f408e2f8556d591168f": {
          "model_module": "@jupyter-widgets/controls",
          "model_name": "HBoxModel",
          "model_module_version": "1.5.0",
          "state": {
            "_dom_classes": [],
            "_model_module": "@jupyter-widgets/controls",
            "_model_module_version": "1.5.0",
            "_model_name": "HBoxModel",
            "_view_count": null,
            "_view_module": "@jupyter-widgets/controls",
            "_view_module_version": "1.5.0",
            "_view_name": "HBoxView",
            "box_style": "",
            "children": [
              "IPY_MODEL_97ceb725693841e5b6feac8326711dc3",
              "IPY_MODEL_9c565ba6f7094ad3856a7c6185612c95",
              "IPY_MODEL_bd9d0aacfcd14ff294bf8331cc96638a"
            ],
            "layout": "IPY_MODEL_243b9158096c42529bbaf2527edcf468"
          }
        },
        "97ceb725693841e5b6feac8326711dc3": {
          "model_module": "@jupyter-widgets/controls",
          "model_name": "HTMLModel",
          "model_module_version": "1.5.0",
          "state": {
            "_dom_classes": [],
            "_model_module": "@jupyter-widgets/controls",
            "_model_module_version": "1.5.0",
            "_model_name": "HTMLModel",
            "_view_count": null,
            "_view_module": "@jupyter-widgets/controls",
            "_view_module_version": "1.5.0",
            "_view_name": "HTMLView",
            "description": "",
            "description_tooltip": null,
            "layout": "IPY_MODEL_08af028d92e74f4d85d9b346a48aa0ef",
            "placeholder": "​",
            "style": "IPY_MODEL_76a3b34d4bff44ce94455f6a38d86a0f",
            "value": "tokenizer_config.json: 100%"
          }
        },
        "9c565ba6f7094ad3856a7c6185612c95": {
          "model_module": "@jupyter-widgets/controls",
          "model_name": "FloatProgressModel",
          "model_module_version": "1.5.0",
          "state": {
            "_dom_classes": [],
            "_model_module": "@jupyter-widgets/controls",
            "_model_module_version": "1.5.0",
            "_model_name": "FloatProgressModel",
            "_view_count": null,
            "_view_module": "@jupyter-widgets/controls",
            "_view_module_version": "1.5.0",
            "_view_name": "ProgressView",
            "bar_style": "success",
            "description": "",
            "description_tooltip": null,
            "layout": "IPY_MODEL_276a27b9049a4dfca7e7332c0032ee82",
            "max": 48,
            "min": 0,
            "orientation": "horizontal",
            "style": "IPY_MODEL_6f1a2b2a09064c87b557e741fb45dc94",
            "value": 48
          }
        },
        "bd9d0aacfcd14ff294bf8331cc96638a": {
          "model_module": "@jupyter-widgets/controls",
          "model_name": "HTMLModel",
          "model_module_version": "1.5.0",
          "state": {
            "_dom_classes": [],
            "_model_module": "@jupyter-widgets/controls",
            "_model_module_version": "1.5.0",
            "_model_name": "HTMLModel",
            "_view_count": null,
            "_view_module": "@jupyter-widgets/controls",
            "_view_module_version": "1.5.0",
            "_view_name": "HTMLView",
            "description": "",
            "description_tooltip": null,
            "layout": "IPY_MODEL_a864ca402dc74e228a9e799667d0156e",
            "placeholder": "​",
            "style": "IPY_MODEL_398e624ab63c411ca836cf900f58f253",
            "value": " 48.0/48.0 [00:00&lt;00:00, 3.96kB/s]"
          }
        },
        "243b9158096c42529bbaf2527edcf468": {
          "model_module": "@jupyter-widgets/base",
          "model_name": "LayoutModel",
          "model_module_version": "1.2.0",
          "state": {
            "_model_module": "@jupyter-widgets/base",
            "_model_module_version": "1.2.0",
            "_model_name": "LayoutModel",
            "_view_count": null,
            "_view_module": "@jupyter-widgets/base",
            "_view_module_version": "1.2.0",
            "_view_name": "LayoutView",
            "align_content": null,
            "align_items": null,
            "align_self": null,
            "border": null,
            "bottom": null,
            "display": null,
            "flex": null,
            "flex_flow": null,
            "grid_area": null,
            "grid_auto_columns": null,
            "grid_auto_flow": null,
            "grid_auto_rows": null,
            "grid_column": null,
            "grid_gap": null,
            "grid_row": null,
            "grid_template_areas": null,
            "grid_template_columns": null,
            "grid_template_rows": null,
            "height": null,
            "justify_content": null,
            "justify_items": null,
            "left": null,
            "margin": null,
            "max_height": null,
            "max_width": null,
            "min_height": null,
            "min_width": null,
            "object_fit": null,
            "object_position": null,
            "order": null,
            "overflow": null,
            "overflow_x": null,
            "overflow_y": null,
            "padding": null,
            "right": null,
            "top": null,
            "visibility": null,
            "width": null
          }
        },
        "08af028d92e74f4d85d9b346a48aa0ef": {
          "model_module": "@jupyter-widgets/base",
          "model_name": "LayoutModel",
          "model_module_version": "1.2.0",
          "state": {
            "_model_module": "@jupyter-widgets/base",
            "_model_module_version": "1.2.0",
            "_model_name": "LayoutModel",
            "_view_count": null,
            "_view_module": "@jupyter-widgets/base",
            "_view_module_version": "1.2.0",
            "_view_name": "LayoutView",
            "align_content": null,
            "align_items": null,
            "align_self": null,
            "border": null,
            "bottom": null,
            "display": null,
            "flex": null,
            "flex_flow": null,
            "grid_area": null,
            "grid_auto_columns": null,
            "grid_auto_flow": null,
            "grid_auto_rows": null,
            "grid_column": null,
            "grid_gap": null,
            "grid_row": null,
            "grid_template_areas": null,
            "grid_template_columns": null,
            "grid_template_rows": null,
            "height": null,
            "justify_content": null,
            "justify_items": null,
            "left": null,
            "margin": null,
            "max_height": null,
            "max_width": null,
            "min_height": null,
            "min_width": null,
            "object_fit": null,
            "object_position": null,
            "order": null,
            "overflow": null,
            "overflow_x": null,
            "overflow_y": null,
            "padding": null,
            "right": null,
            "top": null,
            "visibility": null,
            "width": null
          }
        },
        "76a3b34d4bff44ce94455f6a38d86a0f": {
          "model_module": "@jupyter-widgets/controls",
          "model_name": "DescriptionStyleModel",
          "model_module_version": "1.5.0",
          "state": {
            "_model_module": "@jupyter-widgets/controls",
            "_model_module_version": "1.5.0",
            "_model_name": "DescriptionStyleModel",
            "_view_count": null,
            "_view_module": "@jupyter-widgets/base",
            "_view_module_version": "1.2.0",
            "_view_name": "StyleView",
            "description_width": ""
          }
        },
        "276a27b9049a4dfca7e7332c0032ee82": {
          "model_module": "@jupyter-widgets/base",
          "model_name": "LayoutModel",
          "model_module_version": "1.2.0",
          "state": {
            "_model_module": "@jupyter-widgets/base",
            "_model_module_version": "1.2.0",
            "_model_name": "LayoutModel",
            "_view_count": null,
            "_view_module": "@jupyter-widgets/base",
            "_view_module_version": "1.2.0",
            "_view_name": "LayoutView",
            "align_content": null,
            "align_items": null,
            "align_self": null,
            "border": null,
            "bottom": null,
            "display": null,
            "flex": null,
            "flex_flow": null,
            "grid_area": null,
            "grid_auto_columns": null,
            "grid_auto_flow": null,
            "grid_auto_rows": null,
            "grid_column": null,
            "grid_gap": null,
            "grid_row": null,
            "grid_template_areas": null,
            "grid_template_columns": null,
            "grid_template_rows": null,
            "height": null,
            "justify_content": null,
            "justify_items": null,
            "left": null,
            "margin": null,
            "max_height": null,
            "max_width": null,
            "min_height": null,
            "min_width": null,
            "object_fit": null,
            "object_position": null,
            "order": null,
            "overflow": null,
            "overflow_x": null,
            "overflow_y": null,
            "padding": null,
            "right": null,
            "top": null,
            "visibility": null,
            "width": null
          }
        },
        "6f1a2b2a09064c87b557e741fb45dc94": {
          "model_module": "@jupyter-widgets/controls",
          "model_name": "ProgressStyleModel",
          "model_module_version": "1.5.0",
          "state": {
            "_model_module": "@jupyter-widgets/controls",
            "_model_module_version": "1.5.0",
            "_model_name": "ProgressStyleModel",
            "_view_count": null,
            "_view_module": "@jupyter-widgets/base",
            "_view_module_version": "1.2.0",
            "_view_name": "StyleView",
            "bar_color": null,
            "description_width": ""
          }
        },
        "a864ca402dc74e228a9e799667d0156e": {
          "model_module": "@jupyter-widgets/base",
          "model_name": "LayoutModel",
          "model_module_version": "1.2.0",
          "state": {
            "_model_module": "@jupyter-widgets/base",
            "_model_module_version": "1.2.0",
            "_model_name": "LayoutModel",
            "_view_count": null,
            "_view_module": "@jupyter-widgets/base",
            "_view_module_version": "1.2.0",
            "_view_name": "LayoutView",
            "align_content": null,
            "align_items": null,
            "align_self": null,
            "border": null,
            "bottom": null,
            "display": null,
            "flex": null,
            "flex_flow": null,
            "grid_area": null,
            "grid_auto_columns": null,
            "grid_auto_flow": null,
            "grid_auto_rows": null,
            "grid_column": null,
            "grid_gap": null,
            "grid_row": null,
            "grid_template_areas": null,
            "grid_template_columns": null,
            "grid_template_rows": null,
            "height": null,
            "justify_content": null,
            "justify_items": null,
            "left": null,
            "margin": null,
            "max_height": null,
            "max_width": null,
            "min_height": null,
            "min_width": null,
            "object_fit": null,
            "object_position": null,
            "order": null,
            "overflow": null,
            "overflow_x": null,
            "overflow_y": null,
            "padding": null,
            "right": null,
            "top": null,
            "visibility": null,
            "width": null
          }
        },
        "398e624ab63c411ca836cf900f58f253": {
          "model_module": "@jupyter-widgets/controls",
          "model_name": "DescriptionStyleModel",
          "model_module_version": "1.5.0",
          "state": {
            "_model_module": "@jupyter-widgets/controls",
            "_model_module_version": "1.5.0",
            "_model_name": "DescriptionStyleModel",
            "_view_count": null,
            "_view_module": "@jupyter-widgets/base",
            "_view_module_version": "1.2.0",
            "_view_name": "StyleView",
            "description_width": ""
          }
        },
        "ee56a4c0006d4fe8bc950056b8b81228": {
          "model_module": "@jupyter-widgets/controls",
          "model_name": "HBoxModel",
          "model_module_version": "1.5.0",
          "state": {
            "_dom_classes": [],
            "_model_module": "@jupyter-widgets/controls",
            "_model_module_version": "1.5.0",
            "_model_name": "HBoxModel",
            "_view_count": null,
            "_view_module": "@jupyter-widgets/controls",
            "_view_module_version": "1.5.0",
            "_view_name": "HBoxView",
            "box_style": "",
            "children": [
              "IPY_MODEL_afa6875021f2470daa5f5363419e0316",
              "IPY_MODEL_2c06ada9e9384abc8f78e3ed32edb761",
              "IPY_MODEL_388fbbde29b74b3dbbf949fec9f51fc0"
            ],
            "layout": "IPY_MODEL_1f49ae5025d34172b66c7db3ce6b71e6"
          }
        },
        "afa6875021f2470daa5f5363419e0316": {
          "model_module": "@jupyter-widgets/controls",
          "model_name": "HTMLModel",
          "model_module_version": "1.5.0",
          "state": {
            "_dom_classes": [],
            "_model_module": "@jupyter-widgets/controls",
            "_model_module_version": "1.5.0",
            "_model_name": "HTMLModel",
            "_view_count": null,
            "_view_module": "@jupyter-widgets/controls",
            "_view_module_version": "1.5.0",
            "_view_name": "HTMLView",
            "description": "",
            "description_tooltip": null,
            "layout": "IPY_MODEL_97f7b33b6429477392d62ca2c66d0bf4",
            "placeholder": "​",
            "style": "IPY_MODEL_9e85fd89138d4ed7aac7d8cbf1b322c1",
            "value": "vocab.txt: 100%"
          }
        },
        "2c06ada9e9384abc8f78e3ed32edb761": {
          "model_module": "@jupyter-widgets/controls",
          "model_name": "FloatProgressModel",
          "model_module_version": "1.5.0",
          "state": {
            "_dom_classes": [],
            "_model_module": "@jupyter-widgets/controls",
            "_model_module_version": "1.5.0",
            "_model_name": "FloatProgressModel",
            "_view_count": null,
            "_view_module": "@jupyter-widgets/controls",
            "_view_module_version": "1.5.0",
            "_view_name": "ProgressView",
            "bar_style": "success",
            "description": "",
            "description_tooltip": null,
            "layout": "IPY_MODEL_2971f61894f441c5942e851c63adf071",
            "max": 231508,
            "min": 0,
            "orientation": "horizontal",
            "style": "IPY_MODEL_99f266b4d95d4224a9516b1c296e202c",
            "value": 231508
          }
        },
        "388fbbde29b74b3dbbf949fec9f51fc0": {
          "model_module": "@jupyter-widgets/controls",
          "model_name": "HTMLModel",
          "model_module_version": "1.5.0",
          "state": {
            "_dom_classes": [],
            "_model_module": "@jupyter-widgets/controls",
            "_model_module_version": "1.5.0",
            "_model_name": "HTMLModel",
            "_view_count": null,
            "_view_module": "@jupyter-widgets/controls",
            "_view_module_version": "1.5.0",
            "_view_name": "HTMLView",
            "description": "",
            "description_tooltip": null,
            "layout": "IPY_MODEL_32d6d5d25da04c57a8c1d2030675e9ae",
            "placeholder": "​",
            "style": "IPY_MODEL_ec65029b55fa46af9bd7cb7fdc759048",
            "value": " 232k/232k [00:00&lt;00:00, 5.21MB/s]"
          }
        },
        "1f49ae5025d34172b66c7db3ce6b71e6": {
          "model_module": "@jupyter-widgets/base",
          "model_name": "LayoutModel",
          "model_module_version": "1.2.0",
          "state": {
            "_model_module": "@jupyter-widgets/base",
            "_model_module_version": "1.2.0",
            "_model_name": "LayoutModel",
            "_view_count": null,
            "_view_module": "@jupyter-widgets/base",
            "_view_module_version": "1.2.0",
            "_view_name": "LayoutView",
            "align_content": null,
            "align_items": null,
            "align_self": null,
            "border": null,
            "bottom": null,
            "display": null,
            "flex": null,
            "flex_flow": null,
            "grid_area": null,
            "grid_auto_columns": null,
            "grid_auto_flow": null,
            "grid_auto_rows": null,
            "grid_column": null,
            "grid_gap": null,
            "grid_row": null,
            "grid_template_areas": null,
            "grid_template_columns": null,
            "grid_template_rows": null,
            "height": null,
            "justify_content": null,
            "justify_items": null,
            "left": null,
            "margin": null,
            "max_height": null,
            "max_width": null,
            "min_height": null,
            "min_width": null,
            "object_fit": null,
            "object_position": null,
            "order": null,
            "overflow": null,
            "overflow_x": null,
            "overflow_y": null,
            "padding": null,
            "right": null,
            "top": null,
            "visibility": null,
            "width": null
          }
        },
        "97f7b33b6429477392d62ca2c66d0bf4": {
          "model_module": "@jupyter-widgets/base",
          "model_name": "LayoutModel",
          "model_module_version": "1.2.0",
          "state": {
            "_model_module": "@jupyter-widgets/base",
            "_model_module_version": "1.2.0",
            "_model_name": "LayoutModel",
            "_view_count": null,
            "_view_module": "@jupyter-widgets/base",
            "_view_module_version": "1.2.0",
            "_view_name": "LayoutView",
            "align_content": null,
            "align_items": null,
            "align_self": null,
            "border": null,
            "bottom": null,
            "display": null,
            "flex": null,
            "flex_flow": null,
            "grid_area": null,
            "grid_auto_columns": null,
            "grid_auto_flow": null,
            "grid_auto_rows": null,
            "grid_column": null,
            "grid_gap": null,
            "grid_row": null,
            "grid_template_areas": null,
            "grid_template_columns": null,
            "grid_template_rows": null,
            "height": null,
            "justify_content": null,
            "justify_items": null,
            "left": null,
            "margin": null,
            "max_height": null,
            "max_width": null,
            "min_height": null,
            "min_width": null,
            "object_fit": null,
            "object_position": null,
            "order": null,
            "overflow": null,
            "overflow_x": null,
            "overflow_y": null,
            "padding": null,
            "right": null,
            "top": null,
            "visibility": null,
            "width": null
          }
        },
        "9e85fd89138d4ed7aac7d8cbf1b322c1": {
          "model_module": "@jupyter-widgets/controls",
          "model_name": "DescriptionStyleModel",
          "model_module_version": "1.5.0",
          "state": {
            "_model_module": "@jupyter-widgets/controls",
            "_model_module_version": "1.5.0",
            "_model_name": "DescriptionStyleModel",
            "_view_count": null,
            "_view_module": "@jupyter-widgets/base",
            "_view_module_version": "1.2.0",
            "_view_name": "StyleView",
            "description_width": ""
          }
        },
        "2971f61894f441c5942e851c63adf071": {
          "model_module": "@jupyter-widgets/base",
          "model_name": "LayoutModel",
          "model_module_version": "1.2.0",
          "state": {
            "_model_module": "@jupyter-widgets/base",
            "_model_module_version": "1.2.0",
            "_model_name": "LayoutModel",
            "_view_count": null,
            "_view_module": "@jupyter-widgets/base",
            "_view_module_version": "1.2.0",
            "_view_name": "LayoutView",
            "align_content": null,
            "align_items": null,
            "align_self": null,
            "border": null,
            "bottom": null,
            "display": null,
            "flex": null,
            "flex_flow": null,
            "grid_area": null,
            "grid_auto_columns": null,
            "grid_auto_flow": null,
            "grid_auto_rows": null,
            "grid_column": null,
            "grid_gap": null,
            "grid_row": null,
            "grid_template_areas": null,
            "grid_template_columns": null,
            "grid_template_rows": null,
            "height": null,
            "justify_content": null,
            "justify_items": null,
            "left": null,
            "margin": null,
            "max_height": null,
            "max_width": null,
            "min_height": null,
            "min_width": null,
            "object_fit": null,
            "object_position": null,
            "order": null,
            "overflow": null,
            "overflow_x": null,
            "overflow_y": null,
            "padding": null,
            "right": null,
            "top": null,
            "visibility": null,
            "width": null
          }
        },
        "99f266b4d95d4224a9516b1c296e202c": {
          "model_module": "@jupyter-widgets/controls",
          "model_name": "ProgressStyleModel",
          "model_module_version": "1.5.0",
          "state": {
            "_model_module": "@jupyter-widgets/controls",
            "_model_module_version": "1.5.0",
            "_model_name": "ProgressStyleModel",
            "_view_count": null,
            "_view_module": "@jupyter-widgets/base",
            "_view_module_version": "1.2.0",
            "_view_name": "StyleView",
            "bar_color": null,
            "description_width": ""
          }
        },
        "32d6d5d25da04c57a8c1d2030675e9ae": {
          "model_module": "@jupyter-widgets/base",
          "model_name": "LayoutModel",
          "model_module_version": "1.2.0",
          "state": {
            "_model_module": "@jupyter-widgets/base",
            "_model_module_version": "1.2.0",
            "_model_name": "LayoutModel",
            "_view_count": null,
            "_view_module": "@jupyter-widgets/base",
            "_view_module_version": "1.2.0",
            "_view_name": "LayoutView",
            "align_content": null,
            "align_items": null,
            "align_self": null,
            "border": null,
            "bottom": null,
            "display": null,
            "flex": null,
            "flex_flow": null,
            "grid_area": null,
            "grid_auto_columns": null,
            "grid_auto_flow": null,
            "grid_auto_rows": null,
            "grid_column": null,
            "grid_gap": null,
            "grid_row": null,
            "grid_template_areas": null,
            "grid_template_columns": null,
            "grid_template_rows": null,
            "height": null,
            "justify_content": null,
            "justify_items": null,
            "left": null,
            "margin": null,
            "max_height": null,
            "max_width": null,
            "min_height": null,
            "min_width": null,
            "object_fit": null,
            "object_position": null,
            "order": null,
            "overflow": null,
            "overflow_x": null,
            "overflow_y": null,
            "padding": null,
            "right": null,
            "top": null,
            "visibility": null,
            "width": null
          }
        },
        "ec65029b55fa46af9bd7cb7fdc759048": {
          "model_module": "@jupyter-widgets/controls",
          "model_name": "DescriptionStyleModel",
          "model_module_version": "1.5.0",
          "state": {
            "_model_module": "@jupyter-widgets/controls",
            "_model_module_version": "1.5.0",
            "_model_name": "DescriptionStyleModel",
            "_view_count": null,
            "_view_module": "@jupyter-widgets/base",
            "_view_module_version": "1.2.0",
            "_view_name": "StyleView",
            "description_width": ""
          }
        },
        "d238bda59cea48a1b3322edde085fa4c": {
          "model_module": "@jupyter-widgets/controls",
          "model_name": "HBoxModel",
          "model_module_version": "1.5.0",
          "state": {
            "_dom_classes": [],
            "_model_module": "@jupyter-widgets/controls",
            "_model_module_version": "1.5.0",
            "_model_name": "HBoxModel",
            "_view_count": null,
            "_view_module": "@jupyter-widgets/controls",
            "_view_module_version": "1.5.0",
            "_view_name": "HBoxView",
            "box_style": "",
            "children": [
              "IPY_MODEL_f0a8623e7a2841ce976226cc7c1d1cb1",
              "IPY_MODEL_d78c64ed69b6434a88d408f6ef8ea056",
              "IPY_MODEL_558ee01d1e624bf980a10585a2ea0137"
            ],
            "layout": "IPY_MODEL_5045e8f873be45229046f00b25c21c41"
          }
        },
        "f0a8623e7a2841ce976226cc7c1d1cb1": {
          "model_module": "@jupyter-widgets/controls",
          "model_name": "HTMLModel",
          "model_module_version": "1.5.0",
          "state": {
            "_dom_classes": [],
            "_model_module": "@jupyter-widgets/controls",
            "_model_module_version": "1.5.0",
            "_model_name": "HTMLModel",
            "_view_count": null,
            "_view_module": "@jupyter-widgets/controls",
            "_view_module_version": "1.5.0",
            "_view_name": "HTMLView",
            "description": "",
            "description_tooltip": null,
            "layout": "IPY_MODEL_57b7a990ad1a47e8a2e5e9380229d501",
            "placeholder": "​",
            "style": "IPY_MODEL_ddf8033ab58c4910a3f7c0484893c70d",
            "value": "tokenizer.json: 100%"
          }
        },
        "d78c64ed69b6434a88d408f6ef8ea056": {
          "model_module": "@jupyter-widgets/controls",
          "model_name": "FloatProgressModel",
          "model_module_version": "1.5.0",
          "state": {
            "_dom_classes": [],
            "_model_module": "@jupyter-widgets/controls",
            "_model_module_version": "1.5.0",
            "_model_name": "FloatProgressModel",
            "_view_count": null,
            "_view_module": "@jupyter-widgets/controls",
            "_view_module_version": "1.5.0",
            "_view_name": "ProgressView",
            "bar_style": "success",
            "description": "",
            "description_tooltip": null,
            "layout": "IPY_MODEL_b830ce343a474d52a62b292fb031b09c",
            "max": 466062,
            "min": 0,
            "orientation": "horizontal",
            "style": "IPY_MODEL_2c055abcd0ed4e92845637546cc98850",
            "value": 466062
          }
        },
        "558ee01d1e624bf980a10585a2ea0137": {
          "model_module": "@jupyter-widgets/controls",
          "model_name": "HTMLModel",
          "model_module_version": "1.5.0",
          "state": {
            "_dom_classes": [],
            "_model_module": "@jupyter-widgets/controls",
            "_model_module_version": "1.5.0",
            "_model_name": "HTMLModel",
            "_view_count": null,
            "_view_module": "@jupyter-widgets/controls",
            "_view_module_version": "1.5.0",
            "_view_name": "HTMLView",
            "description": "",
            "description_tooltip": null,
            "layout": "IPY_MODEL_13d213af0dac443598a74fcad41acee6",
            "placeholder": "​",
            "style": "IPY_MODEL_bbd093090dff4ae0b940038333fd0960",
            "value": " 466k/466k [00:00&lt;00:00, 1.06MB/s]"
          }
        },
        "5045e8f873be45229046f00b25c21c41": {
          "model_module": "@jupyter-widgets/base",
          "model_name": "LayoutModel",
          "model_module_version": "1.2.0",
          "state": {
            "_model_module": "@jupyter-widgets/base",
            "_model_module_version": "1.2.0",
            "_model_name": "LayoutModel",
            "_view_count": null,
            "_view_module": "@jupyter-widgets/base",
            "_view_module_version": "1.2.0",
            "_view_name": "LayoutView",
            "align_content": null,
            "align_items": null,
            "align_self": null,
            "border": null,
            "bottom": null,
            "display": null,
            "flex": null,
            "flex_flow": null,
            "grid_area": null,
            "grid_auto_columns": null,
            "grid_auto_flow": null,
            "grid_auto_rows": null,
            "grid_column": null,
            "grid_gap": null,
            "grid_row": null,
            "grid_template_areas": null,
            "grid_template_columns": null,
            "grid_template_rows": null,
            "height": null,
            "justify_content": null,
            "justify_items": null,
            "left": null,
            "margin": null,
            "max_height": null,
            "max_width": null,
            "min_height": null,
            "min_width": null,
            "object_fit": null,
            "object_position": null,
            "order": null,
            "overflow": null,
            "overflow_x": null,
            "overflow_y": null,
            "padding": null,
            "right": null,
            "top": null,
            "visibility": null,
            "width": null
          }
        },
        "57b7a990ad1a47e8a2e5e9380229d501": {
          "model_module": "@jupyter-widgets/base",
          "model_name": "LayoutModel",
          "model_module_version": "1.2.0",
          "state": {
            "_model_module": "@jupyter-widgets/base",
            "_model_module_version": "1.2.0",
            "_model_name": "LayoutModel",
            "_view_count": null,
            "_view_module": "@jupyter-widgets/base",
            "_view_module_version": "1.2.0",
            "_view_name": "LayoutView",
            "align_content": null,
            "align_items": null,
            "align_self": null,
            "border": null,
            "bottom": null,
            "display": null,
            "flex": null,
            "flex_flow": null,
            "grid_area": null,
            "grid_auto_columns": null,
            "grid_auto_flow": null,
            "grid_auto_rows": null,
            "grid_column": null,
            "grid_gap": null,
            "grid_row": null,
            "grid_template_areas": null,
            "grid_template_columns": null,
            "grid_template_rows": null,
            "height": null,
            "justify_content": null,
            "justify_items": null,
            "left": null,
            "margin": null,
            "max_height": null,
            "max_width": null,
            "min_height": null,
            "min_width": null,
            "object_fit": null,
            "object_position": null,
            "order": null,
            "overflow": null,
            "overflow_x": null,
            "overflow_y": null,
            "padding": null,
            "right": null,
            "top": null,
            "visibility": null,
            "width": null
          }
        },
        "ddf8033ab58c4910a3f7c0484893c70d": {
          "model_module": "@jupyter-widgets/controls",
          "model_name": "DescriptionStyleModel",
          "model_module_version": "1.5.0",
          "state": {
            "_model_module": "@jupyter-widgets/controls",
            "_model_module_version": "1.5.0",
            "_model_name": "DescriptionStyleModel",
            "_view_count": null,
            "_view_module": "@jupyter-widgets/base",
            "_view_module_version": "1.2.0",
            "_view_name": "StyleView",
            "description_width": ""
          }
        },
        "b830ce343a474d52a62b292fb031b09c": {
          "model_module": "@jupyter-widgets/base",
          "model_name": "LayoutModel",
          "model_module_version": "1.2.0",
          "state": {
            "_model_module": "@jupyter-widgets/base",
            "_model_module_version": "1.2.0",
            "_model_name": "LayoutModel",
            "_view_count": null,
            "_view_module": "@jupyter-widgets/base",
            "_view_module_version": "1.2.0",
            "_view_name": "LayoutView",
            "align_content": null,
            "align_items": null,
            "align_self": null,
            "border": null,
            "bottom": null,
            "display": null,
            "flex": null,
            "flex_flow": null,
            "grid_area": null,
            "grid_auto_columns": null,
            "grid_auto_flow": null,
            "grid_auto_rows": null,
            "grid_column": null,
            "grid_gap": null,
            "grid_row": null,
            "grid_template_areas": null,
            "grid_template_columns": null,
            "grid_template_rows": null,
            "height": null,
            "justify_content": null,
            "justify_items": null,
            "left": null,
            "margin": null,
            "max_height": null,
            "max_width": null,
            "min_height": null,
            "min_width": null,
            "object_fit": null,
            "object_position": null,
            "order": null,
            "overflow": null,
            "overflow_x": null,
            "overflow_y": null,
            "padding": null,
            "right": null,
            "top": null,
            "visibility": null,
            "width": null
          }
        },
        "2c055abcd0ed4e92845637546cc98850": {
          "model_module": "@jupyter-widgets/controls",
          "model_name": "ProgressStyleModel",
          "model_module_version": "1.5.0",
          "state": {
            "_model_module": "@jupyter-widgets/controls",
            "_model_module_version": "1.5.0",
            "_model_name": "ProgressStyleModel",
            "_view_count": null,
            "_view_module": "@jupyter-widgets/base",
            "_view_module_version": "1.2.0",
            "_view_name": "StyleView",
            "bar_color": null,
            "description_width": ""
          }
        },
        "13d213af0dac443598a74fcad41acee6": {
          "model_module": "@jupyter-widgets/base",
          "model_name": "LayoutModel",
          "model_module_version": "1.2.0",
          "state": {
            "_model_module": "@jupyter-widgets/base",
            "_model_module_version": "1.2.0",
            "_model_name": "LayoutModel",
            "_view_count": null,
            "_view_module": "@jupyter-widgets/base",
            "_view_module_version": "1.2.0",
            "_view_name": "LayoutView",
            "align_content": null,
            "align_items": null,
            "align_self": null,
            "border": null,
            "bottom": null,
            "display": null,
            "flex": null,
            "flex_flow": null,
            "grid_area": null,
            "grid_auto_columns": null,
            "grid_auto_flow": null,
            "grid_auto_rows": null,
            "grid_column": null,
            "grid_gap": null,
            "grid_row": null,
            "grid_template_areas": null,
            "grid_template_columns": null,
            "grid_template_rows": null,
            "height": null,
            "justify_content": null,
            "justify_items": null,
            "left": null,
            "margin": null,
            "max_height": null,
            "max_width": null,
            "min_height": null,
            "min_width": null,
            "object_fit": null,
            "object_position": null,
            "order": null,
            "overflow": null,
            "overflow_x": null,
            "overflow_y": null,
            "padding": null,
            "right": null,
            "top": null,
            "visibility": null,
            "width": null
          }
        },
        "bbd093090dff4ae0b940038333fd0960": {
          "model_module": "@jupyter-widgets/controls",
          "model_name": "DescriptionStyleModel",
          "model_module_version": "1.5.0",
          "state": {
            "_model_module": "@jupyter-widgets/controls",
            "_model_module_version": "1.5.0",
            "_model_name": "DescriptionStyleModel",
            "_view_count": null,
            "_view_module": "@jupyter-widgets/base",
            "_view_module_version": "1.2.0",
            "_view_name": "StyleView",
            "description_width": ""
          }
        },
        "cffc3c847fcf4550a616892ab9342834": {
          "model_module": "@jupyter-widgets/controls",
          "model_name": "HBoxModel",
          "model_module_version": "1.5.0",
          "state": {
            "_dom_classes": [],
            "_model_module": "@jupyter-widgets/controls",
            "_model_module_version": "1.5.0",
            "_model_name": "HBoxModel",
            "_view_count": null,
            "_view_module": "@jupyter-widgets/controls",
            "_view_module_version": "1.5.0",
            "_view_name": "HBoxView",
            "box_style": "",
            "children": [
              "IPY_MODEL_f2f298dd82ff48579c374a6bf0aac552",
              "IPY_MODEL_4e2227caf7684a4aad7e298a79fc2016",
              "IPY_MODEL_29f2995b3cb64b00a18a343d50409e76"
            ],
            "layout": "IPY_MODEL_6b410ca1d77141689d4d7cb0fff6add1"
          }
        },
        "f2f298dd82ff48579c374a6bf0aac552": {
          "model_module": "@jupyter-widgets/controls",
          "model_name": "HTMLModel",
          "model_module_version": "1.5.0",
          "state": {
            "_dom_classes": [],
            "_model_module": "@jupyter-widgets/controls",
            "_model_module_version": "1.5.0",
            "_model_name": "HTMLModel",
            "_view_count": null,
            "_view_module": "@jupyter-widgets/controls",
            "_view_module_version": "1.5.0",
            "_view_name": "HTMLView",
            "description": "",
            "description_tooltip": null,
            "layout": "IPY_MODEL_f562ca37b81d454ba0bb8017229d7380",
            "placeholder": "​",
            "style": "IPY_MODEL_beaa95f6dbf14b42b96c4b5c4fb59f00",
            "value": "config.json: 100%"
          }
        },
        "4e2227caf7684a4aad7e298a79fc2016": {
          "model_module": "@jupyter-widgets/controls",
          "model_name": "FloatProgressModel",
          "model_module_version": "1.5.0",
          "state": {
            "_dom_classes": [],
            "_model_module": "@jupyter-widgets/controls",
            "_model_module_version": "1.5.0",
            "_model_name": "FloatProgressModel",
            "_view_count": null,
            "_view_module": "@jupyter-widgets/controls",
            "_view_module_version": "1.5.0",
            "_view_name": "ProgressView",
            "bar_style": "success",
            "description": "",
            "description_tooltip": null,
            "layout": "IPY_MODEL_b48c2b7e8af24a66879174ad645d6f83",
            "max": 570,
            "min": 0,
            "orientation": "horizontal",
            "style": "IPY_MODEL_ff917b04b5094c1598c7664051d43a75",
            "value": 570
          }
        },
        "29f2995b3cb64b00a18a343d50409e76": {
          "model_module": "@jupyter-widgets/controls",
          "model_name": "HTMLModel",
          "model_module_version": "1.5.0",
          "state": {
            "_dom_classes": [],
            "_model_module": "@jupyter-widgets/controls",
            "_model_module_version": "1.5.0",
            "_model_name": "HTMLModel",
            "_view_count": null,
            "_view_module": "@jupyter-widgets/controls",
            "_view_module_version": "1.5.0",
            "_view_name": "HTMLView",
            "description": "",
            "description_tooltip": null,
            "layout": "IPY_MODEL_d3135ceb87ca4ffb94c90ab4e5e4f295",
            "placeholder": "​",
            "style": "IPY_MODEL_702eed9d636346abbcb61fae405003fe",
            "value": " 570/570 [00:00&lt;00:00, 50.1kB/s]"
          }
        },
        "6b410ca1d77141689d4d7cb0fff6add1": {
          "model_module": "@jupyter-widgets/base",
          "model_name": "LayoutModel",
          "model_module_version": "1.2.0",
          "state": {
            "_model_module": "@jupyter-widgets/base",
            "_model_module_version": "1.2.0",
            "_model_name": "LayoutModel",
            "_view_count": null,
            "_view_module": "@jupyter-widgets/base",
            "_view_module_version": "1.2.0",
            "_view_name": "LayoutView",
            "align_content": null,
            "align_items": null,
            "align_self": null,
            "border": null,
            "bottom": null,
            "display": null,
            "flex": null,
            "flex_flow": null,
            "grid_area": null,
            "grid_auto_columns": null,
            "grid_auto_flow": null,
            "grid_auto_rows": null,
            "grid_column": null,
            "grid_gap": null,
            "grid_row": null,
            "grid_template_areas": null,
            "grid_template_columns": null,
            "grid_template_rows": null,
            "height": null,
            "justify_content": null,
            "justify_items": null,
            "left": null,
            "margin": null,
            "max_height": null,
            "max_width": null,
            "min_height": null,
            "min_width": null,
            "object_fit": null,
            "object_position": null,
            "order": null,
            "overflow": null,
            "overflow_x": null,
            "overflow_y": null,
            "padding": null,
            "right": null,
            "top": null,
            "visibility": null,
            "width": null
          }
        },
        "f562ca37b81d454ba0bb8017229d7380": {
          "model_module": "@jupyter-widgets/base",
          "model_name": "LayoutModel",
          "model_module_version": "1.2.0",
          "state": {
            "_model_module": "@jupyter-widgets/base",
            "_model_module_version": "1.2.0",
            "_model_name": "LayoutModel",
            "_view_count": null,
            "_view_module": "@jupyter-widgets/base",
            "_view_module_version": "1.2.0",
            "_view_name": "LayoutView",
            "align_content": null,
            "align_items": null,
            "align_self": null,
            "border": null,
            "bottom": null,
            "display": null,
            "flex": null,
            "flex_flow": null,
            "grid_area": null,
            "grid_auto_columns": null,
            "grid_auto_flow": null,
            "grid_auto_rows": null,
            "grid_column": null,
            "grid_gap": null,
            "grid_row": null,
            "grid_template_areas": null,
            "grid_template_columns": null,
            "grid_template_rows": null,
            "height": null,
            "justify_content": null,
            "justify_items": null,
            "left": null,
            "margin": null,
            "max_height": null,
            "max_width": null,
            "min_height": null,
            "min_width": null,
            "object_fit": null,
            "object_position": null,
            "order": null,
            "overflow": null,
            "overflow_x": null,
            "overflow_y": null,
            "padding": null,
            "right": null,
            "top": null,
            "visibility": null,
            "width": null
          }
        },
        "beaa95f6dbf14b42b96c4b5c4fb59f00": {
          "model_module": "@jupyter-widgets/controls",
          "model_name": "DescriptionStyleModel",
          "model_module_version": "1.5.0",
          "state": {
            "_model_module": "@jupyter-widgets/controls",
            "_model_module_version": "1.5.0",
            "_model_name": "DescriptionStyleModel",
            "_view_count": null,
            "_view_module": "@jupyter-widgets/base",
            "_view_module_version": "1.2.0",
            "_view_name": "StyleView",
            "description_width": ""
          }
        },
        "b48c2b7e8af24a66879174ad645d6f83": {
          "model_module": "@jupyter-widgets/base",
          "model_name": "LayoutModel",
          "model_module_version": "1.2.0",
          "state": {
            "_model_module": "@jupyter-widgets/base",
            "_model_module_version": "1.2.0",
            "_model_name": "LayoutModel",
            "_view_count": null,
            "_view_module": "@jupyter-widgets/base",
            "_view_module_version": "1.2.0",
            "_view_name": "LayoutView",
            "align_content": null,
            "align_items": null,
            "align_self": null,
            "border": null,
            "bottom": null,
            "display": null,
            "flex": null,
            "flex_flow": null,
            "grid_area": null,
            "grid_auto_columns": null,
            "grid_auto_flow": null,
            "grid_auto_rows": null,
            "grid_column": null,
            "grid_gap": null,
            "grid_row": null,
            "grid_template_areas": null,
            "grid_template_columns": null,
            "grid_template_rows": null,
            "height": null,
            "justify_content": null,
            "justify_items": null,
            "left": null,
            "margin": null,
            "max_height": null,
            "max_width": null,
            "min_height": null,
            "min_width": null,
            "object_fit": null,
            "object_position": null,
            "order": null,
            "overflow": null,
            "overflow_x": null,
            "overflow_y": null,
            "padding": null,
            "right": null,
            "top": null,
            "visibility": null,
            "width": null
          }
        },
        "ff917b04b5094c1598c7664051d43a75": {
          "model_module": "@jupyter-widgets/controls",
          "model_name": "ProgressStyleModel",
          "model_module_version": "1.5.0",
          "state": {
            "_model_module": "@jupyter-widgets/controls",
            "_model_module_version": "1.5.0",
            "_model_name": "ProgressStyleModel",
            "_view_count": null,
            "_view_module": "@jupyter-widgets/base",
            "_view_module_version": "1.2.0",
            "_view_name": "StyleView",
            "bar_color": null,
            "description_width": ""
          }
        },
        "d3135ceb87ca4ffb94c90ab4e5e4f295": {
          "model_module": "@jupyter-widgets/base",
          "model_name": "LayoutModel",
          "model_module_version": "1.2.0",
          "state": {
            "_model_module": "@jupyter-widgets/base",
            "_model_module_version": "1.2.0",
            "_model_name": "LayoutModel",
            "_view_count": null,
            "_view_module": "@jupyter-widgets/base",
            "_view_module_version": "1.2.0",
            "_view_name": "LayoutView",
            "align_content": null,
            "align_items": null,
            "align_self": null,
            "border": null,
            "bottom": null,
            "display": null,
            "flex": null,
            "flex_flow": null,
            "grid_area": null,
            "grid_auto_columns": null,
            "grid_auto_flow": null,
            "grid_auto_rows": null,
            "grid_column": null,
            "grid_gap": null,
            "grid_row": null,
            "grid_template_areas": null,
            "grid_template_columns": null,
            "grid_template_rows": null,
            "height": null,
            "justify_content": null,
            "justify_items": null,
            "left": null,
            "margin": null,
            "max_height": null,
            "max_width": null,
            "min_height": null,
            "min_width": null,
            "object_fit": null,
            "object_position": null,
            "order": null,
            "overflow": null,
            "overflow_x": null,
            "overflow_y": null,
            "padding": null,
            "right": null,
            "top": null,
            "visibility": null,
            "width": null
          }
        },
        "702eed9d636346abbcb61fae405003fe": {
          "model_module": "@jupyter-widgets/controls",
          "model_name": "DescriptionStyleModel",
          "model_module_version": "1.5.0",
          "state": {
            "_model_module": "@jupyter-widgets/controls",
            "_model_module_version": "1.5.0",
            "_model_name": "DescriptionStyleModel",
            "_view_count": null,
            "_view_module": "@jupyter-widgets/base",
            "_view_module_version": "1.2.0",
            "_view_name": "StyleView",
            "description_width": ""
          }
        }
      }
    }
  },
  "nbformat": 4,
  "nbformat_minor": 0
}