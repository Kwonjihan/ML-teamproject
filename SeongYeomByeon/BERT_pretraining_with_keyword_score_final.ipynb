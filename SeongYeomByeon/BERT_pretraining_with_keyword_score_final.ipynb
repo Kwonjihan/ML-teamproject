{
  "nbformat": 4,
  "nbformat_minor": 0,
  "metadata": {
    "colab": {
      "provenance": [],
      "machine_shape": "hm",
      "gpuType": "T4",
      "include_colab_link": true
    },
    "kernelspec": {
      "name": "python3",
      "display_name": "Python 3"
    },
    "language_info": {
      "name": "python"
    },
    "accelerator": "GPU",
    "widgets": {
      "application/vnd.jupyter.widget-state+json": {
        "40c2c3858fac43a0ac37e83c8bfb5a05": {
          "model_module": "@jupyter-widgets/controls",
          "model_name": "HBoxModel",
          "model_module_version": "1.5.0",
          "state": {
            "_dom_classes": [],
            "_model_module": "@jupyter-widgets/controls",
            "_model_module_version": "1.5.0",
            "_model_name": "HBoxModel",
            "_view_count": null,
            "_view_module": "@jupyter-widgets/controls",
            "_view_module_version": "1.5.0",
            "_view_name": "HBoxView",
            "box_style": "",
            "children": [
              "IPY_MODEL_8bb09de156994e1682ce94900e98e0ba",
              "IPY_MODEL_106d6e36f27d4a49befcfbd8d9c542f0",
              "IPY_MODEL_9176c1de05464c6ea3a5ad4e2fb4acd7"
            ],
            "layout": "IPY_MODEL_95cd5e0330914b2dbd04c25832d8c217"
          }
        },
        "8bb09de156994e1682ce94900e98e0ba": {
          "model_module": "@jupyter-widgets/controls",
          "model_name": "HTMLModel",
          "model_module_version": "1.5.0",
          "state": {
            "_dom_classes": [],
            "_model_module": "@jupyter-widgets/controls",
            "_model_module_version": "1.5.0",
            "_model_name": "HTMLModel",
            "_view_count": null,
            "_view_module": "@jupyter-widgets/controls",
            "_view_module_version": "1.5.0",
            "_view_name": "HTMLView",
            "description": "",
            "description_tooltip": null,
            "layout": "IPY_MODEL_f59c595d36804a66b38bc7d347b23141",
            "placeholder": "​",
            "style": "IPY_MODEL_117d6fb5e8bf4f3ba0819dab0e6b9f67",
            "value": "tokenizer_config.json: 100%"
          }
        },
        "106d6e36f27d4a49befcfbd8d9c542f0": {
          "model_module": "@jupyter-widgets/controls",
          "model_name": "FloatProgressModel",
          "model_module_version": "1.5.0",
          "state": {
            "_dom_classes": [],
            "_model_module": "@jupyter-widgets/controls",
            "_model_module_version": "1.5.0",
            "_model_name": "FloatProgressModel",
            "_view_count": null,
            "_view_module": "@jupyter-widgets/controls",
            "_view_module_version": "1.5.0",
            "_view_name": "ProgressView",
            "bar_style": "success",
            "description": "",
            "description_tooltip": null,
            "layout": "IPY_MODEL_f278868191d641e691580dbe442fe974",
            "max": 48,
            "min": 0,
            "orientation": "horizontal",
            "style": "IPY_MODEL_b06769c518ff4141839cd9728d2b7f66",
            "value": 48
          }
        },
        "9176c1de05464c6ea3a5ad4e2fb4acd7": {
          "model_module": "@jupyter-widgets/controls",
          "model_name": "HTMLModel",
          "model_module_version": "1.5.0",
          "state": {
            "_dom_classes": [],
            "_model_module": "@jupyter-widgets/controls",
            "_model_module_version": "1.5.0",
            "_model_name": "HTMLModel",
            "_view_count": null,
            "_view_module": "@jupyter-widgets/controls",
            "_view_module_version": "1.5.0",
            "_view_name": "HTMLView",
            "description": "",
            "description_tooltip": null,
            "layout": "IPY_MODEL_3dcbc630ee7b430d9d6add58b45b608d",
            "placeholder": "​",
            "style": "IPY_MODEL_0787f0f57aba4429b8769cc8b5966fcd",
            "value": " 48.0/48.0 [00:00&lt;00:00, 4.70kB/s]"
          }
        },
        "95cd5e0330914b2dbd04c25832d8c217": {
          "model_module": "@jupyter-widgets/base",
          "model_name": "LayoutModel",
          "model_module_version": "1.2.0",
          "state": {
            "_model_module": "@jupyter-widgets/base",
            "_model_module_version": "1.2.0",
            "_model_name": "LayoutModel",
            "_view_count": null,
            "_view_module": "@jupyter-widgets/base",
            "_view_module_version": "1.2.0",
            "_view_name": "LayoutView",
            "align_content": null,
            "align_items": null,
            "align_self": null,
            "border": null,
            "bottom": null,
            "display": null,
            "flex": null,
            "flex_flow": null,
            "grid_area": null,
            "grid_auto_columns": null,
            "grid_auto_flow": null,
            "grid_auto_rows": null,
            "grid_column": null,
            "grid_gap": null,
            "grid_row": null,
            "grid_template_areas": null,
            "grid_template_columns": null,
            "grid_template_rows": null,
            "height": null,
            "justify_content": null,
            "justify_items": null,
            "left": null,
            "margin": null,
            "max_height": null,
            "max_width": null,
            "min_height": null,
            "min_width": null,
            "object_fit": null,
            "object_position": null,
            "order": null,
            "overflow": null,
            "overflow_x": null,
            "overflow_y": null,
            "padding": null,
            "right": null,
            "top": null,
            "visibility": null,
            "width": null
          }
        },
        "f59c595d36804a66b38bc7d347b23141": {
          "model_module": "@jupyter-widgets/base",
          "model_name": "LayoutModel",
          "model_module_version": "1.2.0",
          "state": {
            "_model_module": "@jupyter-widgets/base",
            "_model_module_version": "1.2.0",
            "_model_name": "LayoutModel",
            "_view_count": null,
            "_view_module": "@jupyter-widgets/base",
            "_view_module_version": "1.2.0",
            "_view_name": "LayoutView",
            "align_content": null,
            "align_items": null,
            "align_self": null,
            "border": null,
            "bottom": null,
            "display": null,
            "flex": null,
            "flex_flow": null,
            "grid_area": null,
            "grid_auto_columns": null,
            "grid_auto_flow": null,
            "grid_auto_rows": null,
            "grid_column": null,
            "grid_gap": null,
            "grid_row": null,
            "grid_template_areas": null,
            "grid_template_columns": null,
            "grid_template_rows": null,
            "height": null,
            "justify_content": null,
            "justify_items": null,
            "left": null,
            "margin": null,
            "max_height": null,
            "max_width": null,
            "min_height": null,
            "min_width": null,
            "object_fit": null,
            "object_position": null,
            "order": null,
            "overflow": null,
            "overflow_x": null,
            "overflow_y": null,
            "padding": null,
            "right": null,
            "top": null,
            "visibility": null,
            "width": null
          }
        },
        "117d6fb5e8bf4f3ba0819dab0e6b9f67": {
          "model_module": "@jupyter-widgets/controls",
          "model_name": "DescriptionStyleModel",
          "model_module_version": "1.5.0",
          "state": {
            "_model_module": "@jupyter-widgets/controls",
            "_model_module_version": "1.5.0",
            "_model_name": "DescriptionStyleModel",
            "_view_count": null,
            "_view_module": "@jupyter-widgets/base",
            "_view_module_version": "1.2.0",
            "_view_name": "StyleView",
            "description_width": ""
          }
        },
        "f278868191d641e691580dbe442fe974": {
          "model_module": "@jupyter-widgets/base",
          "model_name": "LayoutModel",
          "model_module_version": "1.2.0",
          "state": {
            "_model_module": "@jupyter-widgets/base",
            "_model_module_version": "1.2.0",
            "_model_name": "LayoutModel",
            "_view_count": null,
            "_view_module": "@jupyter-widgets/base",
            "_view_module_version": "1.2.0",
            "_view_name": "LayoutView",
            "align_content": null,
            "align_items": null,
            "align_self": null,
            "border": null,
            "bottom": null,
            "display": null,
            "flex": null,
            "flex_flow": null,
            "grid_area": null,
            "grid_auto_columns": null,
            "grid_auto_flow": null,
            "grid_auto_rows": null,
            "grid_column": null,
            "grid_gap": null,
            "grid_row": null,
            "grid_template_areas": null,
            "grid_template_columns": null,
            "grid_template_rows": null,
            "height": null,
            "justify_content": null,
            "justify_items": null,
            "left": null,
            "margin": null,
            "max_height": null,
            "max_width": null,
            "min_height": null,
            "min_width": null,
            "object_fit": null,
            "object_position": null,
            "order": null,
            "overflow": null,
            "overflow_x": null,
            "overflow_y": null,
            "padding": null,
            "right": null,
            "top": null,
            "visibility": null,
            "width": null
          }
        },
        "b06769c518ff4141839cd9728d2b7f66": {
          "model_module": "@jupyter-widgets/controls",
          "model_name": "ProgressStyleModel",
          "model_module_version": "1.5.0",
          "state": {
            "_model_module": "@jupyter-widgets/controls",
            "_model_module_version": "1.5.0",
            "_model_name": "ProgressStyleModel",
            "_view_count": null,
            "_view_module": "@jupyter-widgets/base",
            "_view_module_version": "1.2.0",
            "_view_name": "StyleView",
            "bar_color": null,
            "description_width": ""
          }
        },
        "3dcbc630ee7b430d9d6add58b45b608d": {
          "model_module": "@jupyter-widgets/base",
          "model_name": "LayoutModel",
          "model_module_version": "1.2.0",
          "state": {
            "_model_module": "@jupyter-widgets/base",
            "_model_module_version": "1.2.0",
            "_model_name": "LayoutModel",
            "_view_count": null,
            "_view_module": "@jupyter-widgets/base",
            "_view_module_version": "1.2.0",
            "_view_name": "LayoutView",
            "align_content": null,
            "align_items": null,
            "align_self": null,
            "border": null,
            "bottom": null,
            "display": null,
            "flex": null,
            "flex_flow": null,
            "grid_area": null,
            "grid_auto_columns": null,
            "grid_auto_flow": null,
            "grid_auto_rows": null,
            "grid_column": null,
            "grid_gap": null,
            "grid_row": null,
            "grid_template_areas": null,
            "grid_template_columns": null,
            "grid_template_rows": null,
            "height": null,
            "justify_content": null,
            "justify_items": null,
            "left": null,
            "margin": null,
            "max_height": null,
            "max_width": null,
            "min_height": null,
            "min_width": null,
            "object_fit": null,
            "object_position": null,
            "order": null,
            "overflow": null,
            "overflow_x": null,
            "overflow_y": null,
            "padding": null,
            "right": null,
            "top": null,
            "visibility": null,
            "width": null
          }
        },
        "0787f0f57aba4429b8769cc8b5966fcd": {
          "model_module": "@jupyter-widgets/controls",
          "model_name": "DescriptionStyleModel",
          "model_module_version": "1.5.0",
          "state": {
            "_model_module": "@jupyter-widgets/controls",
            "_model_module_version": "1.5.0",
            "_model_name": "DescriptionStyleModel",
            "_view_count": null,
            "_view_module": "@jupyter-widgets/base",
            "_view_module_version": "1.2.0",
            "_view_name": "StyleView",
            "description_width": ""
          }
        },
        "d8bc2ca2b8924091849f39c0ce90a0ef": {
          "model_module": "@jupyter-widgets/controls",
          "model_name": "HBoxModel",
          "model_module_version": "1.5.0",
          "state": {
            "_dom_classes": [],
            "_model_module": "@jupyter-widgets/controls",
            "_model_module_version": "1.5.0",
            "_model_name": "HBoxModel",
            "_view_count": null,
            "_view_module": "@jupyter-widgets/controls",
            "_view_module_version": "1.5.0",
            "_view_name": "HBoxView",
            "box_style": "",
            "children": [
              "IPY_MODEL_b7f17b182ba54eb1962fa4084085bb14",
              "IPY_MODEL_7b90dba49389488aa7337b801ca1b744",
              "IPY_MODEL_7e9c60ffcae84c83969e67a37fdd7678"
            ],
            "layout": "IPY_MODEL_327928b25fa240a28f52e9f2c12cdcb2"
          }
        },
        "b7f17b182ba54eb1962fa4084085bb14": {
          "model_module": "@jupyter-widgets/controls",
          "model_name": "HTMLModel",
          "model_module_version": "1.5.0",
          "state": {
            "_dom_classes": [],
            "_model_module": "@jupyter-widgets/controls",
            "_model_module_version": "1.5.0",
            "_model_name": "HTMLModel",
            "_view_count": null,
            "_view_module": "@jupyter-widgets/controls",
            "_view_module_version": "1.5.0",
            "_view_name": "HTMLView",
            "description": "",
            "description_tooltip": null,
            "layout": "IPY_MODEL_3fe83993380d49f797b8a5eac9097372",
            "placeholder": "​",
            "style": "IPY_MODEL_4f755d2173394c6da6c1c96d67da9d84",
            "value": "vocab.txt: 100%"
          }
        },
        "7b90dba49389488aa7337b801ca1b744": {
          "model_module": "@jupyter-widgets/controls",
          "model_name": "FloatProgressModel",
          "model_module_version": "1.5.0",
          "state": {
            "_dom_classes": [],
            "_model_module": "@jupyter-widgets/controls",
            "_model_module_version": "1.5.0",
            "_model_name": "FloatProgressModel",
            "_view_count": null,
            "_view_module": "@jupyter-widgets/controls",
            "_view_module_version": "1.5.0",
            "_view_name": "ProgressView",
            "bar_style": "success",
            "description": "",
            "description_tooltip": null,
            "layout": "IPY_MODEL_41aa10044cd748a9902e615bd0761c9b",
            "max": 231508,
            "min": 0,
            "orientation": "horizontal",
            "style": "IPY_MODEL_ed4df3a178554781be981b4b4f320a82",
            "value": 231508
          }
        },
        "7e9c60ffcae84c83969e67a37fdd7678": {
          "model_module": "@jupyter-widgets/controls",
          "model_name": "HTMLModel",
          "model_module_version": "1.5.0",
          "state": {
            "_dom_classes": [],
            "_model_module": "@jupyter-widgets/controls",
            "_model_module_version": "1.5.0",
            "_model_name": "HTMLModel",
            "_view_count": null,
            "_view_module": "@jupyter-widgets/controls",
            "_view_module_version": "1.5.0",
            "_view_name": "HTMLView",
            "description": "",
            "description_tooltip": null,
            "layout": "IPY_MODEL_e348107af2384e7d94d3a0c8fd8e2eeb",
            "placeholder": "​",
            "style": "IPY_MODEL_0f4437814c704ef7acbbe531de8783a1",
            "value": " 232k/232k [00:00&lt;00:00, 1.41MB/s]"
          }
        },
        "327928b25fa240a28f52e9f2c12cdcb2": {
          "model_module": "@jupyter-widgets/base",
          "model_name": "LayoutModel",
          "model_module_version": "1.2.0",
          "state": {
            "_model_module": "@jupyter-widgets/base",
            "_model_module_version": "1.2.0",
            "_model_name": "LayoutModel",
            "_view_count": null,
            "_view_module": "@jupyter-widgets/base",
            "_view_module_version": "1.2.0",
            "_view_name": "LayoutView",
            "align_content": null,
            "align_items": null,
            "align_self": null,
            "border": null,
            "bottom": null,
            "display": null,
            "flex": null,
            "flex_flow": null,
            "grid_area": null,
            "grid_auto_columns": null,
            "grid_auto_flow": null,
            "grid_auto_rows": null,
            "grid_column": null,
            "grid_gap": null,
            "grid_row": null,
            "grid_template_areas": null,
            "grid_template_columns": null,
            "grid_template_rows": null,
            "height": null,
            "justify_content": null,
            "justify_items": null,
            "left": null,
            "margin": null,
            "max_height": null,
            "max_width": null,
            "min_height": null,
            "min_width": null,
            "object_fit": null,
            "object_position": null,
            "order": null,
            "overflow": null,
            "overflow_x": null,
            "overflow_y": null,
            "padding": null,
            "right": null,
            "top": null,
            "visibility": null,
            "width": null
          }
        },
        "3fe83993380d49f797b8a5eac9097372": {
          "model_module": "@jupyter-widgets/base",
          "model_name": "LayoutModel",
          "model_module_version": "1.2.0",
          "state": {
            "_model_module": "@jupyter-widgets/base",
            "_model_module_version": "1.2.0",
            "_model_name": "LayoutModel",
            "_view_count": null,
            "_view_module": "@jupyter-widgets/base",
            "_view_module_version": "1.2.0",
            "_view_name": "LayoutView",
            "align_content": null,
            "align_items": null,
            "align_self": null,
            "border": null,
            "bottom": null,
            "display": null,
            "flex": null,
            "flex_flow": null,
            "grid_area": null,
            "grid_auto_columns": null,
            "grid_auto_flow": null,
            "grid_auto_rows": null,
            "grid_column": null,
            "grid_gap": null,
            "grid_row": null,
            "grid_template_areas": null,
            "grid_template_columns": null,
            "grid_template_rows": null,
            "height": null,
            "justify_content": null,
            "justify_items": null,
            "left": null,
            "margin": null,
            "max_height": null,
            "max_width": null,
            "min_height": null,
            "min_width": null,
            "object_fit": null,
            "object_position": null,
            "order": null,
            "overflow": null,
            "overflow_x": null,
            "overflow_y": null,
            "padding": null,
            "right": null,
            "top": null,
            "visibility": null,
            "width": null
          }
        },
        "4f755d2173394c6da6c1c96d67da9d84": {
          "model_module": "@jupyter-widgets/controls",
          "model_name": "DescriptionStyleModel",
          "model_module_version": "1.5.0",
          "state": {
            "_model_module": "@jupyter-widgets/controls",
            "_model_module_version": "1.5.0",
            "_model_name": "DescriptionStyleModel",
            "_view_count": null,
            "_view_module": "@jupyter-widgets/base",
            "_view_module_version": "1.2.0",
            "_view_name": "StyleView",
            "description_width": ""
          }
        },
        "41aa10044cd748a9902e615bd0761c9b": {
          "model_module": "@jupyter-widgets/base",
          "model_name": "LayoutModel",
          "model_module_version": "1.2.0",
          "state": {
            "_model_module": "@jupyter-widgets/base",
            "_model_module_version": "1.2.0",
            "_model_name": "LayoutModel",
            "_view_count": null,
            "_view_module": "@jupyter-widgets/base",
            "_view_module_version": "1.2.0",
            "_view_name": "LayoutView",
            "align_content": null,
            "align_items": null,
            "align_self": null,
            "border": null,
            "bottom": null,
            "display": null,
            "flex": null,
            "flex_flow": null,
            "grid_area": null,
            "grid_auto_columns": null,
            "grid_auto_flow": null,
            "grid_auto_rows": null,
            "grid_column": null,
            "grid_gap": null,
            "grid_row": null,
            "grid_template_areas": null,
            "grid_template_columns": null,
            "grid_template_rows": null,
            "height": null,
            "justify_content": null,
            "justify_items": null,
            "left": null,
            "margin": null,
            "max_height": null,
            "max_width": null,
            "min_height": null,
            "min_width": null,
            "object_fit": null,
            "object_position": null,
            "order": null,
            "overflow": null,
            "overflow_x": null,
            "overflow_y": null,
            "padding": null,
            "right": null,
            "top": null,
            "visibility": null,
            "width": null
          }
        },
        "ed4df3a178554781be981b4b4f320a82": {
          "model_module": "@jupyter-widgets/controls",
          "model_name": "ProgressStyleModel",
          "model_module_version": "1.5.0",
          "state": {
            "_model_module": "@jupyter-widgets/controls",
            "_model_module_version": "1.5.0",
            "_model_name": "ProgressStyleModel",
            "_view_count": null,
            "_view_module": "@jupyter-widgets/base",
            "_view_module_version": "1.2.0",
            "_view_name": "StyleView",
            "bar_color": null,
            "description_width": ""
          }
        },
        "e348107af2384e7d94d3a0c8fd8e2eeb": {
          "model_module": "@jupyter-widgets/base",
          "model_name": "LayoutModel",
          "model_module_version": "1.2.0",
          "state": {
            "_model_module": "@jupyter-widgets/base",
            "_model_module_version": "1.2.0",
            "_model_name": "LayoutModel",
            "_view_count": null,
            "_view_module": "@jupyter-widgets/base",
            "_view_module_version": "1.2.0",
            "_view_name": "LayoutView",
            "align_content": null,
            "align_items": null,
            "align_self": null,
            "border": null,
            "bottom": null,
            "display": null,
            "flex": null,
            "flex_flow": null,
            "grid_area": null,
            "grid_auto_columns": null,
            "grid_auto_flow": null,
            "grid_auto_rows": null,
            "grid_column": null,
            "grid_gap": null,
            "grid_row": null,
            "grid_template_areas": null,
            "grid_template_columns": null,
            "grid_template_rows": null,
            "height": null,
            "justify_content": null,
            "justify_items": null,
            "left": null,
            "margin": null,
            "max_height": null,
            "max_width": null,
            "min_height": null,
            "min_width": null,
            "object_fit": null,
            "object_position": null,
            "order": null,
            "overflow": null,
            "overflow_x": null,
            "overflow_y": null,
            "padding": null,
            "right": null,
            "top": null,
            "visibility": null,
            "width": null
          }
        },
        "0f4437814c704ef7acbbe531de8783a1": {
          "model_module": "@jupyter-widgets/controls",
          "model_name": "DescriptionStyleModel",
          "model_module_version": "1.5.0",
          "state": {
            "_model_module": "@jupyter-widgets/controls",
            "_model_module_version": "1.5.0",
            "_model_name": "DescriptionStyleModel",
            "_view_count": null,
            "_view_module": "@jupyter-widgets/base",
            "_view_module_version": "1.2.0",
            "_view_name": "StyleView",
            "description_width": ""
          }
        },
        "f1390ec8ea404e7f9f78c465078d0c4d": {
          "model_module": "@jupyter-widgets/controls",
          "model_name": "HBoxModel",
          "model_module_version": "1.5.0",
          "state": {
            "_dom_classes": [],
            "_model_module": "@jupyter-widgets/controls",
            "_model_module_version": "1.5.0",
            "_model_name": "HBoxModel",
            "_view_count": null,
            "_view_module": "@jupyter-widgets/controls",
            "_view_module_version": "1.5.0",
            "_view_name": "HBoxView",
            "box_style": "",
            "children": [
              "IPY_MODEL_3719be1deb544108835473b8a7765718",
              "IPY_MODEL_cb8ddae779764e55b4427586aaed6d7d",
              "IPY_MODEL_097baf5e5af946c2854a70ea3b77aff4"
            ],
            "layout": "IPY_MODEL_474fa6fc492a43e0877f26fe07b5bd60"
          }
        },
        "3719be1deb544108835473b8a7765718": {
          "model_module": "@jupyter-widgets/controls",
          "model_name": "HTMLModel",
          "model_module_version": "1.5.0",
          "state": {
            "_dom_classes": [],
            "_model_module": "@jupyter-widgets/controls",
            "_model_module_version": "1.5.0",
            "_model_name": "HTMLModel",
            "_view_count": null,
            "_view_module": "@jupyter-widgets/controls",
            "_view_module_version": "1.5.0",
            "_view_name": "HTMLView",
            "description": "",
            "description_tooltip": null,
            "layout": "IPY_MODEL_13d357c8480942e9bf7e9aeeecfd40b3",
            "placeholder": "​",
            "style": "IPY_MODEL_1fe60365905d41e783f8f4d9ac05038f",
            "value": "tokenizer.json: 100%"
          }
        },
        "cb8ddae779764e55b4427586aaed6d7d": {
          "model_module": "@jupyter-widgets/controls",
          "model_name": "FloatProgressModel",
          "model_module_version": "1.5.0",
          "state": {
            "_dom_classes": [],
            "_model_module": "@jupyter-widgets/controls",
            "_model_module_version": "1.5.0",
            "_model_name": "FloatProgressModel",
            "_view_count": null,
            "_view_module": "@jupyter-widgets/controls",
            "_view_module_version": "1.5.0",
            "_view_name": "ProgressView",
            "bar_style": "success",
            "description": "",
            "description_tooltip": null,
            "layout": "IPY_MODEL_35f9a49840f246beb6b0ec99bc97c425",
            "max": 466062,
            "min": 0,
            "orientation": "horizontal",
            "style": "IPY_MODEL_b5a5a43788c142c3b3c7a8989a644b64",
            "value": 466062
          }
        },
        "097baf5e5af946c2854a70ea3b77aff4": {
          "model_module": "@jupyter-widgets/controls",
          "model_name": "HTMLModel",
          "model_module_version": "1.5.0",
          "state": {
            "_dom_classes": [],
            "_model_module": "@jupyter-widgets/controls",
            "_model_module_version": "1.5.0",
            "_model_name": "HTMLModel",
            "_view_count": null,
            "_view_module": "@jupyter-widgets/controls",
            "_view_module_version": "1.5.0",
            "_view_name": "HTMLView",
            "description": "",
            "description_tooltip": null,
            "layout": "IPY_MODEL_7bedcfbf12104011bc50c7fdc5736e11",
            "placeholder": "​",
            "style": "IPY_MODEL_f17f3095a1244749b043eb19c71f852e",
            "value": " 466k/466k [00:00&lt;00:00, 1.90MB/s]"
          }
        },
        "474fa6fc492a43e0877f26fe07b5bd60": {
          "model_module": "@jupyter-widgets/base",
          "model_name": "LayoutModel",
          "model_module_version": "1.2.0",
          "state": {
            "_model_module": "@jupyter-widgets/base",
            "_model_module_version": "1.2.0",
            "_model_name": "LayoutModel",
            "_view_count": null,
            "_view_module": "@jupyter-widgets/base",
            "_view_module_version": "1.2.0",
            "_view_name": "LayoutView",
            "align_content": null,
            "align_items": null,
            "align_self": null,
            "border": null,
            "bottom": null,
            "display": null,
            "flex": null,
            "flex_flow": null,
            "grid_area": null,
            "grid_auto_columns": null,
            "grid_auto_flow": null,
            "grid_auto_rows": null,
            "grid_column": null,
            "grid_gap": null,
            "grid_row": null,
            "grid_template_areas": null,
            "grid_template_columns": null,
            "grid_template_rows": null,
            "height": null,
            "justify_content": null,
            "justify_items": null,
            "left": null,
            "margin": null,
            "max_height": null,
            "max_width": null,
            "min_height": null,
            "min_width": null,
            "object_fit": null,
            "object_position": null,
            "order": null,
            "overflow": null,
            "overflow_x": null,
            "overflow_y": null,
            "padding": null,
            "right": null,
            "top": null,
            "visibility": null,
            "width": null
          }
        },
        "13d357c8480942e9bf7e9aeeecfd40b3": {
          "model_module": "@jupyter-widgets/base",
          "model_name": "LayoutModel",
          "model_module_version": "1.2.0",
          "state": {
            "_model_module": "@jupyter-widgets/base",
            "_model_module_version": "1.2.0",
            "_model_name": "LayoutModel",
            "_view_count": null,
            "_view_module": "@jupyter-widgets/base",
            "_view_module_version": "1.2.0",
            "_view_name": "LayoutView",
            "align_content": null,
            "align_items": null,
            "align_self": null,
            "border": null,
            "bottom": null,
            "display": null,
            "flex": null,
            "flex_flow": null,
            "grid_area": null,
            "grid_auto_columns": null,
            "grid_auto_flow": null,
            "grid_auto_rows": null,
            "grid_column": null,
            "grid_gap": null,
            "grid_row": null,
            "grid_template_areas": null,
            "grid_template_columns": null,
            "grid_template_rows": null,
            "height": null,
            "justify_content": null,
            "justify_items": null,
            "left": null,
            "margin": null,
            "max_height": null,
            "max_width": null,
            "min_height": null,
            "min_width": null,
            "object_fit": null,
            "object_position": null,
            "order": null,
            "overflow": null,
            "overflow_x": null,
            "overflow_y": null,
            "padding": null,
            "right": null,
            "top": null,
            "visibility": null,
            "width": null
          }
        },
        "1fe60365905d41e783f8f4d9ac05038f": {
          "model_module": "@jupyter-widgets/controls",
          "model_name": "DescriptionStyleModel",
          "model_module_version": "1.5.0",
          "state": {
            "_model_module": "@jupyter-widgets/controls",
            "_model_module_version": "1.5.0",
            "_model_name": "DescriptionStyleModel",
            "_view_count": null,
            "_view_module": "@jupyter-widgets/base",
            "_view_module_version": "1.2.0",
            "_view_name": "StyleView",
            "description_width": ""
          }
        },
        "35f9a49840f246beb6b0ec99bc97c425": {
          "model_module": "@jupyter-widgets/base",
          "model_name": "LayoutModel",
          "model_module_version": "1.2.0",
          "state": {
            "_model_module": "@jupyter-widgets/base",
            "_model_module_version": "1.2.0",
            "_model_name": "LayoutModel",
            "_view_count": null,
            "_view_module": "@jupyter-widgets/base",
            "_view_module_version": "1.2.0",
            "_view_name": "LayoutView",
            "align_content": null,
            "align_items": null,
            "align_self": null,
            "border": null,
            "bottom": null,
            "display": null,
            "flex": null,
            "flex_flow": null,
            "grid_area": null,
            "grid_auto_columns": null,
            "grid_auto_flow": null,
            "grid_auto_rows": null,
            "grid_column": null,
            "grid_gap": null,
            "grid_row": null,
            "grid_template_areas": null,
            "grid_template_columns": null,
            "grid_template_rows": null,
            "height": null,
            "justify_content": null,
            "justify_items": null,
            "left": null,
            "margin": null,
            "max_height": null,
            "max_width": null,
            "min_height": null,
            "min_width": null,
            "object_fit": null,
            "object_position": null,
            "order": null,
            "overflow": null,
            "overflow_x": null,
            "overflow_y": null,
            "padding": null,
            "right": null,
            "top": null,
            "visibility": null,
            "width": null
          }
        },
        "b5a5a43788c142c3b3c7a8989a644b64": {
          "model_module": "@jupyter-widgets/controls",
          "model_name": "ProgressStyleModel",
          "model_module_version": "1.5.0",
          "state": {
            "_model_module": "@jupyter-widgets/controls",
            "_model_module_version": "1.5.0",
            "_model_name": "ProgressStyleModel",
            "_view_count": null,
            "_view_module": "@jupyter-widgets/base",
            "_view_module_version": "1.2.0",
            "_view_name": "StyleView",
            "bar_color": null,
            "description_width": ""
          }
        },
        "7bedcfbf12104011bc50c7fdc5736e11": {
          "model_module": "@jupyter-widgets/base",
          "model_name": "LayoutModel",
          "model_module_version": "1.2.0",
          "state": {
            "_model_module": "@jupyter-widgets/base",
            "_model_module_version": "1.2.0",
            "_model_name": "LayoutModel",
            "_view_count": null,
            "_view_module": "@jupyter-widgets/base",
            "_view_module_version": "1.2.0",
            "_view_name": "LayoutView",
            "align_content": null,
            "align_items": null,
            "align_self": null,
            "border": null,
            "bottom": null,
            "display": null,
            "flex": null,
            "flex_flow": null,
            "grid_area": null,
            "grid_auto_columns": null,
            "grid_auto_flow": null,
            "grid_auto_rows": null,
            "grid_column": null,
            "grid_gap": null,
            "grid_row": null,
            "grid_template_areas": null,
            "grid_template_columns": null,
            "grid_template_rows": null,
            "height": null,
            "justify_content": null,
            "justify_items": null,
            "left": null,
            "margin": null,
            "max_height": null,
            "max_width": null,
            "min_height": null,
            "min_width": null,
            "object_fit": null,
            "object_position": null,
            "order": null,
            "overflow": null,
            "overflow_x": null,
            "overflow_y": null,
            "padding": null,
            "right": null,
            "top": null,
            "visibility": null,
            "width": null
          }
        },
        "f17f3095a1244749b043eb19c71f852e": {
          "model_module": "@jupyter-widgets/controls",
          "model_name": "DescriptionStyleModel",
          "model_module_version": "1.5.0",
          "state": {
            "_model_module": "@jupyter-widgets/controls",
            "_model_module_version": "1.5.0",
            "_model_name": "DescriptionStyleModel",
            "_view_count": null,
            "_view_module": "@jupyter-widgets/base",
            "_view_module_version": "1.2.0",
            "_view_name": "StyleView",
            "description_width": ""
          }
        },
        "fa5e0fd7ee88460d97e86beb35c9be20": {
          "model_module": "@jupyter-widgets/controls",
          "model_name": "HBoxModel",
          "model_module_version": "1.5.0",
          "state": {
            "_dom_classes": [],
            "_model_module": "@jupyter-widgets/controls",
            "_model_module_version": "1.5.0",
            "_model_name": "HBoxModel",
            "_view_count": null,
            "_view_module": "@jupyter-widgets/controls",
            "_view_module_version": "1.5.0",
            "_view_name": "HBoxView",
            "box_style": "",
            "children": [
              "IPY_MODEL_10d5c56efbfd4d39964bb92a1bc47a5c",
              "IPY_MODEL_2664465f1ad44124a7184618469927be",
              "IPY_MODEL_ee6f9d22f4a040119f1b00b51b8ea103"
            ],
            "layout": "IPY_MODEL_0ec9cdaee5ff4d9fa9575d57aa6e040f"
          }
        },
        "10d5c56efbfd4d39964bb92a1bc47a5c": {
          "model_module": "@jupyter-widgets/controls",
          "model_name": "HTMLModel",
          "model_module_version": "1.5.0",
          "state": {
            "_dom_classes": [],
            "_model_module": "@jupyter-widgets/controls",
            "_model_module_version": "1.5.0",
            "_model_name": "HTMLModel",
            "_view_count": null,
            "_view_module": "@jupyter-widgets/controls",
            "_view_module_version": "1.5.0",
            "_view_name": "HTMLView",
            "description": "",
            "description_tooltip": null,
            "layout": "IPY_MODEL_eb872abd171c449bad9e3a425278b7b6",
            "placeholder": "​",
            "style": "IPY_MODEL_172f6851696d4dbdadd115fd19569b52",
            "value": "config.json: 100%"
          }
        },
        "2664465f1ad44124a7184618469927be": {
          "model_module": "@jupyter-widgets/controls",
          "model_name": "FloatProgressModel",
          "model_module_version": "1.5.0",
          "state": {
            "_dom_classes": [],
            "_model_module": "@jupyter-widgets/controls",
            "_model_module_version": "1.5.0",
            "_model_name": "FloatProgressModel",
            "_view_count": null,
            "_view_module": "@jupyter-widgets/controls",
            "_view_module_version": "1.5.0",
            "_view_name": "ProgressView",
            "bar_style": "success",
            "description": "",
            "description_tooltip": null,
            "layout": "IPY_MODEL_ed72f28e23084223838e8cb11cc93604",
            "max": 570,
            "min": 0,
            "orientation": "horizontal",
            "style": "IPY_MODEL_ec423c2c0bf1407db4085978f2fd3ad8",
            "value": 570
          }
        },
        "ee6f9d22f4a040119f1b00b51b8ea103": {
          "model_module": "@jupyter-widgets/controls",
          "model_name": "HTMLModel",
          "model_module_version": "1.5.0",
          "state": {
            "_dom_classes": [],
            "_model_module": "@jupyter-widgets/controls",
            "_model_module_version": "1.5.0",
            "_model_name": "HTMLModel",
            "_view_count": null,
            "_view_module": "@jupyter-widgets/controls",
            "_view_module_version": "1.5.0",
            "_view_name": "HTMLView",
            "description": "",
            "description_tooltip": null,
            "layout": "IPY_MODEL_f9420dda8c9741e8bc1d3508a7f516d5",
            "placeholder": "​",
            "style": "IPY_MODEL_e0a48623c7c24ff88dc0a696a5d7c8ba",
            "value": " 570/570 [00:00&lt;00:00, 50.2kB/s]"
          }
        },
        "0ec9cdaee5ff4d9fa9575d57aa6e040f": {
          "model_module": "@jupyter-widgets/base",
          "model_name": "LayoutModel",
          "model_module_version": "1.2.0",
          "state": {
            "_model_module": "@jupyter-widgets/base",
            "_model_module_version": "1.2.0",
            "_model_name": "LayoutModel",
            "_view_count": null,
            "_view_module": "@jupyter-widgets/base",
            "_view_module_version": "1.2.0",
            "_view_name": "LayoutView",
            "align_content": null,
            "align_items": null,
            "align_self": null,
            "border": null,
            "bottom": null,
            "display": null,
            "flex": null,
            "flex_flow": null,
            "grid_area": null,
            "grid_auto_columns": null,
            "grid_auto_flow": null,
            "grid_auto_rows": null,
            "grid_column": null,
            "grid_gap": null,
            "grid_row": null,
            "grid_template_areas": null,
            "grid_template_columns": null,
            "grid_template_rows": null,
            "height": null,
            "justify_content": null,
            "justify_items": null,
            "left": null,
            "margin": null,
            "max_height": null,
            "max_width": null,
            "min_height": null,
            "min_width": null,
            "object_fit": null,
            "object_position": null,
            "order": null,
            "overflow": null,
            "overflow_x": null,
            "overflow_y": null,
            "padding": null,
            "right": null,
            "top": null,
            "visibility": null,
            "width": null
          }
        },
        "eb872abd171c449bad9e3a425278b7b6": {
          "model_module": "@jupyter-widgets/base",
          "model_name": "LayoutModel",
          "model_module_version": "1.2.0",
          "state": {
            "_model_module": "@jupyter-widgets/base",
            "_model_module_version": "1.2.0",
            "_model_name": "LayoutModel",
            "_view_count": null,
            "_view_module": "@jupyter-widgets/base",
            "_view_module_version": "1.2.0",
            "_view_name": "LayoutView",
            "align_content": null,
            "align_items": null,
            "align_self": null,
            "border": null,
            "bottom": null,
            "display": null,
            "flex": null,
            "flex_flow": null,
            "grid_area": null,
            "grid_auto_columns": null,
            "grid_auto_flow": null,
            "grid_auto_rows": null,
            "grid_column": null,
            "grid_gap": null,
            "grid_row": null,
            "grid_template_areas": null,
            "grid_template_columns": null,
            "grid_template_rows": null,
            "height": null,
            "justify_content": null,
            "justify_items": null,
            "left": null,
            "margin": null,
            "max_height": null,
            "max_width": null,
            "min_height": null,
            "min_width": null,
            "object_fit": null,
            "object_position": null,
            "order": null,
            "overflow": null,
            "overflow_x": null,
            "overflow_y": null,
            "padding": null,
            "right": null,
            "top": null,
            "visibility": null,
            "width": null
          }
        },
        "172f6851696d4dbdadd115fd19569b52": {
          "model_module": "@jupyter-widgets/controls",
          "model_name": "DescriptionStyleModel",
          "model_module_version": "1.5.0",
          "state": {
            "_model_module": "@jupyter-widgets/controls",
            "_model_module_version": "1.5.0",
            "_model_name": "DescriptionStyleModel",
            "_view_count": null,
            "_view_module": "@jupyter-widgets/base",
            "_view_module_version": "1.2.0",
            "_view_name": "StyleView",
            "description_width": ""
          }
        },
        "ed72f28e23084223838e8cb11cc93604": {
          "model_module": "@jupyter-widgets/base",
          "model_name": "LayoutModel",
          "model_module_version": "1.2.0",
          "state": {
            "_model_module": "@jupyter-widgets/base",
            "_model_module_version": "1.2.0",
            "_model_name": "LayoutModel",
            "_view_count": null,
            "_view_module": "@jupyter-widgets/base",
            "_view_module_version": "1.2.0",
            "_view_name": "LayoutView",
            "align_content": null,
            "align_items": null,
            "align_self": null,
            "border": null,
            "bottom": null,
            "display": null,
            "flex": null,
            "flex_flow": null,
            "grid_area": null,
            "grid_auto_columns": null,
            "grid_auto_flow": null,
            "grid_auto_rows": null,
            "grid_column": null,
            "grid_gap": null,
            "grid_row": null,
            "grid_template_areas": null,
            "grid_template_columns": null,
            "grid_template_rows": null,
            "height": null,
            "justify_content": null,
            "justify_items": null,
            "left": null,
            "margin": null,
            "max_height": null,
            "max_width": null,
            "min_height": null,
            "min_width": null,
            "object_fit": null,
            "object_position": null,
            "order": null,
            "overflow": null,
            "overflow_x": null,
            "overflow_y": null,
            "padding": null,
            "right": null,
            "top": null,
            "visibility": null,
            "width": null
          }
        },
        "ec423c2c0bf1407db4085978f2fd3ad8": {
          "model_module": "@jupyter-widgets/controls",
          "model_name": "ProgressStyleModel",
          "model_module_version": "1.5.0",
          "state": {
            "_model_module": "@jupyter-widgets/controls",
            "_model_module_version": "1.5.0",
            "_model_name": "ProgressStyleModel",
            "_view_count": null,
            "_view_module": "@jupyter-widgets/base",
            "_view_module_version": "1.2.0",
            "_view_name": "StyleView",
            "bar_color": null,
            "description_width": ""
          }
        },
        "f9420dda8c9741e8bc1d3508a7f516d5": {
          "model_module": "@jupyter-widgets/base",
          "model_name": "LayoutModel",
          "model_module_version": "1.2.0",
          "state": {
            "_model_module": "@jupyter-widgets/base",
            "_model_module_version": "1.2.0",
            "_model_name": "LayoutModel",
            "_view_count": null,
            "_view_module": "@jupyter-widgets/base",
            "_view_module_version": "1.2.0",
            "_view_name": "LayoutView",
            "align_content": null,
            "align_items": null,
            "align_self": null,
            "border": null,
            "bottom": null,
            "display": null,
            "flex": null,
            "flex_flow": null,
            "grid_area": null,
            "grid_auto_columns": null,
            "grid_auto_flow": null,
            "grid_auto_rows": null,
            "grid_column": null,
            "grid_gap": null,
            "grid_row": null,
            "grid_template_areas": null,
            "grid_template_columns": null,
            "grid_template_rows": null,
            "height": null,
            "justify_content": null,
            "justify_items": null,
            "left": null,
            "margin": null,
            "max_height": null,
            "max_width": null,
            "min_height": null,
            "min_width": null,
            "object_fit": null,
            "object_position": null,
            "order": null,
            "overflow": null,
            "overflow_x": null,
            "overflow_y": null,
            "padding": null,
            "right": null,
            "top": null,
            "visibility": null,
            "width": null
          }
        },
        "e0a48623c7c24ff88dc0a696a5d7c8ba": {
          "model_module": "@jupyter-widgets/controls",
          "model_name": "DescriptionStyleModel",
          "model_module_version": "1.5.0",
          "state": {
            "_model_module": "@jupyter-widgets/controls",
            "_model_module_version": "1.5.0",
            "_model_name": "DescriptionStyleModel",
            "_view_count": null,
            "_view_module": "@jupyter-widgets/base",
            "_view_module_version": "1.2.0",
            "_view_name": "StyleView",
            "description_width": ""
          }
        }
      }
    }
  },
  "cells": [
    {
      "cell_type": "markdown",
      "metadata": {
        "id": "view-in-github",
        "colab_type": "text"
      },
      "source": [
        "<a href=\"https://colab.research.google.com/github/Kwonjihan/ML-teamproject/blob/developtemp/SeongYeomByeon/BERT_pretraining_with_keyword_score_final.ipynb\" target=\"_parent\"><img src=\"https://colab.research.google.com/assets/colab-badge.svg\" alt=\"Open In Colab\"/></a>"
      ]
    },
    {
      "cell_type": "markdown",
      "source": [
        "# **[Attention Score에 Keyword Score를 가중치로 반영]**\n",
        "- 기존 논문에 기대지 않고 아이디어를 떠올려보기 위한 시도 -> 참고문헌 없음\n",
        "- 기존 Attention은 모든 토큰에 대해 동일하게 Dot product를 수행\n",
        "- 물론 학습을 진행할수록 값은 작아지겠지만, 여전히 중요하지 않은 토큰에도 동일한 비중을 두어 Attention Score를 계산함\n",
        "- 문장마다 중요한 단어, 즉 Keyword가 존재할텐데, 모든 토큰에 동일하게 Dot product를 수행하는 것은 비효율적이지 않을까?\n",
        "- 일종의 Keyword Score를 구하여, Attention에 일종의 가중치로서 적용\n",
        "- 키워드 스코어는 어떻게? -> 'CLS토큰' : 문장을 대표하는 일종의 Context vector\n",
        "- CLS토큰과의 Similarity는 곧 그 토큰(단어)이 문장의 맥락에 얼마나 기여하는지(Keyword Score)를 의미할 것![drawio.png](data:image/png;base64,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)"
      ],
      "metadata": {
        "id": "zRyhz3eAaFp0"
      }
    },
    {
      "cell_type": "code",
      "source": [
        "!pip install -U datasets"
      ],
      "metadata": {
        "colab": {
          "base_uri": "https://localhost:8080/"
        },
        "collapsed": true,
        "id": "u_A5uvF0c5Ff",
        "outputId": "491d955c-74ec-4e5a-bb23-3d19cce38fc3"
      },
      "execution_count": 1,
      "outputs": [
        {
          "output_type": "stream",
          "name": "stdout",
          "text": [
            "Collecting datasets\n",
            "  Downloading datasets-2.19.1-py3-none-any.whl (542 kB)\n",
            "\u001b[2K     \u001b[90m━━━━━━━━━━━━━━━━━━━━━━━━━━━━━━━━━━━━━━━━\u001b[0m \u001b[32m542.0/542.0 kB\u001b[0m \u001b[31m8.2 MB/s\u001b[0m eta \u001b[36m0:00:00\u001b[0m\n",
            "\u001b[?25hRequirement already satisfied: filelock in /usr/local/lib/python3.10/dist-packages (from datasets) (3.14.0)\n",
            "Requirement already satisfied: numpy>=1.17 in /usr/local/lib/python3.10/dist-packages (from datasets) (1.25.2)\n",
            "Requirement already satisfied: pyarrow>=12.0.0 in /usr/local/lib/python3.10/dist-packages (from datasets) (14.0.2)\n",
            "Requirement already satisfied: pyarrow-hotfix in /usr/local/lib/python3.10/dist-packages (from datasets) (0.6)\n",
            "Collecting dill<0.3.9,>=0.3.0 (from datasets)\n",
            "  Downloading dill-0.3.8-py3-none-any.whl (116 kB)\n",
            "\u001b[2K     \u001b[90m━━━━━━━━━━━━━━━━━━━━━━━━━━━━━━━━━━━━━━━━\u001b[0m \u001b[32m116.3/116.3 kB\u001b[0m \u001b[31m9.6 MB/s\u001b[0m eta \u001b[36m0:00:00\u001b[0m\n",
            "\u001b[?25hRequirement already satisfied: pandas in /usr/local/lib/python3.10/dist-packages (from datasets) (2.0.3)\n",
            "Requirement already satisfied: requests>=2.19.0 in /usr/local/lib/python3.10/dist-packages (from datasets) (2.31.0)\n",
            "Requirement already satisfied: tqdm>=4.62.1 in /usr/local/lib/python3.10/dist-packages (from datasets) (4.66.4)\n",
            "Collecting xxhash (from datasets)\n",
            "  Downloading xxhash-3.4.1-cp310-cp310-manylinux_2_17_x86_64.manylinux2014_x86_64.whl (194 kB)\n",
            "\u001b[2K     \u001b[90m━━━━━━━━━━━━━━━━━━━━━━━━━━━━━━━━━━━━━━━━\u001b[0m \u001b[32m194.1/194.1 kB\u001b[0m \u001b[31m10.2 MB/s\u001b[0m eta \u001b[36m0:00:00\u001b[0m\n",
            "\u001b[?25hCollecting multiprocess (from datasets)\n",
            "  Downloading multiprocess-0.70.16-py310-none-any.whl (134 kB)\n",
            "\u001b[2K     \u001b[90m━━━━━━━━━━━━━━━━━━━━━━━━━━━━━━━━━━━━━━━━\u001b[0m \u001b[32m134.8/134.8 kB\u001b[0m \u001b[31m11.6 MB/s\u001b[0m eta \u001b[36m0:00:00\u001b[0m\n",
            "\u001b[?25hRequirement already satisfied: fsspec[http]<=2024.3.1,>=2023.1.0 in /usr/local/lib/python3.10/dist-packages (from datasets) (2023.6.0)\n",
            "Requirement already satisfied: aiohttp in /usr/local/lib/python3.10/dist-packages (from datasets) (3.9.5)\n",
            "Requirement already satisfied: huggingface-hub>=0.21.2 in /usr/local/lib/python3.10/dist-packages (from datasets) (0.23.1)\n",
            "Requirement already satisfied: packaging in /usr/local/lib/python3.10/dist-packages (from datasets) (24.0)\n",
            "Requirement already satisfied: pyyaml>=5.1 in /usr/local/lib/python3.10/dist-packages (from datasets) (6.0.1)\n",
            "Requirement already satisfied: aiosignal>=1.1.2 in /usr/local/lib/python3.10/dist-packages (from aiohttp->datasets) (1.3.1)\n",
            "Requirement already satisfied: attrs>=17.3.0 in /usr/local/lib/python3.10/dist-packages (from aiohttp->datasets) (23.2.0)\n",
            "Requirement already satisfied: frozenlist>=1.1.1 in /usr/local/lib/python3.10/dist-packages (from aiohttp->datasets) (1.4.1)\n",
            "Requirement already satisfied: multidict<7.0,>=4.5 in /usr/local/lib/python3.10/dist-packages (from aiohttp->datasets) (6.0.5)\n",
            "Requirement already satisfied: yarl<2.0,>=1.0 in /usr/local/lib/python3.10/dist-packages (from aiohttp->datasets) (1.9.4)\n",
            "Requirement already satisfied: async-timeout<5.0,>=4.0 in /usr/local/lib/python3.10/dist-packages (from aiohttp->datasets) (4.0.3)\n",
            "Requirement already satisfied: typing-extensions>=3.7.4.3 in /usr/local/lib/python3.10/dist-packages (from huggingface-hub>=0.21.2->datasets) (4.11.0)\n",
            "Requirement already satisfied: charset-normalizer<4,>=2 in /usr/local/lib/python3.10/dist-packages (from requests>=2.19.0->datasets) (3.3.2)\n",
            "Requirement already satisfied: idna<4,>=2.5 in /usr/local/lib/python3.10/dist-packages (from requests>=2.19.0->datasets) (3.7)\n",
            "Requirement already satisfied: urllib3<3,>=1.21.1 in /usr/local/lib/python3.10/dist-packages (from requests>=2.19.0->datasets) (2.0.7)\n",
            "Requirement already satisfied: certifi>=2017.4.17 in /usr/local/lib/python3.10/dist-packages (from requests>=2.19.0->datasets) (2024.2.2)\n",
            "Requirement already satisfied: python-dateutil>=2.8.2 in /usr/local/lib/python3.10/dist-packages (from pandas->datasets) (2.8.2)\n",
            "Requirement already satisfied: pytz>=2020.1 in /usr/local/lib/python3.10/dist-packages (from pandas->datasets) (2023.4)\n",
            "Requirement already satisfied: tzdata>=2022.1 in /usr/local/lib/python3.10/dist-packages (from pandas->datasets) (2024.1)\n",
            "Requirement already satisfied: six>=1.5 in /usr/local/lib/python3.10/dist-packages (from python-dateutil>=2.8.2->pandas->datasets) (1.16.0)\n",
            "Installing collected packages: xxhash, dill, multiprocess, datasets\n",
            "Successfully installed datasets-2.19.1 dill-0.3.8 multiprocess-0.70.16 xxhash-3.4.1\n"
          ]
        }
      ]
    },
    {
      "cell_type": "code",
      "source": [
        "import math\n",
        "import torch\n",
        "from torch import nn\n",
        "from torch.nn import CrossEntropyLoss\n",
        "import torch.nn.functional as F\n",
        "from torch.optim import AdamW\n",
        "import random\n",
        "import torch.optim as optim\n",
        "from torch.utils.data import RandomSampler, DataLoader, random_split\n",
        "import os\n",
        "import pandas as pd\n",
        "from torch.utils.data import Dataset, DataLoader\n",
        "from transformers import BertTokenizer, DataCollatorForLanguageModeling\n",
        "from typing import Optional, Tuple\n",
        "from tqdm import tqdm\n",
        "import matplotlib.pyplot as plt\n",
        "import seaborn as sns\n",
        "import numpy as np\n",
        "from transformers.modeling_outputs import ModelOutput, MaskedLMOutput"
      ],
      "metadata": {
        "id": "AgffaJtcofIV"
      },
      "execution_count": 8,
      "outputs": []
    },
    {
      "cell_type": "code",
      "source": [
        "from google.colab import drive\n",
        "drive.mount('/content/drive')"
      ],
      "metadata": {
        "colab": {
          "base_uri": "https://localhost:8080/"
        },
        "id": "DwMEaxV7jY6X",
        "outputId": "6ec06250-fad5-453e-c57d-7d4fbbbbd539"
      },
      "execution_count": 3,
      "outputs": [
        {
          "output_type": "stream",
          "name": "stdout",
          "text": [
            "Mounted at /content/drive\n"
          ]
        }
      ]
    },
    {
      "cell_type": "code",
      "source": [
        "# activation function 불러오기\n",
        "def gelu(x):\n",
        "    return x * 0.5 * (1.0 + torch.erf(x / math.sqrt(2.0)))\n",
        "\n",
        "ACT2FN = {\"gelu\": gelu, \"relu\": torch.nn.functional.relu, \"swish\": torch.nn.functional.silu}"
      ],
      "metadata": {
        "id": "drgT6nqeoqN5"
      },
      "execution_count": 4,
      "outputs": []
    },
    {
      "cell_type": "code",
      "source": [
        "class Config:\n",
        "    vocab_size=30522\n",
        "    hidden_size=768\n",
        "    num_hidden_layers=8\n",
        "    num_attention_heads=12\n",
        "    intermediate_size=3072\n",
        "    hidden_act=\"gelu\"\n",
        "    hidden_dropout_prob=0.1\n",
        "    attention_probs_dropout_prob=0.1\n",
        "    max_position_embeddings=512\n",
        "    type_vocab_size=2\n",
        "    initializer_range=0.02\n",
        "    layer_norm_eps=1e-12\n",
        "    pad_token_id=0\n",
        "    gradient_checkpointing=False\n",
        "    position_embedding_type=\"absolute\"\n",
        "    use_cache=True\n",
        "    is_decoder = False\n",
        "\n",
        "# BERT 입력 임베딩 생성 클래스\n",
        "class BertEmbeddings(nn.Module):\n",
        "    def __init__(self, config: Config):\n",
        "        super().__init__()\n",
        "        # 단어 임베딩, 위치 임베딩, 토큰 타입 임베딩\n",
        "        self.word_embeddings = nn.Embedding(config.vocab_size, config.hidden_size, padding_idx=config.pad_token_id)\n",
        "        self.position_embeddings = nn.Embedding(config.max_position_embeddings, config.hidden_size)\n",
        "        self.token_type_embeddings = nn.Embedding(config.type_vocab_size, config.hidden_size)\n",
        "        # 레이어 정규화와 드롭아웃\n",
        "        self.LayerNorm = nn.LayerNorm(config.hidden_size, eps=config.layer_norm_eps)\n",
        "        self.dropout = nn.Dropout(config.hidden_dropout_prob)\n",
        "        self.position_embedding_type = getattr(config, \"position_embedding_type\", \"absolute\")\n",
        "        self.register_buffer(\"position_ids\", torch.arange(config.max_position_embeddings).expand((1, -1)), persistent=False)\n",
        "        self.register_buffer(\"token_type_ids\", torch.zeros(self.position_ids.size(), dtype=torch.long), persistent=False)\n",
        "\n",
        "    def forward(self, input_ids=None, token_type_ids=None, position_ids=None, inputs_embeds=None, past_key_values_length=0):\n",
        "        if input_ids is not None:\n",
        "            input_shape = input_ids.size()\n",
        "        else:\n",
        "            input_shape = inputs_embeds.size()[:-1]\n",
        "\n",
        "        seq_length = input_shape[1]\n",
        "\n",
        "        if position_ids is None:\n",
        "            position_ids = self.position_ids[:, past_key_values_length: seq_length + past_key_values_length]\n",
        "\n",
        "        if token_type_ids is None:\n",
        "            if hasattr(self, \"token_type_ids\"):\n",
        "                buffered_token_type_ids = self.token_type_ids[:, :seq_length]\n",
        "                buffered_token_type_ids_expanded = buffered_token_type_ids.expand(input_shape[0], seq_length)\n",
        "                token_type_ids = buffered_token_type_ids_expanded\n",
        "            else:\n",
        "                token_type_ids = torch.zeros(input_shape, dtype=torch.long, device=self.position_ids.device)\n",
        "\n",
        "        if inputs_embeds is None:\n",
        "            inputs_embeds = self.word_embeddings(input_ids)\n",
        "        token_type_embeddings = self.token_type_embeddings(token_type_ids)\n",
        "\n",
        "        # 입력 임베딩 생성\n",
        "        embeddings = inputs_embeds + token_type_embeddings\n",
        "        if self.position_embedding_type == \"absolute\":\n",
        "            position_embeddings = self.position_embeddings(position_ids)\n",
        "            embeddings += position_embeddings\n",
        "        embeddings = self.LayerNorm(embeddings)\n",
        "        embeddings = self.dropout(embeddings)\n",
        "        return embeddings\n",
        "\n",
        "# 셀프 어텐션 구현 클래스\n",
        "class BertSelfAttention(nn.Module):\n",
        "    def __init__(self, config):\n",
        "        super().__init__()\n",
        "        if config.hidden_size % config.num_attention_heads != 0:\n",
        "            raise ValueError(\n",
        "                \"The hidden size (%d) is not a multiple of the number of attention heads (%d)\" %\n",
        "                (config.hidden_size, config.num_attention_heads))\n",
        "\n",
        "        self.num_attention_heads = config.num_attention_heads\n",
        "        self.attention_head_size = int(config.hidden_size / config.num_attention_heads)\n",
        "        self.all_head_size = self.num_attention_heads * self.attention_head_size\n",
        "\n",
        "        self.query = nn.Linear(config.hidden_size, self.all_head_size)\n",
        "        self.key = nn.Linear(config.hidden_size, self.all_head_size)\n",
        "        self.value = nn.Linear(config.hidden_size, self.all_head_size)\n",
        "\n",
        "        self.dropout = nn.Dropout(config.attention_probs_dropout_prob)\n",
        "\n",
        "        #################################\n",
        "        self.keyword_scale = nn.Parameter(torch.ones(1))# 키워드 스코어에 대한 스케일링 파라미터를 학습 가능하도록 추가\n",
        "        #################################\n",
        "\n",
        "    def transpose_for_scores(self, x):\n",
        "        new_x_shape = x.size()[:-1] + (self.num_attention_heads, self.attention_head_size)\n",
        "        x = x.view(*new_x_shape)\n",
        "        return x.permute(0, 2, 1, 3)\n",
        "\n",
        "    def forward(self, hidden_states, attention_mask=None, head_mask=None, encoder_hidden_states=None, encoder_attention_mask=None, past_key_value=None, output_attentions=False):\n",
        "        mixed_query_layer = self.query(hidden_states)\n",
        "        mixed_key_layer = self.key(hidden_states)\n",
        "        mixed_value_layer = self.value(hidden_states)\n",
        "\n",
        "        query_layer = self.transpose_for_scores(mixed_query_layer)\n",
        "        key_layer = self.transpose_for_scores(mixed_key_layer)\n",
        "        value_layer = self.transpose_for_scores(mixed_value_layer)\n",
        "\n",
        "        #################################\n",
        "        # 어텐션 스코어 계산\n",
        "        attention_scores = torch.matmul(query_layer, key_layer.transpose(-1, -2))\n",
        "        attention_scores = attention_scores / math.sqrt(self.attention_head_size)\n",
        "\n",
        "        # 키워드 스코어 계산\n",
        "        cls_token = hidden_states[:, 0, :]  # CLS 토큰 추출\n",
        "        token_similarities = F.cosine_similarity(hidden_states, cls_token.unsqueeze(1).expand_as(hidden_states), dim=-1)  # 각 토큰과 CLS토큰의 cosine similarity 계산\n",
        "        keyword_scores = (token_similarities + 1) / 2  # 0~1사이로 매핑\n",
        "\n",
        "        # 어텐션 스코어에 키워드 스코어 반영\n",
        "        attention_scores = attention_scores * keyword_scores.unsqueeze(1).unsqueeze(1) * self.keyword_scale # 키워드 스코어를 attention score에 곱한 후, 스케일링 파라미터를 적용\n",
        "        #################################\n",
        "\n",
        "        if attention_mask is not None:\n",
        "            attention_scores = attention_scores + attention_mask\n",
        "\n",
        "        attention_probs = nn.Softmax(dim=-1)(attention_scores)\n",
        "        attention_probs = self.dropout(attention_probs)\n",
        "\n",
        "        context_layer = torch.matmul(attention_probs, value_layer)\n",
        "\n",
        "        context_layer = context_layer.permute(0, 2, 1, 3).contiguous()\n",
        "        new_context_layer_shape = context_layer.size()[:-2] + (self.all_head_size,)\n",
        "        context_layer = context_layer.view(new_context_layer_shape)\n",
        "\n",
        "        outputs = (context_layer, attention_probs) if output_attentions else (context_layer,)\n",
        "        return outputs\n",
        "\n",
        "# 셀프 어텐션 출력 처리 클래스\n",
        "class BertSelfOutput(nn.Module):\n",
        "    def __init__(self, config: Config):\n",
        "        super().__init__()\n",
        "        self.dense = nn.Linear(config.hidden_size, config.hidden_size)\n",
        "        self.LayerNorm = nn.LayerNorm(config.hidden_size, eps=config.layer_norm_eps)\n",
        "        self.dropout = nn.Dropout(config.hidden_dropout_prob)\n",
        "\n",
        "    def forward(self, hidden_states, input_tensor):\n",
        "        # 드롭아웃, 레이어 정규화, 잔차 연결 적용\n",
        "        hidden_states = self.dense(hidden_states)\n",
        "        hidden_states = self.dropout(hidden_states)\n",
        "        hidden_states = self.LayerNorm(hidden_states + input_tensor)\n",
        "        return hidden_states\n",
        "\n",
        "# 어텐션 메커니즘 클래스\n",
        "class BertAttention(nn.Module):\n",
        "    def __init__(self, config: Config):\n",
        "        super().__init__()\n",
        "        self.self = BertSelfAttention(config)\n",
        "        self.output = BertSelfOutput(config)\n",
        "\n",
        "    def forward(self, input_tensor, attention_mask=None, head_mask=None, encoder_hidden_states=None, encoder_attention_mask=None, past_key_value=None, output_attentions=False):\n",
        "        # 셀프 어텐션 및 출력 계산\n",
        "        self_outputs = self.self(\n",
        "            input_tensor,\n",
        "            attention_mask,\n",
        "            head_mask,\n",
        "            encoder_hidden_states,\n",
        "            encoder_attention_mask,\n",
        "            past_key_value,\n",
        "            output_attentions,\n",
        "        )\n",
        "        attention_output = self.output(self_outputs[0], input_tensor)\n",
        "        outputs = (attention_output,) + self_outputs[1:]\n",
        "        return outputs\n",
        "\n",
        "# 중간 레이어 활성화 함수 클래스\n",
        "class BertIntermediate(nn.Module):\n",
        "    def __init__(self, config: Config):\n",
        "        super().__init__()\n",
        "        self.dense = nn.Linear(config.hidden_size, config.intermediate_size)\n",
        "        self.intermediate_act_fn = ACT2FN[config.hidden_act]\n",
        "\n",
        "    def forward(self, hidden_states):\n",
        "        # 중간 레이어 활성화 함수 적용\n",
        "        hidden_states = self.dense(hidden_states)\n",
        "        hidden_states = self.intermediate_act_fn(hidden_states)\n",
        "        return hidden_states\n",
        "\n",
        "# 중간 레이어 출력 처리 클래스\n",
        "class BertOutput(nn.Module):\n",
        "    def __init__(self, config: Config):\n",
        "        super().__init__()\n",
        "        self.dense = nn.Linear(config.intermediate_size, config.hidden_size)\n",
        "        self.LayerNorm = nn.LayerNorm(config.hidden_size, eps=config.layer_norm_eps)\n",
        "        self.dropout = nn.Dropout(config.hidden_dropout_prob)\n",
        "\n",
        "    def forward(self, hidden_states, input_tensor):\n",
        "        # 드롭아웃, 레이어 정규화, 잔차 연결 적용\n",
        "        hidden_states = self.dense(hidden_states)\n",
        "        hidden_states = self.dropout(hidden_states)\n",
        "        hidden_states = self.Layer\n",
        "\n",
        "    def forward(self, hidden_states, input_tensor):\n",
        "        # 드롭아웃, 레이어 정규화, 잔차 연결 적용\n",
        "        hidden_states = self.dense(hidden_states)\n",
        "        hidden_states = self.dropout(hidden_states)\n",
        "        hidden_states = self.LayerNorm(hidden_states + input_tensor)\n",
        "        return hidden_states\n",
        "\n",
        "# 하나의 BERT 레이어를 구현하는 클래스\n",
        "class BertLayer(nn.Module):\n",
        "    def __init__(self, config: Config):\n",
        "        super().__init__()\n",
        "        self.attention = BertAttention(config)\n",
        "        self.intermediate = BertIntermediate(config)\n",
        "        self.output = BertOutput(config)\n",
        "\n",
        "    def forward(self, hidden_states, attention_mask=None, head_mask=None, encoder_hidden_states=None, encoder_attention_mask=None, past_key_value=None, output_attentions=False):\n",
        "        # 어텐션과 출력 계산\n",
        "        self_attention_outputs = self.attention(\n",
        "            hidden_states,\n",
        "            attention_mask,\n",
        "            head_mask,\n",
        "            encoder_hidden_states,\n",
        "            encoder_attention_mask,\n",
        "            past_key_value,\n",
        "            output_attentions=output_attentions,\n",
        "        )\n",
        "        attention_output = self_attention_outputs[0]\n",
        "        layer_output = self.output(self.intermediate(attention_output), attention_output)\n",
        "        outputs = (layer_output,) + self_attention_outputs[1:]\n",
        "        return outputs\n",
        "\n",
        "# 여러 BERT 레이어를 포함하는 인코더 클래스\n",
        "class BertEncoder(nn.Module):\n",
        "    def __init__(self, config: Config):\n",
        "        super().__init__()\n",
        "        self.layer = nn.ModuleList([BertLayer(config) for _ in range(config.num_hidden_layers)])\n",
        "\n",
        "    def forward(self, hidden_states, attention_mask=None, head_mask=None, encoder_hidden_states=None, encoder_attention_mask=None, past_key_values=None, use_cache=None, output_attentions=False, output_hidden_states=False, return_dict=True):\n",
        "        all_hidden_states = () if output_hidden_states else None\n",
        "        all_attentions = () if output_attentions else None\n",
        "        for i, layer_module in enumerate(self.layer):\n",
        "            layer_head_mask = head_mask[i] if head_mask is not None else None\n",
        "            past_key_value = past_key_values[i] if past_key_values is not None else None\n",
        "\n",
        "            if output_hidden_states:\n",
        "                all_hidden_states = all_hidden_states + (hidden_states,)\n",
        "\n",
        "            layer_outputs = layer_module(\n",
        "                hidden_states,\n",
        "                attention_mask,\n",
        "                layer_head_mask,\n",
        "                encoder_hidden_states,\n",
        "                encoder_attention_mask,\n",
        "                past_key_value,\n",
        "                output_attentions,\n",
        "            )\n",
        "            hidden_states = layer_outputs[0]\n",
        "\n",
        "            if output_attentions:\n",
        "                all_attentions = all_attentions + (layer_outputs[1],)\n",
        "\n",
        "        return (hidden_states, all_hidden_states, all_attentions)\n",
        "\n",
        "# 첫 번째 토큰의 출력을 풀링하는 클래스\n",
        "class BertPooler(nn.Module):\n",
        "    def __init__(self, config: Config):\n",
        "        super().__init__()\n",
        "        self.dense = nn.Linear(config.hidden_size, config.hidden_size)\n",
        "        self.activation = nn.Tanh()\n",
        "\n",
        "    def forward(self, hidden_states):\n",
        "        # 첫 번째 토큰의 텐서를 사용해 풀링 출력 생성\n",
        "        first_token_tensor = hidden_states[:, 0]\n",
        "        pooled_output = self.dense(first_token_tensor)\n",
        "        pooled_output = self.activation(pooled_output)\n",
        "        return pooled_output\n",
        "\n",
        "# 전체 BERT 모델을 구현하는 클래스\n",
        "class BertModel(nn.Module):\n",
        "    def __init__(self, config: Config):\n",
        "        super().__init__()\n",
        "        self.config = config\n",
        "        self.embeddings = BertEmbeddings(config)\n",
        "        self.encoder = BertEncoder(config)\n",
        "        self.pooler = BertPooler(config)\n",
        "\n",
        "    def forward(self, input_ids, attention_mask=None, token_type_ids=None, position_ids=None, head_mask=None, inputs_embeds=None, encoder_hidden_states=None, encoder_attention_mask=None, past_key_values=None, use_cache=None, output_attentions=None, output_hidden_states=None, return_dict=None):\n",
        "        # 입력 텐서의 크기 확인\n",
        "        if input_ids is not None and inputs_embeds is not None:\n",
        "            raise ValueError(\"input_ids 혹은 inputs_embeds 둘 중 하나의 형식으로만 입력해야 합니다.\")\n",
        "        elif input_ids is not None:\n",
        "            input_shape = input_ids.size()\n",
        "        elif inputs_embeds is not None:\n",
        "            input_shape = inputs_embeds.size()[:-1]\n",
        "        else:\n",
        "            raise ValueError(\"input_ids 또는 inputs_embeds의 형식이어야 합니다.\")\n",
        "\n",
        "        device = input_ids.device if input_ids is not None else inputs_embeds.device\n",
        "        if attention_mask is None:\n",
        "            attention_mask = torch.ones(input_shape, device=device)\n",
        "        if token_type_ids is None:\n",
        "            token_type_ids = torch.zeros(input_shape, dtype=torch.long, device=device)\n",
        "\n",
        "        extended_attention_mask = attention_mask[:, None, None, :]\n",
        "        extended_attention_mask = extended_attention_mask.to(dtype=next(self.parameters()).dtype)\n",
        "        extended_attention_mask = (1.0 - extended_attention_mask) * -10000.0\n",
        "\n",
        "        head_mask = [None] * self.config.num_hidden_layers\n",
        "\n",
        "        # 임베딩 출력 계산\n",
        "        embedding_output = self.embeddings(\n",
        "            input_ids=input_ids,\n",
        "            position_ids=position_ids,\n",
        "            token_type_ids=token_type_ids,\n",
        "            inputs_embeds=inputs_embeds,\n",
        "        )\n",
        "        # 인코더 출력 계산\n",
        "        encoder_outputs = self.encoder(\n",
        "            embedding_output,\n",
        "            attention_mask=extended_attention_mask,\n",
        "            head_mask=head_mask,\n",
        "            encoder_hidden_states=encoder_hidden_states,\n",
        "            encoder_attention_mask=encoder_attention_mask,\n",
        "            past_key_values=past_key_values,\n",
        "            use_cache=use_cache,\n",
        "            output_attentions=output_attentions,\n",
        "            output_hidden_states=output_hidden_states,\n",
        "            return_dict=return_dict,\n",
        "        )\n",
        "        sequence_output = encoder_outputs[0]\n",
        "        pooled_output = self.pooler(sequence_output)\n",
        "        return sequence_output, pooled_output\n",
        "\n",
        "class BertPredictionHeadTransform(nn.Module):\n",
        "    def __init__(self, config: Config):\n",
        "        super().__init__()\n",
        "        self.dense = nn.Linear(config.hidden_size, config.hidden_size)\n",
        "        self.transform_act_fn = ACT2FN[config.hidden_act]\n",
        "        self.LayerNorm = nn.LayerNorm(\n",
        "            config.hidden_size, eps=config.layer_norm_eps)\n",
        "\n",
        "    def forward(self, hidden_states):\n",
        "        hidden_states = self.dense(hidden_states)\n",
        "        hidden_states = self.transform_act_fn(hidden_states)\n",
        "        hidden_states = self.LayerNorm(hidden_states)\n",
        "        return hidden_states\n",
        "\n",
        "class BertLMPredictionHead(nn.Module):\n",
        "    def __init__(self, config: Config):\n",
        "        super().__init__()\n",
        "        self.transform = BertPredictionHeadTransform(config)\n",
        "        self.decoder = nn.Linear(\n",
        "            config.hidden_size, config.vocab_size, bias=False)\n",
        "        self.bias = nn.Parameter(torch.zeros(config.vocab_size))\n",
        "\n",
        "        self.decoder.bias = self.bias\n",
        "\n",
        "    def forward(self, hidden_states):\n",
        "        hidden_states = self.transform(hidden_states)\n",
        "        hidden_states = self.decoder(hidden_states)\n",
        "        return hidden_states\n",
        "\n",
        "\n",
        "class BertOnlyMLMHead(nn.Module):\n",
        "    def __init__(self, config: Config):\n",
        "        super().__init__()\n",
        "        self.predictions = BertLMPredictionHead(config)\n",
        "\n",
        "    def forward(self, sequence_output):\n",
        "        prediction_scores = self.predictions(sequence_output)\n",
        "        return prediction_scores\n",
        "\n",
        "class BertForPreTraining(nn.Module):\n",
        "    def __init__(self, config):\n",
        "        super().__init__()\n",
        "        self.config = config\n",
        "        self.bert = BertModel(config)\n",
        "        self.cls = BertOnlyMLMHead(config)\n",
        "\n",
        "    def forward(self, input_ids, attention_mask=None, token_type_ids=None, position_ids=None, head_mask=None, inputs_embeds=None, labels=None, output_attentions=None, output_hidden_states=None, return_dict=None):\n",
        "        return_dict = return_dict if return_dict is not None else True\n",
        "\n",
        "        outputs = self.bert(\n",
        "            input_ids,\n",
        "            attention_mask=attention_mask,\n",
        "            token_type_ids=token_type_ids,\n",
        "            position_ids=position_ids,\n",
        "            head_mask=head_mask,\n",
        "            inputs_embeds=inputs_embeds,\n",
        "            output_attentions=output_attentions,\n",
        "            output_hidden_states=output_hidden_states,\n",
        "            return_dict=return_dict,\n",
        "        )\n",
        "\n",
        "        sequence_output = outputs[0]\n",
        "        prediction_scores = self.cls(sequence_output)\n",
        "\n",
        "        masked_lm_loss = None\n",
        "        if labels is not None:\n",
        "            loss_fct = CrossEntropyLoss()\n",
        "            masked_lm_loss = loss_fct(prediction_scores.view(-1, self.config.vocab_size), labels.view(-1))\n",
        "\n",
        "        if not return_dict:\n",
        "            output = (prediction_scores,) + outputs[2:]\n",
        "            return ((masked_lm_loss,) + output) if masked_lm_loss is not None else output\n",
        "\n",
        "        return MaskedLMOutput(\n",
        "            loss=masked_lm_loss,\n",
        "            logits=prediction_scores,\n",
        "            hidden_states=None,\n",
        "            attentions=None,\n",
        "        )"
      ],
      "metadata": {
        "id": "ijzOBrcRNkOm"
      },
      "execution_count": 5,
      "outputs": []
    },
    {
      "cell_type": "code",
      "source": [
        "class CSVDataset(Dataset):\n",
        "    def __init__(self, file_path, tokenizer, block_size=512):\n",
        "        # 데이터셋 로드\n",
        "        df = pd.read_csv(file_path)\n",
        "        text = \" \".join(df[\"text\"].tolist())\n",
        "        self.examples = []\n",
        "\n",
        "        # 토크나이즈 및 블록 크기로 자르기\n",
        "        for i in tqdm(range(0, len(text) - block_size, block_size), desc=\"Tokenizing text\"):\n",
        "            chunk = text[i:i + block_size]\n",
        "            inputs = tokenizer(chunk, add_special_tokens=True, max_length=block_size, truncation=True, return_tensors=\"pt\", padding=\"max_length\")\n",
        "            inputs['labels'] = inputs.input_ids.clone()\n",
        "            self.examples.append(inputs)\n",
        "\n",
        "    def __len__(self):\n",
        "        return len(self.examples)\n",
        "\n",
        "    def __getitem__(self, i):\n",
        "        return {key: val.squeeze(0) for key, val in self.examples[i].items()}\n",
        "\n",
        "# 데이터셋 저장 함수\n",
        "def save_dataset(dataset, file_path):\n",
        "    torch.save(dataset, file_path)\n",
        "\n",
        "# 데이터셋 로드 함수\n",
        "def load_dataset(file_path):\n",
        "    return torch.load(file_path)\n",
        "\n",
        "# 메인 함수\n",
        "def main():\n",
        "    # 데이터셋 경로 지정\n",
        "    data_dir = \"/content/drive/MyDrive/bookcorpus_reduced.csv\"\n",
        "    file_path = os.path.join(data_dir)\n",
        "    processed_data_path = os.path.join(\"/content/drive/MyDrive/processed_dataset.pt\")\n",
        "\n",
        "    # 토크나이저 초기화\n",
        "    tokenizer = BertTokenizer.from_pretrained(\"bert-base-uncased\")\n",
        "\n",
        "    # 데이터셋 전처리 및 저장\n",
        "    if not os.path.exists(processed_data_path):\n",
        "        full_dataset = CSVDataset(file_path, tokenizer)\n",
        "        save_dataset(full_dataset, processed_data_path)\n",
        "        print(\"전처리된 데이터셋 저장 완료.\")\n",
        "    else:\n",
        "        full_dataset = load_dataset(processed_data_path)\n",
        "        print(\"전처리된 데이터셋 불러오기 완료.\")\n",
        "\n",
        "    # 데이터셋 분할 (80% train, 10% validation, 10% test)\n",
        "    train_size = int(0.8 * len(full_dataset))\n",
        "    val_size = int(0.1 * len(full_dataset))\n",
        "    test_size = len(full_dataset) - train_size - val_size\n",
        "    train_dataset, val_dataset, test_dataset = random_split(full_dataset, [train_size, val_size, test_size])\n",
        "\n",
        "    # 데이터 로더 생성\n",
        "    data_collator = DataCollatorForLanguageModeling(tokenizer=tokenizer, mlm=True, mlm_probability=0.15)\n",
        "    train_dataloader = DataLoader(train_dataset, batch_size=8, collate_fn=data_collator)\n",
        "    validation_dataloader = DataLoader(val_dataset, batch_size=8, collate_fn=data_collator)\n",
        "    test_dataloader = DataLoader(test_dataset, batch_size=8, collate_fn=data_collator)\n",
        "\n",
        "    return train_dataloader, validation_dataloader, test_dataloader, tokenizer\n",
        "\n",
        "train_dataloader, validation_dataloader, test_dataloader, tokenizer = main()"
      ],
      "metadata": {
        "colab": {
          "base_uri": "https://localhost:8080/",
          "height": 329,
          "referenced_widgets": [
            "40c2c3858fac43a0ac37e83c8bfb5a05",
            "8bb09de156994e1682ce94900e98e0ba",
            "106d6e36f27d4a49befcfbd8d9c542f0",
            "9176c1de05464c6ea3a5ad4e2fb4acd7",
            "95cd5e0330914b2dbd04c25832d8c217",
            "f59c595d36804a66b38bc7d347b23141",
            "117d6fb5e8bf4f3ba0819dab0e6b9f67",
            "f278868191d641e691580dbe442fe974",
            "b06769c518ff4141839cd9728d2b7f66",
            "3dcbc630ee7b430d9d6add58b45b608d",
            "0787f0f57aba4429b8769cc8b5966fcd",
            "d8bc2ca2b8924091849f39c0ce90a0ef",
            "b7f17b182ba54eb1962fa4084085bb14",
            "7b90dba49389488aa7337b801ca1b744",
            "7e9c60ffcae84c83969e67a37fdd7678",
            "327928b25fa240a28f52e9f2c12cdcb2",
            "3fe83993380d49f797b8a5eac9097372",
            "4f755d2173394c6da6c1c96d67da9d84",
            "41aa10044cd748a9902e615bd0761c9b",
            "ed4df3a178554781be981b4b4f320a82",
            "e348107af2384e7d94d3a0c8fd8e2eeb",
            "0f4437814c704ef7acbbe531de8783a1",
            "f1390ec8ea404e7f9f78c465078d0c4d",
            "3719be1deb544108835473b8a7765718",
            "cb8ddae779764e55b4427586aaed6d7d",
            "097baf5e5af946c2854a70ea3b77aff4",
            "474fa6fc492a43e0877f26fe07b5bd60",
            "13d357c8480942e9bf7e9aeeecfd40b3",
            "1fe60365905d41e783f8f4d9ac05038f",
            "35f9a49840f246beb6b0ec99bc97c425",
            "b5a5a43788c142c3b3c7a8989a644b64",
            "7bedcfbf12104011bc50c7fdc5736e11",
            "f17f3095a1244749b043eb19c71f852e",
            "fa5e0fd7ee88460d97e86beb35c9be20",
            "10d5c56efbfd4d39964bb92a1bc47a5c",
            "2664465f1ad44124a7184618469927be",
            "ee6f9d22f4a040119f1b00b51b8ea103",
            "0ec9cdaee5ff4d9fa9575d57aa6e040f",
            "eb872abd171c449bad9e3a425278b7b6",
            "172f6851696d4dbdadd115fd19569b52",
            "ed72f28e23084223838e8cb11cc93604",
            "ec423c2c0bf1407db4085978f2fd3ad8",
            "f9420dda8c9741e8bc1d3508a7f516d5",
            "e0a48623c7c24ff88dc0a696a5d7c8ba"
          ]
        },
        "id": "9ZuDAl6UsQYX",
        "outputId": "12fd6a7f-9963-4216-b3aa-a461225e2c0f"
      },
      "execution_count": 6,
      "outputs": [
        {
          "output_type": "stream",
          "name": "stderr",
          "text": [
            "/usr/local/lib/python3.10/dist-packages/huggingface_hub/utils/_token.py:89: UserWarning: \n",
            "The secret `HF_TOKEN` does not exist in your Colab secrets.\n",
            "To authenticate with the Hugging Face Hub, create a token in your settings tab (https://huggingface.co/settings/tokens), set it as secret in your Google Colab and restart your session.\n",
            "You will be able to reuse this secret in all of your notebooks.\n",
            "Please note that authentication is recommended but still optional to access public models or datasets.\n",
            "  warnings.warn(\n"
          ]
        },
        {
          "output_type": "display_data",
          "data": {
            "text/plain": [
              "tokenizer_config.json:   0%|          | 0.00/48.0 [00:00<?, ?B/s]"
            ],
            "application/vnd.jupyter.widget-view+json": {
              "version_major": 2,
              "version_minor": 0,
              "model_id": "40c2c3858fac43a0ac37e83c8bfb5a05"
            }
          },
          "metadata": {}
        },
        {
          "output_type": "display_data",
          "data": {
            "text/plain": [
              "vocab.txt:   0%|          | 0.00/232k [00:00<?, ?B/s]"
            ],
            "application/vnd.jupyter.widget-view+json": {
              "version_major": 2,
              "version_minor": 0,
              "model_id": "d8bc2ca2b8924091849f39c0ce90a0ef"
            }
          },
          "metadata": {}
        },
        {
          "output_type": "display_data",
          "data": {
            "text/plain": [
              "tokenizer.json:   0%|          | 0.00/466k [00:00<?, ?B/s]"
            ],
            "application/vnd.jupyter.widget-view+json": {
              "version_major": 2,
              "version_minor": 0,
              "model_id": "f1390ec8ea404e7f9f78c465078d0c4d"
            }
          },
          "metadata": {}
        },
        {
          "output_type": "stream",
          "name": "stderr",
          "text": [
            "/usr/local/lib/python3.10/dist-packages/huggingface_hub/file_download.py:1132: FutureWarning: `resume_download` is deprecated and will be removed in version 1.0.0. Downloads always resume when possible. If you want to force a new download, use `force_download=True`.\n",
            "  warnings.warn(\n"
          ]
        },
        {
          "output_type": "display_data",
          "data": {
            "text/plain": [
              "config.json:   0%|          | 0.00/570 [00:00<?, ?B/s]"
            ],
            "application/vnd.jupyter.widget-view+json": {
              "version_major": 2,
              "version_minor": 0,
              "model_id": "fa5e0fd7ee88460d97e86beb35c9be20"
            }
          },
          "metadata": {}
        },
        {
          "output_type": "stream",
          "name": "stdout",
          "text": [
            "전처리된 데이터셋 불러오기 완료.\n"
          ]
        }
      ]
    },
    {
      "cell_type": "code",
      "source": [
        "def calculate_perplexity(loss):\n",
        "    return math.exp(loss)\n",
        "\n",
        "def train(model, train_dataloader, validation_dataloader, tokenizer, device, epochs=3):\n",
        "    model.train()  # 모델을 학습 모드로 설정\n",
        "    model.to(device)  # 모델을 지정된 장치로 이동\n",
        "    optimizer = AdamW(model.parameters(), lr=5e-5)  # 옵티마이저 설정\n",
        "\n",
        "    # 에포크만큼 반복\n",
        "    for epoch in range(epochs):\n",
        "        print(f\"Epoch {epoch + 1}/{epochs}\")\n",
        "        running_loss = 0.0\n",
        "\n",
        "        # 데이터 로더에서 미니배치를 하나씩 가져와서 학습\n",
        "        for step, batch in enumerate(tqdm(train_dataloader, desc=\"Training\")):\n",
        "            inputs = {key: val.to(device) for key, val in batch.items()}\n",
        "\n",
        "            outputs = model(**inputs)\n",
        "            loss = outputs.loss\n",
        "\n",
        "            optimizer.zero_grad()\n",
        "            loss.backward()\n",
        "            optimizer.step()\n",
        "\n",
        "            running_loss += loss.item()\n",
        "\n",
        "            # 10번째 배치마다 현재 손실과 퍼플렉서티 출력\n",
        "            if step % 10 == 0 and step != 0:\n",
        "                current_loss = running_loss / (step + 1)\n",
        "                current_perplexity = calculate_perplexity(current_loss)\n",
        "                print(f\"Batch {step}, Loss: {current_loss:.4f}, Perplexity: {current_perplexity:.4f}\")\n",
        "\n",
        "        # 에포크의 손실과 퍼플렉서티 출력\n",
        "        epoch_loss = running_loss / len(train_dataloader)\n",
        "        epoch_perplexity = calculate_perplexity(epoch_loss)\n",
        "        print(f\"Epoch {epoch + 1} Loss: {epoch_loss:.4f}, Perplexity: {epoch_perplexity:.4f}\")\n",
        "\n",
        "        # 검증 단계\n",
        "        model.eval()  # 모델을 평가 모드로 설정\n",
        "        validation_loss = 0.0\n",
        "\n",
        "        with torch.no_grad():\n",
        "            for step, batch in enumerate(tqdm(validation_dataloader, desc=\"Validating\")):\n",
        "                inputs = {key: val.to(device) for key, val in batch.items()}\n",
        "\n",
        "                outputs = model(**inputs)\n",
        "                loss = outputs.loss\n",
        "\n",
        "                validation_loss += loss.item()\n",
        "\n",
        "        # 검증 손실과 퍼플렉서티 출력\n",
        "        epoch_val_loss = validation_loss / len(validation_dataloader)\n",
        "        epoch_val_perplexity = calculate_perplexity(epoch_val_loss)\n",
        "        print(f\"Validation Loss: {epoch_val_loss:.4f}, Perplexity: {epoch_val_perplexity:.4f}\")\n",
        "        model.train()  # 평가 후에 모델을 다시 학습 모드로 설정\n",
        "\n",
        "def test(model, test_dataloader, device):\n",
        "    model.eval()  # 모델을 평가 모드로 설정\n",
        "    test_loss = 0.0\n",
        "\n",
        "    with torch.no_grad():\n",
        "        for batch in tqdm(test_dataloader, desc=\"Testing\"):\n",
        "            inputs = {key: val.to(device) for key, val in batch.items()}\n",
        "            outputs = model(**inputs)\n",
        "            loss = outputs.loss\n",
        "            test_loss += loss.item()\n",
        "\n",
        "    # 테스트 데이터셋의 퍼플렉서티 출력\n",
        "    test_loss = test_loss / len(test_dataloader)\n",
        "    test_perplexity = calculate_perplexity(test_loss)\n",
        "    print(f\"Test Loss: {test_loss:.4f}, Perplexity: {test_perplexity:.4f}\")\n",
        "\n",
        "# 데이터셋과 데이터 로더 설정\n",
        "# (이 부분은 주어진 코드에서 제공된 데이터 로더를 사용한다고 가정합니다)\n",
        "device = torch.device(\"cuda\" if torch.cuda.is_available() else \"cpu\")\n",
        "model = BertForPreTraining(Config)\n",
        "train(model, train_dataloader, validation_dataloader, tokenizer, device, epochs=3)\n",
        "test(model, test_dataloader, device)"
      ],
      "metadata": {
        "colab": {
          "base_uri": "https://localhost:8080/"
        },
        "id": "_JDizczOwPIc",
        "outputId": "0cf16e22-02f9-48ea-81ee-7dfe6b27d98b"
      },
      "execution_count": 12,
      "outputs": [
        {
          "output_type": "stream",
          "name": "stdout",
          "text": [
            "Epoch 1/3\n"
          ]
        },
        {
          "output_type": "stream",
          "name": "stderr",
          "text": [
            "Training:   4%|▎         | 11/294 [00:08<03:38,  1.29it/s]"
          ]
        },
        {
          "output_type": "stream",
          "name": "stdout",
          "text": [
            "Batch 10, Loss: 9.7127, Perplexity: 16526.5302\n"
          ]
        },
        {
          "output_type": "stream",
          "name": "stderr",
          "text": [
            "Training:   7%|▋         | 21/294 [00:16<03:33,  1.28it/s]"
          ]
        },
        {
          "output_type": "stream",
          "name": "stdout",
          "text": [
            "Batch 20, Loss: 9.3219, Perplexity: 11180.5230\n"
          ]
        },
        {
          "output_type": "stream",
          "name": "stderr",
          "text": [
            "Training:  11%|█         | 31/294 [00:24<03:27,  1.27it/s]"
          ]
        },
        {
          "output_type": "stream",
          "name": "stdout",
          "text": [
            "Batch 30, Loss: 9.1136, Perplexity: 9078.3508\n"
          ]
        },
        {
          "output_type": "stream",
          "name": "stderr",
          "text": [
            "Training:  14%|█▍        | 41/294 [00:32<03:17,  1.28it/s]"
          ]
        },
        {
          "output_type": "stream",
          "name": "stdout",
          "text": [
            "Batch 40, Loss: 8.9136, Perplexity: 7432.5041\n"
          ]
        },
        {
          "output_type": "stream",
          "name": "stderr",
          "text": [
            "Training:  17%|█▋        | 51/294 [00:39<03:08,  1.29it/s]"
          ]
        },
        {
          "output_type": "stream",
          "name": "stdout",
          "text": [
            "Batch 50, Loss: 8.7287, Perplexity: 6177.4504\n"
          ]
        },
        {
          "output_type": "stream",
          "name": "stderr",
          "text": [
            "Training:  21%|██        | 61/294 [00:47<02:59,  1.30it/s]"
          ]
        },
        {
          "output_type": "stream",
          "name": "stdout",
          "text": [
            "Batch 60, Loss: 8.5990, Perplexity: 5426.3790\n"
          ]
        },
        {
          "output_type": "stream",
          "name": "stderr",
          "text": [
            "Training:  24%|██▍       | 71/294 [00:55<02:50,  1.31it/s]"
          ]
        },
        {
          "output_type": "stream",
          "name": "stdout",
          "text": [
            "Batch 70, Loss: 8.4608, Perplexity: 4725.8230\n"
          ]
        },
        {
          "output_type": "stream",
          "name": "stderr",
          "text": [
            "Training:  28%|██▊       | 81/294 [01:02<02:43,  1.31it/s]"
          ]
        },
        {
          "output_type": "stream",
          "name": "stdout",
          "text": [
            "Batch 80, Loss: 8.3160, Perplexity: 4088.9717\n"
          ]
        },
        {
          "output_type": "stream",
          "name": "stderr",
          "text": [
            "Training:  31%|███       | 91/294 [01:10<02:35,  1.31it/s]"
          ]
        },
        {
          "output_type": "stream",
          "name": "stdout",
          "text": [
            "Batch 90, Loss: 8.2082, Perplexity: 3670.7588\n"
          ]
        },
        {
          "output_type": "stream",
          "name": "stderr",
          "text": [
            "Training:  34%|███▍      | 101/294 [01:18<02:28,  1.30it/s]"
          ]
        },
        {
          "output_type": "stream",
          "name": "stdout",
          "text": [
            "Batch 100, Loss: 8.1168, Perplexity: 3350.4088\n"
          ]
        },
        {
          "output_type": "stream",
          "name": "stderr",
          "text": [
            "Training:  38%|███▊      | 111/294 [01:25<02:20,  1.30it/s]"
          ]
        },
        {
          "output_type": "stream",
          "name": "stdout",
          "text": [
            "Batch 110, Loss: 8.0330, Perplexity: 3080.9211\n"
          ]
        },
        {
          "output_type": "stream",
          "name": "stderr",
          "text": [
            "Training:  41%|████      | 121/294 [01:33<02:13,  1.30it/s]"
          ]
        },
        {
          "output_type": "stream",
          "name": "stdout",
          "text": [
            "Batch 120, Loss: 7.9604, Perplexity: 2865.0885\n"
          ]
        },
        {
          "output_type": "stream",
          "name": "stderr",
          "text": [
            "Training:  45%|████▍     | 131/294 [01:41<02:05,  1.29it/s]"
          ]
        },
        {
          "output_type": "stream",
          "name": "stdout",
          "text": [
            "Batch 130, Loss: 7.8856, Perplexity: 2658.8147\n"
          ]
        },
        {
          "output_type": "stream",
          "name": "stderr",
          "text": [
            "Training:  48%|████▊     | 141/294 [01:48<01:58,  1.29it/s]"
          ]
        },
        {
          "output_type": "stream",
          "name": "stdout",
          "text": [
            "Batch 140, Loss: 7.8233, Perplexity: 2498.1350\n"
          ]
        },
        {
          "output_type": "stream",
          "name": "stderr",
          "text": [
            "Training:  51%|█████▏    | 151/294 [01:56<01:50,  1.29it/s]"
          ]
        },
        {
          "output_type": "stream",
          "name": "stdout",
          "text": [
            "Batch 150, Loss: 7.7738, Perplexity: 2377.4441\n"
          ]
        },
        {
          "output_type": "stream",
          "name": "stderr",
          "text": [
            "Training:  55%|█████▍    | 161/294 [02:04<01:42,  1.30it/s]"
          ]
        },
        {
          "output_type": "stream",
          "name": "stdout",
          "text": [
            "Batch 160, Loss: 7.7252, Perplexity: 2264.7155\n"
          ]
        },
        {
          "output_type": "stream",
          "name": "stderr",
          "text": [
            "Training:  58%|█████▊    | 171/294 [02:12<01:34,  1.30it/s]"
          ]
        },
        {
          "output_type": "stream",
          "name": "stdout",
          "text": [
            "Batch 170, Loss: 7.6838, Perplexity: 2172.8786\n"
          ]
        },
        {
          "output_type": "stream",
          "name": "stderr",
          "text": [
            "Training:  62%|██████▏   | 181/294 [02:19<01:26,  1.30it/s]"
          ]
        },
        {
          "output_type": "stream",
          "name": "stdout",
          "text": [
            "Batch 180, Loss: 7.6458, Perplexity: 2091.8565\n"
          ]
        },
        {
          "output_type": "stream",
          "name": "stderr",
          "text": [
            "Training:  65%|██████▍   | 191/294 [02:27<01:19,  1.30it/s]"
          ]
        },
        {
          "output_type": "stream",
          "name": "stdout",
          "text": [
            "Batch 190, Loss: 7.6192, Perplexity: 2036.9288\n"
          ]
        },
        {
          "output_type": "stream",
          "name": "stderr",
          "text": [
            "Training:  68%|██████▊   | 201/294 [02:35<01:11,  1.30it/s]"
          ]
        },
        {
          "output_type": "stream",
          "name": "stdout",
          "text": [
            "Batch 200, Loss: 7.5857, Perplexity: 1969.8267\n"
          ]
        },
        {
          "output_type": "stream",
          "name": "stderr",
          "text": [
            "Training:  72%|███████▏  | 211/294 [02:42<01:03,  1.30it/s]"
          ]
        },
        {
          "output_type": "stream",
          "name": "stdout",
          "text": [
            "Batch 210, Loss: 7.5566, Perplexity: 1913.4093\n"
          ]
        },
        {
          "output_type": "stream",
          "name": "stderr",
          "text": [
            "Training:  75%|███████▌  | 221/294 [02:50<00:56,  1.30it/s]"
          ]
        },
        {
          "output_type": "stream",
          "name": "stdout",
          "text": [
            "Batch 220, Loss: 7.5260, Perplexity: 1855.7093\n"
          ]
        },
        {
          "output_type": "stream",
          "name": "stderr",
          "text": [
            "Training:  79%|███████▊  | 231/294 [02:58<00:48,  1.30it/s]"
          ]
        },
        {
          "output_type": "stream",
          "name": "stdout",
          "text": [
            "Batch 230, Loss: 7.5030, Perplexity: 1813.5569\n"
          ]
        },
        {
          "output_type": "stream",
          "name": "stderr",
          "text": [
            "Training:  82%|████████▏ | 241/294 [03:05<00:40,  1.30it/s]"
          ]
        },
        {
          "output_type": "stream",
          "name": "stdout",
          "text": [
            "Batch 240, Loss: 7.4834, Perplexity: 1778.3073\n"
          ]
        },
        {
          "output_type": "stream",
          "name": "stderr",
          "text": [
            "Training:  85%|████████▌ | 251/294 [03:13<00:33,  1.30it/s]"
          ]
        },
        {
          "output_type": "stream",
          "name": "stdout",
          "text": [
            "Batch 250, Loss: 7.4650, Perplexity: 1745.8807\n"
          ]
        },
        {
          "output_type": "stream",
          "name": "stderr",
          "text": [
            "Training:  89%|████████▉ | 261/294 [03:21<00:25,  1.30it/s]"
          ]
        },
        {
          "output_type": "stream",
          "name": "stdout",
          "text": [
            "Batch 260, Loss: 7.4448, Perplexity: 1710.8913\n"
          ]
        },
        {
          "output_type": "stream",
          "name": "stderr",
          "text": [
            "Training:  92%|█████████▏| 271/294 [03:29<00:17,  1.30it/s]"
          ]
        },
        {
          "output_type": "stream",
          "name": "stdout",
          "text": [
            "Batch 270, Loss: 7.4250, Perplexity: 1677.4508\n"
          ]
        },
        {
          "output_type": "stream",
          "name": "stderr",
          "text": [
            "Training:  96%|█████████▌| 281/294 [03:36<00:10,  1.30it/s]"
          ]
        },
        {
          "output_type": "stream",
          "name": "stdout",
          "text": [
            "Batch 280, Loss: 7.4025, Perplexity: 1640.0443\n"
          ]
        },
        {
          "output_type": "stream",
          "name": "stderr",
          "text": [
            "Training:  99%|█████████▉| 291/294 [03:44<00:02,  1.30it/s]"
          ]
        },
        {
          "output_type": "stream",
          "name": "stdout",
          "text": [
            "Batch 290, Loss: 7.3837, Perplexity: 1609.5258\n"
          ]
        },
        {
          "output_type": "stream",
          "name": "stderr",
          "text": [
            "Training: 100%|██████████| 294/294 [03:46<00:00,  1.30it/s]\n"
          ]
        },
        {
          "output_type": "stream",
          "name": "stdout",
          "text": [
            "Epoch 1 Loss: 7.3762, Perplexity: 1597.5647\n"
          ]
        },
        {
          "output_type": "stream",
          "name": "stderr",
          "text": [
            "Validating: 100%|██████████| 37/37 [00:09<00:00,  3.89it/s]\n"
          ]
        },
        {
          "output_type": "stream",
          "name": "stdout",
          "text": [
            "Validation Loss: 6.8428, Perplexity: 937.1385\n",
            "Epoch 2/3\n"
          ]
        },
        {
          "output_type": "stream",
          "name": "stderr",
          "text": [
            "Training:   4%|▎         | 11/294 [00:08<03:37,  1.30it/s]"
          ]
        },
        {
          "output_type": "stream",
          "name": "stdout",
          "text": [
            "Batch 10, Loss: 6.8085, Perplexity: 905.4679\n"
          ]
        },
        {
          "output_type": "stream",
          "name": "stderr",
          "text": [
            "Training:   7%|▋         | 21/294 [00:16<03:30,  1.30it/s]"
          ]
        },
        {
          "output_type": "stream",
          "name": "stdout",
          "text": [
            "Batch 20, Loss: 6.8022, Perplexity: 899.8308\n"
          ]
        },
        {
          "output_type": "stream",
          "name": "stderr",
          "text": [
            "Training:  11%|█         | 31/294 [00:23<03:22,  1.30it/s]"
          ]
        },
        {
          "output_type": "stream",
          "name": "stdout",
          "text": [
            "Batch 30, Loss: 6.8300, Perplexity: 925.2051\n"
          ]
        },
        {
          "output_type": "stream",
          "name": "stderr",
          "text": [
            "Training:  14%|█▍        | 41/294 [00:31<03:14,  1.30it/s]"
          ]
        },
        {
          "output_type": "stream",
          "name": "stdout",
          "text": [
            "Batch 40, Loss: 6.8504, Perplexity: 944.2759\n"
          ]
        },
        {
          "output_type": "stream",
          "name": "stderr",
          "text": [
            "Training:  17%|█▋        | 51/294 [00:39<03:07,  1.30it/s]"
          ]
        },
        {
          "output_type": "stream",
          "name": "stdout",
          "text": [
            "Batch 50, Loss: 6.8301, Perplexity: 925.2537\n"
          ]
        },
        {
          "output_type": "stream",
          "name": "stderr",
          "text": [
            "Training:  21%|██        | 61/294 [00:46<02:59,  1.30it/s]"
          ]
        },
        {
          "output_type": "stream",
          "name": "stdout",
          "text": [
            "Batch 60, Loss: 6.8203, Perplexity: 916.2841\n"
          ]
        },
        {
          "output_type": "stream",
          "name": "stderr",
          "text": [
            "Training:  24%|██▍       | 71/294 [00:54<02:51,  1.30it/s]"
          ]
        },
        {
          "output_type": "stream",
          "name": "stdout",
          "text": [
            "Batch 70, Loss: 6.8152, Perplexity: 911.6393\n"
          ]
        },
        {
          "output_type": "stream",
          "name": "stderr",
          "text": [
            "Training:  28%|██▊       | 81/294 [01:02<02:44,  1.30it/s]"
          ]
        },
        {
          "output_type": "stream",
          "name": "stdout",
          "text": [
            "Batch 80, Loss: 6.8238, Perplexity: 919.4978\n"
          ]
        },
        {
          "output_type": "stream",
          "name": "stderr",
          "text": [
            "Training:  31%|███       | 91/294 [01:10<02:36,  1.30it/s]"
          ]
        },
        {
          "output_type": "stream",
          "name": "stdout",
          "text": [
            "Batch 90, Loss: 6.8091, Perplexity: 906.0302\n"
          ]
        },
        {
          "output_type": "stream",
          "name": "stderr",
          "text": [
            "Training:  34%|███▍      | 101/294 [01:17<02:28,  1.30it/s]"
          ]
        },
        {
          "output_type": "stream",
          "name": "stdout",
          "text": [
            "Batch 100, Loss: 6.8044, Perplexity: 901.7823\n"
          ]
        },
        {
          "output_type": "stream",
          "name": "stderr",
          "text": [
            "Training:  38%|███▊      | 111/294 [01:25<02:20,  1.30it/s]"
          ]
        },
        {
          "output_type": "stream",
          "name": "stdout",
          "text": [
            "Batch 110, Loss: 6.8040, Perplexity: 901.4224\n"
          ]
        },
        {
          "output_type": "stream",
          "name": "stderr",
          "text": [
            "Training:  41%|████      | 121/294 [01:33<02:13,  1.30it/s]"
          ]
        },
        {
          "output_type": "stream",
          "name": "stdout",
          "text": [
            "Batch 120, Loss: 6.7954, Perplexity: 893.6867\n"
          ]
        },
        {
          "output_type": "stream",
          "name": "stderr",
          "text": [
            "Training:  45%|████▍     | 131/294 [01:40<02:05,  1.30it/s]"
          ]
        },
        {
          "output_type": "stream",
          "name": "stdout",
          "text": [
            "Batch 130, Loss: 6.7973, Perplexity: 895.4666\n"
          ]
        },
        {
          "output_type": "stream",
          "name": "stderr",
          "text": [
            "Training:  48%|████▊     | 141/294 [01:48<01:58,  1.30it/s]"
          ]
        },
        {
          "output_type": "stream",
          "name": "stdout",
          "text": [
            "Batch 140, Loss: 6.7922, Perplexity: 890.8394\n"
          ]
        },
        {
          "output_type": "stream",
          "name": "stderr",
          "text": [
            "Training:  51%|█████▏    | 151/294 [01:56<01:50,  1.30it/s]"
          ]
        },
        {
          "output_type": "stream",
          "name": "stdout",
          "text": [
            "Batch 150, Loss: 6.7904, Perplexity: 889.2905\n"
          ]
        },
        {
          "output_type": "stream",
          "name": "stderr",
          "text": [
            "Training:  55%|█████▍    | 161/294 [02:04<01:42,  1.30it/s]"
          ]
        },
        {
          "output_type": "stream",
          "name": "stdout",
          "text": [
            "Batch 160, Loss: 6.7876, Perplexity: 886.8200\n"
          ]
        },
        {
          "output_type": "stream",
          "name": "stderr",
          "text": [
            "Training:  58%|█████▊    | 171/294 [02:11<01:34,  1.30it/s]"
          ]
        },
        {
          "output_type": "stream",
          "name": "stdout",
          "text": [
            "Batch 170, Loss: 6.7861, Perplexity: 885.4959\n"
          ]
        },
        {
          "output_type": "stream",
          "name": "stderr",
          "text": [
            "Training:  62%|██████▏   | 181/294 [02:19<01:27,  1.30it/s]"
          ]
        },
        {
          "output_type": "stream",
          "name": "stdout",
          "text": [
            "Batch 180, Loss: 6.7809, Perplexity: 880.8913\n"
          ]
        },
        {
          "output_type": "stream",
          "name": "stderr",
          "text": [
            "Training:  65%|██████▍   | 191/294 [02:27<01:19,  1.30it/s]"
          ]
        },
        {
          "output_type": "stream",
          "name": "stdout",
          "text": [
            "Batch 190, Loss: 6.7800, Perplexity: 880.0265\n"
          ]
        },
        {
          "output_type": "stream",
          "name": "stderr",
          "text": [
            "Training:  68%|██████▊   | 201/294 [02:34<01:11,  1.29it/s]"
          ]
        },
        {
          "output_type": "stream",
          "name": "stdout",
          "text": [
            "Batch 200, Loss: 6.7818, Perplexity: 881.6642\n"
          ]
        },
        {
          "output_type": "stream",
          "name": "stderr",
          "text": [
            "Training:  72%|███████▏  | 211/294 [02:42<01:03,  1.30it/s]"
          ]
        },
        {
          "output_type": "stream",
          "name": "stdout",
          "text": [
            "Batch 210, Loss: 6.7819, Perplexity: 881.7610\n"
          ]
        },
        {
          "output_type": "stream",
          "name": "stderr",
          "text": [
            "Training:  75%|███████▌  | 221/294 [02:50<00:56,  1.30it/s]"
          ]
        },
        {
          "output_type": "stream",
          "name": "stdout",
          "text": [
            "Batch 220, Loss: 6.7798, Perplexity: 879.8991\n"
          ]
        },
        {
          "output_type": "stream",
          "name": "stderr",
          "text": [
            "Training:  79%|███████▊  | 231/294 [02:58<00:48,  1.29it/s]"
          ]
        },
        {
          "output_type": "stream",
          "name": "stdout",
          "text": [
            "Batch 230, Loss: 6.7732, Perplexity: 874.0872\n"
          ]
        },
        {
          "output_type": "stream",
          "name": "stderr",
          "text": [
            "Training:  82%|████████▏ | 241/294 [03:05<00:40,  1.30it/s]"
          ]
        },
        {
          "output_type": "stream",
          "name": "stdout",
          "text": [
            "Batch 240, Loss: 6.7712, Perplexity: 872.3813\n"
          ]
        },
        {
          "output_type": "stream",
          "name": "stderr",
          "text": [
            "Training:  85%|████████▌ | 251/294 [03:13<00:33,  1.30it/s]"
          ]
        },
        {
          "output_type": "stream",
          "name": "stdout",
          "text": [
            "Batch 250, Loss: 6.7673, Perplexity: 868.9833\n"
          ]
        },
        {
          "output_type": "stream",
          "name": "stderr",
          "text": [
            "Training:  89%|████████▉ | 261/294 [03:21<00:25,  1.29it/s]"
          ]
        },
        {
          "output_type": "stream",
          "name": "stdout",
          "text": [
            "Batch 260, Loss: 6.7660, Perplexity: 867.8278\n"
          ]
        },
        {
          "output_type": "stream",
          "name": "stderr",
          "text": [
            "Training:  92%|█████████▏| 271/294 [03:28<00:17,  1.29it/s]"
          ]
        },
        {
          "output_type": "stream",
          "name": "stdout",
          "text": [
            "Batch 270, Loss: 6.7589, Perplexity: 861.7165\n"
          ]
        },
        {
          "output_type": "stream",
          "name": "stderr",
          "text": [
            "Training:  96%|█████████▌| 281/294 [03:36<00:10,  1.29it/s]"
          ]
        },
        {
          "output_type": "stream",
          "name": "stdout",
          "text": [
            "Batch 280, Loss: 6.7582, Perplexity: 861.1199\n"
          ]
        },
        {
          "output_type": "stream",
          "name": "stderr",
          "text": [
            "Training:  99%|█████████▉| 291/294 [03:44<00:02,  1.30it/s]"
          ]
        },
        {
          "output_type": "stream",
          "name": "stdout",
          "text": [
            "Batch 290, Loss: 6.7589, Perplexity: 861.7038\n"
          ]
        },
        {
          "output_type": "stream",
          "name": "stderr",
          "text": [
            "Training: 100%|██████████| 294/294 [03:46<00:00,  1.30it/s]\n"
          ]
        },
        {
          "output_type": "stream",
          "name": "stdout",
          "text": [
            "Epoch 2 Loss: 6.7597, Perplexity: 862.3908\n"
          ]
        },
        {
          "output_type": "stream",
          "name": "stderr",
          "text": [
            "Validating: 100%|██████████| 37/37 [00:09<00:00,  3.87it/s]\n"
          ]
        },
        {
          "output_type": "stream",
          "name": "stdout",
          "text": [
            "Validation Loss: 6.7181, Perplexity: 827.2614\n",
            "Epoch 3/3\n"
          ]
        },
        {
          "output_type": "stream",
          "name": "stderr",
          "text": [
            "Training:   4%|▎         | 11/294 [00:08<03:38,  1.29it/s]"
          ]
        },
        {
          "output_type": "stream",
          "name": "stdout",
          "text": [
            "Batch 10, Loss: 6.6190, Perplexity: 749.1797\n"
          ]
        },
        {
          "output_type": "stream",
          "name": "stderr",
          "text": [
            "Training:   7%|▋         | 21/294 [00:16<03:30,  1.30it/s]"
          ]
        },
        {
          "output_type": "stream",
          "name": "stdout",
          "text": [
            "Batch 20, Loss: 6.6354, Perplexity: 761.5934\n"
          ]
        },
        {
          "output_type": "stream",
          "name": "stderr",
          "text": [
            "Training:  11%|█         | 31/294 [00:23<03:22,  1.30it/s]"
          ]
        },
        {
          "output_type": "stream",
          "name": "stdout",
          "text": [
            "Batch 30, Loss: 6.6414, Perplexity: 766.1797\n"
          ]
        },
        {
          "output_type": "stream",
          "name": "stderr",
          "text": [
            "Training:  14%|█▍        | 41/294 [00:31<03:14,  1.30it/s]"
          ]
        },
        {
          "output_type": "stream",
          "name": "stdout",
          "text": [
            "Batch 40, Loss: 6.6618, Perplexity: 781.9748\n"
          ]
        },
        {
          "output_type": "stream",
          "name": "stderr",
          "text": [
            "Training:  17%|█▋        | 51/294 [00:39<03:07,  1.30it/s]"
          ]
        },
        {
          "output_type": "stream",
          "name": "stdout",
          "text": [
            "Batch 50, Loss: 6.6407, Perplexity: 765.6078\n"
          ]
        },
        {
          "output_type": "stream",
          "name": "stderr",
          "text": [
            "Training:  21%|██        | 61/294 [00:47<02:59,  1.30it/s]"
          ]
        },
        {
          "output_type": "stream",
          "name": "stdout",
          "text": [
            "Batch 60, Loss: 6.6370, Perplexity: 762.8109\n"
          ]
        },
        {
          "output_type": "stream",
          "name": "stderr",
          "text": [
            "Training:  24%|██▍       | 71/294 [00:54<02:51,  1.30it/s]"
          ]
        },
        {
          "output_type": "stream",
          "name": "stdout",
          "text": [
            "Batch 70, Loss: 6.6479, Perplexity: 771.1426\n"
          ]
        },
        {
          "output_type": "stream",
          "name": "stderr",
          "text": [
            "Training:  28%|██▊       | 81/294 [01:02<02:44,  1.30it/s]"
          ]
        },
        {
          "output_type": "stream",
          "name": "stdout",
          "text": [
            "Batch 80, Loss: 6.6445, Perplexity: 768.5108\n"
          ]
        },
        {
          "output_type": "stream",
          "name": "stderr",
          "text": [
            "Training:  31%|███       | 91/294 [01:10<02:36,  1.30it/s]"
          ]
        },
        {
          "output_type": "stream",
          "name": "stdout",
          "text": [
            "Batch 90, Loss: 6.6371, Perplexity: 762.8839\n"
          ]
        },
        {
          "output_type": "stream",
          "name": "stderr",
          "text": [
            "Training:  34%|███▍      | 101/294 [01:17<02:29,  1.29it/s]"
          ]
        },
        {
          "output_type": "stream",
          "name": "stdout",
          "text": [
            "Batch 100, Loss: 6.6387, Perplexity: 764.1305\n"
          ]
        },
        {
          "output_type": "stream",
          "name": "stderr",
          "text": [
            "Training:  38%|███▊      | 111/294 [01:25<02:21,  1.30it/s]"
          ]
        },
        {
          "output_type": "stream",
          "name": "stdout",
          "text": [
            "Batch 110, Loss: 6.6394, Perplexity: 764.6406\n"
          ]
        },
        {
          "output_type": "stream",
          "name": "stderr",
          "text": [
            "Training:  41%|████      | 121/294 [01:33<02:13,  1.30it/s]"
          ]
        },
        {
          "output_type": "stream",
          "name": "stdout",
          "text": [
            "Batch 120, Loss: 6.6353, Perplexity: 761.4884\n"
          ]
        },
        {
          "output_type": "stream",
          "name": "stderr",
          "text": [
            "Training:  45%|████▍     | 131/294 [01:40<02:05,  1.30it/s]"
          ]
        },
        {
          "output_type": "stream",
          "name": "stdout",
          "text": [
            "Batch 130, Loss: 6.6262, Perplexity: 754.6250\n"
          ]
        },
        {
          "output_type": "stream",
          "name": "stderr",
          "text": [
            "Training:  48%|████▊     | 141/294 [01:48<01:57,  1.30it/s]"
          ]
        },
        {
          "output_type": "stream",
          "name": "stdout",
          "text": [
            "Batch 140, Loss: 6.6254, Perplexity: 753.9719\n"
          ]
        },
        {
          "output_type": "stream",
          "name": "stderr",
          "text": [
            "Training:  51%|█████▏    | 151/294 [01:56<01:50,  1.30it/s]"
          ]
        },
        {
          "output_type": "stream",
          "name": "stdout",
          "text": [
            "Batch 150, Loss: 6.6203, Perplexity: 750.1716\n"
          ]
        },
        {
          "output_type": "stream",
          "name": "stderr",
          "text": [
            "Training:  55%|█████▍    | 161/294 [02:04<01:42,  1.30it/s]"
          ]
        },
        {
          "output_type": "stream",
          "name": "stdout",
          "text": [
            "Batch 160, Loss: 6.6255, Perplexity: 754.0529\n"
          ]
        },
        {
          "output_type": "stream",
          "name": "stderr",
          "text": [
            "Training:  58%|█████▊    | 171/294 [02:11<01:34,  1.30it/s]"
          ]
        },
        {
          "output_type": "stream",
          "name": "stdout",
          "text": [
            "Batch 170, Loss: 6.6262, Perplexity: 754.5746\n"
          ]
        },
        {
          "output_type": "stream",
          "name": "stderr",
          "text": [
            "Training:  62%|██████▏   | 181/294 [02:19<01:27,  1.30it/s]"
          ]
        },
        {
          "output_type": "stream",
          "name": "stdout",
          "text": [
            "Batch 180, Loss: 6.6262, Perplexity: 754.5730\n"
          ]
        },
        {
          "output_type": "stream",
          "name": "stderr",
          "text": [
            "Training:  65%|██████▍   | 191/294 [02:27<01:19,  1.30it/s]"
          ]
        },
        {
          "output_type": "stream",
          "name": "stdout",
          "text": [
            "Batch 190, Loss: 6.6237, Perplexity: 752.6973\n"
          ]
        },
        {
          "output_type": "stream",
          "name": "stderr",
          "text": [
            "Training:  68%|██████▊   | 201/294 [02:34<01:11,  1.30it/s]"
          ]
        },
        {
          "output_type": "stream",
          "name": "stdout",
          "text": [
            "Batch 200, Loss: 6.6196, Perplexity: 749.6296\n"
          ]
        },
        {
          "output_type": "stream",
          "name": "stderr",
          "text": [
            "Training:  72%|███████▏  | 211/294 [02:42<01:03,  1.30it/s]"
          ]
        },
        {
          "output_type": "stream",
          "name": "stdout",
          "text": [
            "Batch 210, Loss: 6.6171, Perplexity: 747.7399\n"
          ]
        },
        {
          "output_type": "stream",
          "name": "stderr",
          "text": [
            "Training:  75%|███████▌  | 221/294 [02:50<00:56,  1.30it/s]"
          ]
        },
        {
          "output_type": "stream",
          "name": "stdout",
          "text": [
            "Batch 220, Loss: 6.6118, Perplexity: 743.8049\n"
          ]
        },
        {
          "output_type": "stream",
          "name": "stderr",
          "text": [
            "Training:  79%|███████▊  | 231/294 [02:58<00:48,  1.30it/s]"
          ]
        },
        {
          "output_type": "stream",
          "name": "stdout",
          "text": [
            "Batch 230, Loss: 6.6102, Perplexity: 742.6453\n"
          ]
        },
        {
          "output_type": "stream",
          "name": "stderr",
          "text": [
            "Training:  82%|████████▏ | 241/294 [03:05<00:40,  1.30it/s]"
          ]
        },
        {
          "output_type": "stream",
          "name": "stdout",
          "text": [
            "Batch 240, Loss: 6.6139, Perplexity: 745.3750\n"
          ]
        },
        {
          "output_type": "stream",
          "name": "stderr",
          "text": [
            "Training:  85%|████████▌ | 251/294 [03:13<00:33,  1.30it/s]"
          ]
        },
        {
          "output_type": "stream",
          "name": "stdout",
          "text": [
            "Batch 250, Loss: 6.6169, Perplexity: 747.6046\n"
          ]
        },
        {
          "output_type": "stream",
          "name": "stderr",
          "text": [
            "Training:  89%|████████▉ | 261/294 [03:21<00:25,  1.30it/s]"
          ]
        },
        {
          "output_type": "stream",
          "name": "stdout",
          "text": [
            "Batch 260, Loss: 6.6209, Perplexity: 750.6103\n"
          ]
        },
        {
          "output_type": "stream",
          "name": "stderr",
          "text": [
            "Training:  92%|█████████▏| 271/294 [03:28<00:17,  1.30it/s]"
          ]
        },
        {
          "output_type": "stream",
          "name": "stdout",
          "text": [
            "Batch 270, Loss: 6.6177, Perplexity: 748.2189\n"
          ]
        },
        {
          "output_type": "stream",
          "name": "stderr",
          "text": [
            "Training:  96%|█████████▌| 281/294 [03:36<00:10,  1.29it/s]"
          ]
        },
        {
          "output_type": "stream",
          "name": "stdout",
          "text": [
            "Batch 280, Loss: 6.6164, Perplexity: 747.2261\n"
          ]
        },
        {
          "output_type": "stream",
          "name": "stderr",
          "text": [
            "Training:  99%|█████████▉| 291/294 [03:44<00:02,  1.30it/s]"
          ]
        },
        {
          "output_type": "stream",
          "name": "stdout",
          "text": [
            "Batch 290, Loss: 6.6156, Perplexity: 746.6482\n"
          ]
        },
        {
          "output_type": "stream",
          "name": "stderr",
          "text": [
            "Training: 100%|██████████| 294/294 [03:46<00:00,  1.30it/s]\n"
          ]
        },
        {
          "output_type": "stream",
          "name": "stdout",
          "text": [
            "Epoch 3 Loss: 6.6143, Perplexity: 745.6898\n"
          ]
        },
        {
          "output_type": "stream",
          "name": "stderr",
          "text": [
            "Validating: 100%|██████████| 37/37 [00:09<00:00,  3.86it/s]\n"
          ]
        },
        {
          "output_type": "stream",
          "name": "stdout",
          "text": [
            "Validation Loss: 6.6887, Perplexity: 803.3142\n"
          ]
        },
        {
          "output_type": "stream",
          "name": "stderr",
          "text": [
            "Testing: 100%|██████████| 37/37 [00:09<00:00,  3.85it/s]"
          ]
        },
        {
          "output_type": "stream",
          "name": "stdout",
          "text": [
            "Test Loss: 6.6873, Perplexity: 802.1566\n"
          ]
        },
        {
          "output_type": "stream",
          "name": "stderr",
          "text": [
            "\n"
          ]
        }
      ]
    },
    {
      "cell_type": "code",
      "source": [
        "def clear_cuda_memory():\n",
        "    torch.cuda.empty_cache()\n",
        "    torch.cuda.ipc_collect()\n",
        "\n",
        "# Example usage\n",
        "clear_cuda_memory()"
      ],
      "metadata": {
        "id": "RZkVRV24UaMh"
      },
      "execution_count": 10,
      "outputs": []
    }
  ]
}