{
  "cells": [
    {
      "cell_type": "code",
      "execution_count": null,
      "metadata": {
        "colab": {
          "base_uri": "https://localhost:8080/"
        },
        "id": "a86K_MZp7KIV",
        "outputId": "82dcc375-7304-4056-ed1d-cd9a6cbca116"
      },
      "outputs": [
        {
          "name": "stdout",
          "output_type": "stream",
          "text": [
            "Mounted at /content/drive\n"
          ]
        }
      ],
      "source": [
        "from google.colab import drive\n",
        "import pandas as pd\n",
        "from tqdm import tqdm\n",
        "\n",
        "drive.mount('/content/drive')\n",
        "path = '/content/drive/MyDrive/6000_IMDB_Dataset.csv'"
      ]
    },
    {
      "cell_type": "code",
      "execution_count": null,
      "metadata": {
        "id": "edmfutst7PsH"
      },
      "outputs": [],
      "source": [
        "from transformers import BertTokenizer\n",
        "from torch.utils.data import DataLoader, TensorDataset\n",
        "from sklearn.model_selection import train_test_split\n",
        "from transformers import AdamW\n",
        "import torch\n",
        "import torch.nn as nn\n",
        "import torch.nn.functional as F\n",
        "import math\n",
        "\n",
        "review_df = pd.read_csv(path)\n",
        "feature = review_df['review'].tolist()\n",
        "label = review_df['sentiment'].tolist()\n",
        "\n",
        "for i in range(len(label)):\n",
        "    if label[i] == 'positive':\n",
        "        label[i] = 1\n",
        "    else :\n",
        "        label[i] = 0\n",
        "\n",
        "train_texts,test_texts, train_labels,test_labels = train_test_split(feature, label, train_size=0.7, shuffle=True)\n",
        "\n",
        "# 토큰화\n",
        "tokenizer = BertTokenizer.from_pretrained('bert-base-uncased')\n",
        "train_encodings = tokenizer(train_texts, truncation=True, padding=True, return_tensors='pt')\n",
        "test_encodings = tokenizer(test_texts, truncation=True, padding=True, return_tensors='pt')\n",
        "\n",
        "# 모델 준비\n",
        "class BERT(nn.Module):\n",
        "    def __init__(self, vocab_size, embed_size, hidden_size, num_attention_heads, num_hidden_layers):\n",
        "        super(BERT, self).__init__()\n",
        "        self.embeddings = BERTEmbeddings(vocab_size, embed_size)\n",
        "        self.encoder = BERTEncoder(hidden_size, num_attention_heads, num_hidden_layers)\n",
        "\n",
        "    def forward(self, input_ids, attention_mask):\n",
        "        embedding_output = self.embeddings(input_ids)\n",
        "        encoder_output = self.encoder(embedding_output, attention_mask)\n",
        "        return encoder_output\n",
        "\n",
        "class BERTEmbeddings(nn.Module):\n",
        "    def __init__(self, vocab_size, embed_size):\n",
        "        super(BERTEmbeddings, self).__init__()\n",
        "        self.word_embeddings = nn.Embedding(vocab_size, embed_size)\n",
        "        self.position_embeddings = nn.Embedding(512, embed_size)\n",
        "        self.LayerNorm = nn.LayerNorm(embed_size, eps=1e-12)\n",
        "        self.dropout = nn.Dropout(0.1)\n",
        "\n",
        "    def forward(self, input_ids):\n",
        "        seq_length = input_ids.size(1)\n",
        "        position_ids = torch.arange(seq_length, dtype=torch.long, device=input_ids.device)\n",
        "        position_ids = position_ids.unsqueeze(0).expand_as(input_ids)\n",
        "        word_embeddings = self.word_embeddings(input_ids)\n",
        "        position_embeddings = self.position_embeddings(position_ids)\n",
        "        embeddings = word_embeddings + position_embeddings\n",
        "        embeddings = self.LayerNorm(embeddings)\n",
        "        embeddings = self.dropout(embeddings)\n",
        "        return embeddings\n",
        "\n",
        "class BERTEncoder(nn.Module):\n",
        "    def __init__(self, hidden_size, num_attention_heads, num_hidden_layers):\n",
        "        super(BERTEncoder, self).__init__()\n",
        "        layer = BERTLayer(hidden_size, num_attention_heads)\n",
        "        self.layers = nn.ModuleList([layer for _ in range(num_hidden_layers)])\n",
        "\n",
        "    def forward(self, hidden_states, attention_mask):\n",
        "        for layer_module in self.layers:\n",
        "            hidden_states = layer_module(hidden_states, attention_mask)\n",
        "        return hidden_states\n",
        "\n",
        "class BERTLayer(nn.Module):\n",
        "    def __init__(self, hidden_size, num_attention_heads):\n",
        "        super(BERTLayer, self).__init__()\n",
        "        self.attention = MultiHeadAttention(hidden_size, num_attention_heads)\n",
        "        self.intermediate = nn.Linear(hidden_size, hidden_size)\n",
        "        self.output = nn.Linear(hidden_size, hidden_size)\n",
        "        self.LayerNorm = nn.LayerNorm(hidden_size, eps=1e-12)\n",
        "        self.dropout = nn.Dropout(0.1)\n",
        "\n",
        "    def forward(self, hidden_states, attention_mask):\n",
        "        attention_output = self.attention(hidden_states, attention_mask)\n",
        "        intermediate_output = F.relu(self.intermediate(attention_output))\n",
        "        layer_output = self.output(intermediate_output)\n",
        "        layer_output = self.LayerNorm(layer_output + attention_output)\n",
        "        layer_output = self.dropout(layer_output)\n",
        "        return layer_output\n",
        "\n",
        "class MultiHeadAttention(nn.Module):\n",
        "    def __init__(self, hidden_size, num_attention_heads):\n",
        "        super(MultiHeadAttention, self).__init__()\n",
        "        self.num_attention_heads = num_attention_heads\n",
        "        self.hidden_size = hidden_size\n",
        "        self.attention_head_size = hidden_size // num_attention_heads\n",
        "        self.all_head_size = self.num_attention_heads * self.attention_head_size\n",
        "\n",
        "        self.query = nn.Linear(hidden_size, self.all_head_size)\n",
        "        self.key = nn.Linear(hidden_size, self.all_head_size)\n",
        "        self.value = nn.Linear(hidden_size, self.all_head_size)\n",
        "        self.dropout = nn.Dropout(0.1)\n",
        "        self.out_proj = nn.Linear(hidden_size, hidden_size)\n",
        "\n",
        "    def forward(self, hidden_states, attention_mask):\n",
        "        mixed_query_layer = self.query(hidden_states)\n",
        "        mixed_key_layer = self.key(hidden_states)\n",
        "        mixed_value_layer = self.value(hidden_states)\n",
        "\n",
        "        query_layer = self._split_heads(mixed_query_layer)\n",
        "        key_layer = self._split_heads(mixed_key_layer)\n",
        "        value_layer = self._split_heads(mixed_value_layer)\n",
        "\n",
        "        batch_size, num_heads, seq_length, _ = query_layer.size()\n",
        "        attention_mask = attention_mask.unsqueeze(1).unsqueeze(2)\n",
        "        attention_mask = attention_mask.repeat(1, num_heads, 1, 1)\n",
        "\n",
        "        attention_scores = torch.matmul(query_layer, key_layer.transpose(-1, -2)) / math.sqrt(self.attention_head_size)\n",
        "        attention_scores = attention_scores + attention_mask\n",
        "        attention_probs = nn.Softmax(dim=-1)(attention_scores)\n",
        "        attention_probs = self.dropout(attention_probs)\n",
        "\n",
        "        context_layer = torch.matmul(attention_probs, value_layer)\n",
        "        context_layer = self._combine_heads(context_layer)\n",
        "        context_layer = self.out_proj(context_layer)\n",
        "        return context_layer\n",
        "\n",
        "    def _split_heads(self, x):\n",
        "        batch_size, seq_length, hidden_size = x.size()\n",
        "        x = x.view(batch_size, seq_length, self.num_attention_heads, self.attention_head_size)\n",
        "        return x.permute(0, 2, 1, 3)\n",
        "\n",
        "    def _combine_heads(self, x):\n",
        "        batch_size, num_attention_heads, seq_length, _ = x.size()\n",
        "        x = x.permute(0, 2, 1, 3).contiguous()\n",
        "        return x.view(batch_size, seq_length, self.hidden_size)\n",
        "\n",
        "class BERTClassifier(nn.Module):\n",
        "    def __init__(self, bert, num_classes):\n",
        "        super(BERTClassifier, self).__init__()\n",
        "        self.bert = bert\n",
        "        self.dropout = nn.Dropout(0.1)\n",
        "        self.classifier = nn.Linear(bert.encoder.layers[-1].output.in_features, num_classes)\n",
        "\n",
        "    def forward(self, input_ids, attention_mask):\n",
        "        outputs = self.bert(input_ids, attention_mask)\n",
        "        pooled_output = outputs[:, 0]  # [CLS] 토큰의 출력을 사용\n",
        "        pooled_output = self.dropout(pooled_output)\n",
        "        logits = self.classifier(pooled_output)\n",
        "\n",
        "        loss = None\n",
        "        if labels is not None:\n",
        "            loss_fn = nn.CrossEntropyLoss()\n",
        "            loss = loss_fn(logits.view(-1, self.classifier.out_features), labels.view(-1))\n",
        "\n",
        "        return logits, loss\n"
      ]
    },
    {
      "cell_type": "code",
      "execution_count": null,
      "metadata": {
        "colab": {
          "background_save": true,
          "base_uri": "https://localhost:8080/"
        },
        "id": "5dxitKNyEOWE",
        "outputId": "83c4df37-742d-4a49-cbd8-0154ec785788"
      },
      "outputs": [
        {
          "name": "stderr",
          "output_type": "stream",
          "text": [
            "\r  0%|          | 0/525 [00:00<?, ?it/s]"
          ]
        },
        {
          "name": "stdout",
          "output_type": "stream",
          "text": [
            "\n",
            "tensor([[ 0.6337,  0.5983],\n",
            "        [ 0.7738,  0.2087],\n",
            "        [ 0.3197,  0.3420],\n",
            "        [ 0.8605,  0.2279],\n",
            "        [ 0.0373,  0.3898],\n",
            "        [ 0.7157,  1.1144],\n",
            "        [ 0.6702,  0.8480],\n",
            "        [-0.0496, -0.2568]], grad_fn=<AddmmBackward0>)\n",
            "tensor([1, 0, 1, 1, 1, 0, 0, 1])\n",
            "tensor([0, 0, 1, 0, 1, 1, 1, 0])\n"
          ]
        },
        {
          "name": "stderr",
          "output_type": "stream",
          "text": [
            "\r  0%|          | 1/525 [00:02<24:53,  2.85s/it]"
          ]
        },
        {
          "name": "stdout",
          "output_type": "stream",
          "text": [
            "\n",
            "tensor([[-1.4905,  2.0268],\n",
            "        [-0.8479,  1.1084],\n",
            "        [-0.9988,  2.4992],\n",
            "        [-1.2539,  2.5697],\n",
            "        [-1.4904,  2.1142],\n",
            "        [-1.6487,  2.5770],\n",
            "        [-1.2388,  2.3740],\n",
            "        [-1.6296,  2.1385]], grad_fn=<AddmmBackward0>)\n",
            "tensor([1, 1, 0, 1, 0, 1, 0, 1])\n",
            "tensor([1, 1, 1, 1, 1, 1, 1, 1])\n"
          ]
        },
        {
          "name": "stderr",
          "output_type": "stream",
          "text": [
            "\r  0%|          | 2/525 [00:05<25:02,  2.87s/it]"
          ]
        },
        {
          "name": "stdout",
          "output_type": "stream",
          "text": [
            "\n",
            "tensor([[ 0.3239,  0.3208],\n",
            "        [-0.3486,  0.8755],\n",
            "        [-0.0082,  0.4930],\n",
            "        [ 0.0437,  0.9434],\n",
            "        [ 0.3833,  0.4122],\n",
            "        [ 0.2592,  0.8669],\n",
            "        [ 0.0959,  0.1890],\n",
            "        [-0.3471,  0.8420]], grad_fn=<AddmmBackward0>)\n",
            "tensor([0, 0, 1, 0, 1, 1, 0, 0])\n",
            "tensor([0, 1, 1, 1, 1, 1, 1, 1])\n"
          ]
        },
        {
          "name": "stderr",
          "output_type": "stream",
          "text": [
            "\r  1%|          | 3/525 [00:08<23:16,  2.68s/it]"
          ]
        },
        {
          "name": "stdout",
          "output_type": "stream",
          "text": [
            "\n",
            "tensor([[ 1.6713, -1.0003],\n",
            "        [ 0.7764, -0.0515],\n",
            "        [ 1.4832, -0.5678],\n",
            "        [ 1.6995, -1.0105],\n",
            "        [ 1.1082, -0.8404],\n",
            "        [ 0.9826, -0.7968],\n",
            "        [ 1.0774, -0.4382],\n",
            "        [ 1.5074, -1.5946]], grad_fn=<AddmmBackward0>)\n",
            "tensor([1, 1, 0, 0, 0, 0, 0, 1])\n",
            "tensor([0, 0, 0, 0, 0, 0, 0, 0])\n"
          ]
        },
        {
          "name": "stderr",
          "output_type": "stream",
          "text": [
            "\r  1%|          | 4/525 [00:10<23:34,  2.72s/it]"
          ]
        },
        {
          "name": "stdout",
          "output_type": "stream",
          "text": [
            "\n",
            "tensor([[ 1.7347, -0.5519],\n",
            "        [ 1.9229, -0.6721],\n",
            "        [ 1.4871, -0.9869],\n",
            "        [ 1.5479, -0.8800],\n",
            "        [ 1.5725, -0.8513],\n",
            "        [ 1.6219, -1.3107],\n",
            "        [ 0.8946, -0.6769],\n",
            "        [ 1.6134, -1.1693]], grad_fn=<AddmmBackward0>)\n",
            "tensor([0, 0, 0, 0, 0, 0, 0, 1])\n",
            "tensor([0, 0, 0, 0, 0, 0, 0, 0])\n"
          ]
        },
        {
          "name": "stderr",
          "output_type": "stream",
          "text": [
            "\r  1%|          | 5/525 [00:13<22:41,  2.62s/it]"
          ]
        },
        {
          "name": "stdout",
          "output_type": "stream",
          "text": [
            "\n",
            "tensor([[ 2.5090, -1.0087],\n",
            "        [ 1.5117, -0.5016],\n",
            "        [ 1.5787, -0.6759],\n",
            "        [ 1.3922, -1.0243],\n",
            "        [ 1.8416, -1.4194],\n",
            "        [ 1.7838, -0.7478],\n",
            "        [ 1.4759, -0.2983],\n",
            "        [ 1.7496, -1.0488]], grad_fn=<AddmmBackward0>)\n",
            "tensor([0, 1, 1, 0, 1, 0, 0, 0])\n",
            "tensor([0, 0, 0, 0, 0, 0, 0, 0])\n"
          ]
        },
        {
          "name": "stderr",
          "output_type": "stream",
          "text": [
            "\r  1%|          | 6/525 [00:16<23:13,  2.68s/it]"
          ]
        },
        {
          "name": "stdout",
          "output_type": "stream",
          "text": [
            "\n",
            "tensor([[ 0.6245, -0.9093],\n",
            "        [ 1.1438, -0.0794],\n",
            "        [ 1.4462, -0.2481],\n",
            "        [ 1.6473, -1.1072],\n",
            "        [ 0.6862, -0.3809],\n",
            "        [ 1.1687, -1.1339],\n",
            "        [ 0.6487,  0.0400],\n",
            "        [ 1.7948, -0.6465]], grad_fn=<AddmmBackward0>)\n",
            "tensor([1, 1, 1, 1, 0, 0, 0, 0])\n",
            "tensor([0, 0, 0, 0, 0, 0, 0, 0])\n"
          ]
        },
        {
          "name": "stderr",
          "output_type": "stream",
          "text": [
            "\r  1%|▏         | 7/525 [00:18<23:01,  2.67s/it]"
          ]
        },
        {
          "name": "stdout",
          "output_type": "stream",
          "text": [
            "\n",
            "tensor([[ 0.6032, -0.3851],\n",
            "        [ 0.6175, -0.0167],\n",
            "        [ 0.7924,  0.1414],\n",
            "        [ 1.0077, -0.3575],\n",
            "        [ 0.9863,  0.4253],\n",
            "        [ 0.9224, -0.2595],\n",
            "        [ 0.7312, -0.0762],\n",
            "        [ 0.8969,  0.6399]], grad_fn=<AddmmBackward0>)\n",
            "tensor([1, 0, 0, 0, 1, 1, 0, 1])\n",
            "tensor([0, 0, 0, 0, 0, 0, 0, 0])\n"
          ]
        },
        {
          "name": "stderr",
          "output_type": "stream",
          "text": [
            "\r  2%|▏         | 8/525 [00:21<23:00,  2.67s/it]"
          ]
        },
        {
          "name": "stdout",
          "output_type": "stream",
          "text": [
            "\n",
            "tensor([[ 0.1488,  0.5945],\n",
            "        [ 0.4332,  0.7145],\n",
            "        [ 0.0686,  0.3584],\n",
            "        [ 0.1172,  0.9879],\n",
            "        [-0.0461,  0.1817],\n",
            "        [ 0.2111,  0.4579],\n",
            "        [ 0.9356,  0.7729],\n",
            "        [ 0.2201,  0.4073]], grad_fn=<AddmmBackward0>)\n",
            "tensor([0, 0, 1, 0, 0, 1, 1, 0])\n",
            "tensor([1, 1, 1, 1, 1, 1, 0, 1])\n"
          ]
        },
        {
          "name": "stderr",
          "output_type": "stream",
          "text": [
            "\r  2%|▏         | 9/525 [00:24<23:09,  2.69s/it]"
          ]
        },
        {
          "name": "stdout",
          "output_type": "stream",
          "text": [
            "\n",
            "tensor([[ 0.2919,  1.5015],\n",
            "        [-0.2325,  1.4466],\n",
            "        [ 0.0536,  0.9412],\n",
            "        [ 0.2534,  1.0725],\n",
            "        [-0.2177,  1.2934],\n",
            "        [-0.2980,  1.5050],\n",
            "        [ 0.1210,  0.6112],\n",
            "        [-0.0619,  1.2009]], grad_fn=<AddmmBackward0>)\n",
            "tensor([1, 0, 0, 0, 0, 1, 1, 1])\n",
            "tensor([1, 1, 1, 1, 1, 1, 1, 1])\n"
          ]
        },
        {
          "name": "stderr",
          "output_type": "stream",
          "text": [
            "\r  2%|▏         | 10/525 [00:26<23:10,  2.70s/it]"
          ]
        },
        {
          "name": "stdout",
          "output_type": "stream",
          "text": [
            "\n",
            "tensor([[-0.5305,  1.4745],\n",
            "        [ 0.5971,  1.2094],\n",
            "        [-0.3494,  1.1769],\n",
            "        [-0.0275,  1.6756],\n",
            "        [ 0.2202,  1.2781],\n",
            "        [-0.0351,  0.8990],\n",
            "        [ 0.0577,  0.8466],\n",
            "        [ 0.4536,  1.2753]], grad_fn=<AddmmBackward0>)\n",
            "tensor([1, 0, 1, 1, 1, 0, 1, 1])\n",
            "tensor([1, 1, 1, 1, 1, 1, 1, 1])\n"
          ]
        },
        {
          "name": "stderr",
          "output_type": "stream",
          "text": [
            "\r  2%|▏         | 11/525 [00:29<22:49,  2.66s/it]"
          ]
        },
        {
          "name": "stdout",
          "output_type": "stream",
          "text": [
            "\n",
            "tensor([[ 0.1439,  1.5272],\n",
            "        [-0.0780,  1.2538],\n",
            "        [-0.1610,  0.9119],\n",
            "        [ 0.4105,  1.3215],\n",
            "        [-0.3556,  1.4730],\n",
            "        [ 0.1172,  1.2219],\n",
            "        [ 0.0510,  0.8518],\n",
            "        [-0.3727,  1.3780]], grad_fn=<AddmmBackward0>)\n",
            "tensor([1, 0, 1, 0, 0, 1, 1, 0])\n",
            "tensor([1, 1, 1, 1, 1, 1, 1, 1])\n"
          ]
        },
        {
          "name": "stderr",
          "output_type": "stream",
          "text": [
            "\r  2%|▏         | 12/525 [00:32<23:05,  2.70s/it]"
          ]
        },
        {
          "name": "stdout",
          "output_type": "stream",
          "text": [
            "\n",
            "tensor([[ 0.0946,  0.8984],\n",
            "        [ 0.5724,  1.0557],\n",
            "        [ 0.8980,  1.2177],\n",
            "        [ 0.1208,  1.4299],\n",
            "        [ 0.2153,  0.9441],\n",
            "        [ 0.3160,  0.5443],\n",
            "        [ 0.2875,  0.7974],\n",
            "        [-0.0439,  1.3274]], grad_fn=<AddmmBackward0>)\n",
            "tensor([1, 0, 1, 1, 1, 0, 0, 0])\n",
            "tensor([1, 1, 1, 1, 1, 1, 1, 1])\n"
          ]
        },
        {
          "name": "stderr",
          "output_type": "stream",
          "text": [
            "\r  2%|▏         | 13/525 [00:34<22:03,  2.58s/it]"
          ]
        },
        {
          "name": "stdout",
          "output_type": "stream",
          "text": [
            "\n",
            "tensor([[0.3673, 0.9575],\n",
            "        [0.1321, 0.7841],\n",
            "        [0.6364, 0.9471],\n",
            "        [0.0382, 0.9303],\n",
            "        [0.2492, 0.8763],\n",
            "        [0.6874, 0.8791],\n",
            "        [0.0110, 1.1145],\n",
            "        [0.2944, 0.8117]], grad_fn=<AddmmBackward0>)\n",
            "tensor([1, 1, 1, 1, 0, 0, 0, 1])\n",
            "tensor([1, 1, 1, 1, 1, 1, 1, 1])\n"
          ]
        },
        {
          "name": "stderr",
          "output_type": "stream",
          "text": [
            "\r  3%|▎         | 14/525 [00:37<21:59,  2.58s/it]"
          ]
        },
        {
          "name": "stdout",
          "output_type": "stream",
          "text": [
            "\n",
            "tensor([[0.1761, 0.5945],\n",
            "        [0.6728, 0.6048],\n",
            "        [0.6662, 1.0846],\n",
            "        [0.8667, 0.4414],\n",
            "        [0.5186, 0.8832],\n",
            "        [0.1273, 0.5179],\n",
            "        [0.7499, 0.5695],\n",
            "        [0.4969, 0.6355]], grad_fn=<AddmmBackward0>)\n",
            "tensor([1, 1, 1, 0, 0, 1, 1, 1])\n",
            "tensor([1, 0, 1, 0, 1, 1, 0, 1])\n"
          ]
        },
        {
          "name": "stderr",
          "output_type": "stream",
          "text": [
            "\r  3%|▎         | 15/525 [00:39<21:26,  2.52s/it]"
          ]
        },
        {
          "name": "stdout",
          "output_type": "stream",
          "text": [
            "\n",
            "tensor([[ 0.5600,  0.4544],\n",
            "        [ 0.7424,  0.6494],\n",
            "        [ 0.8115,  0.3344],\n",
            "        [ 0.7346,  0.5334],\n",
            "        [ 0.2536,  0.6595],\n",
            "        [ 0.3008,  0.8553],\n",
            "        [ 0.7042, -0.3796],\n",
            "        [ 0.3302,  0.9926]], grad_fn=<AddmmBackward0>)\n",
            "tensor([0, 0, 0, 0, 1, 0, 1, 1])\n",
            "tensor([0, 0, 0, 0, 1, 1, 0, 1])\n"
          ]
        },
        {
          "name": "stderr",
          "output_type": "stream",
          "text": [
            "\r  3%|▎         | 16/525 [00:42<21:48,  2.57s/it]"
          ]
        },
        {
          "name": "stdout",
          "output_type": "stream",
          "text": [
            "\n",
            "tensor([[0.3897, 0.7406],\n",
            "        [1.3241, 0.2682],\n",
            "        [0.7530, 0.4137],\n",
            "        [0.7103, 0.8149],\n",
            "        [0.9360, 0.2943],\n",
            "        [0.3960, 0.2295],\n",
            "        [0.9902, 0.3931],\n",
            "        [0.5233, 0.2332]], grad_fn=<AddmmBackward0>)\n",
            "tensor([1, 0, 0, 1, 0, 1, 1, 0])\n",
            "tensor([1, 0, 0, 1, 0, 0, 0, 0])\n"
          ]
        },
        {
          "name": "stderr",
          "output_type": "stream",
          "text": [
            "\r  3%|▎         | 17/525 [00:45<22:11,  2.62s/it]"
          ]
        },
        {
          "name": "stdout",
          "output_type": "stream",
          "text": [
            "\n",
            "tensor([[ 0.8156,  0.7972],\n",
            "        [ 0.7127,  0.3736],\n",
            "        [ 0.9000,  1.3473],\n",
            "        [ 0.8835,  0.3341],\n",
            "        [ 0.1589, -0.0313],\n",
            "        [ 0.8588,  0.5182],\n",
            "        [ 1.0225,  0.1403],\n",
            "        [ 0.6665,  0.5166]], grad_fn=<AddmmBackward0>)\n",
            "tensor([1, 1, 0, 0, 0, 0, 0, 1])\n",
            "tensor([0, 0, 1, 0, 0, 0, 0, 0])\n"
          ]
        },
        {
          "name": "stderr",
          "output_type": "stream",
          "text": [
            "\r  3%|▎         | 18/525 [00:47<22:49,  2.70s/it]"
          ]
        },
        {
          "name": "stdout",
          "output_type": "stream",
          "text": [
            "\n",
            "tensor([[ 0.6971,  0.1525],\n",
            "        [ 0.7222,  0.8550],\n",
            "        [ 1.3100,  0.9987],\n",
            "        [ 0.8181, -0.0189],\n",
            "        [ 1.2944,  0.7411],\n",
            "        [ 0.9030,  0.5702],\n",
            "        [ 0.4329,  0.1544],\n",
            "        [ 0.8559,  0.0269]], grad_fn=<AddmmBackward0>)\n",
            "tensor([0, 0, 0, 0, 1, 1, 1, 0])\n",
            "tensor([0, 1, 0, 0, 0, 0, 0, 0])\n"
          ]
        },
        {
          "name": "stderr",
          "output_type": "stream",
          "text": [
            "\r  4%|▎         | 19/525 [00:50<22:04,  2.62s/it]"
          ]
        },
        {
          "name": "stdout",
          "output_type": "stream",
          "text": [
            "\n",
            "tensor([[ 1.4412, -0.0931],\n",
            "        [ 1.0445,  0.0438],\n",
            "        [ 1.1616,  0.0757],\n",
            "        [ 0.7319,  0.2533],\n",
            "        [ 1.1807, -0.0584],\n",
            "        [ 0.6745,  0.6204],\n",
            "        [ 0.8951,  0.4396],\n",
            "        [ 1.2937,  0.6121]], grad_fn=<AddmmBackward0>)\n",
            "tensor([1, 0, 1, 0, 0, 1, 1, 0])\n",
            "tensor([0, 0, 0, 0, 0, 0, 0, 0])\n"
          ]
        },
        {
          "name": "stderr",
          "output_type": "stream",
          "text": [
            "\r  4%|▍         | 20/525 [00:53<22:16,  2.65s/it]"
          ]
        },
        {
          "name": "stdout",
          "output_type": "stream",
          "text": [
            "\n",
            "tensor([[1.1109, 0.2645],\n",
            "        [1.1226, 0.3473],\n",
            "        [0.8795, 0.2561],\n",
            "        [0.8739, 0.0442],\n",
            "        [1.3247, 0.0797],\n",
            "        [0.9530, 0.0229],\n",
            "        [0.7675, 0.5369],\n",
            "        [1.3499, 0.7806]], grad_fn=<AddmmBackward0>)\n",
            "tensor([1, 1, 0, 1, 1, 1, 1, 0])\n",
            "tensor([0, 0, 0, 0, 0, 0, 0, 0])\n"
          ]
        },
        {
          "name": "stderr",
          "output_type": "stream",
          "text": [
            "\r  4%|▍         | 21/525 [00:55<22:53,  2.73s/it]"
          ]
        },
        {
          "name": "stdout",
          "output_type": "stream",
          "text": [
            "\n",
            "tensor([[ 1.0599,  0.1620],\n",
            "        [ 1.0683,  0.6689],\n",
            "        [ 1.1069,  0.6456],\n",
            "        [ 0.5660,  0.3060],\n",
            "        [ 0.8080,  0.3138],\n",
            "        [ 0.9372, -0.2568],\n",
            "        [ 0.8621,  0.3432],\n",
            "        [ 1.1524,  0.9130]], grad_fn=<AddmmBackward0>)\n",
            "tensor([0, 1, 1, 0, 1, 1, 1, 0])\n",
            "tensor([0, 0, 0, 0, 0, 0, 0, 0])\n"
          ]
        },
        {
          "name": "stderr",
          "output_type": "stream",
          "text": [
            "\r  4%|▍         | 22/525 [00:58<21:48,  2.60s/it]"
          ]
        },
        {
          "name": "stdout",
          "output_type": "stream",
          "text": [
            "\n",
            "tensor([[0.3473, 0.5319],\n",
            "        [0.7260, 0.4422],\n",
            "        [0.5894, 1.4076],\n",
            "        [0.7855, 0.7717],\n",
            "        [0.1403, 1.1588],\n",
            "        [0.5106, 0.7419],\n",
            "        [0.5103, 0.2283],\n",
            "        [0.4634, 0.4716]], grad_fn=<AddmmBackward0>)\n",
            "tensor([1, 0, 1, 0, 0, 0, 1, 1])\n",
            "tensor([1, 0, 1, 0, 1, 1, 0, 1])\n"
          ]
        },
        {
          "name": "stderr",
          "output_type": "stream",
          "text": [
            "\r  4%|▍         | 23/525 [01:01<22:24,  2.68s/it]"
          ]
        },
        {
          "name": "stdout",
          "output_type": "stream",
          "text": [
            "\n",
            "tensor([[-0.1720,  0.9890],\n",
            "        [ 0.4052,  1.1650],\n",
            "        [ 0.0487,  1.2760],\n",
            "        [-0.0455,  1.0207],\n",
            "        [ 0.1086,  1.5517],\n",
            "        [ 0.0940,  1.2826],\n",
            "        [ 0.6002,  0.9207],\n",
            "        [ 0.7134,  1.3986]], grad_fn=<AddmmBackward0>)\n",
            "tensor([1, 1, 1, 0, 1, 1, 0, 1])\n",
            "tensor([1, 1, 1, 1, 1, 1, 1, 1])\n"
          ]
        },
        {
          "name": "stderr",
          "output_type": "stream",
          "text": [
            "\r  5%|▍         | 24/525 [01:03<22:44,  2.72s/it]"
          ]
        },
        {
          "name": "stdout",
          "output_type": "stream",
          "text": [
            "\n",
            "tensor([[ 0.2475,  1.2978],\n",
            "        [ 0.5880,  0.8995],\n",
            "        [ 0.1547,  0.6057],\n",
            "        [-0.0307,  1.2759],\n",
            "        [ 0.3210,  1.5690],\n",
            "        [ 0.2812,  0.8581],\n",
            "        [ 0.3839,  1.3179],\n",
            "        [ 0.3905,  0.7564]], grad_fn=<AddmmBackward0>)\n",
            "tensor([0, 0, 1, 0, 1, 1, 0, 0])\n",
            "tensor([1, 1, 1, 1, 1, 1, 1, 1])\n"
          ]
        },
        {
          "name": "stderr",
          "output_type": "stream",
          "text": [
            "\r  5%|▍         | 25/525 [01:06<22:20,  2.68s/it]"
          ]
        },
        {
          "name": "stdout",
          "output_type": "stream",
          "text": [
            "\n",
            "tensor([[-0.2622,  1.5992],\n",
            "        [-0.2084,  1.2260],\n",
            "        [ 0.2645,  1.4354],\n",
            "        [ 0.3191,  1.6175],\n",
            "        [ 0.4433,  1.4194],\n",
            "        [ 0.2572,  1.1898],\n",
            "        [ 0.2688,  1.4779],\n",
            "        [-0.2429,  1.0930]], grad_fn=<AddmmBackward0>)\n",
            "tensor([1, 0, 1, 1, 0, 1, 1, 1])\n",
            "tensor([1, 1, 1, 1, 1, 1, 1, 1])\n"
          ]
        },
        {
          "name": "stderr",
          "output_type": "stream",
          "text": [
            "\r  5%|▍         | 26/525 [01:09<22:06,  2.66s/it]"
          ]
        },
        {
          "name": "stdout",
          "output_type": "stream",
          "text": [
            "\n",
            "tensor([[ 0.0767,  0.8746],\n",
            "        [-0.1966,  1.4173],\n",
            "        [ 0.0150,  1.4495],\n",
            "        [-0.8038,  1.3222],\n",
            "        [ 0.1183,  1.0023],\n",
            "        [-0.0281,  0.6734],\n",
            "        [ 0.0107,  1.0424],\n",
            "        [ 0.3217,  1.1293]], grad_fn=<AddmmBackward0>)\n",
            "tensor([1, 0, 0, 0, 0, 0, 1, 0])\n",
            "tensor([1, 1, 1, 1, 1, 1, 1, 1])\n"
          ]
        },
        {
          "name": "stderr",
          "output_type": "stream",
          "text": [
            "\r  5%|▌         | 27/525 [01:12<22:31,  2.71s/it]"
          ]
        },
        {
          "name": "stdout",
          "output_type": "stream",
          "text": [
            "\n",
            "tensor([[-0.4588,  0.9615],\n",
            "        [ 0.7822,  1.5408],\n",
            "        [-0.0974,  0.9783],\n",
            "        [ 0.7764,  1.3463],\n",
            "        [ 0.0445,  0.5878],\n",
            "        [ 0.8605,  1.0248],\n",
            "        [-0.3426,  1.8565],\n",
            "        [-0.1636,  0.9544]], grad_fn=<AddmmBackward0>)\n",
            "tensor([0, 1, 0, 1, 1, 1, 0, 0])\n",
            "tensor([1, 1, 1, 1, 1, 1, 1, 1])\n"
          ]
        },
        {
          "name": "stderr",
          "output_type": "stream",
          "text": [
            "\r  5%|▌         | 28/525 [01:14<22:26,  2.71s/it]"
          ]
        },
        {
          "name": "stdout",
          "output_type": "stream",
          "text": [
            "\n",
            "tensor([[-0.0468,  0.8559],\n",
            "        [ 0.0537,  0.5106],\n",
            "        [ 0.6697,  0.6667],\n",
            "        [ 0.6309,  0.9340],\n",
            "        [ 0.9820,  0.1292],\n",
            "        [ 0.5286,  0.9850],\n",
            "        [ 0.5074,  0.7904],\n",
            "        [ 0.3314,  1.0612]], grad_fn=<AddmmBackward0>)\n",
            "tensor([0, 0, 0, 0, 0, 0, 0, 1])\n",
            "tensor([1, 1, 0, 1, 0, 1, 1, 1])\n"
          ]
        },
        {
          "name": "stderr",
          "output_type": "stream",
          "text": [
            "\r  6%|▌         | 29/525 [01:17<22:48,  2.76s/it]"
          ]
        },
        {
          "name": "stdout",
          "output_type": "stream",
          "text": [
            "\n",
            "tensor([[ 0.5427,  0.4343],\n",
            "        [ 0.9688, -0.0454],\n",
            "        [ 1.1143,  0.0668],\n",
            "        [ 0.9691,  0.4226],\n",
            "        [ 0.4651,  0.1497],\n",
            "        [ 0.8371,  0.5593],\n",
            "        [ 0.3333,  0.2740],\n",
            "        [ 0.7361,  0.6074]], grad_fn=<AddmmBackward0>)\n",
            "tensor([0, 1, 1, 1, 0, 1, 0, 1])\n",
            "tensor([0, 0, 0, 0, 0, 0, 0, 0])\n"
          ]
        },
        {
          "name": "stderr",
          "output_type": "stream",
          "text": [
            "\r  6%|▌         | 30/525 [01:20<22:12,  2.69s/it]"
          ]
        },
        {
          "name": "stdout",
          "output_type": "stream",
          "text": [
            "\n",
            "tensor([[1.4403, 0.5672],\n",
            "        [0.5596, 0.0891],\n",
            "        [0.8407, 0.5080],\n",
            "        [0.6182, 0.9455],\n",
            "        [0.7235, 0.2073],\n",
            "        [1.2697, 0.0897],\n",
            "        [1.2026, 0.0562],\n",
            "        [0.4080, 0.2000]], grad_fn=<AddmmBackward0>)\n",
            "tensor([0, 1, 0, 1, 1, 0, 0, 1])\n",
            "tensor([0, 0, 0, 1, 0, 0, 0, 0])\n"
          ]
        },
        {
          "name": "stderr",
          "output_type": "stream",
          "text": [
            "\r  6%|▌         | 31/525 [01:22<22:31,  2.74s/it]"
          ]
        },
        {
          "name": "stdout",
          "output_type": "stream",
          "text": [
            "\n",
            "tensor([[ 1.2914, -0.3452],\n",
            "        [ 0.3712, -0.0318],\n",
            "        [ 0.7097, -0.2923],\n",
            "        [ 1.2651,  0.0793],\n",
            "        [ 0.9568,  0.2093],\n",
            "        [ 1.2267,  0.1196],\n",
            "        [ 1.7547,  0.3600],\n",
            "        [ 0.9497,  0.5160]], grad_fn=<AddmmBackward0>)\n",
            "tensor([0, 0, 0, 1, 0, 0, 0, 1])\n",
            "tensor([0, 0, 0, 0, 0, 0, 0, 0])\n"
          ]
        },
        {
          "name": "stderr",
          "output_type": "stream",
          "text": [
            "\r  6%|▌         | 32/525 [01:25<22:25,  2.73s/it]"
          ]
        },
        {
          "name": "stdout",
          "output_type": "stream",
          "text": [
            "\n",
            "tensor([[ 1.6383, -0.4448],\n",
            "        [ 0.8959,  0.0390],\n",
            "        [ 0.9723,  0.0604],\n",
            "        [ 0.9009, -0.3316],\n",
            "        [ 1.4868,  0.0980],\n",
            "        [ 1.2006,  0.0456],\n",
            "        [ 0.8540, -0.4180],\n",
            "        [ 1.3408,  0.1626]], grad_fn=<AddmmBackward0>)\n",
            "tensor([0, 0, 0, 1, 0, 1, 1, 1])\n",
            "tensor([0, 0, 0, 0, 0, 0, 0, 0])\n"
          ]
        },
        {
          "name": "stderr",
          "output_type": "stream",
          "text": [
            "\r  6%|▋         | 33/525 [01:28<22:14,  2.71s/it]"
          ]
        },
        {
          "name": "stdout",
          "output_type": "stream",
          "text": [
            "\n",
            "tensor([[ 1.0765,  0.2505],\n",
            "        [ 0.8950, -0.2342],\n",
            "        [ 0.9294, -0.1890],\n",
            "        [ 1.3710, -0.3455],\n",
            "        [ 0.7440, -0.0053],\n",
            "        [ 1.4545, -1.1058],\n",
            "        [ 0.9793,  0.1071],\n",
            "        [ 1.1165,  0.1817]], grad_fn=<AddmmBackward0>)\n",
            "tensor([1, 1, 1, 0, 0, 1, 1, 1])\n",
            "tensor([0, 0, 0, 0, 0, 0, 0, 0])\n"
          ]
        },
        {
          "name": "stderr",
          "output_type": "stream",
          "text": [
            "\r  6%|▋         | 34/525 [01:31<22:26,  2.74s/it]"
          ]
        },
        {
          "name": "stdout",
          "output_type": "stream",
          "text": [
            "\n",
            "tensor([[ 1.2261, -0.1711],\n",
            "        [ 1.0555,  0.2092],\n",
            "        [ 1.2098, -0.2561],\n",
            "        [ 1.1111,  0.3669],\n",
            "        [ 0.4578,  0.0202],\n",
            "        [ 0.8140,  0.1072],\n",
            "        [ 1.1777, -0.0359],\n",
            "        [ 0.9981, -0.0929]], grad_fn=<AddmmBackward0>)\n",
            "tensor([0, 0, 0, 0, 1, 1, 1, 0])\n",
            "tensor([0, 0, 0, 0, 0, 0, 0, 0])\n"
          ]
        },
        {
          "name": "stderr",
          "output_type": "stream",
          "text": [
            "\r  7%|▋         | 35/525 [01:33<21:57,  2.69s/it]"
          ]
        },
        {
          "name": "stdout",
          "output_type": "stream",
          "text": [
            "\n",
            "tensor([[ 1.3039,  0.3297],\n",
            "        [ 0.7690,  0.0405],\n",
            "        [ 1.0274, -0.7427],\n",
            "        [ 0.7123,  0.5099],\n",
            "        [ 0.9155,  0.4735],\n",
            "        [ 0.9700,  0.3164],\n",
            "        [ 0.5152, -0.1076],\n",
            "        [ 1.0338, -0.1407]], grad_fn=<AddmmBackward0>)\n",
            "tensor([0, 0, 1, 0, 1, 1, 0, 1])\n",
            "tensor([0, 0, 0, 0, 0, 0, 0, 0])\n"
          ]
        },
        {
          "name": "stderr",
          "output_type": "stream",
          "text": [
            "\r  7%|▋         | 36/525 [01:36<22:06,  2.71s/it]"
          ]
        },
        {
          "name": "stdout",
          "output_type": "stream",
          "text": [
            "\n",
            "tensor([[ 0.9213,  0.9152],\n",
            "        [ 0.7890,  0.5516],\n",
            "        [ 0.4388,  0.5308],\n",
            "        [ 0.5527,  0.3663],\n",
            "        [ 0.1725,  0.0804],\n",
            "        [ 0.4434, -0.1909],\n",
            "        [ 1.0957,  0.1588],\n",
            "        [ 1.1395,  0.2583]], grad_fn=<AddmmBackward0>)\n",
            "tensor([1, 1, 0, 1, 1, 0, 0, 1])\n",
            "tensor([0, 0, 1, 0, 0, 0, 0, 0])\n"
          ]
        },
        {
          "name": "stderr",
          "output_type": "stream",
          "text": [
            "\r  7%|▋         | 37/525 [01:39<22:25,  2.76s/it]"
          ]
        },
        {
          "name": "stdout",
          "output_type": "stream",
          "text": [
            "\n",
            "tensor([[ 0.6897,  0.7670],\n",
            "        [ 0.2723,  0.6998],\n",
            "        [ 0.5487,  0.6426],\n",
            "        [ 0.3066,  0.3865],\n",
            "        [-0.1689,  0.4417],\n",
            "        [ 0.4050,  1.2089],\n",
            "        [ 0.0152,  0.5643],\n",
            "        [ 0.3821,  0.6357]], grad_fn=<AddmmBackward0>)\n",
            "tensor([1, 1, 1, 1, 1, 1, 0, 0])\n",
            "tensor([1, 1, 1, 1, 1, 1, 1, 1])\n"
          ]
        },
        {
          "name": "stderr",
          "output_type": "stream",
          "text": [
            "\r  7%|▋         | 38/525 [01:42<22:38,  2.79s/it]"
          ]
        },
        {
          "name": "stdout",
          "output_type": "stream",
          "text": [
            "\n",
            "tensor([[-0.3995,  0.2905],\n",
            "        [-0.0705,  0.6528],\n",
            "        [-0.0779,  0.6660],\n",
            "        [-0.1401, -0.0583],\n",
            "        [-0.0883, -0.0321],\n",
            "        [ 0.0177,  0.3800],\n",
            "        [ 0.3225,  0.7760],\n",
            "        [ 0.3455,  0.6084]], grad_fn=<AddmmBackward0>)\n",
            "tensor([0, 1, 0, 1, 1, 0, 1, 0])\n",
            "tensor([1, 1, 1, 1, 1, 1, 1, 1])\n"
          ]
        },
        {
          "name": "stderr",
          "output_type": "stream",
          "text": [
            "\r  7%|▋         | 39/525 [01:45<22:48,  2.82s/it]"
          ]
        },
        {
          "name": "stdout",
          "output_type": "stream",
          "text": [
            "\n",
            "tensor([[ 0.3292,  0.8601],\n",
            "        [ 0.1106,  0.5218],\n",
            "        [-0.4141,  0.4822],\n",
            "        [-0.4408,  0.7441],\n",
            "        [ 0.6657,  0.9213],\n",
            "        [-0.4613,  0.7966],\n",
            "        [-0.0341,  0.5590],\n",
            "        [ 0.0516,  1.2942]], grad_fn=<AddmmBackward0>)\n",
            "tensor([1, 1, 0, 1, 0, 1, 1, 0])\n",
            "tensor([1, 1, 1, 1, 1, 1, 1, 1])\n"
          ]
        },
        {
          "name": "stderr",
          "output_type": "stream",
          "text": [
            "\r  8%|▊         | 40/525 [01:48<23:00,  2.85s/it]"
          ]
        },
        {
          "name": "stdout",
          "output_type": "stream",
          "text": [
            "\n",
            "tensor([[ 0.1906,  1.3475],\n",
            "        [ 0.1189,  1.1255],\n",
            "        [-0.2026,  1.2028],\n",
            "        [-0.2724,  1.3167],\n",
            "        [-0.1739,  0.9224],\n",
            "        [-0.2530,  1.4282],\n",
            "        [ 0.0272,  0.8407],\n",
            "        [-0.2433,  0.9754]], grad_fn=<AddmmBackward0>)\n",
            "tensor([1, 0, 1, 0, 0, 0, 0, 1])\n",
            "tensor([1, 1, 1, 1, 1, 1, 1, 1])\n"
          ]
        },
        {
          "name": "stderr",
          "output_type": "stream",
          "text": [
            "\r  8%|▊         | 41/525 [01:50<22:50,  2.83s/it]"
          ]
        },
        {
          "name": "stdout",
          "output_type": "stream",
          "text": [
            "\n",
            "tensor([[-0.2122,  1.3014],\n",
            "        [-0.2384,  0.9714],\n",
            "        [ 0.1537,  1.2322],\n",
            "        [-0.4490,  1.4067],\n",
            "        [-0.1103,  1.1695],\n",
            "        [-0.0393,  0.6135],\n",
            "        [ 0.3817,  0.9442],\n",
            "        [-0.0735,  0.5118]], grad_fn=<AddmmBackward0>)\n",
            "tensor([0, 0, 0, 1, 0, 0, 1, 1])\n",
            "tensor([1, 1, 1, 1, 1, 1, 1, 1])\n"
          ]
        },
        {
          "name": "stderr",
          "output_type": "stream",
          "text": [
            "\r  8%|▊         | 42/525 [01:53<22:51,  2.84s/it]"
          ]
        },
        {
          "name": "stdout",
          "output_type": "stream",
          "text": [
            "\n",
            "tensor([[-0.2914,  0.8152],\n",
            "        [ 0.2386,  0.5994],\n",
            "        [ 0.2885,  1.0386],\n",
            "        [ 0.3804,  1.2466],\n",
            "        [ 0.3186,  0.8492],\n",
            "        [ 0.4482,  1.0531],\n",
            "        [-0.1969,  1.3772],\n",
            "        [-0.0442,  1.5522]], grad_fn=<AddmmBackward0>)\n",
            "tensor([1, 0, 1, 0, 0, 1, 0, 0])\n",
            "tensor([1, 1, 1, 1, 1, 1, 1, 1])\n"
          ]
        },
        {
          "name": "stderr",
          "output_type": "stream",
          "text": [
            "\r  8%|▊         | 43/525 [01:56<22:54,  2.85s/it]"
          ]
        },
        {
          "name": "stdout",
          "output_type": "stream",
          "text": [
            "\n",
            "tensor([[-0.1605,  0.5481],\n",
            "        [-0.5082,  0.9072],\n",
            "        [-0.2532,  1.4306],\n",
            "        [-0.5461,  0.9047],\n",
            "        [ 0.3348,  0.9112],\n",
            "        [ 0.3918,  0.5332],\n",
            "        [-0.1417,  0.9494],\n",
            "        [-0.2124,  0.4173]], grad_fn=<AddmmBackward0>)\n",
            "tensor([1, 1, 1, 1, 1, 1, 0, 1])\n",
            "tensor([1, 1, 1, 1, 1, 1, 1, 1])\n"
          ]
        },
        {
          "name": "stderr",
          "output_type": "stream",
          "text": [
            "\r  8%|▊         | 44/525 [01:59<22:56,  2.86s/it]"
          ]
        },
        {
          "name": "stdout",
          "output_type": "stream",
          "text": [
            "\n",
            "tensor([[ 0.1319,  1.0509],\n",
            "        [-0.0540,  0.4402],\n",
            "        [ 0.1054,  0.7905],\n",
            "        [ 0.4694,  0.8023],\n",
            "        [-0.2116,  0.9646],\n",
            "        [-0.0940,  0.7777],\n",
            "        [-0.2785,  0.4379],\n",
            "        [ 0.2056,  0.5820]], grad_fn=<AddmmBackward0>)\n",
            "tensor([0, 1, 1, 0, 1, 0, 1, 1])\n",
            "tensor([1, 1, 1, 1, 1, 1, 1, 1])\n"
          ]
        },
        {
          "name": "stderr",
          "output_type": "stream",
          "text": [
            "\r  9%|▊         | 45/525 [02:02<22:59,  2.87s/it]"
          ]
        },
        {
          "name": "stdout",
          "output_type": "stream",
          "text": [
            "\n",
            "tensor([[ 0.0772,  0.6407],\n",
            "        [ 0.1751,  0.4333],\n",
            "        [ 0.0883,  0.7892],\n",
            "        [-0.2715,  0.5759],\n",
            "        [-0.1293,  0.7749],\n",
            "        [-0.3788,  0.9069],\n",
            "        [-0.0576,  0.4335],\n",
            "        [ 0.0573,  0.8574]], grad_fn=<AddmmBackward0>)\n",
            "tensor([1, 1, 1, 0, 1, 0, 1, 0])\n",
            "tensor([1, 1, 1, 1, 1, 1, 1, 1])\n"
          ]
        },
        {
          "name": "stderr",
          "output_type": "stream",
          "text": [
            "\r  9%|▉         | 46/525 [02:05<23:00,  2.88s/it]"
          ]
        },
        {
          "name": "stdout",
          "output_type": "stream",
          "text": [
            "\n",
            "tensor([[ 0.1953,  0.3326],\n",
            "        [ 0.1446,  0.5330],\n",
            "        [ 0.2122,  0.9325],\n",
            "        [ 0.1034,  0.5200],\n",
            "        [ 0.2444,  0.5623],\n",
            "        [ 0.0031,  0.7772],\n",
            "        [ 0.1098,  0.9761],\n",
            "        [ 0.1379, -0.0814]], grad_fn=<AddmmBackward0>)\n",
            "tensor([1, 1, 1, 0, 0, 0, 1, 1])\n",
            "tensor([1, 1, 1, 1, 1, 1, 1, 0])\n"
          ]
        },
        {
          "name": "stderr",
          "output_type": "stream",
          "text": [
            "\r  9%|▉         | 47/525 [02:07<22:29,  2.82s/it]"
          ]
        },
        {
          "name": "stdout",
          "output_type": "stream",
          "text": [
            "\n",
            "tensor([[ 0.4892,  0.2745],\n",
            "        [-0.1619,  0.3199],\n",
            "        [ 0.2369,  0.6670],\n",
            "        [ 0.5497,  0.7923],\n",
            "        [ 0.1492,  0.7369],\n",
            "        [ 0.3485,  0.7260],\n",
            "        [ 0.4589,  0.6763],\n",
            "        [ 0.6463,  0.9313]], grad_fn=<AddmmBackward0>)\n",
            "tensor([1, 1, 0, 0, 0, 1, 1, 1])\n",
            "tensor([0, 1, 1, 1, 1, 1, 1, 1])\n"
          ]
        },
        {
          "name": "stderr",
          "output_type": "stream",
          "text": [
            "\r  9%|▉         | 48/525 [02:10<22:39,  2.85s/it]"
          ]
        },
        {
          "name": "stdout",
          "output_type": "stream",
          "text": [
            "\n",
            "tensor([[ 0.4998,  0.6611],\n",
            "        [ 0.4547,  0.1622],\n",
            "        [ 0.4145,  0.6006],\n",
            "        [ 0.0980,  0.6709],\n",
            "        [ 0.3652,  0.8943],\n",
            "        [-0.0154,  0.4605],\n",
            "        [-0.2248,  0.8069],\n",
            "        [-0.2826,  0.4707]], grad_fn=<AddmmBackward0>)\n",
            "tensor([1, 1, 1, 1, 1, 1, 0, 1])\n",
            "tensor([1, 0, 1, 1, 1, 1, 1, 1])\n"
          ]
        },
        {
          "name": "stderr",
          "output_type": "stream",
          "text": [
            "\r  9%|▉         | 49/525 [02:13<21:27,  2.70s/it]"
          ]
        },
        {
          "name": "stdout",
          "output_type": "stream",
          "text": [
            "\n",
            "tensor([[ 0.2430,  0.5146],\n",
            "        [ 0.3942,  0.4528],\n",
            "        [ 0.2463,  0.2173],\n",
            "        [ 0.5637,  0.5790],\n",
            "        [-0.1636,  1.2591],\n",
            "        [ 0.3911,  0.2846],\n",
            "        [ 0.6719,  0.7141],\n",
            "        [ 0.1838,  0.6443]], grad_fn=<AddmmBackward0>)\n",
            "tensor([1, 0, 1, 0, 1, 1, 1, 0])\n",
            "tensor([1, 1, 0, 1, 1, 0, 1, 1])\n"
          ]
        },
        {
          "name": "stderr",
          "output_type": "stream",
          "text": [
            "\r 10%|▉         | 50/525 [02:16<21:54,  2.77s/it]"
          ]
        },
        {
          "name": "stdout",
          "output_type": "stream",
          "text": [
            "\n",
            "tensor([[ 0.5267,  0.0619],\n",
            "        [ 0.4697,  0.3977],\n",
            "        [ 0.2274,  0.8988],\n",
            "        [-0.0059,  0.1609],\n",
            "        [ 0.5366,  0.0011],\n",
            "        [ 0.1607,  0.5326],\n",
            "        [ 0.3244,  0.4636],\n",
            "        [ 0.8359,  0.2566]], grad_fn=<AddmmBackward0>)\n",
            "tensor([0, 0, 0, 1, 0, 1, 0, 0])\n",
            "tensor([0, 0, 1, 1, 0, 1, 1, 0])\n"
          ]
        },
        {
          "name": "stderr",
          "output_type": "stream",
          "text": [
            "\r 10%|▉         | 51/525 [02:19<22:17,  2.82s/it]"
          ]
        },
        {
          "name": "stdout",
          "output_type": "stream",
          "text": [
            "\n",
            "tensor([[ 0.7923,  0.4230],\n",
            "        [ 0.2941,  0.6269],\n",
            "        [-0.0373,  0.3226],\n",
            "        [ 0.3448,  0.5918],\n",
            "        [ 0.2576,  0.4493],\n",
            "        [ 0.2815,  0.3921],\n",
            "        [ 0.4011,  0.5582],\n",
            "        [ 0.5783,  0.2775]], grad_fn=<AddmmBackward0>)\n",
            "tensor([1, 1, 0, 1, 1, 1, 1, 1])\n",
            "tensor([0, 1, 1, 1, 1, 1, 1, 0])\n"
          ]
        },
        {
          "name": "stderr",
          "output_type": "stream",
          "text": [
            "\r 10%|▉         | 52/525 [02:21<22:05,  2.80s/it]"
          ]
        },
        {
          "name": "stdout",
          "output_type": "stream",
          "text": [
            "\n",
            "tensor([[0.5036, 0.3803],\n",
            "        [0.2231, 0.4893],\n",
            "        [0.1232, 0.7605],\n",
            "        [0.3702, 0.3297],\n",
            "        [0.2672, 0.7908],\n",
            "        [0.7106, 1.0115],\n",
            "        [0.2277, 0.3149],\n",
            "        [0.0953, 0.7419]], grad_fn=<AddmmBackward0>)\n",
            "tensor([0, 0, 1, 0, 0, 0, 0, 0])\n",
            "tensor([0, 1, 1, 0, 1, 1, 1, 1])\n"
          ]
        },
        {
          "name": "stderr",
          "output_type": "stream",
          "text": [
            "\r 10%|█         | 53/525 [02:24<22:02,  2.80s/it]"
          ]
        },
        {
          "name": "stdout",
          "output_type": "stream",
          "text": [
            "\n",
            "tensor([[ 6.6209e-01,  1.7247e-01],\n",
            "        [-6.3839e-04,  6.5407e-01],\n",
            "        [ 8.5083e-01,  6.3143e-01],\n",
            "        [ 3.7897e-01,  4.0899e-01],\n",
            "        [ 9.8336e-02,  7.5688e-01],\n",
            "        [ 3.9510e-01,  2.3683e-01],\n",
            "        [ 7.2951e-01,  1.5656e-01],\n",
            "        [ 2.3969e-01,  6.1786e-01]], grad_fn=<AddmmBackward0>)\n",
            "tensor([0, 0, 1, 0, 1, 1, 0, 1])\n",
            "tensor([0, 1, 0, 1, 1, 0, 0, 1])\n"
          ]
        },
        {
          "name": "stderr",
          "output_type": "stream",
          "text": [
            "\r 10%|█         | 54/525 [02:27<21:30,  2.74s/it]"
          ]
        },
        {
          "name": "stdout",
          "output_type": "stream",
          "text": [
            "\n",
            "tensor([[ 0.6114,  0.8365],\n",
            "        [ 0.7816,  0.7953],\n",
            "        [ 0.3520, -0.0736],\n",
            "        [ 0.2741,  0.9712],\n",
            "        [ 0.3794,  0.8333],\n",
            "        [ 0.8758,  0.4284],\n",
            "        [ 0.4880,  0.6061],\n",
            "        [ 0.3030,  0.8946]], grad_fn=<AddmmBackward0>)\n",
            "tensor([1, 1, 1, 0, 0, 1, 1, 0])\n",
            "tensor([1, 1, 0, 1, 1, 0, 1, 1])\n"
          ]
        },
        {
          "name": "stderr",
          "output_type": "stream",
          "text": [
            "\r 10%|█         | 55/525 [02:30<21:54,  2.80s/it]"
          ]
        },
        {
          "name": "stdout",
          "output_type": "stream",
          "text": [
            "\n",
            "tensor([[1.0130, 0.3538],\n",
            "        [0.3029, 0.7435],\n",
            "        [0.4397, 0.4526],\n",
            "        [0.5254, 0.3908],\n",
            "        [0.3459, 0.2434],\n",
            "        [0.5329, 0.7056],\n",
            "        [0.6744, 0.4036],\n",
            "        [0.3730, 0.5757]], grad_fn=<AddmmBackward0>)\n",
            "tensor([1, 1, 0, 0, 0, 1, 1, 1])\n",
            "tensor([0, 1, 1, 0, 0, 1, 0, 1])\n"
          ]
        },
        {
          "name": "stderr",
          "output_type": "stream",
          "text": [
            "\r 11%|█         | 56/525 [02:33<22:38,  2.90s/it]"
          ]
        },
        {
          "name": "stdout",
          "output_type": "stream",
          "text": [
            "\n",
            "tensor([[ 0.2493,  0.6757],\n",
            "        [ 0.0237,  0.7896],\n",
            "        [ 0.2095,  0.6416],\n",
            "        [ 0.3222, -0.0350],\n",
            "        [ 0.6572,  0.7342],\n",
            "        [-0.0762,  0.6429],\n",
            "        [-0.0048, -0.0723],\n",
            "        [ 0.2548,  0.3978]], grad_fn=<AddmmBackward0>)\n",
            "tensor([1, 0, 0, 0, 0, 1, 1, 0])\n",
            "tensor([1, 1, 1, 0, 1, 1, 0, 1])\n"
          ]
        },
        {
          "name": "stderr",
          "output_type": "stream",
          "text": [
            "\r 11%|█         | 57/525 [02:35<21:34,  2.77s/it]"
          ]
        },
        {
          "name": "stdout",
          "output_type": "stream",
          "text": [
            "\n",
            "tensor([[0.4382, 0.2995],\n",
            "        [0.5283, 0.7767],\n",
            "        [0.7053, 0.5048],\n",
            "        [0.3868, 0.0861],\n",
            "        [0.2510, 0.2751],\n",
            "        [0.9578, 0.6085],\n",
            "        [1.0544, 0.8568],\n",
            "        [0.2098, 0.1658]], grad_fn=<AddmmBackward0>)\n",
            "tensor([0, 1, 0, 1, 0, 1, 0, 0])\n",
            "tensor([0, 1, 0, 0, 1, 0, 0, 0])\n"
          ]
        },
        {
          "name": "stderr",
          "output_type": "stream",
          "text": [
            "\r 11%|█         | 58/525 [02:38<21:22,  2.75s/it]"
          ]
        },
        {
          "name": "stdout",
          "output_type": "stream",
          "text": [
            "\n",
            "tensor([[ 0.8356,  0.7057],\n",
            "        [ 0.1378,  0.3394],\n",
            "        [ 1.1208,  0.7919],\n",
            "        [ 0.5171,  0.3834],\n",
            "        [ 0.7367,  0.7681],\n",
            "        [ 0.5146,  0.4283],\n",
            "        [ 0.4867,  0.5057],\n",
            "        [ 0.7859, -0.2599]], grad_fn=<AddmmBackward0>)\n",
            "tensor([1, 0, 1, 1, 1, 0, 1, 0])\n",
            "tensor([0, 1, 0, 0, 1, 0, 1, 0])\n"
          ]
        },
        {
          "name": "stderr",
          "output_type": "stream",
          "text": [
            "\r 11%|█         | 59/525 [02:41<21:18,  2.74s/it]"
          ]
        },
        {
          "name": "stdout",
          "output_type": "stream",
          "text": [
            "\n",
            "tensor([[ 0.9125,  0.2538],\n",
            "        [ 1.0335,  0.4066],\n",
            "        [ 0.3355, -0.0617],\n",
            "        [ 0.2232,  0.3977],\n",
            "        [ 0.5633,  0.3985],\n",
            "        [ 0.5478,  0.5600],\n",
            "        [ 0.6798,  0.7176],\n",
            "        [ 0.8876,  0.2671]], grad_fn=<AddmmBackward0>)\n",
            "tensor([0, 0, 1, 1, 1, 1, 0, 0])\n",
            "tensor([0, 0, 0, 1, 0, 1, 1, 0])\n"
          ]
        },
        {
          "name": "stderr",
          "output_type": "stream",
          "text": [
            "\r 11%|█▏        | 60/525 [02:44<21:37,  2.79s/it]"
          ]
        },
        {
          "name": "stdout",
          "output_type": "stream",
          "text": [
            "\n",
            "tensor([[ 0.6602,  0.0843],\n",
            "        [ 0.2423,  0.2211],\n",
            "        [ 0.3837,  0.2337],\n",
            "        [ 0.7272,  0.0995],\n",
            "        [ 0.2074,  0.1331],\n",
            "        [ 0.2255,  0.9103],\n",
            "        [-0.0322,  0.2142],\n",
            "        [ 0.5255,  0.4225]], grad_fn=<AddmmBackward0>)\n",
            "tensor([0, 1, 1, 1, 1, 0, 0, 0])\n",
            "tensor([0, 0, 0, 0, 0, 1, 1, 0])\n"
          ]
        },
        {
          "name": "stderr",
          "output_type": "stream",
          "text": [
            "\r 12%|█▏        | 61/525 [02:47<22:22,  2.89s/it]"
          ]
        },
        {
          "name": "stdout",
          "output_type": "stream",
          "text": [
            "\n",
            "tensor([[ 0.6200,  0.4276],\n",
            "        [ 0.5700, -0.1176],\n",
            "        [ 0.5662, -0.1681],\n",
            "        [ 0.4657,  0.5502],\n",
            "        [ 0.4440,  0.3204],\n",
            "        [ 1.1713,  0.0358],\n",
            "        [ 0.6600,  1.0358],\n",
            "        [ 0.2745,  0.6209]], grad_fn=<AddmmBackward0>)\n",
            "tensor([0, 0, 0, 0, 1, 1, 1, 0])\n",
            "tensor([0, 0, 0, 1, 0, 0, 1, 1])\n"
          ]
        },
        {
          "name": "stderr",
          "output_type": "stream",
          "text": [
            "\r 12%|█▏        | 62/525 [02:49<22:03,  2.86s/it]"
          ]
        },
        {
          "name": "stdout",
          "output_type": "stream",
          "text": [
            "\n",
            "tensor([[0.3920, 0.4204],\n",
            "        [0.0158, 0.0086],\n",
            "        [0.3784, 0.2615],\n",
            "        [0.5640, 0.0206],\n",
            "        [0.8329, 0.4966],\n",
            "        [0.6497, 0.6062],\n",
            "        [0.4695, 0.4033],\n",
            "        [0.9538, 0.2793]], grad_fn=<AddmmBackward0>)\n",
            "tensor([1, 1, 0, 0, 0, 0, 1, 0])\n",
            "tensor([1, 0, 0, 0, 0, 0, 0, 0])\n"
          ]
        },
        {
          "name": "stderr",
          "output_type": "stream",
          "text": [
            "\r 12%|█▏        | 63/525 [02:52<21:27,  2.79s/it]"
          ]
        },
        {
          "name": "stdout",
          "output_type": "stream",
          "text": [
            "\n",
            "tensor([[ 0.2858,  0.6806],\n",
            "        [ 0.8853,  0.8691],\n",
            "        [ 0.7694, -0.0989],\n",
            "        [ 0.5677,  0.4925],\n",
            "        [ 0.4992,  0.4909],\n",
            "        [ 1.0550,  0.6813],\n",
            "        [ 0.2360,  0.5123],\n",
            "        [ 1.1986,  0.2117]], grad_fn=<AddmmBackward0>)\n",
            "tensor([0, 0, 0, 1, 0, 0, 1, 1])\n",
            "tensor([1, 0, 0, 0, 0, 0, 1, 0])\n"
          ]
        },
        {
          "name": "stderr",
          "output_type": "stream",
          "text": [
            "\r 12%|█▏        | 64/525 [02:55<21:14,  2.76s/it]"
          ]
        },
        {
          "name": "stdout",
          "output_type": "stream",
          "text": [
            "\n",
            "tensor([[ 0.2624,  0.1722],\n",
            "        [ 0.3389,  0.6108],\n",
            "        [ 0.5280,  0.1431],\n",
            "        [ 0.6330,  0.2217],\n",
            "        [ 0.7996,  0.3372],\n",
            "        [ 0.4540,  0.6550],\n",
            "        [ 0.4841, -0.0589],\n",
            "        [ 1.0998,  0.3317]], grad_fn=<AddmmBackward0>)\n",
            "tensor([1, 0, 0, 0, 1, 0, 0, 0])\n",
            "tensor([0, 1, 0, 0, 0, 1, 0, 0])\n"
          ]
        },
        {
          "name": "stderr",
          "output_type": "stream",
          "text": [
            "\r 12%|█▏        | 65/525 [02:57<20:10,  2.63s/it]"
          ]
        },
        {
          "name": "stdout",
          "output_type": "stream",
          "text": [
            "\n",
            "tensor([[0.5931, 0.5158],\n",
            "        [0.2912, 0.4326],\n",
            "        [0.5130, 0.3471],\n",
            "        [1.1429, 0.8371],\n",
            "        [0.8003, 0.4166],\n",
            "        [0.5827, 0.1478],\n",
            "        [0.4754, 0.2769],\n",
            "        [0.7910, 0.2279]], grad_fn=<AddmmBackward0>)\n",
            "tensor([1, 0, 0, 1, 0, 0, 0, 1])\n",
            "tensor([0, 1, 0, 0, 0, 0, 0, 0])\n"
          ]
        },
        {
          "name": "stderr",
          "output_type": "stream",
          "text": [
            "\r 13%|█▎        | 66/525 [03:00<20:38,  2.70s/it]"
          ]
        },
        {
          "name": "stdout",
          "output_type": "stream",
          "text": [
            "\n",
            "tensor([[ 0.4024,  0.6264],\n",
            "        [ 0.9567,  0.4775],\n",
            "        [ 1.1642, -0.2419],\n",
            "        [ 0.3610,  0.6409],\n",
            "        [ 0.4339,  0.4981],\n",
            "        [ 0.8090,  0.1903],\n",
            "        [ 1.0417,  0.5042],\n",
            "        [ 0.8760,  0.6060]], grad_fn=<AddmmBackward0>)\n",
            "tensor([1, 0, 1, 0, 0, 1, 1, 0])\n",
            "tensor([1, 0, 0, 1, 1, 0, 0, 0])\n"
          ]
        },
        {
          "name": "stderr",
          "output_type": "stream",
          "text": [
            "\r 13%|█▎        | 67/525 [03:03<21:05,  2.76s/it]"
          ]
        },
        {
          "name": "stdout",
          "output_type": "stream",
          "text": [
            "\n",
            "tensor([[ 0.3254,  0.0750],\n",
            "        [ 0.8558, -0.3912],\n",
            "        [ 1.2174, -0.0372],\n",
            "        [ 0.9785,  0.1617],\n",
            "        [ 0.9132,  0.2202],\n",
            "        [ 0.7168,  0.6327],\n",
            "        [ 0.6724, -0.1589],\n",
            "        [ 0.9089,  0.5218]], grad_fn=<AddmmBackward0>)\n",
            "tensor([1, 0, 0, 1, 1, 1, 0, 1])\n",
            "tensor([0, 0, 0, 0, 0, 0, 0, 0])\n"
          ]
        },
        {
          "name": "stderr",
          "output_type": "stream",
          "text": [
            "\r 13%|█▎        | 68/525 [03:06<21:19,  2.80s/it]"
          ]
        },
        {
          "name": "stdout",
          "output_type": "stream",
          "text": [
            "\n",
            "tensor([[ 0.7127, -0.0353],\n",
            "        [ 0.8234, -0.0190],\n",
            "        [ 0.8476,  0.6181],\n",
            "        [ 0.3498, -0.2759],\n",
            "        [ 0.4277,  0.0861],\n",
            "        [ 0.7264,  0.1262],\n",
            "        [ 1.2879,  0.1488],\n",
            "        [ 0.8436,  0.6935]], grad_fn=<AddmmBackward0>)\n",
            "tensor([0, 0, 0, 0, 1, 1, 1, 1])\n",
            "tensor([0, 0, 0, 0, 0, 0, 0, 0])\n"
          ]
        },
        {
          "name": "stderr",
          "output_type": "stream",
          "text": [
            "\r 13%|█▎        | 69/525 [03:08<20:54,  2.75s/it]"
          ]
        },
        {
          "name": "stdout",
          "output_type": "stream",
          "text": [
            "\n",
            "tensor([[ 0.8331, -0.2346],\n",
            "        [ 0.6053, -0.0864],\n",
            "        [ 1.3933,  0.2514],\n",
            "        [ 0.7351,  0.0577],\n",
            "        [ 0.8781,  0.5981],\n",
            "        [ 0.2813,  0.1707],\n",
            "        [ 0.9758, -0.0086],\n",
            "        [ 0.8683,  0.5481]], grad_fn=<AddmmBackward0>)\n",
            "tensor([0, 0, 0, 0, 0, 0, 1, 1])\n",
            "tensor([0, 0, 0, 0, 0, 0, 0, 0])\n"
          ]
        },
        {
          "name": "stderr",
          "output_type": "stream",
          "text": [
            "\r 13%|█▎        | 70/525 [03:11<20:55,  2.76s/it]"
          ]
        },
        {
          "name": "stdout",
          "output_type": "stream",
          "text": [
            "\n",
            "tensor([[ 0.5815,  0.0770],\n",
            "        [ 0.4140,  0.1629],\n",
            "        [ 0.7114,  0.7012],\n",
            "        [ 0.4922, -0.0523],\n",
            "        [ 1.0808,  0.9004],\n",
            "        [ 0.2601,  0.2051],\n",
            "        [ 0.4111,  0.5557],\n",
            "        [ 0.8917,  0.4817]], grad_fn=<AddmmBackward0>)\n",
            "tensor([0, 0, 1, 1, 0, 1, 0, 0])\n",
            "tensor([0, 0, 0, 0, 0, 0, 1, 0])\n"
          ]
        },
        {
          "name": "stderr",
          "output_type": "stream",
          "text": [
            "\r 14%|█▎        | 71/525 [03:14<20:34,  2.72s/it]"
          ]
        },
        {
          "name": "stdout",
          "output_type": "stream",
          "text": [
            "\n",
            "tensor([[0.7801, 0.2900],\n",
            "        [0.8659, 0.7294],\n",
            "        [0.9123, 0.4334],\n",
            "        [1.1864, 0.4155],\n",
            "        [0.4823, 0.2132],\n",
            "        [0.7586, 0.1673],\n",
            "        [0.7099, 0.6675],\n",
            "        [0.4568, 0.2746]], grad_fn=<AddmmBackward0>)\n",
            "tensor([0, 1, 0, 1, 1, 0, 1, 1])\n",
            "tensor([0, 0, 0, 0, 0, 0, 0, 0])\n"
          ]
        },
        {
          "name": "stderr",
          "output_type": "stream",
          "text": [
            "\r 14%|█▎        | 72/525 [03:17<21:10,  2.80s/it]"
          ]
        },
        {
          "name": "stdout",
          "output_type": "stream",
          "text": [
            "\n",
            "tensor([[0.5155, 0.5117],\n",
            "        [0.4397, 0.5904],\n",
            "        [0.3020, 0.2183],\n",
            "        [0.8146, 0.3800],\n",
            "        [1.1891, 0.1790],\n",
            "        [0.4877, 0.5653],\n",
            "        [0.8130, 0.3016],\n",
            "        [0.1055, 0.1876]], grad_fn=<AddmmBackward0>)\n",
            "tensor([1, 1, 1, 0, 1, 0, 0, 0])\n",
            "tensor([0, 1, 0, 0, 0, 1, 0, 1])\n"
          ]
        },
        {
          "name": "stderr",
          "output_type": "stream",
          "text": [
            "\r 14%|█▍        | 73/525 [03:20<21:06,  2.80s/it]"
          ]
        },
        {
          "name": "stdout",
          "output_type": "stream",
          "text": [
            "\n",
            "tensor([[0.4523, 0.4275],\n",
            "        [0.8467, 0.0989],\n",
            "        [0.7620, 0.5511],\n",
            "        [0.3800, 0.5451],\n",
            "        [0.6171, 0.0617],\n",
            "        [1.2007, 0.3557],\n",
            "        [0.3717, 0.7859],\n",
            "        [0.7094, 0.6848]], grad_fn=<AddmmBackward0>)\n",
            "tensor([0, 1, 0, 1, 1, 0, 1, 0])\n",
            "tensor([0, 0, 0, 1, 0, 0, 1, 0])\n"
          ]
        },
        {
          "name": "stderr",
          "output_type": "stream",
          "text": [
            "\r 14%|█▍        | 74/525 [03:23<21:13,  2.82s/it]"
          ]
        },
        {
          "name": "stdout",
          "output_type": "stream",
          "text": [
            "\n",
            "tensor([[ 0.3029,  0.6735],\n",
            "        [ 0.6293,  0.1835],\n",
            "        [ 1.1221,  0.2261],\n",
            "        [ 0.2216,  0.6496],\n",
            "        [-0.0105,  0.4447],\n",
            "        [ 1.0767,  0.3187],\n",
            "        [ 0.0297,  0.6053],\n",
            "        [ 0.3883,  0.2453]], grad_fn=<AddmmBackward0>)\n",
            "tensor([0, 0, 0, 1, 1, 1, 0, 0])\n",
            "tensor([1, 0, 0, 1, 1, 0, 1, 0])\n"
          ]
        },
        {
          "name": "stderr",
          "output_type": "stream",
          "text": [
            "\r 14%|█▍        | 75/525 [03:25<21:02,  2.80s/it]"
          ]
        },
        {
          "name": "stdout",
          "output_type": "stream",
          "text": [
            "\n",
            "tensor([[ 0.7501,  0.5316],\n",
            "        [ 0.5055,  0.6405],\n",
            "        [ 0.4282,  0.1102],\n",
            "        [ 0.8486,  0.3071],\n",
            "        [ 0.5436, -0.0190],\n",
            "        [ 1.0004,  0.3826],\n",
            "        [ 0.7975,  0.4414],\n",
            "        [ 0.1460,  0.5693]], grad_fn=<AddmmBackward0>)\n",
            "tensor([0, 0, 0, 1, 1, 1, 1, 1])\n",
            "tensor([0, 1, 0, 0, 0, 0, 0, 1])\n"
          ]
        },
        {
          "name": "stderr",
          "output_type": "stream",
          "text": [
            "\r 14%|█▍        | 76/525 [03:28<21:04,  2.82s/it]"
          ]
        },
        {
          "name": "stdout",
          "output_type": "stream",
          "text": [
            "\n",
            "tensor([[0.4281, 0.8106],\n",
            "        [0.2653, 0.3458],\n",
            "        [0.4486, 0.4285],\n",
            "        [0.5854, 0.7232],\n",
            "        [0.3019, 0.3314],\n",
            "        [0.3915, 0.9617],\n",
            "        [0.3314, 0.0352],\n",
            "        [0.4365, 0.7658]], grad_fn=<AddmmBackward0>)\n",
            "tensor([0, 1, 1, 1, 0, 0, 0, 0])\n",
            "tensor([1, 1, 0, 1, 1, 1, 0, 1])\n"
          ]
        },
        {
          "name": "stderr",
          "output_type": "stream",
          "text": [
            "\r 15%|█▍        | 77/525 [03:31<21:14,  2.84s/it]"
          ]
        },
        {
          "name": "stdout",
          "output_type": "stream",
          "text": [
            "\n",
            "tensor([[ 0.6248,  0.8797],\n",
            "        [ 0.6768,  0.5826],\n",
            "        [-0.0041,  0.5038],\n",
            "        [ 0.4374,  0.6512],\n",
            "        [ 0.7661,  0.5776],\n",
            "        [ 0.4355,  0.6475],\n",
            "        [ 0.8637,  0.1906],\n",
            "        [ 0.2783,  1.0332]], grad_fn=<AddmmBackward0>)\n",
            "tensor([0, 1, 1, 1, 1, 0, 1, 0])\n",
            "tensor([1, 0, 1, 1, 0, 1, 0, 1])\n"
          ]
        },
        {
          "name": "stderr",
          "output_type": "stream",
          "text": [
            "\r 15%|█▍        | 78/525 [03:34<21:29,  2.88s/it]"
          ]
        },
        {
          "name": "stdout",
          "output_type": "stream",
          "text": [
            "\n",
            "tensor([[0.0281, 0.4202],\n",
            "        [0.2631, 0.7077],\n",
            "        [0.3898, 0.3082],\n",
            "        [0.8913, 0.6464],\n",
            "        [0.2685, 0.9304],\n",
            "        [0.6195, 1.1218],\n",
            "        [0.3704, 0.6241],\n",
            "        [0.4132, 1.0157]], grad_fn=<AddmmBackward0>)\n",
            "tensor([1, 1, 0, 1, 1, 1, 1, 1])\n",
            "tensor([1, 1, 0, 0, 1, 1, 1, 1])\n"
          ]
        },
        {
          "name": "stderr",
          "output_type": "stream",
          "text": [
            "\r 15%|█▌        | 79/525 [03:37<21:32,  2.90s/it]"
          ]
        },
        {
          "name": "stdout",
          "output_type": "stream",
          "text": [
            "\n",
            "tensor([[ 0.8162,  0.8512],\n",
            "        [ 0.2606,  0.3641],\n",
            "        [ 0.8578,  1.2790],\n",
            "        [ 0.3641,  0.5325],\n",
            "        [ 0.0524,  0.6495],\n",
            "        [-0.1124,  0.9355],\n",
            "        [-0.2366,  0.8100],\n",
            "        [ 0.5864,  0.9485]], grad_fn=<AddmmBackward0>)\n",
            "tensor([0, 1, 1, 1, 1, 1, 0, 1])\n",
            "tensor([1, 1, 1, 1, 1, 1, 1, 1])\n"
          ]
        },
        {
          "name": "stderr",
          "output_type": "stream",
          "text": [
            "\r 15%|█▌        | 80/525 [03:40<21:34,  2.91s/it]"
          ]
        },
        {
          "name": "stdout",
          "output_type": "stream",
          "text": [
            "\n",
            "tensor([[0.9038, 1.1159],\n",
            "        [0.1084, 0.5853],\n",
            "        [0.1006, 0.7875],\n",
            "        [0.4146, 1.2989],\n",
            "        [0.0968, 0.7286],\n",
            "        [0.4720, 1.1849],\n",
            "        [0.2816, 1.2633],\n",
            "        [0.3862, 0.6783]], grad_fn=<AddmmBackward0>)\n",
            "tensor([1, 0, 0, 1, 1, 1, 0, 1])\n",
            "tensor([1, 1, 1, 1, 1, 1, 1, 1])\n"
          ]
        },
        {
          "name": "stderr",
          "output_type": "stream",
          "text": [
            "\r 15%|█▌        | 81/525 [03:43<21:33,  2.91s/it]"
          ]
        },
        {
          "name": "stdout",
          "output_type": "stream",
          "text": [
            "\n",
            "tensor([[ 0.1998,  1.0680],\n",
            "        [-0.6455,  1.1236],\n",
            "        [ 0.4374,  1.3005],\n",
            "        [ 0.0079,  1.0055],\n",
            "        [-0.7246,  1.5599],\n",
            "        [ 0.2162,  0.9369],\n",
            "        [ 0.1144,  0.9259],\n",
            "        [ 0.2837,  1.1188]], grad_fn=<AddmmBackward0>)\n",
            "tensor([0, 1, 0, 0, 0, 0, 1, 1])\n",
            "tensor([1, 1, 1, 1, 1, 1, 1, 1])\n"
          ]
        },
        {
          "name": "stderr",
          "output_type": "stream",
          "text": [
            "\r 16%|█▌        | 82/525 [03:46<21:09,  2.87s/it]"
          ]
        },
        {
          "name": "stdout",
          "output_type": "stream",
          "text": [
            "\n",
            "tensor([[-0.2922,  1.3282],\n",
            "        [-0.0835,  0.9339],\n",
            "        [ 0.2947,  1.3572],\n",
            "        [ 0.2190,  0.7242],\n",
            "        [ 0.3675,  0.9371],\n",
            "        [ 0.1910,  1.6601],\n",
            "        [ 0.4112,  1.0981],\n",
            "        [-0.0840,  1.2326]], grad_fn=<AddmmBackward0>)\n",
            "tensor([0, 1, 1, 0, 0, 0, 0, 0])\n",
            "tensor([1, 1, 1, 1, 1, 1, 1, 1])\n"
          ]
        },
        {
          "name": "stderr",
          "output_type": "stream",
          "text": [
            "\r 16%|█▌        | 83/525 [03:48<21:05,  2.86s/it]"
          ]
        },
        {
          "name": "stdout",
          "output_type": "stream",
          "text": [
            "\n",
            "tensor([[ 0.3471,  1.2435],\n",
            "        [ 0.0640,  0.7157],\n",
            "        [ 0.0737,  1.0886],\n",
            "        [-0.0215,  0.7728],\n",
            "        [ 0.3222,  1.5095],\n",
            "        [ 0.3417,  0.9790],\n",
            "        [ 0.4321,  0.8070],\n",
            "        [ 0.3004,  0.2649]], grad_fn=<AddmmBackward0>)\n",
            "tensor([0, 0, 0, 1, 0, 1, 1, 0])\n",
            "tensor([1, 1, 1, 1, 1, 1, 1, 0])\n"
          ]
        },
        {
          "name": "stderr",
          "output_type": "stream",
          "text": [
            "\r 16%|█▌        | 84/525 [03:51<21:12,  2.89s/it]"
          ]
        },
        {
          "name": "stdout",
          "output_type": "stream",
          "text": [
            "\n",
            "tensor([[0.2227, 0.6536],\n",
            "        [0.5609, 0.6621],\n",
            "        [0.3618, 1.0809],\n",
            "        [0.3869, 0.8086],\n",
            "        [0.2800, 1.0417],\n",
            "        [0.4820, 0.8205],\n",
            "        [0.2174, 0.6643],\n",
            "        [0.3001, 0.9539]], grad_fn=<AddmmBackward0>)\n",
            "tensor([1, 1, 1, 1, 0, 0, 0, 1])\n",
            "tensor([1, 1, 1, 1, 1, 1, 1, 1])\n"
          ]
        },
        {
          "name": "stderr",
          "output_type": "stream",
          "text": [
            "\r 16%|█▌        | 85/525 [03:54<21:01,  2.87s/it]"
          ]
        },
        {
          "name": "stdout",
          "output_type": "stream",
          "text": [
            "\n",
            "tensor([[ 0.3023,  0.6512],\n",
            "        [ 0.4605, -0.1371],\n",
            "        [ 0.2877,  0.4524],\n",
            "        [ 0.7103,  0.8985],\n",
            "        [ 0.1513,  0.8526],\n",
            "        [ 0.5969,  0.5399],\n",
            "        [ 0.3154, -0.2238],\n",
            "        [ 0.0188,  0.4095]], grad_fn=<AddmmBackward0>)\n",
            "tensor([1, 1, 1, 1, 1, 1, 1, 0])\n",
            "tensor([1, 0, 1, 1, 1, 0, 0, 1])\n"
          ]
        },
        {
          "name": "stderr",
          "output_type": "stream",
          "text": [
            "\r 16%|█▋        | 86/525 [03:57<21:00,  2.87s/it]"
          ]
        },
        {
          "name": "stdout",
          "output_type": "stream",
          "text": [
            "\n",
            "tensor([[ 0.8529,  0.5771],\n",
            "        [ 0.1326,  0.6460],\n",
            "        [ 0.6282,  0.7118],\n",
            "        [-0.0497,  0.8810],\n",
            "        [ 0.5533,  0.7619],\n",
            "        [ 0.6676,  0.5421],\n",
            "        [ 0.0149,  0.6290],\n",
            "        [ 0.7280,  0.3346]], grad_fn=<AddmmBackward0>)\n",
            "tensor([1, 0, 0, 1, 0, 1, 1, 1])\n",
            "tensor([0, 1, 1, 1, 1, 0, 1, 0])\n"
          ]
        },
        {
          "name": "stderr",
          "output_type": "stream",
          "text": [
            "\r 17%|█▋        | 87/525 [04:00<21:17,  2.92s/it]"
          ]
        },
        {
          "name": "stdout",
          "output_type": "stream",
          "text": [
            "\n",
            "tensor([[0.3535, 0.4109],\n",
            "        [0.6547, 1.0639],\n",
            "        [0.4604, 0.5923],\n",
            "        [0.3351, 0.9451],\n",
            "        [0.6221, 0.6497],\n",
            "        [0.7137, 0.3720],\n",
            "        [0.6392, 0.5725],\n",
            "        [0.7108, 0.5951]], grad_fn=<AddmmBackward0>)\n",
            "tensor([0, 1, 0, 1, 0, 0, 1, 0])\n",
            "tensor([1, 1, 1, 1, 1, 0, 0, 0])\n"
          ]
        },
        {
          "name": "stderr",
          "output_type": "stream",
          "text": [
            "\r 17%|█▋        | 88/525 [04:03<21:14,  2.92s/it]"
          ]
        },
        {
          "name": "stdout",
          "output_type": "stream",
          "text": [
            "\n",
            "tensor([[ 0.4017,  0.3274],\n",
            "        [ 0.5372,  0.4235],\n",
            "        [ 0.2240,  0.5702],\n",
            "        [-0.0064,  0.4322],\n",
            "        [ 0.6613,  0.9957],\n",
            "        [ 0.8724,  0.4512],\n",
            "        [ 0.6284,  0.6661],\n",
            "        [ 0.8499,  0.8523]], grad_fn=<AddmmBackward0>)\n",
            "tensor([1, 1, 1, 0, 1, 1, 1, 0])\n",
            "tensor([0, 0, 1, 1, 1, 0, 1, 1])\n"
          ]
        },
        {
          "name": "stderr",
          "output_type": "stream",
          "text": [
            "\r 17%|█▋        | 89/525 [04:06<20:29,  2.82s/it]"
          ]
        },
        {
          "name": "stdout",
          "output_type": "stream",
          "text": [
            "\n",
            "tensor([[-0.2399,  0.8489],\n",
            "        [ 0.2069,  0.7392],\n",
            "        [ 0.7695,  0.6127],\n",
            "        [ 1.0051,  0.5747],\n",
            "        [ 0.3894,  0.9135],\n",
            "        [ 0.1136,  0.3598],\n",
            "        [ 0.2140,  0.8279],\n",
            "        [ 1.0052,  0.6539]], grad_fn=<AddmmBackward0>)\n",
            "tensor([0, 1, 1, 0, 1, 1, 0, 0])\n",
            "tensor([1, 1, 0, 0, 1, 1, 1, 0])\n"
          ]
        },
        {
          "name": "stderr",
          "output_type": "stream",
          "text": [
            "\r 17%|█▋        | 90/525 [04:08<20:28,  2.82s/it]"
          ]
        },
        {
          "name": "stdout",
          "output_type": "stream",
          "text": [
            "\n",
            "tensor([[-0.0844,  0.2169],\n",
            "        [ 0.5930,  0.3906],\n",
            "        [ 0.1160,  0.5302],\n",
            "        [ 0.6457,  0.6604],\n",
            "        [ 0.0409,  1.4115],\n",
            "        [ 0.7609,  0.9643],\n",
            "        [ 0.6685,  0.0667],\n",
            "        [ 0.7956,  0.3511]], grad_fn=<AddmmBackward0>)\n",
            "tensor([1, 1, 1, 1, 0, 0, 1, 1])\n",
            "tensor([1, 0, 1, 1, 1, 1, 0, 0])\n"
          ]
        },
        {
          "name": "stderr",
          "output_type": "stream",
          "text": [
            "\r 17%|█▋        | 91/525 [04:11<20:47,  2.87s/it]"
          ]
        },
        {
          "name": "stdout",
          "output_type": "stream",
          "text": [
            "\n",
            "tensor([[ 0.3938,  0.6886],\n",
            "        [ 0.1874,  0.6130],\n",
            "        [ 0.7375,  0.9129],\n",
            "        [ 0.4747,  0.1138],\n",
            "        [ 0.3182,  0.7230],\n",
            "        [ 0.2538,  0.6628],\n",
            "        [ 0.7690,  0.8302],\n",
            "        [-0.1581,  0.7325]], grad_fn=<AddmmBackward0>)\n",
            "tensor([0, 1, 0, 1, 1, 0, 0, 0])\n",
            "tensor([1, 1, 1, 0, 1, 1, 1, 1])\n"
          ]
        },
        {
          "name": "stderr",
          "output_type": "stream",
          "text": [
            "\r 18%|█▊        | 92/525 [04:14<20:17,  2.81s/it]"
          ]
        },
        {
          "name": "stdout",
          "output_type": "stream",
          "text": [
            "\n",
            "tensor([[0.5267, 0.5858],\n",
            "        [0.3816, 0.4650],\n",
            "        [0.6020, 0.2846],\n",
            "        [0.5093, 0.3281],\n",
            "        [0.8723, 1.1409],\n",
            "        [0.8813, 0.5917],\n",
            "        [0.2317, 0.2503],\n",
            "        [0.6598, 0.8474]], grad_fn=<AddmmBackward0>)\n",
            "tensor([1, 1, 1, 1, 1, 1, 0, 1])\n",
            "tensor([1, 1, 0, 0, 1, 0, 1, 1])\n"
          ]
        },
        {
          "name": "stderr",
          "output_type": "stream",
          "text": [
            "\r 18%|█▊        | 93/525 [04:17<19:32,  2.71s/it]"
          ]
        },
        {
          "name": "stdout",
          "output_type": "stream",
          "text": [
            "\n",
            "tensor([[ 0.2281,  1.0138],\n",
            "        [ 0.2908,  0.6658],\n",
            "        [ 0.3973,  0.5155],\n",
            "        [-0.0196,  0.8437],\n",
            "        [ 0.1311,  0.2974],\n",
            "        [ 0.1937,  1.0793],\n",
            "        [ 0.4235,  0.7701],\n",
            "        [ 0.2223,  0.5677]], grad_fn=<AddmmBackward0>)\n",
            "tensor([1, 0, 1, 1, 0, 1, 0, 1])\n",
            "tensor([1, 1, 1, 1, 1, 1, 1, 1])\n"
          ]
        },
        {
          "name": "stderr",
          "output_type": "stream",
          "text": [
            "\r 18%|█▊        | 94/525 [04:19<19:08,  2.67s/it]"
          ]
        },
        {
          "name": "stdout",
          "output_type": "stream",
          "text": [
            "\n",
            "tensor([[0.1765, 0.7248],\n",
            "        [0.2403, 0.4887],\n",
            "        [0.1202, 0.6242],\n",
            "        [0.4187, 0.7180],\n",
            "        [0.1488, 1.0574],\n",
            "        [0.0695, 0.1262],\n",
            "        [0.2762, 0.3697],\n",
            "        [0.3452, 0.6864]], grad_fn=<AddmmBackward0>)\n",
            "tensor([1, 1, 0, 1, 1, 0, 0, 1])\n",
            "tensor([1, 1, 1, 1, 1, 1, 1, 1])\n"
          ]
        },
        {
          "name": "stderr",
          "output_type": "stream",
          "text": [
            "\r 18%|█▊        | 95/525 [04:22<19:24,  2.71s/it]"
          ]
        },
        {
          "name": "stdout",
          "output_type": "stream",
          "text": [
            "\n",
            "tensor([[-0.3147,  0.6099],\n",
            "        [ 0.0423,  0.5307],\n",
            "        [-0.1580,  0.5252],\n",
            "        [ 0.0596,  0.5176],\n",
            "        [-0.3672,  0.3510],\n",
            "        [-0.1045,  1.0971],\n",
            "        [ 0.2366,  1.2973],\n",
            "        [-0.3210,  0.7609]], grad_fn=<AddmmBackward0>)\n",
            "tensor([1, 1, 0, 1, 0, 1, 1, 0])\n",
            "tensor([1, 1, 1, 1, 1, 1, 1, 1])\n"
          ]
        },
        {
          "name": "stderr",
          "output_type": "stream",
          "text": [
            "\r 18%|█▊        | 96/525 [04:25<20:02,  2.80s/it]"
          ]
        },
        {
          "name": "stdout",
          "output_type": "stream",
          "text": [
            "\n",
            "tensor([[ 0.5802,  1.1762],\n",
            "        [ 0.3494,  0.7895],\n",
            "        [-0.4967,  0.8346],\n",
            "        [ 0.5011,  0.6288],\n",
            "        [-0.2182,  0.6355],\n",
            "        [ 0.0777,  0.7840],\n",
            "        [ 0.2837,  0.8804],\n",
            "        [-0.3538,  0.5628]], grad_fn=<AddmmBackward0>)\n",
            "tensor([1, 0, 0, 0, 0, 1, 0, 1])\n",
            "tensor([1, 1, 1, 1, 1, 1, 1, 1])\n"
          ]
        },
        {
          "name": "stderr",
          "output_type": "stream",
          "text": [
            "\r 18%|█▊        | 97/525 [04:28<19:43,  2.76s/it]"
          ]
        },
        {
          "name": "stdout",
          "output_type": "stream",
          "text": [
            "\n",
            "tensor([[ 0.2421,  0.9046],\n",
            "        [-0.1486,  1.0937],\n",
            "        [ 0.1317,  0.7972],\n",
            "        [-0.2420,  0.6844],\n",
            "        [ 0.1702,  1.4051],\n",
            "        [ 0.4868,  0.6011],\n",
            "        [-0.1912,  0.8148],\n",
            "        [-0.4260,  0.7173]], grad_fn=<AddmmBackward0>)\n",
            "tensor([0, 0, 1, 0, 1, 0, 1, 1])\n",
            "tensor([1, 1, 1, 1, 1, 1, 1, 1])\n"
          ]
        },
        {
          "name": "stderr",
          "output_type": "stream",
          "text": [
            "\r 19%|█▊        | 98/525 [04:30<19:14,  2.70s/it]"
          ]
        },
        {
          "name": "stdout",
          "output_type": "stream",
          "text": [
            "\n",
            "tensor([[-0.1046,  0.4952],\n",
            "        [-0.0242,  0.8236],\n",
            "        [ 0.0509,  0.3954],\n",
            "        [-0.0209,  0.7413],\n",
            "        [ 0.3670,  0.7986],\n",
            "        [ 0.3696,  0.6503],\n",
            "        [-0.0554,  0.7961],\n",
            "        [-0.0826,  0.3286]], grad_fn=<AddmmBackward0>)\n",
            "tensor([0, 1, 1, 0, 1, 1, 0, 0])\n",
            "tensor([1, 1, 1, 1, 1, 1, 1, 1])\n"
          ]
        },
        {
          "name": "stderr",
          "output_type": "stream",
          "text": [
            "\r 19%|█▉        | 99/525 [04:33<19:00,  2.68s/it]"
          ]
        },
        {
          "name": "stdout",
          "output_type": "stream",
          "text": [
            "\n",
            "tensor([[ 0.1213,  0.6894],\n",
            "        [ 0.5277,  0.0642],\n",
            "        [ 0.3443,  0.5983],\n",
            "        [-0.1812,  0.3863],\n",
            "        [ 0.2838,  0.5750],\n",
            "        [ 0.1745,  0.3017],\n",
            "        [ 0.2016,  0.8942],\n",
            "        [-0.0061,  0.1699]], grad_fn=<AddmmBackward0>)\n",
            "tensor([0, 0, 0, 1, 0, 0, 0, 1])\n",
            "tensor([1, 0, 1, 1, 1, 1, 1, 1])\n"
          ]
        },
        {
          "name": "stderr",
          "output_type": "stream",
          "text": [
            "\r 19%|█▉        | 100/525 [04:36<19:28,  2.75s/it]"
          ]
        },
        {
          "name": "stdout",
          "output_type": "stream",
          "text": [
            "\n",
            "tensor([[ 0.3572,  0.0343],\n",
            "        [ 0.3761,  0.4089],\n",
            "        [ 0.6603,  0.5757],\n",
            "        [-0.0464,  0.2100],\n",
            "        [ 0.2237,  0.3390],\n",
            "        [ 0.8410,  0.5468],\n",
            "        [ 0.2863,  0.0368],\n",
            "        [ 0.6336,  0.6637]], grad_fn=<AddmmBackward0>)\n",
            "tensor([1, 0, 0, 0, 1, 1, 1, 0])\n",
            "tensor([0, 1, 0, 1, 1, 0, 0, 1])\n"
          ]
        },
        {
          "name": "stderr",
          "output_type": "stream",
          "text": [
            "\r 19%|█▉        | 101/525 [04:38<19:17,  2.73s/it]"
          ]
        },
        {
          "name": "stdout",
          "output_type": "stream",
          "text": [
            "\n",
            "tensor([[0.1935, 0.0094],\n",
            "        [0.6268, 0.3043],\n",
            "        [0.9271, 0.3417],\n",
            "        [0.7240, 0.4274],\n",
            "        [0.4833, 0.2983],\n",
            "        [0.3869, 0.1013],\n",
            "        [0.2639, 0.8466],\n",
            "        [0.4253, 0.4029]], grad_fn=<AddmmBackward0>)\n",
            "tensor([0, 0, 1, 1, 1, 0, 0, 1])\n",
            "tensor([0, 0, 0, 0, 0, 0, 1, 0])\n"
          ]
        },
        {
          "name": "stderr",
          "output_type": "stream",
          "text": [
            "\r 19%|█▉        | 102/525 [04:41<19:33,  2.77s/it]"
          ]
        },
        {
          "name": "stdout",
          "output_type": "stream",
          "text": [
            "\n",
            "tensor([[ 0.4982,  0.4485],\n",
            "        [ 0.4608,  0.1129],\n",
            "        [ 0.2223,  0.3063],\n",
            "        [ 0.4019, -0.1660],\n",
            "        [ 0.7082,  0.2663],\n",
            "        [ 0.2736, -0.1295],\n",
            "        [ 1.0338, -0.0069],\n",
            "        [ 0.6959,  0.1422]], grad_fn=<AddmmBackward0>)\n",
            "tensor([0, 0, 1, 0, 1, 1, 1, 0])\n",
            "tensor([0, 0, 1, 0, 0, 0, 0, 0])\n"
          ]
        },
        {
          "name": "stderr",
          "output_type": "stream",
          "text": [
            "\r 20%|█▉        | 103/525 [04:44<19:34,  2.78s/it]"
          ]
        },
        {
          "name": "stdout",
          "output_type": "stream",
          "text": [
            "\n",
            "tensor([[ 0.3184,  0.4053],\n",
            "        [ 0.5001,  0.1047],\n",
            "        [ 0.3113, -0.0246],\n",
            "        [ 0.8256,  0.3981],\n",
            "        [ 1.1701, -0.2887],\n",
            "        [ 0.8659, -0.0678],\n",
            "        [ 0.3576,  0.0250],\n",
            "        [ 0.2056,  0.4722]], grad_fn=<AddmmBackward0>)\n",
            "tensor([0, 0, 0, 0, 0, 1, 0, 0])\n",
            "tensor([1, 0, 0, 0, 0, 0, 0, 1])\n"
          ]
        },
        {
          "name": "stderr",
          "output_type": "stream",
          "text": [
            "\r 20%|█▉        | 104/525 [04:47<19:39,  2.80s/it]"
          ]
        },
        {
          "name": "stdout",
          "output_type": "stream",
          "text": [
            "\n",
            "tensor([[ 1.0344, -0.1341],\n",
            "        [ 0.4131, -0.2027],\n",
            "        [ 1.0816,  0.2141],\n",
            "        [ 0.8631, -0.1366],\n",
            "        [ 0.9840, -0.1261],\n",
            "        [ 0.2380, -0.0625],\n",
            "        [ 0.4965, -0.2847],\n",
            "        [ 0.6715, -0.3221]], grad_fn=<AddmmBackward0>)\n",
            "tensor([0, 0, 0, 1, 0, 0, 0, 0])\n",
            "tensor([0, 0, 0, 0, 0, 0, 0, 0])\n"
          ]
        },
        {
          "name": "stderr",
          "output_type": "stream",
          "text": [
            "\r 20%|██        | 105/525 [04:49<18:47,  2.68s/it]"
          ]
        },
        {
          "name": "stdout",
          "output_type": "stream",
          "text": [
            "\n",
            "tensor([[ 0.9590, -0.3871],\n",
            "        [ 0.1893, -0.5229],\n",
            "        [ 0.5205,  0.1769],\n",
            "        [ 0.7119, -0.2103],\n",
            "        [ 0.4049,  0.2889],\n",
            "        [ 1.2013, -0.3510],\n",
            "        [ 0.8570,  0.0370],\n",
            "        [ 0.9706, -0.4708]], grad_fn=<AddmmBackward0>)\n",
            "tensor([0, 1, 0, 0, 0, 0, 0, 0])\n",
            "tensor([0, 0, 0, 0, 0, 0, 0, 0])\n"
          ]
        },
        {
          "name": "stderr",
          "output_type": "stream",
          "text": [
            "\r 20%|██        | 106/525 [04:52<18:46,  2.69s/it]"
          ]
        },
        {
          "name": "stdout",
          "output_type": "stream",
          "text": [
            "\n",
            "tensor([[ 1.1574, -0.2263],\n",
            "        [ 1.3658, -0.3156],\n",
            "        [ 0.9700,  0.0553],\n",
            "        [ 0.8269, -0.5137],\n",
            "        [ 1.1671, -0.7667],\n",
            "        [ 1.0957, -0.2774],\n",
            "        [ 1.1176, -0.7659],\n",
            "        [ 0.7548, -0.4318]], grad_fn=<AddmmBackward0>)\n",
            "tensor([0, 1, 1, 0, 1, 0, 0, 1])\n",
            "tensor([0, 0, 0, 0, 0, 0, 0, 0])\n"
          ]
        },
        {
          "name": "stderr",
          "output_type": "stream",
          "text": [
            "\r 20%|██        | 107/525 [04:55<19:10,  2.75s/it]"
          ]
        },
        {
          "name": "stdout",
          "output_type": "stream",
          "text": [
            "\n",
            "tensor([[ 1.2933, -0.7684],\n",
            "        [ 1.5142, -0.3101],\n",
            "        [ 1.2358, -0.4929],\n",
            "        [ 0.8071, -0.4575],\n",
            "        [ 0.9509, -0.9608],\n",
            "        [ 0.9362, -0.6238],\n",
            "        [ 1.4630, -0.6078],\n",
            "        [ 1.1220, -0.4849]], grad_fn=<AddmmBackward0>)\n",
            "tensor([1, 0, 0, 1, 1, 1, 1, 0])\n",
            "tensor([0, 0, 0, 0, 0, 0, 0, 0])\n"
          ]
        },
        {
          "name": "stderr",
          "output_type": "stream",
          "text": [
            "\r 21%|██        | 108/525 [04:58<19:19,  2.78s/it]"
          ]
        },
        {
          "name": "stdout",
          "output_type": "stream",
          "text": [
            "\n",
            "tensor([[ 1.3141, -0.1345],\n",
            "        [ 1.0849, -0.6856],\n",
            "        [ 1.0344, -0.7562],\n",
            "        [ 1.0936, -0.2499],\n",
            "        [ 1.4199, -0.4805],\n",
            "        [ 1.0615, -0.6452],\n",
            "        [ 1.5021, -0.3825],\n",
            "        [ 1.3182, -0.5203]], grad_fn=<AddmmBackward0>)\n",
            "tensor([0, 1, 1, 1, 0, 1, 1, 0])\n",
            "tensor([0, 0, 0, 0, 0, 0, 0, 0])\n"
          ]
        },
        {
          "name": "stderr",
          "output_type": "stream",
          "text": [
            "\r 21%|██        | 109/525 [05:00<19:10,  2.77s/it]"
          ]
        },
        {
          "name": "stdout",
          "output_type": "stream",
          "text": [
            "\n",
            "tensor([[ 0.7002, -0.2289],\n",
            "        [ 0.9014,  0.1263],\n",
            "        [ 0.5457,  0.0192],\n",
            "        [ 1.0919, -0.3850],\n",
            "        [ 0.7142, -0.3178],\n",
            "        [ 0.7729, -0.3639],\n",
            "        [ 1.2390, -0.5512],\n",
            "        [ 0.3928, -0.1588]], grad_fn=<AddmmBackward0>)\n",
            "tensor([1, 1, 0, 1, 1, 0, 1, 0])\n",
            "tensor([0, 0, 0, 0, 0, 0, 0, 0])\n"
          ]
        },
        {
          "name": "stderr",
          "output_type": "stream",
          "text": [
            "\r 21%|██        | 110/525 [05:03<18:55,  2.74s/it]"
          ]
        },
        {
          "name": "stdout",
          "output_type": "stream",
          "text": [
            "\n",
            "tensor([[ 0.4984, -0.2030],\n",
            "        [ 0.8032, -0.0297],\n",
            "        [ 0.9956,  0.1451],\n",
            "        [ 1.2402,  0.0262],\n",
            "        [ 0.4824, -0.0325],\n",
            "        [ 0.9221, -0.3896],\n",
            "        [ 0.9842,  0.3167],\n",
            "        [ 0.9394, -0.3402]], grad_fn=<AddmmBackward0>)\n",
            "tensor([1, 0, 0, 0, 1, 0, 0, 1])\n",
            "tensor([0, 0, 0, 0, 0, 0, 0, 0])\n"
          ]
        },
        {
          "name": "stderr",
          "output_type": "stream",
          "text": [
            "\r 21%|██        | 111/525 [05:06<18:44,  2.72s/it]"
          ]
        },
        {
          "name": "stdout",
          "output_type": "stream",
          "text": [
            "\n",
            "tensor([[ 1.0922,  0.4458],\n",
            "        [ 0.0104,  0.1801],\n",
            "        [ 0.7672,  0.1702],\n",
            "        [ 0.7241,  0.3349],\n",
            "        [ 1.2036, -0.3010],\n",
            "        [ 0.4389,  0.0633],\n",
            "        [ 0.4791, -0.2600],\n",
            "        [ 0.9400,  0.4414]], grad_fn=<AddmmBackward0>)\n",
            "tensor([0, 1, 0, 0, 1, 1, 1, 1])\n",
            "tensor([0, 1, 0, 0, 0, 0, 0, 0])\n"
          ]
        },
        {
          "name": "stderr",
          "output_type": "stream",
          "text": [
            "\r 21%|██▏       | 112/525 [05:09<18:54,  2.75s/it]"
          ]
        },
        {
          "name": "stdout",
          "output_type": "stream",
          "text": [
            "\n",
            "tensor([[-0.0861,  0.4638],\n",
            "        [ 0.4637,  0.2545],\n",
            "        [ 0.7548, -0.1360],\n",
            "        [ 0.4904,  0.7291],\n",
            "        [ 0.6354,  0.2653],\n",
            "        [ 0.2755,  0.5226],\n",
            "        [ 0.4109,  1.0968],\n",
            "        [ 0.6850,  0.4383]], grad_fn=<AddmmBackward0>)\n",
            "tensor([0, 0, 1, 0, 0, 1, 1, 0])\n",
            "tensor([1, 0, 0, 1, 0, 1, 1, 0])\n"
          ]
        },
        {
          "name": "stderr",
          "output_type": "stream",
          "text": [
            "\r 22%|██▏       | 113/525 [05:12<19:34,  2.85s/it]"
          ]
        },
        {
          "name": "stdout",
          "output_type": "stream",
          "text": [
            "\n",
            "tensor([[-0.0474,  0.4031],\n",
            "        [ 0.1816,  0.4018],\n",
            "        [-0.2354,  0.5356],\n",
            "        [ 0.3559,  0.6334],\n",
            "        [ 0.1069,  0.7738],\n",
            "        [ 0.4125,  0.0509],\n",
            "        [ 0.1446,  0.3986],\n",
            "        [ 0.1620,  1.0134]], grad_fn=<AddmmBackward0>)\n",
            "tensor([0, 1, 1, 0, 1, 1, 0, 0])\n",
            "tensor([1, 1, 1, 1, 1, 0, 1, 1])\n"
          ]
        },
        {
          "name": "stderr",
          "output_type": "stream",
          "text": [
            "\r 22%|██▏       | 114/525 [05:15<19:23,  2.83s/it]"
          ]
        },
        {
          "name": "stdout",
          "output_type": "stream",
          "text": [
            "\n",
            "tensor([[ 0.5483,  0.8946],\n",
            "        [ 0.6788,  0.7592],\n",
            "        [ 0.0232,  1.1668],\n",
            "        [ 0.2062,  0.2993],\n",
            "        [-0.0182,  0.6182],\n",
            "        [ 0.2950,  1.0109],\n",
            "        [ 0.0347,  0.6620],\n",
            "        [ 0.1684,  0.2040]], grad_fn=<AddmmBackward0>)\n",
            "tensor([0, 1, 0, 0, 0, 1, 0, 0])\n",
            "tensor([1, 1, 1, 1, 1, 1, 1, 1])\n"
          ]
        },
        {
          "name": "stderr",
          "output_type": "stream",
          "text": [
            "\r 22%|██▏       | 115/525 [05:17<19:15,  2.82s/it]"
          ]
        },
        {
          "name": "stdout",
          "output_type": "stream",
          "text": [
            "\n",
            "tensor([[ 0.2022,  0.6245],\n",
            "        [ 0.3017,  1.1509],\n",
            "        [ 0.3827,  1.1159],\n",
            "        [ 0.2748,  1.4483],\n",
            "        [ 0.2698,  0.6107],\n",
            "        [-0.2931,  0.4963],\n",
            "        [ 0.5086,  0.8018],\n",
            "        [-0.1856,  0.3392]], grad_fn=<AddmmBackward0>)\n",
            "tensor([0, 1, 1, 1, 0, 1, 1, 0])\n",
            "tensor([1, 1, 1, 1, 1, 1, 1, 1])\n"
          ]
        },
        {
          "name": "stderr",
          "output_type": "stream",
          "text": [
            "\r 22%|██▏       | 116/525 [05:20<19:20,  2.84s/it]"
          ]
        },
        {
          "name": "stdout",
          "output_type": "stream",
          "text": [
            "\n",
            "tensor([[-0.1020,  1.0346],\n",
            "        [ 0.1943,  1.1646],\n",
            "        [ 0.3391,  0.5484],\n",
            "        [ 0.0711,  0.8111],\n",
            "        [-0.5178,  0.1540],\n",
            "        [ 0.2840,  0.3639],\n",
            "        [ 0.7272,  0.8292],\n",
            "        [ 0.1343,  0.8632]], grad_fn=<AddmmBackward0>)\n",
            "tensor([0, 1, 1, 1, 0, 0, 0, 1])\n",
            "tensor([1, 1, 1, 1, 1, 1, 1, 1])\n"
          ]
        },
        {
          "name": "stderr",
          "output_type": "stream",
          "text": [
            "\r 22%|██▏       | 117/525 [05:23<18:58,  2.79s/it]"
          ]
        },
        {
          "name": "stdout",
          "output_type": "stream",
          "text": [
            "\n",
            "tensor([[-1.1764e-01,  6.6957e-01],\n",
            "        [ 2.8660e-01,  6.4450e-01],\n",
            "        [-8.4611e-02,  9.1455e-01],\n",
            "        [-1.9384e-01,  6.9378e-01],\n",
            "        [ 8.5573e-04,  8.7804e-01],\n",
            "        [ 1.8166e-01,  8.8506e-01],\n",
            "        [ 3.5786e-01,  1.9698e-01],\n",
            "        [-4.6987e-02,  1.2039e+00]], grad_fn=<AddmmBackward0>)\n",
            "tensor([0, 0, 1, 0, 0, 1, 1, 0])\n",
            "tensor([1, 1, 1, 1, 1, 1, 0, 1])\n"
          ]
        },
        {
          "name": "stderr",
          "output_type": "stream",
          "text": [
            "\r 22%|██▏       | 118/525 [05:26<19:02,  2.81s/it]"
          ]
        },
        {
          "name": "stdout",
          "output_type": "stream",
          "text": [
            "\n",
            "tensor([[ 0.4382,  0.7399],\n",
            "        [ 0.3640,  0.7153],\n",
            "        [ 0.2924,  0.5991],\n",
            "        [ 0.3088,  0.8893],\n",
            "        [ 0.0070,  0.5551],\n",
            "        [-0.0379,  0.8350],\n",
            "        [ 0.3298,  0.8760],\n",
            "        [-0.1978,  1.0591]], grad_fn=<AddmmBackward0>)\n",
            "tensor([1, 0, 0, 0, 0, 1, 1, 1])\n",
            "tensor([1, 1, 1, 1, 1, 1, 1, 1])\n"
          ]
        },
        {
          "name": "stderr",
          "output_type": "stream",
          "text": [
            "\r 23%|██▎       | 119/525 [05:28<18:41,  2.76s/it]"
          ]
        },
        {
          "name": "stdout",
          "output_type": "stream",
          "text": [
            "\n",
            "tensor([[2.4454e-01, 3.4491e-01],\n",
            "        [3.2590e-04, 7.3915e-01],\n",
            "        [4.6047e-01, 5.8203e-01],\n",
            "        [1.8688e-01, 4.9224e-01],\n",
            "        [1.5626e-01, 2.7867e-01],\n",
            "        [1.2021e-01, 5.5347e-01],\n",
            "        [2.3912e-01, 7.9962e-01],\n",
            "        [1.3946e-01, 9.1234e-01]], grad_fn=<AddmmBackward0>)\n",
            "tensor([0, 1, 1, 1, 0, 0, 0, 1])\n",
            "tensor([1, 1, 1, 1, 1, 1, 1, 1])\n"
          ]
        },
        {
          "name": "stderr",
          "output_type": "stream",
          "text": [
            "\r 23%|██▎       | 120/525 [05:31<18:46,  2.78s/it]"
          ]
        },
        {
          "name": "stdout",
          "output_type": "stream",
          "text": [
            "\n",
            "tensor([[ 0.7115,  1.5130],\n",
            "        [ 0.5817,  0.3245],\n",
            "        [ 1.0997,  0.7620],\n",
            "        [ 0.1078,  0.8102],\n",
            "        [ 0.0567,  0.6032],\n",
            "        [ 0.3017, -0.2148],\n",
            "        [ 0.2327,  1.3040],\n",
            "        [ 0.3357,  0.5553]], grad_fn=<AddmmBackward0>)\n",
            "tensor([0, 0, 1, 1, 1, 1, 0, 1])\n",
            "tensor([1, 0, 0, 1, 1, 0, 1, 1])\n"
          ]
        },
        {
          "name": "stderr",
          "output_type": "stream",
          "text": [
            "\r 23%|██▎       | 121/525 [05:34<18:40,  2.77s/it]"
          ]
        },
        {
          "name": "stdout",
          "output_type": "stream",
          "text": [
            "\n",
            "tensor([[ 0.7971,  1.0568],\n",
            "        [ 0.1326, -0.0758],\n",
            "        [ 0.5750,  0.5208],\n",
            "        [ 0.4965,  0.9116],\n",
            "        [ 0.1098,  0.4746],\n",
            "        [ 0.5591,  0.6784],\n",
            "        [ 0.8813,  0.7303],\n",
            "        [ 0.9569,  0.7867]], grad_fn=<AddmmBackward0>)\n",
            "tensor([0, 0, 1, 0, 0, 1, 0, 0])\n",
            "tensor([1, 0, 0, 1, 1, 1, 0, 0])\n"
          ]
        },
        {
          "name": "stderr",
          "output_type": "stream",
          "text": [
            "\r 23%|██▎       | 122/525 [05:37<18:19,  2.73s/it]"
          ]
        },
        {
          "name": "stdout",
          "output_type": "stream",
          "text": [
            "\n",
            "tensor([[ 0.5261, -0.0219],\n",
            "        [ 0.9524,  0.6474],\n",
            "        [ 0.9576,  0.4469],\n",
            "        [ 0.6698,  0.5215],\n",
            "        [ 0.5900,  0.3579],\n",
            "        [ 0.6762,  0.2793],\n",
            "        [ 0.8103,  0.2869],\n",
            "        [ 0.8297,  0.5524]], grad_fn=<AddmmBackward0>)\n",
            "tensor([1, 0, 0, 0, 1, 0, 1, 1])\n",
            "tensor([0, 0, 0, 0, 0, 0, 0, 0])\n"
          ]
        },
        {
          "name": "stderr",
          "output_type": "stream",
          "text": [
            "\r 23%|██▎       | 123/525 [05:39<18:38,  2.78s/it]"
          ]
        },
        {
          "name": "stdout",
          "output_type": "stream",
          "text": [
            "\n",
            "tensor([[ 0.6388,  0.2737],\n",
            "        [ 0.5930,  0.4992],\n",
            "        [ 0.8638,  0.8187],\n",
            "        [ 1.1854,  0.5708],\n",
            "        [ 0.5088,  0.8243],\n",
            "        [ 0.3138,  0.1460],\n",
            "        [ 1.1999, -0.1696],\n",
            "        [ 0.7721,  0.1766]], grad_fn=<AddmmBackward0>)\n",
            "tensor([1, 1, 1, 1, 1, 0, 0, 0])\n",
            "tensor([0, 0, 0, 0, 1, 0, 0, 0])\n"
          ]
        },
        {
          "name": "stderr",
          "output_type": "stream",
          "text": [
            "\r 24%|██▎       | 124/525 [05:42<18:44,  2.80s/it]"
          ]
        },
        {
          "name": "stdout",
          "output_type": "stream",
          "text": [
            "\n",
            "tensor([[0.6656, 0.1042],\n",
            "        [0.8510, 0.3813],\n",
            "        [0.2898, 0.0532],\n",
            "        [0.3326, 0.0603],\n",
            "        [0.9090, 0.8653],\n",
            "        [0.8435, 0.2232],\n",
            "        [0.9214, 0.4291],\n",
            "        [0.8624, 0.1459]], grad_fn=<AddmmBackward0>)\n",
            "tensor([0, 0, 0, 0, 1, 1, 1, 0])\n",
            "tensor([0, 0, 0, 0, 0, 0, 0, 0])\n"
          ]
        },
        {
          "name": "stderr",
          "output_type": "stream",
          "text": [
            "\r 24%|██▍       | 125/525 [05:45<18:39,  2.80s/it]"
          ]
        },
        {
          "name": "stdout",
          "output_type": "stream",
          "text": [
            "\n",
            "tensor([[ 0.5693, -0.1046],\n",
            "        [ 1.0214,  0.4734],\n",
            "        [ 1.2047,  0.6362],\n",
            "        [ 0.6853,  0.0805],\n",
            "        [ 0.9338,  0.2007],\n",
            "        [ 0.0256,  0.0231],\n",
            "        [ 0.5534,  0.1558],\n",
            "        [ 0.6820,  0.0760]], grad_fn=<AddmmBackward0>)\n",
            "tensor([0, 0, 1, 0, 0, 0, 1, 0])\n",
            "tensor([0, 0, 0, 0, 0, 0, 0, 0])\n"
          ]
        },
        {
          "name": "stderr",
          "output_type": "stream",
          "text": [
            "\r 24%|██▍       | 126/525 [05:48<18:36,  2.80s/it]"
          ]
        },
        {
          "name": "stdout",
          "output_type": "stream",
          "text": [
            "\n",
            "tensor([[0.8745, 0.6046],\n",
            "        [0.9484, 0.6746],\n",
            "        [1.1370, 0.3529],\n",
            "        [0.5225, 0.4221],\n",
            "        [0.5761, 0.1122],\n",
            "        [0.7612, 0.0166],\n",
            "        [0.7442, 0.6071],\n",
            "        [1.0230, 0.4953]], grad_fn=<AddmmBackward0>)\n",
            "tensor([1, 1, 0, 1, 0, 1, 0, 1])\n",
            "tensor([0, 0, 0, 0, 0, 0, 0, 0])\n"
          ]
        },
        {
          "name": "stderr",
          "output_type": "stream",
          "text": [
            "\r 24%|██▍       | 127/525 [05:51<18:10,  2.74s/it]"
          ]
        },
        {
          "name": "stdout",
          "output_type": "stream",
          "text": [
            "\n",
            "tensor([[0.9157, 0.4789],\n",
            "        [1.0819, 0.3600],\n",
            "        [1.1621, 0.5777],\n",
            "        [1.2314, 0.6898],\n",
            "        [1.0350, 0.1335],\n",
            "        [1.1185, 0.1991],\n",
            "        [0.6817, 0.0761],\n",
            "        [0.8065, 0.5199]], grad_fn=<AddmmBackward0>)\n",
            "tensor([1, 1, 1, 0, 0, 0, 1, 1])\n",
            "tensor([0, 0, 0, 0, 0, 0, 0, 0])\n"
          ]
        },
        {
          "name": "stderr",
          "output_type": "stream",
          "text": [
            "\r 24%|██▍       | 128/525 [05:53<18:31,  2.80s/it]"
          ]
        },
        {
          "name": "stdout",
          "output_type": "stream",
          "text": [
            "\n",
            "tensor([[ 0.6399,  0.2586],\n",
            "        [ 0.8314,  0.9631],\n",
            "        [ 0.5856, -0.1936],\n",
            "        [ 0.5850, -0.3332],\n",
            "        [ 0.6153,  0.8426],\n",
            "        [ 1.2258,  0.7769],\n",
            "        [ 0.7947, -0.2446],\n",
            "        [ 0.3191,  0.5499]], grad_fn=<AddmmBackward0>)\n",
            "tensor([1, 0, 1, 0, 0, 1, 0, 1])\n",
            "tensor([0, 1, 0, 0, 1, 0, 0, 1])\n"
          ]
        },
        {
          "name": "stderr",
          "output_type": "stream",
          "text": [
            "\r 25%|██▍       | 129/525 [05:56<18:48,  2.85s/it]"
          ]
        },
        {
          "name": "stdout",
          "output_type": "stream",
          "text": [
            "\n",
            "tensor([[ 0.8426,  0.7114],\n",
            "        [ 0.9562,  0.7429],\n",
            "        [ 1.1061,  0.2224],\n",
            "        [ 0.6271, -0.2241],\n",
            "        [ 0.5411,  0.0810],\n",
            "        [ 0.4059,  0.5824],\n",
            "        [ 0.7288,  0.3449],\n",
            "        [ 0.7441, -0.0268]], grad_fn=<AddmmBackward0>)\n",
            "tensor([0, 1, 1, 0, 0, 0, 1, 1])\n",
            "tensor([0, 0, 0, 0, 0, 1, 0, 0])\n"
          ]
        },
        {
          "name": "stderr",
          "output_type": "stream",
          "text": [
            "\r 25%|██▍       | 130/525 [05:59<18:51,  2.87s/it]"
          ]
        },
        {
          "name": "stdout",
          "output_type": "stream",
          "text": [
            "\n",
            "tensor([[ 1.0321,  0.9019],\n",
            "        [ 0.3884,  0.7766],\n",
            "        [ 0.5059,  0.6490],\n",
            "        [ 0.9038, -0.0609],\n",
            "        [ 0.5921,  0.8957],\n",
            "        [ 0.6376,  0.7964],\n",
            "        [ 0.9883,  0.1720],\n",
            "        [ 0.8191, -0.0562]], grad_fn=<AddmmBackward0>)\n",
            "tensor([0, 1, 0, 1, 1, 0, 1, 1])\n",
            "tensor([0, 1, 1, 0, 1, 1, 0, 0])\n"
          ]
        },
        {
          "name": "stderr",
          "output_type": "stream",
          "text": [
            "\r 25%|██▍       | 131/525 [06:02<18:14,  2.78s/it]"
          ]
        },
        {
          "name": "stdout",
          "output_type": "stream",
          "text": [
            "\n",
            "tensor([[1.0090, 0.4835],\n",
            "        [0.4691, 1.2505],\n",
            "        [0.5670, 0.6898],\n",
            "        [0.0919, 0.2125],\n",
            "        [0.7632, 0.1183],\n",
            "        [0.5096, 0.5542],\n",
            "        [0.5286, 0.6823],\n",
            "        [0.7890, 0.5538]], grad_fn=<AddmmBackward0>)\n",
            "tensor([1, 1, 1, 0, 1, 0, 1, 0])\n",
            "tensor([0, 1, 1, 1, 0, 1, 1, 0])\n"
          ]
        },
        {
          "name": "stderr",
          "output_type": "stream",
          "text": [
            "\r 25%|██▌       | 132/525 [06:05<18:03,  2.76s/it]"
          ]
        },
        {
          "name": "stdout",
          "output_type": "stream",
          "text": [
            "\n",
            "tensor([[ 0.7517,  0.8814],\n",
            "        [-0.1972,  0.9054],\n",
            "        [ 0.1256,  0.9364],\n",
            "        [ 0.5849,  0.5176],\n",
            "        [ 0.5023,  0.7490],\n",
            "        [ 0.1987,  0.5603],\n",
            "        [ 0.1325,  0.8775],\n",
            "        [ 0.9821,  1.2437]], grad_fn=<AddmmBackward0>)\n",
            "tensor([1, 0, 0, 1, 1, 1, 1, 1])\n",
            "tensor([1, 1, 1, 0, 1, 1, 1, 1])\n"
          ]
        },
        {
          "name": "stderr",
          "output_type": "stream",
          "text": [
            "\r 25%|██▌       | 133/525 [06:07<18:13,  2.79s/it]"
          ]
        },
        {
          "name": "stdout",
          "output_type": "stream",
          "text": [
            "\n",
            "tensor([[0.4692, 1.3192],\n",
            "        [0.2602, 1.4323],\n",
            "        [0.3198, 0.2262],\n",
            "        [0.3627, 1.7547],\n",
            "        [0.6698, 1.4981],\n",
            "        [0.5221, 1.7299],\n",
            "        [0.4116, 1.0039],\n",
            "        [0.2592, 1.0775]], grad_fn=<AddmmBackward0>)\n",
            "tensor([1, 0, 1, 0, 0, 0, 1, 1])\n",
            "tensor([1, 1, 0, 1, 1, 1, 1, 1])\n"
          ]
        },
        {
          "name": "stderr",
          "output_type": "stream",
          "text": [
            "\r 26%|██▌       | 134/525 [06:10<18:01,  2.77s/it]"
          ]
        },
        {
          "name": "stdout",
          "output_type": "stream",
          "text": [
            "\n",
            "tensor([[ 0.3055,  1.1808],\n",
            "        [-0.0869,  1.0872],\n",
            "        [ 0.6947,  1.3458],\n",
            "        [-0.0494,  0.1442],\n",
            "        [ 0.1859,  0.4723],\n",
            "        [ 0.4197,  0.6562],\n",
            "        [ 0.7030,  1.1666],\n",
            "        [ 0.5281,  1.5860]], grad_fn=<AddmmBackward0>)\n",
            "tensor([0, 1, 1, 1, 0, 1, 1, 0])\n",
            "tensor([1, 1, 1, 1, 1, 1, 1, 1])\n"
          ]
        },
        {
          "name": "stderr",
          "output_type": "stream",
          "text": [
            "\r 26%|██▌       | 135/525 [06:13<17:43,  2.73s/it]"
          ]
        },
        {
          "name": "stdout",
          "output_type": "stream",
          "text": [
            "\n",
            "tensor([[-0.1495,  0.8255],\n",
            "        [ 0.5592,  0.9915],\n",
            "        [-0.0114,  1.1394],\n",
            "        [ 0.5078,  1.4315],\n",
            "        [ 0.3465,  0.8843],\n",
            "        [ 0.0034,  1.0272],\n",
            "        [ 0.5424,  1.0745],\n",
            "        [ 0.5914,  1.7673]], grad_fn=<AddmmBackward0>)\n",
            "tensor([1, 1, 0, 1, 0, 0, 1, 1])\n",
            "tensor([1, 1, 1, 1, 1, 1, 1, 1])\n"
          ]
        },
        {
          "name": "stderr",
          "output_type": "stream",
          "text": [
            "\r 26%|██▌       | 136/525 [06:16<17:48,  2.75s/it]"
          ]
        },
        {
          "name": "stdout",
          "output_type": "stream",
          "text": [
            "\n",
            "tensor([[-0.2083,  1.2037],\n",
            "        [ 0.3478,  0.7846],\n",
            "        [ 0.1122,  0.9485],\n",
            "        [ 0.4575,  1.2181],\n",
            "        [-0.2525,  0.5995],\n",
            "        [ 0.2942,  0.4200],\n",
            "        [ 0.1495,  1.1381],\n",
            "        [-0.1840,  0.8049]], grad_fn=<AddmmBackward0>)\n",
            "tensor([1, 1, 0, 0, 0, 0, 0, 1])\n",
            "tensor([1, 1, 1, 1, 1, 1, 1, 1])\n"
          ]
        },
        {
          "name": "stderr",
          "output_type": "stream",
          "text": [
            "\r 26%|██▌       | 137/525 [06:18<17:42,  2.74s/it]"
          ]
        },
        {
          "name": "stdout",
          "output_type": "stream",
          "text": [
            "\n",
            "tensor([[-0.2705,  0.5747],\n",
            "        [ 0.0159,  1.3078],\n",
            "        [-0.2814,  0.7684],\n",
            "        [ 0.2789,  0.9994],\n",
            "        [-0.0505,  1.2783],\n",
            "        [ 0.3278,  1.4297],\n",
            "        [ 0.2060,  0.4052],\n",
            "        [-0.0332,  1.3295]], grad_fn=<AddmmBackward0>)\n",
            "tensor([0, 0, 1, 0, 1, 1, 1, 1])\n",
            "tensor([1, 1, 1, 1, 1, 1, 1, 1])\n"
          ]
        },
        {
          "name": "stderr",
          "output_type": "stream",
          "text": [
            "\r 26%|██▋       | 138/525 [06:21<17:55,  2.78s/it]"
          ]
        },
        {
          "name": "stdout",
          "output_type": "stream",
          "text": [
            "\n",
            "tensor([[-0.0402,  1.4693],\n",
            "        [ 0.2998,  1.3581],\n",
            "        [ 0.0814,  0.6289],\n",
            "        [ 0.3230,  1.1349],\n",
            "        [ 0.1444,  0.5187],\n",
            "        [ 0.1884,  0.7339],\n",
            "        [ 0.9378,  0.7609],\n",
            "        [ 0.3979,  0.8831]], grad_fn=<AddmmBackward0>)\n",
            "tensor([0, 1, 1, 0, 0, 1, 1, 0])\n",
            "tensor([1, 1, 1, 1, 1, 1, 0, 1])\n"
          ]
        },
        {
          "name": "stderr",
          "output_type": "stream",
          "text": [
            "\r 26%|██▋       | 139/525 [06:24<18:14,  2.84s/it]"
          ]
        },
        {
          "name": "stdout",
          "output_type": "stream",
          "text": [
            "\n",
            "tensor([[ 0.6504,  1.2518],\n",
            "        [ 0.1895,  0.7832],\n",
            "        [-0.0177,  1.7429],\n",
            "        [ 0.0449,  0.7438],\n",
            "        [ 0.4992,  0.8852],\n",
            "        [ 0.4106,  1.2216],\n",
            "        [ 0.6559,  0.8854],\n",
            "        [ 0.7416,  1.0403]], grad_fn=<AddmmBackward0>)\n",
            "tensor([1, 1, 1, 0, 1, 0, 1, 0])\n",
            "tensor([1, 1, 1, 1, 1, 1, 1, 1])\n"
          ]
        },
        {
          "name": "stderr",
          "output_type": "stream",
          "text": [
            "\r 27%|██▋       | 140/525 [06:27<17:50,  2.78s/it]"
          ]
        },
        {
          "name": "stdout",
          "output_type": "stream",
          "text": [
            "\n",
            "tensor([[ 0.4460,  0.8146],\n",
            "        [-0.2128,  0.4323],\n",
            "        [ 0.6069,  0.9422],\n",
            "        [ 0.6678,  0.8506],\n",
            "        [ 0.2544,  1.1901],\n",
            "        [ 0.1495,  0.7180],\n",
            "        [ 0.4665,  1.4229],\n",
            "        [ 0.6324,  0.9522]], grad_fn=<AddmmBackward0>)\n",
            "tensor([1, 0, 0, 0, 0, 1, 1, 0])\n",
            "tensor([1, 1, 1, 1, 1, 1, 1, 1])\n"
          ]
        },
        {
          "name": "stderr",
          "output_type": "stream",
          "text": [
            "\r 27%|██▋       | 141/525 [06:29<17:27,  2.73s/it]"
          ]
        },
        {
          "name": "stdout",
          "output_type": "stream",
          "text": [
            "\n",
            "tensor([[0.1712, 0.4111],\n",
            "        [0.8665, 0.6200],\n",
            "        [0.3505, 0.9432],\n",
            "        [0.9435, 0.9411],\n",
            "        [0.5684, 0.3663],\n",
            "        [0.4322, 0.5904],\n",
            "        [0.4632, 0.7457],\n",
            "        [0.2928, 0.6473]], grad_fn=<AddmmBackward0>)\n",
            "tensor([0, 0, 1, 1, 0, 1, 1, 1])\n",
            "tensor([1, 0, 1, 0, 0, 1, 1, 1])\n"
          ]
        },
        {
          "name": "stderr",
          "output_type": "stream",
          "text": [
            "\r 27%|██▋       | 142/525 [06:32<17:24,  2.73s/it]"
          ]
        },
        {
          "name": "stdout",
          "output_type": "stream",
          "text": [
            "\n",
            "tensor([[ 0.5712,  0.3255],\n",
            "        [ 0.2990, -0.0227],\n",
            "        [ 0.5469,  0.5349],\n",
            "        [ 0.4522,  0.7532],\n",
            "        [ 0.2753,  0.4535],\n",
            "        [ 0.9326,  0.5189],\n",
            "        [-0.1426,  0.5681],\n",
            "        [ 0.8257,  0.8789]], grad_fn=<AddmmBackward0>)\n",
            "tensor([1, 0, 0, 0, 1, 1, 1, 0])\n",
            "tensor([0, 0, 0, 1, 1, 0, 1, 1])\n"
          ]
        },
        {
          "name": "stderr",
          "output_type": "stream",
          "text": [
            "\r 27%|██▋       | 143/525 [06:35<18:19,  2.88s/it]"
          ]
        },
        {
          "name": "stdout",
          "output_type": "stream",
          "text": [
            "\n",
            "tensor([[0.8826, 0.2519],\n",
            "        [0.0402, 0.1900],\n",
            "        [0.6139, 0.6473],\n",
            "        [0.7021, 0.5210],\n",
            "        [0.2689, 0.2594],\n",
            "        [1.1043, 0.5774],\n",
            "        [0.3540, 0.4359],\n",
            "        [0.6780, 0.0251]], grad_fn=<AddmmBackward0>)\n",
            "tensor([1, 1, 0, 1, 0, 1, 0, 0])\n",
            "tensor([0, 1, 1, 0, 0, 0, 1, 0])\n"
          ]
        },
        {
          "name": "stderr",
          "output_type": "stream",
          "text": [
            "\r 27%|██▋       | 144/525 [06:39<18:52,  2.97s/it]"
          ]
        },
        {
          "name": "stdout",
          "output_type": "stream",
          "text": [
            "\n",
            "tensor([[ 0.5966,  0.3280],\n",
            "        [ 0.5735,  0.6182],\n",
            "        [ 0.2190,  0.3346],\n",
            "        [ 0.4901,  0.3244],\n",
            "        [ 0.3986,  0.7701],\n",
            "        [ 0.6465, -0.2793],\n",
            "        [ 0.5863,  0.0531],\n",
            "        [ 0.9119,  0.4225]], grad_fn=<AddmmBackward0>)\n",
            "tensor([1, 1, 0, 0, 1, 1, 1, 1])\n",
            "tensor([0, 1, 1, 0, 1, 0, 0, 0])\n"
          ]
        },
        {
          "name": "stderr",
          "output_type": "stream",
          "text": [
            "\r 28%|██▊       | 145/525 [06:41<18:40,  2.95s/it]"
          ]
        },
        {
          "name": "stdout",
          "output_type": "stream",
          "text": [
            "\n",
            "tensor([[ 0.8028,  0.5477],\n",
            "        [ 0.1955,  1.0407],\n",
            "        [ 1.0462,  0.6324],\n",
            "        [ 0.0310,  0.1869],\n",
            "        [ 0.6375,  0.5853],\n",
            "        [ 0.3757, -0.0714],\n",
            "        [ 0.8413,  0.4864],\n",
            "        [ 0.7478,  0.5875]], grad_fn=<AddmmBackward0>)\n",
            "tensor([1, 1, 0, 1, 0, 0, 1, 0])\n",
            "tensor([0, 1, 0, 1, 0, 0, 0, 0])\n"
          ]
        },
        {
          "name": "stderr",
          "output_type": "stream",
          "text": [
            "\r 28%|██▊       | 146/525 [06:44<18:30,  2.93s/it]"
          ]
        },
        {
          "name": "stdout",
          "output_type": "stream",
          "text": [
            "\n",
            "tensor([[ 0.3695,  0.3584],\n",
            "        [ 0.1618, -0.0605],\n",
            "        [ 0.8791,  0.5428],\n",
            "        [ 0.4111,  0.5334],\n",
            "        [ 0.3362,  0.3314],\n",
            "        [ 1.3744,  0.5450],\n",
            "        [ 0.8127,  0.3746],\n",
            "        [ 0.4960,  0.2101]], grad_fn=<AddmmBackward0>)\n",
            "tensor([1, 1, 0, 1, 1, 1, 0, 0])\n",
            "tensor([0, 0, 0, 1, 0, 0, 0, 0])\n"
          ]
        },
        {
          "name": "stderr",
          "output_type": "stream",
          "text": [
            "\r 28%|██▊       | 147/525 [06:47<18:15,  2.90s/it]"
          ]
        },
        {
          "name": "stdout",
          "output_type": "stream",
          "text": [
            "\n",
            "tensor([[0.5555, 0.9845],\n",
            "        [0.3429, 0.3787],\n",
            "        [0.5576, 0.3155],\n",
            "        [0.0674, 1.0644],\n",
            "        [0.9580, 0.2997],\n",
            "        [0.5219, 0.3991],\n",
            "        [0.0227, 0.3161],\n",
            "        [0.5793, 0.7716]], grad_fn=<AddmmBackward0>)\n",
            "tensor([0, 0, 1, 0, 1, 1, 0, 0])\n",
            "tensor([1, 1, 0, 1, 0, 0, 1, 1])\n"
          ]
        },
        {
          "name": "stderr",
          "output_type": "stream",
          "text": [
            "\r 28%|██▊       | 148/525 [06:50<18:24,  2.93s/it]"
          ]
        },
        {
          "name": "stdout",
          "output_type": "stream",
          "text": [
            "\n",
            "tensor([[ 0.9013,  0.6651],\n",
            "        [ 0.3337,  0.8239],\n",
            "        [ 0.2860,  0.6448],\n",
            "        [ 0.5228,  0.6465],\n",
            "        [ 0.2753,  0.1728],\n",
            "        [-0.0114,  0.7750],\n",
            "        [ 0.8725,  0.6670],\n",
            "        [ 0.1361,  0.5607]], grad_fn=<AddmmBackward0>)\n",
            "tensor([0, 0, 0, 0, 1, 1, 1, 1])\n",
            "tensor([0, 1, 1, 1, 0, 1, 0, 1])\n"
          ]
        },
        {
          "name": "stderr",
          "output_type": "stream",
          "text": [
            "\r 28%|██▊       | 149/525 [06:53<18:31,  2.96s/it]"
          ]
        },
        {
          "name": "stdout",
          "output_type": "stream",
          "text": [
            "\n",
            "tensor([[ 0.5260,  0.5739],\n",
            "        [ 0.6690,  0.2110],\n",
            "        [ 0.2364,  0.5989],\n",
            "        [ 0.2155,  0.2677],\n",
            "        [-0.3658,  0.9819],\n",
            "        [ 0.2273,  0.3925],\n",
            "        [ 0.3926,  0.7931],\n",
            "        [ 0.3495, -0.0865]], grad_fn=<AddmmBackward0>)\n",
            "tensor([1, 1, 1, 1, 1, 0, 0, 0])\n",
            "tensor([1, 0, 1, 1, 1, 1, 1, 0])\n"
          ]
        },
        {
          "name": "stderr",
          "output_type": "stream",
          "text": [
            "\r 29%|██▊       | 150/525 [06:56<18:10,  2.91s/it]"
          ]
        },
        {
          "name": "stdout",
          "output_type": "stream",
          "text": [
            "\n",
            "tensor([[ 0.3887,  0.4416],\n",
            "        [ 0.4079,  0.3027],\n",
            "        [ 0.2719,  1.0525],\n",
            "        [-0.0904,  0.1756],\n",
            "        [ 0.5322,  0.5773],\n",
            "        [ 0.2211,  0.7250],\n",
            "        [ 0.1757,  0.3716],\n",
            "        [ 0.3229,  0.2963]], grad_fn=<AddmmBackward0>)\n",
            "tensor([0, 0, 1, 1, 0, 0, 0, 0])\n",
            "tensor([1, 0, 1, 1, 1, 1, 1, 0])\n"
          ]
        },
        {
          "name": "stderr",
          "output_type": "stream",
          "text": [
            "\r 29%|██▉       | 151/525 [06:59<17:58,  2.88s/it]"
          ]
        },
        {
          "name": "stdout",
          "output_type": "stream",
          "text": [
            "\n",
            "tensor([[ 3.8250e-01,  1.9910e-01],\n",
            "        [-2.4747e-04,  2.4877e-01],\n",
            "        [ 7.8287e-01,  2.8759e-01],\n",
            "        [ 2.0574e-01,  9.4076e-01],\n",
            "        [ 9.6954e-01,  4.0770e-01],\n",
            "        [ 4.8740e-01,  1.0037e+00],\n",
            "        [ 6.1798e-01,  4.9644e-01],\n",
            "        [ 4.0749e-02,  7.1319e-01]], grad_fn=<AddmmBackward0>)\n",
            "tensor([0, 1, 1, 1, 1, 0, 1, 1])\n",
            "tensor([0, 1, 0, 1, 0, 1, 0, 1])\n"
          ]
        },
        {
          "name": "stderr",
          "output_type": "stream",
          "text": [
            "\r 29%|██▉       | 152/525 [07:02<17:36,  2.83s/it]"
          ]
        },
        {
          "name": "stdout",
          "output_type": "stream",
          "text": [
            "\n",
            "tensor([[ 0.1152,  0.2587],\n",
            "        [-0.0106,  0.4654],\n",
            "        [ 0.5082,  0.4180],\n",
            "        [ 0.7444,  0.7111],\n",
            "        [ 0.4561,  0.7433],\n",
            "        [ 0.5451,  0.0258],\n",
            "        [ 0.4856,  0.0423],\n",
            "        [ 0.6951,  0.5971]], grad_fn=<AddmmBackward0>)\n",
            "tensor([1, 0, 1, 1, 0, 0, 1, 1])\n",
            "tensor([1, 1, 0, 0, 1, 0, 0, 0])\n"
          ]
        },
        {
          "name": "stderr",
          "output_type": "stream",
          "text": [
            "\r 29%|██▉       | 153/525 [07:04<17:36,  2.84s/it]"
          ]
        },
        {
          "name": "stdout",
          "output_type": "stream",
          "text": [
            "\n",
            "tensor([[ 0.1142,  0.3533],\n",
            "        [ 0.2449,  0.3522],\n",
            "        [ 0.4651,  0.6299],\n",
            "        [ 0.2595,  0.5917],\n",
            "        [ 0.4462,  0.2572],\n",
            "        [ 0.1485,  0.4064],\n",
            "        [ 0.0184,  0.4303],\n",
            "        [-0.0358,  0.5735]], grad_fn=<AddmmBackward0>)\n",
            "tensor([1, 1, 1, 0, 0, 0, 0, 0])\n",
            "tensor([1, 1, 1, 1, 0, 1, 1, 1])\n"
          ]
        },
        {
          "name": "stderr",
          "output_type": "stream",
          "text": [
            "\r 29%|██▉       | 154/525 [07:07<17:53,  2.89s/it]"
          ]
        },
        {
          "name": "stdout",
          "output_type": "stream",
          "text": [
            "\n",
            "tensor([[-0.2971, -0.2238],\n",
            "        [-0.1358,  0.5244],\n",
            "        [ 0.1646,  0.4674],\n",
            "        [ 0.1354,  0.6993],\n",
            "        [ 0.3828,  0.8369],\n",
            "        [ 0.2331,  0.9253],\n",
            "        [ 0.0350,  0.2879],\n",
            "        [ 0.7930,  0.5075]], grad_fn=<AddmmBackward0>)\n",
            "tensor([1, 1, 0, 1, 1, 1, 1, 1])\n",
            "tensor([1, 1, 1, 1, 1, 1, 1, 0])\n"
          ]
        },
        {
          "name": "stderr",
          "output_type": "stream",
          "text": [
            "\r 30%|██▉       | 155/525 [07:10<17:36,  2.86s/it]"
          ]
        },
        {
          "name": "stdout",
          "output_type": "stream",
          "text": [
            "\n",
            "tensor([[ 0.1538,  0.4731],\n",
            "        [ 0.5772,  0.3763],\n",
            "        [ 0.2772,  0.8011],\n",
            "        [ 0.5369,  0.4846],\n",
            "        [-0.0364,  0.6945],\n",
            "        [-0.0354,  0.6213],\n",
            "        [ 0.0591,  0.3779],\n",
            "        [ 0.4091,  0.7318]], grad_fn=<AddmmBackward0>)\n",
            "tensor([1, 1, 0, 1, 0, 0, 0, 0])\n",
            "tensor([1, 0, 1, 0, 1, 1, 1, 1])\n"
          ]
        },
        {
          "name": "stderr",
          "output_type": "stream",
          "text": [
            "\r 30%|██▉       | 156/525 [07:13<17:32,  2.85s/it]"
          ]
        },
        {
          "name": "stdout",
          "output_type": "stream",
          "text": [
            "\n",
            "tensor([[ 0.0399, -0.2253],\n",
            "        [ 0.4977,  0.4687],\n",
            "        [ 0.0515,  0.5693],\n",
            "        [-0.2309,  0.3308],\n",
            "        [-0.0527,  0.5841],\n",
            "        [ 0.3336,  0.7855],\n",
            "        [ 0.2636,  0.3521],\n",
            "        [ 0.0127,  0.8354]], grad_fn=<AddmmBackward0>)\n",
            "tensor([1, 1, 1, 1, 1, 0, 0, 1])\n",
            "tensor([0, 0, 1, 1, 1, 1, 1, 1])\n"
          ]
        },
        {
          "name": "stderr",
          "output_type": "stream",
          "text": [
            "\r 30%|██▉       | 157/525 [07:16<17:34,  2.87s/it]"
          ]
        },
        {
          "name": "stdout",
          "output_type": "stream",
          "text": [
            "\n",
            "tensor([[ 0.3177,  0.2946],\n",
            "        [ 0.6055,  0.0948],\n",
            "        [ 0.2852,  0.5233],\n",
            "        [ 0.0758,  0.9865],\n",
            "        [ 0.0030, -0.0390],\n",
            "        [ 0.2749,  0.5326],\n",
            "        [-0.0535,  0.4831],\n",
            "        [-0.2062,  0.7229]], grad_fn=<AddmmBackward0>)\n",
            "tensor([0, 0, 0, 0, 0, 0, 1, 1])\n",
            "tensor([0, 0, 1, 1, 0, 1, 1, 1])\n"
          ]
        },
        {
          "name": "stderr",
          "output_type": "stream",
          "text": [
            "\r 30%|███       | 158/525 [07:19<17:25,  2.85s/it]"
          ]
        },
        {
          "name": "stdout",
          "output_type": "stream",
          "text": [
            "\n",
            "tensor([[ 0.1665,  0.3377],\n",
            "        [ 0.4358,  0.5293],\n",
            "        [ 0.3112,  0.2895],\n",
            "        [ 0.3431,  0.7818],\n",
            "        [-0.2927,  0.1926],\n",
            "        [ 0.1125,  0.6021],\n",
            "        [ 0.5959,  0.8807],\n",
            "        [ 0.1894,  0.0301]], grad_fn=<AddmmBackward0>)\n",
            "tensor([0, 1, 1, 1, 0, 0, 1, 1])\n",
            "tensor([1, 1, 0, 1, 1, 1, 1, 0])\n"
          ]
        },
        {
          "name": "stderr",
          "output_type": "stream",
          "text": [
            "\r 30%|███       | 159/525 [07:22<17:29,  2.87s/it]"
          ]
        },
        {
          "name": "stdout",
          "output_type": "stream",
          "text": [
            "\n",
            "tensor([[ 0.6058,  0.7225],\n",
            "        [-0.1214,  0.3141],\n",
            "        [ 0.2094, -0.0400],\n",
            "        [ 0.5696,  0.2747],\n",
            "        [ 0.6379,  0.3923],\n",
            "        [-0.0187,  0.1206],\n",
            "        [-0.0288,  0.3743],\n",
            "        [-0.1964,  0.6033]], grad_fn=<AddmmBackward0>)\n",
            "tensor([1, 1, 0, 1, 0, 0, 1, 1])\n",
            "tensor([1, 1, 0, 0, 0, 1, 1, 1])\n"
          ]
        },
        {
          "name": "stderr",
          "output_type": "stream",
          "text": [
            "\r 30%|███       | 160/525 [07:24<16:53,  2.78s/it]"
          ]
        },
        {
          "name": "stdout",
          "output_type": "stream",
          "text": [
            "\n",
            "tensor([[ 0.3086,  0.8122],\n",
            "        [ 0.5926,  0.6459],\n",
            "        [ 0.1443,  0.2253],\n",
            "        [ 0.0123,  0.7576],\n",
            "        [-0.0446,  0.5797],\n",
            "        [ 0.3154,  0.6420],\n",
            "        [ 0.5609,  0.2265],\n",
            "        [-0.1923,  0.4289]], grad_fn=<AddmmBackward0>)\n",
            "tensor([0, 1, 0, 1, 1, 1, 0, 1])\n",
            "tensor([1, 1, 1, 1, 1, 1, 0, 1])\n"
          ]
        },
        {
          "name": "stderr",
          "output_type": "stream",
          "text": [
            "\r 31%|███       | 161/525 [07:27<16:30,  2.72s/it]"
          ]
        },
        {
          "name": "stdout",
          "output_type": "stream",
          "text": [
            "\n",
            "tensor([[-0.4292,  1.1330],\n",
            "        [-0.1277,  0.3765],\n",
            "        [ 0.2421,  0.9769],\n",
            "        [-0.2861,  0.9727],\n",
            "        [ 0.1473,  0.5999],\n",
            "        [ 0.2144,  0.8617],\n",
            "        [ 0.4927,  0.4042],\n",
            "        [ 0.1909,  0.5810]], grad_fn=<AddmmBackward0>)\n",
            "tensor([0, 1, 1, 0, 0, 1, 1, 0])\n",
            "tensor([1, 1, 1, 1, 1, 1, 0, 1])\n"
          ]
        },
        {
          "name": "stderr",
          "output_type": "stream",
          "text": [
            "\r 31%|███       | 162/525 [07:30<16:39,  2.75s/it]"
          ]
        },
        {
          "name": "stdout",
          "output_type": "stream",
          "text": [
            "\n",
            "tensor([[0.1789, 0.4893],\n",
            "        [0.0162, 0.5171],\n",
            "        [0.2526, 0.8386],\n",
            "        [0.4945, 0.5473],\n",
            "        [0.4912, 0.3738],\n",
            "        [0.4996, 0.3585],\n",
            "        [0.5812, 0.8204],\n",
            "        [0.2298, 0.4113]], grad_fn=<AddmmBackward0>)\n",
            "tensor([1, 0, 1, 1, 0, 1, 0, 1])\n",
            "tensor([1, 1, 1, 1, 0, 0, 1, 1])\n"
          ]
        },
        {
          "name": "stderr",
          "output_type": "stream",
          "text": [
            "\r 31%|███       | 163/525 [07:33<16:58,  2.81s/it]"
          ]
        },
        {
          "name": "stdout",
          "output_type": "stream",
          "text": [
            "\n",
            "tensor([[-0.1362,  0.8979],\n",
            "        [ 0.2411,  0.9481],\n",
            "        [ 0.0817,  1.0149],\n",
            "        [ 0.9745,  0.3939],\n",
            "        [ 0.4429,  0.5048],\n",
            "        [ 0.4521,  0.5604],\n",
            "        [-0.1315,  0.3242],\n",
            "        [-0.6115,  0.7860]], grad_fn=<AddmmBackward0>)\n",
            "tensor([0, 1, 0, 1, 0, 1, 1, 1])\n",
            "tensor([1, 1, 1, 0, 1, 1, 1, 1])\n"
          ]
        },
        {
          "name": "stderr",
          "output_type": "stream",
          "text": [
            "\r 31%|███       | 164/525 [07:35<16:35,  2.76s/it]"
          ]
        },
        {
          "name": "stdout",
          "output_type": "stream",
          "text": [
            "\n",
            "tensor([[ 0.2079,  0.4907],\n",
            "        [ 0.0030,  0.6056],\n",
            "        [ 0.4521,  0.1529],\n",
            "        [ 0.1435,  0.2298],\n",
            "        [ 0.2661,  0.1707],\n",
            "        [-0.1833,  0.9998],\n",
            "        [ 0.0232,  0.4329],\n",
            "        [ 0.0487,  0.5838]], grad_fn=<AddmmBackward0>)\n",
            "tensor([1, 1, 1, 1, 1, 1, 1, 0])\n",
            "tensor([1, 1, 0, 1, 0, 1, 1, 1])\n"
          ]
        },
        {
          "name": "stderr",
          "output_type": "stream",
          "text": [
            "\r 31%|███▏      | 165/525 [07:38<15:57,  2.66s/it]"
          ]
        },
        {
          "name": "stdout",
          "output_type": "stream",
          "text": [
            "\n",
            "tensor([[ 0.2075,  0.6446],\n",
            "        [ 0.6475,  0.4036],\n",
            "        [ 0.2064,  1.0406],\n",
            "        [ 0.1590,  0.7970],\n",
            "        [-0.2327,  0.3894],\n",
            "        [ 0.1417,  0.8614],\n",
            "        [ 0.3023,  0.7268],\n",
            "        [-0.2361,  1.0588]], grad_fn=<AddmmBackward0>)\n",
            "tensor([0, 1, 1, 1, 0, 1, 1, 1])\n",
            "tensor([1, 0, 1, 1, 1, 1, 1, 1])\n"
          ]
        },
        {
          "name": "stderr",
          "output_type": "stream",
          "text": [
            "\r 32%|███▏      | 166/525 [07:41<16:36,  2.78s/it]"
          ]
        },
        {
          "name": "stdout",
          "output_type": "stream",
          "text": [
            "\n",
            "tensor([[-0.0393,  0.7768],\n",
            "        [ 0.0749,  0.7585],\n",
            "        [-0.2067,  0.9104],\n",
            "        [ 0.5774,  1.1405],\n",
            "        [-0.2366,  0.8590],\n",
            "        [ 0.0360,  0.9515],\n",
            "        [ 0.0882,  0.9371],\n",
            "        [-0.6263,  1.0214]], grad_fn=<AddmmBackward0>)\n",
            "tensor([0, 0, 0, 1, 1, 0, 0, 0])\n",
            "tensor([1, 1, 1, 1, 1, 1, 1, 1])\n"
          ]
        },
        {
          "name": "stderr",
          "output_type": "stream",
          "text": [
            "\r 32%|███▏      | 167/525 [07:43<15:50,  2.66s/it]"
          ]
        },
        {
          "name": "stdout",
          "output_type": "stream",
          "text": [
            "\n",
            "tensor([[ 0.4042,  0.5167],\n",
            "        [-0.2635,  0.4589],\n",
            "        [ 0.1319,  0.7988],\n",
            "        [ 0.0714, -0.1304],\n",
            "        [-0.0251,  0.7633],\n",
            "        [ 0.3561,  0.5017],\n",
            "        [-0.6215,  0.7074],\n",
            "        [-0.4320,  0.7344]], grad_fn=<AddmmBackward0>)\n",
            "tensor([0, 0, 0, 1, 0, 0, 0, 1])\n",
            "tensor([1, 1, 1, 0, 1, 1, 1, 1])\n"
          ]
        },
        {
          "name": "stderr",
          "output_type": "stream",
          "text": [
            "\r 32%|███▏      | 168/525 [07:46<16:10,  2.72s/it]"
          ]
        },
        {
          "name": "stdout",
          "output_type": "stream",
          "text": [
            "\n",
            "tensor([[-0.0055,  0.6659],\n",
            "        [ 0.1983,  0.2460],\n",
            "        [ 0.1782,  0.7946],\n",
            "        [ 0.0632,  0.4773],\n",
            "        [ 0.3917,  1.1446],\n",
            "        [-0.1177,  0.5923],\n",
            "        [ 0.3501,  0.2073],\n",
            "        [ 0.1234,  0.5533]], grad_fn=<AddmmBackward0>)\n",
            "tensor([0, 1, 0, 0, 0, 1, 1, 1])\n",
            "tensor([1, 1, 1, 1, 1, 1, 0, 1])\n"
          ]
        },
        {
          "name": "stderr",
          "output_type": "stream",
          "text": [
            "\r 32%|███▏      | 169/525 [07:49<16:37,  2.80s/it]"
          ]
        },
        {
          "name": "stdout",
          "output_type": "stream",
          "text": [
            "\n",
            "tensor([[ 0.6390,  0.2337],\n",
            "        [ 0.3784,  0.4883],\n",
            "        [ 0.5785,  0.4534],\n",
            "        [-0.0397,  0.1993],\n",
            "        [ 0.9235,  1.0986],\n",
            "        [ 0.3347,  0.6304],\n",
            "        [ 0.3625,  0.2886],\n",
            "        [ 0.0399,  0.3679]], grad_fn=<AddmmBackward0>)\n",
            "tensor([1, 1, 0, 1, 0, 0, 0, 0])\n",
            "tensor([0, 1, 0, 1, 1, 1, 0, 1])\n"
          ]
        },
        {
          "name": "stderr",
          "output_type": "stream",
          "text": [
            "\r 32%|███▏      | 170/525 [07:52<16:39,  2.82s/it]"
          ]
        },
        {
          "name": "stdout",
          "output_type": "stream",
          "text": [
            "\n",
            "tensor([[0.5954, 0.7521],\n",
            "        [0.0385, 0.2824],\n",
            "        [0.6442, 0.8503],\n",
            "        [0.2488, 0.3973],\n",
            "        [0.6891, 0.2781],\n",
            "        [0.1879, 0.2770],\n",
            "        [0.8373, 1.0906],\n",
            "        [0.5272, 0.3176]], grad_fn=<AddmmBackward0>)\n",
            "tensor([1, 1, 1, 1, 1, 0, 0, 0])\n",
            "tensor([1, 1, 1, 1, 0, 1, 1, 0])\n"
          ]
        },
        {
          "name": "stderr",
          "output_type": "stream",
          "text": [
            "\r 33%|███▎      | 171/525 [07:55<16:42,  2.83s/it]"
          ]
        },
        {
          "name": "stdout",
          "output_type": "stream",
          "text": [
            "\n",
            "tensor([[ 0.5576,  0.1310],\n",
            "        [ 0.8471,  0.4627],\n",
            "        [ 1.0638,  0.5275],\n",
            "        [ 0.3373,  0.1997],\n",
            "        [ 0.3105, -0.0375],\n",
            "        [ 0.5651,  0.2880],\n",
            "        [-0.1400, -0.4484],\n",
            "        [ 0.4946, -0.0300]], grad_fn=<AddmmBackward0>)\n",
            "tensor([1, 0, 0, 1, 1, 0, 1, 0])\n",
            "tensor([0, 0, 0, 0, 0, 0, 0, 0])\n"
          ]
        },
        {
          "name": "stderr",
          "output_type": "stream",
          "text": [
            "\r 33%|███▎      | 172/525 [07:58<16:51,  2.86s/it]"
          ]
        },
        {
          "name": "stdout",
          "output_type": "stream",
          "text": [
            "\n",
            "tensor([[ 0.8322,  0.4511],\n",
            "        [ 0.3970,  0.3584],\n",
            "        [ 0.5991, -0.0063],\n",
            "        [ 0.9836,  0.4241],\n",
            "        [ 0.3330,  0.2957],\n",
            "        [ 1.0445,  0.2833],\n",
            "        [ 1.0572,  0.1463],\n",
            "        [ 0.9063,  0.1329]], grad_fn=<AddmmBackward0>)\n",
            "tensor([0, 0, 1, 0, 0, 0, 0, 0])\n",
            "tensor([0, 0, 0, 0, 0, 0, 0, 0])\n"
          ]
        },
        {
          "name": "stderr",
          "output_type": "stream",
          "text": [
            "\r 33%|███▎      | 173/525 [08:01<17:11,  2.93s/it]"
          ]
        },
        {
          "name": "stdout",
          "output_type": "stream",
          "text": [
            "\n",
            "tensor([[ 0.8685,  0.2683],\n",
            "        [ 0.4330, -0.3180],\n",
            "        [ 1.0270, -0.0605],\n",
            "        [ 0.8343, -0.1495],\n",
            "        [ 0.8194, -0.5776],\n",
            "        [ 0.7122, -0.6351],\n",
            "        [ 0.2740, -0.9942],\n",
            "        [ 1.2739,  0.5079]], grad_fn=<AddmmBackward0>)\n",
            "tensor([0, 1, 1, 1, 1, 0, 0, 0])\n",
            "tensor([0, 0, 0, 0, 0, 0, 0, 0])\n"
          ]
        },
        {
          "name": "stderr",
          "output_type": "stream",
          "text": [
            "\r 33%|███▎      | 174/525 [08:04<17:14,  2.95s/it]"
          ]
        },
        {
          "name": "stdout",
          "output_type": "stream",
          "text": [
            "\n",
            "tensor([[ 0.8393,  0.4622],\n",
            "        [ 0.9393, -0.1109],\n",
            "        [ 0.8846,  0.3513],\n",
            "        [ 0.9133,  0.3012],\n",
            "        [ 0.8138, -0.0037],\n",
            "        [ 1.5887,  0.0809],\n",
            "        [ 1.3720, -0.1284],\n",
            "        [ 0.9269,  0.2221]], grad_fn=<AddmmBackward0>)\n",
            "tensor([0, 1, 0, 1, 1, 0, 0, 1])\n",
            "tensor([0, 0, 0, 0, 0, 0, 0, 0])\n"
          ]
        },
        {
          "name": "stderr",
          "output_type": "stream",
          "text": [
            "\r 33%|███▎      | 175/525 [08:07<17:10,  2.94s/it]"
          ]
        },
        {
          "name": "stdout",
          "output_type": "stream",
          "text": [
            "\n",
            "tensor([[ 1.0990, -0.3212],\n",
            "        [ 0.9802, -0.0572],\n",
            "        [ 0.8776,  0.1887],\n",
            "        [ 1.2817,  0.7946],\n",
            "        [ 1.0770, -0.3599],\n",
            "        [ 1.1974,  0.0680],\n",
            "        [ 1.1637,  0.2406],\n",
            "        [ 1.1066, -0.0341]], grad_fn=<AddmmBackward0>)\n",
            "tensor([1, 0, 1, 0, 0, 0, 0, 0])\n",
            "tensor([0, 0, 0, 0, 0, 0, 0, 0])\n"
          ]
        },
        {
          "name": "stderr",
          "output_type": "stream",
          "text": [
            "\r 34%|███▎      | 176/525 [08:09<16:47,  2.89s/it]"
          ]
        },
        {
          "name": "stdout",
          "output_type": "stream",
          "text": [
            "\n",
            "tensor([[ 0.7612,  0.2124],\n",
            "        [ 0.8190, -0.3238],\n",
            "        [ 0.9594,  0.3608],\n",
            "        [ 1.1155,  0.1510],\n",
            "        [ 0.9176,  0.0312],\n",
            "        [ 1.5683,  0.3449],\n",
            "        [ 0.7382, -0.2332],\n",
            "        [ 1.0660,  0.0154]], grad_fn=<AddmmBackward0>)\n",
            "tensor([1, 1, 1, 1, 0, 0, 0, 0])\n",
            "tensor([0, 0, 0, 0, 0, 0, 0, 0])\n"
          ]
        },
        {
          "name": "stderr",
          "output_type": "stream",
          "text": [
            "\r 34%|███▎      | 177/525 [08:12<16:07,  2.78s/it]"
          ]
        },
        {
          "name": "stdout",
          "output_type": "stream",
          "text": [
            "\n",
            "tensor([[ 0.8849, -0.0098],\n",
            "        [ 1.0034,  0.7180],\n",
            "        [ 0.9445, -0.4393],\n",
            "        [ 0.4446,  0.0702],\n",
            "        [ 1.2569,  0.1351],\n",
            "        [ 0.7889, -0.1812],\n",
            "        [ 1.0464, -0.2436],\n",
            "        [ 0.9911, -0.2763]], grad_fn=<AddmmBackward0>)\n",
            "tensor([0, 1, 0, 0, 1, 1, 0, 1])\n",
            "tensor([0, 0, 0, 0, 0, 0, 0, 0])\n"
          ]
        },
        {
          "name": "stderr",
          "output_type": "stream",
          "text": [
            "\r 34%|███▍      | 178/525 [08:15<16:08,  2.79s/it]"
          ]
        },
        {
          "name": "stdout",
          "output_type": "stream",
          "text": [
            "\n",
            "tensor([[ 0.6812,  0.5691],\n",
            "        [ 0.6712,  0.1767],\n",
            "        [ 0.5241,  0.1481],\n",
            "        [ 1.3087, -0.2038],\n",
            "        [ 0.4904,  0.0966],\n",
            "        [ 0.8414,  0.0876],\n",
            "        [ 0.7363,  0.3550],\n",
            "        [ 0.6230,  0.3814]], grad_fn=<AddmmBackward0>)\n",
            "tensor([0, 1, 1, 1, 0, 1, 0, 1])\n",
            "tensor([0, 0, 0, 0, 0, 0, 0, 0])\n"
          ]
        },
        {
          "name": "stderr",
          "output_type": "stream",
          "text": [
            "\r 34%|███▍      | 179/525 [08:17<15:32,  2.69s/it]"
          ]
        },
        {
          "name": "stdout",
          "output_type": "stream",
          "text": [
            "\n",
            "tensor([[ 0.9868, -0.0407],\n",
            "        [ 0.6003,  0.0973],\n",
            "        [ 0.6975,  0.4094],\n",
            "        [ 0.6109,  0.4239],\n",
            "        [ 1.0286,  0.1974],\n",
            "        [ 0.8832,  0.1067],\n",
            "        [ 0.4528,  0.4301],\n",
            "        [ 0.2447, -0.1411]], grad_fn=<AddmmBackward0>)\n",
            "tensor([1, 1, 1, 0, 1, 1, 1, 0])\n",
            "tensor([0, 0, 0, 0, 0, 0, 0, 0])\n"
          ]
        },
        {
          "name": "stderr",
          "output_type": "stream",
          "text": [
            "\r 34%|███▍      | 180/525 [08:20<15:43,  2.73s/it]"
          ]
        },
        {
          "name": "stdout",
          "output_type": "stream",
          "text": [
            "\n",
            "tensor([[ 0.3764,  0.5607],\n",
            "        [ 0.7965,  0.3844],\n",
            "        [ 0.6807,  0.1449],\n",
            "        [ 0.2563,  0.3758],\n",
            "        [ 0.9657,  0.2161],\n",
            "        [ 0.1754,  0.2802],\n",
            "        [ 0.2645,  0.1832],\n",
            "        [ 0.3058, -0.0024]], grad_fn=<AddmmBackward0>)\n",
            "tensor([0, 1, 0, 1, 1, 0, 1, 1])\n",
            "tensor([1, 0, 0, 1, 0, 1, 0, 0])\n"
          ]
        },
        {
          "name": "stderr",
          "output_type": "stream",
          "text": [
            "\r 34%|███▍      | 181/525 [08:23<15:32,  2.71s/it]"
          ]
        },
        {
          "name": "stdout",
          "output_type": "stream",
          "text": [
            "\n",
            "tensor([[-0.1410,  0.1865],\n",
            "        [ 0.3180,  0.3453],\n",
            "        [ 0.5927,  0.2064],\n",
            "        [-0.2509,  0.4722],\n",
            "        [ 0.4993,  0.7330],\n",
            "        [ 0.0564,  1.0153],\n",
            "        [ 0.2292,  0.2726],\n",
            "        [ 0.6735,  0.4929]], grad_fn=<AddmmBackward0>)\n",
            "tensor([0, 1, 0, 0, 0, 1, 1, 1])\n",
            "tensor([1, 1, 0, 1, 1, 1, 1, 0])\n"
          ]
        },
        {
          "name": "stderr",
          "output_type": "stream",
          "text": [
            "\r 35%|███▍      | 182/525 [08:25<15:40,  2.74s/it]"
          ]
        },
        {
          "name": "stdout",
          "output_type": "stream",
          "text": [
            "\n",
            "tensor([[ 0.2025,  1.2607],\n",
            "        [ 0.2028,  1.2372],\n",
            "        [-0.2820,  0.4403],\n",
            "        [ 0.4849,  1.1130],\n",
            "        [-0.1254,  0.4814],\n",
            "        [-0.0705,  0.1199],\n",
            "        [ 0.1499,  0.8011],\n",
            "        [ 0.3048,  0.4159]], grad_fn=<AddmmBackward0>)\n",
            "tensor([1, 1, 1, 0, 0, 1, 0, 1])\n",
            "tensor([1, 1, 1, 1, 1, 1, 1, 1])\n"
          ]
        },
        {
          "name": "stderr",
          "output_type": "stream",
          "text": [
            "\r 35%|███▍      | 183/525 [08:28<15:20,  2.69s/it]"
          ]
        },
        {
          "name": "stdout",
          "output_type": "stream",
          "text": [
            "\n",
            "tensor([[-0.4675,  1.2941],\n",
            "        [-0.0058,  0.7673],\n",
            "        [ 0.1851,  0.9888],\n",
            "        [-0.1152,  0.8716],\n",
            "        [-0.0467,  1.4692],\n",
            "        [-0.1365,  1.3019],\n",
            "        [-0.5691,  0.3668],\n",
            "        [-0.4476,  0.9735]], grad_fn=<AddmmBackward0>)\n",
            "tensor([1, 0, 1, 1, 1, 0, 0, 1])\n",
            "tensor([1, 1, 1, 1, 1, 1, 1, 1])\n"
          ]
        },
        {
          "name": "stderr",
          "output_type": "stream",
          "text": [
            "\r 35%|███▌      | 184/525 [08:31<15:43,  2.77s/it]"
          ]
        },
        {
          "name": "stdout",
          "output_type": "stream",
          "text": [
            "\n",
            "tensor([[-0.4977,  0.5076],\n",
            "        [-0.3074,  1.0083],\n",
            "        [-0.5693,  0.4330],\n",
            "        [-0.4001,  1.1807],\n",
            "        [ 0.1819,  1.0136],\n",
            "        [-0.3032,  0.6902],\n",
            "        [-0.0849,  1.0869],\n",
            "        [ 0.2282,  1.1723]], grad_fn=<AddmmBackward0>)\n",
            "tensor([1, 0, 0, 0, 0, 0, 1, 1])\n",
            "tensor([1, 1, 1, 1, 1, 1, 1, 1])\n"
          ]
        },
        {
          "name": "stderr",
          "output_type": "stream",
          "text": [
            "\r 35%|███▌      | 185/525 [08:34<15:40,  2.77s/it]"
          ]
        },
        {
          "name": "stdout",
          "output_type": "stream",
          "text": [
            "\n",
            "tensor([[-0.6169,  1.1505],\n",
            "        [ 0.2185,  1.3641],\n",
            "        [-0.0881,  0.9021],\n",
            "        [-0.7809,  0.8541],\n",
            "        [-0.0998,  0.8369],\n",
            "        [-0.1841,  1.0370],\n",
            "        [ 0.3960,  0.8604],\n",
            "        [-0.8557,  0.8172]], grad_fn=<AddmmBackward0>)\n",
            "tensor([0, 0, 1, 0, 1, 0, 1, 1])\n",
            "tensor([1, 1, 1, 1, 1, 1, 1, 1])\n"
          ]
        },
        {
          "name": "stderr",
          "output_type": "stream",
          "text": [
            "\r 35%|███▌      | 186/525 [08:37<15:41,  2.78s/it]"
          ]
        },
        {
          "name": "stdout",
          "output_type": "stream",
          "text": [
            "\n",
            "tensor([[-0.3784,  0.6954],\n",
            "        [ 0.1029,  1.3788],\n",
            "        [ 0.1449,  1.1460],\n",
            "        [-0.2902,  0.9673],\n",
            "        [-0.1950,  1.1416],\n",
            "        [ 0.4419,  1.3597],\n",
            "        [-0.3971,  0.2248],\n",
            "        [ 0.1078,  0.8995]], grad_fn=<AddmmBackward0>)\n",
            "tensor([1, 1, 0, 1, 0, 0, 1, 0])\n",
            "tensor([1, 1, 1, 1, 1, 1, 1, 1])\n"
          ]
        },
        {
          "name": "stderr",
          "output_type": "stream",
          "text": [
            "\r 36%|███▌      | 187/525 [08:39<15:16,  2.71s/it]"
          ]
        },
        {
          "name": "stdout",
          "output_type": "stream",
          "text": [
            "\n",
            "tensor([[-0.2545,  0.8525],\n",
            "        [-0.3205,  0.4610],\n",
            "        [-0.4250,  0.9112],\n",
            "        [-0.0594,  1.3144],\n",
            "        [-0.1691,  1.2818],\n",
            "        [-0.1668,  0.9532],\n",
            "        [ 0.0487,  0.3057],\n",
            "        [-0.0612,  0.6853]], grad_fn=<AddmmBackward0>)\n",
            "tensor([1, 0, 1, 1, 1, 1, 1, 0])\n",
            "tensor([1, 1, 1, 1, 1, 1, 1, 1])\n"
          ]
        },
        {
          "name": "stderr",
          "output_type": "stream",
          "text": [
            "\r 36%|███▌      | 188/525 [08:42<15:06,  2.69s/it]"
          ]
        },
        {
          "name": "stdout",
          "output_type": "stream",
          "text": [
            "\n",
            "tensor([[ 0.2328,  0.8123],\n",
            "        [-0.0654,  0.4554],\n",
            "        [ 0.3343,  0.8619],\n",
            "        [-0.3809,  0.5446],\n",
            "        [-0.2312,  1.1144],\n",
            "        [-0.4809,  0.9498],\n",
            "        [-0.3824,  1.0087],\n",
            "        [ 0.3174,  1.1319]], grad_fn=<AddmmBackward0>)\n",
            "tensor([1, 0, 0, 0, 0, 1, 0, 1])\n",
            "tensor([1, 1, 1, 1, 1, 1, 1, 1])\n"
          ]
        },
        {
          "name": "stderr",
          "output_type": "stream",
          "text": [
            "\r 36%|███▌      | 189/525 [08:44<14:14,  2.54s/it]"
          ]
        },
        {
          "name": "stdout",
          "output_type": "stream",
          "text": [
            "\n",
            "tensor([[ 0.0579,  1.0376],\n",
            "        [ 0.1269,  0.3042],\n",
            "        [ 0.6307, -0.0338],\n",
            "        [-0.0409,  0.6847],\n",
            "        [ 0.1278,  0.6006],\n",
            "        [-0.0479,  0.7296],\n",
            "        [ 0.0125,  0.7167],\n",
            "        [ 0.0570,  1.0514]], grad_fn=<AddmmBackward0>)\n",
            "tensor([1, 0, 1, 1, 1, 1, 1, 0])\n",
            "tensor([1, 1, 0, 1, 1, 1, 1, 1])\n"
          ]
        },
        {
          "name": "stderr",
          "output_type": "stream",
          "text": [
            "\r 36%|███▌      | 190/525 [08:47<15:01,  2.69s/it]"
          ]
        },
        {
          "name": "stdout",
          "output_type": "stream",
          "text": [
            "\n",
            "tensor([[ 0.1872,  0.5308],\n",
            "        [ 0.3823,  0.5644],\n",
            "        [-0.0649,  0.5149],\n",
            "        [ 0.1826,  0.5190],\n",
            "        [-0.0760,  0.6335],\n",
            "        [-0.3687,  0.7788],\n",
            "        [ 0.1169,  0.1276],\n",
            "        [ 0.6113,  0.6039]], grad_fn=<AddmmBackward0>)\n",
            "tensor([0, 0, 1, 0, 0, 1, 1, 1])\n",
            "tensor([1, 1, 1, 1, 1, 1, 1, 0])\n"
          ]
        },
        {
          "name": "stderr",
          "output_type": "stream",
          "text": [
            "\r 36%|███▋      | 191/525 [08:50<15:17,  2.75s/it]"
          ]
        },
        {
          "name": "stdout",
          "output_type": "stream",
          "text": [
            "\n",
            "tensor([[ 0.3185,  0.3714],\n",
            "        [ 0.5888,  0.6243],\n",
            "        [ 0.3681,  0.1486],\n",
            "        [ 0.3411,  0.5899],\n",
            "        [-0.4499,  0.5667],\n",
            "        [ 0.3713,  0.3345],\n",
            "        [-0.0055,  0.6151],\n",
            "        [-0.2274,  0.4792]], grad_fn=<AddmmBackward0>)\n",
            "tensor([0, 0, 1, 1, 1, 0, 0, 0])\n",
            "tensor([1, 1, 0, 1, 1, 0, 1, 1])\n"
          ]
        },
        {
          "name": "stderr",
          "output_type": "stream",
          "text": [
            "\r 37%|███▋      | 192/525 [08:52<14:23,  2.59s/it]"
          ]
        },
        {
          "name": "stdout",
          "output_type": "stream",
          "text": [
            "\n",
            "tensor([[0.5574, 0.8211],\n",
            "        [0.7240, 0.5227],\n",
            "        [0.0754, 0.4466],\n",
            "        [0.4565, 0.3523],\n",
            "        [0.4396, 0.3666],\n",
            "        [0.4012, 0.3509],\n",
            "        [0.0528, 0.4330],\n",
            "        [0.3352, 0.6052]], grad_fn=<AddmmBackward0>)\n",
            "tensor([1, 0, 1, 0, 1, 0, 0, 1])\n",
            "tensor([1, 0, 1, 0, 0, 0, 1, 1])\n"
          ]
        },
        {
          "name": "stderr",
          "output_type": "stream",
          "text": [
            "\r 37%|███▋      | 193/525 [08:55<14:02,  2.54s/it]"
          ]
        },
        {
          "name": "stdout",
          "output_type": "stream",
          "text": [
            "\n",
            "tensor([[0.0405, 0.5899],\n",
            "        [0.8613, 0.1236],\n",
            "        [0.2996, 0.3199],\n",
            "        [0.2102, 0.1385],\n",
            "        [0.7180, 0.1639],\n",
            "        [0.2642, 0.0842],\n",
            "        [0.5939, 0.2930],\n",
            "        [0.4395, 0.4857]], grad_fn=<AddmmBackward0>)\n",
            "tensor([1, 0, 1, 0, 1, 0, 0, 1])\n",
            "tensor([1, 0, 1, 0, 0, 0, 0, 1])\n"
          ]
        },
        {
          "name": "stderr",
          "output_type": "stream",
          "text": [
            "\r 37%|███▋      | 194/525 [08:57<14:12,  2.57s/it]"
          ]
        },
        {
          "name": "stdout",
          "output_type": "stream",
          "text": [
            "\n",
            "tensor([[ 0.2959,  0.2835],\n",
            "        [ 0.5652, -0.2449],\n",
            "        [ 0.4526, -0.3676],\n",
            "        [ 0.1918,  0.2077],\n",
            "        [ 0.4961, -0.2445],\n",
            "        [ 0.6690,  0.3876],\n",
            "        [ 0.6138,  0.0964],\n",
            "        [ 0.6809,  0.1036]], grad_fn=<AddmmBackward0>)\n",
            "tensor([1, 0, 0, 1, 0, 1, 0, 1])\n",
            "tensor([0, 0, 0, 1, 0, 0, 0, 0])\n"
          ]
        },
        {
          "name": "stderr",
          "output_type": "stream",
          "text": [
            "\r 37%|███▋      | 195/525 [09:00<14:14,  2.59s/it]"
          ]
        },
        {
          "name": "stdout",
          "output_type": "stream",
          "text": [
            "\n",
            "tensor([[ 0.2569,  0.5154],\n",
            "        [ 0.8489,  0.2781],\n",
            "        [ 0.5353, -0.1284],\n",
            "        [ 0.2248,  0.5729],\n",
            "        [ 0.1758, -0.1351],\n",
            "        [ 0.6302,  0.5778],\n",
            "        [ 0.5788,  0.3442],\n",
            "        [ 0.7648,  0.0867]], grad_fn=<AddmmBackward0>)\n",
            "tensor([1, 1, 1, 1, 0, 0, 0, 1])\n",
            "tensor([1, 0, 0, 1, 0, 0, 0, 0])\n"
          ]
        },
        {
          "name": "stderr",
          "output_type": "stream",
          "text": [
            "\r 37%|███▋      | 196/525 [09:02<14:01,  2.56s/it]"
          ]
        },
        {
          "name": "stdout",
          "output_type": "stream",
          "text": [
            "\n",
            "tensor([[ 0.6754, -0.0196],\n",
            "        [ 0.9196,  0.2928],\n",
            "        [ 0.7995,  0.1433],\n",
            "        [ 0.7907,  0.6120],\n",
            "        [ 0.8351,  0.2541],\n",
            "        [ 0.8400,  0.5150],\n",
            "        [ 0.5751,  0.2983],\n",
            "        [ 1.0713,  0.2587]], grad_fn=<AddmmBackward0>)\n",
            "tensor([1, 0, 0, 0, 0, 1, 1, 0])\n",
            "tensor([0, 0, 0, 0, 0, 0, 0, 0])\n"
          ]
        },
        {
          "name": "stderr",
          "output_type": "stream",
          "text": [
            "\r 38%|███▊      | 197/525 [09:05<14:31,  2.66s/it]"
          ]
        },
        {
          "name": "stdout",
          "output_type": "stream",
          "text": [
            "\n",
            "tensor([[0.9522, 0.3748],\n",
            "        [0.7227, 0.0573],\n",
            "        [0.4020, 0.5547],\n",
            "        [0.3831, 0.1492],\n",
            "        [0.3357, 0.5403],\n",
            "        [0.6130, 0.1812],\n",
            "        [0.9043, 0.6298],\n",
            "        [0.3185, 0.2373]], grad_fn=<AddmmBackward0>)\n",
            "tensor([1, 1, 1, 0, 1, 0, 0, 1])\n",
            "tensor([0, 0, 1, 0, 1, 0, 0, 0])\n"
          ]
        },
        {
          "name": "stderr",
          "output_type": "stream",
          "text": [
            "\r 38%|███▊      | 198/525 [09:08<14:45,  2.71s/it]"
          ]
        },
        {
          "name": "stdout",
          "output_type": "stream",
          "text": [
            "\n",
            "tensor([[ 0.9517,  0.1718],\n",
            "        [ 0.6425, -0.0779],\n",
            "        [ 0.4149, -0.0537],\n",
            "        [ 0.2448, -0.2658],\n",
            "        [ 0.3023, -0.2130],\n",
            "        [ 0.9740,  0.2839],\n",
            "        [ 0.3670,  0.0172],\n",
            "        [ 0.9793,  0.5438]], grad_fn=<AddmmBackward0>)\n",
            "tensor([0, 1, 0, 1, 0, 0, 1, 1])\n",
            "tensor([0, 0, 0, 0, 0, 0, 0, 0])\n"
          ]
        },
        {
          "name": "stderr",
          "output_type": "stream",
          "text": [
            "\r 38%|███▊      | 199/525 [09:11<14:42,  2.71s/it]"
          ]
        },
        {
          "name": "stdout",
          "output_type": "stream",
          "text": [
            "\n",
            "tensor([[ 0.6642,  0.3899],\n",
            "        [ 0.4007,  0.4149],\n",
            "        [ 0.6522, -0.0770],\n",
            "        [ 0.6642,  0.0139],\n",
            "        [ 0.5901,  0.4290],\n",
            "        [ 0.6856,  0.0470],\n",
            "        [ 0.3677,  0.5639],\n",
            "        [ 0.4693,  0.6362]], grad_fn=<AddmmBackward0>)\n",
            "tensor([1, 1, 1, 1, 1, 1, 1, 0])\n",
            "tensor([0, 1, 0, 0, 0, 0, 1, 1])\n"
          ]
        },
        {
          "name": "stderr",
          "output_type": "stream",
          "text": [
            "\r 38%|███▊      | 200/525 [09:14<14:51,  2.74s/it]"
          ]
        },
        {
          "name": "stdout",
          "output_type": "stream",
          "text": [
            "\n",
            "tensor([[ 0.5314,  0.6001],\n",
            "        [ 0.7798,  0.6672],\n",
            "        [ 0.5052, -0.2173],\n",
            "        [ 0.6619,  0.5509],\n",
            "        [ 0.4141,  0.1906],\n",
            "        [ 0.6655,  0.7871],\n",
            "        [ 0.6956, -0.2566],\n",
            "        [ 0.1499,  0.0890]], grad_fn=<AddmmBackward0>)\n",
            "tensor([0, 1, 1, 1, 0, 0, 1, 1])\n",
            "tensor([1, 0, 0, 0, 0, 1, 0, 0])\n"
          ]
        },
        {
          "name": "stderr",
          "output_type": "stream",
          "text": [
            "\r 38%|███▊      | 201/525 [09:17<15:22,  2.85s/it]"
          ]
        },
        {
          "name": "stdout",
          "output_type": "stream",
          "text": [
            "\n",
            "tensor([[0.1357, 0.0759],\n",
            "        [0.6540, 0.4717],\n",
            "        [0.2318, 0.2931],\n",
            "        [0.5359, 0.4718],\n",
            "        [0.5496, 0.7025],\n",
            "        [0.0456, 0.3301],\n",
            "        [0.2870, 0.2614],\n",
            "        [0.1477, 0.0656]], grad_fn=<AddmmBackward0>)\n",
            "tensor([1, 0, 1, 0, 1, 1, 0, 1])\n",
            "tensor([0, 0, 1, 0, 1, 1, 0, 0])\n"
          ]
        },
        {
          "name": "stderr",
          "output_type": "stream",
          "text": [
            "\r 38%|███▊      | 202/525 [09:19<15:12,  2.83s/it]"
          ]
        },
        {
          "name": "stdout",
          "output_type": "stream",
          "text": [
            "\n",
            "tensor([[ 0.4118,  0.4943],\n",
            "        [ 0.7962,  0.7353],\n",
            "        [ 0.0681,  0.5766],\n",
            "        [ 0.6667,  0.6140],\n",
            "        [ 0.0951,  0.2613],\n",
            "        [-0.0291,  0.6037],\n",
            "        [-0.0212,  0.2062],\n",
            "        [ 0.0370,  0.9940]], grad_fn=<AddmmBackward0>)\n",
            "tensor([0, 1, 0, 1, 1, 1, 0, 0])\n",
            "tensor([1, 0, 1, 0, 1, 1, 1, 1])\n"
          ]
        },
        {
          "name": "stderr",
          "output_type": "stream",
          "text": [
            "\r 39%|███▊      | 203/525 [09:22<15:10,  2.83s/it]"
          ]
        },
        {
          "name": "stdout",
          "output_type": "stream",
          "text": [
            "\n",
            "tensor([[-0.0202,  0.7308],\n",
            "        [ 0.1472,  0.7887],\n",
            "        [ 0.6440,  0.8591],\n",
            "        [ 0.3288,  0.3190],\n",
            "        [-0.2111,  0.4874],\n",
            "        [ 0.2634,  0.8344],\n",
            "        [-0.0458,  0.6367],\n",
            "        [ 0.4651,  0.1972]], grad_fn=<AddmmBackward0>)\n",
            "tensor([0, 0, 0, 0, 0, 1, 0, 0])\n",
            "tensor([1, 1, 1, 0, 1, 1, 1, 0])\n"
          ]
        },
        {
          "name": "stderr",
          "output_type": "stream",
          "text": [
            "\r 39%|███▉      | 204/525 [09:25<15:18,  2.86s/it]"
          ]
        },
        {
          "name": "stdout",
          "output_type": "stream",
          "text": [
            "\n",
            "tensor([[-0.5297,  0.5430],\n",
            "        [ 0.1805,  0.7807],\n",
            "        [ 0.0660,  0.7329],\n",
            "        [-0.2003,  0.4897],\n",
            "        [ 0.6365,  0.3777],\n",
            "        [-0.4652,  0.5545],\n",
            "        [-0.0784,  1.0471],\n",
            "        [ 0.0383,  0.6837]], grad_fn=<AddmmBackward0>)\n",
            "tensor([0, 0, 0, 1, 1, 1, 1, 1])\n",
            "tensor([1, 1, 1, 1, 0, 1, 1, 1])\n"
          ]
        },
        {
          "name": "stderr",
          "output_type": "stream",
          "text": [
            "\r 39%|███▉      | 205/525 [09:28<15:31,  2.91s/it]"
          ]
        },
        {
          "name": "stdout",
          "output_type": "stream",
          "text": [
            "\n",
            "tensor([[ 0.2645,  0.2420],\n",
            "        [ 0.0884,  0.9616],\n",
            "        [ 0.1369,  0.4381],\n",
            "        [ 0.2794,  0.8297],\n",
            "        [-0.3002,  0.8829],\n",
            "        [ 0.4434,  0.2839],\n",
            "        [-0.0094,  0.4574],\n",
            "        [ 0.0133,  1.0599]], grad_fn=<AddmmBackward0>)\n",
            "tensor([0, 1, 1, 1, 1, 0, 0, 1])\n",
            "tensor([0, 1, 1, 1, 1, 0, 1, 1])\n"
          ]
        },
        {
          "name": "stderr",
          "output_type": "stream",
          "text": [
            "\r 39%|███▉      | 206/525 [09:31<15:20,  2.89s/it]"
          ]
        },
        {
          "name": "stdout",
          "output_type": "stream",
          "text": [
            "\n",
            "tensor([[ 0.1923,  0.4538],\n",
            "        [ 0.1055,  0.5740],\n",
            "        [-0.2573,  0.2811],\n",
            "        [ 0.2227,  0.4098],\n",
            "        [ 0.7632,  1.0023],\n",
            "        [-0.0835,  0.9371],\n",
            "        [ 0.4837,  0.9224],\n",
            "        [ 0.2754,  0.6453]], grad_fn=<AddmmBackward0>)\n",
            "tensor([0, 1, 0, 1, 0, 1, 1, 1])\n",
            "tensor([1, 1, 1, 1, 1, 1, 1, 1])\n"
          ]
        },
        {
          "name": "stderr",
          "output_type": "stream",
          "text": [
            "\r 39%|███▉      | 207/525 [09:34<15:21,  2.90s/it]"
          ]
        },
        {
          "name": "stdout",
          "output_type": "stream",
          "text": [
            "\n",
            "tensor([[0.0977, 0.7129],\n",
            "        [0.1122, 0.8902],\n",
            "        [0.1694, 1.0670],\n",
            "        [0.1184, 1.1968],\n",
            "        [0.1843, 0.6456],\n",
            "        [0.2912, 0.4401],\n",
            "        [0.2409, 0.3935],\n",
            "        [0.0384, 0.3802]], grad_fn=<AddmmBackward0>)\n",
            "tensor([1, 1, 1, 0, 0, 0, 0, 0])\n",
            "tensor([1, 1, 1, 1, 1, 1, 1, 1])\n"
          ]
        },
        {
          "name": "stderr",
          "output_type": "stream",
          "text": [
            "\r 40%|███▉      | 208/525 [09:37<15:02,  2.85s/it]"
          ]
        },
        {
          "name": "stdout",
          "output_type": "stream",
          "text": [
            "\n",
            "tensor([[0.2311, 0.2654],\n",
            "        [0.4215, 0.8358],\n",
            "        [0.0082, 0.6233],\n",
            "        [0.6893, 0.5660],\n",
            "        [0.3894, 0.3431],\n",
            "        [0.2202, 0.6475],\n",
            "        [0.1410, 0.3661],\n",
            "        [0.0203, 0.2676]], grad_fn=<AddmmBackward0>)\n",
            "tensor([0, 0, 0, 0, 0, 1, 1, 0])\n",
            "tensor([1, 1, 1, 0, 0, 1, 1, 1])\n"
          ]
        },
        {
          "name": "stderr",
          "output_type": "stream",
          "text": [
            "\r 40%|███▉      | 209/525 [09:39<14:54,  2.83s/it]"
          ]
        },
        {
          "name": "stdout",
          "output_type": "stream",
          "text": [
            "\n",
            "tensor([[ 0.1405,  0.2442],\n",
            "        [-0.1765,  0.2408],\n",
            "        [ 0.1188,  0.8556],\n",
            "        [ 0.4217,  0.6594],\n",
            "        [-0.1496,  0.4877],\n",
            "        [ 0.2343,  0.9704],\n",
            "        [ 0.6822,  1.0799],\n",
            "        [-0.1236,  0.9955]], grad_fn=<AddmmBackward0>)\n",
            "tensor([0, 1, 0, 1, 1, 0, 1, 0])\n",
            "tensor([1, 1, 1, 1, 1, 1, 1, 1])\n"
          ]
        },
        {
          "name": "stderr",
          "output_type": "stream",
          "text": [
            "\r 40%|████      | 210/525 [09:42<14:40,  2.80s/it]"
          ]
        },
        {
          "name": "stdout",
          "output_type": "stream",
          "text": [
            "\n",
            "tensor([[ 0.2657,  0.3088],\n",
            "        [ 0.0738,  0.0058],\n",
            "        [ 0.1933,  0.5998],\n",
            "        [ 0.3517, -0.0060],\n",
            "        [ 0.4114,  0.4161],\n",
            "        [ 0.1373,  0.3819],\n",
            "        [ 0.5499,  0.7438],\n",
            "        [-0.0450,  0.2894]], grad_fn=<AddmmBackward0>)\n",
            "tensor([1, 1, 1, 0, 1, 1, 1, 0])\n",
            "tensor([1, 0, 1, 0, 1, 1, 1, 1])\n"
          ]
        },
        {
          "name": "stderr",
          "output_type": "stream",
          "text": [
            "\r 40%|████      | 211/525 [09:45<15:01,  2.87s/it]"
          ]
        },
        {
          "name": "stdout",
          "output_type": "stream",
          "text": [
            "\n",
            "tensor([[ 0.0825,  0.6219],\n",
            "        [ 0.6807,  0.6986],\n",
            "        [ 0.5520,  0.3523],\n",
            "        [ 0.3422,  0.7484],\n",
            "        [ 0.6286,  0.5099],\n",
            "        [ 0.2932,  0.2023],\n",
            "        [ 0.3786,  0.3910],\n",
            "        [-0.2053,  0.1349]], grad_fn=<AddmmBackward0>)\n",
            "tensor([0, 0, 1, 0, 1, 0, 1, 1])\n",
            "tensor([1, 1, 0, 1, 0, 0, 1, 1])\n"
          ]
        },
        {
          "name": "stderr",
          "output_type": "stream",
          "text": [
            "\r 40%|████      | 212/525 [09:48<15:04,  2.89s/it]"
          ]
        },
        {
          "name": "stdout",
          "output_type": "stream",
          "text": [
            "\n",
            "tensor([[ 0.1481,  0.5636],\n",
            "        [-0.0749,  0.5748],\n",
            "        [ 0.6779,  0.3855],\n",
            "        [ 0.3998,  0.0505],\n",
            "        [ 0.3495,  0.0516],\n",
            "        [ 0.4033,  0.2759],\n",
            "        [ 0.6595,  0.6902],\n",
            "        [ 0.3521,  0.3893]], grad_fn=<AddmmBackward0>)\n",
            "tensor([1, 0, 0, 0, 1, 0, 1, 0])\n",
            "tensor([1, 1, 0, 0, 0, 0, 1, 1])\n"
          ]
        },
        {
          "name": "stderr",
          "output_type": "stream",
          "text": [
            "\r 41%|████      | 213/525 [09:51<14:55,  2.87s/it]"
          ]
        },
        {
          "name": "stdout",
          "output_type": "stream",
          "text": [
            "\n",
            "tensor([[ 0.4029, -0.1973],\n",
            "        [ 0.1041,  0.2848],\n",
            "        [ 0.7316,  0.0555],\n",
            "        [ 0.0335,  0.2408],\n",
            "        [ 0.6210,  0.4204],\n",
            "        [ 0.0196, -0.0130],\n",
            "        [ 0.7830,  0.4174],\n",
            "        [ 1.0235,  0.4268]], grad_fn=<AddmmBackward0>)\n",
            "tensor([0, 0, 0, 0, 1, 0, 1, 0])\n",
            "tensor([0, 1, 0, 1, 0, 0, 0, 0])\n"
          ]
        },
        {
          "name": "stderr",
          "output_type": "stream",
          "text": [
            "\r 41%|████      | 214/525 [09:54<14:51,  2.87s/it]"
          ]
        },
        {
          "name": "stdout",
          "output_type": "stream",
          "text": [
            "\n",
            "tensor([[ 0.2362, -0.1737],\n",
            "        [ 0.7931, -0.2367],\n",
            "        [ 0.2301,  0.1709],\n",
            "        [ 0.2724,  0.2734],\n",
            "        [ 0.6790,  0.2158],\n",
            "        [ 0.4921, -0.1436],\n",
            "        [ 0.7873,  0.5365],\n",
            "        [ 0.2265,  0.2471]], grad_fn=<AddmmBackward0>)\n",
            "tensor([1, 1, 1, 1, 1, 1, 1, 0])\n",
            "tensor([0, 0, 0, 1, 0, 0, 0, 1])\n"
          ]
        },
        {
          "name": "stderr",
          "output_type": "stream",
          "text": [
            "\r 41%|████      | 215/525 [09:57<14:54,  2.89s/it]"
          ]
        },
        {
          "name": "stdout",
          "output_type": "stream",
          "text": [
            "\n",
            "tensor([[ 0.9020,  0.7466],\n",
            "        [ 0.1985, -0.0381],\n",
            "        [ 0.8542, -0.3189],\n",
            "        [ 0.5520,  0.2885],\n",
            "        [ 0.5504, -0.4672],\n",
            "        [ 0.3227, -0.1185],\n",
            "        [ 0.2531,  0.1102],\n",
            "        [ 0.6579, -0.2798]], grad_fn=<AddmmBackward0>)\n",
            "tensor([0, 1, 1, 0, 0, 1, 1, 0])\n",
            "tensor([0, 0, 0, 0, 0, 0, 0, 0])\n"
          ]
        },
        {
          "name": "stderr",
          "output_type": "stream",
          "text": [
            "\r 41%|████      | 216/525 [10:00<15:00,  2.91s/it]"
          ]
        },
        {
          "name": "stdout",
          "output_type": "stream",
          "text": [
            "\n",
            "tensor([[ 0.7849,  0.2624],\n",
            "        [ 1.0925,  0.0255],\n",
            "        [ 0.2582, -0.2019],\n",
            "        [ 0.7535,  0.2608],\n",
            "        [-0.2717, -0.1842],\n",
            "        [ 0.6126,  0.4970],\n",
            "        [ 0.6688,  0.4767],\n",
            "        [ 0.6644, -0.5407]], grad_fn=<AddmmBackward0>)\n",
            "tensor([0, 0, 0, 1, 0, 0, 0, 0])\n",
            "tensor([0, 0, 0, 0, 1, 0, 0, 0])\n"
          ]
        },
        {
          "name": "stderr",
          "output_type": "stream",
          "text": [
            "\r 41%|████▏     | 217/525 [10:03<15:02,  2.93s/it]"
          ]
        },
        {
          "name": "stdout",
          "output_type": "stream",
          "text": [
            "\n",
            "tensor([[-0.0800, -0.3781],\n",
            "        [ 0.3211, -0.1386],\n",
            "        [ 0.3767,  0.0360],\n",
            "        [ 1.0234,  0.0535],\n",
            "        [ 0.1182, -0.1018],\n",
            "        [ 0.5796,  0.3808],\n",
            "        [ 0.2334, -0.0687],\n",
            "        [ 0.6363,  0.1572]], grad_fn=<AddmmBackward0>)\n",
            "tensor([0, 0, 0, 1, 0, 0, 1, 0])\n",
            "tensor([0, 0, 0, 0, 0, 0, 0, 0])\n"
          ]
        },
        {
          "name": "stderr",
          "output_type": "stream",
          "text": [
            "\r 42%|████▏     | 218/525 [10:06<14:57,  2.92s/it]"
          ]
        },
        {
          "name": "stdout",
          "output_type": "stream",
          "text": [
            "\n",
            "tensor([[ 0.4531,  0.4609],\n",
            "        [ 0.6042,  0.2612],\n",
            "        [ 0.5659,  0.6433],\n",
            "        [ 0.4762, -0.1699],\n",
            "        [ 0.2594,  0.1628],\n",
            "        [ 1.1610,  0.0841],\n",
            "        [ 0.5995,  0.4068],\n",
            "        [ 0.3008,  0.0305]], grad_fn=<AddmmBackward0>)\n",
            "tensor([1, 0, 1, 1, 1, 0, 1, 1])\n",
            "tensor([1, 0, 1, 0, 0, 0, 0, 0])\n"
          ]
        },
        {
          "name": "stderr",
          "output_type": "stream",
          "text": [
            "\r 42%|████▏     | 219/525 [10:08<14:48,  2.90s/it]"
          ]
        },
        {
          "name": "stdout",
          "output_type": "stream",
          "text": [
            "\n",
            "tensor([[ 0.2766,  0.0807],\n",
            "        [ 0.5150,  0.6513],\n",
            "        [ 0.5528, -0.0602],\n",
            "        [ 0.9492, -0.0135],\n",
            "        [ 0.7282,  0.0233],\n",
            "        [ 0.4693, -0.3620],\n",
            "        [ 0.6394, -0.1381],\n",
            "        [ 0.5983,  0.2563]], grad_fn=<AddmmBackward0>)\n",
            "tensor([0, 1, 1, 1, 0, 0, 0, 1])\n",
            "tensor([0, 1, 0, 0, 0, 0, 0, 0])\n"
          ]
        },
        {
          "name": "stderr",
          "output_type": "stream",
          "text": [
            "\r 42%|████▏     | 220/525 [10:11<14:43,  2.90s/it]"
          ]
        },
        {
          "name": "stdout",
          "output_type": "stream",
          "text": [
            "\n",
            "tensor([[ 0.6877, -0.3971],\n",
            "        [ 1.0103,  0.5062],\n",
            "        [ 0.2892, -0.0019],\n",
            "        [ 0.3108, -0.1490],\n",
            "        [ 0.4695, -0.6563],\n",
            "        [ 0.5203,  0.1835],\n",
            "        [ 0.9057,  0.0140],\n",
            "        [ 0.4507, -0.1098]], grad_fn=<AddmmBackward0>)\n",
            "tensor([0, 1, 0, 1, 0, 1, 1, 1])\n",
            "tensor([0, 0, 0, 0, 0, 0, 0, 0])\n"
          ]
        },
        {
          "name": "stderr",
          "output_type": "stream",
          "text": [
            "\r 42%|████▏     | 221/525 [10:14<14:44,  2.91s/it]"
          ]
        },
        {
          "name": "stdout",
          "output_type": "stream",
          "text": [
            "\n",
            "tensor([[ 0.2733,  1.1496],\n",
            "        [ 0.1378,  0.3095],\n",
            "        [ 0.3357,  0.5445],\n",
            "        [ 0.8210,  0.2567],\n",
            "        [ 0.5512,  0.1759],\n",
            "        [ 0.6919, -0.0753],\n",
            "        [ 0.6977,  0.2479],\n",
            "        [ 1.1109,  0.6835]], grad_fn=<AddmmBackward0>)\n",
            "tensor([0, 1, 0, 0, 0, 1, 0, 1])\n",
            "tensor([1, 1, 1, 0, 0, 0, 0, 0])\n"
          ]
        },
        {
          "name": "stderr",
          "output_type": "stream",
          "text": [
            "\r 42%|████▏     | 222/525 [10:17<14:34,  2.89s/it]"
          ]
        },
        {
          "name": "stdout",
          "output_type": "stream",
          "text": [
            "\n",
            "tensor([[ 0.1516,  0.2013],\n",
            "        [ 0.2862,  0.6063],\n",
            "        [ 0.7007,  0.3423],\n",
            "        [ 0.6140,  0.5580],\n",
            "        [ 0.8143, -0.0274],\n",
            "        [-0.0076,  0.1863],\n",
            "        [ 0.5508,  0.7024],\n",
            "        [ 0.5959,  0.4607]], grad_fn=<AddmmBackward0>)\n",
            "tensor([0, 1, 1, 0, 0, 1, 1, 0])\n",
            "tensor([1, 1, 0, 0, 0, 1, 1, 0])\n"
          ]
        },
        {
          "name": "stderr",
          "output_type": "stream",
          "text": [
            "\r 42%|████▏     | 223/525 [10:20<14:33,  2.89s/it]"
          ]
        },
        {
          "name": "stdout",
          "output_type": "stream",
          "text": [
            "\n",
            "tensor([[-0.0513,  0.4671],\n",
            "        [ 0.2282,  0.5435],\n",
            "        [ 0.4217,  0.5991],\n",
            "        [ 0.4731,  0.7209],\n",
            "        [ 0.6715,  0.9676],\n",
            "        [ 0.4207,  0.8919],\n",
            "        [ 0.7900,  0.3885],\n",
            "        [ 0.3062,  0.6909]], grad_fn=<AddmmBackward0>)\n",
            "tensor([1, 0, 1, 1, 0, 0, 1, 0])\n",
            "tensor([1, 1, 1, 1, 1, 1, 0, 1])\n"
          ]
        },
        {
          "name": "stderr",
          "output_type": "stream",
          "text": [
            "\r 43%|████▎     | 224/525 [10:23<14:24,  2.87s/it]"
          ]
        },
        {
          "name": "stdout",
          "output_type": "stream",
          "text": [
            "\n",
            "tensor([[ 0.3547,  0.6082],\n",
            "        [ 0.7141,  0.7634],\n",
            "        [ 0.5177,  0.2295],\n",
            "        [-0.0741,  0.3922],\n",
            "        [ 0.3185,  0.4775],\n",
            "        [-0.1937,  0.5861],\n",
            "        [ 0.0177,  1.0671],\n",
            "        [ 0.2060,  0.5249]], grad_fn=<AddmmBackward0>)\n",
            "tensor([0, 1, 0, 1, 0, 1, 1, 1])\n",
            "tensor([1, 1, 0, 1, 1, 1, 1, 1])\n"
          ]
        },
        {
          "name": "stderr",
          "output_type": "stream",
          "text": [
            "\r 43%|████▎     | 225/525 [10:26<14:16,  2.86s/it]"
          ]
        },
        {
          "name": "stdout",
          "output_type": "stream",
          "text": [
            "\n",
            "tensor([[ 0.6814,  0.5354],\n",
            "        [ 0.1811,  0.8862],\n",
            "        [ 0.3489,  0.4144],\n",
            "        [ 0.3827,  0.9165],\n",
            "        [-0.0067,  0.5387],\n",
            "        [ 0.8195,  0.5120],\n",
            "        [-0.3258, -0.4019],\n",
            "        [ 0.1911,  0.7931]], grad_fn=<AddmmBackward0>)\n",
            "tensor([1, 0, 1, 0, 1, 1, 0, 1])\n",
            "tensor([0, 1, 1, 1, 1, 0, 0, 1])\n"
          ]
        },
        {
          "name": "stderr",
          "output_type": "stream",
          "text": [
            "\r 43%|████▎     | 226/525 [10:29<14:26,  2.90s/it]"
          ]
        },
        {
          "name": "stdout",
          "output_type": "stream",
          "text": [
            "\n",
            "tensor([[ 0.3001,  1.0054],\n",
            "        [ 0.5076,  0.1517],\n",
            "        [ 0.2098,  0.9408],\n",
            "        [ 1.0026,  1.0572],\n",
            "        [ 0.4892,  0.3582],\n",
            "        [ 0.3536,  1.0770],\n",
            "        [-0.2574,  0.3409],\n",
            "        [ 0.4742,  1.1080]], grad_fn=<AddmmBackward0>)\n",
            "tensor([0, 0, 1, 0, 0, 1, 1, 0])\n",
            "tensor([1, 0, 1, 1, 0, 1, 1, 1])\n"
          ]
        },
        {
          "name": "stderr",
          "output_type": "stream",
          "text": [
            "\r 43%|████▎     | 227/525 [10:31<14:11,  2.86s/it]"
          ]
        },
        {
          "name": "stdout",
          "output_type": "stream",
          "text": [
            "\n",
            "tensor([[ 0.7858,  1.2536],\n",
            "        [ 0.6239,  0.9156],\n",
            "        [ 0.0038,  0.5689],\n",
            "        [ 0.5192,  1.4633],\n",
            "        [ 0.0394, -0.1138],\n",
            "        [ 1.0020,  1.4566],\n",
            "        [ 0.6970,  0.6784],\n",
            "        [ 0.1708,  1.3161]], grad_fn=<AddmmBackward0>)\n",
            "tensor([1, 1, 0, 1, 0, 1, 1, 1])\n",
            "tensor([1, 1, 1, 1, 0, 1, 0, 1])\n"
          ]
        },
        {
          "name": "stderr",
          "output_type": "stream",
          "text": [
            "\r 43%|████▎     | 228/525 [10:34<13:47,  2.79s/it]"
          ]
        },
        {
          "name": "stdout",
          "output_type": "stream",
          "text": [
            "\n",
            "tensor([[ 0.3489,  1.1664],\n",
            "        [ 0.2774,  1.1434],\n",
            "        [-0.0844,  1.4561],\n",
            "        [ 0.3201,  0.8888],\n",
            "        [-0.2393,  0.7059],\n",
            "        [ 0.0651, -0.0195],\n",
            "        [ 0.3841,  1.2875],\n",
            "        [-0.0330,  0.7364]], grad_fn=<AddmmBackward0>)\n",
            "tensor([1, 1, 1, 0, 1, 0, 1, 0])\n",
            "tensor([1, 1, 1, 1, 1, 0, 1, 1])\n"
          ]
        },
        {
          "name": "stderr",
          "output_type": "stream",
          "text": [
            "\r 44%|████▎     | 229/525 [10:37<13:27,  2.73s/it]"
          ]
        },
        {
          "name": "stdout",
          "output_type": "stream",
          "text": [
            "\n",
            "tensor([[0.5569, 1.1026],\n",
            "        [0.0873, 0.7614],\n",
            "        [0.1167, 0.9835],\n",
            "        [0.1399, 1.0386],\n",
            "        [0.3685, 0.0903],\n",
            "        [0.1912, 0.3762],\n",
            "        [0.4263, 0.7526],\n",
            "        [0.7785, 0.6533]], grad_fn=<AddmmBackward0>)\n",
            "tensor([0, 1, 1, 1, 1, 1, 1, 1])\n",
            "tensor([1, 1, 1, 1, 0, 1, 1, 0])\n"
          ]
        },
        {
          "name": "stderr",
          "output_type": "stream",
          "text": [
            "\r 44%|████▍     | 230/525 [10:39<13:02,  2.65s/it]"
          ]
        },
        {
          "name": "stdout",
          "output_type": "stream",
          "text": [
            "\n",
            "tensor([[ 0.1706,  1.2666],\n",
            "        [ 0.3116,  0.9396],\n",
            "        [ 0.1797,  0.7461],\n",
            "        [-0.1657,  0.8141],\n",
            "        [ 0.1601,  0.3477],\n",
            "        [ 0.0397,  1.1690],\n",
            "        [ 0.2458,  0.8878],\n",
            "        [ 0.4363,  1.2219]], grad_fn=<AddmmBackward0>)\n",
            "tensor([0, 1, 0, 1, 1, 0, 1, 1])\n",
            "tensor([1, 1, 1, 1, 1, 1, 1, 1])\n"
          ]
        },
        {
          "name": "stderr",
          "output_type": "stream",
          "text": [
            "\r 44%|████▍     | 231/525 [10:42<13:17,  2.71s/it]"
          ]
        },
        {
          "name": "stdout",
          "output_type": "stream",
          "text": [
            "\n",
            "tensor([[ 2.3499e-01,  1.0894e+00],\n",
            "        [-2.3639e-04,  1.2767e+00],\n",
            "        [ 1.7534e-01,  6.0507e-01],\n",
            "        [ 7.6211e-01,  1.4040e+00],\n",
            "        [-5.7450e-01,  4.8723e-01],\n",
            "        [ 2.9651e-01,  1.1316e+00],\n",
            "        [ 2.2916e-01,  1.2803e+00],\n",
            "        [-1.8894e-01,  1.5650e+00]], grad_fn=<AddmmBackward0>)\n",
            "tensor([0, 0, 1, 1, 0, 0, 0, 1])\n",
            "tensor([1, 1, 1, 1, 1, 1, 1, 1])\n"
          ]
        },
        {
          "name": "stderr",
          "output_type": "stream",
          "text": [
            "\r 44%|████▍     | 232/525 [10:45<13:07,  2.69s/it]"
          ]
        },
        {
          "name": "stdout",
          "output_type": "stream",
          "text": [
            "\n",
            "tensor([[ 0.0636,  1.4614],\n",
            "        [ 0.1603,  1.2007],\n",
            "        [ 0.6076,  0.9903],\n",
            "        [-0.6001,  1.0497],\n",
            "        [-0.1156,  1.0622],\n",
            "        [ 0.3429,  1.1500],\n",
            "        [ 0.2402,  1.1943],\n",
            "        [-0.3430,  0.8887]], grad_fn=<AddmmBackward0>)\n",
            "tensor([0, 0, 1, 0, 0, 0, 0, 0])\n",
            "tensor([1, 1, 1, 1, 1, 1, 1, 1])\n"
          ]
        },
        {
          "name": "stderr",
          "output_type": "stream",
          "text": [
            "\r 44%|████▍     | 233/525 [10:47<13:17,  2.73s/it]"
          ]
        },
        {
          "name": "stdout",
          "output_type": "stream",
          "text": [
            "\n",
            "tensor([[ 0.4353,  0.9891],\n",
            "        [-0.5794,  0.3798],\n",
            "        [-0.0613,  1.0988],\n",
            "        [ 0.0607,  0.4187],\n",
            "        [ 0.2104,  0.2608],\n",
            "        [-0.0220,  1.0005],\n",
            "        [ 0.0339,  0.5925],\n",
            "        [ 0.2361,  1.0460]], grad_fn=<AddmmBackward0>)\n",
            "tensor([0, 1, 1, 1, 0, 0, 1, 1])\n",
            "tensor([1, 1, 1, 1, 1, 1, 1, 1])\n"
          ]
        },
        {
          "name": "stderr",
          "output_type": "stream",
          "text": [
            "\r 45%|████▍     | 234/525 [10:50<12:55,  2.67s/it]"
          ]
        },
        {
          "name": "stdout",
          "output_type": "stream",
          "text": [
            "\n",
            "tensor([[0.3680, 0.8675],\n",
            "        [1.0975, 0.7253],\n",
            "        [0.5396, 0.7007],\n",
            "        [0.3644, 0.9085],\n",
            "        [0.3394, 0.7057],\n",
            "        [0.5174, 0.8226],\n",
            "        [0.6911, 1.1263],\n",
            "        [0.4960, 0.9901]], grad_fn=<AddmmBackward0>)\n",
            "tensor([0, 0, 1, 1, 1, 1, 1, 0])\n",
            "tensor([1, 0, 1, 1, 1, 1, 1, 1])\n"
          ]
        },
        {
          "name": "stderr",
          "output_type": "stream",
          "text": [
            "\r 45%|████▍     | 235/525 [10:53<13:03,  2.70s/it]"
          ]
        },
        {
          "name": "stdout",
          "output_type": "stream",
          "text": [
            "\n",
            "tensor([[0.8630, 0.8108],\n",
            "        [0.6978, 0.4399],\n",
            "        [0.8218, 0.7188],\n",
            "        [0.1571, 0.5309],\n",
            "        [0.9609, 0.3960],\n",
            "        [0.4833, 0.7357],\n",
            "        [0.5013, 0.6122],\n",
            "        [0.7852, 0.3520]], grad_fn=<AddmmBackward0>)\n",
            "tensor([1, 1, 0, 0, 1, 1, 0, 0])\n",
            "tensor([0, 0, 0, 1, 0, 1, 1, 0])\n"
          ]
        },
        {
          "name": "stderr",
          "output_type": "stream",
          "text": [
            "\r 45%|████▍     | 236/525 [10:56<13:09,  2.73s/it]"
          ]
        },
        {
          "name": "stdout",
          "output_type": "stream",
          "text": [
            "\n",
            "tensor([[ 4.8138e-01,  8.2496e-01],\n",
            "        [ 6.0813e-01,  2.8350e-01],\n",
            "        [ 9.0588e-01,  4.9024e-01],\n",
            "        [ 6.2231e-01,  2.9844e-01],\n",
            "        [-6.5152e-05,  4.6417e-02],\n",
            "        [ 8.1695e-01,  6.6203e-01],\n",
            "        [ 6.1211e-01,  3.0503e-01],\n",
            "        [ 9.2700e-01,  3.4661e-01]], grad_fn=<AddmmBackward0>)\n",
            "tensor([0, 0, 1, 1, 1, 0, 1, 1])\n",
            "tensor([1, 0, 0, 0, 1, 0, 0, 0])\n"
          ]
        },
        {
          "name": "stderr",
          "output_type": "stream",
          "text": [
            "\r 45%|████▌     | 237/525 [10:58<13:03,  2.72s/it]"
          ]
        },
        {
          "name": "stdout",
          "output_type": "stream",
          "text": [
            "\n",
            "tensor([[ 0.5717,  0.4538],\n",
            "        [ 0.2319, -0.1617],\n",
            "        [ 0.8691,  0.4563],\n",
            "        [ 0.7643, -0.1619],\n",
            "        [ 0.7416,  0.3351],\n",
            "        [ 0.3062,  1.0317],\n",
            "        [ 1.0930,  0.3413],\n",
            "        [ 0.4502,  0.3965]], grad_fn=<AddmmBackward0>)\n",
            "tensor([1, 1, 1, 1, 1, 0, 1, 1])\n",
            "tensor([0, 0, 0, 0, 0, 1, 0, 0])\n"
          ]
        },
        {
          "name": "stderr",
          "output_type": "stream",
          "text": [
            "\r 45%|████▌     | 238/525 [11:01<13:24,  2.80s/it]"
          ]
        },
        {
          "name": "stdout",
          "output_type": "stream",
          "text": [
            "\n",
            "tensor([[0.7299, 0.6272],\n",
            "        [0.7175, 0.6346],\n",
            "        [0.5532, 0.2806],\n",
            "        [0.7433, 0.5090],\n",
            "        [0.6616, 1.2899],\n",
            "        [0.3370, 0.4377],\n",
            "        [1.3071, 0.4251],\n",
            "        [0.5793, 0.5878]], grad_fn=<AddmmBackward0>)\n",
            "tensor([0, 0, 1, 1, 0, 0, 1, 0])\n",
            "tensor([0, 0, 0, 0, 1, 1, 0, 1])\n"
          ]
        },
        {
          "name": "stderr",
          "output_type": "stream",
          "text": [
            "\r 46%|████▌     | 239/525 [11:04<13:24,  2.81s/it]"
          ]
        },
        {
          "name": "stdout",
          "output_type": "stream",
          "text": [
            "\n",
            "tensor([[0.6978, 0.3831],\n",
            "        [0.0411, 0.0416],\n",
            "        [0.6583, 0.0875],\n",
            "        [0.2370, 0.4972],\n",
            "        [0.7077, 0.4104],\n",
            "        [0.7702, 0.3966],\n",
            "        [0.7652, 0.4449],\n",
            "        [0.2918, 0.7108]], grad_fn=<AddmmBackward0>)\n",
            "tensor([1, 1, 1, 0, 1, 0, 0, 0])\n",
            "tensor([0, 1, 0, 1, 0, 0, 0, 1])\n"
          ]
        },
        {
          "name": "stderr",
          "output_type": "stream",
          "text": [
            "\r 46%|████▌     | 240/525 [11:07<13:28,  2.84s/it]"
          ]
        },
        {
          "name": "stdout",
          "output_type": "stream",
          "text": [
            "\n",
            "tensor([[ 0.8816,  0.7119],\n",
            "        [-0.2370,  0.3009],\n",
            "        [ 0.6252,  0.8086],\n",
            "        [ 0.2574,  0.0020],\n",
            "        [-0.0193, -0.2031],\n",
            "        [ 0.2455,  0.5668],\n",
            "        [ 0.8682,  0.4084],\n",
            "        [ 0.3433,  0.2864]], grad_fn=<AddmmBackward0>)\n",
            "tensor([0, 1, 0, 1, 0, 0, 1, 0])\n",
            "tensor([0, 1, 1, 0, 0, 1, 0, 0])\n"
          ]
        },
        {
          "name": "stderr",
          "output_type": "stream",
          "text": [
            "\r 46%|████▌     | 241/525 [11:10<13:13,  2.79s/it]"
          ]
        },
        {
          "name": "stdout",
          "output_type": "stream",
          "text": [
            "\n",
            "tensor([[0.4487, 0.4337],\n",
            "        [0.3907, 0.6465],\n",
            "        [0.5570, 0.2792],\n",
            "        [0.6836, 0.3294],\n",
            "        [0.3363, 0.4510],\n",
            "        [0.8117, 0.7344],\n",
            "        [0.6213, 0.2784],\n",
            "        [0.8496, 0.5286]], grad_fn=<AddmmBackward0>)\n",
            "tensor([0, 0, 1, 0, 0, 1, 1, 0])\n",
            "tensor([0, 1, 0, 0, 1, 0, 0, 0])\n"
          ]
        },
        {
          "name": "stderr",
          "output_type": "stream",
          "text": [
            "\r 46%|████▌     | 242/525 [11:13<13:34,  2.88s/it]"
          ]
        },
        {
          "name": "stdout",
          "output_type": "stream",
          "text": [
            "\n",
            "tensor([[ 0.5409,  0.2785],\n",
            "        [ 0.3847,  0.6724],\n",
            "        [ 0.4976, -0.1961],\n",
            "        [ 0.5413,  0.2185],\n",
            "        [ 0.3170,  0.8503],\n",
            "        [ 0.6506,  0.4720],\n",
            "        [ 0.4241,  0.5858],\n",
            "        [ 0.9115,  0.3985]], grad_fn=<AddmmBackward0>)\n",
            "tensor([0, 1, 1, 0, 0, 1, 1, 1])\n",
            "tensor([0, 1, 0, 0, 1, 0, 1, 0])\n"
          ]
        },
        {
          "name": "stderr",
          "output_type": "stream",
          "text": [
            "\r 46%|████▋     | 243/525 [11:16<13:25,  2.86s/it]"
          ]
        },
        {
          "name": "stdout",
          "output_type": "stream",
          "text": [
            "\n",
            "tensor([[ 0.3708,  0.5671],\n",
            "        [ 0.6050,  0.8141],\n",
            "        [-0.4421, -0.0909],\n",
            "        [ 0.2879,  0.2747],\n",
            "        [ 0.0732,  0.1204],\n",
            "        [ 0.6159,  0.8603],\n",
            "        [ 0.3332,  0.1727],\n",
            "        [ 0.4670,  1.1049]], grad_fn=<AddmmBackward0>)\n",
            "tensor([0, 1, 1, 0, 1, 1, 1, 0])\n",
            "tensor([1, 1, 1, 0, 1, 1, 0, 1])\n"
          ]
        },
        {
          "name": "stderr",
          "output_type": "stream",
          "text": [
            "\r 46%|████▋     | 244/525 [11:18<13:13,  2.83s/it]"
          ]
        },
        {
          "name": "stdout",
          "output_type": "stream",
          "text": [
            "\n",
            "tensor([[ 0.1747,  0.6397],\n",
            "        [ 1.1295,  0.2466],\n",
            "        [ 0.3844,  0.2963],\n",
            "        [ 0.0935,  0.2610],\n",
            "        [ 0.3374, -0.0046],\n",
            "        [ 0.3578,  0.9557],\n",
            "        [ 0.0506,  0.2962],\n",
            "        [ 0.5869,  0.2376]], grad_fn=<AddmmBackward0>)\n",
            "tensor([0, 0, 0, 1, 1, 1, 0, 0])\n",
            "tensor([1, 0, 0, 1, 0, 1, 1, 0])\n"
          ]
        },
        {
          "name": "stderr",
          "output_type": "stream",
          "text": [
            "\r 47%|████▋     | 245/525 [11:21<12:50,  2.75s/it]"
          ]
        },
        {
          "name": "stdout",
          "output_type": "stream",
          "text": [
            "\n",
            "tensor([[0.5560, 0.8500],\n",
            "        [0.5673, 0.5338],\n",
            "        [0.0305, 0.5208],\n",
            "        [0.3619, 0.7688],\n",
            "        [0.3864, 0.0546],\n",
            "        [0.1238, 1.1420],\n",
            "        [0.8033, 0.5076],\n",
            "        [0.8123, 0.6519]], grad_fn=<AddmmBackward0>)\n",
            "tensor([1, 0, 1, 1, 1, 1, 0, 1])\n",
            "tensor([1, 0, 1, 1, 0, 1, 0, 0])\n"
          ]
        },
        {
          "name": "stderr",
          "output_type": "stream",
          "text": [
            "\r 47%|████▋     | 246/525 [11:24<12:54,  2.78s/it]"
          ]
        },
        {
          "name": "stdout",
          "output_type": "stream",
          "text": [
            "\n",
            "tensor([[ 0.1676,  0.5561],\n",
            "        [ 0.3291,  0.5780],\n",
            "        [ 0.7675,  0.8511],\n",
            "        [ 0.1669,  0.8077],\n",
            "        [ 0.4094,  0.9311],\n",
            "        [ 0.6725,  1.3482],\n",
            "        [ 0.1060, -0.1572],\n",
            "        [-0.0025,  0.7804]], grad_fn=<AddmmBackward0>)\n",
            "tensor([0, 1, 0, 0, 0, 0, 0, 0])\n",
            "tensor([1, 1, 1, 1, 1, 1, 0, 1])\n"
          ]
        },
        {
          "name": "stderr",
          "output_type": "stream",
          "text": [
            "\r 47%|████▋     | 247/525 [11:27<13:00,  2.81s/it]"
          ]
        },
        {
          "name": "stdout",
          "output_type": "stream",
          "text": [
            "\n",
            "tensor([[ 0.3686,  0.6977],\n",
            "        [ 0.2253,  0.0791],\n",
            "        [ 0.1373,  0.3839],\n",
            "        [ 0.1817,  1.1032],\n",
            "        [ 0.4400,  0.8332],\n",
            "        [ 0.5282,  0.5015],\n",
            "        [ 0.2685, -0.0190],\n",
            "        [ 0.5165,  0.5470]], grad_fn=<AddmmBackward0>)\n",
            "tensor([0, 1, 0, 1, 1, 1, 0, 1])\n",
            "tensor([1, 0, 1, 1, 1, 0, 0, 1])\n"
          ]
        },
        {
          "name": "stderr",
          "output_type": "stream",
          "text": [
            "\r 47%|████▋     | 248/525 [11:29<13:05,  2.84s/it]"
          ]
        },
        {
          "name": "stdout",
          "output_type": "stream",
          "text": [
            "\n",
            "tensor([[0.3684, 0.5369],\n",
            "        [0.3267, 0.3399],\n",
            "        [0.3246, 0.8072],\n",
            "        [0.1306, 0.4486],\n",
            "        [0.6989, 0.9928],\n",
            "        [0.6632, 0.7101],\n",
            "        [0.2893, 0.5341],\n",
            "        [0.2367, 0.7481]], grad_fn=<AddmmBackward0>)\n",
            "tensor([1, 1, 0, 1, 0, 0, 0, 0])\n",
            "tensor([1, 1, 1, 1, 1, 1, 1, 1])\n"
          ]
        },
        {
          "name": "stderr",
          "output_type": "stream",
          "text": [
            "\r 47%|████▋     | 249/525 [11:32<13:07,  2.85s/it]"
          ]
        },
        {
          "name": "stdout",
          "output_type": "stream",
          "text": [
            "\n",
            "tensor([[0.5248, 0.5230],\n",
            "        [0.9039, 0.3578],\n",
            "        [0.9116, 0.9278],\n",
            "        [0.3391, 0.3718],\n",
            "        [0.3081, 0.6333],\n",
            "        [0.3943, 0.6072],\n",
            "        [0.8521, 0.5056],\n",
            "        [0.8273, 0.5323]], grad_fn=<AddmmBackward0>)\n",
            "tensor([0, 1, 1, 1, 0, 1, 1, 0])\n",
            "tensor([0, 0, 1, 1, 1, 1, 0, 0])\n"
          ]
        },
        {
          "name": "stderr",
          "output_type": "stream",
          "text": [
            "\r 48%|████▊     | 250/525 [11:35<12:42,  2.77s/it]"
          ]
        },
        {
          "name": "stdout",
          "output_type": "stream",
          "text": [
            "\n",
            "tensor([[0.7021, 0.3109],\n",
            "        [0.6762, 0.6435],\n",
            "        [0.3999, 0.8313],\n",
            "        [0.0691, 0.3912],\n",
            "        [0.5615, 0.0234],\n",
            "        [0.1496, 0.6076],\n",
            "        [1.0389, 0.4173],\n",
            "        [0.7096, 0.1233]], grad_fn=<AddmmBackward0>)\n",
            "tensor([0, 1, 0, 1, 0, 1, 1, 1])\n",
            "tensor([0, 0, 1, 1, 0, 1, 0, 0])\n"
          ]
        },
        {
          "name": "stderr",
          "output_type": "stream",
          "text": [
            "\r 48%|████▊     | 251/525 [11:38<12:20,  2.70s/it]"
          ]
        },
        {
          "name": "stdout",
          "output_type": "stream",
          "text": [
            "\n",
            "tensor([[1.1445, 0.3666],\n",
            "        [0.5157, 0.7450],\n",
            "        [0.3377, 0.4172],\n",
            "        [0.3501, 0.4075],\n",
            "        [0.2178, 0.0643],\n",
            "        [0.5835, 0.7187],\n",
            "        [0.9580, 0.5848],\n",
            "        [1.1588, 0.5231]], grad_fn=<AddmmBackward0>)\n",
            "tensor([0, 1, 0, 1, 1, 0, 0, 1])\n",
            "tensor([0, 1, 1, 1, 0, 1, 0, 0])\n"
          ]
        },
        {
          "name": "stderr",
          "output_type": "stream",
          "text": [
            "\r 48%|████▊     | 252/525 [11:40<12:39,  2.78s/it]"
          ]
        },
        {
          "name": "stdout",
          "output_type": "stream",
          "text": [
            "\n",
            "tensor([[ 0.6773,  1.0445],\n",
            "        [ 0.2483,  0.3413],\n",
            "        [ 0.1616,  0.1597],\n",
            "        [ 0.0876, -0.0839],\n",
            "        [ 0.4940,  0.2957],\n",
            "        [ 0.3037, -0.0588],\n",
            "        [ 1.1006,  0.4162],\n",
            "        [ 0.9688,  0.7537]], grad_fn=<AddmmBackward0>)\n",
            "tensor([0, 0, 0, 0, 0, 1, 1, 1])\n",
            "tensor([1, 1, 0, 0, 0, 0, 0, 0])\n"
          ]
        },
        {
          "name": "stderr",
          "output_type": "stream",
          "text": [
            "\r 48%|████▊     | 253/525 [11:44<13:00,  2.87s/it]"
          ]
        },
        {
          "name": "stdout",
          "output_type": "stream",
          "text": [
            "\n",
            "tensor([[0.6878, 0.6632],\n",
            "        [0.4735, 0.3752],\n",
            "        [0.7138, 0.8068],\n",
            "        [0.4780, 0.5470],\n",
            "        [0.4402, 0.7818],\n",
            "        [0.4784, 0.1715],\n",
            "        [0.4609, 0.4115],\n",
            "        [0.3293, 0.5908]], grad_fn=<AddmmBackward0>)\n",
            "tensor([1, 1, 1, 1, 1, 0, 1, 1])\n",
            "tensor([0, 0, 1, 1, 1, 0, 0, 1])\n"
          ]
        },
        {
          "name": "stderr",
          "output_type": "stream",
          "text": [
            "\r 48%|████▊     | 254/525 [11:46<12:58,  2.87s/it]"
          ]
        },
        {
          "name": "stdout",
          "output_type": "stream",
          "text": [
            "\n",
            "tensor([[0.5815, 0.5163],\n",
            "        [0.1509, 0.1389],\n",
            "        [0.1334, 0.9606],\n",
            "        [0.3237, 0.2398],\n",
            "        [0.8470, 0.6014],\n",
            "        [0.4467, 0.5218],\n",
            "        [0.3566, 0.8461],\n",
            "        [0.2176, 0.3395]], grad_fn=<AddmmBackward0>)\n",
            "tensor([0, 0, 0, 1, 1, 1, 1, 0])\n",
            "tensor([0, 0, 1, 0, 0, 1, 1, 1])\n"
          ]
        },
        {
          "name": "stderr",
          "output_type": "stream",
          "text": [
            "\r 49%|████▊     | 255/525 [11:49<12:38,  2.81s/it]"
          ]
        },
        {
          "name": "stdout",
          "output_type": "stream",
          "text": [
            "\n",
            "tensor([[-0.0909,  0.5790],\n",
            "        [ 0.3037,  0.7450],\n",
            "        [ 0.4120,  0.4456],\n",
            "        [ 0.3075,  0.6693],\n",
            "        [ 0.2392,  0.0447],\n",
            "        [ 0.3981,  0.5428],\n",
            "        [ 0.2899,  1.1136],\n",
            "        [ 0.5470,  0.5712]], grad_fn=<AddmmBackward0>)\n",
            "tensor([0, 1, 1, 0, 0, 1, 0, 1])\n",
            "tensor([1, 1, 1, 1, 0, 1, 1, 1])\n"
          ]
        },
        {
          "name": "stderr",
          "output_type": "stream",
          "text": [
            "\r 49%|████▉     | 256/525 [11:52<12:46,  2.85s/it]"
          ]
        },
        {
          "name": "stdout",
          "output_type": "stream",
          "text": [
            "\n",
            "tensor([[ 0.2503,  0.6901],\n",
            "        [ 0.6898,  1.2158],\n",
            "        [ 0.7600,  0.5932],\n",
            "        [ 0.4114,  0.6917],\n",
            "        [ 0.6289,  0.3566],\n",
            "        [-0.0407,  0.7258],\n",
            "        [ 0.8994,  0.2789],\n",
            "        [ 0.5028,  0.6821]], grad_fn=<AddmmBackward0>)\n",
            "tensor([1, 1, 1, 0, 1, 0, 0, 1])\n",
            "tensor([1, 1, 0, 1, 0, 1, 0, 1])\n"
          ]
        },
        {
          "name": "stderr",
          "output_type": "stream",
          "text": [
            "\r 49%|████▉     | 257/525 [11:55<13:05,  2.93s/it]"
          ]
        },
        {
          "name": "stdout",
          "output_type": "stream",
          "text": [
            "\n",
            "tensor([[0.1764, 1.1014],\n",
            "        [0.4209, 0.3304],\n",
            "        [0.4573, 0.8606],\n",
            "        [0.4699, 0.9946],\n",
            "        [0.5648, 0.8198],\n",
            "        [0.3702, 0.9590],\n",
            "        [0.0294, 0.5980],\n",
            "        [0.3969, 0.6638]], grad_fn=<AddmmBackward0>)\n",
            "tensor([0, 0, 1, 1, 1, 1, 0, 1])\n",
            "tensor([1, 0, 1, 1, 1, 1, 1, 1])\n"
          ]
        },
        {
          "name": "stderr",
          "output_type": "stream",
          "text": [
            "\r 49%|████▉     | 258/525 [11:58<13:11,  2.96s/it]"
          ]
        },
        {
          "name": "stdout",
          "output_type": "stream",
          "text": [
            "\n",
            "tensor([[-0.0885,  1.1227],\n",
            "        [-0.2895,  0.5841],\n",
            "        [ 0.3682,  0.4978],\n",
            "        [ 0.2515,  0.2351],\n",
            "        [ 0.4700,  0.6863],\n",
            "        [ 0.5322,  1.0023],\n",
            "        [ 0.4901,  0.7485],\n",
            "        [-0.1973,  0.4974]], grad_fn=<AddmmBackward0>)\n",
            "tensor([0, 0, 0, 1, 1, 1, 1, 0])\n",
            "tensor([1, 1, 1, 0, 1, 1, 1, 1])\n"
          ]
        },
        {
          "name": "stderr",
          "output_type": "stream",
          "text": [
            "\r 49%|████▉     | 259/525 [12:01<12:58,  2.93s/it]"
          ]
        },
        {
          "name": "stdout",
          "output_type": "stream",
          "text": [
            "\n",
            "tensor([[-0.2027,  1.1859],\n",
            "        [-0.2161,  1.0160],\n",
            "        [-0.1178,  1.0865],\n",
            "        [-0.0823,  0.4869],\n",
            "        [ 0.1193,  0.6294],\n",
            "        [-0.1281,  0.7707],\n",
            "        [-0.1857,  0.1451],\n",
            "        [ 0.6110,  0.5764]], grad_fn=<AddmmBackward0>)\n",
            "tensor([0, 1, 1, 1, 1, 0, 0, 0])\n",
            "tensor([1, 1, 1, 1, 1, 1, 1, 0])\n"
          ]
        },
        {
          "name": "stderr",
          "output_type": "stream",
          "text": [
            "\r 50%|████▉     | 260/525 [12:04<12:52,  2.91s/it]"
          ]
        },
        {
          "name": "stdout",
          "output_type": "stream",
          "text": [
            "\n",
            "tensor([[ 0.0207,  0.9209],\n",
            "        [ 0.3065,  0.5370],\n",
            "        [ 0.8335,  0.8331],\n",
            "        [ 0.0694,  0.3036],\n",
            "        [ 0.1190,  1.2727],\n",
            "        [-0.1554,  0.8316],\n",
            "        [ 0.5423,  0.8713],\n",
            "        [-0.0486,  0.3019]], grad_fn=<AddmmBackward0>)\n",
            "tensor([1, 0, 0, 1, 1, 1, 0, 1])\n",
            "tensor([1, 1, 0, 1, 1, 1, 1, 1])\n"
          ]
        },
        {
          "name": "stderr",
          "output_type": "stream",
          "text": [
            "\r 50%|████▉     | 261/525 [12:06<12:20,  2.80s/it]"
          ]
        },
        {
          "name": "stdout",
          "output_type": "stream",
          "text": [
            "\n",
            "tensor([[ 0.3246,  0.9156],\n",
            "        [ 0.0703,  0.3450],\n",
            "        [ 0.3577,  1.1025],\n",
            "        [ 0.5209,  0.3590],\n",
            "        [ 0.3364,  0.3691],\n",
            "        [ 0.1488,  0.1075],\n",
            "        [-0.0148,  0.8137],\n",
            "        [ 0.2492,  0.1326]], grad_fn=<AddmmBackward0>)\n",
            "tensor([1, 0, 1, 1, 0, 0, 0, 0])\n",
            "tensor([1, 1, 1, 0, 1, 0, 1, 0])\n"
          ]
        },
        {
          "name": "stderr",
          "output_type": "stream",
          "text": [
            "\r 50%|████▉     | 262/525 [12:09<12:08,  2.77s/it]"
          ]
        },
        {
          "name": "stdout",
          "output_type": "stream",
          "text": [
            "\n",
            "tensor([[4.4273e-01, 7.3159e-01],\n",
            "        [8.7476e-02, 7.5419e-01],\n",
            "        [8.7727e-01, 3.5576e-01],\n",
            "        [9.0138e-04, 2.8005e-03],\n",
            "        [4.4649e-01, 4.8298e-01],\n",
            "        [4.7228e-01, 6.1030e-01],\n",
            "        [6.6200e-01, 8.0433e-01],\n",
            "        [6.1201e-01, 1.0044e+00]], grad_fn=<AddmmBackward0>)\n",
            "tensor([0, 1, 1, 1, 0, 1, 1, 0])\n",
            "tensor([1, 1, 0, 1, 1, 1, 1, 1])\n"
          ]
        },
        {
          "name": "stderr",
          "output_type": "stream",
          "text": [
            "\r 50%|█████     | 263/525 [12:12<12:01,  2.75s/it]"
          ]
        },
        {
          "name": "stdout",
          "output_type": "stream",
          "text": [
            "\n",
            "tensor([[ 0.6871,  0.8704],\n",
            "        [ 0.6571,  0.4437],\n",
            "        [ 0.4879,  0.7180],\n",
            "        [-0.0293,  0.3486],\n",
            "        [ 0.3530,  0.7764],\n",
            "        [ 0.3437,  0.1429],\n",
            "        [ 0.4328,  0.7045],\n",
            "        [ 0.9655,  0.7255]], grad_fn=<AddmmBackward0>)\n",
            "tensor([0, 1, 1, 1, 1, 1, 0, 1])\n",
            "tensor([1, 0, 1, 1, 1, 0, 1, 0])\n"
          ]
        },
        {
          "name": "stderr",
          "output_type": "stream",
          "text": [
            "\r 50%|█████     | 264/525 [12:15<11:58,  2.75s/it]"
          ]
        },
        {
          "name": "stdout",
          "output_type": "stream",
          "text": [
            "\n",
            "tensor([[-0.2645,  0.5562],\n",
            "        [ 0.3937,  0.1206],\n",
            "        [ 0.5565,  0.7531],\n",
            "        [ 0.8409,  0.2817],\n",
            "        [-0.3490,  0.4314],\n",
            "        [-0.0622,  0.9240],\n",
            "        [ 0.2684,  1.1702],\n",
            "        [ 0.2318,  0.8232]], grad_fn=<AddmmBackward0>)\n",
            "tensor([0, 0, 0, 0, 1, 0, 1, 0])\n",
            "tensor([1, 0, 1, 0, 1, 1, 1, 1])\n"
          ]
        },
        {
          "name": "stderr",
          "output_type": "stream",
          "text": [
            "\r 50%|█████     | 265/525 [12:17<11:53,  2.74s/it]"
          ]
        },
        {
          "name": "stdout",
          "output_type": "stream",
          "text": [
            "\n",
            "tensor([[ 0.1461,  0.8759],\n",
            "        [ 0.3004,  0.5006],\n",
            "        [-0.3282,  0.6118],\n",
            "        [ 0.1061, -0.0958],\n",
            "        [ 0.3116,  0.7002],\n",
            "        [ 0.0045,  1.0327],\n",
            "        [-0.0289,  0.3357],\n",
            "        [ 1.1170,  0.7747]], grad_fn=<AddmmBackward0>)\n",
            "tensor([1, 1, 1, 0, 0, 1, 1, 0])\n",
            "tensor([1, 1, 1, 0, 1, 1, 1, 0])\n"
          ]
        },
        {
          "name": "stderr",
          "output_type": "stream",
          "text": [
            "\r 51%|█████     | 266/525 [12:20<11:52,  2.75s/it]"
          ]
        },
        {
          "name": "stdout",
          "output_type": "stream",
          "text": [
            "\n",
            "tensor([[0.6840, 0.5408],\n",
            "        [0.5322, 0.2936],\n",
            "        [0.1572, 0.2423],\n",
            "        [1.0429, 0.5036],\n",
            "        [0.2657, 0.5608],\n",
            "        [0.1406, 0.2928],\n",
            "        [0.1345, 0.5873],\n",
            "        [0.2753, 0.7192]], grad_fn=<AddmmBackward0>)\n",
            "tensor([1, 1, 1, 1, 1, 0, 0, 0])\n",
            "tensor([0, 0, 1, 0, 1, 1, 1, 1])\n"
          ]
        },
        {
          "name": "stderr",
          "output_type": "stream",
          "text": [
            "\r 51%|█████     | 267/525 [12:23<12:19,  2.87s/it]"
          ]
        },
        {
          "name": "stdout",
          "output_type": "stream",
          "text": [
            "\n",
            "tensor([[-0.2367, -0.3020],\n",
            "        [ 0.4399,  0.6495],\n",
            "        [ 0.0493,  0.0453],\n",
            "        [-0.5202,  0.2397],\n",
            "        [ 0.3192,  0.6371],\n",
            "        [-0.1749,  0.0314],\n",
            "        [ 0.3480,  0.2582],\n",
            "        [ 0.0597,  0.3121]], grad_fn=<AddmmBackward0>)\n",
            "tensor([0, 0, 0, 0, 1, 0, 1, 0])\n",
            "tensor([0, 1, 0, 1, 1, 1, 0, 1])\n"
          ]
        },
        {
          "name": "stderr",
          "output_type": "stream",
          "text": [
            "\r 51%|█████     | 268/525 [12:26<12:16,  2.86s/it]"
          ]
        },
        {
          "name": "stdout",
          "output_type": "stream",
          "text": [
            "\n",
            "tensor([[0.2004, 0.3975],\n",
            "        [0.5052, 0.1571],\n",
            "        [0.7826, 0.5357],\n",
            "        [0.9095, 0.9073],\n",
            "        [0.1348, 0.1378],\n",
            "        [0.3744, 0.4485],\n",
            "        [0.4752, 0.1239],\n",
            "        [0.1749, 0.0415]], grad_fn=<AddmmBackward0>)\n",
            "tensor([0, 0, 0, 0, 1, 0, 1, 1])\n",
            "tensor([1, 0, 0, 0, 1, 1, 0, 0])\n"
          ]
        },
        {
          "name": "stderr",
          "output_type": "stream",
          "text": [
            "\r 51%|█████     | 269/525 [12:29<12:15,  2.87s/it]"
          ]
        },
        {
          "name": "stdout",
          "output_type": "stream",
          "text": [
            "\n",
            "tensor([[ 0.8842,  1.0410],\n",
            "        [ 0.5021,  0.8098],\n",
            "        [ 0.1873,  0.9219],\n",
            "        [ 0.4134,  0.2414],\n",
            "        [ 0.5789,  0.2636],\n",
            "        [-0.0104,  0.3840],\n",
            "        [ 0.7406,  0.5754],\n",
            "        [ 0.5390,  0.2801]], grad_fn=<AddmmBackward0>)\n",
            "tensor([0, 0, 1, 1, 0, 1, 1, 1])\n",
            "tensor([1, 1, 1, 0, 0, 1, 0, 0])\n"
          ]
        },
        {
          "name": "stderr",
          "output_type": "stream",
          "text": [
            "\r 51%|█████▏    | 270/525 [12:32<11:53,  2.80s/it]"
          ]
        },
        {
          "name": "stdout",
          "output_type": "stream",
          "text": [
            "\n",
            "tensor([[0.0384, 0.4618],\n",
            "        [0.5119, 0.0729],\n",
            "        [0.4579, 0.5758],\n",
            "        [0.2635, 0.4645],\n",
            "        [0.3361, 0.1288],\n",
            "        [0.1847, 0.1551],\n",
            "        [0.2416, 0.6161],\n",
            "        [0.4881, 0.3841]], grad_fn=<AddmmBackward0>)\n",
            "tensor([0, 1, 1, 0, 1, 1, 0, 1])\n",
            "tensor([1, 0, 1, 1, 0, 0, 1, 0])\n"
          ]
        },
        {
          "name": "stderr",
          "output_type": "stream",
          "text": [
            "\r 52%|█████▏    | 271/525 [12:34<11:43,  2.77s/it]"
          ]
        },
        {
          "name": "stdout",
          "output_type": "stream",
          "text": [
            "\n",
            "tensor([[ 0.7747,  0.2661],\n",
            "        [ 0.6991,  0.1517],\n",
            "        [ 0.3052, -0.4159],\n",
            "        [ 0.6233,  0.3770],\n",
            "        [ 0.5933,  0.1576],\n",
            "        [ 0.5433,  0.0611],\n",
            "        [ 0.1340,  0.3320],\n",
            "        [ 1.2499,  0.1616]], grad_fn=<AddmmBackward0>)\n",
            "tensor([1, 0, 0, 1, 0, 1, 0, 1])\n",
            "tensor([0, 0, 0, 0, 0, 0, 1, 0])\n"
          ]
        },
        {
          "name": "stderr",
          "output_type": "stream",
          "text": [
            "\r 52%|█████▏    | 272/525 [12:37<11:58,  2.84s/it]"
          ]
        },
        {
          "name": "stdout",
          "output_type": "stream",
          "text": [
            "\n",
            "tensor([[ 0.0075,  0.0679],\n",
            "        [ 0.6109,  0.0743],\n",
            "        [ 0.7511,  0.4864],\n",
            "        [ 0.5067,  0.4389],\n",
            "        [ 0.8004,  0.7325],\n",
            "        [ 0.7091,  0.6118],\n",
            "        [ 0.7083,  0.5540],\n",
            "        [ 0.3663, -0.2193]], grad_fn=<AddmmBackward0>)\n",
            "tensor([0, 1, 1, 1, 1, 0, 1, 0])\n",
            "tensor([1, 0, 0, 0, 0, 0, 0, 0])\n"
          ]
        },
        {
          "name": "stderr",
          "output_type": "stream",
          "text": [
            "\r 52%|█████▏    | 273/525 [12:40<12:10,  2.90s/it]"
          ]
        },
        {
          "name": "stdout",
          "output_type": "stream",
          "text": [
            "\n",
            "tensor([[0.7042, 0.9076],\n",
            "        [0.3712, 0.2169],\n",
            "        [0.3806, 0.0656],\n",
            "        [0.6300, 0.5726],\n",
            "        [0.9929, 0.3076],\n",
            "        [0.4605, 0.0908],\n",
            "        [0.6858, 0.2164],\n",
            "        [0.7351, 0.4442]], grad_fn=<AddmmBackward0>)\n",
            "tensor([0, 0, 0, 0, 0, 0, 0, 0])\n",
            "tensor([1, 0, 0, 0, 0, 0, 0, 0])\n"
          ]
        },
        {
          "name": "stderr",
          "output_type": "stream",
          "text": [
            "\r 52%|█████▏    | 274/525 [12:43<12:01,  2.88s/it]"
          ]
        },
        {
          "name": "stdout",
          "output_type": "stream",
          "text": [
            "\n",
            "tensor([[ 0.3417,  0.5105],\n",
            "        [ 0.4071, -0.0526],\n",
            "        [-0.0898,  0.0463],\n",
            "        [ 0.4043,  0.1625],\n",
            "        [ 0.7353,  0.2567],\n",
            "        [ 0.9168,  0.0560],\n",
            "        [ 0.6910,  0.1223],\n",
            "        [ 0.3009,  0.1791]], grad_fn=<AddmmBackward0>)\n",
            "tensor([0, 0, 0, 1, 1, 1, 1, 0])\n",
            "tensor([1, 0, 1, 0, 0, 0, 0, 0])\n"
          ]
        },
        {
          "name": "stderr",
          "output_type": "stream",
          "text": [
            "\r 52%|█████▏    | 275/525 [12:46<11:57,  2.87s/it]"
          ]
        },
        {
          "name": "stdout",
          "output_type": "stream",
          "text": [
            "\n",
            "tensor([[ 0.6469, -0.1349],\n",
            "        [ 0.2937, -0.1450],\n",
            "        [ 0.5520,  0.2106],\n",
            "        [ 0.2704,  0.4363],\n",
            "        [ 0.3090,  0.3679],\n",
            "        [ 0.4485,  0.2145],\n",
            "        [ 0.7461,  0.3061],\n",
            "        [ 0.1338, -0.0052]], grad_fn=<AddmmBackward0>)\n",
            "tensor([0, 1, 0, 0, 1, 1, 1, 1])\n",
            "tensor([0, 0, 0, 1, 1, 0, 0, 0])\n"
          ]
        },
        {
          "name": "stderr",
          "output_type": "stream",
          "text": [
            "\r 53%|█████▎    | 276/525 [12:49<11:53,  2.87s/it]"
          ]
        },
        {
          "name": "stdout",
          "output_type": "stream",
          "text": [
            "\n",
            "tensor([[ 0.6185,  0.3815],\n",
            "        [ 0.3298,  0.0363],\n",
            "        [ 0.9419,  0.2005],\n",
            "        [ 0.9504, -0.0481],\n",
            "        [ 0.4578, -0.1521],\n",
            "        [ 0.7565,  0.2364],\n",
            "        [ 0.4564,  0.3430],\n",
            "        [ 0.5517, -0.0079]], grad_fn=<AddmmBackward0>)\n",
            "tensor([0, 0, 0, 1, 0, 1, 1, 1])\n",
            "tensor([0, 0, 0, 0, 0, 0, 0, 0])\n"
          ]
        },
        {
          "name": "stderr",
          "output_type": "stream",
          "text": [
            "\r 53%|█████▎    | 277/525 [12:52<11:59,  2.90s/it]"
          ]
        },
        {
          "name": "stdout",
          "output_type": "stream",
          "text": [
            "\n",
            "tensor([[ 0.8222,  0.4842],\n",
            "        [ 0.6732,  0.2588],\n",
            "        [ 0.8804,  0.4570],\n",
            "        [ 0.7946,  0.2415],\n",
            "        [ 1.1726,  0.4876],\n",
            "        [ 1.0355, -0.2087],\n",
            "        [ 0.2226,  0.2037],\n",
            "        [ 0.6337,  0.3066]], grad_fn=<AddmmBackward0>)\n",
            "tensor([1, 1, 0, 0, 1, 0, 1, 0])\n",
            "tensor([0, 0, 0, 0, 0, 0, 0, 0])\n"
          ]
        },
        {
          "name": "stderr",
          "output_type": "stream",
          "text": [
            "\r 53%|█████▎    | 278/525 [12:54<11:27,  2.78s/it]"
          ]
        },
        {
          "name": "stdout",
          "output_type": "stream",
          "text": [
            "\n",
            "tensor([[ 0.5814,  0.8055],\n",
            "        [ 0.6916, -0.0248],\n",
            "        [ 0.9353,  0.4458],\n",
            "        [ 0.3143,  0.3084],\n",
            "        [ 0.6540,  0.5742],\n",
            "        [ 1.0601,  0.3637],\n",
            "        [ 0.9534, -0.1754],\n",
            "        [ 0.7075,  0.3141]], grad_fn=<AddmmBackward0>)\n",
            "tensor([0, 0, 0, 1, 1, 1, 0, 0])\n",
            "tensor([1, 0, 0, 0, 0, 0, 0, 0])\n"
          ]
        },
        {
          "name": "stderr",
          "output_type": "stream",
          "text": [
            "\r 53%|█████▎    | 279/525 [12:57<11:22,  2.78s/it]"
          ]
        },
        {
          "name": "stdout",
          "output_type": "stream",
          "text": [
            "\n",
            "tensor([[ 0.5531,  0.2826],\n",
            "        [ 0.3437,  0.1390],\n",
            "        [ 0.9935,  0.4511],\n",
            "        [ 0.2905,  0.4301],\n",
            "        [ 0.4546,  0.4466],\n",
            "        [ 0.6038,  0.2445],\n",
            "        [ 0.9657,  0.0152],\n",
            "        [ 0.6890, -0.1813]], grad_fn=<AddmmBackward0>)\n",
            "tensor([0, 1, 0, 1, 1, 1, 1, 1])\n",
            "tensor([0, 0, 0, 1, 0, 0, 0, 0])\n"
          ]
        },
        {
          "name": "stderr",
          "output_type": "stream",
          "text": [
            "\r 53%|█████▎    | 280/525 [13:00<10:49,  2.65s/it]"
          ]
        },
        {
          "name": "stdout",
          "output_type": "stream",
          "text": [
            "\n",
            "tensor([[ 0.2270,  0.5760],\n",
            "        [ 0.8533,  0.4618],\n",
            "        [ 0.3759,  0.7384],\n",
            "        [ 0.3239,  0.2229],\n",
            "        [ 0.9993,  0.5679],\n",
            "        [ 1.0861,  0.3327],\n",
            "        [ 0.2380, -0.0732],\n",
            "        [ 0.7506,  0.4498]], grad_fn=<AddmmBackward0>)\n",
            "tensor([1, 1, 1, 0, 1, 1, 0, 0])\n",
            "tensor([1, 0, 1, 0, 0, 0, 0, 0])\n"
          ]
        },
        {
          "name": "stderr",
          "output_type": "stream",
          "text": [
            "\r 54%|█████▎    | 281/525 [13:02<11:02,  2.72s/it]"
          ]
        },
        {
          "name": "stdout",
          "output_type": "stream",
          "text": [
            "\n",
            "tensor([[ 0.2397,  0.2709],\n",
            "        [-0.2519,  0.4279],\n",
            "        [ 0.2911,  0.3462],\n",
            "        [ 0.2505,  0.2042],\n",
            "        [-0.2500,  0.4448],\n",
            "        [ 0.5196,  0.3769],\n",
            "        [ 0.3526,  0.4535],\n",
            "        [ 0.1657,  0.1259]], grad_fn=<AddmmBackward0>)\n",
            "tensor([0, 1, 1, 1, 1, 1, 0, 0])\n",
            "tensor([1, 1, 1, 0, 1, 0, 1, 0])\n"
          ]
        },
        {
          "name": "stderr",
          "output_type": "stream",
          "text": [
            "\r 54%|█████▎    | 282/525 [13:06<11:32,  2.85s/it]"
          ]
        },
        {
          "name": "stdout",
          "output_type": "stream",
          "text": [
            "\n",
            "tensor([[ 0.1670,  0.6400],\n",
            "        [ 0.2454,  0.7844],\n",
            "        [ 0.2025,  0.2336],\n",
            "        [-0.1085,  0.5719],\n",
            "        [ 0.1193,  0.8075],\n",
            "        [ 0.2631,  0.8879],\n",
            "        [-0.3671,  0.8305],\n",
            "        [ 0.4789,  0.4360]], grad_fn=<AddmmBackward0>)\n",
            "tensor([0, 0, 0, 1, 1, 1, 1, 1])\n",
            "tensor([1, 1, 1, 1, 1, 1, 1, 0])\n"
          ]
        },
        {
          "name": "stderr",
          "output_type": "stream",
          "text": [
            "\r 54%|█████▍    | 283/525 [13:09<11:40,  2.90s/it]"
          ]
        },
        {
          "name": "stdout",
          "output_type": "stream",
          "text": [
            "\n",
            "tensor([[-0.0217,  0.5982],\n",
            "        [-0.1979,  0.9423],\n",
            "        [ 0.0951,  0.8099],\n",
            "        [-0.3318,  0.9230],\n",
            "        [ 0.4069,  0.9327],\n",
            "        [-0.2071,  0.4526],\n",
            "        [-0.0487,  0.8451],\n",
            "        [-0.3348,  0.4950]], grad_fn=<AddmmBackward0>)\n",
            "tensor([0, 1, 1, 0, 0, 1, 1, 1])\n",
            "tensor([1, 1, 1, 1, 1, 1, 1, 1])\n"
          ]
        },
        {
          "name": "stderr",
          "output_type": "stream",
          "text": [
            "\r 54%|█████▍    | 284/525 [13:11<10:49,  2.69s/it]"
          ]
        },
        {
          "name": "stdout",
          "output_type": "stream",
          "text": [
            "\n",
            "tensor([[-0.2879,  0.9471],\n",
            "        [-0.0295,  0.6071],\n",
            "        [-0.6563,  0.7502],\n",
            "        [ 0.2497,  0.8809],\n",
            "        [ 0.6369,  0.9423],\n",
            "        [ 0.1402,  1.3236],\n",
            "        [ 0.0341,  1.1581],\n",
            "        [-0.2978,  0.8788]], grad_fn=<AddmmBackward0>)\n",
            "tensor([0, 0, 0, 0, 0, 1, 0, 1])\n",
            "tensor([1, 1, 1, 1, 1, 1, 1, 1])\n"
          ]
        },
        {
          "name": "stderr",
          "output_type": "stream",
          "text": [
            "\r 54%|█████▍    | 285/525 [13:14<10:51,  2.71s/it]"
          ]
        },
        {
          "name": "stdout",
          "output_type": "stream",
          "text": [
            "\n",
            "tensor([[ 0.2285,  0.6058],\n",
            "        [-0.2546,  0.0750],\n",
            "        [ 0.0789,  1.0175],\n",
            "        [-0.1819,  1.1178],\n",
            "        [-0.6115,  0.4780],\n",
            "        [ 0.3051,  0.8130],\n",
            "        [-0.2393,  1.0062],\n",
            "        [-0.5715,  0.0931]], grad_fn=<AddmmBackward0>)\n",
            "tensor([1, 0, 0, 0, 0, 1, 0, 0])\n",
            "tensor([1, 1, 1, 1, 1, 1, 1, 1])\n"
          ]
        },
        {
          "name": "stderr",
          "output_type": "stream",
          "text": [
            "\r 54%|█████▍    | 286/525 [13:16<10:51,  2.72s/it]"
          ]
        },
        {
          "name": "stdout",
          "output_type": "stream",
          "text": [
            "\n",
            "tensor([[-0.1028,  0.5733],\n",
            "        [-0.0675,  0.7126],\n",
            "        [ 0.2419,  0.7713],\n",
            "        [-0.0454,  0.3763],\n",
            "        [-0.5762,  0.5317],\n",
            "        [ 0.1225,  0.4076],\n",
            "        [ 0.3207,  0.6295],\n",
            "        [ 0.0615,  0.9691]], grad_fn=<AddmmBackward0>)\n",
            "tensor([0, 0, 0, 1, 0, 1, 1, 0])\n",
            "tensor([1, 1, 1, 1, 1, 1, 1, 1])\n"
          ]
        },
        {
          "name": "stderr",
          "output_type": "stream",
          "text": [
            "\r 55%|█████▍    | 287/525 [13:19<11:03,  2.79s/it]"
          ]
        },
        {
          "name": "stdout",
          "output_type": "stream",
          "text": [
            "\n",
            "tensor([[ 0.2139,  1.0243],\n",
            "        [-0.0349,  0.6280],\n",
            "        [ 0.1547,  0.9371],\n",
            "        [ 0.2319, -0.0691],\n",
            "        [ 0.4589,  0.4791],\n",
            "        [ 0.3646,  0.3649],\n",
            "        [ 0.0413,  0.9529],\n",
            "        [ 0.2701, -0.0554]], grad_fn=<AddmmBackward0>)\n",
            "tensor([1, 1, 1, 1, 0, 1, 1, 0])\n",
            "tensor([1, 1, 1, 0, 1, 1, 1, 0])\n"
          ]
        },
        {
          "name": "stderr",
          "output_type": "stream",
          "text": [
            "\r 55%|█████▍    | 288/525 [13:22<11:11,  2.83s/it]"
          ]
        },
        {
          "name": "stdout",
          "output_type": "stream",
          "text": [
            "\n",
            "tensor([[0.2503, 0.5236],\n",
            "        [0.3691, 0.4915],\n",
            "        [0.7505, 0.6784],\n",
            "        [0.3544, 0.2121],\n",
            "        [0.5219, 0.6910],\n",
            "        [0.1111, 0.3938],\n",
            "        [0.2415, 0.6349],\n",
            "        [0.3561, 0.2094]], grad_fn=<AddmmBackward0>)\n",
            "tensor([0, 1, 1, 1, 0, 0, 0, 1])\n",
            "tensor([1, 1, 0, 0, 1, 1, 1, 0])\n"
          ]
        },
        {
          "name": "stderr",
          "output_type": "stream",
          "text": [
            "\r 55%|█████▌    | 289/525 [13:25<11:02,  2.81s/it]"
          ]
        },
        {
          "name": "stdout",
          "output_type": "stream",
          "text": [
            "\n",
            "tensor([[ 0.2945,  0.3101],\n",
            "        [ 0.2248,  0.5769],\n",
            "        [ 0.4107, -0.1502],\n",
            "        [ 0.4660, -0.0247],\n",
            "        [ 0.4498,  0.3187],\n",
            "        [ 0.7690,  0.1033],\n",
            "        [-0.1578,  0.0089],\n",
            "        [ 0.8785,  0.8243]], grad_fn=<AddmmBackward0>)\n",
            "tensor([1, 0, 0, 0, 1, 0, 1, 1])\n",
            "tensor([1, 1, 0, 0, 0, 0, 1, 0])\n"
          ]
        },
        {
          "name": "stderr",
          "output_type": "stream",
          "text": [
            "\r 55%|█████▌    | 290/525 [13:27<10:38,  2.72s/it]"
          ]
        },
        {
          "name": "stdout",
          "output_type": "stream",
          "text": [
            "\n",
            "tensor([[ 0.2025, -0.0550],\n",
            "        [ 0.2169,  0.4513],\n",
            "        [ 0.1276, -0.0028],\n",
            "        [ 0.0587,  0.3522],\n",
            "        [ 0.8284,  0.3528],\n",
            "        [ 0.3618, -0.4681],\n",
            "        [ 0.4730,  0.5013],\n",
            "        [-0.2349,  0.2802]], grad_fn=<AddmmBackward0>)\n",
            "tensor([0, 1, 1, 1, 0, 1, 1, 1])\n",
            "tensor([0, 1, 0, 1, 0, 0, 1, 1])\n"
          ]
        },
        {
          "name": "stderr",
          "output_type": "stream",
          "text": [
            "\r 55%|█████▌    | 291/525 [13:30<10:43,  2.75s/it]"
          ]
        },
        {
          "name": "stdout",
          "output_type": "stream",
          "text": [
            "\n",
            "tensor([[ 0.6172,  0.6813],\n",
            "        [ 0.3656,  0.5582],\n",
            "        [ 0.0757, -0.1130],\n",
            "        [ 0.3044,  0.3052],\n",
            "        [ 0.4292,  0.7206],\n",
            "        [ 0.3717, -0.0584],\n",
            "        [ 0.7492,  0.4931],\n",
            "        [ 0.0712,  0.1944]], grad_fn=<AddmmBackward0>)\n",
            "tensor([1, 1, 1, 1, 0, 1, 1, 1])\n",
            "tensor([1, 1, 0, 1, 1, 0, 0, 1])\n"
          ]
        },
        {
          "name": "stderr",
          "output_type": "stream",
          "text": [
            "\r 56%|█████▌    | 292/525 [13:33<10:30,  2.71s/it]"
          ]
        },
        {
          "name": "stdout",
          "output_type": "stream",
          "text": [
            "\n",
            "tensor([[ 0.2518,  0.0773],\n",
            "        [ 0.0943,  0.2097],\n",
            "        [-0.0410,  0.3951],\n",
            "        [ 0.6931,  0.2090],\n",
            "        [ 0.3829,  0.6562],\n",
            "        [ 0.0445,  0.3841],\n",
            "        [-0.0277,  0.3783],\n",
            "        [-0.1832,  0.1126]], grad_fn=<AddmmBackward0>)\n",
            "tensor([1, 0, 1, 1, 0, 1, 0, 1])\n",
            "tensor([0, 1, 1, 0, 1, 1, 1, 1])\n"
          ]
        },
        {
          "name": "stderr",
          "output_type": "stream",
          "text": [
            "\r 56%|█████▌    | 293/525 [13:36<10:40,  2.76s/it]"
          ]
        },
        {
          "name": "stdout",
          "output_type": "stream",
          "text": [
            "\n",
            "tensor([[-0.1329,  0.0947],\n",
            "        [ 0.5163,  0.3596],\n",
            "        [-0.0673, -0.2678],\n",
            "        [-0.2469,  0.2753],\n",
            "        [ 0.0676,  0.3765],\n",
            "        [ 0.2230,  0.4419],\n",
            "        [-0.0768, -0.2113],\n",
            "        [ 0.5058,  0.1980]], grad_fn=<AddmmBackward0>)\n",
            "tensor([0, 1, 1, 1, 0, 0, 0, 1])\n",
            "tensor([1, 0, 0, 1, 1, 1, 0, 0])\n"
          ]
        },
        {
          "name": "stderr",
          "output_type": "stream",
          "text": [
            "\r 56%|█████▌    | 294/525 [13:38<10:16,  2.67s/it]"
          ]
        },
        {
          "name": "stdout",
          "output_type": "stream",
          "text": [
            "\n",
            "tensor([[ 0.4137,  0.1235],\n",
            "        [ 0.2287,  0.0677],\n",
            "        [-0.2506,  0.5998],\n",
            "        [ 0.3699,  0.3537],\n",
            "        [-0.2602,  0.0403],\n",
            "        [ 0.3182,  0.2537],\n",
            "        [-0.1738,  0.4496],\n",
            "        [-0.0010,  0.5059]], grad_fn=<AddmmBackward0>)\n",
            "tensor([0, 0, 0, 0, 1, 0, 1, 0])\n",
            "tensor([0, 0, 1, 0, 1, 0, 1, 1])\n"
          ]
        },
        {
          "name": "stderr",
          "output_type": "stream",
          "text": [
            "\r 56%|█████▌    | 295/525 [13:41<10:17,  2.69s/it]"
          ]
        },
        {
          "name": "stdout",
          "output_type": "stream",
          "text": [
            "\n",
            "tensor([[ 3.9983e-02,  5.9478e-01],\n",
            "        [ 5.5585e-04,  1.2060e-01],\n",
            "        [-1.0469e-01,  1.3446e+00],\n",
            "        [ 3.2751e-01,  5.2507e-01],\n",
            "        [-1.3514e-01,  3.8825e-01],\n",
            "        [ 4.5255e-01, -3.4796e-01],\n",
            "        [ 2.3157e-01,  7.9888e-01],\n",
            "        [ 1.7492e-01,  6.1992e-01]], grad_fn=<AddmmBackward0>)\n",
            "tensor([0, 0, 1, 1, 0, 1, 1, 0])\n",
            "tensor([1, 1, 1, 1, 1, 0, 1, 1])\n"
          ]
        },
        {
          "name": "stderr",
          "output_type": "stream",
          "text": [
            "\r 56%|█████▋    | 296/525 [13:44<10:22,  2.72s/it]"
          ]
        },
        {
          "name": "stdout",
          "output_type": "stream",
          "text": [
            "\n",
            "tensor([[ 0.3711,  0.4312],\n",
            "        [ 0.2160,  0.3137],\n",
            "        [ 0.1352,  0.1131],\n",
            "        [ 0.0442,  0.4981],\n",
            "        [-0.0457,  0.4351],\n",
            "        [ 0.6961,  0.3798],\n",
            "        [ 0.9005,  0.3875],\n",
            "        [ 0.3647,  0.6095]], grad_fn=<AddmmBackward0>)\n",
            "tensor([1, 0, 1, 1, 1, 1, 1, 1])\n",
            "tensor([1, 1, 0, 1, 1, 0, 0, 1])\n"
          ]
        },
        {
          "name": "stderr",
          "output_type": "stream",
          "text": [
            "\r 57%|█████▋    | 297/525 [13:47<10:26,  2.75s/it]"
          ]
        },
        {
          "name": "stdout",
          "output_type": "stream",
          "text": [
            "\n",
            "tensor([[ 0.1316,  0.7348],\n",
            "        [ 0.1264,  0.4908],\n",
            "        [ 0.3567,  0.7363],\n",
            "        [ 0.4110,  0.4507],\n",
            "        [ 0.4699,  0.2276],\n",
            "        [-0.1346,  0.7550],\n",
            "        [ 0.4278,  0.7124],\n",
            "        [ 0.2567,  0.5167]], grad_fn=<AddmmBackward0>)\n",
            "tensor([1, 0, 1, 1, 0, 0, 1, 1])\n",
            "tensor([1, 1, 1, 1, 0, 1, 1, 1])\n"
          ]
        },
        {
          "name": "stderr",
          "output_type": "stream",
          "text": [
            "\r 57%|█████▋    | 298/525 [13:49<10:26,  2.76s/it]"
          ]
        },
        {
          "name": "stdout",
          "output_type": "stream",
          "text": [
            "\n",
            "tensor([[ 0.0412,  0.7046],\n",
            "        [-0.1987, -0.1013],\n",
            "        [ 0.1624,  0.5514],\n",
            "        [ 0.0403,  0.3626],\n",
            "        [-0.0231,  0.5540],\n",
            "        [ 0.2632,  0.4697],\n",
            "        [ 0.3715,  0.5174],\n",
            "        [-0.2599,  0.7278]], grad_fn=<AddmmBackward0>)\n",
            "tensor([0, 0, 0, 1, 1, 0, 0, 0])\n",
            "tensor([1, 1, 1, 1, 1, 1, 1, 1])\n"
          ]
        },
        {
          "name": "stderr",
          "output_type": "stream",
          "text": [
            "\r 57%|█████▋    | 299/525 [13:52<10:41,  2.84s/it]"
          ]
        },
        {
          "name": "stdout",
          "output_type": "stream",
          "text": [
            "\n",
            "tensor([[ 0.2279,  0.2740],\n",
            "        [ 0.1761,  0.6678],\n",
            "        [-0.3395,  0.3297],\n",
            "        [ 0.4277,  0.5692],\n",
            "        [-0.2070,  0.6283],\n",
            "        [-0.5638,  0.2956],\n",
            "        [ 0.0223,  0.4477],\n",
            "        [-0.1048,  0.9442]], grad_fn=<AddmmBackward0>)\n",
            "tensor([1, 0, 1, 0, 0, 0, 0, 0])\n",
            "tensor([1, 1, 1, 1, 1, 1, 1, 1])\n"
          ]
        },
        {
          "name": "stderr",
          "output_type": "stream",
          "text": [
            "\r 57%|█████▋    | 300/525 [13:55<10:42,  2.86s/it]"
          ]
        },
        {
          "name": "stdout",
          "output_type": "stream",
          "text": [
            "\n",
            "tensor([[ 0.8094,  0.4549],\n",
            "        [ 0.0503,  0.3939],\n",
            "        [ 0.0490,  0.6057],\n",
            "        [-0.4202,  0.3871],\n",
            "        [-0.2297,  0.2196],\n",
            "        [ 0.2437,  0.5099],\n",
            "        [-0.2558,  0.0897],\n",
            "        [-0.3704, -0.3853]], grad_fn=<AddmmBackward0>)\n",
            "tensor([1, 1, 1, 1, 0, 1, 0, 1])\n",
            "tensor([0, 1, 1, 1, 1, 1, 1, 0])\n"
          ]
        },
        {
          "name": "stderr",
          "output_type": "stream",
          "text": [
            "\r 57%|█████▋    | 301/525 [13:58<10:33,  2.83s/it]"
          ]
        },
        {
          "name": "stdout",
          "output_type": "stream",
          "text": [
            "\n",
            "tensor([[0.3874, 0.2319],\n",
            "        [0.3011, 0.5585],\n",
            "        [0.1405, 0.0214],\n",
            "        [0.2752, 0.3577],\n",
            "        [0.0547, 0.4787],\n",
            "        [0.2844, 0.4692],\n",
            "        [0.2157, 0.4976],\n",
            "        [0.3487, 0.8535]], grad_fn=<AddmmBackward0>)\n",
            "tensor([0, 0, 0, 0, 1, 0, 1, 0])\n",
            "tensor([0, 1, 0, 1, 1, 1, 1, 1])\n"
          ]
        },
        {
          "name": "stderr",
          "output_type": "stream",
          "text": [
            "\r 58%|█████▊    | 302/525 [14:01<10:38,  2.86s/it]"
          ]
        },
        {
          "name": "stdout",
          "output_type": "stream",
          "text": [
            "\n",
            "tensor([[ 0.4797,  0.2508],\n",
            "        [ 0.1014,  0.2809],\n",
            "        [ 0.0089,  0.2429],\n",
            "        [ 0.3755, -0.0685],\n",
            "        [ 0.3854,  0.4986],\n",
            "        [ 0.2317,  0.1457],\n",
            "        [ 0.4252,  0.3451],\n",
            "        [ 0.1875,  0.0435]], grad_fn=<AddmmBackward0>)\n",
            "tensor([0, 1, 0, 1, 0, 1, 1, 1])\n",
            "tensor([0, 1, 1, 0, 1, 0, 0, 0])\n"
          ]
        },
        {
          "name": "stderr",
          "output_type": "stream",
          "text": [
            "\r 58%|█████▊    | 303/525 [14:04<10:33,  2.85s/it]"
          ]
        },
        {
          "name": "stdout",
          "output_type": "stream",
          "text": [
            "\n",
            "tensor([[ 0.4576, -0.0250],\n",
            "        [-0.0493,  0.0906],\n",
            "        [ 0.1969,  0.3231],\n",
            "        [ 0.5613,  0.1877],\n",
            "        [ 0.3884,  0.3177],\n",
            "        [ 0.0444, -0.0778],\n",
            "        [ 0.0752, -0.1542],\n",
            "        [ 0.7991,  0.1341]], grad_fn=<AddmmBackward0>)\n",
            "tensor([0, 0, 1, 0, 1, 1, 1, 0])\n",
            "tensor([0, 1, 1, 0, 0, 0, 0, 0])\n"
          ]
        },
        {
          "name": "stderr",
          "output_type": "stream",
          "text": [
            "\r 58%|█████▊    | 304/525 [14:07<10:25,  2.83s/it]"
          ]
        },
        {
          "name": "stdout",
          "output_type": "stream",
          "text": [
            "\n",
            "tensor([[ 0.2399,  0.1994],\n",
            "        [ 0.5865,  0.2983],\n",
            "        [ 0.2629, -0.1256],\n",
            "        [ 0.2031,  0.3955],\n",
            "        [-0.2132, -0.5955],\n",
            "        [ 0.6508,  0.3820],\n",
            "        [ 0.9906,  0.5718],\n",
            "        [ 0.3775, -0.1106]], grad_fn=<AddmmBackward0>)\n",
            "tensor([1, 0, 1, 0, 0, 1, 0, 0])\n",
            "tensor([0, 0, 0, 1, 0, 0, 0, 0])\n"
          ]
        },
        {
          "name": "stderr",
          "output_type": "stream",
          "text": [
            "\r 58%|█████▊    | 305/525 [14:09<10:14,  2.79s/it]"
          ]
        },
        {
          "name": "stdout",
          "output_type": "stream",
          "text": [
            "\n",
            "tensor([[ 0.4925,  0.5848],\n",
            "        [ 0.0089, -0.1140],\n",
            "        [-0.0688, -0.0876],\n",
            "        [ 0.4814,  0.0852],\n",
            "        [ 0.6228,  0.4207],\n",
            "        [ 0.6687,  0.0638],\n",
            "        [ 0.2167,  0.4222],\n",
            "        [ 0.0817,  0.1565]], grad_fn=<AddmmBackward0>)\n",
            "tensor([1, 0, 1, 0, 1, 1, 0, 0])\n",
            "tensor([1, 0, 0, 0, 0, 0, 1, 1])\n"
          ]
        },
        {
          "name": "stderr",
          "output_type": "stream",
          "text": [
            "\r 58%|█████▊    | 306/525 [14:12<10:12,  2.80s/it]"
          ]
        },
        {
          "name": "stdout",
          "output_type": "stream",
          "text": [
            "\n",
            "tensor([[ 0.4820, -0.0281],\n",
            "        [ 0.6191,  1.2141],\n",
            "        [ 0.7983, -0.1587],\n",
            "        [ 0.3154,  0.1869],\n",
            "        [ 0.6986,  0.4773],\n",
            "        [ 0.5216, -0.3740],\n",
            "        [ 0.4496, -0.0870],\n",
            "        [ 0.3103,  0.1629]], grad_fn=<AddmmBackward0>)\n",
            "tensor([1, 0, 1, 1, 0, 1, 1, 0])\n",
            "tensor([0, 1, 0, 0, 0, 0, 0, 0])\n"
          ]
        },
        {
          "name": "stderr",
          "output_type": "stream",
          "text": [
            "\r 58%|█████▊    | 307/525 [14:15<10:16,  2.83s/it]"
          ]
        },
        {
          "name": "stdout",
          "output_type": "stream",
          "text": [
            "\n",
            "tensor([[ 0.9455, -0.3663],\n",
            "        [ 0.4224,  0.4123],\n",
            "        [ 0.2263,  0.4597],\n",
            "        [ 0.2532,  0.1855],\n",
            "        [ 0.4712,  0.4491],\n",
            "        [ 0.8362,  0.2744],\n",
            "        [ 0.0969,  0.3168],\n",
            "        [ 0.4039,  0.0295]], grad_fn=<AddmmBackward0>)\n",
            "tensor([0, 0, 1, 1, 0, 1, 1, 0])\n",
            "tensor([0, 0, 1, 0, 0, 0, 1, 0])\n"
          ]
        },
        {
          "name": "stderr",
          "output_type": "stream",
          "text": [
            "\r 59%|█████▊    | 308/525 [14:18<10:22,  2.87s/it]"
          ]
        },
        {
          "name": "stdout",
          "output_type": "stream",
          "text": [
            "\n",
            "tensor([[ 0.5507, -0.0894],\n",
            "        [ 0.1613, -0.0260],\n",
            "        [ 0.3786,  0.4108],\n",
            "        [ 0.3449, -0.1416],\n",
            "        [ 0.3548, -0.0447],\n",
            "        [-0.1038,  0.3371],\n",
            "        [ 0.1821,  0.1209],\n",
            "        [ 0.6101,  0.5168]], grad_fn=<AddmmBackward0>)\n",
            "tensor([0, 1, 0, 0, 0, 1, 0, 1])\n",
            "tensor([0, 0, 1, 0, 0, 1, 0, 0])\n"
          ]
        },
        {
          "name": "stderr",
          "output_type": "stream",
          "text": [
            "\r 59%|█████▉    | 309/525 [14:21<10:18,  2.86s/it]"
          ]
        },
        {
          "name": "stdout",
          "output_type": "stream",
          "text": [
            "\n",
            "tensor([[ 0.1658, -0.1246],\n",
            "        [ 0.4373, -0.0300],\n",
            "        [ 0.5016,  0.1699],\n",
            "        [ 0.5106, -0.1722],\n",
            "        [ 0.1577,  0.0651],\n",
            "        [ 0.3657,  0.2314],\n",
            "        [ 0.4977,  0.3922],\n",
            "        [ 0.4553,  0.0083]], grad_fn=<AddmmBackward0>)\n",
            "tensor([0, 0, 1, 0, 1, 0, 0, 0])\n",
            "tensor([0, 0, 0, 0, 0, 0, 0, 0])\n"
          ]
        },
        {
          "name": "stderr",
          "output_type": "stream",
          "text": [
            "\r 59%|█████▉    | 310/525 [14:24<10:09,  2.83s/it]"
          ]
        },
        {
          "name": "stdout",
          "output_type": "stream",
          "text": [
            "\n",
            "tensor([[ 0.3829, -0.1306],\n",
            "        [ 0.0262, -0.1109],\n",
            "        [ 0.8692, -0.0107],\n",
            "        [ 0.1869,  0.1171],\n",
            "        [ 0.2997,  0.1600],\n",
            "        [ 0.4896,  0.2031],\n",
            "        [ 0.6834,  0.1346],\n",
            "        [ 0.7049, -0.3889]], grad_fn=<AddmmBackward0>)\n",
            "tensor([0, 1, 1, 0, 1, 0, 1, 1])\n",
            "tensor([0, 0, 0, 0, 0, 0, 0, 0])\n"
          ]
        },
        {
          "name": "stderr",
          "output_type": "stream",
          "text": [
            "\r 59%|█████▉    | 311/525 [14:26<10:04,  2.83s/it]"
          ]
        },
        {
          "name": "stdout",
          "output_type": "stream",
          "text": [
            "\n",
            "tensor([[-0.1960, -0.1124],\n",
            "        [ 0.6143,  0.1780],\n",
            "        [ 0.2707, -0.1352],\n",
            "        [ 0.4799,  0.2107],\n",
            "        [ 1.0597,  0.2669],\n",
            "        [ 0.4006,  0.3272],\n",
            "        [ 0.0429,  0.6007],\n",
            "        [ 0.3149, -0.1758]], grad_fn=<AddmmBackward0>)\n",
            "tensor([1, 0, 0, 0, 0, 0, 0, 0])\n",
            "tensor([1, 0, 0, 0, 0, 0, 1, 0])\n"
          ]
        },
        {
          "name": "stderr",
          "output_type": "stream",
          "text": [
            "\r 59%|█████▉    | 312/525 [14:29<10:08,  2.86s/it]"
          ]
        },
        {
          "name": "stdout",
          "output_type": "stream",
          "text": [
            "\n",
            "tensor([[ 0.0754, -0.1624],\n",
            "        [ 0.6514,  0.2398],\n",
            "        [ 0.5282,  0.0599],\n",
            "        [ 0.9423, -0.2059],\n",
            "        [ 0.7077,  0.3128],\n",
            "        [ 0.3267, -0.2651],\n",
            "        [ 0.5035,  0.0827],\n",
            "        [ 0.8266,  0.2016]], grad_fn=<AddmmBackward0>)\n",
            "tensor([0, 0, 1, 0, 1, 0, 0, 0])\n",
            "tensor([0, 0, 0, 0, 0, 0, 0, 0])\n"
          ]
        },
        {
          "name": "stderr",
          "output_type": "stream",
          "text": [
            "\r 60%|█████▉    | 313/525 [14:32<10:16,  2.91s/it]"
          ]
        },
        {
          "name": "stdout",
          "output_type": "stream",
          "text": [
            "\n",
            "tensor([[ 0.4286, -0.3253],\n",
            "        [ 0.4904, -0.0384],\n",
            "        [ 0.3359, -0.2842],\n",
            "        [ 0.7540,  0.1700],\n",
            "        [ 0.4369, -0.2673],\n",
            "        [ 0.5221,  0.0203],\n",
            "        [ 0.9139,  0.1657],\n",
            "        [ 0.8464, -0.0468]], grad_fn=<AddmmBackward0>)\n",
            "tensor([0, 0, 0, 1, 0, 1, 1, 0])\n",
            "tensor([0, 0, 0, 0, 0, 0, 0, 0])\n"
          ]
        },
        {
          "name": "stderr",
          "output_type": "stream",
          "text": [
            "\r 60%|█████▉    | 314/525 [14:35<10:24,  2.96s/it]"
          ]
        },
        {
          "name": "stdout",
          "output_type": "stream",
          "text": [
            "\n",
            "tensor([[ 0.2561, -0.6561],\n",
            "        [ 0.6367, -0.2068],\n",
            "        [ 0.7961,  0.0229],\n",
            "        [ 0.7514, -0.0527],\n",
            "        [ 0.6334, -0.3440],\n",
            "        [ 1.2084,  0.7146],\n",
            "        [ 0.4687, -0.0272],\n",
            "        [ 0.2772,  0.1977]], grad_fn=<AddmmBackward0>)\n",
            "tensor([0, 0, 0, 0, 0, 0, 0, 0])\n",
            "tensor([0, 0, 0, 0, 0, 0, 0, 0])\n"
          ]
        },
        {
          "name": "stderr",
          "output_type": "stream",
          "text": [
            "\r 60%|██████    | 315/525 [14:38<10:19,  2.95s/it]"
          ]
        },
        {
          "name": "stdout",
          "output_type": "stream",
          "text": [
            "\n",
            "tensor([[ 0.7649, -0.3430],\n",
            "        [ 1.3823, -0.4799],\n",
            "        [ 0.5071, -0.3755],\n",
            "        [ 0.7321,  0.1025],\n",
            "        [ 1.2320, -0.3876],\n",
            "        [ 0.8679, -0.1097],\n",
            "        [ 1.1534,  0.1570],\n",
            "        [ 0.6932, -0.8761]], grad_fn=<AddmmBackward0>)\n",
            "tensor([0, 1, 0, 1, 0, 1, 1, 1])\n",
            "tensor([0, 0, 0, 0, 0, 0, 0, 0])\n"
          ]
        },
        {
          "name": "stderr",
          "output_type": "stream",
          "text": [
            "\r 60%|██████    | 316/525 [14:41<10:03,  2.89s/it]"
          ]
        },
        {
          "name": "stdout",
          "output_type": "stream",
          "text": [
            "\n",
            "tensor([[ 1.1920,  0.2794],\n",
            "        [ 0.4183, -0.3109],\n",
            "        [ 0.3508,  0.1318],\n",
            "        [ 0.4124, -0.2920],\n",
            "        [ 0.3517, -0.2609],\n",
            "        [ 0.6613, -0.3539],\n",
            "        [ 1.4239, -0.2148],\n",
            "        [ 0.4358, -0.1721]], grad_fn=<AddmmBackward0>)\n",
            "tensor([0, 1, 0, 0, 1, 0, 1, 0])\n",
            "tensor([0, 0, 0, 0, 0, 0, 0, 0])\n"
          ]
        },
        {
          "name": "stderr",
          "output_type": "stream",
          "text": [
            "\r 60%|██████    | 317/525 [14:44<09:59,  2.88s/it]"
          ]
        },
        {
          "name": "stdout",
          "output_type": "stream",
          "text": [
            "\n",
            "tensor([[ 0.3844,  0.0053],\n",
            "        [ 0.5796, -0.1009],\n",
            "        [ 0.4689, -0.5816],\n",
            "        [ 0.8369, -0.4834],\n",
            "        [ 0.8750, -0.0063],\n",
            "        [ 0.4712, -0.1279],\n",
            "        [ 0.4902, -0.4070],\n",
            "        [ 1.0104, -0.7153]], grad_fn=<AddmmBackward0>)\n",
            "tensor([1, 1, 0, 0, 1, 0, 0, 0])\n",
            "tensor([0, 0, 0, 0, 0, 0, 0, 0])\n"
          ]
        },
        {
          "name": "stderr",
          "output_type": "stream",
          "text": [
            "\r 61%|██████    | 318/525 [14:47<10:02,  2.91s/it]"
          ]
        },
        {
          "name": "stdout",
          "output_type": "stream",
          "text": [
            "\n",
            "tensor([[ 0.8356, -0.1311],\n",
            "        [ 0.8697,  0.2057],\n",
            "        [ 0.4758, -0.2522],\n",
            "        [ 0.7926, -0.4270],\n",
            "        [ 0.7793, -0.3684],\n",
            "        [ 0.7338, -0.4633],\n",
            "        [ 0.9930, -0.0582],\n",
            "        [ 1.0004, -0.1026]], grad_fn=<AddmmBackward0>)\n",
            "tensor([0, 1, 0, 0, 0, 0, 0, 0])\n",
            "tensor([0, 0, 0, 0, 0, 0, 0, 0])\n"
          ]
        },
        {
          "name": "stderr",
          "output_type": "stream",
          "text": [
            "\r 61%|██████    | 319/525 [14:50<10:02,  2.92s/it]"
          ]
        },
        {
          "name": "stdout",
          "output_type": "stream",
          "text": [
            "\n",
            "tensor([[ 1.2201, -0.0366],\n",
            "        [ 0.5944, -0.4055],\n",
            "        [ 0.5523, -0.8574],\n",
            "        [ 0.8442, -0.3359],\n",
            "        [ 0.6382, -0.2515],\n",
            "        [ 1.2035,  0.3153],\n",
            "        [ 0.3980, -0.5248],\n",
            "        [ 0.5026, -0.2800]], grad_fn=<AddmmBackward0>)\n",
            "tensor([1, 0, 0, 1, 0, 1, 1, 0])\n",
            "tensor([0, 0, 0, 0, 0, 0, 0, 0])\n"
          ]
        },
        {
          "name": "stderr",
          "output_type": "stream",
          "text": [
            "\r 61%|██████    | 320/525 [14:53<09:54,  2.90s/it]"
          ]
        },
        {
          "name": "stdout",
          "output_type": "stream",
          "text": [
            "\n",
            "tensor([[ 0.6943, -0.1893],\n",
            "        [ 0.1103, -0.1277],\n",
            "        [ 0.6465, -0.1609],\n",
            "        [ 0.9052,  0.0432],\n",
            "        [ 0.4905, -0.1502],\n",
            "        [ 0.6259, -1.0114],\n",
            "        [ 0.8736, -0.1335],\n",
            "        [ 0.7626,  0.0419]], grad_fn=<AddmmBackward0>)\n",
            "tensor([0, 1, 0, 0, 1, 1, 0, 0])\n",
            "tensor([0, 0, 0, 0, 0, 0, 0, 0])\n"
          ]
        },
        {
          "name": "stderr",
          "output_type": "stream",
          "text": [
            "\r 61%|██████    | 321/525 [14:56<09:53,  2.91s/it]"
          ]
        },
        {
          "name": "stdout",
          "output_type": "stream",
          "text": [
            "\n",
            "tensor([[ 0.6682, -0.6454],\n",
            "        [ 0.6712, -0.2156],\n",
            "        [ 0.7022, -0.4019],\n",
            "        [ 0.9061, -0.4159],\n",
            "        [ 0.6829, -0.2069],\n",
            "        [ 0.2850, -0.2580],\n",
            "        [ 1.2427,  0.2890],\n",
            "        [ 0.6754, -0.2862]], grad_fn=<AddmmBackward0>)\n",
            "tensor([1, 0, 1, 1, 0, 0, 0, 1])\n",
            "tensor([0, 0, 0, 0, 0, 0, 0, 0])\n"
          ]
        },
        {
          "name": "stderr",
          "output_type": "stream",
          "text": [
            "\r 61%|██████▏   | 322/525 [14:59<09:50,  2.91s/it]"
          ]
        },
        {
          "name": "stdout",
          "output_type": "stream",
          "text": [
            "\n",
            "tensor([[ 0.5532, -0.0813],\n",
            "        [ 0.3089, -0.0966],\n",
            "        [ 0.7892,  0.0297],\n",
            "        [ 0.5820, -0.5948],\n",
            "        [ 0.2186, -0.7145],\n",
            "        [ 1.0106,  0.0887],\n",
            "        [ 0.5969, -0.2614],\n",
            "        [ 0.6548, -0.1953]], grad_fn=<AddmmBackward0>)\n",
            "tensor([1, 0, 0, 1, 1, 0, 0, 1])\n",
            "tensor([0, 0, 0, 0, 0, 0, 0, 0])\n"
          ]
        },
        {
          "name": "stderr",
          "output_type": "stream",
          "text": [
            "\r 62%|██████▏   | 323/525 [15:01<09:49,  2.92s/it]"
          ]
        },
        {
          "name": "stdout",
          "output_type": "stream",
          "text": [
            "\n",
            "tensor([[ 0.7317, -0.2046],\n",
            "        [ 0.3273,  0.0060],\n",
            "        [ 0.3996, -0.0587],\n",
            "        [ 0.1992, -0.1984],\n",
            "        [ 0.2509, -0.0905],\n",
            "        [ 0.2752, -0.1848],\n",
            "        [ 0.0573, -0.0169],\n",
            "        [ 0.9861,  0.4377]], grad_fn=<AddmmBackward0>)\n",
            "tensor([0, 1, 0, 1, 1, 1, 0, 0])\n",
            "tensor([0, 0, 0, 0, 0, 0, 0, 0])\n"
          ]
        },
        {
          "name": "stderr",
          "output_type": "stream",
          "text": [
            "\r 62%|██████▏   | 324/525 [15:05<09:56,  2.97s/it]"
          ]
        },
        {
          "name": "stdout",
          "output_type": "stream",
          "text": [
            "\n",
            "tensor([[ 0.1639, -0.1008],\n",
            "        [ 0.2917, -0.4791],\n",
            "        [-0.0523, -0.1325],\n",
            "        [ 0.3608,  0.1807],\n",
            "        [ 0.3310, -0.2754],\n",
            "        [ 0.5057,  0.6050],\n",
            "        [ 0.1712, -0.0195],\n",
            "        [ 0.2674,  0.5200]], grad_fn=<AddmmBackward0>)\n",
            "tensor([0, 1, 1, 0, 0, 0, 0, 0])\n",
            "tensor([0, 0, 0, 0, 0, 1, 0, 1])\n"
          ]
        },
        {
          "name": "stderr",
          "output_type": "stream",
          "text": [
            "\r 62%|██████▏   | 325/525 [15:07<09:51,  2.96s/it]"
          ]
        },
        {
          "name": "stdout",
          "output_type": "stream",
          "text": [
            "\n",
            "tensor([[ 0.3315,  0.2864],\n",
            "        [ 0.0358,  0.2165],\n",
            "        [ 0.8032,  0.2985],\n",
            "        [ 0.2925,  0.0647],\n",
            "        [-0.2375,  0.0689],\n",
            "        [ 0.0977,  0.2688],\n",
            "        [-0.2570,  0.2102],\n",
            "        [ 0.5843,  0.0570]], grad_fn=<AddmmBackward0>)\n",
            "tensor([1, 1, 1, 0, 1, 0, 1, 0])\n",
            "tensor([0, 1, 0, 0, 1, 1, 1, 0])\n"
          ]
        },
        {
          "name": "stderr",
          "output_type": "stream",
          "text": [
            "\r 62%|██████▏   | 326/525 [15:10<09:31,  2.87s/it]"
          ]
        },
        {
          "name": "stdout",
          "output_type": "stream",
          "text": [
            "\n",
            "tensor([[ 0.3789,  0.3903],\n",
            "        [-0.2259, -0.0754],\n",
            "        [-0.0354,  0.2533],\n",
            "        [ 0.3063, -0.1256],\n",
            "        [ 0.2636,  0.3712],\n",
            "        [ 0.1110, -0.3070],\n",
            "        [ 0.0682,  0.5804],\n",
            "        [ 0.4166,  0.3315]], grad_fn=<AddmmBackward0>)\n",
            "tensor([1, 0, 0, 1, 0, 1, 0, 1])\n",
            "tensor([1, 1, 1, 0, 1, 0, 1, 0])\n"
          ]
        },
        {
          "name": "stderr",
          "output_type": "stream",
          "text": [
            "\r 62%|██████▏   | 327/525 [15:13<09:15,  2.80s/it]"
          ]
        },
        {
          "name": "stdout",
          "output_type": "stream",
          "text": [
            "\n",
            "tensor([[ 0.4583,  0.2478],\n",
            "        [ 0.0906,  0.1241],\n",
            "        [ 0.3704, -0.0489],\n",
            "        [-0.0132, -0.1653],\n",
            "        [ 0.1786,  0.6186],\n",
            "        [ 0.3984, -0.2212],\n",
            "        [-0.0346,  0.3737],\n",
            "        [ 0.1825,  0.1109]], grad_fn=<AddmmBackward0>)\n",
            "tensor([0, 0, 1, 0, 1, 0, 1, 0])\n",
            "tensor([0, 1, 0, 0, 1, 0, 1, 0])\n"
          ]
        },
        {
          "name": "stderr",
          "output_type": "stream",
          "text": [
            "\r 62%|██████▏   | 328/525 [15:16<09:18,  2.83s/it]"
          ]
        },
        {
          "name": "stdout",
          "output_type": "stream",
          "text": [
            "\n",
            "tensor([[ 0.1250,  0.5121],\n",
            "        [ 0.0868,  0.5970],\n",
            "        [-0.0242,  0.0620],\n",
            "        [ 0.2330,  0.4741],\n",
            "        [ 0.0944,  0.8705],\n",
            "        [-0.1016, -0.2279],\n",
            "        [-0.3877,  0.0366],\n",
            "        [ 0.0776,  0.0278]], grad_fn=<AddmmBackward0>)\n",
            "tensor([0, 0, 1, 0, 1, 0, 0, 1])\n",
            "tensor([1, 1, 1, 1, 1, 0, 1, 0])\n"
          ]
        },
        {
          "name": "stderr",
          "output_type": "stream",
          "text": [
            "\r 63%|██████▎   | 329/525 [15:19<09:30,  2.91s/it]"
          ]
        },
        {
          "name": "stdout",
          "output_type": "stream",
          "text": [
            "\n",
            "tensor([[ 0.6790,  0.2106],\n",
            "        [-0.5528,  0.3315],\n",
            "        [-0.0184, -0.1580],\n",
            "        [ 0.0983,  0.8251],\n",
            "        [ 0.0870,  0.5463],\n",
            "        [-0.3223,  0.5056],\n",
            "        [ 0.1098,  0.5555],\n",
            "        [-0.0717,  0.2683]], grad_fn=<AddmmBackward0>)\n",
            "tensor([1, 0, 1, 1, 1, 0, 0, 1])\n",
            "tensor([0, 1, 0, 1, 1, 1, 1, 1])\n"
          ]
        },
        {
          "name": "stderr",
          "output_type": "stream",
          "text": [
            "\r 63%|██████▎   | 330/525 [15:22<09:24,  2.89s/it]"
          ]
        },
        {
          "name": "stdout",
          "output_type": "stream",
          "text": [
            "\n",
            "tensor([[-0.3614,  0.3549],\n",
            "        [-0.2210,  0.6318],\n",
            "        [-0.0172,  0.6927],\n",
            "        [-0.4731,  0.3945],\n",
            "        [ 0.3810,  1.0623],\n",
            "        [ 0.2197,  0.7666],\n",
            "        [-0.2403,  0.3884],\n",
            "        [-0.3035, -0.0298]], grad_fn=<AddmmBackward0>)\n",
            "tensor([1, 0, 1, 1, 0, 1, 0, 1])\n",
            "tensor([1, 1, 1, 1, 1, 1, 1, 1])\n"
          ]
        },
        {
          "name": "stderr",
          "output_type": "stream",
          "text": [
            "\r 63%|██████▎   | 331/525 [15:24<09:13,  2.85s/it]"
          ]
        },
        {
          "name": "stdout",
          "output_type": "stream",
          "text": [
            "\n",
            "tensor([[ 0.2453,  0.3297],\n",
            "        [-0.3964,  0.2565],\n",
            "        [ 0.3121,  0.6220],\n",
            "        [ 0.4371,  0.2892],\n",
            "        [-0.1674,  0.3830],\n",
            "        [ 0.1094, -0.1323],\n",
            "        [ 0.4705,  0.2977],\n",
            "        [ 0.1303, -0.3277]], grad_fn=<AddmmBackward0>)\n",
            "tensor([1, 1, 0, 1, 1, 0, 0, 0])\n",
            "tensor([1, 1, 1, 0, 1, 0, 0, 0])\n"
          ]
        },
        {
          "name": "stderr",
          "output_type": "stream",
          "text": [
            "\r 63%|██████▎   | 332/525 [15:27<09:08,  2.84s/it]"
          ]
        },
        {
          "name": "stdout",
          "output_type": "stream",
          "text": [
            "\n",
            "tensor([[-0.3635,  0.7923],\n",
            "        [-0.1014,  0.3901],\n",
            "        [-0.3989, -0.1326],\n",
            "        [-0.2744,  0.1465],\n",
            "        [-0.2140,  0.2407],\n",
            "        [ 0.8241,  0.4197],\n",
            "        [ 0.4987,  0.5338],\n",
            "        [-0.3006,  0.0357]], grad_fn=<AddmmBackward0>)\n",
            "tensor([0, 0, 0, 1, 0, 0, 0, 0])\n",
            "tensor([1, 1, 1, 1, 1, 0, 1, 1])\n"
          ]
        },
        {
          "name": "stderr",
          "output_type": "stream",
          "text": [
            "\r 63%|██████▎   | 333/525 [15:30<09:15,  2.89s/it]"
          ]
        },
        {
          "name": "stdout",
          "output_type": "stream",
          "text": [
            "\n",
            "tensor([[ 0.1440,  0.2080],\n",
            "        [ 0.4249,  0.6350],\n",
            "        [ 0.1294, -0.0461],\n",
            "        [-0.1484,  0.2188],\n",
            "        [-0.6175, -0.4658],\n",
            "        [ 0.0514,  0.1275],\n",
            "        [ 0.0979,  0.6609],\n",
            "        [ 0.3300,  0.2654]], grad_fn=<AddmmBackward0>)\n",
            "tensor([1, 0, 0, 1, 0, 0, 0, 0])\n",
            "tensor([1, 1, 0, 1, 1, 1, 1, 0])\n"
          ]
        },
        {
          "name": "stderr",
          "output_type": "stream",
          "text": [
            "\r 64%|██████▎   | 334/525 [15:33<09:19,  2.93s/it]"
          ]
        },
        {
          "name": "stdout",
          "output_type": "stream",
          "text": [
            "\n",
            "tensor([[ 0.4908, -0.0957],\n",
            "        [ 0.8433,  0.3064],\n",
            "        [ 0.5227,  0.2776],\n",
            "        [ 0.3048, -0.2962],\n",
            "        [ 0.6641,  0.2677],\n",
            "        [-0.1471, -0.4655],\n",
            "        [ 0.0569, -0.0269],\n",
            "        [ 0.8179,  0.3112]], grad_fn=<AddmmBackward0>)\n",
            "tensor([1, 1, 1, 1, 1, 1, 0, 1])\n",
            "tensor([0, 0, 0, 0, 0, 0, 0, 0])\n"
          ]
        },
        {
          "name": "stderr",
          "output_type": "stream",
          "text": [
            "\r 64%|██████▍   | 335/525 [15:36<09:06,  2.88s/it]"
          ]
        },
        {
          "name": "stdout",
          "output_type": "stream",
          "text": [
            "\n",
            "tensor([[ 0.0273, -0.4620],\n",
            "        [ 0.1414, -0.2207],\n",
            "        [ 0.5394, -0.3432],\n",
            "        [ 0.1432, -0.3537],\n",
            "        [ 0.8690,  0.4827],\n",
            "        [ 0.4130,  0.0297],\n",
            "        [ 0.2813,  0.1352],\n",
            "        [ 0.3992, -0.1216]], grad_fn=<AddmmBackward0>)\n",
            "tensor([1, 0, 1, 1, 0, 1, 1, 0])\n",
            "tensor([0, 0, 0, 0, 0, 0, 0, 0])\n"
          ]
        },
        {
          "name": "stderr",
          "output_type": "stream",
          "text": [
            "\r 64%|██████▍   | 336/525 [15:39<09:02,  2.87s/it]"
          ]
        },
        {
          "name": "stdout",
          "output_type": "stream",
          "text": [
            "\n",
            "tensor([[-0.1523, -0.3367],\n",
            "        [ 0.4346, -0.1300],\n",
            "        [-0.0868,  0.3231],\n",
            "        [ 0.2741,  0.1219],\n",
            "        [ 0.3140,  0.2935],\n",
            "        [ 0.0516,  0.1781],\n",
            "        [-0.0933, -0.2394],\n",
            "        [ 0.2892, -0.0250]], grad_fn=<AddmmBackward0>)\n",
            "tensor([1, 1, 0, 0, 1, 0, 1, 1])\n",
            "tensor([0, 0, 1, 0, 0, 1, 0, 0])\n"
          ]
        },
        {
          "name": "stderr",
          "output_type": "stream",
          "text": [
            "\r 64%|██████▍   | 337/525 [15:42<08:58,  2.87s/it]"
          ]
        },
        {
          "name": "stdout",
          "output_type": "stream",
          "text": [
            "\n",
            "tensor([[ 0.2899,  0.4353],\n",
            "        [-0.0216, -0.3655],\n",
            "        [-0.2235, -0.0136],\n",
            "        [ 0.1888,  0.1300],\n",
            "        [ 0.2562, -0.5962],\n",
            "        [ 0.0293, -0.1202],\n",
            "        [ 0.4737,  0.2229],\n",
            "        [ 0.2128,  0.2740]], grad_fn=<AddmmBackward0>)\n",
            "tensor([0, 1, 0, 0, 0, 1, 0, 1])\n",
            "tensor([1, 0, 1, 0, 0, 0, 0, 1])\n"
          ]
        },
        {
          "name": "stderr",
          "output_type": "stream",
          "text": [
            "\r 64%|██████▍   | 338/525 [15:45<08:54,  2.86s/it]"
          ]
        },
        {
          "name": "stdout",
          "output_type": "stream",
          "text": [
            "\n",
            "tensor([[-0.2579,  0.0171],\n",
            "        [ 0.3986,  0.2565],\n",
            "        [-0.2362, -0.0011],\n",
            "        [ 0.6585,  0.2802],\n",
            "        [ 0.2465,  0.3030],\n",
            "        [-0.2042, -0.3371],\n",
            "        [ 0.1591,  0.0686],\n",
            "        [ 0.5702, -0.0766]], grad_fn=<AddmmBackward0>)\n",
            "tensor([1, 0, 1, 1, 1, 0, 0, 1])\n",
            "tensor([1, 0, 1, 0, 1, 0, 0, 0])\n"
          ]
        },
        {
          "name": "stderr",
          "output_type": "stream",
          "text": [
            "\r 65%|██████▍   | 339/525 [15:48<08:56,  2.89s/it]"
          ]
        },
        {
          "name": "stdout",
          "output_type": "stream",
          "text": [
            "\n",
            "tensor([[-0.0148,  0.1500],\n",
            "        [ 0.5092,  0.0609],\n",
            "        [ 0.1739,  0.2233],\n",
            "        [ 0.2359, -0.1450],\n",
            "        [ 0.0278, -0.2959],\n",
            "        [-0.0699,  0.3512],\n",
            "        [-0.0764, -0.2204],\n",
            "        [-0.1080,  0.1277]], grad_fn=<AddmmBackward0>)\n",
            "tensor([1, 1, 0, 0, 0, 1, 0, 0])\n",
            "tensor([1, 0, 1, 0, 0, 1, 0, 1])\n"
          ]
        },
        {
          "name": "stderr",
          "output_type": "stream",
          "text": [
            "\r 65%|██████▍   | 340/525 [15:51<09:04,  2.94s/it]"
          ]
        },
        {
          "name": "stdout",
          "output_type": "stream",
          "text": [
            "\n",
            "tensor([[ 0.2630,  0.0039],\n",
            "        [ 0.2858,  0.5504],\n",
            "        [ 0.2161,  0.0250],\n",
            "        [ 0.1073,  0.3304],\n",
            "        [-0.5323, -0.4964],\n",
            "        [-0.1726,  0.1130],\n",
            "        [-0.0952, -0.0857],\n",
            "        [-0.0285,  0.4036]], grad_fn=<AddmmBackward0>)\n",
            "tensor([0, 1, 0, 1, 0, 1, 0, 0])\n",
            "tensor([0, 1, 0, 1, 1, 1, 1, 1])\n"
          ]
        },
        {
          "name": "stderr",
          "output_type": "stream",
          "text": [
            "\r 65%|██████▍   | 341/525 [15:54<09:03,  2.95s/it]"
          ]
        },
        {
          "name": "stdout",
          "output_type": "stream",
          "text": [
            "\n",
            "tensor([[ 0.4755,  0.5365],\n",
            "        [-0.0723,  0.0509],\n",
            "        [ 0.2696,  0.0455],\n",
            "        [ 0.3275,  0.2052],\n",
            "        [ 0.1396, -0.0462],\n",
            "        [ 0.3300,  0.3748],\n",
            "        [-0.2193,  0.4355],\n",
            "        [-0.1277, -0.4607]], grad_fn=<AddmmBackward0>)\n",
            "tensor([1, 0, 1, 1, 0, 0, 1, 0])\n",
            "tensor([1, 1, 0, 0, 0, 1, 1, 0])\n"
          ]
        },
        {
          "name": "stderr",
          "output_type": "stream",
          "text": [
            "\r 65%|██████▌   | 342/525 [15:56<08:58,  2.94s/it]"
          ]
        },
        {
          "name": "stdout",
          "output_type": "stream",
          "text": [
            "\n",
            "tensor([[ 0.1513,  0.3916],\n",
            "        [-0.2867, -0.2858],\n",
            "        [ 0.5268,  0.1958],\n",
            "        [ 0.3407,  0.1797],\n",
            "        [ 0.3853,  0.1124],\n",
            "        [ 0.0739,  0.0891],\n",
            "        [-0.0508,  0.0187],\n",
            "        [ 0.5478, -0.0064]], grad_fn=<AddmmBackward0>)\n",
            "tensor([1, 1, 0, 1, 1, 0, 1, 0])\n",
            "tensor([1, 1, 0, 0, 0, 1, 1, 0])\n"
          ]
        },
        {
          "name": "stderr",
          "output_type": "stream",
          "text": [
            "\r 65%|██████▌   | 343/525 [15:59<08:52,  2.93s/it]"
          ]
        },
        {
          "name": "stdout",
          "output_type": "stream",
          "text": [
            "\n",
            "tensor([[ 0.2315,  0.0996],\n",
            "        [-0.0644, -0.3141],\n",
            "        [ 0.3357, -0.4131],\n",
            "        [-0.4819,  0.1019],\n",
            "        [ 0.1691,  0.0163],\n",
            "        [ 0.2408, -0.0034],\n",
            "        [-0.0109,  0.2917],\n",
            "        [ 0.1628, -0.3719]], grad_fn=<AddmmBackward0>)\n",
            "tensor([0, 1, 1, 1, 1, 0, 0, 1])\n",
            "tensor([0, 0, 0, 1, 0, 0, 1, 0])\n"
          ]
        },
        {
          "name": "stderr",
          "output_type": "stream",
          "text": [
            "\r 66%|██████▌   | 344/525 [16:02<08:52,  2.94s/it]"
          ]
        },
        {
          "name": "stdout",
          "output_type": "stream",
          "text": [
            "\n",
            "tensor([[ 0.2056,  0.4832],\n",
            "        [-0.1420,  0.0108],\n",
            "        [ 0.3104,  0.4919],\n",
            "        [ 0.1296,  0.2872],\n",
            "        [ 0.4277,  0.0815],\n",
            "        [ 0.0536,  0.3022],\n",
            "        [-0.1431,  0.0280],\n",
            "        [ 0.8347,  0.6299]], grad_fn=<AddmmBackward0>)\n",
            "tensor([1, 1, 1, 0, 0, 0, 1, 0])\n",
            "tensor([1, 1, 1, 1, 0, 1, 1, 0])\n"
          ]
        },
        {
          "name": "stderr",
          "output_type": "stream",
          "text": [
            "\r 66%|██████▌   | 345/525 [16:05<08:39,  2.88s/it]"
          ]
        },
        {
          "name": "stdout",
          "output_type": "stream",
          "text": [
            "\n",
            "tensor([[ 0.4010,  0.4738],\n",
            "        [-0.1754,  0.3975],\n",
            "        [-0.1368,  0.2059],\n",
            "        [ 0.1033,  0.4395],\n",
            "        [-0.1392,  0.3375],\n",
            "        [ 0.0255,  0.4388],\n",
            "        [ 0.0828,  0.3704],\n",
            "        [ 0.4119, -0.1461]], grad_fn=<AddmmBackward0>)\n",
            "tensor([0, 0, 1, 1, 0, 0, 0, 1])\n",
            "tensor([1, 1, 1, 1, 1, 1, 1, 0])\n"
          ]
        },
        {
          "name": "stderr",
          "output_type": "stream",
          "text": [
            "\r 66%|██████▌   | 346/525 [16:08<08:37,  2.89s/it]"
          ]
        },
        {
          "name": "stdout",
          "output_type": "stream",
          "text": [
            "\n",
            "tensor([[ 0.3818,  0.5226],\n",
            "        [-0.1224,  0.0859],\n",
            "        [-0.0852,  0.3734],\n",
            "        [ 0.1179, -0.0262],\n",
            "        [-0.6165,  0.5336],\n",
            "        [ 0.2370,  0.2255],\n",
            "        [ 0.3926,  0.0328],\n",
            "        [ 0.1137,  0.3353]], grad_fn=<AddmmBackward0>)\n",
            "tensor([0, 0, 1, 0, 1, 0, 1, 1])\n",
            "tensor([1, 1, 1, 0, 1, 0, 0, 1])\n"
          ]
        },
        {
          "name": "stderr",
          "output_type": "stream",
          "text": [
            "\r 66%|██████▌   | 347/525 [16:11<08:35,  2.89s/it]"
          ]
        },
        {
          "name": "stdout",
          "output_type": "stream",
          "text": [
            "\n",
            "tensor([[ 0.3983,  0.4070],\n",
            "        [ 0.2639,  0.2892],\n",
            "        [-0.3078,  0.0090],\n",
            "        [ 0.2333,  0.0787],\n",
            "        [ 0.6240,  0.0170],\n",
            "        [ 0.0749,  0.3189],\n",
            "        [ 0.0560,  0.1780],\n",
            "        [-0.1721,  0.3075]], grad_fn=<AddmmBackward0>)\n",
            "tensor([1, 0, 1, 1, 0, 1, 1, 0])\n",
            "tensor([1, 1, 1, 0, 0, 1, 1, 1])\n"
          ]
        },
        {
          "name": "stderr",
          "output_type": "stream",
          "text": [
            "\r 66%|██████▋   | 348/525 [16:14<08:36,  2.92s/it]"
          ]
        },
        {
          "name": "stdout",
          "output_type": "stream",
          "text": [
            "\n",
            "tensor([[-0.1232,  0.2685],\n",
            "        [-0.3871,  0.2266],\n",
            "        [ 0.1166,  0.2612],\n",
            "        [ 0.5684,  0.1536],\n",
            "        [ 0.1083,  0.3367],\n",
            "        [ 0.0011,  0.5898],\n",
            "        [ 0.5237, -0.0043],\n",
            "        [-0.5215, -0.1570]], grad_fn=<AddmmBackward0>)\n",
            "tensor([0, 1, 0, 1, 0, 0, 0, 1])\n",
            "tensor([1, 1, 1, 0, 1, 1, 0, 1])\n"
          ]
        },
        {
          "name": "stderr",
          "output_type": "stream",
          "text": [
            "\r 66%|██████▋   | 349/525 [16:17<08:41,  2.96s/it]"
          ]
        },
        {
          "name": "stdout",
          "output_type": "stream",
          "text": [
            "\n",
            "tensor([[-0.2224,  0.3574],\n",
            "        [ 0.0373, -0.0275],\n",
            "        [-0.0406,  0.3406],\n",
            "        [ 0.1582, -0.5264],\n",
            "        [ 0.1744,  0.2048],\n",
            "        [ 0.4125,  0.7541],\n",
            "        [ 0.1411,  0.1776],\n",
            "        [ 0.4978,  0.3771]], grad_fn=<AddmmBackward0>)\n",
            "tensor([0, 0, 0, 0, 0, 0, 1, 1])\n",
            "tensor([1, 0, 1, 0, 1, 1, 1, 0])\n"
          ]
        },
        {
          "name": "stderr",
          "output_type": "stream",
          "text": [
            "\r 67%|██████▋   | 350/525 [16:20<08:38,  2.96s/it]"
          ]
        },
        {
          "name": "stdout",
          "output_type": "stream",
          "text": [
            "\n",
            "tensor([[ 0.1925, -0.1268],\n",
            "        [ 0.4648,  0.5214],\n",
            "        [ 0.3705, -0.1155],\n",
            "        [-0.2875,  0.0863],\n",
            "        [-0.0695,  0.2941],\n",
            "        [ 0.0661, -0.0903],\n",
            "        [ 0.4444,  0.4676],\n",
            "        [ 0.1840,  0.3923]], grad_fn=<AddmmBackward0>)\n",
            "tensor([0, 1, 1, 1, 0, 1, 1, 1])\n",
            "tensor([0, 1, 0, 1, 1, 0, 1, 1])\n"
          ]
        },
        {
          "name": "stderr",
          "output_type": "stream",
          "text": [
            "\r 67%|██████▋   | 351/525 [16:22<08:16,  2.85s/it]"
          ]
        },
        {
          "name": "stdout",
          "output_type": "stream",
          "text": [
            "\n",
            "tensor([[ 0.0954, -0.2790],\n",
            "        [ 0.4368, -0.3159],\n",
            "        [-0.0463, -0.1048],\n",
            "        [ 0.3354, -0.0314],\n",
            "        [ 0.3218,  0.5305],\n",
            "        [ 0.1234,  0.2906],\n",
            "        [-0.1068, -0.1833],\n",
            "        [ 0.4173,  0.2882]], grad_fn=<AddmmBackward0>)\n",
            "tensor([0, 0, 1, 0, 0, 1, 1, 1])\n",
            "tensor([0, 0, 0, 0, 1, 1, 0, 0])\n"
          ]
        },
        {
          "name": "stderr",
          "output_type": "stream",
          "text": [
            "\r 67%|██████▋   | 352/525 [16:25<08:08,  2.83s/it]"
          ]
        },
        {
          "name": "stdout",
          "output_type": "stream",
          "text": [
            "\n",
            "tensor([[ 0.4123,  0.5274],\n",
            "        [ 0.5726,  0.2724],\n",
            "        [ 0.3169,  0.6013],\n",
            "        [-0.2631, -0.1427],\n",
            "        [ 0.0434,  0.1514],\n",
            "        [ 0.1489,  0.1194],\n",
            "        [-0.0731,  0.1939],\n",
            "        [ 0.4641,  0.4592]], grad_fn=<AddmmBackward0>)\n",
            "tensor([0, 1, 1, 0, 1, 0, 0, 1])\n",
            "tensor([1, 0, 1, 1, 1, 0, 1, 0])\n"
          ]
        },
        {
          "name": "stderr",
          "output_type": "stream",
          "text": [
            "\r 67%|██████▋   | 353/525 [16:28<08:03,  2.81s/it]"
          ]
        },
        {
          "name": "stdout",
          "output_type": "stream",
          "text": [
            "\n",
            "tensor([[-0.1932,  0.1710],\n",
            "        [-0.1620,  0.0907],\n",
            "        [ 0.2367, -0.2113],\n",
            "        [ 0.3414,  0.4631],\n",
            "        [ 0.1019,  0.7412],\n",
            "        [ 0.3680,  0.2940],\n",
            "        [ 0.1080,  0.3245],\n",
            "        [ 0.1119,  0.1469]], grad_fn=<AddmmBackward0>)\n",
            "tensor([0, 0, 1, 0, 0, 0, 0, 1])\n",
            "tensor([1, 1, 0, 1, 1, 0, 1, 1])\n"
          ]
        },
        {
          "name": "stderr",
          "output_type": "stream",
          "text": [
            "\r 67%|██████▋   | 354/525 [16:31<08:09,  2.86s/it]"
          ]
        },
        {
          "name": "stdout",
          "output_type": "stream",
          "text": [
            "\n",
            "tensor([[ 0.3165,  0.1142],\n",
            "        [ 0.3039,  0.3228],\n",
            "        [ 0.0199,  0.0170],\n",
            "        [ 0.4013,  0.1756],\n",
            "        [-0.1247,  0.5169],\n",
            "        [ 0.1540,  0.4315],\n",
            "        [ 0.4937,  0.2446],\n",
            "        [ 0.1475,  0.5570]], grad_fn=<AddmmBackward0>)\n",
            "tensor([0, 0, 0, 0, 1, 1, 1, 1])\n",
            "tensor([0, 1, 0, 0, 1, 1, 0, 1])\n"
          ]
        },
        {
          "name": "stderr",
          "output_type": "stream",
          "text": [
            "\r 68%|██████▊   | 355/525 [16:34<08:10,  2.89s/it]"
          ]
        },
        {
          "name": "stdout",
          "output_type": "stream",
          "text": [
            "\n",
            "tensor([[ 0.0342,  0.0683],\n",
            "        [ 0.6815, -0.2823],\n",
            "        [ 0.0729,  0.6546],\n",
            "        [ 0.4137,  0.4853],\n",
            "        [ 0.2642, -0.3036],\n",
            "        [ 0.6052,  0.7541],\n",
            "        [ 0.1020, -0.3204],\n",
            "        [ 0.1091, -0.2005]], grad_fn=<AddmmBackward0>)\n",
            "tensor([1, 0, 1, 0, 0, 1, 0, 0])\n",
            "tensor([1, 0, 1, 1, 0, 1, 0, 0])\n"
          ]
        },
        {
          "name": "stderr",
          "output_type": "stream",
          "text": [
            "\r 68%|██████▊   | 356/525 [16:37<07:59,  2.84s/it]"
          ]
        },
        {
          "name": "stdout",
          "output_type": "stream",
          "text": [
            "\n",
            "tensor([[ 0.1302,  0.1708],\n",
            "        [ 0.6333,  0.3576],\n",
            "        [ 0.7159,  0.2324],\n",
            "        [ 0.5963, -0.2444],\n",
            "        [ 0.4581, -0.0883],\n",
            "        [ 0.4579,  0.0432],\n",
            "        [ 0.5992, -0.0111],\n",
            "        [ 0.6151,  0.3707]], grad_fn=<AddmmBackward0>)\n",
            "tensor([0, 1, 1, 1, 1, 0, 0, 0])\n",
            "tensor([1, 0, 0, 0, 0, 0, 0, 0])\n"
          ]
        },
        {
          "name": "stderr",
          "output_type": "stream",
          "text": [
            "\r 68%|██████▊   | 357/525 [16:39<07:41,  2.75s/it]"
          ]
        },
        {
          "name": "stdout",
          "output_type": "stream",
          "text": [
            "\n",
            "tensor([[ 0.3372, -0.2172],\n",
            "        [ 0.4740, -0.3236],\n",
            "        [ 0.5818,  0.1365],\n",
            "        [ 0.3954,  0.1724],\n",
            "        [-0.2319, -0.0693],\n",
            "        [ 0.0492, -0.0095],\n",
            "        [ 0.5437, -0.1802],\n",
            "        [ 0.3088,  0.0419]], grad_fn=<AddmmBackward0>)\n",
            "tensor([0, 0, 0, 1, 0, 0, 1, 0])\n",
            "tensor([0, 0, 0, 0, 1, 0, 0, 0])\n"
          ]
        },
        {
          "name": "stderr",
          "output_type": "stream",
          "text": [
            "\r 68%|██████▊   | 358/525 [16:42<07:46,  2.79s/it]"
          ]
        },
        {
          "name": "stdout",
          "output_type": "stream",
          "text": [
            "\n",
            "tensor([[ 0.2776,  0.0742],\n",
            "        [ 0.3726, -0.2044],\n",
            "        [ 0.5865,  0.4005],\n",
            "        [ 0.2640,  0.0984],\n",
            "        [ 0.4460, -0.2242],\n",
            "        [ 0.0188,  0.0556],\n",
            "        [ 0.5977,  0.2854],\n",
            "        [ 0.3225,  0.1105]], grad_fn=<AddmmBackward0>)\n",
            "tensor([0, 1, 1, 1, 0, 0, 0, 1])\n",
            "tensor([0, 0, 0, 0, 0, 1, 0, 0])\n"
          ]
        },
        {
          "name": "stderr",
          "output_type": "stream",
          "text": [
            "\r 68%|██████▊   | 359/525 [16:45<07:58,  2.89s/it]"
          ]
        },
        {
          "name": "stdout",
          "output_type": "stream",
          "text": [
            "\n",
            "tensor([[ 0.7440,  0.3591],\n",
            "        [ 0.3304,  0.2385],\n",
            "        [ 0.5255, -0.4786],\n",
            "        [ 0.5512,  0.3076],\n",
            "        [ 0.9863,  0.1659],\n",
            "        [ 0.8441,  0.0521],\n",
            "        [ 1.1836,  0.1132],\n",
            "        [ 0.5349,  0.3867]], grad_fn=<AddmmBackward0>)\n",
            "tensor([0, 0, 0, 0, 1, 1, 0, 1])\n",
            "tensor([0, 0, 0, 0, 0, 0, 0, 0])\n"
          ]
        },
        {
          "name": "stderr",
          "output_type": "stream",
          "text": [
            "\r 69%|██████▊   | 360/525 [16:48<08:03,  2.93s/it]"
          ]
        },
        {
          "name": "stdout",
          "output_type": "stream",
          "text": [
            "\n",
            "tensor([[ 0.4490, -0.3761],\n",
            "        [ 0.5918, -0.4521],\n",
            "        [ 0.4163, -0.2063],\n",
            "        [ 0.6795, -0.2768],\n",
            "        [ 0.5405,  0.2937],\n",
            "        [-0.0826, -0.5143],\n",
            "        [ 0.7623, -0.0567],\n",
            "        [ 0.6579,  0.1003]], grad_fn=<AddmmBackward0>)\n",
            "tensor([0, 0, 1, 1, 0, 0, 1, 0])\n",
            "tensor([0, 0, 0, 0, 0, 0, 0, 0])\n"
          ]
        },
        {
          "name": "stderr",
          "output_type": "stream",
          "text": [
            "\r 69%|██████▉   | 361/525 [16:51<07:56,  2.91s/it]"
          ]
        },
        {
          "name": "stdout",
          "output_type": "stream",
          "text": [
            "\n",
            "tensor([[ 0.1955, -0.1570],\n",
            "        [ 0.9092, -0.3433],\n",
            "        [ 0.5281, -0.1840],\n",
            "        [ 0.8534, -0.1821],\n",
            "        [ 0.1741, -0.3468],\n",
            "        [ 0.7267, -0.1278],\n",
            "        [ 0.6778, -0.1129],\n",
            "        [ 0.4442, -0.1522]], grad_fn=<AddmmBackward0>)\n",
            "tensor([1, 0, 1, 0, 1, 1, 0, 1])\n",
            "tensor([0, 0, 0, 0, 0, 0, 0, 0])\n"
          ]
        },
        {
          "name": "stderr",
          "output_type": "stream",
          "text": [
            "\r 69%|██████▉   | 362/525 [16:54<07:54,  2.91s/it]"
          ]
        },
        {
          "name": "stdout",
          "output_type": "stream",
          "text": [
            "\n",
            "tensor([[ 0.4038,  0.0383],\n",
            "        [ 0.5956, -0.0357],\n",
            "        [ 0.2937, -0.0297],\n",
            "        [ 0.1776, -0.2809],\n",
            "        [ 0.9690, -0.1099],\n",
            "        [ 0.7462,  0.0055],\n",
            "        [ 0.3882, -0.2239],\n",
            "        [ 0.4239, -0.3284]], grad_fn=<AddmmBackward0>)\n",
            "tensor([1, 0, 0, 1, 1, 1, 1, 1])\n",
            "tensor([0, 0, 0, 0, 0, 0, 0, 0])\n"
          ]
        },
        {
          "name": "stderr",
          "output_type": "stream",
          "text": [
            "\r 69%|██████▉   | 363/525 [16:57<07:45,  2.87s/it]"
          ]
        },
        {
          "name": "stdout",
          "output_type": "stream",
          "text": [
            "\n",
            "tensor([[ 2.1426e-01,  3.6194e-01],\n",
            "        [ 2.7945e-01,  4.2864e-01],\n",
            "        [ 8.0326e-01,  2.4744e-01],\n",
            "        [ 7.9796e-01,  5.0537e-01],\n",
            "        [ 9.3848e-01, -3.3608e-01],\n",
            "        [ 4.7166e-01,  1.4420e-01],\n",
            "        [ 3.9946e-02,  1.7160e-01],\n",
            "        [ 6.0346e-01,  1.3558e-05]], grad_fn=<AddmmBackward0>)\n",
            "tensor([1, 0, 0, 0, 1, 1, 1, 1])\n",
            "tensor([1, 1, 0, 0, 0, 0, 1, 0])\n"
          ]
        },
        {
          "name": "stderr",
          "output_type": "stream",
          "text": [
            "\r 69%|██████▉   | 364/525 [16:59<07:31,  2.81s/it]"
          ]
        },
        {
          "name": "stdout",
          "output_type": "stream",
          "text": [
            "\n",
            "tensor([[ 0.3207,  0.1249],\n",
            "        [ 0.2206, -0.1312],\n",
            "        [ 0.2797,  0.4281],\n",
            "        [-0.1258, -0.0504],\n",
            "        [ 0.6087,  0.3267],\n",
            "        [ 0.0491,  0.0532],\n",
            "        [ 0.4361,  0.0857],\n",
            "        [ 0.2496, -0.2778]], grad_fn=<AddmmBackward0>)\n",
            "tensor([0, 0, 0, 0, 1, 1, 0, 1])\n",
            "tensor([0, 0, 1, 1, 0, 1, 0, 0])\n"
          ]
        },
        {
          "name": "stderr",
          "output_type": "stream",
          "text": [
            "\r 70%|██████▉   | 365/525 [17:02<07:36,  2.85s/it]"
          ]
        },
        {
          "name": "stdout",
          "output_type": "stream",
          "text": [
            "\n",
            "tensor([[ 0.2016,  0.1087],\n",
            "        [ 0.3908,  0.6187],\n",
            "        [-0.2001, -0.3101],\n",
            "        [ 0.4694,  0.3961],\n",
            "        [ 0.0975,  0.5075],\n",
            "        [ 0.4760,  0.1486],\n",
            "        [ 0.5412,  0.1045],\n",
            "        [ 0.6396,  0.2358]], grad_fn=<AddmmBackward0>)\n",
            "tensor([0, 0, 0, 0, 0, 1, 1, 0])\n",
            "tensor([0, 1, 0, 0, 1, 0, 0, 0])\n"
          ]
        },
        {
          "name": "stderr",
          "output_type": "stream",
          "text": [
            "\r 70%|██████▉   | 366/525 [17:05<07:30,  2.83s/it]"
          ]
        },
        {
          "name": "stdout",
          "output_type": "stream",
          "text": [
            "\n",
            "tensor([[ 0.1063,  0.0038],\n",
            "        [ 1.0689,  0.8089],\n",
            "        [ 0.6290,  0.3878],\n",
            "        [-0.0165,  0.3113],\n",
            "        [ 0.4999,  0.3448],\n",
            "        [-0.2000, -0.2111],\n",
            "        [ 0.1978,  1.2296],\n",
            "        [ 0.0415,  0.4334]], grad_fn=<AddmmBackward0>)\n",
            "tensor([0, 1, 0, 0, 0, 0, 0, 0])\n",
            "tensor([0, 0, 0, 1, 0, 0, 1, 1])\n"
          ]
        },
        {
          "name": "stderr",
          "output_type": "stream",
          "text": [
            "\r 70%|██████▉   | 367/525 [17:08<07:26,  2.83s/it]"
          ]
        },
        {
          "name": "stdout",
          "output_type": "stream",
          "text": [
            "\n",
            "tensor([[-0.0028,  0.1410],\n",
            "        [ 0.5007,  0.5983],\n",
            "        [ 0.4502, -0.2463],\n",
            "        [ 0.3092,  0.1453],\n",
            "        [ 0.0158,  0.3624],\n",
            "        [-0.0565, -0.1682],\n",
            "        [ 0.3515, -0.0166],\n",
            "        [ 0.1400,  0.1545]], grad_fn=<AddmmBackward0>)\n",
            "tensor([0, 0, 0, 0, 1, 0, 1, 1])\n",
            "tensor([1, 1, 0, 0, 1, 0, 0, 1])\n"
          ]
        },
        {
          "name": "stderr",
          "output_type": "stream",
          "text": [
            "\r 70%|███████   | 368/525 [17:11<07:27,  2.85s/it]"
          ]
        },
        {
          "name": "stdout",
          "output_type": "stream",
          "text": [
            "\n",
            "tensor([[-0.3524, -0.0208],\n",
            "        [ 0.2030, -0.1617],\n",
            "        [ 0.5786,  0.0431],\n",
            "        [ 0.4530,  0.2511],\n",
            "        [ 0.2620,  0.1691],\n",
            "        [ 0.7169, -0.0249],\n",
            "        [ 0.6653,  0.2796],\n",
            "        [ 0.3212,  0.0518]], grad_fn=<AddmmBackward0>)\n",
            "tensor([0, 1, 0, 0, 0, 0, 1, 1])\n",
            "tensor([1, 0, 0, 0, 0, 0, 0, 0])\n"
          ]
        },
        {
          "name": "stderr",
          "output_type": "stream",
          "text": [
            "\r 70%|███████   | 369/525 [17:14<07:22,  2.84s/it]"
          ]
        },
        {
          "name": "stdout",
          "output_type": "stream",
          "text": [
            "\n",
            "tensor([[ 0.2241,  0.3850],\n",
            "        [ 0.1414, -0.2209],\n",
            "        [ 0.3070,  0.2629],\n",
            "        [ 0.0323,  0.2384],\n",
            "        [ 0.5291, -0.1276],\n",
            "        [ 0.4388,  0.0531],\n",
            "        [ 0.4977,  0.3587],\n",
            "        [ 0.3140,  0.6890]], grad_fn=<AddmmBackward0>)\n",
            "tensor([0, 1, 0, 1, 0, 1, 0, 1])\n",
            "tensor([1, 0, 0, 1, 0, 0, 0, 1])\n"
          ]
        },
        {
          "name": "stderr",
          "output_type": "stream",
          "text": [
            "\r 70%|███████   | 370/525 [17:17<07:33,  2.92s/it]"
          ]
        },
        {
          "name": "stdout",
          "output_type": "stream",
          "text": [
            "\n",
            "tensor([[ 0.3157, -0.1672],\n",
            "        [-0.1321, -0.0529],\n",
            "        [ 0.4479,  0.4520],\n",
            "        [ 0.2374, -0.1029],\n",
            "        [ 0.3746,  0.1637],\n",
            "        [ 0.6844, -0.1419],\n",
            "        [-0.0673,  0.5814],\n",
            "        [ 0.1458, -0.0298]], grad_fn=<AddmmBackward0>)\n",
            "tensor([0, 0, 0, 1, 0, 0, 1, 0])\n",
            "tensor([0, 1, 1, 0, 0, 0, 1, 0])\n"
          ]
        },
        {
          "name": "stderr",
          "output_type": "stream",
          "text": [
            "\r 71%|███████   | 371/525 [17:20<07:34,  2.95s/it]"
          ]
        },
        {
          "name": "stdout",
          "output_type": "stream",
          "text": [
            "\n",
            "tensor([[ 0.7660,  0.0571],\n",
            "        [ 1.0162,  0.2240],\n",
            "        [ 0.3622,  0.5032],\n",
            "        [ 0.7110,  0.1806],\n",
            "        [ 0.3365,  0.0104],\n",
            "        [ 0.4459, -0.0545],\n",
            "        [ 0.7957,  0.1591],\n",
            "        [ 0.4699,  0.0085]], grad_fn=<AddmmBackward0>)\n",
            "tensor([1, 1, 1, 0, 0, 1, 0, 1])\n",
            "tensor([0, 0, 1, 0, 0, 0, 0, 0])\n"
          ]
        },
        {
          "name": "stderr",
          "output_type": "stream",
          "text": [
            "\r 71%|███████   | 372/525 [17:23<07:21,  2.88s/it]"
          ]
        },
        {
          "name": "stdout",
          "output_type": "stream",
          "text": [
            "\n",
            "tensor([[ 0.7878,  0.2267],\n",
            "        [ 0.2344, -0.2598],\n",
            "        [-0.0295,  0.4909],\n",
            "        [ 0.3669, -0.2125],\n",
            "        [ 0.3804,  0.0530],\n",
            "        [ 0.4045, -0.1384],\n",
            "        [ 0.9152,  0.9803],\n",
            "        [-0.0023,  0.1130]], grad_fn=<AddmmBackward0>)\n",
            "tensor([1, 0, 0, 1, 0, 0, 1, 1])\n",
            "tensor([0, 0, 1, 0, 0, 0, 1, 1])\n"
          ]
        },
        {
          "name": "stderr",
          "output_type": "stream",
          "text": [
            "\r 71%|███████   | 373/525 [17:25<07:13,  2.85s/it]"
          ]
        },
        {
          "name": "stdout",
          "output_type": "stream",
          "text": [
            "\n",
            "tensor([[ 0.6133, -0.1782],\n",
            "        [ 0.6426, -0.3818],\n",
            "        [ 0.5956,  0.3948],\n",
            "        [ 0.7690,  0.1565],\n",
            "        [ 0.3771,  0.0610],\n",
            "        [ 0.3443,  0.1797],\n",
            "        [ 0.1042,  0.2166],\n",
            "        [ 0.7888,  0.3754]], grad_fn=<AddmmBackward0>)\n",
            "tensor([1, 0, 1, 0, 1, 0, 1, 0])\n",
            "tensor([0, 0, 0, 0, 0, 0, 1, 0])\n"
          ]
        },
        {
          "name": "stderr",
          "output_type": "stream",
          "text": [
            "\r 71%|███████   | 374/525 [17:28<07:16,  2.89s/it]"
          ]
        },
        {
          "name": "stdout",
          "output_type": "stream",
          "text": [
            "\n",
            "tensor([[ 0.5738,  0.2198],\n",
            "        [ 1.2717, -0.1569],\n",
            "        [ 0.8586,  0.2398],\n",
            "        [ 0.8432, -0.0501],\n",
            "        [ 0.7360,  0.0751],\n",
            "        [-0.0484, -0.0983],\n",
            "        [ 0.3361,  0.2970],\n",
            "        [ 0.4255,  0.1617]], grad_fn=<AddmmBackward0>)\n",
            "tensor([0, 0, 0, 1, 0, 1, 1, 1])\n",
            "tensor([0, 0, 0, 0, 0, 0, 0, 0])\n"
          ]
        },
        {
          "name": "stderr",
          "output_type": "stream",
          "text": [
            "\r 71%|███████▏  | 375/525 [17:31<07:13,  2.89s/it]"
          ]
        },
        {
          "name": "stdout",
          "output_type": "stream",
          "text": [
            "\n",
            "tensor([[ 0.8395,  0.5087],\n",
            "        [ 0.7191, -0.0430],\n",
            "        [ 0.7884,  0.1939],\n",
            "        [ 0.7973,  0.3829],\n",
            "        [ 0.3194, -0.0243],\n",
            "        [-0.0977,  0.0047],\n",
            "        [ 0.8175, -0.1431],\n",
            "        [ 0.4546,  0.0813]], grad_fn=<AddmmBackward0>)\n",
            "tensor([0, 0, 0, 0, 0, 0, 0, 1])\n",
            "tensor([0, 0, 0, 0, 0, 1, 0, 0])\n"
          ]
        },
        {
          "name": "stderr",
          "output_type": "stream",
          "text": [
            "\r 72%|███████▏  | 376/525 [17:34<07:08,  2.88s/it]"
          ]
        },
        {
          "name": "stdout",
          "output_type": "stream",
          "text": [
            "\n",
            "tensor([[ 0.2217, -0.5308],\n",
            "        [ 0.1665,  0.0706],\n",
            "        [ 0.3092, -0.0643],\n",
            "        [ 0.8838, -0.0988],\n",
            "        [ 0.8436,  0.7890],\n",
            "        [ 0.0924,  0.1592],\n",
            "        [ 0.2637, -0.4576],\n",
            "        [ 0.6774, -0.1067]], grad_fn=<AddmmBackward0>)\n",
            "tensor([1, 0, 0, 0, 0, 1, 0, 0])\n",
            "tensor([0, 0, 0, 0, 0, 1, 0, 0])\n"
          ]
        },
        {
          "name": "stderr",
          "output_type": "stream",
          "text": [
            "\r 72%|███████▏  | 377/525 [17:37<07:06,  2.88s/it]"
          ]
        },
        {
          "name": "stdout",
          "output_type": "stream",
          "text": [
            "\n",
            "tensor([[ 0.4648, -0.2352],\n",
            "        [ 0.5927,  0.4470],\n",
            "        [ 0.7579,  0.5062],\n",
            "        [ 0.5306,  0.3025],\n",
            "        [ 0.9974, -0.2574],\n",
            "        [ 0.1384,  0.0809],\n",
            "        [ 0.2057, -0.0827],\n",
            "        [ 0.4167, -0.0083]], grad_fn=<AddmmBackward0>)\n",
            "tensor([1, 1, 1, 1, 1, 0, 0, 1])\n",
            "tensor([0, 0, 0, 0, 0, 0, 0, 0])\n"
          ]
        },
        {
          "name": "stderr",
          "output_type": "stream",
          "text": [
            "\r 72%|███████▏  | 378/525 [17:40<06:55,  2.83s/it]"
          ]
        },
        {
          "name": "stdout",
          "output_type": "stream",
          "text": [
            "\n",
            "tensor([[ 0.3859,  0.5372],\n",
            "        [ 0.6134,  0.0178],\n",
            "        [ 0.2403,  0.0670],\n",
            "        [ 0.2443, -0.2340],\n",
            "        [ 0.3557, -0.0111],\n",
            "        [ 0.9932,  0.3662],\n",
            "        [ 0.5126,  0.2945],\n",
            "        [ 0.7992, -0.5559]], grad_fn=<AddmmBackward0>)\n",
            "tensor([0, 0, 1, 1, 0, 0, 1, 0])\n",
            "tensor([1, 0, 0, 0, 0, 0, 0, 0])\n"
          ]
        },
        {
          "name": "stderr",
          "output_type": "stream",
          "text": [
            "\r 72%|███████▏  | 379/525 [17:43<06:59,  2.87s/it]"
          ]
        },
        {
          "name": "stdout",
          "output_type": "stream",
          "text": [
            "\n",
            "tensor([[ 0.3445, -0.0726],\n",
            "        [ 0.2733, -0.3177],\n",
            "        [ 0.6786, -0.0545],\n",
            "        [ 0.4985, -0.2276],\n",
            "        [ 0.5711,  0.4835],\n",
            "        [ 0.5994, -0.0382],\n",
            "        [ 0.5117, -0.3074],\n",
            "        [ 0.4365, -0.2680]], grad_fn=<AddmmBackward0>)\n",
            "tensor([1, 0, 1, 1, 0, 1, 1, 0])\n",
            "tensor([0, 0, 0, 0, 0, 0, 0, 0])\n"
          ]
        },
        {
          "name": "stderr",
          "output_type": "stream",
          "text": [
            "\r 72%|███████▏  | 380/525 [17:46<06:55,  2.86s/it]"
          ]
        },
        {
          "name": "stdout",
          "output_type": "stream",
          "text": [
            "\n",
            "tensor([[ 0.4592,  0.3802],\n",
            "        [-0.0246, -0.4228],\n",
            "        [ 0.5917, -0.0841],\n",
            "        [ 0.2398,  0.1012],\n",
            "        [ 0.5399,  0.4888],\n",
            "        [ 0.2374,  0.1947],\n",
            "        [ 0.5089, -0.2337],\n",
            "        [ 0.8798,  0.1895]], grad_fn=<AddmmBackward0>)\n",
            "tensor([0, 0, 1, 0, 1, 0, 0, 0])\n",
            "tensor([0, 0, 0, 0, 0, 0, 0, 0])\n"
          ]
        },
        {
          "name": "stderr",
          "output_type": "stream",
          "text": [
            "\r 73%|███████▎  | 381/525 [17:48<06:42,  2.79s/it]"
          ]
        },
        {
          "name": "stdout",
          "output_type": "stream",
          "text": [
            "\n",
            "tensor([[ 0.0755,  0.0816],\n",
            "        [ 0.5727,  0.3268],\n",
            "        [ 0.4268, -0.0978],\n",
            "        [ 0.6789,  0.1701],\n",
            "        [ 0.4983,  0.2483],\n",
            "        [ 0.2201,  0.5954],\n",
            "        [ 0.1067, -0.0770],\n",
            "        [-0.0627,  0.0639]], grad_fn=<AddmmBackward0>)\n",
            "tensor([1, 1, 0, 1, 1, 1, 1, 1])\n",
            "tensor([1, 0, 0, 0, 0, 1, 0, 1])\n"
          ]
        },
        {
          "name": "stderr",
          "output_type": "stream",
          "text": [
            "\r 73%|███████▎  | 382/525 [17:51<06:37,  2.78s/it]"
          ]
        },
        {
          "name": "stdout",
          "output_type": "stream",
          "text": [
            "\n",
            "tensor([[ 0.5941,  0.2011],\n",
            "        [ 0.6230,  0.9262],\n",
            "        [ 0.2137,  0.2321],\n",
            "        [-0.1208, -0.3270],\n",
            "        [-0.1623, -0.1756],\n",
            "        [ 0.2442,  0.2767],\n",
            "        [ 0.5097,  0.1893],\n",
            "        [ 0.7070,  0.7747]], grad_fn=<AddmmBackward0>)\n",
            "tensor([1, 1, 1, 0, 1, 0, 1, 1])\n",
            "tensor([0, 1, 1, 0, 0, 1, 0, 1])\n"
          ]
        },
        {
          "name": "stderr",
          "output_type": "stream",
          "text": [
            "\r 73%|███████▎  | 383/525 [17:54<06:31,  2.76s/it]"
          ]
        },
        {
          "name": "stdout",
          "output_type": "stream",
          "text": [
            "\n",
            "tensor([[0.6077, 0.4913],\n",
            "        [0.4522, 0.6642],\n",
            "        [0.0467, 0.8406],\n",
            "        [0.2775, 0.6791],\n",
            "        [0.5002, 0.5049],\n",
            "        [0.8307, 0.6710],\n",
            "        [0.5492, 0.9049],\n",
            "        [0.7572, 0.5989]], grad_fn=<AddmmBackward0>)\n",
            "tensor([0, 0, 1, 0, 0, 1, 0, 0])\n",
            "tensor([0, 1, 1, 1, 1, 0, 1, 0])\n"
          ]
        },
        {
          "name": "stderr",
          "output_type": "stream",
          "text": [
            "\r 73%|███████▎  | 384/525 [17:56<06:31,  2.78s/it]"
          ]
        },
        {
          "name": "stdout",
          "output_type": "stream",
          "text": [
            "\n",
            "tensor([[ 0.1164,  0.8553],\n",
            "        [-0.1792,  0.0306],\n",
            "        [ 0.5330,  0.1739],\n",
            "        [ 0.5250,  0.9948],\n",
            "        [-0.0247,  0.3534],\n",
            "        [-0.0668,  0.3646],\n",
            "        [-0.0240,  0.4779],\n",
            "        [-0.0814,  0.3175]], grad_fn=<AddmmBackward0>)\n",
            "tensor([1, 1, 0, 1, 0, 0, 0, 1])\n",
            "tensor([1, 1, 0, 1, 1, 1, 1, 1])\n"
          ]
        },
        {
          "name": "stderr",
          "output_type": "stream",
          "text": [
            "\r 73%|███████▎  | 385/525 [18:00<06:42,  2.87s/it]"
          ]
        },
        {
          "name": "stdout",
          "output_type": "stream",
          "text": [
            "\n",
            "tensor([[ 0.4839, -0.0102],\n",
            "        [-0.1410,  0.2514],\n",
            "        [ 0.1848,  0.7448],\n",
            "        [-0.1426,  0.0348],\n",
            "        [-0.3635, -0.0720],\n",
            "        [ 0.0361,  0.8394],\n",
            "        [-0.4155,  0.1976],\n",
            "        [ 0.1171,  0.0585]], grad_fn=<AddmmBackward0>)\n",
            "tensor([0, 1, 0, 1, 1, 1, 1, 1])\n",
            "tensor([0, 1, 1, 1, 1, 1, 1, 0])\n"
          ]
        },
        {
          "name": "stderr",
          "output_type": "stream",
          "text": [
            "\r 74%|███████▎  | 386/525 [18:02<06:41,  2.89s/it]"
          ]
        },
        {
          "name": "stdout",
          "output_type": "stream",
          "text": [
            "\n",
            "tensor([[-0.0856,  0.5967],\n",
            "        [ 0.0401,  0.6815],\n",
            "        [-0.0979,  0.2972],\n",
            "        [ 0.2597,  0.9260],\n",
            "        [ 0.0706,  1.0578],\n",
            "        [ 0.3826,  0.7060],\n",
            "        [-0.0308,  0.5049],\n",
            "        [-0.2579,  0.7402]], grad_fn=<AddmmBackward0>)\n",
            "tensor([0, 0, 1, 0, 1, 1, 0, 1])\n",
            "tensor([1, 1, 1, 1, 1, 1, 1, 1])\n"
          ]
        },
        {
          "name": "stderr",
          "output_type": "stream",
          "text": [
            "\r 74%|███████▎  | 387/525 [18:05<06:31,  2.84s/it]"
          ]
        },
        {
          "name": "stdout",
          "output_type": "stream",
          "text": [
            "\n",
            "tensor([[-0.5953,  0.3870],\n",
            "        [-0.1747,  0.1005],\n",
            "        [-0.3362,  0.3723],\n",
            "        [-0.7742,  0.5441],\n",
            "        [ 0.0097,  0.5924],\n",
            "        [ 0.6182,  0.7884],\n",
            "        [ 0.2667,  0.6477],\n",
            "        [-0.2137,  0.5365]], grad_fn=<AddmmBackward0>)\n",
            "tensor([1, 1, 1, 0, 1, 1, 0, 1])\n",
            "tensor([1, 1, 1, 1, 1, 1, 1, 1])\n"
          ]
        },
        {
          "name": "stderr",
          "output_type": "stream",
          "text": [
            "\r 74%|███████▍  | 388/525 [18:08<06:31,  2.85s/it]"
          ]
        },
        {
          "name": "stdout",
          "output_type": "stream",
          "text": [
            "\n",
            "tensor([[-0.0211,  0.2954],\n",
            "        [-0.0495,  0.3282],\n",
            "        [-0.3772,  0.3919],\n",
            "        [ 0.2268,  0.6792],\n",
            "        [-0.0304,  0.9675],\n",
            "        [-0.2435,  0.7752],\n",
            "        [ 0.1381,  0.7262],\n",
            "        [-0.2422,  0.4595]], grad_fn=<AddmmBackward0>)\n",
            "tensor([1, 1, 1, 0, 1, 0, 0, 0])\n",
            "tensor([1, 1, 1, 1, 1, 1, 1, 1])\n"
          ]
        },
        {
          "name": "stderr",
          "output_type": "stream",
          "text": [
            "\r 74%|███████▍  | 389/525 [18:11<06:32,  2.89s/it]"
          ]
        },
        {
          "name": "stdout",
          "output_type": "stream",
          "text": [
            "\n",
            "tensor([[-0.0979,  0.4368],\n",
            "        [-0.0608,  0.9600],\n",
            "        [ 0.1415,  0.8698],\n",
            "        [-0.1572,  0.9606],\n",
            "        [ 0.3087,  1.1131],\n",
            "        [-0.1266,  0.7375],\n",
            "        [ 0.0241,  0.5010],\n",
            "        [ 0.3351,  0.5501]], grad_fn=<AddmmBackward0>)\n",
            "tensor([1, 1, 1, 1, 1, 1, 0, 0])\n",
            "tensor([1, 1, 1, 1, 1, 1, 1, 1])\n"
          ]
        },
        {
          "name": "stderr",
          "output_type": "stream",
          "text": [
            "\r 74%|███████▍  | 390/525 [18:14<06:36,  2.94s/it]"
          ]
        },
        {
          "name": "stdout",
          "output_type": "stream",
          "text": [
            "\n",
            "tensor([[-0.2848,  0.6650],\n",
            "        [-0.3784,  0.7803],\n",
            "        [ 0.0120,  0.7390],\n",
            "        [-0.1252,  0.8078],\n",
            "        [-0.1313,  0.5037],\n",
            "        [-0.1536,  1.0071],\n",
            "        [-0.3377,  0.1440],\n",
            "        [-0.4536,  0.0934]], grad_fn=<AddmmBackward0>)\n",
            "tensor([0, 1, 1, 1, 0, 1, 0, 0])\n",
            "tensor([1, 1, 1, 1, 1, 1, 1, 1])\n"
          ]
        },
        {
          "name": "stderr",
          "output_type": "stream",
          "text": [
            "\r 74%|███████▍  | 391/525 [18:17<06:32,  2.93s/it]"
          ]
        },
        {
          "name": "stdout",
          "output_type": "stream",
          "text": [
            "\n",
            "tensor([[ 0.3792,  0.9794],\n",
            "        [ 0.0291,  0.7955],\n",
            "        [-0.4641,  0.6274],\n",
            "        [-0.0937,  0.2621],\n",
            "        [ 0.0248,  0.6086],\n",
            "        [ 0.0994,  0.2309],\n",
            "        [ 0.8267,  0.6971],\n",
            "        [-0.3478,  0.6091]], grad_fn=<AddmmBackward0>)\n",
            "tensor([1, 0, 1, 1, 1, 1, 1, 0])\n",
            "tensor([1, 1, 1, 1, 1, 1, 0, 1])\n"
          ]
        },
        {
          "name": "stderr",
          "output_type": "stream",
          "text": [
            "\r 75%|███████▍  | 392/525 [18:20<06:24,  2.89s/it]"
          ]
        },
        {
          "name": "stdout",
          "output_type": "stream",
          "text": [
            "\n",
            "tensor([[ 0.1918,  0.4977],\n",
            "        [ 0.2264,  1.0265],\n",
            "        [-0.4351,  0.7905],\n",
            "        [-0.1576,  0.9879],\n",
            "        [-0.0543,  0.4974],\n",
            "        [ 0.1415,  0.5328],\n",
            "        [ 0.3285,  0.5876],\n",
            "        [-0.1408,  1.0271]], grad_fn=<AddmmBackward0>)\n",
            "tensor([1, 1, 0, 1, 0, 0, 0, 0])\n",
            "tensor([1, 1, 1, 1, 1, 1, 1, 1])\n"
          ]
        },
        {
          "name": "stderr",
          "output_type": "stream",
          "text": [
            "\r 75%|███████▍  | 393/525 [18:23<06:18,  2.87s/it]"
          ]
        },
        {
          "name": "stdout",
          "output_type": "stream",
          "text": [
            "\n",
            "tensor([[ 0.0272,  0.6978],\n",
            "        [-0.3046,  0.5859],\n",
            "        [-0.4051,  1.0212],\n",
            "        [ 0.1602,  1.0255],\n",
            "        [-0.4958,  0.5862],\n",
            "        [ 0.1934,  0.8729],\n",
            "        [ 0.1515,  0.6817],\n",
            "        [-0.3016,  0.7265]], grad_fn=<AddmmBackward0>)\n",
            "tensor([1, 0, 1, 1, 1, 0, 0, 1])\n",
            "tensor([1, 1, 1, 1, 1, 1, 1, 1])\n"
          ]
        },
        {
          "name": "stderr",
          "output_type": "stream",
          "text": [
            "\r 75%|███████▌  | 394/525 [18:26<06:18,  2.89s/it]"
          ]
        },
        {
          "name": "stdout",
          "output_type": "stream",
          "text": [
            "\n",
            "tensor([[ 0.5616,  0.9509],\n",
            "        [ 0.1886,  0.3493],\n",
            "        [-0.2118,  0.4573],\n",
            "        [ 0.0016,  0.8130],\n",
            "        [-0.1741,  0.3034],\n",
            "        [-0.2486,  0.6550],\n",
            "        [-0.0796,  0.4324],\n",
            "        [ 0.0434,  0.3561]], grad_fn=<AddmmBackward0>)\n",
            "tensor([1, 0, 0, 1, 0, 0, 0, 1])\n",
            "tensor([1, 1, 1, 1, 1, 1, 1, 1])\n"
          ]
        },
        {
          "name": "stderr",
          "output_type": "stream",
          "text": [
            "\r 75%|███████▌  | 395/525 [18:29<06:22,  2.94s/it]"
          ]
        },
        {
          "name": "stdout",
          "output_type": "stream",
          "text": [
            "\n",
            "tensor([[-0.4237,  0.4974],\n",
            "        [-0.1405,  0.0244],\n",
            "        [ 0.1286,  0.7972],\n",
            "        [ 0.0616,  1.1752],\n",
            "        [ 0.1487,  0.7716],\n",
            "        [-0.0252,  0.8487],\n",
            "        [ 0.0799,  0.5767],\n",
            "        [ 0.1485,  0.5839]], grad_fn=<AddmmBackward0>)\n",
            "tensor([1, 1, 0, 0, 0, 0, 0, 1])\n",
            "tensor([1, 1, 1, 1, 1, 1, 1, 1])\n"
          ]
        },
        {
          "name": "stderr",
          "output_type": "stream",
          "text": [
            "\r 75%|███████▌  | 396/525 [18:31<06:18,  2.93s/it]"
          ]
        },
        {
          "name": "stdout",
          "output_type": "stream",
          "text": [
            "\n",
            "tensor([[ 0.2222,  0.7177],\n",
            "        [ 0.5407,  0.8967],\n",
            "        [ 0.0946,  0.7246],\n",
            "        [ 0.9169,  0.8093],\n",
            "        [ 0.2596,  0.4200],\n",
            "        [ 0.0158,  0.5032],\n",
            "        [ 0.2433,  0.3232],\n",
            "        [-0.2360,  0.3365]], grad_fn=<AddmmBackward0>)\n",
            "tensor([1, 0, 1, 0, 1, 0, 0, 0])\n",
            "tensor([1, 1, 1, 0, 1, 1, 1, 1])\n"
          ]
        },
        {
          "name": "stderr",
          "output_type": "stream",
          "text": [
            "\r 76%|███████▌  | 397/525 [18:34<06:09,  2.88s/it]"
          ]
        },
        {
          "name": "stdout",
          "output_type": "stream",
          "text": [
            "\n",
            "tensor([[ 0.8273,  0.5766],\n",
            "        [ 0.8395,  0.4213],\n",
            "        [ 0.5245,  0.7336],\n",
            "        [ 0.0347,  0.3209],\n",
            "        [ 0.5139,  0.0401],\n",
            "        [-0.0540, -0.0437],\n",
            "        [ 0.3808,  0.1272],\n",
            "        [ 0.4691,  0.5391]], grad_fn=<AddmmBackward0>)\n",
            "tensor([1, 1, 0, 0, 0, 1, 0, 0])\n",
            "tensor([0, 0, 1, 1, 0, 1, 0, 1])\n"
          ]
        },
        {
          "name": "stderr",
          "output_type": "stream",
          "text": [
            "\r 76%|███████▌  | 398/525 [18:37<06:00,  2.84s/it]"
          ]
        },
        {
          "name": "stdout",
          "output_type": "stream",
          "text": [
            "\n",
            "tensor([[ 0.9934,  0.4462],\n",
            "        [ 0.8108,  0.7150],\n",
            "        [ 0.4048, -0.0041],\n",
            "        [ 0.4121,  0.4495],\n",
            "        [ 0.0236, -0.0453],\n",
            "        [ 0.1478,  0.2895],\n",
            "        [ 1.0127,  0.6980],\n",
            "        [ 1.0949,  0.7669]], grad_fn=<AddmmBackward0>)\n",
            "tensor([0, 1, 1, 1, 1, 0, 0, 0])\n",
            "tensor([0, 0, 0, 1, 0, 1, 0, 0])\n"
          ]
        },
        {
          "name": "stderr",
          "output_type": "stream",
          "text": [
            "\r 76%|███████▌  | 399/525 [18:40<05:58,  2.84s/it]"
          ]
        },
        {
          "name": "stdout",
          "output_type": "stream",
          "text": [
            "\n",
            "tensor([[ 0.6907,  0.2756],\n",
            "        [ 0.0428,  0.3961],\n",
            "        [ 1.0637,  0.4506],\n",
            "        [ 0.2869,  0.2913],\n",
            "        [ 0.7109,  0.0475],\n",
            "        [ 0.8412,  0.5207],\n",
            "        [ 0.0653, -0.0369],\n",
            "        [ 0.8896,  0.0754]], grad_fn=<AddmmBackward0>)\n",
            "tensor([0, 0, 0, 1, 0, 1, 0, 0])\n",
            "tensor([0, 1, 0, 1, 0, 0, 0, 0])\n"
          ]
        },
        {
          "name": "stderr",
          "output_type": "stream",
          "text": [
            "\r 76%|███████▌  | 400/525 [18:43<05:56,  2.85s/it]"
          ]
        },
        {
          "name": "stdout",
          "output_type": "stream",
          "text": [
            "\n",
            "tensor([[ 1.4495,  0.0281],\n",
            "        [ 0.8863, -0.1417],\n",
            "        [ 0.1457, -0.2098],\n",
            "        [ 0.6915, -0.1422],\n",
            "        [ 0.5967, -0.2240],\n",
            "        [ 0.4769, -0.5203],\n",
            "        [ 0.4844, -0.4367],\n",
            "        [ 1.0566, -1.1841]], grad_fn=<AddmmBackward0>)\n",
            "tensor([0, 1, 1, 1, 0, 0, 0, 0])\n",
            "tensor([0, 0, 0, 0, 0, 0, 0, 0])\n"
          ]
        },
        {
          "name": "stderr",
          "output_type": "stream",
          "text": [
            "\r 76%|███████▋  | 401/525 [18:46<05:55,  2.87s/it]"
          ]
        },
        {
          "name": "stdout",
          "output_type": "stream",
          "text": [
            "\n",
            "tensor([[ 0.9795, -0.4225],\n",
            "        [ 1.0781,  0.1145],\n",
            "        [ 1.1754, -0.1148],\n",
            "        [ 0.6269,  0.0859],\n",
            "        [ 0.5120, -0.7779],\n",
            "        [ 0.9227, -0.2184],\n",
            "        [ 0.8557, -0.4293],\n",
            "        [ 1.1254, -0.1463]], grad_fn=<AddmmBackward0>)\n",
            "tensor([0, 1, 1, 0, 1, 0, 1, 1])\n",
            "tensor([0, 0, 0, 0, 0, 0, 0, 0])\n"
          ]
        },
        {
          "name": "stderr",
          "output_type": "stream",
          "text": [
            "\r 77%|███████▋  | 402/525 [18:48<05:51,  2.86s/it]"
          ]
        },
        {
          "name": "stdout",
          "output_type": "stream",
          "text": [
            "\n",
            "tensor([[ 0.7198, -0.2468],\n",
            "        [ 1.1388,  0.3939],\n",
            "        [ 1.1448, -0.0171],\n",
            "        [ 0.7191, -0.2309],\n",
            "        [ 1.0373, -0.6158],\n",
            "        [ 0.8663, -0.4977],\n",
            "        [ 0.4843, -0.1487],\n",
            "        [ 0.9223, -0.7748]], grad_fn=<AddmmBackward0>)\n",
            "tensor([0, 0, 1, 0, 1, 1, 0, 0])\n",
            "tensor([0, 0, 0, 0, 0, 0, 0, 0])\n"
          ]
        },
        {
          "name": "stderr",
          "output_type": "stream",
          "text": [
            "\r 77%|███████▋  | 403/525 [18:51<05:48,  2.86s/it]"
          ]
        },
        {
          "name": "stdout",
          "output_type": "stream",
          "text": [
            "\n",
            "tensor([[ 1.0933, -0.3340],\n",
            "        [ 0.7387,  0.1752],\n",
            "        [ 1.0575, -0.1323],\n",
            "        [ 0.8730, -0.2206],\n",
            "        [ 1.2071,  0.0201],\n",
            "        [ 0.8516, -0.4362],\n",
            "        [ 1.2054,  0.1143],\n",
            "        [ 1.0827, -0.1016]], grad_fn=<AddmmBackward0>)\n",
            "tensor([1, 0, 1, 0, 1, 1, 0, 1])\n",
            "tensor([0, 0, 0, 0, 0, 0, 0, 0])\n"
          ]
        },
        {
          "name": "stderr",
          "output_type": "stream",
          "text": [
            "\r 77%|███████▋  | 404/525 [18:54<05:34,  2.77s/it]"
          ]
        },
        {
          "name": "stdout",
          "output_type": "stream",
          "text": [
            "\n",
            "tensor([[ 1.1468,  0.1626],\n",
            "        [ 1.1581, -0.1694],\n",
            "        [ 0.4504, -0.2874],\n",
            "        [ 1.0937, -0.5062],\n",
            "        [ 1.4172, -0.0371],\n",
            "        [ 0.6278, -0.2538],\n",
            "        [ 1.1737,  0.1677],\n",
            "        [ 0.9143,  0.2320]], grad_fn=<AddmmBackward0>)\n",
            "tensor([0, 1, 1, 0, 0, 0, 1, 1])\n",
            "tensor([0, 0, 0, 0, 0, 0, 0, 0])\n"
          ]
        },
        {
          "name": "stderr",
          "output_type": "stream",
          "text": [
            "\r 77%|███████▋  | 405/525 [18:57<05:38,  2.82s/it]"
          ]
        },
        {
          "name": "stdout",
          "output_type": "stream",
          "text": [
            "\n",
            "tensor([[ 0.7835,  0.2506],\n",
            "        [ 0.9497,  0.2029],\n",
            "        [ 0.3489, -0.1881],\n",
            "        [ 1.3329,  0.1213],\n",
            "        [ 0.7930,  0.1794],\n",
            "        [ 0.4729, -0.2029],\n",
            "        [ 0.8458, -0.0906],\n",
            "        [ 0.8946,  0.0441]], grad_fn=<AddmmBackward0>)\n",
            "tensor([1, 1, 1, 1, 0, 0, 0, 0])\n",
            "tensor([0, 0, 0, 0, 0, 0, 0, 0])\n"
          ]
        },
        {
          "name": "stderr",
          "output_type": "stream",
          "text": [
            "\r 77%|███████▋  | 406/525 [19:00<05:40,  2.86s/it]"
          ]
        },
        {
          "name": "stdout",
          "output_type": "stream",
          "text": [
            "\n",
            "tensor([[ 0.3877, -0.0372],\n",
            "        [ 1.0731,  0.1913],\n",
            "        [ 0.8720, -0.2257],\n",
            "        [ 0.8249, -0.4865],\n",
            "        [ 0.6522,  0.0200],\n",
            "        [ 0.6162,  0.4373],\n",
            "        [ 0.8444,  0.0779],\n",
            "        [ 1.1266, -0.2885]], grad_fn=<AddmmBackward0>)\n",
            "tensor([0, 0, 1, 0, 0, 0, 1, 1])\n",
            "tensor([0, 0, 0, 0, 0, 0, 0, 0])\n"
          ]
        },
        {
          "name": "stderr",
          "output_type": "stream",
          "text": [
            "\r 78%|███████▊  | 407/525 [19:03<05:37,  2.86s/it]"
          ]
        },
        {
          "name": "stdout",
          "output_type": "stream",
          "text": [
            "\n",
            "tensor([[ 0.5009, -0.2662],\n",
            "        [ 0.4895,  0.2444],\n",
            "        [ 0.9779,  0.3839],\n",
            "        [ 1.0677, -0.0981],\n",
            "        [ 0.5262,  0.4801],\n",
            "        [ 1.2589, -0.1875],\n",
            "        [ 0.2956, -0.4998],\n",
            "        [ 0.1688, -0.1818]], grad_fn=<AddmmBackward0>)\n",
            "tensor([1, 0, 1, 0, 0, 0, 1, 0])\n",
            "tensor([0, 0, 0, 0, 0, 0, 0, 0])\n"
          ]
        },
        {
          "name": "stderr",
          "output_type": "stream",
          "text": [
            "\r 78%|███████▊  | 408/525 [19:05<05:29,  2.82s/it]"
          ]
        },
        {
          "name": "stdout",
          "output_type": "stream",
          "text": [
            "\n",
            "tensor([[ 0.4338,  0.2804],\n",
            "        [ 0.1609,  0.1861],\n",
            "        [ 0.5790,  0.0931],\n",
            "        [ 0.8459,  0.0941],\n",
            "        [ 0.3159,  0.3598],\n",
            "        [ 0.8201,  0.4048],\n",
            "        [-0.0234,  0.1648],\n",
            "        [ 0.6752,  0.3328]], grad_fn=<AddmmBackward0>)\n",
            "tensor([0, 1, 0, 1, 1, 0, 0, 0])\n",
            "tensor([0, 1, 0, 0, 1, 0, 1, 0])\n"
          ]
        },
        {
          "name": "stderr",
          "output_type": "stream",
          "text": [
            "\r 78%|███████▊  | 409/525 [19:08<05:27,  2.82s/it]"
          ]
        },
        {
          "name": "stdout",
          "output_type": "stream",
          "text": [
            "\n",
            "tensor([[ 0.2398,  0.3838],\n",
            "        [ 0.0055,  0.7013],\n",
            "        [ 0.0149, -0.3115],\n",
            "        [ 0.7553, -0.1741],\n",
            "        [ 0.5417,  0.3139],\n",
            "        [ 0.4992,  0.1620],\n",
            "        [ 0.2052,  0.6847],\n",
            "        [ 0.0327,  0.4756]], grad_fn=<AddmmBackward0>)\n",
            "tensor([0, 1, 1, 0, 0, 1, 1, 0])\n",
            "tensor([1, 1, 0, 0, 0, 0, 1, 1])\n"
          ]
        },
        {
          "name": "stderr",
          "output_type": "stream",
          "text": [
            "\r 78%|███████▊  | 410/525 [19:11<05:22,  2.80s/it]"
          ]
        },
        {
          "name": "stdout",
          "output_type": "stream",
          "text": [
            "\n",
            "tensor([[ 0.4607,  0.5923],\n",
            "        [ 0.3122,  0.6297],\n",
            "        [ 0.7484,  0.6821],\n",
            "        [ 0.0997, -0.2686],\n",
            "        [ 0.5586,  0.5323],\n",
            "        [ 0.7179, -0.0012],\n",
            "        [ 0.8681,  0.4539],\n",
            "        [ 0.2391,  0.3142]], grad_fn=<AddmmBackward0>)\n",
            "tensor([1, 1, 0, 1, 0, 0, 1, 0])\n",
            "tensor([1, 1, 0, 0, 0, 0, 0, 1])\n"
          ]
        },
        {
          "name": "stderr",
          "output_type": "stream",
          "text": [
            "\r 78%|███████▊  | 411/525 [19:14<05:19,  2.80s/it]"
          ]
        },
        {
          "name": "stdout",
          "output_type": "stream",
          "text": [
            "\n",
            "tensor([[ 0.2929,  0.2366],\n",
            "        [ 0.5217,  0.0307],\n",
            "        [-0.2631,  0.3010],\n",
            "        [ 0.4163,  0.1889],\n",
            "        [ 0.7803,  0.8882],\n",
            "        [ 0.2611,  0.8586],\n",
            "        [ 0.2645,  0.3414],\n",
            "        [-0.2370,  0.1417]], grad_fn=<AddmmBackward0>)\n",
            "tensor([0, 0, 1, 1, 0, 0, 0, 1])\n",
            "tensor([0, 0, 1, 0, 1, 1, 1, 1])\n"
          ]
        },
        {
          "name": "stderr",
          "output_type": "stream",
          "text": [
            "\r 78%|███████▊  | 412/525 [19:17<05:16,  2.80s/it]"
          ]
        },
        {
          "name": "stdout",
          "output_type": "stream",
          "text": [
            "\n",
            "tensor([[0.3756, 0.4303],\n",
            "        [0.3251, 0.4419],\n",
            "        [0.2385, 0.8669],\n",
            "        [0.8018, 0.6661],\n",
            "        [0.3796, 0.1673],\n",
            "        [0.1762, 0.5014],\n",
            "        [0.0667, 0.1273],\n",
            "        [0.5504, 0.7043]], grad_fn=<AddmmBackward0>)\n",
            "tensor([1, 0, 1, 1, 1, 0, 0, 0])\n",
            "tensor([1, 1, 1, 0, 0, 1, 1, 1])\n"
          ]
        },
        {
          "name": "stderr",
          "output_type": "stream",
          "text": [
            "\r 79%|███████▊  | 413/525 [19:19<05:06,  2.73s/it]"
          ]
        },
        {
          "name": "stdout",
          "output_type": "stream",
          "text": [
            "\n",
            "tensor([[ 0.6124,  0.7858],\n",
            "        [-0.1745,  0.1848],\n",
            "        [-0.0875,  0.1963],\n",
            "        [ 0.1992, -0.0345],\n",
            "        [ 0.4130,  0.8427],\n",
            "        [ 0.1943,  0.1241],\n",
            "        [ 0.4497,  0.4499],\n",
            "        [-0.0499,  0.3114]], grad_fn=<AddmmBackward0>)\n",
            "tensor([1, 0, 0, 1, 0, 1, 0, 0])\n",
            "tensor([1, 1, 1, 0, 1, 0, 1, 1])\n"
          ]
        },
        {
          "name": "stderr",
          "output_type": "stream",
          "text": [
            "\r 79%|███████▉  | 414/525 [19:22<05:01,  2.72s/it]"
          ]
        },
        {
          "name": "stdout",
          "output_type": "stream",
          "text": [
            "\n",
            "tensor([[ 0.0287,  0.3181],\n",
            "        [-0.0909,  0.7630],\n",
            "        [ 0.0191,  0.4965],\n",
            "        [-0.5411,  0.3234],\n",
            "        [-0.0389,  0.1030],\n",
            "        [ 0.0735,  0.2976],\n",
            "        [ 0.5169,  0.6623],\n",
            "        [ 0.0863,  0.2601]], grad_fn=<AddmmBackward0>)\n",
            "tensor([1, 1, 1, 0, 1, 1, 1, 1])\n",
            "tensor([1, 1, 1, 1, 1, 1, 1, 1])\n"
          ]
        },
        {
          "name": "stderr",
          "output_type": "stream",
          "text": [
            "\r 79%|███████▉  | 415/525 [19:25<05:11,  2.83s/it]"
          ]
        },
        {
          "name": "stdout",
          "output_type": "stream",
          "text": [
            "\n",
            "tensor([[0.3161, 1.0653],\n",
            "        [0.0990, 0.2378],\n",
            "        [0.2519, 0.4563],\n",
            "        [0.0194, 0.5313],\n",
            "        [0.0487, 0.5484],\n",
            "        [0.2188, 0.5244],\n",
            "        [0.0020, 0.4455],\n",
            "        [0.2228, 0.4493]], grad_fn=<AddmmBackward0>)\n",
            "tensor([1, 1, 1, 1, 1, 1, 1, 0])\n",
            "tensor([1, 1, 1, 1, 1, 1, 1, 1])\n"
          ]
        },
        {
          "name": "stderr",
          "output_type": "stream",
          "text": [
            "\r 79%|███████▉  | 416/525 [19:28<05:15,  2.89s/it]"
          ]
        },
        {
          "name": "stdout",
          "output_type": "stream",
          "text": [
            "\n",
            "tensor([[0.0036, 0.6271],\n",
            "        [0.2776, 0.6486],\n",
            "        [0.4289, 0.6607],\n",
            "        [0.0558, 0.3507],\n",
            "        [0.0529, 0.1652],\n",
            "        [0.0582, 0.6777],\n",
            "        [0.4157, 0.9606],\n",
            "        [0.3308, 0.6676]], grad_fn=<AddmmBackward0>)\n",
            "tensor([1, 1, 0, 1, 1, 0, 1, 0])\n",
            "tensor([1, 1, 1, 1, 1, 1, 1, 1])\n"
          ]
        },
        {
          "name": "stderr",
          "output_type": "stream",
          "text": [
            "\r 79%|███████▉  | 417/525 [19:31<05:11,  2.89s/it]"
          ]
        },
        {
          "name": "stdout",
          "output_type": "stream",
          "text": [
            "\n",
            "tensor([[-0.5400,  0.3713],\n",
            "        [ 0.0550,  0.2666],\n",
            "        [ 0.2438,  0.6994],\n",
            "        [-0.0579,  0.5439],\n",
            "        [ 0.1209,  0.4075],\n",
            "        [ 0.4556,  0.4291],\n",
            "        [ 0.3209,  0.6826],\n",
            "        [ 0.0721,  0.6652]], grad_fn=<AddmmBackward0>)\n",
            "tensor([1, 1, 0, 0, 0, 1, 1, 1])\n",
            "tensor([1, 1, 1, 1, 1, 0, 1, 1])\n"
          ]
        },
        {
          "name": "stderr",
          "output_type": "stream",
          "text": [
            "\r 80%|███████▉  | 418/525 [19:33<04:57,  2.78s/it]"
          ]
        },
        {
          "name": "stdout",
          "output_type": "stream",
          "text": [
            "\n",
            "tensor([[ 0.0250,  0.5886],\n",
            "        [ 0.2762,  1.0606],\n",
            "        [-0.1696,  0.3440],\n",
            "        [ 0.1501,  0.8547],\n",
            "        [-0.2074,  0.3854],\n",
            "        [-0.0364,  0.8283],\n",
            "        [-0.0479,  0.3054],\n",
            "        [ 0.0019,  1.0166]], grad_fn=<AddmmBackward0>)\n",
            "tensor([1, 0, 0, 1, 0, 0, 0, 0])\n",
            "tensor([1, 1, 1, 1, 1, 1, 1, 1])\n"
          ]
        },
        {
          "name": "stderr",
          "output_type": "stream",
          "text": [
            "\r 80%|███████▉  | 419/525 [19:36<04:38,  2.63s/it]"
          ]
        },
        {
          "name": "stdout",
          "output_type": "stream",
          "text": [
            "\n",
            "tensor([[ 0.1078,  0.7507],\n",
            "        [ 0.1905,  0.3587],\n",
            "        [-0.0862,  0.7900],\n",
            "        [ 0.2019,  1.4410],\n",
            "        [-0.2613,  0.7478],\n",
            "        [ 0.1763,  0.4652],\n",
            "        [ 0.1877,  0.7397],\n",
            "        [ 0.0091,  0.8158]], grad_fn=<AddmmBackward0>)\n",
            "tensor([1, 1, 0, 1, 0, 0, 0, 0])\n",
            "tensor([1, 1, 1, 1, 1, 1, 1, 1])\n"
          ]
        },
        {
          "name": "stderr",
          "output_type": "stream",
          "text": [
            "\r 80%|████████  | 420/525 [19:38<04:38,  2.65s/it]"
          ]
        },
        {
          "name": "stdout",
          "output_type": "stream",
          "text": [
            "\n",
            "tensor([[-0.3194,  0.7110],\n",
            "        [ 0.0929,  0.5936],\n",
            "        [ 0.0278,  0.6545],\n",
            "        [-0.3101,  0.5481],\n",
            "        [-0.5167,  0.3895],\n",
            "        [-0.1904,  0.1276],\n",
            "        [ 0.7676,  1.2752],\n",
            "        [ 0.0077,  1.1207]], grad_fn=<AddmmBackward0>)\n",
            "tensor([1, 0, 1, 0, 1, 0, 1, 1])\n",
            "tensor([1, 1, 1, 1, 1, 1, 1, 1])\n"
          ]
        },
        {
          "name": "stderr",
          "output_type": "stream",
          "text": [
            "\r 80%|████████  | 421/525 [19:41<04:46,  2.75s/it]"
          ]
        },
        {
          "name": "stdout",
          "output_type": "stream",
          "text": [
            "\n",
            "tensor([[ 0.6506,  0.9738],\n",
            "        [ 0.2989,  1.0245],\n",
            "        [-0.0398,  0.8701],\n",
            "        [-0.0128,  0.9576],\n",
            "        [ 0.6087, -0.0621],\n",
            "        [ 0.1487,  1.0370],\n",
            "        [-0.3443,  0.5568],\n",
            "        [ 0.1468,  0.6609]], grad_fn=<AddmmBackward0>)\n",
            "tensor([1, 0, 0, 1, 1, 1, 0, 0])\n",
            "tensor([1, 1, 1, 1, 0, 1, 1, 1])\n"
          ]
        },
        {
          "name": "stderr",
          "output_type": "stream",
          "text": [
            "\r 80%|████████  | 422/525 [19:44<04:33,  2.65s/it]"
          ]
        },
        {
          "name": "stdout",
          "output_type": "stream",
          "text": [
            "\n",
            "tensor([[ 0.7858,  0.6333],\n",
            "        [ 0.0299,  1.0651],\n",
            "        [-0.2987,  0.6897],\n",
            "        [ 0.2880,  0.6474],\n",
            "        [ 0.0874,  0.6331],\n",
            "        [ 0.5262,  0.6376],\n",
            "        [-0.1788,  0.5215],\n",
            "        [-0.3569,  0.2654]], grad_fn=<AddmmBackward0>)\n",
            "tensor([1, 0, 1, 1, 1, 0, 0, 0])\n",
            "tensor([0, 1, 1, 1, 1, 1, 1, 1])\n"
          ]
        },
        {
          "name": "stderr",
          "output_type": "stream",
          "text": [
            "\r 81%|████████  | 423/525 [19:47<04:37,  2.72s/it]"
          ]
        },
        {
          "name": "stdout",
          "output_type": "stream",
          "text": [
            "\n",
            "tensor([[-0.0799,  0.2965],\n",
            "        [ 0.1320,  0.5765],\n",
            "        [ 0.4703,  0.5578],\n",
            "        [ 0.2620,  0.1851],\n",
            "        [ 0.3336,  0.3345],\n",
            "        [ 0.3973,  0.7786],\n",
            "        [-0.0188,  0.7228],\n",
            "        [ 0.5477,  0.1434]], grad_fn=<AddmmBackward0>)\n",
            "tensor([1, 0, 1, 0, 0, 1, 1, 1])\n",
            "tensor([1, 1, 1, 0, 1, 1, 1, 0])\n"
          ]
        },
        {
          "name": "stderr",
          "output_type": "stream",
          "text": [
            "\r 81%|████████  | 424/525 [19:49<04:19,  2.57s/it]"
          ]
        },
        {
          "name": "stdout",
          "output_type": "stream",
          "text": [
            "\n",
            "tensor([[0.4842, 0.0360],\n",
            "        [0.0701, 0.0206],\n",
            "        [0.0945, 0.1153],\n",
            "        [0.5880, 0.1692],\n",
            "        [0.7257, 0.4108],\n",
            "        [0.3340, 0.4364],\n",
            "        [0.2441, 0.5015],\n",
            "        [0.3481, 0.4502]], grad_fn=<AddmmBackward0>)\n",
            "tensor([0, 1, 1, 1, 0, 0, 1, 0])\n",
            "tensor([0, 0, 1, 0, 0, 1, 1, 1])\n"
          ]
        },
        {
          "name": "stderr",
          "output_type": "stream",
          "text": [
            "\r 81%|████████  | 425/525 [19:52<04:26,  2.66s/it]"
          ]
        },
        {
          "name": "stdout",
          "output_type": "stream",
          "text": [
            "\n",
            "tensor([[ 0.2799,  0.6195],\n",
            "        [ 0.4639,  0.3419],\n",
            "        [ 0.3320,  0.7220],\n",
            "        [ 0.2754,  0.1810],\n",
            "        [-0.0896,  0.6004],\n",
            "        [-0.0961,  0.4650],\n",
            "        [-0.3067,  0.5185],\n",
            "        [ 0.8070,  0.7944]], grad_fn=<AddmmBackward0>)\n",
            "tensor([0, 1, 0, 0, 1, 0, 1, 1])\n",
            "tensor([1, 0, 1, 0, 1, 1, 1, 0])\n"
          ]
        },
        {
          "name": "stderr",
          "output_type": "stream",
          "text": [
            "\r 81%|████████  | 426/525 [19:55<04:33,  2.76s/it]"
          ]
        },
        {
          "name": "stdout",
          "output_type": "stream",
          "text": [
            "\n",
            "tensor([[ 0.3560, -0.1252],\n",
            "        [ 0.4708,  0.6714],\n",
            "        [ 0.5563,  0.0433],\n",
            "        [ 0.5177,  0.7696],\n",
            "        [ 0.9987,  0.5495],\n",
            "        [-0.0806,  0.4628],\n",
            "        [ 0.2931,  0.4256],\n",
            "        [ 0.0448,  0.1456]], grad_fn=<AddmmBackward0>)\n",
            "tensor([0, 1, 1, 1, 1, 0, 0, 0])\n",
            "tensor([0, 1, 0, 1, 0, 1, 1, 1])\n"
          ]
        },
        {
          "name": "stderr",
          "output_type": "stream",
          "text": [
            "\r 81%|████████▏ | 427/525 [19:57<04:30,  2.76s/it]"
          ]
        },
        {
          "name": "stdout",
          "output_type": "stream",
          "text": [
            "\n",
            "tensor([[ 0.2723, -0.1019],\n",
            "        [ 0.0132,  0.3937],\n",
            "        [ 0.4957, -0.4470],\n",
            "        [ 0.2757,  0.3291],\n",
            "        [-0.1481,  0.2501],\n",
            "        [ 0.5660, -0.1974],\n",
            "        [ 0.3950, -0.2499],\n",
            "        [ 0.6552,  0.2069]], grad_fn=<AddmmBackward0>)\n",
            "tensor([1, 1, 1, 0, 0, 0, 0, 1])\n",
            "tensor([0, 1, 0, 1, 1, 0, 0, 0])\n"
          ]
        },
        {
          "name": "stderr",
          "output_type": "stream",
          "text": [
            "\r 82%|████████▏ | 428/525 [20:00<04:20,  2.68s/it]"
          ]
        },
        {
          "name": "stdout",
          "output_type": "stream",
          "text": [
            "\n",
            "tensor([[ 0.8942,  0.2838],\n",
            "        [ 0.4734,  0.1193],\n",
            "        [ 0.6337,  0.4221],\n",
            "        [ 0.4626, -0.1447],\n",
            "        [ 0.1014, -0.3343],\n",
            "        [ 0.5002,  0.3562],\n",
            "        [ 0.1813,  0.2362],\n",
            "        [-0.0374, -0.2481]], grad_fn=<AddmmBackward0>)\n",
            "tensor([1, 0, 0, 0, 0, 1, 1, 1])\n",
            "tensor([0, 0, 0, 0, 0, 0, 1, 0])\n"
          ]
        },
        {
          "name": "stderr",
          "output_type": "stream",
          "text": [
            "\r 82%|████████▏ | 429/525 [20:03<04:16,  2.67s/it]"
          ]
        },
        {
          "name": "stdout",
          "output_type": "stream",
          "text": [
            "\n",
            "tensor([[ 0.2999, -0.4349],\n",
            "        [ 0.1559,  0.3241],\n",
            "        [ 0.5337, -0.0363],\n",
            "        [ 0.1542,  0.3170],\n",
            "        [ 0.2521,  0.0784],\n",
            "        [ 0.4618, -0.3086],\n",
            "        [ 0.6601, -0.2226],\n",
            "        [ 0.4009,  0.0145]], grad_fn=<AddmmBackward0>)\n",
            "tensor([0, 1, 0, 0, 1, 1, 1, 1])\n",
            "tensor([0, 1, 0, 1, 0, 0, 0, 0])\n"
          ]
        },
        {
          "name": "stderr",
          "output_type": "stream",
          "text": [
            "\r 82%|████████▏ | 430/525 [20:06<04:23,  2.77s/it]"
          ]
        },
        {
          "name": "stdout",
          "output_type": "stream",
          "text": [
            "\n",
            "tensor([[ 0.3995,  0.3229],\n",
            "        [ 0.2200,  0.1960],\n",
            "        [ 0.1879, -0.7078],\n",
            "        [ 0.5305, -0.3220],\n",
            "        [ 0.6358,  0.0904],\n",
            "        [ 0.2740,  0.4714],\n",
            "        [ 0.3935,  0.2420],\n",
            "        [ 0.5275,  0.1767]], grad_fn=<AddmmBackward0>)\n",
            "tensor([1, 1, 1, 0, 1, 1, 0, 1])\n",
            "tensor([0, 0, 0, 0, 0, 1, 0, 0])\n"
          ]
        },
        {
          "name": "stderr",
          "output_type": "stream",
          "text": [
            "\r 82%|████████▏ | 431/525 [20:09<04:25,  2.83s/it]"
          ]
        },
        {
          "name": "stdout",
          "output_type": "stream",
          "text": [
            "\n",
            "tensor([[-0.0409,  0.4306],\n",
            "        [ 0.4169,  0.1553],\n",
            "        [ 0.2106,  0.0053],\n",
            "        [ 0.0011,  0.0087],\n",
            "        [ 0.0459,  0.1779],\n",
            "        [ 0.7019,  0.1743],\n",
            "        [ 0.7450,  0.2490],\n",
            "        [ 0.5136,  0.1459]], grad_fn=<AddmmBackward0>)\n",
            "tensor([0, 0, 0, 1, 1, 0, 1, 0])\n",
            "tensor([1, 0, 0, 1, 1, 0, 0, 0])\n"
          ]
        },
        {
          "name": "stderr",
          "output_type": "stream",
          "text": [
            "\r 82%|████████▏ | 432/525 [20:11<04:21,  2.81s/it]"
          ]
        },
        {
          "name": "stdout",
          "output_type": "stream",
          "text": [
            "\n",
            "tensor([[ 0.0584,  0.4709],\n",
            "        [ 0.3351,  0.3147],\n",
            "        [ 0.2804, -0.0610],\n",
            "        [ 0.2861,  0.3309],\n",
            "        [ 0.7684,  0.0912],\n",
            "        [ 0.1052, -0.1210],\n",
            "        [ 0.2851, -0.1558],\n",
            "        [ 0.2681,  0.7126]], grad_fn=<AddmmBackward0>)\n",
            "tensor([1, 0, 0, 1, 1, 1, 0, 0])\n",
            "tensor([1, 0, 0, 1, 0, 0, 0, 1])\n"
          ]
        },
        {
          "name": "stderr",
          "output_type": "stream",
          "text": [
            "\r 82%|████████▏ | 433/525 [20:14<04:20,  2.83s/it]"
          ]
        },
        {
          "name": "stdout",
          "output_type": "stream",
          "text": [
            "\n",
            "tensor([[ 0.2370,  0.5788],\n",
            "        [ 0.3904,  0.3952],\n",
            "        [ 0.1569,  0.4082],\n",
            "        [ 0.2666,  0.6564],\n",
            "        [-0.0061,  0.4970],\n",
            "        [ 0.3309,  0.3868],\n",
            "        [ 0.0245, -0.1507],\n",
            "        [ 0.0917,  0.2490]], grad_fn=<AddmmBackward0>)\n",
            "tensor([1, 1, 0, 0, 0, 1, 1, 1])\n",
            "tensor([1, 1, 1, 1, 1, 1, 0, 1])\n"
          ]
        },
        {
          "name": "stderr",
          "output_type": "stream",
          "text": [
            "\r 83%|████████▎ | 434/525 [20:17<04:06,  2.71s/it]"
          ]
        },
        {
          "name": "stdout",
          "output_type": "stream",
          "text": [
            "\n",
            "tensor([[-0.0986,  0.1897],\n",
            "        [ 0.0650,  0.3345],\n",
            "        [-0.0537, -0.0257],\n",
            "        [ 0.2600,  0.2374],\n",
            "        [ 0.2512, -0.0877],\n",
            "        [ 0.8941,  0.5978],\n",
            "        [ 0.3380,  0.1093],\n",
            "        [-0.2994,  0.2343]], grad_fn=<AddmmBackward0>)\n",
            "tensor([0, 0, 1, 0, 0, 1, 1, 0])\n",
            "tensor([1, 1, 1, 0, 0, 0, 0, 1])\n"
          ]
        },
        {
          "name": "stderr",
          "output_type": "stream",
          "text": [
            "\r 83%|████████▎ | 435/525 [20:19<03:59,  2.66s/it]"
          ]
        },
        {
          "name": "stdout",
          "output_type": "stream",
          "text": [
            "\n",
            "tensor([[ 0.0877,  0.1633],\n",
            "        [-0.1661,  0.0590],\n",
            "        [ 0.1460,  0.9480],\n",
            "        [ 0.0416,  0.2762],\n",
            "        [ 0.7205,  0.8218],\n",
            "        [ 0.3826,  0.1971],\n",
            "        [-0.2285, -0.1050],\n",
            "        [ 0.0938,  0.1112]], grad_fn=<AddmmBackward0>)\n",
            "tensor([1, 1, 0, 0, 0, 0, 1, 1])\n",
            "tensor([1, 1, 1, 1, 1, 0, 1, 1])\n"
          ]
        },
        {
          "name": "stderr",
          "output_type": "stream",
          "text": [
            "\r 83%|████████▎ | 436/525 [20:22<03:52,  2.61s/it]"
          ]
        },
        {
          "name": "stdout",
          "output_type": "stream",
          "text": [
            "\n",
            "tensor([[-0.0992,  0.3254],\n",
            "        [ 0.0370,  0.1094],\n",
            "        [ 0.1708,  0.7033],\n",
            "        [-0.3403,  0.2994],\n",
            "        [ 0.0086,  0.2192],\n",
            "        [-0.1508,  0.1658],\n",
            "        [-0.2567,  0.1183],\n",
            "        [-0.0030,  0.0835]], grad_fn=<AddmmBackward0>)\n",
            "tensor([1, 0, 1, 0, 0, 0, 0, 1])\n",
            "tensor([1, 1, 1, 1, 1, 1, 1, 1])\n"
          ]
        },
        {
          "name": "stderr",
          "output_type": "stream",
          "text": [
            "\r 83%|████████▎ | 437/525 [20:25<03:57,  2.69s/it]"
          ]
        },
        {
          "name": "stdout",
          "output_type": "stream",
          "text": [
            "\n",
            "tensor([[-0.2125,  0.1068],\n",
            "        [-0.1012,  0.4523],\n",
            "        [ 0.1722,  0.2449],\n",
            "        [ 0.0583,  0.2468],\n",
            "        [ 0.3013, -0.3244],\n",
            "        [ 0.1828,  0.0578],\n",
            "        [-0.0412, -0.0701],\n",
            "        [-0.0262, -0.1351]], grad_fn=<AddmmBackward0>)\n",
            "tensor([0, 0, 0, 0, 0, 0, 0, 0])\n",
            "tensor([1, 1, 1, 1, 0, 0, 0, 0])\n"
          ]
        },
        {
          "name": "stderr",
          "output_type": "stream",
          "text": [
            "\r 83%|████████▎ | 438/525 [20:28<04:01,  2.78s/it]"
          ]
        },
        {
          "name": "stdout",
          "output_type": "stream",
          "text": [
            "\n",
            "tensor([[-0.0981, -0.1689],\n",
            "        [ 0.1112, -0.1697],\n",
            "        [ 0.3078,  0.3654],\n",
            "        [-0.0279,  0.3522],\n",
            "        [-0.3337, -0.0287],\n",
            "        [ 0.0715,  0.0603],\n",
            "        [ 0.0832,  0.1777],\n",
            "        [ 0.3083,  0.1060]], grad_fn=<AddmmBackward0>)\n",
            "tensor([0, 0, 1, 0, 1, 1, 0, 0])\n",
            "tensor([0, 0, 1, 1, 1, 0, 1, 0])\n"
          ]
        },
        {
          "name": "stderr",
          "output_type": "stream",
          "text": [
            "\r 84%|████████▎ | 439/525 [20:30<03:55,  2.73s/it]"
          ]
        },
        {
          "name": "stdout",
          "output_type": "stream",
          "text": [
            "\n",
            "tensor([[ 0.4710, -0.2655],\n",
            "        [-0.0520, -0.2229],\n",
            "        [-0.1539, -0.4707],\n",
            "        [ 0.0900, -0.4887],\n",
            "        [ 0.1140, -0.3122],\n",
            "        [ 0.3202, -0.4967],\n",
            "        [ 0.1558, -0.7200],\n",
            "        [ 0.1971, -0.0102]], grad_fn=<AddmmBackward0>)\n",
            "tensor([1, 0, 0, 0, 1, 1, 1, 1])\n",
            "tensor([0, 0, 0, 0, 0, 0, 0, 0])\n"
          ]
        },
        {
          "name": "stderr",
          "output_type": "stream",
          "text": [
            "\r 84%|████████▍ | 440/525 [20:33<03:48,  2.69s/it]"
          ]
        },
        {
          "name": "stdout",
          "output_type": "stream",
          "text": [
            "\n",
            "tensor([[-0.0512,  0.2100],\n",
            "        [ 0.3899, -0.7455],\n",
            "        [ 0.6410,  0.4897],\n",
            "        [ 0.2440, -0.0140],\n",
            "        [ 0.1698,  0.0592],\n",
            "        [ 0.1046, -0.2974],\n",
            "        [ 0.5062, -0.1000],\n",
            "        [ 0.4992,  0.0878]], grad_fn=<AddmmBackward0>)\n",
            "tensor([1, 0, 1, 1, 1, 1, 0, 0])\n",
            "tensor([1, 0, 0, 0, 0, 0, 0, 0])\n"
          ]
        },
        {
          "name": "stderr",
          "output_type": "stream",
          "text": [
            "\r 84%|████████▍ | 441/525 [20:35<03:42,  2.65s/it]"
          ]
        },
        {
          "name": "stdout",
          "output_type": "stream",
          "text": [
            "\n",
            "tensor([[ 0.5939,  0.2567],\n",
            "        [ 0.5837,  0.0446],\n",
            "        [ 0.4106,  0.1345],\n",
            "        [ 0.1755, -0.3207],\n",
            "        [-0.2474,  0.0811],\n",
            "        [ 0.4496,  0.0917],\n",
            "        [ 0.4287, -0.0694],\n",
            "        [ 0.4565,  0.4414]], grad_fn=<AddmmBackward0>)\n",
            "tensor([1, 0, 1, 1, 0, 0, 1, 1])\n",
            "tensor([0, 0, 0, 0, 1, 0, 0, 0])\n"
          ]
        },
        {
          "name": "stderr",
          "output_type": "stream",
          "text": [
            "\r 84%|████████▍ | 442/525 [20:38<03:46,  2.73s/it]"
          ]
        },
        {
          "name": "stdout",
          "output_type": "stream",
          "text": [
            "\n",
            "tensor([[-0.2092, -0.0852],\n",
            "        [ 0.2960, -0.1280],\n",
            "        [ 0.2157, -0.0657],\n",
            "        [ 0.7948,  0.5383],\n",
            "        [ 0.0864,  0.0558],\n",
            "        [ 0.0231, -0.2452],\n",
            "        [ 0.0789, -0.6590],\n",
            "        [ 0.5309, -0.4143]], grad_fn=<AddmmBackward0>)\n",
            "tensor([1, 0, 0, 1, 1, 1, 1, 0])\n",
            "tensor([1, 0, 0, 0, 0, 0, 0, 0])\n"
          ]
        },
        {
          "name": "stderr",
          "output_type": "stream",
          "text": [
            "\r 84%|████████▍ | 443/525 [20:41<03:46,  2.76s/it]"
          ]
        },
        {
          "name": "stdout",
          "output_type": "stream",
          "text": [
            "\n",
            "tensor([[-0.0302, -0.7973],\n",
            "        [-0.4911, -0.3673],\n",
            "        [ 0.3142, -0.0251],\n",
            "        [ 0.2952, -0.1189],\n",
            "        [ 0.3648, -0.5750],\n",
            "        [ 0.1603, -0.0184],\n",
            "        [ 0.1358, -0.2072],\n",
            "        [ 0.3728, -0.1579]], grad_fn=<AddmmBackward0>)\n",
            "tensor([1, 1, 1, 1, 0, 0, 0, 1])\n",
            "tensor([0, 1, 0, 0, 0, 0, 0, 0])\n"
          ]
        },
        {
          "name": "stderr",
          "output_type": "stream",
          "text": [
            "\r 85%|████████▍ | 444/525 [20:44<03:44,  2.78s/it]"
          ]
        },
        {
          "name": "stdout",
          "output_type": "stream",
          "text": [
            "\n",
            "tensor([[ 0.1041,  0.3936],\n",
            "        [ 0.1445, -0.1622],\n",
            "        [-0.0333, -0.3038],\n",
            "        [ 0.8066,  0.0068],\n",
            "        [ 0.3654,  0.4138],\n",
            "        [ 0.6169,  0.3015],\n",
            "        [ 0.4012,  0.6676],\n",
            "        [ 0.1265,  0.2738]], grad_fn=<AddmmBackward0>)\n",
            "tensor([0, 1, 1, 1, 0, 0, 0, 1])\n",
            "tensor([1, 0, 0, 0, 1, 0, 1, 1])\n"
          ]
        },
        {
          "name": "stderr",
          "output_type": "stream",
          "text": [
            "\r 85%|████████▍ | 445/525 [20:47<03:42,  2.78s/it]"
          ]
        },
        {
          "name": "stdout",
          "output_type": "stream",
          "text": [
            "\n",
            "tensor([[ 0.2060,  0.1432],\n",
            "        [ 0.3319,  0.7716],\n",
            "        [ 0.1655,  0.0987],\n",
            "        [ 0.5930, -0.0129],\n",
            "        [-0.3686,  0.4438],\n",
            "        [-0.0235, -0.1389],\n",
            "        [ 0.0016,  0.3402],\n",
            "        [-0.2178, -0.1170]], grad_fn=<AddmmBackward0>)\n",
            "tensor([0, 1, 1, 0, 0, 1, 1, 1])\n",
            "tensor([0, 1, 0, 0, 1, 0, 1, 1])\n"
          ]
        },
        {
          "name": "stderr",
          "output_type": "stream",
          "text": [
            "\r 85%|████████▍ | 446/525 [20:49<03:38,  2.77s/it]"
          ]
        },
        {
          "name": "stdout",
          "output_type": "stream",
          "text": [
            "\n",
            "tensor([[-0.4069,  0.3023],\n",
            "        [ 0.0886,  0.1460],\n",
            "        [-0.2600,  0.2525],\n",
            "        [ 0.5129,  0.3187],\n",
            "        [ 0.1955,  0.1372],\n",
            "        [ 0.0990,  0.2866],\n",
            "        [-0.2913, -0.0261],\n",
            "        [-0.0822,  0.2298]], grad_fn=<AddmmBackward0>)\n",
            "tensor([1, 1, 1, 0, 1, 1, 0, 0])\n",
            "tensor([1, 1, 1, 0, 0, 1, 1, 1])\n"
          ]
        },
        {
          "name": "stderr",
          "output_type": "stream",
          "text": [
            "\r 85%|████████▌ | 447/525 [20:52<03:38,  2.80s/it]"
          ]
        },
        {
          "name": "stdout",
          "output_type": "stream",
          "text": [
            "\n",
            "tensor([[-0.0184,  0.5579],\n",
            "        [ 0.1539,  0.2679],\n",
            "        [-0.3192,  0.5107],\n",
            "        [ 0.2296,  0.2698],\n",
            "        [-0.1168, -0.0725],\n",
            "        [-0.2949,  0.2388],\n",
            "        [-0.1716,  0.0674],\n",
            "        [ 0.2451,  0.3309]], grad_fn=<AddmmBackward0>)\n",
            "tensor([1, 0, 1, 1, 1, 0, 0, 0])\n",
            "tensor([1, 1, 1, 1, 1, 1, 1, 1])\n"
          ]
        },
        {
          "name": "stderr",
          "output_type": "stream",
          "text": [
            "\r 85%|████████▌ | 448/525 [20:55<03:42,  2.89s/it]"
          ]
        },
        {
          "name": "stdout",
          "output_type": "stream",
          "text": [
            "\n",
            "tensor([[-0.5478, -0.1743],\n",
            "        [-0.0211,  0.2519],\n",
            "        [-0.2087,  0.3208],\n",
            "        [ 0.1768,  0.3202],\n",
            "        [ 0.3086,  0.1229],\n",
            "        [-0.4286,  0.4211],\n",
            "        [-0.1067,  0.5471],\n",
            "        [-0.1588,  0.5119]], grad_fn=<AddmmBackward0>)\n",
            "tensor([0, 1, 0, 0, 1, 1, 1, 1])\n",
            "tensor([1, 1, 1, 1, 0, 1, 1, 1])\n"
          ]
        },
        {
          "name": "stderr",
          "output_type": "stream",
          "text": [
            "\r 86%|████████▌ | 449/525 [20:58<03:37,  2.87s/it]"
          ]
        },
        {
          "name": "stdout",
          "output_type": "stream",
          "text": [
            "\n",
            "tensor([[-0.1162,  0.7475],\n",
            "        [-0.3764,  0.7568],\n",
            "        [-0.1523,  0.6077],\n",
            "        [-0.0460,  0.8461],\n",
            "        [-0.2051,  0.5525],\n",
            "        [ 0.1043,  0.8294],\n",
            "        [-0.3032,  0.4965],\n",
            "        [-0.2297,  0.4319]], grad_fn=<AddmmBackward0>)\n",
            "tensor([1, 0, 0, 1, 0, 0, 1, 1])\n",
            "tensor([1, 1, 1, 1, 1, 1, 1, 1])\n"
          ]
        },
        {
          "name": "stderr",
          "output_type": "stream",
          "text": [
            "\r 86%|████████▌ | 450/525 [21:01<03:33,  2.84s/it]"
          ]
        },
        {
          "name": "stdout",
          "output_type": "stream",
          "text": [
            "\n",
            "tensor([[-0.4782,  0.4342],\n",
            "        [-0.9603,  0.8997],\n",
            "        [-0.7603,  0.2346],\n",
            "        [-0.4941,  0.9284],\n",
            "        [-0.3514,  0.5132],\n",
            "        [-0.4562,  0.4293],\n",
            "        [-0.1823,  0.5249],\n",
            "        [-0.1135,  0.7503]], grad_fn=<AddmmBackward0>)\n",
            "tensor([1, 0, 1, 0, 1, 1, 0, 0])\n",
            "tensor([1, 1, 1, 1, 1, 1, 1, 1])\n"
          ]
        },
        {
          "name": "stderr",
          "output_type": "stream",
          "text": [
            "\r 86%|████████▌ | 451/525 [21:04<03:28,  2.82s/it]"
          ]
        },
        {
          "name": "stdout",
          "output_type": "stream",
          "text": [
            "\n",
            "tensor([[-0.0527,  0.0814],\n",
            "        [-0.5355,  0.7760],\n",
            "        [-0.3764,  0.4050],\n",
            "        [-0.2974,  0.3819],\n",
            "        [-0.0349,  0.4853],\n",
            "        [-0.6100,  0.2213],\n",
            "        [-0.3478, -0.0840],\n",
            "        [-0.3214,  0.3545]], grad_fn=<AddmmBackward0>)\n",
            "tensor([0, 1, 0, 1, 1, 1, 1, 1])\n",
            "tensor([1, 1, 1, 1, 1, 1, 1, 1])\n"
          ]
        },
        {
          "name": "stderr",
          "output_type": "stream",
          "text": [
            "\r 86%|████████▌ | 452/525 [21:07<03:30,  2.89s/it]"
          ]
        },
        {
          "name": "stdout",
          "output_type": "stream",
          "text": [
            "\n",
            "tensor([[-0.0313,  0.2758],\n",
            "        [-0.9454, -0.2986],\n",
            "        [-0.1031,  1.0084],\n",
            "        [-0.6451,  0.1964],\n",
            "        [-0.3010, -0.0127],\n",
            "        [-0.0231,  0.2941],\n",
            "        [-0.3519,  0.5873],\n",
            "        [-0.3987,  0.6812]], grad_fn=<AddmmBackward0>)\n",
            "tensor([1, 1, 1, 0, 1, 1, 1, 0])\n",
            "tensor([1, 1, 1, 1, 1, 1, 1, 1])\n"
          ]
        },
        {
          "name": "stderr",
          "output_type": "stream",
          "text": [
            "\r 86%|████████▋ | 453/525 [21:10<03:30,  2.93s/it]"
          ]
        },
        {
          "name": "stdout",
          "output_type": "stream",
          "text": [
            "\n",
            "tensor([[-0.2315,  0.8244],\n",
            "        [-0.1751,  0.3514],\n",
            "        [-0.5857,  0.6573],\n",
            "        [ 0.0025,  0.7960],\n",
            "        [-0.2283,  0.4417],\n",
            "        [ 0.1582,  0.7033],\n",
            "        [-0.7857, -0.0147],\n",
            "        [-0.1874,  0.1244]], grad_fn=<AddmmBackward0>)\n",
            "tensor([0, 1, 1, 0, 0, 1, 1, 1])\n",
            "tensor([1, 1, 1, 1, 1, 1, 1, 1])\n"
          ]
        },
        {
          "name": "stderr",
          "output_type": "stream",
          "text": [
            "\r 86%|████████▋ | 454/525 [21:13<03:26,  2.91s/it]"
          ]
        },
        {
          "name": "stdout",
          "output_type": "stream",
          "text": [
            "\n",
            "tensor([[ 0.0687,  0.6140],\n",
            "        [-0.5957,  0.8617],\n",
            "        [-0.1216,  0.6959],\n",
            "        [-0.1247,  0.2128],\n",
            "        [-0.2608,  0.0725],\n",
            "        [-0.2018,  0.3835],\n",
            "        [ 0.1064,  0.4922],\n",
            "        [-0.4383,  0.3368]], grad_fn=<AddmmBackward0>)\n",
            "tensor([1, 0, 0, 0, 0, 1, 1, 1])\n",
            "tensor([1, 1, 1, 1, 1, 1, 1, 1])\n"
          ]
        },
        {
          "name": "stderr",
          "output_type": "stream",
          "text": [
            "\r 87%|████████▋ | 455/525 [21:15<03:20,  2.87s/it]"
          ]
        },
        {
          "name": "stdout",
          "output_type": "stream",
          "text": [
            "\n",
            "tensor([[-0.1993,  0.4733],\n",
            "        [-0.0650,  0.3080],\n",
            "        [-0.0708,  0.6350],\n",
            "        [-0.9780,  0.4531],\n",
            "        [-0.2090,  0.2194],\n",
            "        [-0.2652,  0.5303],\n",
            "        [-0.6786,  0.0315],\n",
            "        [-0.9309,  0.1461]], grad_fn=<AddmmBackward0>)\n",
            "tensor([0, 1, 1, 1, 0, 0, 1, 0])\n",
            "tensor([1, 1, 1, 1, 1, 1, 1, 1])\n"
          ]
        },
        {
          "name": "stderr",
          "output_type": "stream",
          "text": [
            "\r 87%|████████▋ | 456/525 [21:18<03:19,  2.89s/it]"
          ]
        },
        {
          "name": "stdout",
          "output_type": "stream",
          "text": [
            "\n",
            "tensor([[-0.3801,  0.5963],\n",
            "        [ 0.1014,  0.6489],\n",
            "        [ 0.1354,  0.5860],\n",
            "        [-0.3464,  0.0767],\n",
            "        [-0.3345,  0.0544],\n",
            "        [-0.3092,  0.4016],\n",
            "        [ 0.2244,  0.0685],\n",
            "        [ 0.6044,  0.5144]], grad_fn=<AddmmBackward0>)\n",
            "tensor([1, 0, 1, 0, 0, 0, 0, 1])\n",
            "tensor([1, 1, 1, 1, 1, 1, 0, 0])\n"
          ]
        },
        {
          "name": "stderr",
          "output_type": "stream",
          "text": [
            "\r 87%|████████▋ | 457/525 [21:21<03:20,  2.95s/it]"
          ]
        },
        {
          "name": "stdout",
          "output_type": "stream",
          "text": [
            "\n",
            "tensor([[-0.4338,  0.5004],\n",
            "        [-0.2081,  0.2381],\n",
            "        [-0.4699,  0.4560],\n",
            "        [-0.1231,  0.1131],\n",
            "        [-0.4778,  0.1150],\n",
            "        [-0.0754,  0.2418],\n",
            "        [-0.6391,  0.2629],\n",
            "        [-0.2406,  0.2639]], grad_fn=<AddmmBackward0>)\n",
            "tensor([1, 0, 1, 0, 0, 0, 0, 0])\n",
            "tensor([1, 1, 1, 1, 1, 1, 1, 1])\n"
          ]
        },
        {
          "name": "stderr",
          "output_type": "stream",
          "text": [
            "\r 87%|████████▋ | 458/525 [21:25<03:20,  3.00s/it]"
          ]
        },
        {
          "name": "stdout",
          "output_type": "stream",
          "text": [
            "\n",
            "tensor([[-0.5320, -0.2039],\n",
            "        [ 0.2265, -0.1140],\n",
            "        [-0.2510,  0.3187],\n",
            "        [ 0.5715,  0.5167],\n",
            "        [-0.2426,  0.7864],\n",
            "        [-0.5233,  0.5031],\n",
            "        [ 0.2303,  0.5636],\n",
            "        [ 0.2169,  0.1714]], grad_fn=<AddmmBackward0>)\n",
            "tensor([1, 0, 0, 1, 1, 1, 0, 0])\n",
            "tensor([1, 0, 1, 0, 1, 1, 1, 0])\n"
          ]
        },
        {
          "name": "stderr",
          "output_type": "stream",
          "text": [
            "\r 87%|████████▋ | 459/525 [21:27<03:16,  2.97s/it]"
          ]
        },
        {
          "name": "stdout",
          "output_type": "stream",
          "text": [
            "\n",
            "tensor([[ 0.2410, -0.2474],\n",
            "        [ 0.1676,  0.3949],\n",
            "        [ 0.5057,  0.1220],\n",
            "        [-0.2217,  0.3322],\n",
            "        [ 0.3489, -0.3259],\n",
            "        [ 0.4499, -0.0814],\n",
            "        [-0.5535,  0.1260],\n",
            "        [ 0.0602, -0.0395]], grad_fn=<AddmmBackward0>)\n",
            "tensor([0, 0, 0, 1, 1, 0, 0, 1])\n",
            "tensor([0, 1, 0, 1, 0, 0, 1, 0])\n"
          ]
        },
        {
          "name": "stderr",
          "output_type": "stream",
          "text": [
            "\r 88%|████████▊ | 460/525 [21:30<03:12,  2.96s/it]"
          ]
        },
        {
          "name": "stdout",
          "output_type": "stream",
          "text": [
            "\n",
            "tensor([[ 0.4684, -0.2179],\n",
            "        [ 0.1645, -0.1927],\n",
            "        [ 0.6793, -0.5117],\n",
            "        [-0.0558, -0.2023],\n",
            "        [ 0.3328,  0.3424],\n",
            "        [-0.1713,  0.4305],\n",
            "        [ 0.1274, -0.7794],\n",
            "        [ 0.0830, -0.0987]], grad_fn=<AddmmBackward0>)\n",
            "tensor([1, 0, 0, 0, 0, 0, 1, 1])\n",
            "tensor([0, 0, 0, 0, 1, 1, 0, 0])\n"
          ]
        },
        {
          "name": "stderr",
          "output_type": "stream",
          "text": [
            "\r 88%|████████▊ | 461/525 [21:33<03:07,  2.93s/it]"
          ]
        },
        {
          "name": "stdout",
          "output_type": "stream",
          "text": [
            "\n",
            "tensor([[ 0.5141, -0.2174],\n",
            "        [ 0.5306, -0.6011],\n",
            "        [ 0.2461, -0.7218],\n",
            "        [ 0.2580, -0.3117],\n",
            "        [-0.0659, -0.0394],\n",
            "        [ 0.0370, -0.6198],\n",
            "        [ 0.2057, -0.3078],\n",
            "        [ 0.3556, -0.2772]], grad_fn=<AddmmBackward0>)\n",
            "tensor([1, 0, 0, 0, 0, 1, 1, 0])\n",
            "tensor([0, 0, 0, 0, 1, 0, 0, 0])\n"
          ]
        },
        {
          "name": "stderr",
          "output_type": "stream",
          "text": [
            "\r 88%|████████▊ | 462/525 [21:36<03:05,  2.95s/it]"
          ]
        },
        {
          "name": "stdout",
          "output_type": "stream",
          "text": [
            "\n",
            "tensor([[ 0.3567, -0.4142],\n",
            "        [ 0.1787, -0.3438],\n",
            "        [ 1.3116, -0.1724],\n",
            "        [ 0.0494, -0.5847],\n",
            "        [ 0.6754, -0.3440],\n",
            "        [ 0.4351,  0.2595],\n",
            "        [ 0.4823, -0.4657],\n",
            "        [ 0.2882, -0.7776]], grad_fn=<AddmmBackward0>)\n",
            "tensor([1, 1, 1, 0, 0, 1, 0, 0])\n",
            "tensor([0, 0, 0, 0, 0, 0, 0, 0])\n"
          ]
        },
        {
          "name": "stderr",
          "output_type": "stream",
          "text": [
            "\r 88%|████████▊ | 463/525 [21:39<03:00,  2.91s/it]"
          ]
        },
        {
          "name": "stdout",
          "output_type": "stream",
          "text": [
            "\n",
            "tensor([[-0.0719, -0.8400],\n",
            "        [ 0.2590, -0.7948],\n",
            "        [ 0.3556, -0.5561],\n",
            "        [ 0.4292,  0.0781],\n",
            "        [ 0.5552, -0.3931],\n",
            "        [ 0.4552, -0.4758],\n",
            "        [ 0.2426, -0.5293],\n",
            "        [ 0.7586, -0.6383]], grad_fn=<AddmmBackward0>)\n",
            "tensor([0, 0, 0, 0, 0, 0, 0, 1])\n",
            "tensor([0, 0, 0, 0, 0, 0, 0, 0])\n"
          ]
        },
        {
          "name": "stderr",
          "output_type": "stream",
          "text": [
            "\r 88%|████████▊ | 464/525 [21:42<02:54,  2.87s/it]"
          ]
        },
        {
          "name": "stdout",
          "output_type": "stream",
          "text": [
            "\n",
            "tensor([[ 0.2517, -0.2476],\n",
            "        [ 1.0667, -0.6889],\n",
            "        [ 0.7961, -0.2812],\n",
            "        [ 0.6614, -0.6407],\n",
            "        [-0.0123, -0.6556],\n",
            "        [ 0.8873, -0.1396],\n",
            "        [ 0.4966, -0.3585],\n",
            "        [ 0.6150, -0.3671]], grad_fn=<AddmmBackward0>)\n",
            "tensor([0, 0, 0, 1, 1, 1, 0, 0])\n",
            "tensor([0, 0, 0, 0, 0, 0, 0, 0])\n"
          ]
        },
        {
          "name": "stderr",
          "output_type": "stream",
          "text": [
            "\r 89%|████████▊ | 465/525 [21:45<02:52,  2.88s/it]"
          ]
        },
        {
          "name": "stdout",
          "output_type": "stream",
          "text": [
            "\n",
            "tensor([[ 0.6196, -0.6895],\n",
            "        [ 1.0202, -0.3157],\n",
            "        [ 0.3632, -0.2403],\n",
            "        [-0.0903, -0.2368],\n",
            "        [ 1.1511, -0.8932],\n",
            "        [ 1.0074, -1.0405],\n",
            "        [ 0.7945, -0.4683],\n",
            "        [ 0.5259, -0.4079]], grad_fn=<AddmmBackward0>)\n",
            "tensor([0, 0, 0, 1, 1, 0, 0, 1])\n",
            "tensor([0, 0, 0, 0, 0, 0, 0, 0])\n"
          ]
        },
        {
          "name": "stderr",
          "output_type": "stream",
          "text": [
            "\r 89%|████████▉ | 466/525 [21:48<02:51,  2.91s/it]"
          ]
        },
        {
          "name": "stdout",
          "output_type": "stream",
          "text": [
            "\n",
            "tensor([[ 0.8499, -0.7315],\n",
            "        [ 0.4590, -0.7318],\n",
            "        [ 1.0033, -0.8190],\n",
            "        [ 0.3219, -1.0268],\n",
            "        [ 0.4188, -1.2117],\n",
            "        [ 1.2021, -0.5509],\n",
            "        [ 1.1863, -0.1067],\n",
            "        [ 0.9427, -0.2837]], grad_fn=<AddmmBackward0>)\n",
            "tensor([1, 1, 0, 0, 0, 1, 1, 0])\n",
            "tensor([0, 0, 0, 0, 0, 0, 0, 0])\n"
          ]
        },
        {
          "name": "stderr",
          "output_type": "stream",
          "text": [
            "\r 89%|████████▉ | 467/525 [21:51<02:49,  2.92s/it]"
          ]
        },
        {
          "name": "stdout",
          "output_type": "stream",
          "text": [
            "\n",
            "tensor([[ 0.9466, -0.4184],\n",
            "        [ 1.0288, -0.5417],\n",
            "        [ 0.7724, -0.4185],\n",
            "        [ 0.3847, -0.3638],\n",
            "        [ 0.6577, -0.6198],\n",
            "        [ 0.8362, -0.2267],\n",
            "        [ 0.4233, -0.6572],\n",
            "        [ 0.6585, -0.8841]], grad_fn=<AddmmBackward0>)\n",
            "tensor([1, 1, 0, 0, 1, 0, 1, 1])\n",
            "tensor([0, 0, 0, 0, 0, 0, 0, 0])\n"
          ]
        },
        {
          "name": "stderr",
          "output_type": "stream",
          "text": [
            "\r 89%|████████▉ | 468/525 [21:53<02:43,  2.86s/it]"
          ]
        },
        {
          "name": "stdout",
          "output_type": "stream",
          "text": [
            "\n",
            "tensor([[ 0.6462, -0.7562],\n",
            "        [ 0.4678, -0.5211],\n",
            "        [ 0.8665, -0.6302],\n",
            "        [ 0.5231, -0.1702],\n",
            "        [ 0.7756, -0.4238],\n",
            "        [ 0.2069, -1.0043],\n",
            "        [ 0.5509,  0.0116],\n",
            "        [ 0.4007, -0.8734]], grad_fn=<AddmmBackward0>)\n",
            "tensor([0, 0, 0, 0, 0, 1, 0, 1])\n",
            "tensor([0, 0, 0, 0, 0, 0, 0, 0])\n"
          ]
        },
        {
          "name": "stderr",
          "output_type": "stream",
          "text": [
            "\r 89%|████████▉ | 469/525 [21:56<02:37,  2.81s/it]"
          ]
        },
        {
          "name": "stdout",
          "output_type": "stream",
          "text": [
            "\n",
            "tensor([[ 0.4152, -0.5378],\n",
            "        [ 0.7326, -0.6751],\n",
            "        [ 0.5844, -0.3217],\n",
            "        [ 0.4954, -0.3086],\n",
            "        [ 0.6455, -0.1992],\n",
            "        [ 1.1797, -0.1821],\n",
            "        [ 0.4788, -0.4091],\n",
            "        [ 0.4335, -0.6603]], grad_fn=<AddmmBackward0>)\n",
            "tensor([0, 0, 0, 0, 0, 1, 1, 1])\n",
            "tensor([0, 0, 0, 0, 0, 0, 0, 0])\n"
          ]
        },
        {
          "name": "stderr",
          "output_type": "stream",
          "text": [
            "\r 90%|████████▉ | 470/525 [21:59<02:35,  2.83s/it]"
          ]
        },
        {
          "name": "stdout",
          "output_type": "stream",
          "text": [
            "\n",
            "tensor([[ 0.4343, -0.4635],\n",
            "        [ 0.1699, -0.5283],\n",
            "        [ 0.1749, -0.3042],\n",
            "        [ 0.8741, -0.3699],\n",
            "        [ 0.1188, -0.0563],\n",
            "        [ 0.1636, -0.4817],\n",
            "        [ 0.6255, -0.2623],\n",
            "        [ 0.4229, -0.0393]], grad_fn=<AddmmBackward0>)\n",
            "tensor([0, 1, 0, 0, 0, 1, 0, 0])\n",
            "tensor([0, 0, 0, 0, 0, 0, 0, 0])\n"
          ]
        },
        {
          "name": "stderr",
          "output_type": "stream",
          "text": [
            "\r 90%|████████▉ | 471/525 [22:02<02:36,  2.89s/it]"
          ]
        },
        {
          "name": "stdout",
          "output_type": "stream",
          "text": [
            "\n",
            "tensor([[ 0.5754, -0.2963],\n",
            "        [ 0.1616, -0.1157],\n",
            "        [ 0.5767, -0.2437],\n",
            "        [ 0.3600, -0.5384],\n",
            "        [ 0.5123,  0.0731],\n",
            "        [ 0.4805, -0.2239],\n",
            "        [ 0.7297,  0.1484],\n",
            "        [ 0.3061, -0.1983]], grad_fn=<AddmmBackward0>)\n",
            "tensor([0, 0, 0, 0, 1, 0, 0, 1])\n",
            "tensor([0, 0, 0, 0, 0, 0, 0, 0])\n"
          ]
        },
        {
          "name": "stderr",
          "output_type": "stream",
          "text": [
            "\r 90%|████████▉ | 472/525 [22:05<02:35,  2.94s/it]"
          ]
        },
        {
          "name": "stdout",
          "output_type": "stream",
          "text": [
            "\n",
            "tensor([[ 0.2084, -0.4225],\n",
            "        [ 0.0284, -0.1563],\n",
            "        [ 0.4958, -0.0415],\n",
            "        [ 0.2250, -0.1233],\n",
            "        [ 0.3564, -0.4554],\n",
            "        [ 0.5960,  0.3570],\n",
            "        [ 0.3699, -0.3108],\n",
            "        [ 0.8302,  0.0321]], grad_fn=<AddmmBackward0>)\n",
            "tensor([1, 1, 0, 0, 0, 0, 1, 0])\n",
            "tensor([0, 0, 0, 0, 0, 0, 0, 0])\n"
          ]
        },
        {
          "name": "stderr",
          "output_type": "stream",
          "text": [
            "\r 90%|█████████ | 473/525 [22:08<02:34,  2.97s/it]"
          ]
        },
        {
          "name": "stdout",
          "output_type": "stream",
          "text": [
            "\n",
            "tensor([[ 0.5892, -0.5909],\n",
            "        [ 0.5189, -0.0626],\n",
            "        [ 0.5410, -0.2415],\n",
            "        [ 0.1393,  0.0579],\n",
            "        [ 0.6248, -0.2840],\n",
            "        [ 0.3380,  0.2273],\n",
            "        [ 0.5333, -0.1365],\n",
            "        [ 0.6733,  0.3559]], grad_fn=<AddmmBackward0>)\n",
            "tensor([1, 1, 0, 0, 0, 1, 1, 0])\n",
            "tensor([0, 0, 0, 0, 0, 0, 0, 0])\n"
          ]
        },
        {
          "name": "stderr",
          "output_type": "stream",
          "text": [
            "\r 90%|█████████ | 474/525 [22:11<02:30,  2.95s/it]"
          ]
        },
        {
          "name": "stdout",
          "output_type": "stream",
          "text": [
            "\n",
            "tensor([[ 0.6022, -0.4033],\n",
            "        [ 0.2920, -0.3549],\n",
            "        [-0.0698, -0.3723],\n",
            "        [ 0.4202, -0.2609],\n",
            "        [ 0.2290, -0.2362],\n",
            "        [ 0.3692,  0.3168],\n",
            "        [ 0.0383, -0.1996],\n",
            "        [ 0.2338, -0.2542]], grad_fn=<AddmmBackward0>)\n",
            "tensor([1, 0, 0, 0, 1, 0, 1, 1])\n",
            "tensor([0, 0, 0, 0, 0, 0, 0, 0])\n"
          ]
        },
        {
          "name": "stderr",
          "output_type": "stream",
          "text": [
            "\r 90%|█████████ | 475/525 [22:14<02:27,  2.95s/it]"
          ]
        },
        {
          "name": "stdout",
          "output_type": "stream",
          "text": [
            "\n",
            "tensor([[ 0.0469, -0.1867],\n",
            "        [ 0.4751, -0.1043],\n",
            "        [ 0.1454, -0.5842],\n",
            "        [ 0.0844,  0.0804],\n",
            "        [-0.0293,  0.1242],\n",
            "        [ 0.3736,  0.0693],\n",
            "        [ 0.6116,  0.0296],\n",
            "        [ 0.3344,  0.0354]], grad_fn=<AddmmBackward0>)\n",
            "tensor([0, 0, 1, 1, 1, 0, 0, 0])\n",
            "tensor([0, 0, 0, 0, 1, 0, 0, 0])\n"
          ]
        },
        {
          "name": "stderr",
          "output_type": "stream",
          "text": [
            "\r 91%|█████████ | 476/525 [22:17<02:24,  2.95s/it]"
          ]
        },
        {
          "name": "stdout",
          "output_type": "stream",
          "text": [
            "\n",
            "tensor([[-0.2055, -0.1769],\n",
            "        [ 0.2639,  0.1163],\n",
            "        [ 0.0953, -0.1800],\n",
            "        [-0.0128,  0.4627],\n",
            "        [ 0.5610, -0.1427],\n",
            "        [ 0.0541, -0.2789],\n",
            "        [ 0.3831,  0.2713],\n",
            "        [ 0.0396,  0.0516]], grad_fn=<AddmmBackward0>)\n",
            "tensor([0, 1, 1, 1, 0, 0, 1, 0])\n",
            "tensor([1, 0, 0, 1, 0, 0, 0, 1])\n"
          ]
        },
        {
          "name": "stderr",
          "output_type": "stream",
          "text": [
            "\r 91%|█████████ | 477/525 [22:20<02:21,  2.95s/it]"
          ]
        },
        {
          "name": "stdout",
          "output_type": "stream",
          "text": [
            "\n",
            "tensor([[ 0.1786,  0.1579],\n",
            "        [ 0.1716,  0.1149],\n",
            "        [ 0.1949,  0.0038],\n",
            "        [ 0.2755, -0.2807],\n",
            "        [-0.1853,  0.1090],\n",
            "        [ 0.3770,  0.1800],\n",
            "        [-0.2475,  0.0317],\n",
            "        [ 0.0174, -0.1362]], grad_fn=<AddmmBackward0>)\n",
            "tensor([1, 0, 1, 1, 1, 0, 1, 1])\n",
            "tensor([0, 0, 0, 0, 1, 0, 1, 0])\n"
          ]
        },
        {
          "name": "stderr",
          "output_type": "stream",
          "text": [
            "\r 91%|█████████ | 478/525 [22:23<02:17,  2.93s/it]"
          ]
        },
        {
          "name": "stdout",
          "output_type": "stream",
          "text": [
            "\n",
            "tensor([[ 0.2381, -0.2138],\n",
            "        [-0.1669,  0.6382],\n",
            "        [-0.2186,  0.1657],\n",
            "        [ 0.3421,  0.3005],\n",
            "        [-0.3506,  0.2773],\n",
            "        [ 0.2232,  0.1372],\n",
            "        [ 0.6176,  0.3704],\n",
            "        [-0.0012,  0.3283]], grad_fn=<AddmmBackward0>)\n",
            "tensor([0, 1, 1, 1, 0, 0, 0, 1])\n",
            "tensor([0, 1, 1, 0, 1, 0, 0, 1])\n"
          ]
        },
        {
          "name": "stderr",
          "output_type": "stream",
          "text": [
            "\r 91%|█████████ | 479/525 [22:25<02:11,  2.86s/it]"
          ]
        },
        {
          "name": "stdout",
          "output_type": "stream",
          "text": [
            "\n",
            "tensor([[-0.2428, -0.2092],\n",
            "        [ 0.1838,  0.4192],\n",
            "        [ 0.1473,  0.4581],\n",
            "        [-0.2093,  0.0043],\n",
            "        [-0.1682,  0.2103],\n",
            "        [-0.3675,  0.0986],\n",
            "        [ 0.1098,  0.2376],\n",
            "        [-0.4663,  0.0463]], grad_fn=<AddmmBackward0>)\n",
            "tensor([0, 0, 0, 0, 0, 1, 0, 1])\n",
            "tensor([1, 1, 1, 1, 1, 1, 1, 1])\n"
          ]
        },
        {
          "name": "stderr",
          "output_type": "stream",
          "text": [
            "\r 91%|█████████▏| 480/525 [22:28<02:04,  2.78s/it]"
          ]
        },
        {
          "name": "stdout",
          "output_type": "stream",
          "text": [
            "\n",
            "tensor([[-0.5591,  0.0982],\n",
            "        [-0.1806,  0.4406],\n",
            "        [-0.4627, -0.2820],\n",
            "        [-0.6289,  0.1724],\n",
            "        [ 0.1733,  0.3882],\n",
            "        [-0.2731,  0.3226],\n",
            "        [-0.1506,  0.4405],\n",
            "        [ 0.4349, -0.0773]], grad_fn=<AddmmBackward0>)\n",
            "tensor([1, 1, 0, 1, 0, 1, 0, 1])\n",
            "tensor([1, 1, 1, 1, 1, 1, 1, 0])\n"
          ]
        },
        {
          "name": "stderr",
          "output_type": "stream",
          "text": [
            "\r 92%|█████████▏| 481/525 [22:31<02:03,  2.80s/it]"
          ]
        },
        {
          "name": "stdout",
          "output_type": "stream",
          "text": [
            "\n",
            "tensor([[-0.4032,  0.1280],\n",
            "        [-0.4024,  0.0845],\n",
            "        [-0.1219,  0.4592],\n",
            "        [-0.2093,  0.6811],\n",
            "        [-0.2853, -0.3403],\n",
            "        [-0.1306,  0.1311],\n",
            "        [ 0.2406, -0.2373],\n",
            "        [ 0.3671,  0.8507]], grad_fn=<AddmmBackward0>)\n",
            "tensor([1, 1, 0, 0, 1, 1, 0, 0])\n",
            "tensor([1, 1, 1, 1, 0, 1, 0, 1])\n"
          ]
        },
        {
          "name": "stderr",
          "output_type": "stream",
          "text": [
            "\r 92%|█████████▏| 482/525 [22:34<02:03,  2.88s/it]"
          ]
        },
        {
          "name": "stdout",
          "output_type": "stream",
          "text": [
            "\n",
            "tensor([[-0.1511, -0.2943],\n",
            "        [ 0.4230,  0.5610],\n",
            "        [-0.1077, -0.0920],\n",
            "        [-0.2960,  0.3368],\n",
            "        [-0.2774,  0.0658],\n",
            "        [-0.2828,  0.2809],\n",
            "        [-0.0603,  0.4337],\n",
            "        [-0.3062,  0.1972]], grad_fn=<AddmmBackward0>)\n",
            "tensor([0, 0, 1, 1, 1, 1, 1, 0])\n",
            "tensor([0, 1, 1, 1, 1, 1, 1, 1])\n"
          ]
        },
        {
          "name": "stderr",
          "output_type": "stream",
          "text": [
            "\r 92%|█████████▏| 483/525 [22:37<01:59,  2.83s/it]"
          ]
        },
        {
          "name": "stdout",
          "output_type": "stream",
          "text": [
            "\n",
            "tensor([[-0.3668,  0.4591],\n",
            "        [-0.4229,  0.3633],\n",
            "        [ 0.2606,  0.4046],\n",
            "        [ 0.0083,  0.3164],\n",
            "        [-0.2678,  0.5248],\n",
            "        [-0.4428,  0.7110],\n",
            "        [ 0.2172,  1.0456],\n",
            "        [ 0.1529,  0.3382]], grad_fn=<AddmmBackward0>)\n",
            "tensor([0, 1, 0, 1, 0, 0, 1, 1])\n",
            "tensor([1, 1, 1, 1, 1, 1, 1, 1])\n"
          ]
        },
        {
          "name": "stderr",
          "output_type": "stream",
          "text": [
            "\r 92%|█████████▏| 484/525 [22:39<01:53,  2.77s/it]"
          ]
        },
        {
          "name": "stdout",
          "output_type": "stream",
          "text": [
            "\n",
            "tensor([[-0.3157,  0.1417],\n",
            "        [ 0.0273,  0.3111],\n",
            "        [ 0.2524,  0.3131],\n",
            "        [-0.1674,  0.3272],\n",
            "        [ 0.0068,  0.3790],\n",
            "        [-0.1364,  0.5251],\n",
            "        [ 0.0727,  0.0738],\n",
            "        [-0.0764,  0.2446]], grad_fn=<AddmmBackward0>)\n",
            "tensor([1, 1, 0, 1, 0, 1, 0, 1])\n",
            "tensor([1, 1, 1, 1, 1, 1, 1, 1])\n"
          ]
        },
        {
          "name": "stderr",
          "output_type": "stream",
          "text": [
            "\r 92%|█████████▏| 485/525 [22:42<01:49,  2.73s/it]"
          ]
        },
        {
          "name": "stdout",
          "output_type": "stream",
          "text": [
            "\n",
            "tensor([[-0.6927,  0.2256],\n",
            "        [-0.0418,  0.0362],\n",
            "        [-0.4671,  0.7268],\n",
            "        [ 0.3256,  0.5815],\n",
            "        [-0.6416,  0.2315],\n",
            "        [ 0.0172,  0.7088],\n",
            "        [-0.0470,  0.4869],\n",
            "        [ 0.3223,  0.6409]], grad_fn=<AddmmBackward0>)\n",
            "tensor([0, 0, 0, 0, 0, 0, 0, 1])\n",
            "tensor([1, 1, 1, 1, 1, 1, 1, 1])\n"
          ]
        },
        {
          "name": "stderr",
          "output_type": "stream",
          "text": [
            "\r 93%|█████████▎| 486/525 [22:45<01:47,  2.76s/it]"
          ]
        },
        {
          "name": "stdout",
          "output_type": "stream",
          "text": [
            "\n",
            "tensor([[-0.3634,  0.3093],\n",
            "        [ 0.0678,  1.0630],\n",
            "        [-0.0036, -0.0319],\n",
            "        [ 0.0516,  0.3633],\n",
            "        [ 0.1806, -0.1994],\n",
            "        [ 0.1499,  0.2237],\n",
            "        [ 0.6565,  0.6696],\n",
            "        [ 0.4453,  0.4313]], grad_fn=<AddmmBackward0>)\n",
            "tensor([0, 0, 0, 0, 1, 0, 0, 0])\n",
            "tensor([1, 1, 0, 1, 0, 1, 1, 0])\n"
          ]
        },
        {
          "name": "stderr",
          "output_type": "stream",
          "text": [
            "\r 93%|█████████▎| 487/525 [22:48<01:46,  2.81s/it]"
          ]
        },
        {
          "name": "stdout",
          "output_type": "stream",
          "text": [
            "\n",
            "tensor([[ 0.3692,  0.0580],\n",
            "        [ 0.3461,  0.1213],\n",
            "        [-0.0589,  0.0264],\n",
            "        [ 0.1142,  0.0299],\n",
            "        [ 0.1193,  0.0287],\n",
            "        [ 0.3598,  0.6064],\n",
            "        [ 0.2011, -0.4286],\n",
            "        [ 0.0064, -0.2050]], grad_fn=<AddmmBackward0>)\n",
            "tensor([1, 1, 0, 0, 1, 1, 1, 1])\n",
            "tensor([0, 0, 1, 0, 0, 1, 0, 0])\n"
          ]
        },
        {
          "name": "stderr",
          "output_type": "stream",
          "text": [
            "\r 93%|█████████▎| 488/525 [22:51<01:46,  2.87s/it]"
          ]
        },
        {
          "name": "stdout",
          "output_type": "stream",
          "text": [
            "\n",
            "tensor([[ 0.2902,  0.1463],\n",
            "        [ 0.6802,  0.2433],\n",
            "        [-0.2214,  0.0384],\n",
            "        [ 0.2086, -0.5755],\n",
            "        [-0.1663, -0.0234],\n",
            "        [ 0.5446, -0.1004],\n",
            "        [ 0.2927, -0.0119],\n",
            "        [ 0.0446, -0.2865]], grad_fn=<AddmmBackward0>)\n",
            "tensor([1, 0, 0, 0, 0, 0, 1, 1])\n",
            "tensor([0, 0, 1, 0, 1, 0, 0, 0])\n"
          ]
        },
        {
          "name": "stderr",
          "output_type": "stream",
          "text": [
            "\r 93%|█████████▎| 489/525 [22:54<01:44,  2.90s/it]"
          ]
        },
        {
          "name": "stdout",
          "output_type": "stream",
          "text": [
            "\n",
            "tensor([[ 0.7098, -0.2933],\n",
            "        [-0.1379, -0.0164],\n",
            "        [ 0.6476, -0.3188],\n",
            "        [-0.0198,  0.2119],\n",
            "        [ 0.3020,  0.0775],\n",
            "        [ 0.4210, -0.5257],\n",
            "        [ 0.3058, -0.1351],\n",
            "        [ 0.1672, -0.2596]], grad_fn=<AddmmBackward0>)\n",
            "tensor([0, 1, 1, 0, 1, 1, 1, 1])\n",
            "tensor([0, 1, 0, 1, 0, 0, 0, 0])\n"
          ]
        },
        {
          "name": "stderr",
          "output_type": "stream",
          "text": [
            "\r 93%|█████████▎| 490/525 [22:56<01:40,  2.87s/it]"
          ]
        },
        {
          "name": "stdout",
          "output_type": "stream",
          "text": [
            "\n",
            "tensor([[ 0.4413,  0.1734],\n",
            "        [ 0.4695, -0.2263],\n",
            "        [ 0.2190, -0.4510],\n",
            "        [ 0.4034, -0.3876],\n",
            "        [ 0.2503, -0.3811],\n",
            "        [ 0.1990, -0.2240],\n",
            "        [ 0.2170, -0.0453],\n",
            "        [ 0.1246,  0.4918]], grad_fn=<AddmmBackward0>)\n",
            "tensor([0, 1, 0, 1, 1, 0, 1, 1])\n",
            "tensor([0, 0, 0, 0, 0, 0, 0, 1])\n"
          ]
        },
        {
          "name": "stderr",
          "output_type": "stream",
          "text": [
            "\r 94%|█████████▎| 491/525 [22:59<01:37,  2.87s/it]"
          ]
        },
        {
          "name": "stdout",
          "output_type": "stream",
          "text": [
            "\n",
            "tensor([[ 0.8861,  0.0748],\n",
            "        [ 0.0190,  0.2390],\n",
            "        [ 0.3720,  0.0234],\n",
            "        [ 0.2509,  0.3557],\n",
            "        [-0.0407,  0.0510],\n",
            "        [ 0.0934, -0.1530],\n",
            "        [ 0.2247, -0.2233],\n",
            "        [ 0.4152, -0.1965]], grad_fn=<AddmmBackward0>)\n",
            "tensor([0, 1, 0, 1, 1, 1, 1, 0])\n",
            "tensor([0, 1, 0, 1, 1, 0, 0, 0])\n"
          ]
        },
        {
          "name": "stderr",
          "output_type": "stream",
          "text": [
            "\r 94%|█████████▎| 492/525 [23:02<01:36,  2.91s/it]"
          ]
        },
        {
          "name": "stdout",
          "output_type": "stream",
          "text": [
            "\n",
            "tensor([[-0.0134, -0.2543],\n",
            "        [-0.1670, -0.1297],\n",
            "        [ 0.1119, -0.0269],\n",
            "        [ 0.2063,  0.0072],\n",
            "        [ 0.3744,  0.1324],\n",
            "        [-0.2460, -0.0684],\n",
            "        [ 0.5458, -0.0196],\n",
            "        [ 0.3128,  0.3602]], grad_fn=<AddmmBackward0>)\n",
            "tensor([0, 0, 1, 0, 0, 1, 1, 1])\n",
            "tensor([0, 1, 0, 0, 0, 1, 0, 1])\n"
          ]
        },
        {
          "name": "stderr",
          "output_type": "stream",
          "text": [
            "\r 94%|█████████▍| 493/525 [23:05<01:34,  2.94s/it]"
          ]
        },
        {
          "name": "stdout",
          "output_type": "stream",
          "text": [
            "\n",
            "tensor([[ 0.2672, -0.3085],\n",
            "        [ 0.4429, -0.0822],\n",
            "        [ 0.5113, -0.0305],\n",
            "        [ 0.0403, -0.5088],\n",
            "        [ 0.3072,  0.1525],\n",
            "        [ 0.0477,  0.0253],\n",
            "        [ 0.0460,  0.0909],\n",
            "        [ 0.5093,  0.2391]], grad_fn=<AddmmBackward0>)\n",
            "tensor([1, 1, 1, 1, 1, 1, 0, 0])\n",
            "tensor([0, 0, 0, 0, 0, 0, 1, 0])\n"
          ]
        },
        {
          "name": "stderr",
          "output_type": "stream",
          "text": [
            "\r 94%|█████████▍| 494/525 [23:08<01:29,  2.88s/it]"
          ]
        },
        {
          "name": "stdout",
          "output_type": "stream",
          "text": [
            "\n",
            "tensor([[-3.8053e-01,  2.9019e-01],\n",
            "        [-1.5539e-01,  5.9007e-01],\n",
            "        [-6.0684e-02,  5.1685e-02],\n",
            "        [ 2.0391e-01,  2.3399e-01],\n",
            "        [ 8.8487e-05,  7.6321e-02],\n",
            "        [ 1.7036e-01,  6.8636e-01],\n",
            "        [-2.0724e-01, -7.2161e-01],\n",
            "        [ 1.7549e-01, -1.7719e-01]], grad_fn=<AddmmBackward0>)\n",
            "tensor([1, 1, 0, 0, 0, 1, 1, 0])\n",
            "tensor([1, 1, 1, 1, 1, 1, 0, 0])\n"
          ]
        },
        {
          "name": "stderr",
          "output_type": "stream",
          "text": [
            "\r 94%|█████████▍| 495/525 [23:11<01:25,  2.86s/it]"
          ]
        },
        {
          "name": "stdout",
          "output_type": "stream",
          "text": [
            "\n",
            "tensor([[-0.0196,  0.2661],\n",
            "        [-0.3367, -0.0904],\n",
            "        [ 0.2448, -0.0103],\n",
            "        [ 0.1800,  0.4403],\n",
            "        [-0.1664, -0.2294],\n",
            "        [ 0.1675, -0.1947],\n",
            "        [ 0.0140,  0.2689],\n",
            "        [-0.0272, -0.2801]], grad_fn=<AddmmBackward0>)\n",
            "tensor([0, 1, 0, 1, 1, 0, 0, 1])\n",
            "tensor([1, 1, 0, 1, 0, 0, 1, 0])\n"
          ]
        },
        {
          "name": "stderr",
          "output_type": "stream",
          "text": [
            "\r 94%|█████████▍| 496/525 [23:14<01:23,  2.90s/it]"
          ]
        },
        {
          "name": "stdout",
          "output_type": "stream",
          "text": [
            "\n",
            "tensor([[-0.3422,  0.2245],\n",
            "        [-0.2605, -0.1262],\n",
            "        [-0.1926,  0.3859],\n",
            "        [-0.0866,  0.0431],\n",
            "        [ 0.1441,  0.5674],\n",
            "        [ 0.2236,  0.5276],\n",
            "        [-0.4247, -0.6200],\n",
            "        [ 0.2946,  0.1139]], grad_fn=<AddmmBackward0>)\n",
            "tensor([1, 1, 1, 1, 0, 1, 0, 1])\n",
            "tensor([1, 1, 1, 1, 1, 1, 0, 0])\n"
          ]
        },
        {
          "name": "stderr",
          "output_type": "stream",
          "text": [
            "\r 95%|█████████▍| 497/525 [23:17<01:20,  2.89s/it]"
          ]
        },
        {
          "name": "stdout",
          "output_type": "stream",
          "text": [
            "\n",
            "tensor([[-0.0874,  0.2960],\n",
            "        [-0.1485,  0.3536],\n",
            "        [-0.1875,  0.3388],\n",
            "        [-0.5519,  0.1698],\n",
            "        [-0.2682,  0.0663],\n",
            "        [-0.0667,  0.5908],\n",
            "        [-0.3784,  0.2912],\n",
            "        [-0.1342,  0.7803]], grad_fn=<AddmmBackward0>)\n",
            "tensor([1, 1, 1, 0, 0, 0, 1, 1])\n",
            "tensor([1, 1, 1, 1, 1, 1, 1, 1])\n"
          ]
        },
        {
          "name": "stderr",
          "output_type": "stream",
          "text": [
            "\r 95%|█████████▍| 498/525 [23:20<01:18,  2.90s/it]"
          ]
        },
        {
          "name": "stdout",
          "output_type": "stream",
          "text": [
            "\n",
            "tensor([[-0.3320, -0.2792],\n",
            "        [ 0.4103,  1.0224],\n",
            "        [ 0.1257,  0.3760],\n",
            "        [-0.2445,  0.9703],\n",
            "        [ 0.0190,  0.9204],\n",
            "        [ 0.0135,  0.7102],\n",
            "        [-0.5327,  0.0924],\n",
            "        [-0.2511,  0.5848]], grad_fn=<AddmmBackward0>)\n",
            "tensor([1, 0, 1, 1, 1, 0, 0, 1])\n",
            "tensor([1, 1, 1, 1, 1, 1, 1, 1])\n"
          ]
        },
        {
          "name": "stderr",
          "output_type": "stream",
          "text": [
            "\r 95%|█████████▌| 499/525 [23:22<01:13,  2.82s/it]"
          ]
        },
        {
          "name": "stdout",
          "output_type": "stream",
          "text": [
            "\n",
            "tensor([[-0.0736,  0.2849],\n",
            "        [-0.3301,  0.1198],\n",
            "        [-0.0117,  0.7916],\n",
            "        [-0.0958,  0.3199],\n",
            "        [-0.2070,  0.6156],\n",
            "        [-0.8026,  0.1951],\n",
            "        [-0.2970,  0.4034],\n",
            "        [-0.4573,  0.1816]], grad_fn=<AddmmBackward0>)\n",
            "tensor([1, 0, 0, 1, 1, 0, 1, 0])\n",
            "tensor([1, 1, 1, 1, 1, 1, 1, 1])\n"
          ]
        },
        {
          "name": "stderr",
          "output_type": "stream",
          "text": [
            "\r 95%|█████████▌| 500/525 [23:25<01:10,  2.83s/it]"
          ]
        },
        {
          "name": "stdout",
          "output_type": "stream",
          "text": [
            "\n",
            "tensor([[ 0.4910,  0.5854],\n",
            "        [ 0.2280,  0.8049],\n",
            "        [-0.2403,  0.4792],\n",
            "        [-0.0031,  1.0548],\n",
            "        [-0.3439,  0.7648],\n",
            "        [-0.4944,  0.4371],\n",
            "        [-0.6331, -0.0602],\n",
            "        [ 0.1286,  1.0014]], grad_fn=<AddmmBackward0>)\n",
            "tensor([0, 1, 0, 1, 0, 0, 1, 0])\n",
            "tensor([1, 1, 1, 1, 1, 1, 1, 1])\n"
          ]
        },
        {
          "name": "stderr",
          "output_type": "stream",
          "text": [
            "\r 95%|█████████▌| 501/525 [23:28<01:07,  2.81s/it]"
          ]
        },
        {
          "name": "stdout",
          "output_type": "stream",
          "text": [
            "\n",
            "tensor([[-0.4932,  0.7372],\n",
            "        [-0.4505, -0.0939],\n",
            "        [-0.3260,  0.6631],\n",
            "        [-0.1558,  0.6821],\n",
            "        [-0.2084,  0.4994],\n",
            "        [-0.2111,  0.6726],\n",
            "        [-0.2941,  0.3571],\n",
            "        [-0.0490,  0.9547]], grad_fn=<AddmmBackward0>)\n",
            "tensor([1, 0, 0, 1, 1, 1, 0, 1])\n",
            "tensor([1, 1, 1, 1, 1, 1, 1, 1])\n"
          ]
        },
        {
          "name": "stderr",
          "output_type": "stream",
          "text": [
            "\r 96%|█████████▌| 502/525 [23:31<01:06,  2.87s/it]"
          ]
        },
        {
          "name": "stdout",
          "output_type": "stream",
          "text": [
            "\n",
            "tensor([[-0.8442,  0.7450],\n",
            "        [-0.3184,  0.0852],\n",
            "        [-0.0217,  0.4290],\n",
            "        [ 0.0718, -0.0035],\n",
            "        [-0.5934,  0.4974],\n",
            "        [-0.3294,  0.2829],\n",
            "        [-0.2363,  0.3928],\n",
            "        [ 0.3543,  0.3870]], grad_fn=<AddmmBackward0>)\n",
            "tensor([0, 0, 0, 1, 1, 0, 0, 1])\n",
            "tensor([1, 1, 1, 0, 1, 1, 1, 1])\n"
          ]
        },
        {
          "name": "stderr",
          "output_type": "stream",
          "text": [
            "\r 96%|█████████▌| 503/525 [23:34<01:03,  2.90s/it]"
          ]
        },
        {
          "name": "stdout",
          "output_type": "stream",
          "text": [
            "\n",
            "tensor([[ 0.0827,  0.3199],\n",
            "        [-0.3677,  0.5639],\n",
            "        [-0.1266,  0.3542],\n",
            "        [-0.6000,  0.2007],\n",
            "        [-0.2517,  0.1330],\n",
            "        [-0.6499,  0.3869],\n",
            "        [-0.2738,  0.4299],\n",
            "        [ 0.1305,  0.4387]], grad_fn=<AddmmBackward0>)\n",
            "tensor([0, 1, 0, 0, 1, 1, 1, 0])\n",
            "tensor([1, 1, 1, 1, 1, 1, 1, 1])\n"
          ]
        },
        {
          "name": "stderr",
          "output_type": "stream",
          "text": [
            "\r 96%|█████████▌| 504/525 [23:37<00:58,  2.81s/it]"
          ]
        },
        {
          "name": "stdout",
          "output_type": "stream",
          "text": [
            "\n",
            "tensor([[-0.3522,  0.3624],\n",
            "        [ 0.2081,  0.3885],\n",
            "        [ 0.0639,  0.4195],\n",
            "        [-0.5008,  0.1132],\n",
            "        [ 0.1414,  0.6353],\n",
            "        [-0.0494,  0.1920],\n",
            "        [ 0.1617,  0.3131],\n",
            "        [-0.5075,  0.5164]], grad_fn=<AddmmBackward0>)\n",
            "tensor([1, 0, 1, 0, 1, 1, 1, 0])\n",
            "tensor([1, 1, 1, 1, 1, 1, 1, 1])\n"
          ]
        },
        {
          "name": "stderr",
          "output_type": "stream",
          "text": [
            "\r 96%|█████████▌| 505/525 [23:39<00:57,  2.86s/it]"
          ]
        },
        {
          "name": "stdout",
          "output_type": "stream",
          "text": [
            "\n",
            "tensor([[ 0.0677,  0.8076],\n",
            "        [ 0.1376,  0.6409],\n",
            "        [-0.0423,  0.5807],\n",
            "        [-0.0684,  0.1561],\n",
            "        [ 0.0617,  0.3377],\n",
            "        [-0.2572,  0.6621],\n",
            "        [ 0.1794, -0.0691],\n",
            "        [-0.1407, -0.0130]], grad_fn=<AddmmBackward0>)\n",
            "tensor([1, 0, 1, 1, 1, 0, 0, 1])\n",
            "tensor([1, 1, 1, 1, 1, 1, 0, 1])\n"
          ]
        },
        {
          "name": "stderr",
          "output_type": "stream",
          "text": [
            "\r 96%|█████████▋| 506/525 [23:42<00:54,  2.89s/it]"
          ]
        },
        {
          "name": "stdout",
          "output_type": "stream",
          "text": [
            "\n",
            "tensor([[-0.1569,  0.3253],\n",
            "        [-0.1772, -0.2020],\n",
            "        [-0.2000,  0.2579],\n",
            "        [ 0.2246, -0.3333],\n",
            "        [-0.1684,  0.2006],\n",
            "        [-0.2865,  0.3122],\n",
            "        [-0.1778,  0.1535],\n",
            "        [-0.3518,  0.3044]], grad_fn=<AddmmBackward0>)\n",
            "tensor([1, 1, 0, 0, 1, 0, 0, 1])\n",
            "tensor([1, 0, 1, 0, 1, 1, 1, 1])\n"
          ]
        },
        {
          "name": "stderr",
          "output_type": "stream",
          "text": [
            "\r 97%|█████████▋| 507/525 [23:45<00:52,  2.91s/it]"
          ]
        },
        {
          "name": "stdout",
          "output_type": "stream",
          "text": [
            "\n",
            "tensor([[ 0.1802, -0.0313],\n",
            "        [ 0.1983,  0.3381],\n",
            "        [ 0.0571,  0.6742],\n",
            "        [ 0.2665,  0.3119],\n",
            "        [ 0.1141,  0.1392],\n",
            "        [ 0.4469,  0.6468],\n",
            "        [ 0.3438,  0.8861],\n",
            "        [-0.0505,  0.3299]], grad_fn=<AddmmBackward0>)\n",
            "tensor([1, 0, 1, 0, 0, 0, 1, 1])\n",
            "tensor([0, 1, 1, 1, 1, 1, 1, 1])\n"
          ]
        },
        {
          "name": "stderr",
          "output_type": "stream",
          "text": [
            "\r 97%|█████████▋| 508/525 [23:48<00:49,  2.92s/it]"
          ]
        },
        {
          "name": "stdout",
          "output_type": "stream",
          "text": [
            "\n",
            "tensor([[3.5862e-01, 1.5439e-01],\n",
            "        [3.3268e-01, 5.9483e-01],\n",
            "        [3.7632e-01, 2.5481e-01],\n",
            "        [2.1463e-01, 2.8580e-01],\n",
            "        [3.4962e-01, 1.7699e-01],\n",
            "        [3.0485e-04, 5.0003e-01],\n",
            "        [1.3901e-01, 4.2110e-02],\n",
            "        [4.0946e-01, 2.6684e-01]], grad_fn=<AddmmBackward0>)\n",
            "tensor([0, 0, 0, 0, 1, 0, 1, 1])\n",
            "tensor([0, 1, 0, 1, 0, 1, 0, 0])\n"
          ]
        },
        {
          "name": "stderr",
          "output_type": "stream",
          "text": [
            "\r 97%|█████████▋| 509/525 [23:51<00:46,  2.89s/it]"
          ]
        },
        {
          "name": "stdout",
          "output_type": "stream",
          "text": [
            "\n",
            "tensor([[ 0.0085, -0.0854],\n",
            "        [ 0.2229,  0.5636],\n",
            "        [ 0.1972,  0.5155],\n",
            "        [ 0.3428,  0.3802],\n",
            "        [ 0.6224, -0.1421],\n",
            "        [ 0.0324, -0.0624],\n",
            "        [ 0.0668,  0.0422],\n",
            "        [-0.0140, -0.2884]], grad_fn=<AddmmBackward0>)\n",
            "tensor([0, 0, 1, 0, 0, 0, 1, 1])\n",
            "tensor([0, 1, 1, 1, 0, 0, 0, 0])\n"
          ]
        },
        {
          "name": "stderr",
          "output_type": "stream",
          "text": [
            "\r 97%|█████████▋| 510/525 [23:54<00:43,  2.89s/it]"
          ]
        },
        {
          "name": "stdout",
          "output_type": "stream",
          "text": [
            "\n",
            "tensor([[ 0.2465, -0.2189],\n",
            "        [-0.1766,  0.0329],\n",
            "        [-0.0030, -0.1601],\n",
            "        [ 0.2373,  0.2351],\n",
            "        [ 0.1952,  0.0147],\n",
            "        [ 0.8518,  0.0870],\n",
            "        [ 0.1506, -0.4504],\n",
            "        [ 0.3631,  0.5756]], grad_fn=<AddmmBackward0>)\n",
            "tensor([0, 1, 1, 1, 1, 0, 1, 0])\n",
            "tensor([0, 1, 0, 0, 0, 0, 0, 1])\n"
          ]
        },
        {
          "name": "stderr",
          "output_type": "stream",
          "text": [
            "\r 97%|█████████▋| 511/525 [23:57<00:40,  2.89s/it]"
          ]
        },
        {
          "name": "stdout",
          "output_type": "stream",
          "text": [
            "\n",
            "tensor([[-0.2768, -0.2237],\n",
            "        [ 0.0504, -0.0490],\n",
            "        [ 0.1899,  0.2614],\n",
            "        [ 0.4069, -0.2249],\n",
            "        [ 0.0427, -0.0660],\n",
            "        [ 0.5447,  0.1181],\n",
            "        [ 0.6456, -0.0037],\n",
            "        [ 0.3974, -0.0720]], grad_fn=<AddmmBackward0>)\n",
            "tensor([0, 0, 0, 0, 0, 0, 1, 1])\n",
            "tensor([1, 0, 1, 0, 0, 0, 0, 0])\n"
          ]
        },
        {
          "name": "stderr",
          "output_type": "stream",
          "text": [
            "\r 98%|█████████▊| 512/525 [24:00<00:38,  2.93s/it]"
          ]
        },
        {
          "name": "stdout",
          "output_type": "stream",
          "text": [
            "\n",
            "tensor([[ 0.5346,  0.1679],\n",
            "        [ 0.4737, -0.2476],\n",
            "        [ 0.7748,  0.0110],\n",
            "        [ 0.4175,  0.1850],\n",
            "        [ 0.3019,  0.2720],\n",
            "        [ 0.3480,  0.0983],\n",
            "        [ 0.1521, -0.2969],\n",
            "        [ 0.2515, -0.5660]], grad_fn=<AddmmBackward0>)\n",
            "tensor([1, 0, 0, 1, 0, 0, 0, 0])\n",
            "tensor([0, 0, 0, 0, 0, 0, 0, 0])\n"
          ]
        },
        {
          "name": "stderr",
          "output_type": "stream",
          "text": [
            "\r 98%|█████████▊| 513/525 [24:03<00:35,  2.96s/it]"
          ]
        },
        {
          "name": "stdout",
          "output_type": "stream",
          "text": [
            "\n",
            "tensor([[ 0.6466, -0.2258],\n",
            "        [ 0.3001, -0.4737],\n",
            "        [ 1.0441,  0.1820],\n",
            "        [ 0.0757,  0.0429],\n",
            "        [ 0.3632, -0.3511],\n",
            "        [-0.0490, -0.0488],\n",
            "        [ 0.2341, -0.2761],\n",
            "        [ 0.5349, -0.2120]], grad_fn=<AddmmBackward0>)\n",
            "tensor([0, 1, 1, 1, 1, 0, 0, 1])\n",
            "tensor([0, 0, 0, 0, 0, 1, 0, 0])\n"
          ]
        },
        {
          "name": "stderr",
          "output_type": "stream",
          "text": [
            "\r 98%|█████████▊| 514/525 [24:06<00:31,  2.85s/it]"
          ]
        },
        {
          "name": "stdout",
          "output_type": "stream",
          "text": [
            "\n",
            "tensor([[ 0.5158,  0.0052],\n",
            "        [ 0.6743, -0.5675],\n",
            "        [ 0.6636, -0.6959],\n",
            "        [ 0.8042, -0.0393],\n",
            "        [ 0.5244,  0.2285],\n",
            "        [ 0.2919, -0.5340],\n",
            "        [ 0.5247, -0.1233],\n",
            "        [ 0.7362, -0.0875]], grad_fn=<AddmmBackward0>)\n",
            "tensor([1, 1, 0, 0, 1, 1, 1, 0])\n",
            "tensor([0, 0, 0, 0, 0, 0, 0, 0])\n"
          ]
        },
        {
          "name": "stderr",
          "output_type": "stream",
          "text": [
            "\r 98%|█████████▊| 515/525 [24:08<00:27,  2.74s/it]"
          ]
        },
        {
          "name": "stdout",
          "output_type": "stream",
          "text": [
            "\n",
            "tensor([[ 0.5341, -0.3045],\n",
            "        [ 0.3841, -0.4108],\n",
            "        [ 0.4558, -0.3550],\n",
            "        [ 0.5170,  0.2738],\n",
            "        [ 0.5254,  0.1043],\n",
            "        [ 0.2031, -0.3255],\n",
            "        [ 1.0148,  0.3760],\n",
            "        [ 0.7767,  0.1017]], grad_fn=<AddmmBackward0>)\n",
            "tensor([1, 1, 0, 0, 0, 0, 0, 0])\n",
            "tensor([0, 0, 0, 0, 0, 0, 0, 0])\n"
          ]
        },
        {
          "name": "stderr",
          "output_type": "stream",
          "text": [
            "\r 98%|█████████▊| 516/525 [24:11<00:24,  2.68s/it]"
          ]
        },
        {
          "name": "stdout",
          "output_type": "stream",
          "text": [
            "\n",
            "tensor([[ 0.3038, -0.0160],\n",
            "        [ 0.7253, -0.3723],\n",
            "        [ 0.6194, -0.1408],\n",
            "        [ 0.4001,  0.2283],\n",
            "        [ 0.6165,  0.1935],\n",
            "        [ 0.7156,  0.1962],\n",
            "        [ 0.6133, -0.6744],\n",
            "        [ 0.2698, -0.1295]], grad_fn=<AddmmBackward0>)\n",
            "tensor([1, 1, 0, 1, 0, 0, 1, 0])\n",
            "tensor([0, 0, 0, 0, 0, 0, 0, 0])\n"
          ]
        },
        {
          "name": "stderr",
          "output_type": "stream",
          "text": [
            "\r 98%|█████████▊| 517/525 [24:13<00:21,  2.66s/it]"
          ]
        },
        {
          "name": "stdout",
          "output_type": "stream",
          "text": [
            "\n",
            "tensor([[ 0.9354,  0.1871],\n",
            "        [ 0.0817, -0.1551],\n",
            "        [ 0.8887, -0.2806],\n",
            "        [ 1.0933,  0.1259],\n",
            "        [ 0.6416,  0.0254],\n",
            "        [ 0.7230,  0.5595],\n",
            "        [ 0.1653, -0.2230],\n",
            "        [ 0.3093, -0.2181]], grad_fn=<AddmmBackward0>)\n",
            "tensor([1, 0, 0, 0, 1, 1, 0, 1])\n",
            "tensor([0, 0, 0, 0, 0, 0, 0, 0])\n"
          ]
        },
        {
          "name": "stderr",
          "output_type": "stream",
          "text": [
            "\r 99%|█████████▊| 518/525 [24:16<00:19,  2.74s/it]"
          ]
        },
        {
          "name": "stdout",
          "output_type": "stream",
          "text": [
            "\n",
            "tensor([[ 0.2001, -0.5254],\n",
            "        [ 1.1480,  0.3652],\n",
            "        [ 0.5209,  0.0428],\n",
            "        [ 0.4684, -0.0571],\n",
            "        [ 0.4538, -0.0077],\n",
            "        [-0.2267, -0.1500],\n",
            "        [ 0.9128,  0.2897],\n",
            "        [ 0.5941, -0.0603]], grad_fn=<AddmmBackward0>)\n",
            "tensor([0, 0, 1, 1, 0, 0, 0, 1])\n",
            "tensor([0, 0, 0, 0, 0, 1, 0, 0])\n"
          ]
        },
        {
          "name": "stderr",
          "output_type": "stream",
          "text": [
            "\r 99%|█████████▉| 519/525 [24:18<00:15,  2.57s/it]"
          ]
        },
        {
          "name": "stdout",
          "output_type": "stream",
          "text": [
            "\n",
            "tensor([[ 0.5505,  0.3995],\n",
            "        [ 0.3688, -0.3334],\n",
            "        [ 0.3883, -0.1194],\n",
            "        [ 0.7303,  0.3621],\n",
            "        [ 0.2573, -0.6267],\n",
            "        [ 0.0919, -0.0358],\n",
            "        [-0.0256, -0.1113],\n",
            "        [ 0.4872,  0.0548]], grad_fn=<AddmmBackward0>)\n",
            "tensor([1, 1, 1, 1, 0, 0, 0, 1])\n",
            "tensor([0, 0, 0, 0, 0, 0, 0, 0])\n"
          ]
        },
        {
          "name": "stderr",
          "output_type": "stream",
          "text": [
            "\r 99%|█████████▉| 520/525 [24:21<00:13,  2.67s/it]"
          ]
        },
        {
          "name": "stdout",
          "output_type": "stream",
          "text": [
            "\n",
            "tensor([[ 0.5064, -0.0226],\n",
            "        [ 0.7042, -0.4062],\n",
            "        [-0.3277,  0.0087],\n",
            "        [ 0.4612,  0.3724],\n",
            "        [ 0.1300, -0.0618],\n",
            "        [-0.0928, -0.0746],\n",
            "        [ 0.5678, -0.0146],\n",
            "        [ 0.1577, -0.0403]], grad_fn=<AddmmBackward0>)\n",
            "tensor([1, 1, 0, 0, 1, 1, 0, 1])\n",
            "tensor([0, 0, 1, 0, 0, 1, 0, 0])\n"
          ]
        },
        {
          "name": "stderr",
          "output_type": "stream",
          "text": [
            "\r 99%|█████████▉| 521/525 [24:24<00:10,  2.72s/it]"
          ]
        },
        {
          "name": "stdout",
          "output_type": "stream",
          "text": [
            "\n",
            "tensor([[ 0.1094,  0.3911],\n",
            "        [ 0.2097,  0.2622],\n",
            "        [-0.0095, -0.2291],\n",
            "        [ 0.5664,  0.3483],\n",
            "        [ 0.2512, -0.2053],\n",
            "        [ 0.3069,  0.0818],\n",
            "        [ 0.7293,  0.3235],\n",
            "        [-0.0640,  0.3303]], grad_fn=<AddmmBackward0>)\n",
            "tensor([1, 1, 0, 1, 0, 0, 0, 0])\n",
            "tensor([1, 1, 0, 0, 0, 0, 0, 1])\n"
          ]
        },
        {
          "name": "stderr",
          "output_type": "stream",
          "text": [
            "\r 99%|█████████▉| 522/525 [24:27<00:08,  2.80s/it]"
          ]
        },
        {
          "name": "stdout",
          "output_type": "stream",
          "text": [
            "\n",
            "tensor([[ 0.3764,  0.7922],\n",
            "        [ 0.2787,  0.1864],\n",
            "        [ 0.0064,  0.0166],\n",
            "        [ 0.0559,  0.2715],\n",
            "        [-0.4757,  0.1885],\n",
            "        [ 0.4590,  0.1546],\n",
            "        [ 0.0754,  0.0234],\n",
            "        [ 0.1796, -0.3038]], grad_fn=<AddmmBackward0>)\n",
            "tensor([0, 0, 1, 1, 1, 0, 1, 0])\n",
            "tensor([1, 0, 1, 1, 1, 0, 0, 0])\n"
          ]
        },
        {
          "name": "stderr",
          "output_type": "stream",
          "text": [
            "\r100%|█████████▉| 523/525 [24:30<00:05,  2.78s/it]"
          ]
        },
        {
          "name": "stdout",
          "output_type": "stream",
          "text": [
            "\n",
            "tensor([[ 0.1186,  0.3710],\n",
            "        [ 0.3879,  0.7756],\n",
            "        [ 0.2928,  0.4677],\n",
            "        [ 0.1285,  0.1055],\n",
            "        [ 0.3577,  0.3073],\n",
            "        [ 0.1958,  0.2165],\n",
            "        [ 0.4930,  0.3152],\n",
            "        [-0.0504,  0.2142]], grad_fn=<AddmmBackward0>)\n",
            "tensor([0, 0, 0, 0, 1, 0, 0, 0])\n",
            "tensor([1, 1, 1, 0, 0, 1, 0, 1])\n"
          ]
        },
        {
          "name": "stderr",
          "output_type": "stream",
          "text": [
            "\r100%|█████████▉| 524/525 [24:33<00:02,  2.76s/it]"
          ]
        },
        {
          "name": "stdout",
          "output_type": "stream",
          "text": [
            "\n",
            "tensor([[ 0.0777,  0.1869],\n",
            "        [ 0.3956,  0.1043],\n",
            "        [ 0.2616,  0.6662],\n",
            "        [ 0.3345,  0.5965],\n",
            "        [ 0.3702,  0.3539],\n",
            "        [-0.2988,  0.1576],\n",
            "        [-0.1989,  0.7025],\n",
            "        [-0.1861,  0.1231]], grad_fn=<AddmmBackward0>)\n",
            "tensor([1, 0, 1, 1, 0, 0, 1, 0])\n",
            "tensor([1, 0, 1, 1, 0, 1, 1, 1])\n"
          ]
        },
        {
          "name": "stderr",
          "output_type": "stream",
          "text": [
            "100%|██████████| 525/525 [24:35<00:00,  2.81s/it]\n"
          ]
        },
        {
          "name": "stdout",
          "output_type": "stream",
          "text": [
            "테스트 정확도: 0.5094444444444445\n"
          ]
        }
      ],
      "source": [
        "vocab_size = 30522\n",
        "embed_size = 768\n",
        "hidden_size = 768\n",
        "num_classes = 2\n",
        "num_attention_heads = 12\n",
        "num_hidden_layers = 12\n",
        "#bert_model = BertModel.from_pretrained('bert-base-uncased')\n",
        "bert_model = BERT(vocab_size, embed_size, hidden_size, num_attention_heads, num_hidden_layers)\n",
        "model = BERTClassifier(bert_model, num_classes)\n",
        "\n",
        "# 훈련 설정\n",
        "optimizer = AdamW(model.parameters(), lr=5e-5)\n",
        "\n",
        "# 데이터셋 생성\n",
        "train_dataset = TensorDataset(train_encodings['input_ids'], train_encodings['attention_mask'], torch.tensor(train_labels))\n",
        "test_dataset = TensorDataset(test_encodings['input_ids'], test_encodings['attention_mask'], torch.tensor(test_labels))\n",
        "\n",
        "# 데이터로더 생성\n",
        "train_loader = DataLoader(train_dataset, batch_size=8, shuffle=True)\n",
        "test_loader = DataLoader(test_dataset, batch_size=8, shuffle=True)\n",
        "\n",
        "epoch_num = 1\n",
        "model.train()\n",
        "for epoch in range(epoch_num):\n",
        "    for batch in tqdm(train_loader):\n",
        "        optimizer.zero_grad()\n",
        "        input_ids, attention_mask, labels = batch\n",
        "        outputs = model(input_ids, attention_mask=attention_mask)\n",
        "        print()\n",
        "        print(outputs)\n",
        "        print(labels)\n",
        "        print(torch.argmax(outputs, dim=1))\n",
        "        loss_fn = nn.CrossEntropyLoss()\n",
        "        loss = loss_fn(outputs, labels)\n",
        "        loss.backward()\n",
        "        optimizer.step()\n",
        "\n",
        "# 평가\n",
        "model.eval()\n",
        "correct = 0\n",
        "total = 0\n",
        "with torch.no_grad():\n",
        "    for batch in test_loader:\n",
        "        input_ids, attention_mask, labels = batch\n",
        "        outputs = model(input_ids, attention_mask=attention_mask)\n",
        "        logits = outputs\n",
        "        predicted_labels = torch.argmax(logits, dim=1)\n",
        "        total += labels.size(0)\n",
        "        correct += (predicted_labels == labels).sum().item()\n",
        "\n",
        "\n",
        "accuracy = correct / total\n",
        "print(f'테스트 정확도: {accuracy}')"
      ]
    }
  ],
  "metadata": {
    "accelerator": "TPU",
    "colab": {
      "gpuType": "V28",
      "machine_shape": "hm",
      "provenance": []
    },
    "kernelspec": {
      "display_name": "Python 3",
      "name": "python3"
    },
    "language_info": {
      "name": "python"
    }
  },
  "nbformat": 4,
  "nbformat_minor": 0
}