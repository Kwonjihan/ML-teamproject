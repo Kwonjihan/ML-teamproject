{
  "nbformat": 4,
  "nbformat_minor": 0,
  "metadata": {
    "colab": {
      "provenance": [],
      "machine_shape": "hm",
      "gpuType": "V28"
    },
    "kernelspec": {
      "name": "python3",
      "display_name": "Python 3"
    },
    "language_info": {
      "name": "python"
    },
    "accelerator": "TPU"
  },
  "cells": [
    {
      "cell_type": "markdown",
      "source": [],
      "metadata": {
        "id": "7caNbTOk8EJO"
      }
    },
    {
      "cell_type": "code",
      "source": [
        "from google.colab import drive\n",
        "import pandas as pd\n",
        "from tqdm import tqdm\n",
        "\n",
        "drive.mount('/content/drive')\n",
        "path = '/content/drive/MyDrive/6000_IMDB_Dataset.csv'"
      ],
      "metadata": {
        "colab": {
          "base_uri": "https://localhost:8080/"
        },
        "id": "kbaJjJrtJFa7",
        "outputId": "26e4c861-27b2-43a4-99dc-9542e7cd767f"
      },
      "execution_count": 24,
      "outputs": [
        {
          "output_type": "stream",
          "name": "stdout",
          "text": [
            "Drive already mounted at /content/drive; to attempt to forcibly remount, call drive.mount(\"/content/drive\", force_remount=True).\n"
          ]
        }
      ]
    },
    {
      "cell_type": "code",
      "source": [
        "from transformers import BertTokenizer, BertForSequenceClassification\n",
        "from torch.utils.data import DataLoader, TensorDataset\n",
        "from sklearn.model_selection import train_test_split\n",
        "from transformers import AdamW\n",
        "import torch\n",
        "review_df = pd.read_csv(path)\n",
        "feature = review_df['review'].tolist()\n",
        "label = review_df['sentiment'].tolist()\n",
        "\n",
        "for i in range(len(label)):\n",
        "    if label[i] == 'positive':\n",
        "        label[i] = 1\n",
        "    else :\n",
        "        label[i] = 0\n",
        "\n",
        "train_texts,test_texts, train_labels,test_labels = train_test_split(feature, label, train_size=0.7, shuffle=True)"
      ],
      "metadata": {
        "id": "582wDWY3JJQE"
      },
      "execution_count": 41,
      "outputs": []
    },
    {
      "cell_type": "markdown",
      "source": [],
      "metadata": {
        "id": "yRbwOe77zNCi"
      }
    },
    {
      "cell_type": "code",
      "source": [
        "review_df"
      ],
      "metadata": {
        "colab": {
          "base_uri": "https://localhost:8080/",
          "height": 424
        },
        "id": "ijWA39fswMML",
        "outputId": "65d983d8-d729-4da3-abd7-1ea8dc430102"
      },
      "execution_count": 40,
      "outputs": [
        {
          "output_type": "execute_result",
          "data": {
            "text/plain": [
              "                                                 review sentiment\n",
              "0     One of the other reviewers has mentioned that ...  positive\n",
              "1     A wonderful little production. <br /><br />The...  positive\n",
              "2     I thought this was a wonderful way to spend ti...  positive\n",
              "3     Petter Mattei's \"Love in the Time of Money\" is...  positive\n",
              "4     Probably my all-time favorite movie, a story o...  positive\n",
              "...                                                 ...       ...\n",
              "5995  Something somewhere must have terribly gone wr...  negative\n",
              "5996  This was the next to last film appearance by J...  negative\n",
              "5997  I give this movie a 4 cause I'm a die hard fan...  negative\n",
              "5998  Are we serious??? I mean wow ... just, wow. I ...  negative\n",
              "5999  I have no respect for IMDb ratings anymore. I ...  negative\n",
              "\n",
              "[6000 rows x 2 columns]"
            ],
            "text/html": [
              "\n",
              "  <div id=\"df-3b4e6bd1-2907-4efb-891a-af5fd2516101\" class=\"colab-df-container\">\n",
              "    <div>\n",
              "<style scoped>\n",
              "    .dataframe tbody tr th:only-of-type {\n",
              "        vertical-align: middle;\n",
              "    }\n",
              "\n",
              "    .dataframe tbody tr th {\n",
              "        vertical-align: top;\n",
              "    }\n",
              "\n",
              "    .dataframe thead th {\n",
              "        text-align: right;\n",
              "    }\n",
              "</style>\n",
              "<table border=\"1\" class=\"dataframe\">\n",
              "  <thead>\n",
              "    <tr style=\"text-align: right;\">\n",
              "      <th></th>\n",
              "      <th>review</th>\n",
              "      <th>sentiment</th>\n",
              "    </tr>\n",
              "  </thead>\n",
              "  <tbody>\n",
              "    <tr>\n",
              "      <th>0</th>\n",
              "      <td>One of the other reviewers has mentioned that ...</td>\n",
              "      <td>positive</td>\n",
              "    </tr>\n",
              "    <tr>\n",
              "      <th>1</th>\n",
              "      <td>A wonderful little production. &lt;br /&gt;&lt;br /&gt;The...</td>\n",
              "      <td>positive</td>\n",
              "    </tr>\n",
              "    <tr>\n",
              "      <th>2</th>\n",
              "      <td>I thought this was a wonderful way to spend ti...</td>\n",
              "      <td>positive</td>\n",
              "    </tr>\n",
              "    <tr>\n",
              "      <th>3</th>\n",
              "      <td>Petter Mattei's \"Love in the Time of Money\" is...</td>\n",
              "      <td>positive</td>\n",
              "    </tr>\n",
              "    <tr>\n",
              "      <th>4</th>\n",
              "      <td>Probably my all-time favorite movie, a story o...</td>\n",
              "      <td>positive</td>\n",
              "    </tr>\n",
              "    <tr>\n",
              "      <th>...</th>\n",
              "      <td>...</td>\n",
              "      <td>...</td>\n",
              "    </tr>\n",
              "    <tr>\n",
              "      <th>5995</th>\n",
              "      <td>Something somewhere must have terribly gone wr...</td>\n",
              "      <td>negative</td>\n",
              "    </tr>\n",
              "    <tr>\n",
              "      <th>5996</th>\n",
              "      <td>This was the next to last film appearance by J...</td>\n",
              "      <td>negative</td>\n",
              "    </tr>\n",
              "    <tr>\n",
              "      <th>5997</th>\n",
              "      <td>I give this movie a 4 cause I'm a die hard fan...</td>\n",
              "      <td>negative</td>\n",
              "    </tr>\n",
              "    <tr>\n",
              "      <th>5998</th>\n",
              "      <td>Are we serious??? I mean wow ... just, wow. I ...</td>\n",
              "      <td>negative</td>\n",
              "    </tr>\n",
              "    <tr>\n",
              "      <th>5999</th>\n",
              "      <td>I have no respect for IMDb ratings anymore. I ...</td>\n",
              "      <td>negative</td>\n",
              "    </tr>\n",
              "  </tbody>\n",
              "</table>\n",
              "<p>6000 rows × 2 columns</p>\n",
              "</div>\n",
              "    <div class=\"colab-df-buttons\">\n",
              "\n",
              "  <div class=\"colab-df-container\">\n",
              "    <button class=\"colab-df-convert\" onclick=\"convertToInteractive('df-3b4e6bd1-2907-4efb-891a-af5fd2516101')\"\n",
              "            title=\"Convert this dataframe to an interactive table.\"\n",
              "            style=\"display:none;\">\n",
              "\n",
              "  <svg xmlns=\"http://www.w3.org/2000/svg\" height=\"24px\" viewBox=\"0 -960 960 960\">\n",
              "    <path d=\"M120-120v-720h720v720H120Zm60-500h600v-160H180v160Zm220 220h160v-160H400v160Zm0 220h160v-160H400v160ZM180-400h160v-160H180v160Zm440 0h160v-160H620v160ZM180-180h160v-160H180v160Zm440 0h160v-160H620v160Z\"/>\n",
              "  </svg>\n",
              "    </button>\n",
              "\n",
              "  <style>\n",
              "    .colab-df-container {\n",
              "      display:flex;\n",
              "      gap: 12px;\n",
              "    }\n",
              "\n",
              "    .colab-df-convert {\n",
              "      background-color: #E8F0FE;\n",
              "      border: none;\n",
              "      border-radius: 50%;\n",
              "      cursor: pointer;\n",
              "      display: none;\n",
              "      fill: #1967D2;\n",
              "      height: 32px;\n",
              "      padding: 0 0 0 0;\n",
              "      width: 32px;\n",
              "    }\n",
              "\n",
              "    .colab-df-convert:hover {\n",
              "      background-color: #E2EBFA;\n",
              "      box-shadow: 0px 1px 2px rgba(60, 64, 67, 0.3), 0px 1px 3px 1px rgba(60, 64, 67, 0.15);\n",
              "      fill: #174EA6;\n",
              "    }\n",
              "\n",
              "    .colab-df-buttons div {\n",
              "      margin-bottom: 4px;\n",
              "    }\n",
              "\n",
              "    [theme=dark] .colab-df-convert {\n",
              "      background-color: #3B4455;\n",
              "      fill: #D2E3FC;\n",
              "    }\n",
              "\n",
              "    [theme=dark] .colab-df-convert:hover {\n",
              "      background-color: #434B5C;\n",
              "      box-shadow: 0px 1px 3px 1px rgba(0, 0, 0, 0.15);\n",
              "      filter: drop-shadow(0px 1px 2px rgba(0, 0, 0, 0.3));\n",
              "      fill: #FFFFFF;\n",
              "    }\n",
              "  </style>\n",
              "\n",
              "    <script>\n",
              "      const buttonEl =\n",
              "        document.querySelector('#df-3b4e6bd1-2907-4efb-891a-af5fd2516101 button.colab-df-convert');\n",
              "      buttonEl.style.display =\n",
              "        google.colab.kernel.accessAllowed ? 'block' : 'none';\n",
              "\n",
              "      async function convertToInteractive(key) {\n",
              "        const element = document.querySelector('#df-3b4e6bd1-2907-4efb-891a-af5fd2516101');\n",
              "        const dataTable =\n",
              "          await google.colab.kernel.invokeFunction('convertToInteractive',\n",
              "                                                    [key], {});\n",
              "        if (!dataTable) return;\n",
              "\n",
              "        const docLinkHtml = 'Like what you see? Visit the ' +\n",
              "          '<a target=\"_blank\" href=https://colab.research.google.com/notebooks/data_table.ipynb>data table notebook</a>'\n",
              "          + ' to learn more about interactive tables.';\n",
              "        element.innerHTML = '';\n",
              "        dataTable['output_type'] = 'display_data';\n",
              "        await google.colab.output.renderOutput(dataTable, element);\n",
              "        const docLink = document.createElement('div');\n",
              "        docLink.innerHTML = docLinkHtml;\n",
              "        element.appendChild(docLink);\n",
              "      }\n",
              "    </script>\n",
              "  </div>\n",
              "\n",
              "\n",
              "<div id=\"df-ac7093fb-e6f6-4bfa-8813-481fb838341d\">\n",
              "  <button class=\"colab-df-quickchart\" onclick=\"quickchart('df-ac7093fb-e6f6-4bfa-8813-481fb838341d')\"\n",
              "            title=\"Suggest charts\"\n",
              "            style=\"display:none;\">\n",
              "\n",
              "<svg xmlns=\"http://www.w3.org/2000/svg\" height=\"24px\"viewBox=\"0 0 24 24\"\n",
              "     width=\"24px\">\n",
              "    <g>\n",
              "        <path d=\"M19 3H5c-1.1 0-2 .9-2 2v14c0 1.1.9 2 2 2h14c1.1 0 2-.9 2-2V5c0-1.1-.9-2-2-2zM9 17H7v-7h2v7zm4 0h-2V7h2v10zm4 0h-2v-4h2v4z\"/>\n",
              "    </g>\n",
              "</svg>\n",
              "  </button>\n",
              "\n",
              "<style>\n",
              "  .colab-df-quickchart {\n",
              "      --bg-color: #E8F0FE;\n",
              "      --fill-color: #1967D2;\n",
              "      --hover-bg-color: #E2EBFA;\n",
              "      --hover-fill-color: #174EA6;\n",
              "      --disabled-fill-color: #AAA;\n",
              "      --disabled-bg-color: #DDD;\n",
              "  }\n",
              "\n",
              "  [theme=dark] .colab-df-quickchart {\n",
              "      --bg-color: #3B4455;\n",
              "      --fill-color: #D2E3FC;\n",
              "      --hover-bg-color: #434B5C;\n",
              "      --hover-fill-color: #FFFFFF;\n",
              "      --disabled-bg-color: #3B4455;\n",
              "      --disabled-fill-color: #666;\n",
              "  }\n",
              "\n",
              "  .colab-df-quickchart {\n",
              "    background-color: var(--bg-color);\n",
              "    border: none;\n",
              "    border-radius: 50%;\n",
              "    cursor: pointer;\n",
              "    display: none;\n",
              "    fill: var(--fill-color);\n",
              "    height: 32px;\n",
              "    padding: 0;\n",
              "    width: 32px;\n",
              "  }\n",
              "\n",
              "  .colab-df-quickchart:hover {\n",
              "    background-color: var(--hover-bg-color);\n",
              "    box-shadow: 0 1px 2px rgba(60, 64, 67, 0.3), 0 1px 3px 1px rgba(60, 64, 67, 0.15);\n",
              "    fill: var(--button-hover-fill-color);\n",
              "  }\n",
              "\n",
              "  .colab-df-quickchart-complete:disabled,\n",
              "  .colab-df-quickchart-complete:disabled:hover {\n",
              "    background-color: var(--disabled-bg-color);\n",
              "    fill: var(--disabled-fill-color);\n",
              "    box-shadow: none;\n",
              "  }\n",
              "\n",
              "  .colab-df-spinner {\n",
              "    border: 2px solid var(--fill-color);\n",
              "    border-color: transparent;\n",
              "    border-bottom-color: var(--fill-color);\n",
              "    animation:\n",
              "      spin 1s steps(1) infinite;\n",
              "  }\n",
              "\n",
              "  @keyframes spin {\n",
              "    0% {\n",
              "      border-color: transparent;\n",
              "      border-bottom-color: var(--fill-color);\n",
              "      border-left-color: var(--fill-color);\n",
              "    }\n",
              "    20% {\n",
              "      border-color: transparent;\n",
              "      border-left-color: var(--fill-color);\n",
              "      border-top-color: var(--fill-color);\n",
              "    }\n",
              "    30% {\n",
              "      border-color: transparent;\n",
              "      border-left-color: var(--fill-color);\n",
              "      border-top-color: var(--fill-color);\n",
              "      border-right-color: var(--fill-color);\n",
              "    }\n",
              "    40% {\n",
              "      border-color: transparent;\n",
              "      border-right-color: var(--fill-color);\n",
              "      border-top-color: var(--fill-color);\n",
              "    }\n",
              "    60% {\n",
              "      border-color: transparent;\n",
              "      border-right-color: var(--fill-color);\n",
              "    }\n",
              "    80% {\n",
              "      border-color: transparent;\n",
              "      border-right-color: var(--fill-color);\n",
              "      border-bottom-color: var(--fill-color);\n",
              "    }\n",
              "    90% {\n",
              "      border-color: transparent;\n",
              "      border-bottom-color: var(--fill-color);\n",
              "    }\n",
              "  }\n",
              "</style>\n",
              "\n",
              "  <script>\n",
              "    async function quickchart(key) {\n",
              "      const quickchartButtonEl =\n",
              "        document.querySelector('#' + key + ' button');\n",
              "      quickchartButtonEl.disabled = true;  // To prevent multiple clicks.\n",
              "      quickchartButtonEl.classList.add('colab-df-spinner');\n",
              "      try {\n",
              "        const charts = await google.colab.kernel.invokeFunction(\n",
              "            'suggestCharts', [key], {});\n",
              "      } catch (error) {\n",
              "        console.error('Error during call to suggestCharts:', error);\n",
              "      }\n",
              "      quickchartButtonEl.classList.remove('colab-df-spinner');\n",
              "      quickchartButtonEl.classList.add('colab-df-quickchart-complete');\n",
              "    }\n",
              "    (() => {\n",
              "      let quickchartButtonEl =\n",
              "        document.querySelector('#df-ac7093fb-e6f6-4bfa-8813-481fb838341d button');\n",
              "      quickchartButtonEl.style.display =\n",
              "        google.colab.kernel.accessAllowed ? 'block' : 'none';\n",
              "    })();\n",
              "  </script>\n",
              "</div>\n",
              "    </div>\n",
              "  </div>\n"
            ],
            "application/vnd.google.colaboratory.intrinsic+json": {
              "type": "dataframe",
              "variable_name": "review_df",
              "summary": "{\n  \"name\": \"review_df\",\n  \"rows\": 6000,\n  \"fields\": [\n    {\n      \"column\": \"review\",\n      \"properties\": {\n        \"dtype\": \"string\",\n        \"num_unique_values\": 5997,\n        \"samples\": [\n          \"If you keep rigid historical perspective out of it, this film is actually quite entertaining. It's got action, adventure and romance, and one of the premiere casting match-ups of the era with Errol Flynn and Olivia de Havilland in the lead roles. As evident on this board, the picture doesn't pass muster with purists who look for one hundred percent accuracy in their story telling. To get beyond that, one need only put aside the history book, and enjoy the story as if it were a work of fiction. I know, I know, that's hard to do when you consider Custer's Last Stand at the Little Big Horn and it's prominence in the history of post Civil War America. So I guess there's an unresolved quandary with the picture, no matter how you look at it.<br /><br />There's a lot to take in here though for the picture's two hour plus run time. Custer's arrival at West Point is probably the first head scratcher, riding up as he does in full military regalia. The practical joke by Sharp (Arthur Kennedy) putting him up in the Major's headquarters probably should have gotten them both in trouble.<br /><br />Ironically, a lot of scenes in this military film play for comedy, as in Custer's first meeting with Libby Bacon, and subsequent encounters that include tea reader Callie (Hattie McDaniel). I hadn't noticed it before in other films, but McDaniel reminded me an awful lot of another favorite character actor of mine from the Forties, Mantan Moreland. So much so that in one scene it looked like it might have been Moreland hamming it up in a dress. With that in mind, the owl scene was a hoot too.<br /><br />As for Flynn, it's interesting to note that a year earlier, he portrayed J.E.B. Stuart opposite Ronald Reagan's depiction of General Custer in \\\"Santa Fe Trail\\\", both vying for the attention of none other than Olivia de Havilland. In that film, Reagan put none of the arrogance and flamboyance into the character of Custer that history remembers, while in Flynn's portrayal here it's more than evident. But it doesn't come close to that of Richard Mulligan's take on the military hero in 1970's \\\"Little Big Man\\\". Let's just say that one was a bit over the top.<br /><br />The better take away the picture had for me was the manner in which Custer persevered to maintain his good name and not gamble it away on a risky business venture. That and his loyalty to the men he led in battle along with the discipline he developed over the course of the story. Most poignant was that final confrontation with arch rival Sharp just before riding into the Little Big Horn, in which he declared that hell or glory was entirely dependent on one's point of view. Earlier, a similar remark might have given us the best insight of all into Custer's character, when he stated - \\\"You take glory with you when it's your time to go\\\".\",\n          \"Americans have the attention span of a fruit fly and if something does not happen within the span of a typical commercial, we tend to lose interest really fast.<br /><br />I found out an exciting fact from this film: someone has to paint high tension utility poles and do it on a schedule! And guess what, they really would like to be doing something else (the viewer has similar feelings).<br /><br />Surprisingly, when I was bored watching late night infomercials and decided to actually watch this film, I found the characters to be interesting and highly engaging.<br /><br />I just don't usually watch that much late night TV, so I can't recommend this film, unless watching paint dry is your idea of an exciting two hours out of your life.\",\n          \"<br /><br />I saw The Glacier Fox in the theatre when I was nine years old - I bugged my parents to take me back three times. I began looking for it on video about five years ago, finally uncovering a copy on an online auction site, but I would love to see it either picked up by a new distributor and rereleased (I understand the original video run was small), or have the rights purchased by The Family Channel, Disney, etc. and shown regularly. It is a fascinating film that draws you into the story of the life struggle of a family of foxes in northern Japan, narrated by a wise old tree. The excellent soundtrack compliments the film well. It would be a good seller today, better than many of the weak offerings to children's movies today.\"\n        ],\n        \"semantic_type\": \"\",\n        \"description\": \"\"\n      }\n    },\n    {\n      \"column\": \"sentiment\",\n      \"properties\": {\n        \"dtype\": \"category\",\n        \"num_unique_values\": 2,\n        \"samples\": [\n          \"negative\",\n          \"positive\"\n        ],\n        \"semantic_type\": \"\",\n        \"description\": \"\"\n      }\n    }\n  ]\n}"
            }
          },
          "metadata": {},
          "execution_count": 40
        }
      ]
    },
    {
      "cell_type": "code",
      "source": [
        "# 토큰화\n",
        "tokenizer = BertTokenizer.from_pretrained('bert-base-uncased')\n",
        "train_encodings = tokenizer(train_texts, truncation=True, padding=True, return_tensors='pt')\n",
        "test_encodings = tokenizer(test_texts, truncation=True, padding=True, return_tensors='pt')\n",
        "\n",
        "# 모델 준비\n",
        "model = BertForSequenceClassification.from_pretrained('bert-base-uncased', num_labels=2)"
      ],
      "metadata": {
        "colab": {
          "base_uri": "https://localhost:8080/"
        },
        "id": "YQSkxNNDJcDG",
        "outputId": "2cdacbcf-aafa-431b-b0eb-ed1b20e85867"
      },
      "execution_count": 42,
      "outputs": [
        {
          "output_type": "stream",
          "name": "stderr",
          "text": [
            "Some weights of BertForSequenceClassification were not initialized from the model checkpoint at bert-base-uncased and are newly initialized: ['classifier.bias', 'classifier.weight']\n",
            "You should probably TRAIN this model on a down-stream task to be able to use it for predictions and inference.\n"
          ]
        }
      ]
    },
    {
      "cell_type": "code",
      "source": [
        "train_encodings ## 이렇게 총 세개의 리턴값을 지님 / input ids는 토큰의 인코딩 / token_type ids 는 nsp를 위해 존재하지만, fine tuning이므로 모두 0 / padding부분에 대해서는 no attention"
      ],
      "metadata": {
        "colab": {
          "base_uri": "https://localhost:8080/"
        },
        "id": "cZLop060K4DI",
        "outputId": "3289b169-0453-4ffd-b8f5-ce75f1c60a58"
      },
      "execution_count": 29,
      "outputs": [
        {
          "output_type": "execute_result",
          "data": {
            "text/plain": [
              "{'input_ids': tensor([[  101,  2559,  2005,  ...,     0,     0,     0],\n",
              "        [  101,  2023,  2003,  ...,     0,     0,     0],\n",
              "        [  101, 18431,  4831,  ...,     0,     0,     0],\n",
              "        ...,\n",
              "        [  101,  4406,  1996,  ...,     0,     0,     0],\n",
              "        [  101,  2096,  2009,  ...,     0,     0,     0],\n",
              "        [  101,  4567,  2011,  ...,  6429,   999,   102]]), 'token_type_ids': tensor([[0, 0, 0,  ..., 0, 0, 0],\n",
              "        [0, 0, 0,  ..., 0, 0, 0],\n",
              "        [0, 0, 0,  ..., 0, 0, 0],\n",
              "        ...,\n",
              "        [0, 0, 0,  ..., 0, 0, 0],\n",
              "        [0, 0, 0,  ..., 0, 0, 0],\n",
              "        [0, 0, 0,  ..., 0, 0, 0]]), 'attention_mask': tensor([[1, 1, 1,  ..., 0, 0, 0],\n",
              "        [1, 1, 1,  ..., 0, 0, 0],\n",
              "        [1, 1, 1,  ..., 0, 0, 0],\n",
              "        ...,\n",
              "        [1, 1, 1,  ..., 0, 0, 0],\n",
              "        [1, 1, 1,  ..., 0, 0, 0],\n",
              "        [1, 1, 1,  ..., 1, 1, 1]])}"
            ]
          },
          "metadata": {},
          "execution_count": 29
        }
      ]
    },
    {
      "cell_type": "markdown",
      "source": [],
      "metadata": {
        "id": "jhqPemKIK4XX"
      }
    },
    {
      "cell_type": "code",
      "source": [
        "train_encodings['input_ids'][1]"
      ],
      "metadata": {
        "colab": {
          "base_uri": "https://localhost:8080/"
        },
        "id": "2Q7_hr7gJrxh",
        "outputId": "05a93714-a4a3-4fb4-ca37-473bce53d638"
      },
      "execution_count": 30,
      "outputs": [
        {
          "output_type": "execute_result",
          "data": {
            "text/plain": [
              "tensor([  101,  2023,  2003,  2178, 22249,  1998, 14036, 19625,  2143,  1012,\n",
              "         2508,  5954,  1998, 15467,  2154,  2024,  9788,  1999,  2023,  3185,\n",
              "         1012,  6795, 23506,  5804,  3544,  2004,  2370,  2379,  1996, 14463,\n",
              "         1012,  1026,  7987,  1013,  1028,  1026,  7987,  1013,  1028,  1996,\n",
              "        17363,  1998,  5269,  2024,  2307,  1010,  3272,  1996,  2028,  3496,\n",
              "         2220,  2006,  2073,  1996,  4281,  2001,  5525,  8275,  1010,  2029,\n",
              "         2987,  1005,  1056,  2191,  3168,  2000,  2033,  2144,  5019,  2077,\n",
              "         1998,  2044,  2020,  1999,  1996,  2168,  4292,  1998,  2027,  2020,\n",
              "         2613,  3295,  7171,  1012,  1045,  1005,  2310,  2657,  2008, 19625,\n",
              "         2106,  2023,  2006,  3800,  2823,  1012,  1026,  7987,  1013,  1028,\n",
              "         1026,  7987,  1013,  1028,  1996,  4391,  2005,  2023,  3185,  4025,\n",
              "         2000,  2022,  3816,  1012,  1045,  2228,  2023,  2003,  1037,  2488,\n",
              "         2084,  2779, 19625,  3185,  1012,  2200, 14036,  1998,  2009,  2038,\n",
              "         1037,  2307,  2422, 29257,  3496,  2012,  1996,  2203,  1012,  1026,\n",
              "         7987,  1013,  1028,  1026,  7987,  1013,  1028,  1045,  6758,  2023,\n",
              "         3185,  1022,  2041,  1997,  2184,  1012,  1026,  7987,  1013,  1028,\n",
              "         1026,  7987,  1013,  1028,   102,     0,     0,     0,     0,     0,\n",
              "            0,     0,     0,     0,     0,     0,     0,     0,     0,     0,\n",
              "            0,     0,     0,     0,     0,     0,     0,     0,     0,     0,\n",
              "            0,     0,     0,     0,     0,     0,     0,     0,     0,     0,\n",
              "            0,     0,     0,     0,     0,     0,     0,     0,     0,     0,\n",
              "            0,     0,     0,     0,     0,     0,     0,     0,     0,     0,\n",
              "            0,     0,     0,     0,     0,     0,     0,     0,     0,     0,\n",
              "            0,     0,     0,     0,     0,     0,     0,     0,     0,     0,\n",
              "            0,     0,     0,     0,     0,     0,     0,     0,     0,     0,\n",
              "            0,     0,     0,     0,     0,     0,     0,     0,     0,     0,\n",
              "            0,     0,     0,     0,     0,     0,     0,     0,     0,     0,\n",
              "            0,     0,     0,     0,     0,     0,     0,     0,     0,     0,\n",
              "            0,     0,     0,     0,     0,     0,     0,     0,     0,     0,\n",
              "            0,     0,     0,     0,     0,     0,     0,     0,     0,     0,\n",
              "            0,     0,     0,     0,     0,     0,     0,     0,     0,     0,\n",
              "            0,     0,     0,     0,     0,     0,     0,     0,     0,     0,\n",
              "            0,     0,     0,     0,     0,     0,     0,     0,     0,     0,\n",
              "            0,     0,     0,     0,     0,     0,     0,     0,     0,     0,\n",
              "            0,     0,     0,     0,     0,     0,     0,     0,     0,     0,\n",
              "            0,     0,     0,     0,     0,     0,     0,     0,     0,     0,\n",
              "            0,     0,     0,     0,     0,     0,     0,     0,     0,     0,\n",
              "            0,     0,     0,     0,     0,     0,     0,     0,     0,     0,\n",
              "            0,     0,     0,     0,     0,     0,     0,     0,     0,     0,\n",
              "            0,     0,     0,     0,     0,     0,     0,     0,     0,     0,\n",
              "            0,     0,     0,     0,     0,     0,     0,     0,     0,     0,\n",
              "            0,     0,     0,     0,     0,     0,     0,     0,     0,     0,\n",
              "            0,     0,     0,     0,     0,     0,     0,     0,     0,     0,\n",
              "            0,     0,     0,     0,     0,     0,     0,     0,     0,     0,\n",
              "            0,     0,     0,     0,     0,     0,     0,     0,     0,     0,\n",
              "            0,     0,     0,     0,     0,     0,     0,     0,     0,     0,\n",
              "            0,     0,     0,     0,     0,     0,     0,     0,     0,     0,\n",
              "            0,     0,     0,     0,     0,     0,     0,     0,     0,     0,\n",
              "            0,     0,     0,     0,     0,     0,     0,     0,     0,     0,\n",
              "            0,     0,     0,     0,     0,     0,     0,     0,     0,     0,\n",
              "            0,     0,     0,     0,     0,     0,     0,     0,     0,     0,\n",
              "            0,     0])"
            ]
          },
          "metadata": {},
          "execution_count": 30
        }
      ]
    },
    {
      "cell_type": "code",
      "source": [
        "model"
      ],
      "metadata": {
        "colab": {
          "base_uri": "https://localhost:8080/"
        },
        "id": "IHfqQaLEKjtv",
        "outputId": "a019a1b7-9e53-48f3-a6bb-56d12d1b8f86"
      },
      "execution_count": 11,
      "outputs": [
        {
          "output_type": "execute_result",
          "data": {
            "text/plain": [
              "BertForSequenceClassification(\n",
              "  (bert): BertModel(\n",
              "    (embeddings): BertEmbeddings(\n",
              "      (word_embeddings): Embedding(30522, 768, padding_idx=0)\n",
              "      (position_embeddings): Embedding(512, 768)\n",
              "      (token_type_embeddings): Embedding(2, 768)\n",
              "      (LayerNorm): LayerNorm((768,), eps=1e-12, elementwise_affine=True)\n",
              "      (dropout): Dropout(p=0.1, inplace=False)\n",
              "    )\n",
              "    (encoder): BertEncoder(\n",
              "      (layer): ModuleList(\n",
              "        (0-11): 12 x BertLayer(\n",
              "          (attention): BertAttention(\n",
              "            (self): BertSelfAttention(\n",
              "              (query): Linear(in_features=768, out_features=768, bias=True)\n",
              "              (key): Linear(in_features=768, out_features=768, bias=True)\n",
              "              (value): Linear(in_features=768, out_features=768, bias=True)\n",
              "              (dropout): Dropout(p=0.1, inplace=False)\n",
              "            )\n",
              "            (output): BertSelfOutput(\n",
              "              (dense): Linear(in_features=768, out_features=768, bias=True)\n",
              "              (LayerNorm): LayerNorm((768,), eps=1e-12, elementwise_affine=True)\n",
              "              (dropout): Dropout(p=0.1, inplace=False)\n",
              "            )\n",
              "          )\n",
              "          (intermediate): BertIntermediate(\n",
              "            (dense): Linear(in_features=768, out_features=3072, bias=True)\n",
              "            (intermediate_act_fn): GELUActivation()\n",
              "          )\n",
              "          (output): BertOutput(\n",
              "            (dense): Linear(in_features=3072, out_features=768, bias=True)\n",
              "            (LayerNorm): LayerNorm((768,), eps=1e-12, elementwise_affine=True)\n",
              "            (dropout): Dropout(p=0.1, inplace=False)\n",
              "          )\n",
              "        )\n",
              "      )\n",
              "    )\n",
              "    (pooler): BertPooler(\n",
              "      (dense): Linear(in_features=768, out_features=768, bias=True)\n",
              "      (activation): Tanh()\n",
              "    )\n",
              "  )\n",
              "  (dropout): Dropout(p=0.1, inplace=False)\n",
              "  (classifier): Linear(in_features=768, out_features=2, bias=True)\n",
              ")"
            ]
          },
          "metadata": {},
          "execution_count": 11
        }
      ]
    },
    {
      "cell_type": "code",
      "source": [
        "# 훈련 설정\n",
        "optimizer = AdamW(model.parameters(), lr=5e-5)\n",
        "\n",
        "# 데이터셋 생성\n",
        "train_dataset = TensorDataset(train_encodings['input_ids'], train_encodings['attention_mask'], torch.tensor(train_labels))\n",
        "test_dataset = TensorDataset(test_encodings['input_ids'], test_encodings['attention_mask'], torch.tensor(test_labels))\n",
        "\n",
        "# 데이터로더 생성\n",
        "train_loader = DataLoader(train_dataset, batch_size=8, shuffle=True)\n",
        "test_loader = DataLoader(test_dataset, batch_size=8, shuffle=True)\n",
        "\n",
        "epoch_num = 1\n",
        "model.train()\n",
        "for epoch in range(epoch_num):\n",
        "    for batch in tqdm(train_loader):\n",
        "        optimizer.zero_grad()\n",
        "        input_ids, attention_mask, labels = batch\n",
        "        outputs = model(input_ids, attention_mask=attention_mask, labels=labels)\n",
        "        print(outputs.logits)\n",
        "        print(labels)\n",
        "        print(torch.argmax(outputs.logits, dim=1))\n",
        "        loss = outputs.loss\n",
        "        loss.backward()\n",
        "        optimizer.step()\n",
        "\n",
        "# 평가\n",
        "model.eval()\n",
        "correct = 0\n",
        "total = 0\n",
        "with torch.no_grad():\n",
        "    for batch in test_loader:\n",
        "        input_ids, attention_mask, labels = batch\n",
        "        outputs = model(input_ids, attention_mask=attention_mask)\n",
        "        logits = outputs.logits\n",
        "        predicted_labels = torch.argmax(logits, dim=1)\n",
        "        total += labels.size(0)\n",
        "        correct += (predicted_labels == labels).sum().item()\n",
        "\n",
        "\n",
        "accuracy = correct / total\n",
        "print(f'테스트 정확도: {accuracy}')\n"
      ],
      "metadata": {
        "colab": {
          "base_uri": "https://localhost:8080/"
        },
        "id": "szEaUl7WKMY2",
        "outputId": "f90eb3f2-3072-427d-92bb-611a5f6a797a"
      },
      "execution_count": 43,
      "outputs": [
        {
          "metadata": {
            "tags": null
          },
          "name": "stderr",
          "output_type": "stream",
          "text": [
            "/usr/local/lib/python3.10/dist-packages/transformers/optimization.py:521: FutureWarning: This implementation of AdamW is deprecated and will be removed in a future version. Use the PyTorch implementation torch.optim.AdamW instead, or set `no_deprecation_warning=True` to disable this warning\n",
            "  warnings.warn(\n",
            "  0%|          | 0/525 [00:00<?, ?it/s]"
          ]
        },
        {
          "metadata": {
            "tags": null
          },
          "name": "stdout",
          "output_type": "stream",
          "text": [
            "tensor([[-0.4843,  0.2016],\n",
            "        [-0.5413,  0.3139],\n",
            "        [-0.6480, -0.0895],\n",
            "        [-0.2257,  0.0779],\n",
            "        [-0.6491, -0.0397],\n",
            "        [-0.3469,  0.1913],\n",
            "        [-0.4686,  0.2648],\n",
            "        [-0.3464,  0.0487]], grad_fn=<AddmmBackward0>)\n",
            "tensor([0, 1, 0, 1, 1, 0, 0, 1])\n",
            "tensor([1, 1, 1, 1, 1, 1, 1, 1])\n"
          ]
        },
        {
          "metadata": {
            "tags": null
          },
          "name": "stderr",
          "output_type": "stream",
          "text": [
            "\r  0%|          | 1/525 [00:03<28:53,  3.31s/it]"
          ]
        },
        {
          "metadata": {
            "tags": null
          },
          "name": "stdout",
          "output_type": "stream",
          "text": [
            "tensor([[-0.2142, -0.4169],\n",
            "        [ 0.0522, -0.2562],\n",
            "        [-0.0349,  0.1783],\n",
            "        [-0.1767,  0.2542],\n",
            "        [-0.1380,  0.0191],\n",
            "        [-0.1431,  0.0806],\n",
            "        [-0.2001,  0.1364],\n",
            "        [ 0.0175,  0.0953]], grad_fn=<AddmmBackward0>)\n",
            "tensor([1, 0, 1, 1, 0, 1, 1, 1])\n",
            "tensor([0, 0, 1, 1, 1, 1, 1, 1])\n"
          ]
        },
        {
          "metadata": {
            "tags": null
          },
          "name": "stderr",
          "output_type": "stream",
          "text": [
            "\r  0%|          | 2/525 [00:06<28:40,  3.29s/it]"
          ]
        },
        {
          "metadata": {
            "tags": null
          },
          "name": "stdout",
          "output_type": "stream",
          "text": [
            "tensor([[-0.1013,  0.1536],\n",
            "        [-0.0056,  0.0716],\n",
            "        [-0.2535,  0.1785],\n",
            "        [-0.3263,  0.1172],\n",
            "        [-0.5017,  0.0648],\n",
            "        [-0.0906,  0.1973],\n",
            "        [-0.1166,  0.0883],\n",
            "        [-0.1031, -0.0308]], grad_fn=<AddmmBackward0>)\n",
            "tensor([0, 0, 0, 1, 0, 1, 0, 0])\n",
            "tensor([1, 1, 1, 1, 1, 1, 1, 1])\n"
          ]
        },
        {
          "metadata": {
            "tags": null
          },
          "name": "stderr",
          "output_type": "stream",
          "text": [
            "\r  1%|          | 3/525 [00:09<28:34,  3.29s/it]"
          ]
        },
        {
          "metadata": {
            "tags": null
          },
          "name": "stdout",
          "output_type": "stream",
          "text": [
            "tensor([[-0.0261, -0.1308],\n",
            "        [-0.1059, -0.1492],\n",
            "        [-0.1011, -0.0336],\n",
            "        [-0.2407, -0.1903],\n",
            "        [ 0.2235,  0.0870],\n",
            "        [ 0.1768, -0.2056],\n",
            "        [-0.3430, -0.2002],\n",
            "        [ 0.2497, -0.2125]], grad_fn=<AddmmBackward0>)\n",
            "tensor([0, 0, 1, 0, 0, 0, 1, 0])\n",
            "tensor([0, 0, 1, 1, 0, 0, 1, 0])\n"
          ]
        },
        {
          "metadata": {
            "tags": null
          },
          "name": "stderr",
          "output_type": "stream",
          "text": [
            "\r  1%|          | 4/525 [00:13<29:19,  3.38s/it]"
          ]
        },
        {
          "metadata": {
            "tags": null
          },
          "name": "stdout",
          "output_type": "stream",
          "text": [
            "tensor([[ 0.4254, -0.2312],\n",
            "        [ 0.5319, -0.2000],\n",
            "        [ 0.4551,  0.0891],\n",
            "        [ 0.2886, -0.0740],\n",
            "        [ 0.3399, -0.2221],\n",
            "        [ 0.3978, -0.0644],\n",
            "        [ 0.3998, -0.2803],\n",
            "        [ 0.4126, -0.1873]], grad_fn=<AddmmBackward0>)\n",
            "tensor([1, 0, 0, 1, 1, 0, 0, 0])\n",
            "tensor([0, 0, 0, 0, 0, 0, 0, 0])\n"
          ]
        },
        {
          "metadata": {
            "tags": null
          },
          "name": "stderr",
          "output_type": "stream",
          "text": [
            "\r  1%|          | 5/525 [00:16<28:39,  3.31s/it]"
          ]
        },
        {
          "metadata": {
            "tags": null
          },
          "name": "stdout",
          "output_type": "stream",
          "text": [
            "tensor([[ 0.4808, -0.1838],\n",
            "        [ 0.5343, -0.4361],\n",
            "        [ 0.4408, -0.2818],\n",
            "        [ 0.7024, -0.4738],\n",
            "        [ 0.5602, -0.0062],\n",
            "        [ 0.6688, -0.3896],\n",
            "        [ 0.4244, -0.0746],\n",
            "        [ 0.3016,  0.1050]], grad_fn=<AddmmBackward0>)\n",
            "tensor([1, 1, 1, 0, 0, 0, 0, 1])\n",
            "tensor([0, 0, 0, 0, 0, 0, 0, 0])\n"
          ]
        },
        {
          "metadata": {
            "tags": null
          },
          "name": "stderr",
          "output_type": "stream",
          "text": [
            "\r  1%|          | 6/525 [00:19<27:45,  3.21s/it]"
          ]
        },
        {
          "metadata": {
            "tags": null
          },
          "name": "stdout",
          "output_type": "stream",
          "text": [
            "tensor([[ 0.8107, -0.3245],\n",
            "        [ 0.3684, -0.1746],\n",
            "        [ 0.7636, -0.4260],\n",
            "        [ 0.2108, -0.1833],\n",
            "        [ 0.5584, -0.2080],\n",
            "        [ 0.5574, -0.1399],\n",
            "        [ 0.4575, -0.1934],\n",
            "        [ 0.3087, -0.1754]], grad_fn=<AddmmBackward0>)\n",
            "tensor([0, 1, 0, 1, 1, 0, 0, 1])\n",
            "tensor([0, 0, 0, 0, 0, 0, 0, 0])\n"
          ]
        },
        {
          "metadata": {
            "tags": null
          },
          "name": "stderr",
          "output_type": "stream",
          "text": [
            "\r  1%|▏         | 7/525 [00:22<26:48,  3.11s/it]"
          ]
        },
        {
          "metadata": {
            "tags": null
          },
          "name": "stdout",
          "output_type": "stream",
          "text": [
            "tensor([[ 3.6203e-01,  2.2758e-02],\n",
            "        [ 1.1969e-01,  5.5227e-02],\n",
            "        [-2.8940e-04,  3.7794e-02],\n",
            "        [ 5.2042e-01, -1.1558e-01],\n",
            "        [ 5.7010e-01, -2.4814e-01],\n",
            "        [ 4.1811e-01, -9.8260e-03],\n",
            "        [ 3.1725e-01,  8.2123e-02],\n",
            "        [ 3.9765e-01, -6.5109e-02]], grad_fn=<AddmmBackward0>)\n",
            "tensor([1, 1, 1, 1, 0, 1, 0, 0])\n",
            "tensor([0, 0, 1, 0, 0, 0, 0, 0])\n"
          ]
        },
        {
          "metadata": {
            "tags": null
          },
          "name": "stderr",
          "output_type": "stream",
          "text": [
            "\r  2%|▏         | 8/525 [00:25<26:52,  3.12s/it]"
          ]
        },
        {
          "metadata": {
            "tags": null
          },
          "name": "stdout",
          "output_type": "stream",
          "text": [
            "tensor([[-0.4112,  0.0384],\n",
            "        [-0.0597,  0.0615],\n",
            "        [-0.2252,  0.1795],\n",
            "        [ 0.1831,  0.1076],\n",
            "        [ 0.2201, -0.0676],\n",
            "        [-0.4488, -0.1690],\n",
            "        [-0.0811,  0.0576],\n",
            "        [-0.0378, -0.2562]], grad_fn=<AddmmBackward0>)\n",
            "tensor([1, 1, 0, 0, 0, 1, 1, 0])\n",
            "tensor([1, 1, 1, 0, 0, 1, 1, 0])\n"
          ]
        },
        {
          "metadata": {
            "tags": null
          },
          "name": "stderr",
          "output_type": "stream",
          "text": [
            "\r  2%|▏         | 9/525 [00:29<28:09,  3.27s/it]"
          ]
        },
        {
          "metadata": {
            "tags": null
          },
          "name": "stdout",
          "output_type": "stream",
          "text": [
            "tensor([[-0.2979,  0.0420],\n",
            "        [-0.4258, -0.1635],\n",
            "        [-0.3873, -0.0850],\n",
            "        [-0.7226,  0.0088],\n",
            "        [-0.8450, -0.3957],\n",
            "        [-0.1290, -0.0595],\n",
            "        [-0.2460,  0.0659],\n",
            "        [-0.1272,  0.0844]], grad_fn=<AddmmBackward0>)\n",
            "tensor([0, 1, 0, 1, 1, 0, 0, 0])\n",
            "tensor([1, 1, 1, 1, 1, 1, 1, 1])\n"
          ]
        },
        {
          "metadata": {
            "tags": null
          },
          "name": "stderr",
          "output_type": "stream",
          "text": [
            "\r  2%|▏         | 10/525 [00:32<27:51,  3.24s/it]"
          ]
        },
        {
          "metadata": {
            "tags": null
          },
          "name": "stdout",
          "output_type": "stream",
          "text": [
            "tensor([[-0.3224, -0.0035],\n",
            "        [-0.2291, -0.2566],\n",
            "        [-0.3438, -0.0526],\n",
            "        [-0.3384, -0.1926],\n",
            "        [-0.5528, -0.0339],\n",
            "        [-0.6821, -0.1905],\n",
            "        [-0.6962,  0.1475],\n",
            "        [-0.1696, -0.0866]], grad_fn=<AddmmBackward0>)\n",
            "tensor([0, 1, 0, 1, 0, 0, 1, 0])\n",
            "tensor([1, 0, 1, 1, 1, 1, 1, 1])\n"
          ]
        },
        {
          "metadata": {
            "tags": null
          },
          "name": "stderr",
          "output_type": "stream",
          "text": [
            "\r  2%|▏         | 11/525 [00:35<27:38,  3.23s/it]"
          ]
        },
        {
          "metadata": {
            "tags": null
          },
          "name": "stdout",
          "output_type": "stream",
          "text": [
            "tensor([[-8.9620e-01, -2.5201e-01],\n",
            "        [-5.9261e-01, -3.9780e-01],\n",
            "        [-4.7775e-01,  3.1044e-02],\n",
            "        [-5.2282e-01, -5.2782e-02],\n",
            "        [ 6.7353e-02,  7.4065e-02],\n",
            "        [-3.6279e-01,  1.5259e-01],\n",
            "        [-1.5073e-01, -4.8469e-03],\n",
            "        [ 4.2134e-04, -1.2895e-01]], grad_fn=<AddmmBackward0>)\n",
            "tensor([1, 1, 0, 1, 0, 0, 0, 0])\n",
            "tensor([1, 1, 1, 1, 1, 1, 1, 0])\n"
          ]
        },
        {
          "metadata": {
            "tags": null
          },
          "name": "stderr",
          "output_type": "stream",
          "text": [
            "\r  2%|▏         | 12/525 [00:38<27:38,  3.23s/it]"
          ]
        },
        {
          "metadata": {
            "tags": null
          },
          "name": "stdout",
          "output_type": "stream",
          "text": [
            "tensor([[-0.4710, -0.1767],\n",
            "        [ 0.0931, -0.1021],\n",
            "        [-0.4736, -0.2095],\n",
            "        [-0.0606, -0.1952],\n",
            "        [ 0.1341, -0.2956],\n",
            "        [ 0.4748, -0.3186],\n",
            "        [-0.2271, -0.2018],\n",
            "        [-0.4891, -0.1582]], grad_fn=<AddmmBackward0>)\n",
            "tensor([1, 0, 1, 0, 0, 0, 0, 1])\n",
            "tensor([1, 0, 1, 0, 0, 0, 1, 1])\n"
          ]
        },
        {
          "metadata": {
            "tags": null
          },
          "name": "stderr",
          "output_type": "stream",
          "text": [
            "\r  2%|▏         | 13/525 [00:42<27:30,  3.22s/it]"
          ]
        },
        {
          "metadata": {
            "tags": null
          },
          "name": "stdout",
          "output_type": "stream",
          "text": [
            "tensor([[-0.2568, -0.1844],\n",
            "        [-0.2922, -0.4750],\n",
            "        [ 0.6954, -0.3515],\n",
            "        [ 0.0086, -0.2908],\n",
            "        [ 0.4812, -0.3719],\n",
            "        [ 0.5415, -0.3622],\n",
            "        [ 0.7107,  0.0677],\n",
            "        [ 0.1541,  0.1301]], grad_fn=<AddmmBackward0>)\n",
            "tensor([1, 1, 0, 1, 0, 0, 0, 0])\n",
            "tensor([1, 0, 0, 0, 0, 0, 0, 0])\n"
          ]
        },
        {
          "metadata": {
            "tags": null
          },
          "name": "stderr",
          "output_type": "stream",
          "text": [
            "\r  3%|▎         | 14/525 [00:45<27:38,  3.25s/it]"
          ]
        },
        {
          "metadata": {
            "tags": null
          },
          "name": "stdout",
          "output_type": "stream",
          "text": [
            "tensor([[ 0.5450, -0.2009],\n",
            "        [ 0.2282, -0.3760],\n",
            "        [-0.2381, -0.1650],\n",
            "        [ 0.8522, -0.1350],\n",
            "        [ 0.9085, -0.4619],\n",
            "        [ 0.7122, -0.5236],\n",
            "        [ 0.5091, -0.0511],\n",
            "        [ 0.6368, -0.3282]], grad_fn=<AddmmBackward0>)\n",
            "tensor([1, 0, 1, 0, 0, 0, 1, 0])\n",
            "tensor([0, 0, 1, 0, 0, 0, 0, 0])\n"
          ]
        },
        {
          "metadata": {
            "tags": null
          },
          "name": "stderr",
          "output_type": "stream",
          "text": [
            "\r  3%|▎         | 15/525 [00:48<27:31,  3.24s/it]"
          ]
        },
        {
          "metadata": {
            "tags": null
          },
          "name": "stdout",
          "output_type": "stream",
          "text": [
            "tensor([[ 0.7148, -0.0842],\n",
            "        [-0.3086, -0.1727],\n",
            "        [ 0.8296, -0.2833],\n",
            "        [ 0.2215, -0.4976],\n",
            "        [ 0.6798, -0.4841],\n",
            "        [ 0.7057, -0.5366],\n",
            "        [ 0.7863, -0.6603],\n",
            "        [ 0.1582, -0.2068]], grad_fn=<AddmmBackward0>)\n",
            "tensor([0, 1, 0, 1, 1, 0, 0, 1])\n",
            "tensor([0, 1, 0, 0, 0, 0, 0, 0])\n"
          ]
        },
        {
          "metadata": {
            "tags": null
          },
          "name": "stderr",
          "output_type": "stream",
          "text": [
            "\r  3%|▎         | 16/525 [00:51<27:20,  3.22s/it]"
          ]
        },
        {
          "metadata": {
            "tags": null
          },
          "name": "stdout",
          "output_type": "stream",
          "text": [
            "tensor([[-0.1333, -0.4534],\n",
            "        [ 0.7383, -0.3488],\n",
            "        [ 0.4362, -0.0840],\n",
            "        [ 0.6690, -0.4478],\n",
            "        [ 0.1261, -0.0982],\n",
            "        [-0.3011, -0.3532],\n",
            "        [ 0.8723, -0.3249],\n",
            "        [ 0.6193, -0.2827]], grad_fn=<AddmmBackward0>)\n",
            "tensor([0, 1, 0, 0, 1, 1, 0, 1])\n",
            "tensor([0, 0, 0, 0, 0, 0, 0, 0])\n"
          ]
        },
        {
          "metadata": {
            "tags": null
          },
          "name": "stderr",
          "output_type": "stream",
          "text": [
            "\r  3%|▎         | 17/525 [00:55<27:20,  3.23s/it]"
          ]
        },
        {
          "metadata": {
            "tags": null
          },
          "name": "stdout",
          "output_type": "stream",
          "text": [
            "tensor([[ 0.6283, -0.4373],\n",
            "        [ 0.6660, -0.3154],\n",
            "        [-0.1861, -0.2792],\n",
            "        [ 0.6002, -0.3648],\n",
            "        [ 0.2643, -0.0881],\n",
            "        [ 0.4749,  0.1115],\n",
            "        [ 0.8738, -0.4559],\n",
            "        [-0.3706,  0.1815]], grad_fn=<AddmmBackward0>)\n",
            "tensor([0, 0, 0, 1, 1, 1, 0, 1])\n",
            "tensor([0, 0, 0, 0, 0, 0, 0, 1])\n"
          ]
        },
        {
          "metadata": {
            "tags": null
          },
          "name": "stderr",
          "output_type": "stream",
          "text": [
            "\r  3%|▎         | 18/525 [00:58<27:36,  3.27s/it]"
          ]
        },
        {
          "metadata": {
            "tags": null
          },
          "name": "stdout",
          "output_type": "stream",
          "text": [
            "tensor([[ 0.0295, -0.3866],\n",
            "        [-0.3524, -0.2933],\n",
            "        [ 0.1314, -0.3309],\n",
            "        [-0.2253, -0.1836],\n",
            "        [ 0.4493, -0.5606],\n",
            "        [-0.3005, -0.3208],\n",
            "        [-0.4173, -0.2530],\n",
            "        [ 0.5043, -0.6418]], grad_fn=<AddmmBackward0>)\n",
            "tensor([0, 1, 1, 0, 0, 1, 1, 0])\n",
            "tensor([0, 1, 0, 1, 0, 0, 1, 0])\n"
          ]
        },
        {
          "metadata": {
            "tags": null
          },
          "name": "stderr",
          "output_type": "stream",
          "text": [
            "\r  4%|▎         | 19/525 [01:01<27:11,  3.22s/it]"
          ]
        },
        {
          "metadata": {
            "tags": null
          },
          "name": "stdout",
          "output_type": "stream",
          "text": [
            "tensor([[ 0.1406, -0.4522],\n",
            "        [ 0.5108, -0.2958],\n",
            "        [ 0.3773, -0.4803],\n",
            "        [-0.3888, -0.1451],\n",
            "        [-0.7070, -0.1569],\n",
            "        [-0.2986, -0.0208],\n",
            "        [-0.3474, -0.1796],\n",
            "        [-0.2662,  0.0834]], grad_fn=<AddmmBackward0>)\n",
            "tensor([0, 0, 0, 1, 1, 0, 1, 1])\n",
            "tensor([0, 0, 0, 1, 1, 1, 1, 1])\n"
          ]
        },
        {
          "metadata": {
            "tags": null
          },
          "name": "stderr",
          "output_type": "stream",
          "text": [
            "\r  4%|▍         | 20/525 [01:04<26:46,  3.18s/it]"
          ]
        },
        {
          "metadata": {
            "tags": null
          },
          "name": "stdout",
          "output_type": "stream",
          "text": [
            "tensor([[-0.5135, -0.3367],\n",
            "        [-0.0533, -0.1215],\n",
            "        [-0.5676,  0.0366],\n",
            "        [ 0.8002, -0.5047],\n",
            "        [ 0.8315, -0.4715],\n",
            "        [ 0.1370, -0.1400],\n",
            "        [-0.3553, -0.5186],\n",
            "        [-0.8681, -0.1492]], grad_fn=<AddmmBackward0>)\n",
            "tensor([0, 1, 1, 0, 0, 0, 1, 1])\n",
            "tensor([1, 0, 1, 0, 0, 0, 0, 1])\n"
          ]
        },
        {
          "metadata": {
            "tags": null
          },
          "name": "stderr",
          "output_type": "stream",
          "text": [
            "\r  4%|▍         | 21/525 [01:07<26:26,  3.15s/it]"
          ]
        },
        {
          "metadata": {
            "tags": null
          },
          "name": "stdout",
          "output_type": "stream",
          "text": [
            "tensor([[-0.5138,  0.0187],\n",
            "        [-0.3720, -0.0305],\n",
            "        [-0.0465, -0.2156],\n",
            "        [-0.3945, -0.1346],\n",
            "        [-0.7976, -0.1002],\n",
            "        [-0.0402,  0.0040],\n",
            "        [-0.6704, -0.1995],\n",
            "        [-0.6116,  0.0469]], grad_fn=<AddmmBackward0>)\n",
            "tensor([1, 1, 0, 1, 1, 1, 1, 1])\n",
            "tensor([1, 1, 0, 1, 1, 1, 1, 1])\n"
          ]
        },
        {
          "metadata": {
            "tags": null
          },
          "name": "stderr",
          "output_type": "stream",
          "text": [
            "\r  4%|▍         | 22/525 [01:10<26:29,  3.16s/it]"
          ]
        },
        {
          "metadata": {
            "tags": null
          },
          "name": "stdout",
          "output_type": "stream",
          "text": [
            "tensor([[-0.3372, -0.2531],\n",
            "        [-0.2360, -0.1108],\n",
            "        [-0.4409, -0.1055],\n",
            "        [-0.6372,  0.1979],\n",
            "        [-0.7796,  0.2894],\n",
            "        [-0.6034, -0.5457],\n",
            "        [-0.6285, -0.1151],\n",
            "        [-0.7963,  0.0772]], grad_fn=<AddmmBackward0>)\n",
            "tensor([0, 0, 0, 1, 1, 1, 1, 1])\n",
            "tensor([1, 1, 1, 1, 1, 1, 1, 1])\n"
          ]
        },
        {
          "metadata": {
            "tags": null
          },
          "name": "stderr",
          "output_type": "stream",
          "text": [
            "\r  4%|▍         | 23/525 [01:13<25:44,  3.08s/it]"
          ]
        },
        {
          "metadata": {
            "tags": null
          },
          "name": "stdout",
          "output_type": "stream",
          "text": [
            "tensor([[-0.5556, -0.1299],\n",
            "        [-0.5808,  0.1580],\n",
            "        [-0.9312,  0.0399],\n",
            "        [ 0.3417, -0.3564],\n",
            "        [-0.7389,  0.0687],\n",
            "        [-0.6052,  0.3240],\n",
            "        [-0.6253,  0.1681],\n",
            "        [ 0.0306, -0.2850]], grad_fn=<AddmmBackward0>)\n",
            "tensor([0, 1, 1, 0, 1, 1, 1, 0])\n",
            "tensor([1, 1, 1, 0, 1, 1, 1, 0])\n"
          ]
        },
        {
          "metadata": {
            "tags": null
          },
          "name": "stderr",
          "output_type": "stream",
          "text": [
            "\r  5%|▍         | 24/525 [01:17<26:17,  3.15s/it]"
          ]
        },
        {
          "metadata": {
            "tags": null
          },
          "name": "stdout",
          "output_type": "stream",
          "text": [
            "tensor([[-0.6822,  0.2720],\n",
            "        [-0.5817,  0.1695],\n",
            "        [ 0.5050, -0.2676],\n",
            "        [-0.6167,  0.1614],\n",
            "        [-1.1040,  0.2619],\n",
            "        [-0.0459, -0.2559],\n",
            "        [-0.6622, -0.0756],\n",
            "        [ 0.6448, -0.4491]], grad_fn=<AddmmBackward0>)\n",
            "tensor([1, 0, 0, 0, 1, 0, 1, 0])\n",
            "tensor([1, 1, 0, 1, 1, 0, 1, 0])\n"
          ]
        },
        {
          "metadata": {
            "tags": null
          },
          "name": "stderr",
          "output_type": "stream",
          "text": [
            "\r  5%|▍         | 25/525 [01:20<25:56,  3.11s/it]"
          ]
        },
        {
          "metadata": {
            "tags": null
          },
          "name": "stdout",
          "output_type": "stream",
          "text": [
            "tensor([[-0.8613,  0.0880],\n",
            "        [ 0.9346, -0.5639],\n",
            "        [-0.5819,  0.1873],\n",
            "        [ 0.0901, -0.2689],\n",
            "        [ 0.4932, -0.3401],\n",
            "        [ 0.8474, -0.4440],\n",
            "        [-0.5838,  0.2148],\n",
            "        [ 0.0384, -0.1855]], grad_fn=<AddmmBackward0>)\n",
            "tensor([1, 0, 1, 1, 1, 0, 1, 1])\n",
            "tensor([1, 0, 1, 0, 0, 0, 1, 0])\n"
          ]
        },
        {
          "metadata": {
            "tags": null
          },
          "name": "stderr",
          "output_type": "stream",
          "text": [
            "\r  5%|▍         | 26/525 [01:23<26:05,  3.14s/it]"
          ]
        },
        {
          "metadata": {
            "tags": null
          },
          "name": "stdout",
          "output_type": "stream",
          "text": [
            "tensor([[-0.8933,  0.3363],\n",
            "        [-0.1654, -0.0145],\n",
            "        [-1.0496,  0.3569],\n",
            "        [-0.7338,  0.3536],\n",
            "        [-0.3360, -0.0103],\n",
            "        [-0.1579, -0.1244],\n",
            "        [ 0.1981, -0.4332],\n",
            "        [-0.5645,  0.4000]], grad_fn=<AddmmBackward0>)\n",
            "tensor([1, 0, 1, 1, 0, 0, 1, 1])\n",
            "tensor([1, 1, 1, 1, 1, 1, 0, 1])\n"
          ]
        },
        {
          "metadata": {
            "tags": null
          },
          "name": "stderr",
          "output_type": "stream",
          "text": [
            "\r  5%|▌         | 27/525 [01:26<26:24,  3.18s/it]"
          ]
        },
        {
          "metadata": {
            "tags": null
          },
          "name": "stdout",
          "output_type": "stream",
          "text": [
            "tensor([[ 0.0731, -0.1392],\n",
            "        [ 0.1316, -0.3978],\n",
            "        [-0.4865,  0.3287],\n",
            "        [ 0.6895, -0.5101],\n",
            "        [ 0.5528, -0.3961],\n",
            "        [ 0.7217, -0.4363],\n",
            "        [-1.0356,  0.3946],\n",
            "        [-0.8239,  0.3549]], grad_fn=<AddmmBackward0>)\n",
            "tensor([0, 0, 1, 0, 0, 0, 1, 1])\n",
            "tensor([0, 0, 1, 0, 0, 0, 1, 1])\n"
          ]
        },
        {
          "metadata": {
            "tags": null
          },
          "name": "stderr",
          "output_type": "stream",
          "text": [
            "\r  5%|▌         | 28/525 [01:29<26:35,  3.21s/it]"
          ]
        },
        {
          "metadata": {
            "tags": null
          },
          "name": "stdout",
          "output_type": "stream",
          "text": [
            "tensor([[ 1.2365, -0.4716],\n",
            "        [-0.7670,  0.3239],\n",
            "        [ 1.0485, -0.6994],\n",
            "        [-0.3332,  0.0246],\n",
            "        [-0.8013,  0.2176],\n",
            "        [ 0.7296, -0.7246],\n",
            "        [ 0.8294, -0.4515],\n",
            "        [ 0.7663, -0.4285]], grad_fn=<AddmmBackward0>)\n",
            "tensor([0, 1, 0, 1, 1, 0, 0, 0])\n",
            "tensor([0, 1, 0, 1, 1, 0, 0, 0])\n"
          ]
        },
        {
          "metadata": {
            "tags": null
          },
          "name": "stderr",
          "output_type": "stream",
          "text": [
            "\r  6%|▌         | 29/525 [01:33<27:06,  3.28s/it]"
          ]
        },
        {
          "metadata": {
            "tags": null
          },
          "name": "stdout",
          "output_type": "stream",
          "text": [
            "tensor([[ 1.0686, -0.6845],\n",
            "        [ 0.9951, -0.7390],\n",
            "        [ 0.4524, -0.2422],\n",
            "        [ 0.9585, -0.5905],\n",
            "        [-0.4214,  0.2656],\n",
            "        [ 1.0109, -1.0246],\n",
            "        [ 0.9039, -0.5962],\n",
            "        [ 0.9905, -0.7154]], grad_fn=<AddmmBackward0>)\n",
            "tensor([1, 0, 1, 0, 1, 1, 0, 1])\n",
            "tensor([0, 0, 0, 0, 1, 0, 0, 0])\n"
          ]
        },
        {
          "metadata": {
            "tags": null
          },
          "name": "stderr",
          "output_type": "stream",
          "text": [
            "\r  6%|▌         | 30/525 [01:36<26:32,  3.22s/it]"
          ]
        },
        {
          "metadata": {
            "tags": null
          },
          "name": "stdout",
          "output_type": "stream",
          "text": [
            "tensor([[ 1.2479, -0.5876],\n",
            "        [ 1.0625, -0.5316],\n",
            "        [ 0.7990, -0.2792],\n",
            "        [ 0.9347, -0.6266],\n",
            "        [ 0.9594, -0.6518],\n",
            "        [-0.0598, -0.0051],\n",
            "        [ 0.9409, -0.5247],\n",
            "        [-0.7139,  0.5749]], grad_fn=<AddmmBackward0>)\n",
            "tensor([0, 0, 1, 1, 0, 1, 1, 1])\n",
            "tensor([0, 0, 0, 0, 0, 1, 0, 1])\n"
          ]
        },
        {
          "metadata": {
            "tags": null
          },
          "name": "stderr",
          "output_type": "stream",
          "text": [
            "\r  6%|▌         | 31/525 [01:39<26:26,  3.21s/it]"
          ]
        },
        {
          "metadata": {
            "tags": null
          },
          "name": "stdout",
          "output_type": "stream",
          "text": [
            "tensor([[-1.3993,  0.8341],\n",
            "        [ 1.0202, -0.2973],\n",
            "        [ 0.7806, -0.2467],\n",
            "        [-1.1742,  0.8492],\n",
            "        [ 0.8862, -0.4176],\n",
            "        [ 0.7944, -0.6469],\n",
            "        [ 0.5212, -0.4402],\n",
            "        [ 1.1874, -0.8141]], grad_fn=<AddmmBackward0>)\n",
            "tensor([1, 0, 0, 1, 0, 0, 0, 0])\n",
            "tensor([1, 0, 0, 1, 0, 0, 0, 0])\n"
          ]
        },
        {
          "metadata": {
            "tags": null
          },
          "name": "stderr",
          "output_type": "stream",
          "text": [
            "\r  6%|▌         | 32/525 [01:42<26:50,  3.27s/it]"
          ]
        },
        {
          "metadata": {
            "tags": null
          },
          "name": "stdout",
          "output_type": "stream",
          "text": [
            "tensor([[ 0.6342, -0.3340],\n",
            "        [-0.7671,  0.5931],\n",
            "        [ 0.2194, -0.2204],\n",
            "        [-1.1694,  0.7332],\n",
            "        [ 1.1288, -0.2634],\n",
            "        [ 0.7117, -0.1254],\n",
            "        [ 0.9589, -0.6357],\n",
            "        [-1.4157,  0.9318]], grad_fn=<AddmmBackward0>)\n",
            "tensor([1, 1, 0, 1, 0, 0, 0, 1])\n",
            "tensor([0, 1, 0, 1, 0, 0, 0, 1])\n"
          ]
        },
        {
          "metadata": {
            "tags": null
          },
          "name": "stderr",
          "output_type": "stream",
          "text": [
            "\r  6%|▋         | 33/525 [01:46<27:12,  3.32s/it]"
          ]
        },
        {
          "metadata": {
            "tags": null
          },
          "name": "stdout",
          "output_type": "stream",
          "text": [
            "tensor([[-1.1352,  0.9650],\n",
            "        [ 0.6153, -0.5184],\n",
            "        [ 0.9832, -0.5602],\n",
            "        [-1.3501,  0.8653],\n",
            "        [-1.1292,  1.1299],\n",
            "        [ 0.8967, -0.2816],\n",
            "        [-0.8648,  0.5286],\n",
            "        [-1.3671,  0.9868]], grad_fn=<AddmmBackward0>)\n",
            "tensor([1, 0, 0, 1, 1, 0, 1, 1])\n",
            "tensor([1, 0, 0, 1, 1, 0, 1, 1])\n"
          ]
        },
        {
          "metadata": {
            "tags": null
          },
          "name": "stderr",
          "output_type": "stream",
          "text": [
            "\r  6%|▋         | 34/525 [01:49<26:52,  3.28s/it]"
          ]
        },
        {
          "metadata": {
            "tags": null
          },
          "name": "stdout",
          "output_type": "stream",
          "text": [
            "tensor([[ 1.0554, -0.4002],\n",
            "        [-0.2773,  0.5252],\n",
            "        [-1.0983,  0.8025],\n",
            "        [-0.7150,  0.6785],\n",
            "        [-1.1993,  0.6377],\n",
            "        [-1.1946,  0.8252],\n",
            "        [-1.1501,  0.8580],\n",
            "        [ 0.6281, -0.3111]], grad_fn=<AddmmBackward0>)\n",
            "tensor([0, 0, 0, 1, 1, 1, 1, 0])\n",
            "tensor([0, 1, 1, 1, 1, 1, 1, 0])\n"
          ]
        },
        {
          "metadata": {
            "tags": null
          },
          "name": "stderr",
          "output_type": "stream",
          "text": [
            "\r  7%|▋         | 35/525 [01:52<26:35,  3.26s/it]"
          ]
        },
        {
          "metadata": {
            "tags": null
          },
          "name": "stdout",
          "output_type": "stream",
          "text": [
            "tensor([[-1.3862,  0.9242],\n",
            "        [ 0.8567, -0.4783],\n",
            "        [-1.2460,  1.0893],\n",
            "        [ 0.5562, -0.3697],\n",
            "        [ 0.7011, -0.4159],\n",
            "        [-1.1751,  0.9888],\n",
            "        [ 0.0997, -0.0052],\n",
            "        [-1.3570,  0.9830]], grad_fn=<AddmmBackward0>)\n",
            "tensor([1, 0, 1, 0, 0, 1, 1, 1])\n",
            "tensor([1, 0, 1, 0, 0, 1, 0, 1])\n"
          ]
        },
        {
          "metadata": {
            "tags": null
          },
          "name": "stderr",
          "output_type": "stream",
          "text": [
            "\r  7%|▋         | 36/525 [01:55<25:30,  3.13s/it]"
          ]
        },
        {
          "metadata": {
            "tags": null
          },
          "name": "stdout",
          "output_type": "stream",
          "text": [
            "tensor([[ 1.2357, -0.4271],\n",
            "        [ 0.9745, -0.4924],\n",
            "        [ 1.1028, -0.3146],\n",
            "        [ 1.0801, -0.3028],\n",
            "        [-0.6535,  0.5434],\n",
            "        [-0.8971,  0.6953],\n",
            "        [ 1.0853, -0.4493],\n",
            "        [-1.0641,  0.7861]], grad_fn=<AddmmBackward0>)\n",
            "tensor([0, 1, 0, 0, 0, 1, 0, 0])\n",
            "tensor([0, 0, 0, 0, 1, 1, 0, 1])\n"
          ]
        },
        {
          "metadata": {
            "tags": null
          },
          "name": "stderr",
          "output_type": "stream",
          "text": [
            "\r  7%|▋         | 37/525 [01:58<26:09,  3.22s/it]"
          ]
        },
        {
          "metadata": {
            "tags": null
          },
          "name": "stdout",
          "output_type": "stream",
          "text": [
            "tensor([[-1.3533,  0.8850],\n",
            "        [ 0.9844, -0.5488],\n",
            "        [ 1.0146, -0.4947],\n",
            "        [ 0.8920, -0.5430],\n",
            "        [-1.2023,  1.1207],\n",
            "        [ 0.7705, -0.5597],\n",
            "        [-1.1054,  0.6327],\n",
            "        [ 0.6904,  0.0361]], grad_fn=<AddmmBackward0>)\n",
            "tensor([1, 0, 0, 0, 1, 0, 1, 1])\n",
            "tensor([1, 0, 0, 0, 1, 0, 1, 0])\n"
          ]
        },
        {
          "metadata": {
            "tags": null
          },
          "name": "stderr",
          "output_type": "stream",
          "text": [
            "\r  7%|▋         | 38/525 [02:02<26:21,  3.25s/it]"
          ]
        },
        {
          "metadata": {
            "tags": null
          },
          "name": "stdout",
          "output_type": "stream",
          "text": [
            "tensor([[ 0.5295, -0.3765],\n",
            "        [ 1.0517, -0.3587],\n",
            "        [ 1.3150, -0.4200],\n",
            "        [ 1.3144, -0.5969],\n",
            "        [ 1.2948, -0.4302],\n",
            "        [-0.6496,  0.7224],\n",
            "        [-1.4602,  0.8778],\n",
            "        [-1.4563,  1.0159]], grad_fn=<AddmmBackward0>)\n",
            "tensor([1, 0, 0, 0, 0, 1, 1, 1])\n",
            "tensor([0, 0, 0, 0, 0, 1, 1, 1])\n"
          ]
        },
        {
          "metadata": {
            "tags": null
          },
          "name": "stderr",
          "output_type": "stream",
          "text": [
            "\r  7%|▋         | 39/525 [02:05<25:02,  3.09s/it]"
          ]
        },
        {
          "metadata": {
            "tags": null
          },
          "name": "stdout",
          "output_type": "stream",
          "text": [
            "tensor([[-1.3938,  1.2410],\n",
            "        [-1.3929,  1.3913],\n",
            "        [-0.0861,  0.3071],\n",
            "        [-0.0316,  0.1503],\n",
            "        [-0.4364,  0.4935],\n",
            "        [-0.6808,  0.7703],\n",
            "        [ 0.7409, -0.2680],\n",
            "        [ 1.3271, -0.3041]], grad_fn=<AddmmBackward0>)\n",
            "tensor([1, 1, 0, 1, 1, 1, 0, 0])\n",
            "tensor([1, 1, 1, 1, 1, 1, 0, 0])\n"
          ]
        },
        {
          "metadata": {
            "tags": null
          },
          "name": "stderr",
          "output_type": "stream",
          "text": [
            "\r  8%|▊         | 40/525 [02:08<25:10,  3.12s/it]"
          ]
        },
        {
          "metadata": {
            "tags": null
          },
          "name": "stdout",
          "output_type": "stream",
          "text": [
            "tensor([[ 1.1645, -0.4273],\n",
            "        [ 1.0855, -0.5475],\n",
            "        [ 1.2440, -0.9274],\n",
            "        [ 0.3414,  0.0840],\n",
            "        [-1.3977,  1.1721],\n",
            "        [-1.3764,  1.3109],\n",
            "        [ 0.8334, -0.3030],\n",
            "        [ 1.1598, -0.5047]], grad_fn=<AddmmBackward0>)\n",
            "tensor([0, 0, 0, 0, 1, 1, 1, 0])\n",
            "tensor([0, 0, 0, 0, 1, 1, 0, 0])\n"
          ]
        },
        {
          "metadata": {
            "tags": null
          },
          "name": "stderr",
          "output_type": "stream",
          "text": [
            "\r  8%|▊         | 41/525 [02:11<25:29,  3.16s/it]"
          ]
        },
        {
          "metadata": {
            "tags": null
          },
          "name": "stdout",
          "output_type": "stream",
          "text": [
            "tensor([[ 0.9702, -0.2874],\n",
            "        [-1.2054,  0.9134],\n",
            "        [-0.8350,  0.7569],\n",
            "        [ 1.0424, -0.3174],\n",
            "        [ 0.9874, -0.7847],\n",
            "        [-0.9808,  0.8856],\n",
            "        [ 0.7767, -0.0363],\n",
            "        [ 1.1432, -0.5972]], grad_fn=<AddmmBackward0>)\n",
            "tensor([0, 0, 1, 0, 0, 1, 0, 0])\n",
            "tensor([0, 1, 1, 0, 0, 1, 0, 0])\n"
          ]
        },
        {
          "metadata": {
            "tags": null
          },
          "name": "stderr",
          "output_type": "stream",
          "text": [
            "\r  8%|▊         | 42/525 [02:14<26:02,  3.24s/it]"
          ]
        },
        {
          "metadata": {
            "tags": null
          },
          "name": "stdout",
          "output_type": "stream",
          "text": [
            "tensor([[-1.5545,  1.2913],\n",
            "        [-0.9606,  0.9462],\n",
            "        [-0.5306,  0.8409],\n",
            "        [ 1.2724, -0.5395],\n",
            "        [-1.4077,  0.9151],\n",
            "        [ 0.9520, -0.5963],\n",
            "        [-1.0562,  0.7667],\n",
            "        [ 0.2417,  0.1468]], grad_fn=<AddmmBackward0>)\n",
            "tensor([1, 0, 1, 0, 1, 0, 1, 0])\n",
            "tensor([1, 1, 1, 0, 1, 0, 1, 0])\n"
          ]
        },
        {
          "metadata": {
            "tags": null
          },
          "name": "stderr",
          "output_type": "stream",
          "text": [
            "\r  8%|▊         | 43/525 [02:18<26:48,  3.34s/it]"
          ]
        },
        {
          "metadata": {
            "tags": null
          },
          "name": "stdout",
          "output_type": "stream",
          "text": [
            "tensor([[-1.8691,  1.2938],\n",
            "        [ 1.5029, -0.6627],\n",
            "        [-0.3132,  0.3685],\n",
            "        [ 1.2247, -0.3354],\n",
            "        [ 1.4685, -0.2378],\n",
            "        [ 1.1923, -0.6296],\n",
            "        [ 0.3418, -0.0274],\n",
            "        [ 1.0215, -0.2377]], grad_fn=<AddmmBackward0>)\n",
            "tensor([1, 0, 1, 0, 0, 0, 1, 0])\n",
            "tensor([1, 0, 1, 0, 0, 0, 0, 0])\n"
          ]
        },
        {
          "metadata": {
            "tags": null
          },
          "name": "stderr",
          "output_type": "stream",
          "text": [
            "\r  8%|▊         | 44/525 [02:21<26:15,  3.28s/it]"
          ]
        },
        {
          "metadata": {
            "tags": null
          },
          "name": "stdout",
          "output_type": "stream",
          "text": [
            "tensor([[ 0.6922, -0.2835],\n",
            "        [ 1.2793, -0.7547],\n",
            "        [ 1.4321, -0.6886],\n",
            "        [-1.5824,  1.2532],\n",
            "        [ 1.3095, -0.8201],\n",
            "        [ 1.2348, -0.7310],\n",
            "        [-0.2959,  0.5521],\n",
            "        [-1.1259,  1.1727]], grad_fn=<AddmmBackward0>)\n",
            "tensor([1, 0, 0, 1, 0, 0, 1, 1])\n",
            "tensor([0, 0, 0, 1, 0, 0, 1, 1])\n"
          ]
        },
        {
          "metadata": {
            "tags": null
          },
          "name": "stderr",
          "output_type": "stream",
          "text": [
            "\r  9%|▊         | 45/525 [02:24<26:03,  3.26s/it]"
          ]
        },
        {
          "metadata": {
            "tags": null
          },
          "name": "stdout",
          "output_type": "stream",
          "text": [
            "tensor([[-0.2432,  0.5155],\n",
            "        [ 1.3657, -0.7067],\n",
            "        [ 0.0650,  0.2015],\n",
            "        [-1.4179,  1.3559],\n",
            "        [-1.4072,  1.2636],\n",
            "        [-0.3559,  0.5080],\n",
            "        [ 0.3026,  0.0585],\n",
            "        [ 0.9290, -0.6869]], grad_fn=<AddmmBackward0>)\n",
            "tensor([1, 0, 1, 1, 1, 1, 0, 0])\n",
            "tensor([1, 0, 1, 1, 1, 1, 0, 0])\n"
          ]
        },
        {
          "metadata": {
            "tags": null
          },
          "name": "stderr",
          "output_type": "stream",
          "text": [
            "\r  9%|▉         | 46/525 [02:27<25:32,  3.20s/it]"
          ]
        },
        {
          "metadata": {
            "tags": null
          },
          "name": "stdout",
          "output_type": "stream",
          "text": [
            "tensor([[-1.1657,  1.0337],\n",
            "        [-0.4689,  0.7436],\n",
            "        [-0.9983,  0.9590],\n",
            "        [ 1.1494, -0.4830],\n",
            "        [-1.2740,  1.2836],\n",
            "        [-1.3793,  1.2413],\n",
            "        [ 0.5727, -0.4219],\n",
            "        [-1.4327,  1.2750]], grad_fn=<AddmmBackward0>)\n",
            "tensor([1, 0, 0, 0, 1, 1, 0, 1])\n",
            "tensor([1, 1, 1, 0, 1, 1, 0, 1])\n"
          ]
        },
        {
          "metadata": {
            "tags": null
          },
          "name": "stderr",
          "output_type": "stream",
          "text": [
            "\r  9%|▉         | 47/525 [02:31<25:33,  3.21s/it]"
          ]
        },
        {
          "metadata": {
            "tags": null
          },
          "name": "stdout",
          "output_type": "stream",
          "text": [
            "tensor([[-0.6135,  0.7130],\n",
            "        [-0.8585,  0.5925],\n",
            "        [-0.2124,  0.3775],\n",
            "        [ 1.5517, -1.0152],\n",
            "        [-0.0329,  0.2033],\n",
            "        [-1.5508,  1.3522],\n",
            "        [-1.1545,  1.0168],\n",
            "        [-1.0760,  1.0029]], grad_fn=<AddmmBackward0>)\n",
            "tensor([0, 1, 1, 0, 0, 1, 1, 1])\n",
            "tensor([1, 1, 1, 0, 1, 1, 1, 1])\n"
          ]
        },
        {
          "metadata": {
            "tags": null
          },
          "name": "stderr",
          "output_type": "stream",
          "text": [
            "\r  9%|▉         | 48/525 [02:34<25:32,  3.21s/it]"
          ]
        },
        {
          "metadata": {
            "tags": null
          },
          "name": "stdout",
          "output_type": "stream",
          "text": [
            "tensor([[-1.6845,  1.3006],\n",
            "        [ 1.1401, -0.4561],\n",
            "        [ 1.1034, -0.4945],\n",
            "        [-1.2999,  1.1410],\n",
            "        [ 1.5403, -1.0312],\n",
            "        [ 0.7696, -0.7456],\n",
            "        [-0.6085,  0.6670],\n",
            "        [-1.4931,  1.4616]], grad_fn=<AddmmBackward0>)\n",
            "tensor([1, 0, 0, 1, 0, 0, 1, 1])\n",
            "tensor([1, 0, 0, 1, 0, 0, 1, 1])\n"
          ]
        },
        {
          "metadata": {
            "tags": null
          },
          "name": "stderr",
          "output_type": "stream",
          "text": [
            "\r  9%|▉         | 49/525 [02:37<25:11,  3.17s/it]"
          ]
        },
        {
          "metadata": {
            "tags": null
          },
          "name": "stdout",
          "output_type": "stream",
          "text": [
            "tensor([[-1.5830,  1.3580],\n",
            "        [-1.1743,  1.1840],\n",
            "        [ 1.2293, -0.6544],\n",
            "        [ 0.9954, -0.6930],\n",
            "        [ 0.7213, -0.3529],\n",
            "        [ 0.6093, -0.4382],\n",
            "        [-1.0803,  1.0723],\n",
            "        [ 0.8127, -0.4211]], grad_fn=<AddmmBackward0>)\n",
            "tensor([1, 0, 1, 0, 0, 0, 0, 0])\n",
            "tensor([1, 1, 0, 0, 0, 0, 1, 0])\n"
          ]
        },
        {
          "metadata": {
            "tags": null
          },
          "name": "stderr",
          "output_type": "stream",
          "text": [
            "\r 10%|▉         | 50/525 [02:40<25:13,  3.19s/it]"
          ]
        },
        {
          "metadata": {
            "tags": null
          },
          "name": "stdout",
          "output_type": "stream",
          "text": [
            "tensor([[ 1.4325, -0.8263],\n",
            "        [ 0.0643,  0.0521],\n",
            "        [-0.2869,  0.2684],\n",
            "        [ 1.2987, -0.8787],\n",
            "        [-1.0209,  0.9231],\n",
            "        [ 1.1432, -0.4813],\n",
            "        [ 0.0467,  0.1326],\n",
            "        [ 1.4940, -1.3171]], grad_fn=<AddmmBackward0>)\n",
            "tensor([0, 1, 0, 0, 1, 0, 1, 0])\n",
            "tensor([0, 0, 1, 0, 1, 0, 1, 0])\n"
          ]
        },
        {
          "metadata": {
            "tags": null
          },
          "name": "stderr",
          "output_type": "stream",
          "text": [
            "\r 10%|▉         | 51/525 [02:43<25:27,  3.22s/it]"
          ]
        },
        {
          "metadata": {
            "tags": null
          },
          "name": "stdout",
          "output_type": "stream",
          "text": [
            "tensor([[-0.5916,  0.6290],\n",
            "        [ 1.7461, -1.0185],\n",
            "        [-0.8662,  0.7545],\n",
            "        [ 0.6246, -0.3558],\n",
            "        [ 1.3655, -0.6833],\n",
            "        [ 1.1072, -0.4980],\n",
            "        [ 1.4730, -1.0488],\n",
            "        [-0.4177,  0.6549]], grad_fn=<AddmmBackward0>)\n",
            "tensor([1, 0, 1, 0, 0, 0, 0, 1])\n",
            "tensor([1, 0, 1, 0, 0, 0, 0, 1])\n"
          ]
        },
        {
          "metadata": {
            "tags": null
          },
          "name": "stderr",
          "output_type": "stream",
          "text": [
            "\r 10%|▉         | 52/525 [02:47<25:33,  3.24s/it]"
          ]
        },
        {
          "metadata": {
            "tags": null
          },
          "name": "stdout",
          "output_type": "stream",
          "text": [
            "tensor([[ 1.6646, -0.9961],\n",
            "        [ 1.7014, -1.0696],\n",
            "        [ 0.8945, -0.3955],\n",
            "        [ 1.4485, -0.8181],\n",
            "        [ 1.5879, -1.3060],\n",
            "        [-0.1716,  0.4897],\n",
            "        [ 0.8152, -0.2154],\n",
            "        [ 1.6188, -0.9830]], grad_fn=<AddmmBackward0>)\n",
            "tensor([0, 0, 1, 1, 0, 1, 1, 0])\n",
            "tensor([0, 0, 0, 0, 0, 1, 0, 0])\n"
          ]
        },
        {
          "metadata": {
            "tags": null
          },
          "name": "stderr",
          "output_type": "stream",
          "text": [
            "\r 10%|█         | 53/525 [02:50<26:02,  3.31s/it]"
          ]
        },
        {
          "metadata": {
            "tags": null
          },
          "name": "stdout",
          "output_type": "stream",
          "text": [
            "tensor([[ 1.7489, -1.0360],\n",
            "        [ 0.4174, -0.0615],\n",
            "        [ 1.5853, -1.0200],\n",
            "        [ 1.6730, -1.2173],\n",
            "        [ 1.0792, -0.7308],\n",
            "        [ 1.6203, -1.2374],\n",
            "        [ 1.2444, -0.7127],\n",
            "        [ 0.8709, -0.4562]], grad_fn=<AddmmBackward0>)\n",
            "tensor([1, 1, 0, 0, 1, 0, 1, 0])\n",
            "tensor([0, 0, 0, 0, 0, 0, 0, 0])\n"
          ]
        },
        {
          "metadata": {
            "tags": null
          },
          "name": "stderr",
          "output_type": "stream",
          "text": [
            "\r 10%|█         | 54/525 [02:53<25:24,  3.24s/it]"
          ]
        },
        {
          "metadata": {
            "tags": null
          },
          "name": "stdout",
          "output_type": "stream",
          "text": [
            "tensor([[-0.2347,  0.3154],\n",
            "        [ 0.7365, -0.1817],\n",
            "        [-1.4445,  1.2983],\n",
            "        [-0.7217,  0.2983],\n",
            "        [-0.3585,  0.4404],\n",
            "        [ 1.4992, -1.1532],\n",
            "        [ 1.3938, -0.7875],\n",
            "        [-1.5893,  1.2418]], grad_fn=<AddmmBackward0>)\n",
            "tensor([1, 0, 1, 1, 1, 0, 0, 1])\n",
            "tensor([1, 0, 1, 1, 1, 0, 0, 1])\n"
          ]
        },
        {
          "metadata": {
            "tags": null
          },
          "name": "stderr",
          "output_type": "stream",
          "text": [
            "\r 10%|█         | 55/525 [02:56<25:00,  3.19s/it]"
          ]
        },
        {
          "metadata": {
            "tags": null
          },
          "name": "stdout",
          "output_type": "stream",
          "text": [
            "tensor([[ 1.2246, -0.4880],\n",
            "        [-1.1772,  0.9754],\n",
            "        [ 1.3574, -0.7775],\n",
            "        [ 0.0860,  0.1023],\n",
            "        [ 1.5737, -1.2833],\n",
            "        [-1.2372,  1.0729],\n",
            "        [ 0.5723,  0.1075],\n",
            "        [-1.0416,  0.7196]], grad_fn=<AddmmBackward0>)\n",
            "tensor([0, 1, 0, 0, 0, 1, 0, 1])\n",
            "tensor([0, 1, 0, 1, 0, 1, 0, 1])\n"
          ]
        },
        {
          "metadata": {
            "tags": null
          },
          "name": "stderr",
          "output_type": "stream",
          "text": [
            "\r 11%|█         | 56/525 [03:00<24:55,  3.19s/it]"
          ]
        },
        {
          "metadata": {
            "tags": null
          },
          "name": "stdout",
          "output_type": "stream",
          "text": [
            "tensor([[ 1.4228, -0.6089],\n",
            "        [-0.8652,  0.5735],\n",
            "        [ 0.2901, -0.1344],\n",
            "        [-1.6941,  1.2468],\n",
            "        [ 1.1231, -0.7816],\n",
            "        [-0.3900,  0.2559],\n",
            "        [-0.8905,  0.6596],\n",
            "        [-1.3999,  1.2211]], grad_fn=<AddmmBackward0>)\n",
            "tensor([0, 0, 0, 1, 0, 1, 0, 1])\n",
            "tensor([0, 1, 0, 1, 0, 1, 1, 1])\n"
          ]
        },
        {
          "metadata": {
            "tags": null
          },
          "name": "stderr",
          "output_type": "stream",
          "text": [
            "\r 11%|█         | 57/525 [03:03<25:06,  3.22s/it]"
          ]
        },
        {
          "metadata": {
            "tags": null
          },
          "name": "stdout",
          "output_type": "stream",
          "text": [
            "tensor([[-1.2214,  0.7387],\n",
            "        [-1.6451,  1.4756],\n",
            "        [-1.3986,  1.3832],\n",
            "        [ 0.8188, -0.6850],\n",
            "        [-1.2520,  1.0362],\n",
            "        [-0.2743,  0.3207],\n",
            "        [-1.7516,  1.6146],\n",
            "        [-0.6412,  0.3237]], grad_fn=<AddmmBackward0>)\n",
            "tensor([1, 1, 1, 0, 1, 1, 1, 0])\n",
            "tensor([1, 1, 1, 0, 1, 1, 1, 1])\n"
          ]
        },
        {
          "metadata": {
            "tags": null
          },
          "name": "stderr",
          "output_type": "stream",
          "text": [
            "\r 11%|█         | 58/525 [03:06<25:30,  3.28s/it]"
          ]
        },
        {
          "metadata": {
            "tags": null
          },
          "name": "stdout",
          "output_type": "stream",
          "text": [
            "tensor([[ 1.5010, -0.8036],\n",
            "        [ 0.0462,  0.0083],\n",
            "        [ 0.4268, -0.2008],\n",
            "        [-0.8100,  0.6991],\n",
            "        [ 1.3259, -0.9662],\n",
            "        [-1.4251,  1.2275],\n",
            "        [ 1.5956, -0.9371],\n",
            "        [-0.5119,  0.3063]], grad_fn=<AddmmBackward0>)\n",
            "tensor([0, 0, 0, 1, 0, 1, 0, 1])\n",
            "tensor([0, 0, 0, 1, 0, 1, 0, 1])\n"
          ]
        },
        {
          "metadata": {
            "tags": null
          },
          "name": "stderr",
          "output_type": "stream",
          "text": [
            "\r 11%|█         | 59/525 [03:09<24:28,  3.15s/it]"
          ]
        },
        {
          "metadata": {
            "tags": null
          },
          "name": "stdout",
          "output_type": "stream",
          "text": [
            "tensor([[ 5.4045e-01,  1.2309e-02],\n",
            "        [ 6.8574e-01, -2.1435e-01],\n",
            "        [-1.5027e+00,  9.6025e-01],\n",
            "        [ 1.6032e+00, -1.1989e+00],\n",
            "        [-6.9080e-01,  3.0808e-01],\n",
            "        [-1.0912e+00,  1.0280e+00],\n",
            "        [ 3.3909e-01,  4.2273e-04],\n",
            "        [-7.6421e-01,  6.3196e-01]], grad_fn=<AddmmBackward0>)\n",
            "tensor([0, 0, 1, 0, 0, 1, 0, 1])\n",
            "tensor([0, 0, 1, 0, 1, 1, 0, 1])\n"
          ]
        },
        {
          "metadata": {
            "tags": null
          },
          "name": "stderr",
          "output_type": "stream",
          "text": [
            "\r 11%|█▏        | 60/525 [03:12<23:31,  3.04s/it]"
          ]
        },
        {
          "metadata": {
            "tags": null
          },
          "name": "stdout",
          "output_type": "stream",
          "text": [
            "tensor([[-0.4303,  0.2316],\n",
            "        [ 0.3246, -0.0279],\n",
            "        [-1.2209,  1.0746],\n",
            "        [-1.3870,  0.9983],\n",
            "        [ 0.5834, -0.3705],\n",
            "        [ 1.0293, -0.6804],\n",
            "        [-1.5408,  1.2753],\n",
            "        [-1.3705,  1.1758]], grad_fn=<AddmmBackward0>)\n",
            "tensor([1, 0, 1, 1, 0, 0, 1, 1])\n",
            "tensor([1, 0, 1, 1, 0, 0, 1, 1])\n"
          ]
        },
        {
          "metadata": {
            "tags": null
          },
          "name": "stderr",
          "output_type": "stream",
          "text": [
            "\r 12%|█▏        | 61/525 [03:15<23:54,  3.09s/it]"
          ]
        },
        {
          "metadata": {
            "tags": null
          },
          "name": "stdout",
          "output_type": "stream",
          "text": [
            "tensor([[ 1.3709, -1.1438],\n",
            "        [-1.1307,  0.6529],\n",
            "        [-0.6716,  0.3439],\n",
            "        [ 1.0663, -0.9203],\n",
            "        [ 1.0898, -0.8225],\n",
            "        [ 1.8126, -1.1169],\n",
            "        [-1.6873,  1.4263],\n",
            "        [ 1.2041, -0.7271]], grad_fn=<AddmmBackward0>)\n",
            "tensor([0, 1, 1, 0, 0, 0, 1, 0])\n",
            "tensor([0, 1, 1, 0, 0, 0, 1, 0])\n"
          ]
        },
        {
          "metadata": {
            "tags": null
          },
          "name": "stderr",
          "output_type": "stream",
          "text": [
            "\r 12%|█▏        | 62/525 [03:19<24:38,  3.19s/it]"
          ]
        },
        {
          "metadata": {
            "tags": null
          },
          "name": "stdout",
          "output_type": "stream",
          "text": [
            "tensor([[ 0.4977, -0.1538],\n",
            "        [ 1.7773, -1.0452],\n",
            "        [ 1.6302, -1.2732],\n",
            "        [-1.2332,  1.0193],\n",
            "        [-1.3407,  1.1755],\n",
            "        [ 1.9621, -0.9002],\n",
            "        [ 1.6893, -1.1949],\n",
            "        [ 1.7383, -1.2054]], grad_fn=<AddmmBackward0>)\n",
            "tensor([1, 0, 0, 1, 1, 0, 0, 0])\n",
            "tensor([0, 0, 0, 1, 1, 0, 0, 0])\n"
          ]
        },
        {
          "metadata": {
            "tags": null
          },
          "name": "stderr",
          "output_type": "stream",
          "text": [
            "\r 12%|█▏        | 63/525 [03:22<25:04,  3.26s/it]"
          ]
        },
        {
          "metadata": {
            "tags": null
          },
          "name": "stdout",
          "output_type": "stream",
          "text": [
            "tensor([[ 0.1383, -0.1947],\n",
            "        [-1.1545,  0.4135],\n",
            "        [ 1.2719, -0.6187],\n",
            "        [ 1.4506, -0.8373],\n",
            "        [-1.0955,  0.5694],\n",
            "        [ 0.0604,  0.1155],\n",
            "        [ 1.9437, -1.0455],\n",
            "        [-1.6493,  1.1805]], grad_fn=<AddmmBackward0>)\n",
            "tensor([1, 1, 1, 0, 1, 1, 0, 1])\n",
            "tensor([0, 1, 0, 0, 1, 1, 0, 1])\n"
          ]
        },
        {
          "metadata": {
            "tags": null
          },
          "name": "stderr",
          "output_type": "stream",
          "text": [
            "\r 12%|█▏        | 64/525 [03:25<25:03,  3.26s/it]"
          ]
        },
        {
          "metadata": {
            "tags": null
          },
          "name": "stdout",
          "output_type": "stream",
          "text": [
            "tensor([[ 1.6815, -1.2315],\n",
            "        [-1.2550,  1.0694],\n",
            "        [ 1.2396, -0.6320],\n",
            "        [-1.4360,  1.2166],\n",
            "        [ 1.6900, -1.0448],\n",
            "        [ 0.5748, -0.3164],\n",
            "        [-0.9602,  0.7328],\n",
            "        [ 1.5786, -1.1995]], grad_fn=<AddmmBackward0>)\n",
            "tensor([0, 1, 0, 1, 0, 0, 1, 0])\n",
            "tensor([0, 1, 0, 1, 0, 0, 1, 0])\n"
          ]
        },
        {
          "metadata": {
            "tags": null
          },
          "name": "stderr",
          "output_type": "stream",
          "text": [
            "\r 12%|█▏        | 65/525 [03:28<24:24,  3.18s/it]"
          ]
        },
        {
          "metadata": {
            "tags": null
          },
          "name": "stdout",
          "output_type": "stream",
          "text": [
            "tensor([[-1.4560,  1.5626],\n",
            "        [-0.4618,  0.4433],\n",
            "        [ 0.5210, -0.1726],\n",
            "        [ 1.5917, -1.4052],\n",
            "        [ 0.9296, -0.7250],\n",
            "        [-1.1228,  0.8099],\n",
            "        [ 1.4403, -1.1605],\n",
            "        [ 1.5468, -1.3161]], grad_fn=<AddmmBackward0>)\n",
            "tensor([1, 1, 0, 0, 0, 1, 0, 0])\n",
            "tensor([1, 1, 0, 0, 0, 1, 0, 0])\n"
          ]
        },
        {
          "metadata": {
            "tags": null
          },
          "name": "stderr",
          "output_type": "stream",
          "text": [
            "\r 13%|█▎        | 66/525 [03:31<24:15,  3.17s/it]"
          ]
        },
        {
          "metadata": {
            "tags": null
          },
          "name": "stdout",
          "output_type": "stream",
          "text": [
            "tensor([[-1.6200,  1.6012],\n",
            "        [ 1.2810, -0.6277],\n",
            "        [ 1.5732, -1.4760],\n",
            "        [ 1.7044, -1.1175],\n",
            "        [ 1.5293, -1.2242],\n",
            "        [ 1.2849, -0.7220],\n",
            "        [ 1.7865, -1.2466],\n",
            "        [ 1.6062, -1.3834]], grad_fn=<AddmmBackward0>)\n",
            "tensor([1, 0, 0, 0, 0, 0, 0, 0])\n",
            "tensor([1, 0, 0, 0, 0, 0, 0, 0])\n"
          ]
        },
        {
          "metadata": {
            "tags": null
          },
          "name": "stderr",
          "output_type": "stream",
          "text": [
            "\r 13%|█▎        | 67/525 [03:35<24:28,  3.21s/it]"
          ]
        },
        {
          "metadata": {
            "tags": null
          },
          "name": "stdout",
          "output_type": "stream",
          "text": [
            "tensor([[-1.5416,  1.0588],\n",
            "        [ 1.3064, -1.1045],\n",
            "        [ 1.7196, -1.2605],\n",
            "        [-1.8193,  1.6895],\n",
            "        [-1.4102,  1.2417],\n",
            "        [ 1.4050, -1.2108],\n",
            "        [ 1.9139, -1.1821],\n",
            "        [ 1.1785, -0.7980]], grad_fn=<AddmmBackward0>)\n",
            "tensor([1, 1, 0, 1, 1, 0, 0, 0])\n",
            "tensor([1, 0, 0, 1, 1, 0, 0, 0])\n"
          ]
        },
        {
          "metadata": {
            "tags": null
          },
          "name": "stderr",
          "output_type": "stream",
          "text": [
            "\r 13%|█▎        | 68/525 [03:38<24:32,  3.22s/it]"
          ]
        },
        {
          "metadata": {
            "tags": null
          },
          "name": "stdout",
          "output_type": "stream",
          "text": [
            "tensor([[-0.8572,  0.2838],\n",
            "        [-1.0052,  0.4837],\n",
            "        [ 1.6386, -1.5240],\n",
            "        [ 1.0125, -1.0589],\n",
            "        [ 0.9493, -0.5747],\n",
            "        [-1.3487,  1.3385],\n",
            "        [ 1.5297, -0.6115],\n",
            "        [-0.9589,  0.5646]], grad_fn=<AddmmBackward0>)\n",
            "tensor([1, 1, 0, 0, 0, 1, 0, 1])\n",
            "tensor([1, 1, 0, 0, 0, 1, 0, 1])\n"
          ]
        },
        {
          "metadata": {
            "tags": null
          },
          "name": "stderr",
          "output_type": "stream",
          "text": [
            "\r 13%|█▎        | 69/525 [03:41<23:31,  3.09s/it]"
          ]
        },
        {
          "metadata": {
            "tags": null
          },
          "name": "stdout",
          "output_type": "stream",
          "text": [
            "tensor([[ 1.2646, -0.8558],\n",
            "        [ 1.6525, -0.9398],\n",
            "        [-1.4559,  1.3775],\n",
            "        [-1.8982,  1.3266],\n",
            "        [-1.8943,  1.7782],\n",
            "        [ 1.5909, -1.1544],\n",
            "        [ 1.4656, -0.8917],\n",
            "        [ 1.5764, -1.2307]], grad_fn=<AddmmBackward0>)\n",
            "tensor([0, 1, 1, 1, 1, 0, 0, 0])\n",
            "tensor([0, 0, 1, 1, 1, 0, 0, 0])\n"
          ]
        },
        {
          "metadata": {
            "tags": null
          },
          "name": "stderr",
          "output_type": "stream",
          "text": [
            "\r 13%|█▎        | 70/525 [03:44<23:18,  3.07s/it]"
          ]
        },
        {
          "metadata": {
            "tags": null
          },
          "name": "stdout",
          "output_type": "stream",
          "text": [
            "tensor([[ 1.0245, -1.0225],\n",
            "        [-1.6890,  1.4108],\n",
            "        [ 1.7430, -1.0759],\n",
            "        [ 0.3008, -0.3526],\n",
            "        [ 1.5264, -1.3896],\n",
            "        [ 1.7222, -1.4456],\n",
            "        [-1.9524,  1.4493],\n",
            "        [ 1.7474, -1.3703]], grad_fn=<AddmmBackward0>)\n",
            "tensor([0, 1, 0, 0, 0, 0, 1, 0])\n",
            "tensor([0, 1, 0, 0, 0, 0, 1, 0])\n"
          ]
        },
        {
          "metadata": {
            "tags": null
          },
          "name": "stderr",
          "output_type": "stream",
          "text": [
            "\r 14%|█▎        | 71/525 [03:47<23:25,  3.10s/it]"
          ]
        },
        {
          "metadata": {
            "tags": null
          },
          "name": "stdout",
          "output_type": "stream",
          "text": [
            "tensor([[-1.9102,  1.5519],\n",
            "        [-2.1141,  1.4908],\n",
            "        [ 0.8518, -0.7084],\n",
            "        [-1.7627,  1.1611],\n",
            "        [-1.8295,  1.5524],\n",
            "        [-1.7551,  1.5711],\n",
            "        [-1.9062,  1.6126],\n",
            "        [ 1.4476, -1.3440]], grad_fn=<AddmmBackward0>)\n",
            "tensor([1, 1, 0, 1, 1, 1, 1, 0])\n",
            "tensor([1, 1, 0, 1, 1, 1, 1, 0])\n"
          ]
        },
        {
          "metadata": {
            "tags": null
          },
          "name": "stderr",
          "output_type": "stream",
          "text": [
            "\r 14%|█▎        | 72/525 [03:50<23:44,  3.14s/it]"
          ]
        },
        {
          "metadata": {
            "tags": null
          },
          "name": "stdout",
          "output_type": "stream",
          "text": [
            "tensor([[-2.0398,  1.5791],\n",
            "        [-1.8255,  1.6835],\n",
            "        [ 1.4547, -1.2358],\n",
            "        [ 1.0665, -1.2103],\n",
            "        [-1.9446,  1.7025],\n",
            "        [-1.7415,  1.4477],\n",
            "        [-1.7223,  1.0193],\n",
            "        [-1.9057,  1.3454]], grad_fn=<AddmmBackward0>)\n",
            "tensor([1, 1, 0, 0, 1, 1, 0, 1])\n",
            "tensor([1, 1, 0, 0, 1, 1, 1, 1])\n"
          ]
        },
        {
          "metadata": {
            "tags": null
          },
          "name": "stderr",
          "output_type": "stream",
          "text": [
            "\r 14%|█▍        | 73/525 [03:53<23:42,  3.15s/it]"
          ]
        },
        {
          "metadata": {
            "tags": null
          },
          "name": "stdout",
          "output_type": "stream",
          "text": [
            "tensor([[ 1.2148, -1.0333],\n",
            "        [-0.0859, -0.1271],\n",
            "        [ 1.5231, -1.2121],\n",
            "        [-1.7329,  1.3933],\n",
            "        [ 1.3287, -1.0291],\n",
            "        [-1.1625,  0.7272],\n",
            "        [ 1.1105, -0.7386],\n",
            "        [ 0.9895, -0.7995]], grad_fn=<AddmmBackward0>)\n",
            "tensor([0, 0, 0, 1, 0, 0, 0, 0])\n",
            "tensor([0, 0, 0, 1, 0, 1, 0, 0])\n"
          ]
        },
        {
          "metadata": {
            "tags": null
          },
          "name": "stderr",
          "output_type": "stream",
          "text": [
            "\r 14%|█▍        | 74/525 [03:56<23:43,  3.16s/it]"
          ]
        },
        {
          "metadata": {
            "tags": null
          },
          "name": "stdout",
          "output_type": "stream",
          "text": [
            "tensor([[ 1.7212, -1.3307],\n",
            "        [-1.1590,  0.5810],\n",
            "        [ 1.4950, -1.2945],\n",
            "        [ 1.6760, -1.2953],\n",
            "        [ 1.9454, -1.1559],\n",
            "        [ 1.6253, -1.2373],\n",
            "        [-1.9305,  1.9471],\n",
            "        [-1.5622,  1.4802]], grad_fn=<AddmmBackward0>)\n",
            "tensor([0, 1, 0, 0, 0, 0, 1, 1])\n",
            "tensor([0, 1, 0, 0, 0, 0, 1, 1])\n"
          ]
        },
        {
          "metadata": {
            "tags": null
          },
          "name": "stderr",
          "output_type": "stream",
          "text": [
            "\r 14%|█▍        | 75/525 [03:59<22:12,  2.96s/it]"
          ]
        },
        {
          "metadata": {
            "tags": null
          },
          "name": "stdout",
          "output_type": "stream",
          "text": [
            "tensor([[-1.8404,  1.2682],\n",
            "        [ 1.6293, -1.2745],\n",
            "        [-1.7477,  1.4950],\n",
            "        [-1.8071,  1.5620],\n",
            "        [-1.7877,  1.4889],\n",
            "        [ 1.5385, -1.4250],\n",
            "        [ 0.7405, -0.5640],\n",
            "        [ 1.8908, -1.2349]], grad_fn=<AddmmBackward0>)\n",
            "tensor([1, 0, 1, 1, 1, 0, 0, 0])\n",
            "tensor([1, 0, 1, 1, 1, 0, 0, 0])\n"
          ]
        },
        {
          "metadata": {
            "tags": null
          },
          "name": "stderr",
          "output_type": "stream",
          "text": [
            "\r 14%|█▍        | 76/525 [04:02<22:08,  2.96s/it]"
          ]
        },
        {
          "metadata": {
            "tags": null
          },
          "name": "stdout",
          "output_type": "stream",
          "text": [
            "tensor([[-1.1376,  0.7312],\n",
            "        [ 1.5481, -1.1460],\n",
            "        [ 1.9325, -1.6257],\n",
            "        [ 1.9000, -1.6410],\n",
            "        [-1.7753,  1.5372],\n",
            "        [ 0.8363, -1.1555],\n",
            "        [ 1.9328, -1.1802],\n",
            "        [ 1.6757, -1.5154]], grad_fn=<AddmmBackward0>)\n",
            "tensor([1, 0, 0, 0, 1, 1, 0, 0])\n",
            "tensor([1, 0, 0, 0, 1, 0, 0, 0])\n"
          ]
        },
        {
          "metadata": {
            "tags": null
          },
          "name": "stderr",
          "output_type": "stream",
          "text": [
            "\r 15%|█▍        | 77/525 [04:05<22:47,  3.05s/it]"
          ]
        },
        {
          "metadata": {
            "tags": null
          },
          "name": "stdout",
          "output_type": "stream",
          "text": [
            "tensor([[-2.2422,  1.5779],\n",
            "        [ 1.1175, -0.8623],\n",
            "        [-1.9495,  1.3253],\n",
            "        [ 1.7676, -1.3664],\n",
            "        [ 1.9348, -1.6463],\n",
            "        [-1.2200,  0.9095],\n",
            "        [ 1.8389, -1.4020],\n",
            "        [ 1.2653, -1.1287]], grad_fn=<AddmmBackward0>)\n",
            "tensor([1, 1, 1, 0, 0, 1, 0, 1])\n",
            "tensor([1, 0, 1, 0, 0, 1, 0, 0])\n"
          ]
        },
        {
          "metadata": {
            "tags": null
          },
          "name": "stderr",
          "output_type": "stream",
          "text": [
            "\r 15%|█▍        | 78/525 [04:09<23:59,  3.22s/it]"
          ]
        },
        {
          "metadata": {
            "tags": null
          },
          "name": "stdout",
          "output_type": "stream",
          "text": [
            "tensor([[-1.3371,  1.0579],\n",
            "        [-1.4392,  1.0297],\n",
            "        [ 0.0795, -0.5089],\n",
            "        [-1.6516,  1.2045],\n",
            "        [ 2.1554, -1.3401],\n",
            "        [ 0.7761, -0.8753],\n",
            "        [ 1.4424, -1.3775],\n",
            "        [-0.4959,  0.1881]], grad_fn=<AddmmBackward0>)\n",
            "tensor([1, 1, 1, 1, 0, 0, 1, 1])\n",
            "tensor([1, 1, 0, 1, 0, 0, 0, 1])\n"
          ]
        },
        {
          "metadata": {
            "tags": null
          },
          "name": "stderr",
          "output_type": "stream",
          "text": [
            "\r 15%|█▌        | 79/525 [04:12<23:30,  3.16s/it]"
          ]
        },
        {
          "metadata": {
            "tags": null
          },
          "name": "stdout",
          "output_type": "stream",
          "text": [
            "tensor([[-1.9157,  1.5864],\n",
            "        [ 1.5757, -1.6507],\n",
            "        [-1.5945,  1.3817],\n",
            "        [-1.9064,  1.6253],\n",
            "        [ 1.9639, -1.4085],\n",
            "        [ 1.8889, -1.6324],\n",
            "        [-1.8037,  1.4033],\n",
            "        [ 0.7885, -0.7485]], grad_fn=<AddmmBackward0>)\n",
            "tensor([1, 0, 1, 1, 0, 0, 1, 1])\n",
            "tensor([1, 0, 1, 1, 0, 0, 1, 0])\n"
          ]
        },
        {
          "metadata": {
            "tags": null
          },
          "name": "stderr",
          "output_type": "stream",
          "text": [
            "\r 15%|█▌        | 80/525 [04:15<23:17,  3.14s/it]"
          ]
        },
        {
          "metadata": {
            "tags": null
          },
          "name": "stdout",
          "output_type": "stream",
          "text": [
            "tensor([[ 1.1867, -1.2222],\n",
            "        [ 1.4377, -1.3517],\n",
            "        [ 1.8735, -1.3803],\n",
            "        [ 1.7584, -1.5186],\n",
            "        [-1.7293,  1.7935],\n",
            "        [ 0.8597, -0.6465],\n",
            "        [ 1.5985, -1.4465],\n",
            "        [-1.5853,  1.5738]], grad_fn=<AddmmBackward0>)\n",
            "tensor([0, 1, 0, 0, 1, 1, 0, 1])\n",
            "tensor([0, 0, 0, 0, 1, 0, 0, 1])\n"
          ]
        },
        {
          "metadata": {
            "tags": null
          },
          "name": "stderr",
          "output_type": "stream",
          "text": [
            "\r 15%|█▌        | 81/525 [04:18<23:17,  3.15s/it]"
          ]
        },
        {
          "metadata": {
            "tags": null
          },
          "name": "stdout",
          "output_type": "stream",
          "text": [
            "tensor([[-1.7074,  1.4167],\n",
            "        [ 1.0077, -1.1354],\n",
            "        [-2.0248,  1.8883],\n",
            "        [-1.6145,  0.6514],\n",
            "        [-1.8065,  1.5412],\n",
            "        [-1.7004,  1.4263],\n",
            "        [-1.6307,  1.5023],\n",
            "        [-1.3230,  0.8673]], grad_fn=<AddmmBackward0>)\n",
            "tensor([1, 0, 1, 0, 0, 1, 1, 0])\n",
            "tensor([1, 0, 1, 1, 1, 1, 1, 1])\n"
          ]
        },
        {
          "metadata": {
            "tags": null
          },
          "name": "stderr",
          "output_type": "stream",
          "text": [
            "\r 16%|█▌        | 82/525 [04:21<23:35,  3.20s/it]"
          ]
        },
        {
          "metadata": {
            "tags": null
          },
          "name": "stdout",
          "output_type": "stream",
          "text": [
            "tensor([[-1.8466,  1.7498],\n",
            "        [-1.9362,  1.6727],\n",
            "        [-0.8244,  0.1915],\n",
            "        [-2.0746,  1.6718],\n",
            "        [ 0.8580, -1.0975],\n",
            "        [-1.6854,  1.5696],\n",
            "        [-1.9237,  1.4629],\n",
            "        [-2.1401,  1.5482]], grad_fn=<AddmmBackward0>)\n",
            "tensor([1, 1, 0, 1, 0, 1, 1, 0])\n",
            "tensor([1, 1, 1, 1, 0, 1, 1, 1])\n"
          ]
        },
        {
          "metadata": {
            "tags": null
          },
          "name": "stderr",
          "output_type": "stream",
          "text": [
            "\r 16%|█▌        | 83/525 [04:24<22:54,  3.11s/it]"
          ]
        },
        {
          "metadata": {
            "tags": null
          },
          "name": "stdout",
          "output_type": "stream",
          "text": [
            "tensor([[-1.4006,  1.1194],\n",
            "        [-0.1866, -0.1792],\n",
            "        [ 0.5793, -0.8366],\n",
            "        [-0.1287, -0.4249],\n",
            "        [-1.8361,  1.5688],\n",
            "        [-1.7047,  1.5855],\n",
            "        [-1.9654,  1.3820],\n",
            "        [-0.6919, -0.0882]], grad_fn=<AddmmBackward0>)\n",
            "tensor([1, 0, 0, 0, 1, 0, 1, 1])\n",
            "tensor([1, 1, 0, 0, 1, 1, 1, 1])\n"
          ]
        },
        {
          "metadata": {
            "tags": null
          },
          "name": "stderr",
          "output_type": "stream",
          "text": [
            "\r 16%|█▌        | 84/525 [04:27<23:02,  3.13s/it]"
          ]
        },
        {
          "metadata": {
            "tags": null
          },
          "name": "stdout",
          "output_type": "stream",
          "text": [
            "tensor([[-1.7460,  1.2663],\n",
            "        [-1.0422,  0.2067],\n",
            "        [ 0.5308, -0.6228],\n",
            "        [-0.3172,  0.1480],\n",
            "        [-1.6447,  1.2667],\n",
            "        [-1.0666,  1.0123],\n",
            "        [ 0.0382, -0.5641],\n",
            "        [-1.3229,  0.6135]], grad_fn=<AddmmBackward0>)\n",
            "tensor([1, 0, 0, 0, 1, 1, 0, 0])\n",
            "tensor([1, 1, 0, 1, 1, 1, 0, 1])\n"
          ]
        },
        {
          "metadata": {
            "tags": null
          },
          "name": "stderr",
          "output_type": "stream",
          "text": [
            "\r 16%|█▌        | 85/525 [04:31<23:10,  3.16s/it]"
          ]
        },
        {
          "metadata": {
            "tags": null
          },
          "name": "stdout",
          "output_type": "stream",
          "text": [
            "tensor([[-1.6590,  1.5423],\n",
            "        [-1.0775,  0.2880],\n",
            "        [-1.7808,  1.4981],\n",
            "        [-1.9186,  1.4882],\n",
            "        [-1.5306,  1.2745],\n",
            "        [ 0.6497, -0.8775],\n",
            "        [ 0.5242, -0.7734],\n",
            "        [-1.7464,  1.4811]], grad_fn=<AddmmBackward0>)\n",
            "tensor([1, 0, 1, 1, 0, 0, 0, 1])\n",
            "tensor([1, 1, 1, 1, 1, 0, 0, 1])\n"
          ]
        },
        {
          "metadata": {
            "tags": null
          },
          "name": "stderr",
          "output_type": "stream",
          "text": [
            "\r 16%|█▋        | 86/525 [04:34<23:35,  3.22s/it]"
          ]
        },
        {
          "metadata": {
            "tags": null
          },
          "name": "stdout",
          "output_type": "stream",
          "text": [
            "tensor([[-1.5557,  0.9757],\n",
            "        [ 1.1126, -1.1774],\n",
            "        [-1.8535,  1.5201],\n",
            "        [-0.1980, -0.1552],\n",
            "        [-1.6409,  1.4439],\n",
            "        [-1.3088,  0.9874],\n",
            "        [ 0.2319, -0.2801],\n",
            "        [-1.6336,  1.4784]], grad_fn=<AddmmBackward0>)\n",
            "tensor([1, 0, 1, 0, 1, 0, 0, 1])\n",
            "tensor([1, 0, 1, 1, 1, 1, 0, 1])\n"
          ]
        },
        {
          "metadata": {
            "tags": null
          },
          "name": "stderr",
          "output_type": "stream",
          "text": [
            "\r 17%|█▋        | 87/525 [04:38<24:04,  3.30s/it]"
          ]
        },
        {
          "metadata": {
            "tags": null
          },
          "name": "stdout",
          "output_type": "stream",
          "text": [
            "tensor([[ 1.0133, -0.8454],\n",
            "        [ 0.7266, -0.9917],\n",
            "        [-1.3932,  0.8904],\n",
            "        [-0.8553,  0.3551],\n",
            "        [-1.2199,  0.7659],\n",
            "        [ 0.3732, -0.8229],\n",
            "        [ 0.0383, -0.4442],\n",
            "        [-0.9452,  0.5025]], grad_fn=<AddmmBackward0>)\n",
            "tensor([0, 0, 1, 1, 1, 0, 1, 1])\n",
            "tensor([0, 0, 1, 1, 1, 0, 0, 1])\n"
          ]
        },
        {
          "metadata": {
            "tags": null
          },
          "name": "stderr",
          "output_type": "stream",
          "text": [
            "\r 17%|█▋        | 88/525 [04:41<23:22,  3.21s/it]"
          ]
        },
        {
          "metadata": {
            "tags": null
          },
          "name": "stdout",
          "output_type": "stream",
          "text": [
            "tensor([[ 1.4122, -1.0166],\n",
            "        [-1.2997,  0.7903],\n",
            "        [ 1.2972, -1.2593],\n",
            "        [-0.6056, -0.0926],\n",
            "        [-1.2940,  1.0578],\n",
            "        [ 1.2122, -1.1991],\n",
            "        [-1.4129,  0.9985],\n",
            "        [ 0.2501, -0.6028]], grad_fn=<AddmmBackward0>)\n",
            "tensor([0, 1, 0, 1, 1, 1, 1, 1])\n",
            "tensor([0, 1, 0, 1, 1, 0, 1, 0])\n"
          ]
        },
        {
          "metadata": {
            "tags": null
          },
          "name": "stderr",
          "output_type": "stream",
          "text": [
            "\r 17%|█▋        | 89/525 [04:44<23:10,  3.19s/it]"
          ]
        },
        {
          "metadata": {
            "tags": null
          },
          "name": "stdout",
          "output_type": "stream",
          "text": [
            "tensor([[ 1.4243, -1.1579],\n",
            "        [ 1.4530, -1.1880],\n",
            "        [ 0.9203, -1.1801],\n",
            "        [-1.3726,  1.0707],\n",
            "        [ 1.6480, -1.4036],\n",
            "        [ 1.3225, -1.3421],\n",
            "        [ 1.1830, -1.4899],\n",
            "        [-0.2794, -0.4565]], grad_fn=<AddmmBackward0>)\n",
            "tensor([0, 0, 0, 1, 0, 0, 0, 1])\n",
            "tensor([0, 0, 0, 1, 0, 0, 0, 0])\n"
          ]
        },
        {
          "metadata": {
            "tags": null
          },
          "name": "stderr",
          "output_type": "stream",
          "text": [
            "\r 17%|█▋        | 90/525 [04:47<23:13,  3.20s/it]"
          ]
        },
        {
          "metadata": {
            "tags": null
          },
          "name": "stdout",
          "output_type": "stream",
          "text": [
            "tensor([[ 1.5351, -1.2241],\n",
            "        [ 1.1504, -1.3044],\n",
            "        [ 0.0678, -0.3767],\n",
            "        [ 1.0662, -1.1481],\n",
            "        [ 1.2339, -1.3162],\n",
            "        [ 1.3502, -1.2391],\n",
            "        [ 1.0323, -1.2592],\n",
            "        [ 1.2369, -1.3969]], grad_fn=<AddmmBackward0>)\n",
            "tensor([0, 0, 1, 0, 0, 0, 0, 0])\n",
            "tensor([0, 0, 0, 0, 0, 0, 0, 0])\n"
          ]
        },
        {
          "metadata": {
            "tags": null
          },
          "name": "stderr",
          "output_type": "stream",
          "text": [
            "\r 17%|█▋        | 91/525 [04:50<23:18,  3.22s/it]"
          ]
        },
        {
          "metadata": {
            "tags": null
          },
          "name": "stdout",
          "output_type": "stream",
          "text": [
            "tensor([[ 0.9493, -1.2522],\n",
            "        [ 0.1591, -0.7234],\n",
            "        [-0.7704,  0.5194],\n",
            "        [-0.2284, -0.3567],\n",
            "        [ 1.0763, -1.2901],\n",
            "        [ 1.2819, -1.3236],\n",
            "        [ 1.1353, -1.1901],\n",
            "        [ 1.0261, -0.9086]], grad_fn=<AddmmBackward0>)\n",
            "tensor([0, 1, 1, 1, 0, 0, 0, 0])\n",
            "tensor([0, 0, 1, 0, 0, 0, 0, 0])\n"
          ]
        },
        {
          "metadata": {
            "tags": null
          },
          "name": "stderr",
          "output_type": "stream",
          "text": [
            "\r 18%|█▊        | 92/525 [04:54<23:34,  3.27s/it]"
          ]
        },
        {
          "metadata": {
            "tags": null
          },
          "name": "stdout",
          "output_type": "stream",
          "text": [
            "tensor([[ 0.5326, -0.9463],\n",
            "        [ 1.2484, -1.2202],\n",
            "        [-1.2199,  1.0008],\n",
            "        [ 0.4791, -0.6377],\n",
            "        [ 1.1715, -1.0419],\n",
            "        [ 0.8047, -1.0270],\n",
            "        [-1.0829,  0.8106],\n",
            "        [-1.1588,  0.5796]], grad_fn=<AddmmBackward0>)\n",
            "tensor([0, 0, 1, 1, 1, 0, 1, 0])\n",
            "tensor([0, 0, 1, 0, 0, 0, 1, 1])\n"
          ]
        },
        {
          "metadata": {
            "tags": null
          },
          "name": "stderr",
          "output_type": "stream",
          "text": [
            "\r 18%|█▊        | 93/525 [04:57<23:04,  3.21s/it]"
          ]
        },
        {
          "metadata": {
            "tags": null
          },
          "name": "stdout",
          "output_type": "stream",
          "text": [
            "tensor([[-0.9398,  0.3000],\n",
            "        [-1.1825,  0.7645],\n",
            "        [-0.9746,  0.4745],\n",
            "        [ 0.8487, -0.8836],\n",
            "        [ 0.9464, -1.1916],\n",
            "        [ 0.5176, -0.7313],\n",
            "        [-0.9145,  0.3000],\n",
            "        [-0.9834,  0.1706]], grad_fn=<AddmmBackward0>)\n",
            "tensor([1, 1, 1, 0, 0, 0, 1, 1])\n",
            "tensor([1, 1, 1, 0, 0, 0, 1, 1])\n"
          ]
        },
        {
          "metadata": {
            "tags": null
          },
          "name": "stderr",
          "output_type": "stream",
          "text": [
            "\r 18%|█▊        | 94/525 [05:00<23:04,  3.21s/it]"
          ]
        },
        {
          "metadata": {
            "tags": null
          },
          "name": "stdout",
          "output_type": "stream",
          "text": [
            "tensor([[ 1.2850, -1.0039],\n",
            "        [-1.2568,  1.2342],\n",
            "        [-0.6179,  0.5623],\n",
            "        [-0.6294,  0.1149],\n",
            "        [-0.7043, -0.1487],\n",
            "        [-0.9894,  0.2849],\n",
            "        [ 0.8271, -1.1695],\n",
            "        [-1.3831,  0.4637]], grad_fn=<AddmmBackward0>)\n",
            "tensor([0, 1, 1, 1, 1, 1, 0, 1])\n",
            "tensor([0, 1, 1, 1, 1, 1, 0, 1])\n"
          ]
        },
        {
          "metadata": {
            "tags": null
          },
          "name": "stderr",
          "output_type": "stream",
          "text": [
            "\r 18%|█▊        | 95/525 [05:03<23:00,  3.21s/it]"
          ]
        },
        {
          "metadata": {
            "tags": null
          },
          "name": "stdout",
          "output_type": "stream",
          "text": [
            "tensor([[ 1.0405, -1.0308],\n",
            "        [-0.6364,  0.0184],\n",
            "        [-0.9606,  0.5995],\n",
            "        [-0.2690, -0.2593],\n",
            "        [-0.8925,  0.5689],\n",
            "        [ 0.2120, -0.5110],\n",
            "        [ 1.0364, -0.9009],\n",
            "        [ 0.7671, -0.9151]], grad_fn=<AddmmBackward0>)\n",
            "tensor([0, 1, 1, 0, 1, 1, 0, 0])\n",
            "tensor([0, 1, 1, 1, 1, 0, 0, 0])\n"
          ]
        },
        {
          "metadata": {
            "tags": null
          },
          "name": "stderr",
          "output_type": "stream",
          "text": [
            "\r 18%|█▊        | 96/525 [05:06<23:14,  3.25s/it]"
          ]
        },
        {
          "metadata": {
            "tags": null
          },
          "name": "stdout",
          "output_type": "stream",
          "text": [
            "tensor([[-0.8790,  0.6778],\n",
            "        [ 0.8070, -1.1477],\n",
            "        [-0.9971,  0.4912],\n",
            "        [-1.0805,  0.7087],\n",
            "        [-0.3650, -0.0851],\n",
            "        [-1.1718,  0.2881],\n",
            "        [-1.6078,  0.9585],\n",
            "        [ 0.8670, -0.9220]], grad_fn=<AddmmBackward0>)\n",
            "tensor([1, 0, 1, 1, 0, 1, 1, 0])\n",
            "tensor([1, 0, 1, 1, 1, 1, 1, 0])\n"
          ]
        },
        {
          "metadata": {
            "tags": null
          },
          "name": "stderr",
          "output_type": "stream",
          "text": [
            "\r 18%|█▊        | 97/525 [05:10<23:08,  3.24s/it]"
          ]
        },
        {
          "metadata": {
            "tags": null
          },
          "name": "stdout",
          "output_type": "stream",
          "text": [
            "tensor([[-0.2722, -0.2915],\n",
            "        [-0.5116, -0.2916],\n",
            "        [-1.2410,  0.4065],\n",
            "        [-1.2463,  0.8940],\n",
            "        [ 0.5426, -0.6979],\n",
            "        [-0.6712, -0.0059],\n",
            "        [-0.5374,  0.1531],\n",
            "        [-1.0083,  0.7231]], grad_fn=<AddmmBackward0>)\n",
            "tensor([0, 1, 0, 1, 0, 1, 1, 1])\n",
            "tensor([0, 1, 1, 1, 0, 1, 1, 1])\n"
          ]
        },
        {
          "metadata": {
            "tags": null
          },
          "name": "stderr",
          "output_type": "stream",
          "text": [
            "\r 19%|█▊        | 98/525 [05:13<22:38,  3.18s/it]"
          ]
        },
        {
          "metadata": {
            "tags": null
          },
          "name": "stdout",
          "output_type": "stream",
          "text": [
            "tensor([[-1.0422,  0.7411],\n",
            "        [-1.0948,  0.2232],\n",
            "        [-1.3986,  1.1195],\n",
            "        [ 0.8836, -1.2667],\n",
            "        [-1.4450,  0.7020],\n",
            "        [-1.3306,  0.8964],\n",
            "        [ 0.8722, -0.9399],\n",
            "        [-0.1206, -0.4204]], grad_fn=<AddmmBackward0>)\n",
            "tensor([1, 0, 1, 0, 1, 1, 0, 1])\n",
            "tensor([1, 1, 1, 0, 1, 1, 0, 0])\n"
          ]
        },
        {
          "metadata": {
            "tags": null
          },
          "name": "stderr",
          "output_type": "stream",
          "text": [
            "\r 19%|█▉        | 99/525 [05:16<22:26,  3.16s/it]"
          ]
        },
        {
          "metadata": {
            "tags": null
          },
          "name": "stdout",
          "output_type": "stream",
          "text": [
            "tensor([[ 0.3656, -0.9372],\n",
            "        [ 0.7669, -1.2707],\n",
            "        [-1.0422,  0.4699],\n",
            "        [-1.2138,  0.8961],\n",
            "        [-1.2400,  0.5479],\n",
            "        [-1.0734,  0.8403],\n",
            "        [ 1.2064, -1.1352],\n",
            "        [-0.0760, -0.2742]], grad_fn=<AddmmBackward0>)\n",
            "tensor([0, 0, 0, 1, 1, 1, 0, 1])\n",
            "tensor([0, 0, 1, 1, 1, 1, 0, 0])\n"
          ]
        },
        {
          "metadata": {
            "tags": null
          },
          "name": "stderr",
          "output_type": "stream",
          "text": [
            "\r 19%|█▉        | 100/525 [05:19<22:08,  3.13s/it]"
          ]
        },
        {
          "metadata": {
            "tags": null
          },
          "name": "stdout",
          "output_type": "stream",
          "text": [
            "tensor([[-0.9924,  0.7771],\n",
            "        [-1.2115,  0.6530],\n",
            "        [ 0.8302, -0.8373],\n",
            "        [-0.7180,  0.2416],\n",
            "        [-0.4263, -0.1586],\n",
            "        [-0.2278, -0.3653],\n",
            "        [-1.1941,  0.6806],\n",
            "        [-1.1466,  0.9614]], grad_fn=<AddmmBackward0>)\n",
            "tensor([1, 0, 0, 1, 0, 0, 1, 1])\n",
            "tensor([1, 1, 0, 1, 1, 0, 1, 1])\n"
          ]
        },
        {
          "metadata": {
            "tags": null
          },
          "name": "stderr",
          "output_type": "stream",
          "text": [
            "\r 19%|█▉        | 101/525 [05:22<22:43,  3.22s/it]"
          ]
        },
        {
          "metadata": {
            "tags": null
          },
          "name": "stdout",
          "output_type": "stream",
          "text": [
            "tensor([[-1.3818,  1.2761],\n",
            "        [ 0.3994, -0.4902],\n",
            "        [-1.4004,  1.0476],\n",
            "        [-1.3423,  0.9759],\n",
            "        [-0.1582, -0.2703],\n",
            "        [ 1.0173, -1.1172],\n",
            "        [-0.2149, -0.5444],\n",
            "        [-0.7739,  0.4666]], grad_fn=<AddmmBackward0>)\n",
            "tensor([1, 0, 1, 1, 0, 0, 0, 1])\n",
            "tensor([1, 0, 1, 1, 0, 0, 0, 1])\n"
          ]
        },
        {
          "metadata": {
            "tags": null
          },
          "name": "stderr",
          "output_type": "stream",
          "text": [
            "\r 19%|█▉        | 102/525 [05:26<22:47,  3.23s/it]"
          ]
        },
        {
          "metadata": {
            "tags": null
          },
          "name": "stdout",
          "output_type": "stream",
          "text": [
            "tensor([[ 1.4954, -1.1533],\n",
            "        [ 1.2320, -1.0776],\n",
            "        [-0.0747, -0.3734],\n",
            "        [-0.5103, -0.4023],\n",
            "        [ 0.8410, -1.1273],\n",
            "        [ 0.9200, -1.1555],\n",
            "        [-0.6977,  0.4193],\n",
            "        [ 0.3935, -0.5049]], grad_fn=<AddmmBackward0>)\n",
            "tensor([0, 0, 0, 0, 0, 0, 0, 0])\n",
            "tensor([0, 0, 0, 1, 0, 0, 1, 0])\n"
          ]
        },
        {
          "metadata": {
            "tags": null
          },
          "name": "stderr",
          "output_type": "stream",
          "text": [
            "\r 20%|█▉        | 103/525 [05:29<22:35,  3.21s/it]"
          ]
        },
        {
          "metadata": {
            "tags": null
          },
          "name": "stdout",
          "output_type": "stream",
          "text": [
            "tensor([[ 0.7838, -1.0553],\n",
            "        [-0.6347, -0.1547],\n",
            "        [-1.4430,  1.0916],\n",
            "        [ 1.2522, -1.0403],\n",
            "        [-0.9815,  0.6524],\n",
            "        [-1.3503,  1.0873],\n",
            "        [ 1.5115, -1.4942],\n",
            "        [ 1.2053, -1.1391]], grad_fn=<AddmmBackward0>)\n",
            "tensor([0, 1, 1, 0, 1, 1, 0, 0])\n",
            "tensor([0, 1, 1, 0, 1, 1, 0, 0])\n"
          ]
        },
        {
          "metadata": {
            "tags": null
          },
          "name": "stderr",
          "output_type": "stream",
          "text": [
            "\r 20%|█▉        | 104/525 [05:32<22:20,  3.18s/it]"
          ]
        },
        {
          "metadata": {
            "tags": null
          },
          "name": "stdout",
          "output_type": "stream",
          "text": [
            "tensor([[-1.2105,  0.8956],\n",
            "        [-1.4600,  0.8203],\n",
            "        [-0.4650, -0.0990],\n",
            "        [-1.1296,  0.8255],\n",
            "        [ 1.5685, -1.1674],\n",
            "        [-0.3789, -0.1248],\n",
            "        [ 1.3497, -1.2231],\n",
            "        [-1.2522,  0.5255]], grad_fn=<AddmmBackward0>)\n",
            "tensor([1, 1, 1, 1, 0, 0, 0, 1])\n",
            "tensor([1, 1, 1, 1, 0, 1, 0, 1])\n"
          ]
        },
        {
          "metadata": {
            "tags": null
          },
          "name": "stderr",
          "output_type": "stream",
          "text": [
            "\r 20%|██        | 105/525 [05:35<22:19,  3.19s/it]"
          ]
        },
        {
          "metadata": {
            "tags": null
          },
          "name": "stdout",
          "output_type": "stream",
          "text": [
            "tensor([[-0.8683,  0.7858],\n",
            "        [ 1.5527, -1.3125],\n",
            "        [-0.2021, -0.5484],\n",
            "        [ 0.9019, -0.8782],\n",
            "        [ 0.9184, -0.6594],\n",
            "        [-1.2221,  0.8736],\n",
            "        [-0.4317, -0.5341],\n",
            "        [-1.0863,  0.5486]], grad_fn=<AddmmBackward0>)\n",
            "tensor([1, 0, 1, 1, 0, 1, 0, 1])\n",
            "tensor([1, 0, 0, 0, 0, 1, 0, 1])\n"
          ]
        },
        {
          "metadata": {
            "tags": null
          },
          "name": "stderr",
          "output_type": "stream",
          "text": [
            "\r 20%|██        | 106/525 [05:38<22:37,  3.24s/it]"
          ]
        },
        {
          "metadata": {
            "tags": null
          },
          "name": "stdout",
          "output_type": "stream",
          "text": [
            "tensor([[ 1.7016, -1.1805],\n",
            "        [-0.8748,  0.7298],\n",
            "        [ 1.1599, -1.2699],\n",
            "        [-1.3954,  0.8050],\n",
            "        [-0.4082,  0.0668],\n",
            "        [ 1.1352, -1.1958],\n",
            "        [-1.1738,  0.8545],\n",
            "        [ 1.8392, -1.1460]], grad_fn=<AddmmBackward0>)\n",
            "tensor([0, 1, 0, 1, 0, 0, 1, 0])\n",
            "tensor([0, 1, 0, 1, 1, 0, 1, 0])\n"
          ]
        },
        {
          "metadata": {
            "tags": null
          },
          "name": "stderr",
          "output_type": "stream",
          "text": [
            "\r 20%|██        | 107/525 [05:42<22:30,  3.23s/it]"
          ]
        },
        {
          "metadata": {
            "tags": null
          },
          "name": "stdout",
          "output_type": "stream",
          "text": [
            "tensor([[-0.5759,  0.0655],\n",
            "        [ 1.7186, -1.0994],\n",
            "        [-1.2020,  1.1742],\n",
            "        [-0.2706, -0.3119],\n",
            "        [ 1.8114, -1.3226],\n",
            "        [-1.2914,  0.8850],\n",
            "        [-1.0997,  0.6776],\n",
            "        [ 1.7578, -1.3155]], grad_fn=<AddmmBackward0>)\n",
            "tensor([0, 0, 1, 1, 0, 1, 1, 0])\n",
            "tensor([1, 0, 1, 0, 0, 1, 1, 0])\n"
          ]
        },
        {
          "metadata": {
            "tags": null
          },
          "name": "stderr",
          "output_type": "stream",
          "text": [
            "\r 21%|██        | 108/525 [05:45<22:13,  3.20s/it]"
          ]
        },
        {
          "metadata": {
            "tags": null
          },
          "name": "stdout",
          "output_type": "stream",
          "text": [
            "tensor([[-0.5599, -0.0406],\n",
            "        [ 1.9645, -1.1000],\n",
            "        [-1.1025,  0.1723],\n",
            "        [ 1.3145, -1.2522],\n",
            "        [ 1.6596, -1.3316],\n",
            "        [ 1.9231, -1.4385],\n",
            "        [ 1.8774, -1.2362],\n",
            "        [-1.1550,  0.4239]], grad_fn=<AddmmBackward0>)\n",
            "tensor([1, 0, 1, 0, 0, 0, 0, 1])\n",
            "tensor([1, 0, 1, 0, 0, 0, 0, 1])\n"
          ]
        },
        {
          "metadata": {
            "tags": null
          },
          "name": "stderr",
          "output_type": "stream",
          "text": [
            "\r 21%|██        | 109/525 [05:48<21:59,  3.17s/it]"
          ]
        },
        {
          "metadata": {
            "tags": null
          },
          "name": "stdout",
          "output_type": "stream",
          "text": [
            "tensor([[ 0.9144, -0.8341],\n",
            "        [-1.1043,  0.5314],\n",
            "        [ 2.1598, -1.5055],\n",
            "        [-1.0775,  0.2832],\n",
            "        [ 1.4826, -1.4005],\n",
            "        [-1.3740,  0.7775],\n",
            "        [-0.9942,  0.8190],\n",
            "        [-1.1733,  0.6305]], grad_fn=<AddmmBackward0>)\n",
            "tensor([1, 1, 0, 1, 1, 1, 1, 1])\n",
            "tensor([0, 1, 0, 1, 0, 1, 1, 1])\n"
          ]
        },
        {
          "metadata": {
            "tags": null
          },
          "name": "stderr",
          "output_type": "stream",
          "text": [
            "\r 21%|██        | 110/525 [05:51<22:21,  3.23s/it]"
          ]
        },
        {
          "metadata": {
            "tags": null
          },
          "name": "stdout",
          "output_type": "stream",
          "text": [
            "tensor([[ 1.7074, -1.3000],\n",
            "        [-0.0231, -0.4300],\n",
            "        [ 1.8509, -1.2260],\n",
            "        [-0.5764,  0.2191],\n",
            "        [ 1.5667, -1.3815],\n",
            "        [ 1.5354, -1.1801],\n",
            "        [ 1.7813, -1.3582],\n",
            "        [ 1.8287, -1.1443]], grad_fn=<AddmmBackward0>)\n",
            "tensor([1, 1, 0, 1, 0, 0, 0, 0])\n",
            "tensor([0, 0, 0, 1, 0, 0, 0, 0])\n"
          ]
        },
        {
          "metadata": {
            "tags": null
          },
          "name": "stderr",
          "output_type": "stream",
          "text": [
            "\r 21%|██        | 111/525 [05:54<22:18,  3.23s/it]"
          ]
        },
        {
          "metadata": {
            "tags": null
          },
          "name": "stdout",
          "output_type": "stream",
          "text": [
            "tensor([[-0.9788,  0.7758],\n",
            "        [ 1.7623, -1.3983],\n",
            "        [ 1.8327, -1.4668],\n",
            "        [ 1.2407, -1.0428],\n",
            "        [-0.8750,  0.7695],\n",
            "        [-0.8735,  0.1393],\n",
            "        [-1.1421,  0.4625],\n",
            "        [ 1.9274, -1.1876]], grad_fn=<AddmmBackward0>)\n",
            "tensor([1, 0, 0, 1, 1, 1, 1, 0])\n",
            "tensor([1, 0, 0, 0, 1, 1, 1, 0])\n"
          ]
        },
        {
          "metadata": {
            "tags": null
          },
          "name": "stderr",
          "output_type": "stream",
          "text": [
            "\r 21%|██▏       | 112/525 [05:58<22:07,  3.21s/it]"
          ]
        },
        {
          "metadata": {
            "tags": null
          },
          "name": "stdout",
          "output_type": "stream",
          "text": [
            "tensor([[ 1.5830, -1.2993],\n",
            "        [-1.2892,  0.7455],\n",
            "        [ 1.9675, -1.4365],\n",
            "        [ 1.7065, -1.1468],\n",
            "        [ 1.7961, -1.1022],\n",
            "        [ 0.3827, -0.5748],\n",
            "        [ 1.3425, -1.2295],\n",
            "        [-0.7589,  0.2866]], grad_fn=<AddmmBackward0>)\n",
            "tensor([0, 1, 0, 0, 0, 1, 0, 1])\n",
            "tensor([0, 1, 0, 0, 0, 0, 0, 1])\n"
          ]
        },
        {
          "metadata": {
            "tags": null
          },
          "name": "stderr",
          "output_type": "stream",
          "text": [
            "\r 22%|██▏       | 113/525 [06:01<21:47,  3.17s/it]"
          ]
        },
        {
          "metadata": {
            "tags": null
          },
          "name": "stdout",
          "output_type": "stream",
          "text": [
            "tensor([[ 1.6809, -1.2103],\n",
            "        [ 1.8015, -1.2608],\n",
            "        [ 1.4272, -1.5634],\n",
            "        [ 1.8138, -1.5010],\n",
            "        [-1.0598,  0.2344],\n",
            "        [-0.8479,  0.1764],\n",
            "        [ 1.7743, -1.5580],\n",
            "        [ 0.2059, -0.6509]], grad_fn=<AddmmBackward0>)\n",
            "tensor([0, 0, 0, 0, 1, 1, 0, 1])\n",
            "tensor([0, 0, 0, 0, 1, 1, 0, 0])\n"
          ]
        },
        {
          "metadata": {
            "tags": null
          },
          "name": "stderr",
          "output_type": "stream",
          "text": [
            "\r 22%|██▏       | 114/525 [06:04<21:34,  3.15s/it]"
          ]
        },
        {
          "metadata": {
            "tags": null
          },
          "name": "stdout",
          "output_type": "stream",
          "text": [
            "tensor([[ 1.7856, -1.3852],\n",
            "        [ 1.3811, -0.9154],\n",
            "        [-1.7876,  1.2767],\n",
            "        [-0.9252,  0.2449],\n",
            "        [ 1.4844, -1.2980],\n",
            "        [ 1.7602, -0.9094],\n",
            "        [-0.9838,  0.5408],\n",
            "        [ 1.9340, -1.1499]], grad_fn=<AddmmBackward0>)\n",
            "tensor([0, 0, 1, 1, 1, 0, 1, 0])\n",
            "tensor([0, 0, 1, 1, 0, 0, 1, 0])\n"
          ]
        },
        {
          "metadata": {
            "tags": null
          },
          "name": "stderr",
          "output_type": "stream",
          "text": [
            "\r 22%|██▏       | 115/525 [06:07<21:43,  3.18s/it]"
          ]
        },
        {
          "metadata": {
            "tags": null
          },
          "name": "stdout",
          "output_type": "stream",
          "text": [
            "tensor([[-1.3966,  1.1960],\n",
            "        [ 0.4837, -0.6888],\n",
            "        [ 1.8203, -1.3212],\n",
            "        [-1.0013,  0.1925],\n",
            "        [-1.3310,  1.0797],\n",
            "        [-1.5356,  1.1566],\n",
            "        [ 0.2050, -0.5981],\n",
            "        [ 0.9443, -1.0004]], grad_fn=<AddmmBackward0>)\n",
            "tensor([1, 0, 0, 1, 1, 1, 0, 1])\n",
            "tensor([1, 0, 0, 1, 1, 1, 0, 0])\n"
          ]
        },
        {
          "metadata": {
            "tags": null
          },
          "name": "stderr",
          "output_type": "stream",
          "text": [
            "\r 22%|██▏       | 116/525 [06:10<22:03,  3.24s/it]"
          ]
        },
        {
          "metadata": {
            "tags": null
          },
          "name": "stdout",
          "output_type": "stream",
          "text": [
            "tensor([[ 1.5460, -1.2661],\n",
            "        [-1.5954,  1.4872],\n",
            "        [-1.1356,  0.4695],\n",
            "        [ 0.9619, -0.9513],\n",
            "        [-1.5031,  1.2621],\n",
            "        [-1.6565,  1.1213],\n",
            "        [-1.6573,  1.4001],\n",
            "        [-1.6898,  1.3651]], grad_fn=<AddmmBackward0>)\n",
            "tensor([0, 1, 1, 0, 1, 1, 1, 1])\n",
            "tensor([0, 1, 1, 0, 1, 1, 1, 1])\n"
          ]
        },
        {
          "metadata": {
            "tags": null
          },
          "name": "stderr",
          "output_type": "stream",
          "text": [
            "\r 22%|██▏       | 117/525 [06:13<21:05,  3.10s/it]"
          ]
        },
        {
          "metadata": {
            "tags": null
          },
          "name": "stdout",
          "output_type": "stream",
          "text": [
            "tensor([[-1.6631,  1.2589],\n",
            "        [ 1.1402, -0.9681],\n",
            "        [-1.4473,  1.4487],\n",
            "        [-1.0491,  0.1059],\n",
            "        [ 0.0088, -0.4015],\n",
            "        [-1.5524,  1.3954],\n",
            "        [-0.8718,  0.7460],\n",
            "        [-1.5065,  1.2751]], grad_fn=<AddmmBackward0>)\n",
            "tensor([1, 0, 0, 0, 0, 1, 0, 1])\n",
            "tensor([1, 0, 1, 1, 0, 1, 1, 1])\n"
          ]
        },
        {
          "metadata": {
            "tags": null
          },
          "name": "stderr",
          "output_type": "stream",
          "text": [
            "\r 22%|██▏       | 118/525 [06:16<20:31,  3.03s/it]"
          ]
        },
        {
          "metadata": {
            "tags": null
          },
          "name": "stdout",
          "output_type": "stream",
          "text": [
            "tensor([[ 1.4395, -1.3185],\n",
            "        [-0.1196, -0.3122],\n",
            "        [ 1.3291, -1.2031],\n",
            "        [ 0.6663, -0.8230],\n",
            "        [-1.4782,  1.3340],\n",
            "        [-1.4238,  0.9492],\n",
            "        [ 1.4518, -1.1025],\n",
            "        [-0.2765, -0.1921]], grad_fn=<AddmmBackward0>)\n",
            "tensor([0, 1, 0, 0, 1, 1, 0, 0])\n",
            "tensor([0, 0, 0, 0, 1, 1, 0, 1])\n"
          ]
        },
        {
          "metadata": {
            "tags": null
          },
          "name": "stderr",
          "output_type": "stream",
          "text": [
            "\r 23%|██▎       | 119/525 [06:19<20:46,  3.07s/it]"
          ]
        },
        {
          "metadata": {
            "tags": null
          },
          "name": "stdout",
          "output_type": "stream",
          "text": [
            "tensor([[-1.2040,  0.9212],\n",
            "        [-1.1858,  0.6326],\n",
            "        [ 1.3169, -0.9892],\n",
            "        [-1.0571,  0.4742],\n",
            "        [-0.1978, -0.4355],\n",
            "        [ 0.9558, -1.0338],\n",
            "        [ 0.9391, -1.0546],\n",
            "        [-1.8170,  1.4393]], grad_fn=<AddmmBackward0>)\n",
            "tensor([1, 0, 0, 1, 0, 0, 0, 1])\n",
            "tensor([1, 1, 0, 1, 0, 0, 0, 1])\n"
          ]
        },
        {
          "metadata": {
            "tags": null
          },
          "name": "stderr",
          "output_type": "stream",
          "text": [
            "\r 23%|██▎       | 120/525 [06:22<20:55,  3.10s/it]"
          ]
        },
        {
          "metadata": {
            "tags": null
          },
          "name": "stdout",
          "output_type": "stream",
          "text": [
            "tensor([[ 0.5975, -0.6947],\n",
            "        [-0.0564, -0.1145],\n",
            "        [ 0.4993, -0.5910],\n",
            "        [-0.3105, -0.2898],\n",
            "        [ 1.0205, -0.9114],\n",
            "        [-1.6546,  1.4818],\n",
            "        [ 0.9936, -0.8314],\n",
            "        [-1.1249,  0.8937]], grad_fn=<AddmmBackward0>)\n",
            "tensor([0, 1, 0, 1, 0, 1, 0, 0])\n",
            "tensor([0, 0, 0, 1, 0, 1, 0, 1])\n"
          ]
        },
        {
          "metadata": {
            "tags": null
          },
          "name": "stderr",
          "output_type": "stream",
          "text": [
            "\r 23%|██▎       | 121/525 [06:26<21:32,  3.20s/it]"
          ]
        },
        {
          "metadata": {
            "tags": null
          },
          "name": "stdout",
          "output_type": "stream",
          "text": [
            "tensor([[-0.0981, -0.0839],\n",
            "        [ 1.0583, -0.8455],\n",
            "        [-0.6227,  0.1320],\n",
            "        [-1.3578,  1.1729],\n",
            "        [-1.3590,  0.8266],\n",
            "        [ 0.0136, -0.2970],\n",
            "        [-0.2189,  0.2183],\n",
            "        [-1.7855,  1.3454]], grad_fn=<AddmmBackward0>)\n",
            "tensor([0, 0, 0, 1, 1, 1, 1, 1])\n",
            "tensor([1, 0, 1, 1, 1, 0, 1, 1])\n"
          ]
        },
        {
          "metadata": {
            "tags": null
          },
          "name": "stderr",
          "output_type": "stream",
          "text": [
            "\r 23%|██▎       | 122/525 [06:29<22:05,  3.29s/it]"
          ]
        },
        {
          "metadata": {
            "tags": null
          },
          "name": "stdout",
          "output_type": "stream",
          "text": [
            "tensor([[ 0.9242, -0.9669],\n",
            "        [-0.7723,  0.3225],\n",
            "        [ 0.6664, -0.3773],\n",
            "        [-1.3143,  1.0512],\n",
            "        [ 0.2151, -0.2791],\n",
            "        [ 0.6198, -0.6076],\n",
            "        [ 1.5195, -1.2311],\n",
            "        [-1.7756,  1.1681]], grad_fn=<AddmmBackward0>)\n",
            "tensor([1, 0, 0, 1, 1, 0, 0, 1])\n",
            "tensor([0, 1, 0, 1, 0, 0, 0, 1])\n"
          ]
        },
        {
          "metadata": {
            "tags": null
          },
          "name": "stderr",
          "output_type": "stream",
          "text": [
            "\r 23%|██▎       | 123/525 [06:33<22:08,  3.30s/it]"
          ]
        },
        {
          "metadata": {
            "tags": null
          },
          "name": "stdout",
          "output_type": "stream",
          "text": [
            "tensor([[-0.0121, -0.4357],\n",
            "        [-1.7023,  1.4445],\n",
            "        [-1.0551,  0.8711],\n",
            "        [-0.9822,  1.0346],\n",
            "        [-1.7183,  1.4182],\n",
            "        [-1.4938,  1.1082],\n",
            "        [ 1.1515, -0.7841],\n",
            "        [-1.5317,  1.2514]], grad_fn=<AddmmBackward0>)\n",
            "tensor([0, 1, 0, 1, 1, 1, 0, 1])\n",
            "tensor([0, 1, 1, 1, 1, 1, 0, 1])\n"
          ]
        },
        {
          "metadata": {
            "tags": null
          },
          "name": "stderr",
          "output_type": "stream",
          "text": [
            "\r 24%|██▎       | 124/525 [06:36<22:00,  3.29s/it]"
          ]
        },
        {
          "metadata": {
            "tags": null
          },
          "name": "stdout",
          "output_type": "stream",
          "text": [
            "tensor([[-1.7284,  1.5531],\n",
            "        [-1.6216,  0.9410],\n",
            "        [ 0.0102, -0.0620],\n",
            "        [ 0.8983, -0.7504],\n",
            "        [-1.3841,  0.7133],\n",
            "        [-1.3004,  0.9259],\n",
            "        [ 1.0996, -0.9602],\n",
            "        [ 1.2640, -1.1547]], grad_fn=<AddmmBackward0>)\n",
            "tensor([1, 1, 0, 0, 1, 1, 0, 0])\n",
            "tensor([1, 1, 0, 0, 1, 1, 0, 0])\n"
          ]
        },
        {
          "metadata": {
            "tags": null
          },
          "name": "stderr",
          "output_type": "stream",
          "text": [
            "\r 24%|██▍       | 125/525 [06:39<22:05,  3.31s/it]"
          ]
        },
        {
          "metadata": {
            "tags": null
          },
          "name": "stdout",
          "output_type": "stream",
          "text": [
            "tensor([[-1.3514,  0.9969],\n",
            "        [ 1.0266, -0.7474],\n",
            "        [ 1.7062, -1.0498],\n",
            "        [ 0.8885, -0.6907],\n",
            "        [ 1.3338, -0.9665],\n",
            "        [ 0.6054, -0.5570],\n",
            "        [-0.9811,  1.0396],\n",
            "        [ 1.1752, -0.8150]], grad_fn=<AddmmBackward0>)\n",
            "tensor([1, 0, 0, 0, 0, 0, 1, 0])\n",
            "tensor([1, 0, 0, 0, 0, 0, 1, 0])\n"
          ]
        },
        {
          "metadata": {
            "tags": null
          },
          "name": "stderr",
          "output_type": "stream",
          "text": [
            "\r 24%|██▍       | 126/525 [06:43<22:37,  3.40s/it]"
          ]
        },
        {
          "metadata": {
            "tags": null
          },
          "name": "stdout",
          "output_type": "stream",
          "text": [
            "tensor([[ 1.4622, -1.0515],\n",
            "        [ 1.2543, -0.8668],\n",
            "        [-1.5404,  1.5214],\n",
            "        [ 1.6824, -1.1496],\n",
            "        [-1.7847,  1.3977],\n",
            "        [-1.1888,  0.3974],\n",
            "        [ 0.8112, -0.8765],\n",
            "        [-1.6377,  1.3534]], grad_fn=<AddmmBackward0>)\n",
            "tensor([0, 0, 1, 0, 1, 1, 0, 1])\n",
            "tensor([0, 0, 1, 0, 1, 1, 0, 1])\n"
          ]
        },
        {
          "metadata": {
            "tags": null
          },
          "name": "stderr",
          "output_type": "stream",
          "text": [
            "\r 24%|██▍       | 127/525 [06:46<22:30,  3.39s/it]"
          ]
        },
        {
          "metadata": {
            "tags": null
          },
          "name": "stdout",
          "output_type": "stream",
          "text": [
            "tensor([[ 1.6859, -0.9755],\n",
            "        [ 0.0523, -0.5663],\n",
            "        [ 1.1416, -0.7464],\n",
            "        [ 1.5112, -1.1496],\n",
            "        [ 0.4317, -0.4301],\n",
            "        [ 0.3639, -0.6200],\n",
            "        [-0.2501, -0.3286],\n",
            "        [-1.2859,  0.8377]], grad_fn=<AddmmBackward0>)\n",
            "tensor([0, 1, 0, 1, 0, 0, 0, 1])\n",
            "tensor([0, 0, 0, 0, 0, 0, 0, 1])\n"
          ]
        },
        {
          "metadata": {
            "tags": null
          },
          "name": "stderr",
          "output_type": "stream",
          "text": [
            "\r 24%|██▍       | 128/525 [06:49<22:07,  3.34s/it]"
          ]
        },
        {
          "metadata": {
            "tags": null
          },
          "name": "stdout",
          "output_type": "stream",
          "text": [
            "tensor([[ 1.3167, -1.1483],\n",
            "        [-1.8433,  1.3666],\n",
            "        [ 1.5094, -1.0548],\n",
            "        [ 1.6313, -1.1189],\n",
            "        [-0.0553, -0.2060],\n",
            "        [ 0.4168, -0.5009],\n",
            "        [ 1.4471, -1.1286],\n",
            "        [ 0.2007, -0.4035]], grad_fn=<AddmmBackward0>)\n",
            "tensor([0, 1, 0, 0, 1, 1, 0, 0])\n",
            "tensor([0, 1, 0, 0, 0, 0, 0, 0])\n"
          ]
        },
        {
          "metadata": {
            "tags": null
          },
          "name": "stderr",
          "output_type": "stream",
          "text": [
            "\r 25%|██▍       | 129/525 [06:53<21:54,  3.32s/it]"
          ]
        },
        {
          "metadata": {
            "tags": null
          },
          "name": "stdout",
          "output_type": "stream",
          "text": [
            "tensor([[ 1.2156, -0.9823],\n",
            "        [-1.7842,  1.4336],\n",
            "        [ 1.2733, -1.1040],\n",
            "        [-1.9247,  1.3896],\n",
            "        [ 1.3570, -0.7611],\n",
            "        [-1.2625,  1.1720],\n",
            "        [-1.6874,  1.1817],\n",
            "        [ 1.5551, -1.2317]], grad_fn=<AddmmBackward0>)\n",
            "tensor([0, 1, 0, 1, 0, 1, 1, 0])\n",
            "tensor([0, 1, 0, 1, 0, 1, 1, 0])\n"
          ]
        },
        {
          "metadata": {
            "tags": null
          },
          "name": "stderr",
          "output_type": "stream",
          "text": [
            "\r 25%|██▍       | 130/525 [06:56<22:04,  3.35s/it]"
          ]
        },
        {
          "metadata": {
            "tags": null
          },
          "name": "stdout",
          "output_type": "stream",
          "text": [
            "tensor([[-0.9875,  1.0505],\n",
            "        [-1.4962,  1.2403],\n",
            "        [-0.9287,  0.4728],\n",
            "        [ 0.1372, -0.3703],\n",
            "        [ 1.6472, -1.1078],\n",
            "        [-1.9810,  1.2828],\n",
            "        [-1.0308,  0.7974],\n",
            "        [ 1.5884, -1.3429]], grad_fn=<AddmmBackward0>)\n",
            "tensor([1, 1, 1, 0, 0, 1, 1, 0])\n",
            "tensor([1, 1, 1, 0, 0, 1, 1, 0])\n"
          ]
        },
        {
          "metadata": {
            "tags": null
          },
          "name": "stderr",
          "output_type": "stream",
          "text": [
            "\r 25%|██▍       | 131/525 [07:00<22:14,  3.39s/it]"
          ]
        },
        {
          "metadata": {
            "tags": null
          },
          "name": "stdout",
          "output_type": "stream",
          "text": [
            "tensor([[ 0.7509, -0.3757],\n",
            "        [ 1.3795, -0.7610],\n",
            "        [-1.8360,  1.3908],\n",
            "        [-1.5387,  1.4061],\n",
            "        [ 1.3329, -1.0676],\n",
            "        [ 0.7199, -0.5371],\n",
            "        [ 1.4282, -1.2093],\n",
            "        [-1.6439,  1.2033]], grad_fn=<AddmmBackward0>)\n",
            "tensor([1, 0, 1, 1, 0, 0, 0, 1])\n",
            "tensor([0, 0, 1, 1, 0, 0, 0, 1])\n"
          ]
        },
        {
          "metadata": {
            "tags": null
          },
          "name": "stderr",
          "output_type": "stream",
          "text": [
            "\r 25%|██▌       | 132/525 [07:03<21:54,  3.34s/it]"
          ]
        },
        {
          "metadata": {
            "tags": null
          },
          "name": "stdout",
          "output_type": "stream",
          "text": [
            "tensor([[ 1.7840, -1.1395],\n",
            "        [ 1.6015, -1.2419],\n",
            "        [ 0.0566, -0.1698],\n",
            "        [ 0.8281, -0.6725],\n",
            "        [ 1.5324, -1.1982],\n",
            "        [ 1.2745, -0.8281],\n",
            "        [-1.3075,  1.0135],\n",
            "        [ 1.7012, -1.0239]], grad_fn=<AddmmBackward0>)\n",
            "tensor([0, 0, 1, 1, 0, 1, 1, 0])\n",
            "tensor([0, 0, 0, 0, 0, 0, 1, 0])\n"
          ]
        },
        {
          "metadata": {
            "tags": null
          },
          "name": "stderr",
          "output_type": "stream",
          "text": [
            "\r 25%|██▌       | 133/525 [07:06<21:41,  3.32s/it]"
          ]
        },
        {
          "metadata": {
            "tags": null
          },
          "name": "stdout",
          "output_type": "stream",
          "text": [
            "tensor([[-1.5837,  1.4160],\n",
            "        [ 1.1048, -0.9860],\n",
            "        [ 1.4451, -1.0571],\n",
            "        [ 0.4817, -0.3836],\n",
            "        [-0.4751,  0.2492],\n",
            "        [ 0.8992, -0.6757],\n",
            "        [-0.8615,  0.5681],\n",
            "        [ 1.1076, -0.9814]], grad_fn=<AddmmBackward0>)\n",
            "tensor([1, 1, 0, 1, 0, 0, 1, 0])\n",
            "tensor([1, 0, 0, 0, 1, 0, 1, 0])\n"
          ]
        },
        {
          "metadata": {
            "tags": null
          },
          "name": "stderr",
          "output_type": "stream",
          "text": [
            "\r 26%|██▌       | 134/525 [07:09<21:14,  3.26s/it]"
          ]
        },
        {
          "metadata": {
            "tags": null
          },
          "name": "stdout",
          "output_type": "stream",
          "text": [
            "tensor([[ 1.6898, -1.0788],\n",
            "        [-1.4985,  1.3777],\n",
            "        [-1.5815,  1.3866],\n",
            "        [ 0.8709, -0.7831],\n",
            "        [ 0.1622, -0.1401],\n",
            "        [-1.2863,  1.0702],\n",
            "        [ 0.7274, -0.3873],\n",
            "        [ 0.7427, -0.9510]], grad_fn=<AddmmBackward0>)\n",
            "tensor([0, 1, 1, 0, 1, 1, 1, 0])\n",
            "tensor([0, 1, 1, 0, 0, 1, 0, 0])\n"
          ]
        },
        {
          "metadata": {
            "tags": null
          },
          "name": "stderr",
          "output_type": "stream",
          "text": [
            "\r 26%|██▌       | 135/525 [07:13<21:20,  3.28s/it]"
          ]
        },
        {
          "metadata": {
            "tags": null
          },
          "name": "stdout",
          "output_type": "stream",
          "text": [
            "tensor([[-2.0734,  1.2917],\n",
            "        [-1.9528,  1.5221],\n",
            "        [ 1.7794, -1.0666],\n",
            "        [-0.0202, -0.2248],\n",
            "        [ 1.2236, -1.2031],\n",
            "        [-1.3198,  1.0976],\n",
            "        [ 1.5367, -0.8925],\n",
            "        [-1.3815,  1.2001]], grad_fn=<AddmmBackward0>)\n",
            "tensor([1, 1, 0, 0, 0, 1, 0, 1])\n",
            "tensor([1, 1, 0, 0, 0, 1, 0, 1])\n"
          ]
        },
        {
          "metadata": {
            "tags": null
          },
          "name": "stderr",
          "output_type": "stream",
          "text": [
            "\r 26%|██▌       | 136/525 [07:16<21:34,  3.33s/it]"
          ]
        },
        {
          "metadata": {
            "tags": null
          },
          "name": "stdout",
          "output_type": "stream",
          "text": [
            "tensor([[ 1.4988, -1.2633],\n",
            "        [-1.8247,  1.5973],\n",
            "        [-2.0318,  1.5727],\n",
            "        [-1.3677,  0.9641],\n",
            "        [-1.7053,  1.5170],\n",
            "        [-0.9525,  0.4533],\n",
            "        [ 0.3722, -0.5370],\n",
            "        [ 0.3822, -0.0626]], grad_fn=<AddmmBackward0>)\n",
            "tensor([0, 1, 1, 1, 1, 1, 0, 0])\n",
            "tensor([0, 1, 1, 1, 1, 1, 0, 0])\n"
          ]
        },
        {
          "metadata": {
            "tags": null
          },
          "name": "stderr",
          "output_type": "stream",
          "text": [
            "\r 26%|██▌       | 137/525 [07:19<21:14,  3.28s/it]"
          ]
        },
        {
          "metadata": {
            "tags": null
          },
          "name": "stdout",
          "output_type": "stream",
          "text": [
            "tensor([[-0.0686, -0.2642],\n",
            "        [ 0.6910, -0.7392],\n",
            "        [-1.7817,  1.6838],\n",
            "        [-1.3974,  1.0555],\n",
            "        [-1.8930,  1.5722],\n",
            "        [-1.1482,  0.6307],\n",
            "        [ 0.9910, -0.9782],\n",
            "        [-1.8433,  1.5354]], grad_fn=<AddmmBackward0>)\n",
            "tensor([0, 0, 1, 0, 1, 1, 0, 1])\n",
            "tensor([0, 0, 1, 1, 1, 1, 0, 1])\n"
          ]
        },
        {
          "metadata": {
            "tags": null
          },
          "name": "stderr",
          "output_type": "stream",
          "text": [
            "\r 26%|██▋       | 138/525 [07:22<21:05,  3.27s/it]"
          ]
        },
        {
          "metadata": {
            "tags": null
          },
          "name": "stdout",
          "output_type": "stream",
          "text": [
            "tensor([[ 0.8063, -0.8281],\n",
            "        [-1.7892,  1.6980],\n",
            "        [ 0.7384, -0.6602],\n",
            "        [-1.1753,  0.7667],\n",
            "        [-0.5335, -0.0255],\n",
            "        [ 0.8532, -0.8848],\n",
            "        [-0.7784,  0.2445],\n",
            "        [-1.8704,  1.5079]], grad_fn=<AddmmBackward0>)\n",
            "tensor([0, 1, 0, 1, 1, 0, 1, 1])\n",
            "tensor([0, 1, 0, 1, 1, 0, 1, 1])\n"
          ]
        },
        {
          "metadata": {
            "tags": null
          },
          "name": "stderr",
          "output_type": "stream",
          "text": [
            "\r 26%|██▋       | 139/525 [07:25<20:37,  3.21s/it]"
          ]
        },
        {
          "metadata": {
            "tags": null
          },
          "name": "stdout",
          "output_type": "stream",
          "text": [
            "tensor([[-1.7691,  1.6364],\n",
            "        [-1.6865,  1.8238],\n",
            "        [-1.5515,  1.2685],\n",
            "        [-1.7230,  1.0493],\n",
            "        [ 1.2361, -0.9917],\n",
            "        [ 0.4448, -0.6615],\n",
            "        [-1.8134,  1.6497],\n",
            "        [-1.4442,  1.5046]], grad_fn=<AddmmBackward0>)\n",
            "tensor([1, 1, 1, 1, 0, 0, 1, 1])\n",
            "tensor([1, 1, 1, 1, 0, 0, 1, 1])\n"
          ]
        },
        {
          "metadata": {
            "tags": null
          },
          "name": "stderr",
          "output_type": "stream",
          "text": [
            "\r 27%|██▋       | 140/525 [07:29<20:55,  3.26s/it]"
          ]
        },
        {
          "metadata": {
            "tags": null
          },
          "name": "stdout",
          "output_type": "stream",
          "text": [
            "tensor([[ 0.3119, -0.6816],\n",
            "        [ 1.3246, -0.8279],\n",
            "        [-1.9627,  1.7696],\n",
            "        [-0.0416, -0.2257],\n",
            "        [-1.5262,  1.3723],\n",
            "        [ 0.1399, -0.5662],\n",
            "        [ 1.1805, -0.8789],\n",
            "        [-1.4260,  1.2199]], grad_fn=<AddmmBackward0>)\n",
            "tensor([0, 0, 1, 1, 1, 0, 0, 1])\n",
            "tensor([0, 0, 1, 0, 1, 0, 0, 1])\n"
          ]
        },
        {
          "metadata": {
            "tags": null
          },
          "name": "stderr",
          "output_type": "stream",
          "text": [
            "\r 27%|██▋       | 141/525 [07:32<20:54,  3.27s/it]"
          ]
        },
        {
          "metadata": {
            "tags": null
          },
          "name": "stdout",
          "output_type": "stream",
          "text": [
            "tensor([[-1.2013,  0.6301],\n",
            "        [-1.2351,  0.4654],\n",
            "        [ 0.8227, -0.7209],\n",
            "        [-1.8262,  1.6210],\n",
            "        [ 0.9537, -0.7690],\n",
            "        [ 0.3236, -0.3591],\n",
            "        [ 1.3909, -1.1681],\n",
            "        [-0.3380,  0.0435]], grad_fn=<AddmmBackward0>)\n",
            "tensor([0, 1, 0, 1, 0, 0, 0, 1])\n",
            "tensor([1, 1, 0, 1, 0, 0, 0, 1])\n"
          ]
        },
        {
          "metadata": {
            "tags": null
          },
          "name": "stderr",
          "output_type": "stream",
          "text": [
            "\r 27%|██▋       | 142/525 [07:35<20:26,  3.20s/it]"
          ]
        },
        {
          "metadata": {
            "tags": null
          },
          "name": "stdout",
          "output_type": "stream",
          "text": [
            "tensor([[ 1.7388, -1.3390],\n",
            "        [-1.0857,  0.6365],\n",
            "        [-1.8487,  1.5115],\n",
            "        [-0.8894,  0.2359],\n",
            "        [ 1.9353, -0.9893],\n",
            "        [-1.1887,  0.7800],\n",
            "        [ 0.3273, -0.6123],\n",
            "        [-1.6260,  0.8449]], grad_fn=<AddmmBackward0>)\n",
            "tensor([0, 1, 1, 1, 0, 1, 0, 1])\n",
            "tensor([0, 1, 1, 1, 0, 1, 0, 1])\n"
          ]
        },
        {
          "metadata": {
            "tags": null
          },
          "name": "stderr",
          "output_type": "stream",
          "text": [
            "\r 27%|██▋       | 143/525 [07:39<20:36,  3.24s/it]"
          ]
        },
        {
          "metadata": {
            "tags": null
          },
          "name": "stdout",
          "output_type": "stream",
          "text": [
            "tensor([[-1.6870,  1.4328],\n",
            "        [-1.0768,  0.8478],\n",
            "        [-1.0540,  0.5995],\n",
            "        [-1.9321,  1.5576],\n",
            "        [ 1.4368, -1.2918],\n",
            "        [ 1.3990, -0.9836],\n",
            "        [-1.4696,  0.8973],\n",
            "        [ 0.4455, -0.6851]], grad_fn=<AddmmBackward0>)\n",
            "tensor([1, 0, 0, 1, 0, 0, 0, 0])\n",
            "tensor([1, 1, 1, 1, 0, 0, 1, 0])\n"
          ]
        },
        {
          "metadata": {
            "tags": null
          },
          "name": "stderr",
          "output_type": "stream",
          "text": [
            "\r 27%|██▋       | 144/525 [07:42<21:14,  3.35s/it]"
          ]
        },
        {
          "metadata": {
            "tags": null
          },
          "name": "stdout",
          "output_type": "stream",
          "text": [
            "tensor([[-1.1228,  0.7861],\n",
            "        [ 0.5067, -0.4249],\n",
            "        [-1.3153,  1.0116],\n",
            "        [-0.2679, -0.0072],\n",
            "        [-0.6900,  0.0330],\n",
            "        [ 1.3634, -1.3253],\n",
            "        [ 1.2465, -0.9664],\n",
            "        [ 1.6229, -1.2103]], grad_fn=<AddmmBackward0>)\n",
            "tensor([1, 0, 1, 1, 0, 0, 0, 0])\n",
            "tensor([1, 0, 1, 1, 1, 0, 0, 0])\n"
          ]
        },
        {
          "metadata": {
            "tags": null
          },
          "name": "stderr",
          "output_type": "stream",
          "text": [
            "\r 28%|██▊       | 145/525 [07:45<19:59,  3.16s/it]"
          ]
        },
        {
          "metadata": {
            "tags": null
          },
          "name": "stdout",
          "output_type": "stream",
          "text": [
            "tensor([[-1.5671,  1.4371],\n",
            "        [ 1.4813, -1.0687],\n",
            "        [ 0.8615, -0.8170],\n",
            "        [ 1.4096, -1.0032],\n",
            "        [ 1.6659, -1.0908],\n",
            "        [ 1.5325, -1.0938],\n",
            "        [ 1.3952, -0.9383],\n",
            "        [-1.4749,  1.1050]], grad_fn=<AddmmBackward0>)\n",
            "tensor([1, 0, 0, 0, 0, 0, 0, 1])\n",
            "tensor([1, 0, 0, 0, 0, 0, 0, 1])\n"
          ]
        },
        {
          "metadata": {
            "tags": null
          },
          "name": "stderr",
          "output_type": "stream",
          "text": [
            "\r 28%|██▊       | 146/525 [07:48<19:06,  3.03s/it]"
          ]
        },
        {
          "metadata": {
            "tags": null
          },
          "name": "stdout",
          "output_type": "stream",
          "text": [
            "tensor([[-1.8253,  1.6258],\n",
            "        [-0.2352, -0.1947],\n",
            "        [-1.6725,  1.2001],\n",
            "        [-1.7975,  1.4753],\n",
            "        [ 1.8080, -1.2588],\n",
            "        [-1.4964,  1.2092],\n",
            "        [-1.6978,  1.2351],\n",
            "        [ 0.8515, -0.8214]], grad_fn=<AddmmBackward0>)\n",
            "tensor([1, 1, 1, 1, 0, 1, 1, 0])\n",
            "tensor([1, 1, 1, 1, 0, 1, 1, 0])\n"
          ]
        },
        {
          "metadata": {
            "tags": null
          },
          "name": "stderr",
          "output_type": "stream",
          "text": [
            "\r 28%|██▊       | 147/525 [07:51<19:20,  3.07s/it]"
          ]
        },
        {
          "metadata": {
            "tags": null
          },
          "name": "stdout",
          "output_type": "stream",
          "text": [
            "tensor([[-1.3867,  1.2637],\n",
            "        [-0.7726,  0.4554],\n",
            "        [ 1.0554, -0.8699],\n",
            "        [-1.4904,  0.8021],\n",
            "        [-1.4546,  1.2852],\n",
            "        [ 0.6149, -0.4559],\n",
            "        [-1.4374,  1.3768],\n",
            "        [-1.8495,  1.8118]], grad_fn=<AddmmBackward0>)\n",
            "tensor([1, 1, 0, 1, 1, 0, 1, 1])\n",
            "tensor([1, 1, 0, 1, 1, 0, 1, 1])\n"
          ]
        },
        {
          "metadata": {
            "tags": null
          },
          "name": "stderr",
          "output_type": "stream",
          "text": [
            "\r 28%|██▊       | 148/525 [07:54<19:50,  3.16s/it]"
          ]
        },
        {
          "metadata": {
            "tags": null
          },
          "name": "stdout",
          "output_type": "stream",
          "text": [
            "tensor([[-1.8421,  1.5342],\n",
            "        [ 1.5977, -1.2252],\n",
            "        [ 1.9508, -1.0034],\n",
            "        [ 0.8000, -0.8872],\n",
            "        [-2.0719,  1.8366],\n",
            "        [-2.0337,  1.6888],\n",
            "        [-1.1567,  0.9663],\n",
            "        [-1.9759,  2.0774]], grad_fn=<AddmmBackward0>)\n",
            "tensor([1, 0, 0, 0, 1, 1, 1, 1])\n",
            "tensor([1, 0, 0, 0, 1, 1, 1, 1])\n"
          ]
        },
        {
          "metadata": {
            "tags": null
          },
          "name": "stderr",
          "output_type": "stream",
          "text": [
            "\r 28%|██▊       | 149/525 [07:58<20:18,  3.24s/it]"
          ]
        },
        {
          "metadata": {
            "tags": null
          },
          "name": "stdout",
          "output_type": "stream",
          "text": [
            "tensor([[ 1.7316, -1.3566],\n",
            "        [ 1.7984, -1.1855],\n",
            "        [ 1.6288, -1.2490],\n",
            "        [ 1.5114, -1.2461],\n",
            "        [-1.4402,  1.0572],\n",
            "        [-1.8753,  1.4188],\n",
            "        [-0.8708,  0.6404],\n",
            "        [-0.2240, -0.2136]], grad_fn=<AddmmBackward0>)\n",
            "tensor([0, 0, 0, 0, 1, 1, 1, 0])\n",
            "tensor([0, 0, 0, 0, 1, 1, 1, 1])\n"
          ]
        },
        {
          "metadata": {
            "tags": null
          },
          "name": "stderr",
          "output_type": "stream",
          "text": [
            "\r 29%|██▊       | 150/525 [08:01<20:07,  3.22s/it]"
          ]
        },
        {
          "metadata": {
            "tags": null
          },
          "name": "stdout",
          "output_type": "stream",
          "text": [
            "tensor([[-1.8410,  1.5034],\n",
            "        [ 1.2039, -0.8370],\n",
            "        [ 1.4038, -1.1299],\n",
            "        [ 0.3804, -0.2319],\n",
            "        [ 1.4213, -1.1730],\n",
            "        [ 0.6166, -0.8259],\n",
            "        [ 1.3740, -1.0447],\n",
            "        [-1.5153,  1.3621]], grad_fn=<AddmmBackward0>)\n",
            "tensor([1, 0, 0, 0, 0, 0, 0, 1])\n",
            "tensor([1, 0, 0, 0, 0, 0, 0, 1])\n"
          ]
        },
        {
          "metadata": {
            "tags": null
          },
          "name": "stderr",
          "output_type": "stream",
          "text": [
            "\r 29%|██▉       | 151/525 [08:04<20:07,  3.23s/it]"
          ]
        },
        {
          "metadata": {
            "tags": null
          },
          "name": "stdout",
          "output_type": "stream",
          "text": [
            "tensor([[ 0.4370, -0.3722],\n",
            "        [-0.2271, -0.1782],\n",
            "        [ 0.9029, -0.7690],\n",
            "        [-1.4426,  1.4260],\n",
            "        [-1.9065,  1.7794],\n",
            "        [-1.9424,  1.8797],\n",
            "        [ 1.9481, -1.3939],\n",
            "        [-1.5115,  1.3182]], grad_fn=<AddmmBackward0>)\n",
            "tensor([0, 1, 0, 1, 1, 1, 0, 1])\n",
            "tensor([0, 1, 0, 1, 1, 1, 0, 1])\n"
          ]
        },
        {
          "metadata": {
            "tags": null
          },
          "name": "stderr",
          "output_type": "stream",
          "text": [
            "\r 29%|██▉       | 152/525 [08:07<20:07,  3.24s/it]"
          ]
        },
        {
          "metadata": {
            "tags": null
          },
          "name": "stdout",
          "output_type": "stream",
          "text": [
            "tensor([[-1.7901,  1.5455],\n",
            "        [ 1.4850, -1.3445],\n",
            "        [ 1.8544, -1.2249],\n",
            "        [ 2.1314, -1.0000],\n",
            "        [-0.4394,  0.2351],\n",
            "        [-1.7246,  1.4974],\n",
            "        [ 2.2576, -1.7325],\n",
            "        [-0.6970,  0.2216]], grad_fn=<AddmmBackward0>)\n",
            "tensor([1, 0, 0, 0, 1, 1, 0, 0])\n",
            "tensor([1, 0, 0, 0, 1, 1, 0, 1])\n"
          ]
        },
        {
          "metadata": {
            "tags": null
          },
          "name": "stderr",
          "output_type": "stream",
          "text": [
            "\r 29%|██▉       | 153/525 [08:10<19:25,  3.13s/it]"
          ]
        },
        {
          "metadata": {
            "tags": null
          },
          "name": "stdout",
          "output_type": "stream",
          "text": [
            "tensor([[-1.4388,  1.0730],\n",
            "        [-1.7073,  1.3053],\n",
            "        [-1.9596,  1.7672],\n",
            "        [-1.1333,  0.9046],\n",
            "        [ 0.1659, -0.1882],\n",
            "        [-1.3922,  0.6423],\n",
            "        [-1.9047,  1.5117],\n",
            "        [-0.7820,  0.3118]], grad_fn=<AddmmBackward0>)\n",
            "tensor([1, 1, 1, 1, 0, 1, 1, 1])\n",
            "tensor([1, 1, 1, 1, 0, 1, 1, 1])\n"
          ]
        },
        {
          "metadata": {
            "tags": null
          },
          "name": "stderr",
          "output_type": "stream",
          "text": [
            "\r 29%|██▉       | 154/525 [08:13<19:41,  3.19s/it]"
          ]
        },
        {
          "metadata": {
            "tags": null
          },
          "name": "stdout",
          "output_type": "stream",
          "text": [
            "tensor([[-2.1165,  1.5794],\n",
            "        [-2.2572,  1.6952],\n",
            "        [-1.9490,  1.8594],\n",
            "        [-2.1235,  1.7367],\n",
            "        [ 1.2025, -0.9552],\n",
            "        [ 1.3334, -1.0829],\n",
            "        [ 1.7471, -1.1830],\n",
            "        [ 2.1385, -1.6978]], grad_fn=<AddmmBackward0>)\n",
            "tensor([1, 1, 1, 1, 1, 0, 0, 0])\n",
            "tensor([1, 1, 1, 1, 0, 0, 0, 0])\n"
          ]
        },
        {
          "metadata": {
            "tags": null
          },
          "name": "stderr",
          "output_type": "stream",
          "text": [
            "\r 30%|██▉       | 155/525 [08:17<19:49,  3.22s/it]"
          ]
        },
        {
          "metadata": {
            "tags": null
          },
          "name": "stdout",
          "output_type": "stream",
          "text": [
            "tensor([[ 2.1455, -1.3959],\n",
            "        [ 0.2681, -0.2966],\n",
            "        [ 2.1175, -1.4989],\n",
            "        [-0.8921,  0.6377],\n",
            "        [ 2.0122, -1.1682],\n",
            "        [-0.4956,  0.1000],\n",
            "        [ 0.0419, -0.4041],\n",
            "        [ 2.2438, -1.4411]], grad_fn=<AddmmBackward0>)\n",
            "tensor([0, 1, 0, 1, 0, 1, 1, 0])\n",
            "tensor([0, 0, 0, 1, 0, 1, 0, 0])\n"
          ]
        },
        {
          "metadata": {
            "tags": null
          },
          "name": "stderr",
          "output_type": "stream",
          "text": [
            "\r 30%|██▉       | 156/525 [08:20<19:48,  3.22s/it]"
          ]
        },
        {
          "metadata": {
            "tags": null
          },
          "name": "stdout",
          "output_type": "stream",
          "text": [
            "tensor([[-1.6903,  1.8216],\n",
            "        [ 1.1077, -0.9797],\n",
            "        [ 2.1806, -1.5382],\n",
            "        [-1.8453,  1.6492],\n",
            "        [ 1.9288, -1.3114],\n",
            "        [-1.7293,  1.3891],\n",
            "        [ 1.8533, -1.3055],\n",
            "        [ 2.0549, -1.4187]], grad_fn=<AddmmBackward0>)\n",
            "tensor([1, 0, 0, 1, 0, 1, 0, 0])\n",
            "tensor([1, 0, 0, 1, 0, 1, 0, 0])\n"
          ]
        },
        {
          "metadata": {
            "tags": null
          },
          "name": "stderr",
          "output_type": "stream",
          "text": [
            "\r 30%|██▉       | 157/525 [08:23<19:26,  3.17s/it]"
          ]
        },
        {
          "metadata": {
            "tags": null
          },
          "name": "stdout",
          "output_type": "stream",
          "text": [
            "tensor([[ 1.8404, -1.6434],\n",
            "        [-1.8806,  1.6236],\n",
            "        [ 2.1972, -1.4509],\n",
            "        [ 2.1628, -1.5199],\n",
            "        [ 1.8192, -1.5256],\n",
            "        [ 1.9212, -1.7800],\n",
            "        [ 1.9335, -1.4327],\n",
            "        [-0.9928,  0.5485]], grad_fn=<AddmmBackward0>)\n",
            "tensor([0, 1, 0, 0, 0, 0, 0, 0])\n",
            "tensor([0, 1, 0, 0, 0, 0, 0, 1])\n"
          ]
        },
        {
          "metadata": {
            "tags": null
          },
          "name": "stderr",
          "output_type": "stream",
          "text": [
            "\r 30%|███       | 158/525 [08:27<20:10,  3.30s/it]"
          ]
        },
        {
          "metadata": {
            "tags": null
          },
          "name": "stdout",
          "output_type": "stream",
          "text": [
            "tensor([[ 1.9224, -1.3926],\n",
            "        [-1.9757,  1.5324],\n",
            "        [ 1.9835, -1.5675],\n",
            "        [ 1.9547, -1.6783],\n",
            "        [ 0.3291, -0.4554],\n",
            "        [-2.1106,  2.0249],\n",
            "        [-2.2124,  2.0434],\n",
            "        [ 2.3418, -1.6892]], grad_fn=<AddmmBackward0>)\n",
            "tensor([0, 1, 0, 0, 1, 1, 1, 0])\n",
            "tensor([0, 1, 0, 0, 0, 1, 1, 0])\n"
          ]
        },
        {
          "metadata": {
            "tags": null
          },
          "name": "stderr",
          "output_type": "stream",
          "text": [
            "\r 30%|███       | 159/525 [08:30<20:41,  3.39s/it]"
          ]
        },
        {
          "metadata": {
            "tags": null
          },
          "name": "stdout",
          "output_type": "stream",
          "text": [
            "tensor([[-2.3102,  2.0996],\n",
            "        [ 1.0838, -1.0848],\n",
            "        [-1.2596,  0.8244],\n",
            "        [-2.3366,  1.8875],\n",
            "        [ 1.9451, -0.9880],\n",
            "        [-2.2429,  1.9062],\n",
            "        [ 1.9470, -1.1499],\n",
            "        [ 2.2333, -1.7411]], grad_fn=<AddmmBackward0>)\n",
            "tensor([1, 0, 1, 1, 0, 1, 0, 0])\n",
            "tensor([1, 0, 1, 1, 0, 1, 0, 0])\n"
          ]
        },
        {
          "metadata": {
            "tags": null
          },
          "name": "stderr",
          "output_type": "stream",
          "text": [
            "\r 30%|███       | 160/525 [08:33<20:12,  3.32s/it]"
          ]
        },
        {
          "metadata": {
            "tags": null
          },
          "name": "stdout",
          "output_type": "stream",
          "text": [
            "tensor([[ 2.1006, -1.5971],\n",
            "        [ 2.1780, -1.2345],\n",
            "        [-0.6709,  0.3645],\n",
            "        [ 1.7951, -1.0904],\n",
            "        [ 2.0810, -1.6835],\n",
            "        [ 1.3312, -0.9288],\n",
            "        [-1.8753,  1.3360],\n",
            "        [-1.5167,  1.4322]], grad_fn=<AddmmBackward0>)\n",
            "tensor([0, 0, 1, 0, 0, 0, 1, 1])\n",
            "tensor([0, 0, 1, 0, 0, 0, 1, 1])\n"
          ]
        },
        {
          "metadata": {
            "tags": null
          },
          "name": "stderr",
          "output_type": "stream",
          "text": [
            "\r 31%|███       | 161/525 [08:36<19:08,  3.15s/it]"
          ]
        },
        {
          "metadata": {
            "tags": null
          },
          "name": "stdout",
          "output_type": "stream",
          "text": [
            "tensor([[ 1.2481, -1.1769],\n",
            "        [ 2.1439, -1.7984],\n",
            "        [ 0.1522, -0.1144],\n",
            "        [ 2.0148, -1.7430],\n",
            "        [-0.4051,  0.1590],\n",
            "        [ 0.7885, -0.5841],\n",
            "        [-1.4018,  0.9436],\n",
            "        [-2.0644,  1.7313]], grad_fn=<AddmmBackward0>)\n",
            "tensor([0, 0, 1, 0, 0, 0, 0, 1])\n",
            "tensor([0, 0, 0, 0, 1, 0, 1, 1])\n"
          ]
        },
        {
          "metadata": {
            "tags": null
          },
          "name": "stderr",
          "output_type": "stream",
          "text": [
            "\r 31%|███       | 162/525 [08:39<19:05,  3.16s/it]"
          ]
        },
        {
          "metadata": {
            "tags": null
          },
          "name": "stdout",
          "output_type": "stream",
          "text": [
            "tensor([[ 2.0482, -1.7585],\n",
            "        [-2.2770,  2.0322],\n",
            "        [ 2.0735, -1.7540],\n",
            "        [-2.0508,  2.0256],\n",
            "        [ 2.3469, -1.7477],\n",
            "        [ 2.1795, -1.8825],\n",
            "        [-0.9352,  0.2965],\n",
            "        [-2.3314,  2.1141]], grad_fn=<AddmmBackward0>)\n",
            "tensor([0, 1, 0, 1, 0, 0, 0, 1])\n",
            "tensor([0, 1, 0, 1, 0, 0, 1, 1])\n"
          ]
        },
        {
          "metadata": {
            "tags": null
          },
          "name": "stderr",
          "output_type": "stream",
          "text": [
            "\r 31%|███       | 163/525 [08:42<18:34,  3.08s/it]"
          ]
        },
        {
          "metadata": {
            "tags": null
          },
          "name": "stdout",
          "output_type": "stream",
          "text": [
            "tensor([[-2.2955,  1.8836],\n",
            "        [ 1.9763, -1.6799],\n",
            "        [-1.5270,  0.8872],\n",
            "        [ 1.7875, -1.3299],\n",
            "        [ 1.3522, -1.3114],\n",
            "        [-2.0946,  2.0618],\n",
            "        [ 2.1372, -1.8617],\n",
            "        [ 0.4603, -0.4143]], grad_fn=<AddmmBackward0>)\n",
            "tensor([1, 0, 1, 0, 0, 1, 0, 1])\n",
            "tensor([1, 0, 1, 0, 0, 1, 0, 0])\n"
          ]
        },
        {
          "metadata": {
            "tags": null
          },
          "name": "stderr",
          "output_type": "stream",
          "text": [
            "\r 31%|███       | 164/525 [08:45<18:30,  3.08s/it]"
          ]
        },
        {
          "metadata": {
            "tags": null
          },
          "name": "stdout",
          "output_type": "stream",
          "text": [
            "tensor([[ 2.1207, -1.8267],\n",
            "        [ 1.3814, -1.0662],\n",
            "        [ 0.3607, -0.3635],\n",
            "        [-1.7790,  1.5076],\n",
            "        [-2.1328,  1.9628],\n",
            "        [-2.1732,  2.1872],\n",
            "        [ 1.0176, -0.9044],\n",
            "        [ 2.0053, -1.7600]], grad_fn=<AddmmBackward0>)\n",
            "tensor([0, 0, 0, 1, 1, 1, 0, 0])\n",
            "tensor([0, 0, 0, 1, 1, 1, 0, 0])\n"
          ]
        },
        {
          "metadata": {
            "tags": null
          },
          "name": "stderr",
          "output_type": "stream",
          "text": [
            "\r 31%|███▏      | 165/525 [08:49<19:07,  3.19s/it]"
          ]
        },
        {
          "metadata": {
            "tags": null
          },
          "name": "stdout",
          "output_type": "stream",
          "text": [
            "tensor([[-2.1372,  2.1907],\n",
            "        [ 2.5030, -1.6980],\n",
            "        [ 2.0659, -1.6433],\n",
            "        [-1.5635,  1.1481],\n",
            "        [ 2.4768, -1.7352],\n",
            "        [ 1.9658, -1.7665],\n",
            "        [ 2.4155, -1.6970],\n",
            "        [-0.6823,  0.2836]], grad_fn=<AddmmBackward0>)\n",
            "tensor([1, 0, 0, 1, 0, 0, 0, 1])\n",
            "tensor([1, 0, 0, 1, 0, 0, 0, 1])\n"
          ]
        },
        {
          "metadata": {
            "tags": null
          },
          "name": "stderr",
          "output_type": "stream",
          "text": [
            "\r 32%|███▏      | 166/525 [08:52<18:58,  3.17s/it]"
          ]
        },
        {
          "metadata": {
            "tags": null
          },
          "name": "stdout",
          "output_type": "stream",
          "text": [
            "tensor([[-2.3001,  2.0676],\n",
            "        [-0.1684,  0.0843],\n",
            "        [ 1.6245, -1.5720],\n",
            "        [ 1.5710, -1.4122],\n",
            "        [ 2.2941, -1.8931],\n",
            "        [-1.8177,  1.5666],\n",
            "        [ 2.5210, -1.9745],\n",
            "        [ 2.2450, -1.9315]], grad_fn=<AddmmBackward0>)\n",
            "tensor([1, 0, 0, 0, 0, 1, 0, 0])\n",
            "tensor([1, 1, 0, 0, 0, 1, 0, 0])\n"
          ]
        },
        {
          "metadata": {
            "tags": null
          },
          "name": "stderr",
          "output_type": "stream",
          "text": [
            "\r 32%|███▏      | 167/525 [08:55<19:23,  3.25s/it]"
          ]
        },
        {
          "metadata": {
            "tags": null
          },
          "name": "stdout",
          "output_type": "stream",
          "text": [
            "tensor([[-2.2622,  2.2556],\n",
            "        [-1.2456,  1.1889],\n",
            "        [-1.8295,  1.3907],\n",
            "        [ 1.7903, -1.7485],\n",
            "        [ 2.0806, -1.7347],\n",
            "        [-2.3171,  2.0083],\n",
            "        [ 1.6091, -1.1008],\n",
            "        [-2.0641,  1.0854]], grad_fn=<AddmmBackward0>)\n",
            "tensor([1, 1, 1, 1, 0, 1, 1, 1])\n",
            "tensor([1, 1, 1, 0, 0, 1, 0, 1])\n"
          ]
        },
        {
          "metadata": {
            "tags": null
          },
          "name": "stderr",
          "output_type": "stream",
          "text": [
            "\r 32%|███▏      | 168/525 [08:59<19:55,  3.35s/it]"
          ]
        },
        {
          "metadata": {
            "tags": null
          },
          "name": "stdout",
          "output_type": "stream",
          "text": [
            "tensor([[ 2.4973, -1.9196],\n",
            "        [ 1.3156, -1.3495],\n",
            "        [ 1.9757, -1.6419],\n",
            "        [-1.8143,  1.6506],\n",
            "        [-2.0327,  2.1137],\n",
            "        [-0.5117,  0.3661],\n",
            "        [ 1.6226, -1.4331],\n",
            "        [-2.2526,  1.9930]], grad_fn=<AddmmBackward0>)\n",
            "tensor([0, 0, 0, 1, 1, 1, 0, 1])\n",
            "tensor([0, 0, 0, 1, 1, 1, 0, 1])\n"
          ]
        },
        {
          "metadata": {
            "tags": null
          },
          "name": "stderr",
          "output_type": "stream",
          "text": [
            "\r 32%|███▏      | 169/525 [09:02<19:09,  3.23s/it]"
          ]
        },
        {
          "metadata": {
            "tags": null
          },
          "name": "stdout",
          "output_type": "stream",
          "text": [
            "tensor([[-2.3071,  1.8339],\n",
            "        [-2.4185,  2.1736],\n",
            "        [ 2.3911, -1.6089],\n",
            "        [ 2.5436, -1.9847],\n",
            "        [ 1.6129, -1.5691],\n",
            "        [ 1.9118, -1.6315],\n",
            "        [ 2.3212, -1.8191],\n",
            "        [ 2.4880, -2.0115]], grad_fn=<AddmmBackward0>)\n",
            "tensor([1, 1, 0, 0, 0, 0, 0, 0])\n",
            "tensor([1, 1, 0, 0, 0, 0, 0, 0])\n"
          ]
        },
        {
          "metadata": {
            "tags": null
          },
          "name": "stderr",
          "output_type": "stream",
          "text": [
            "\r 32%|███▏      | 170/525 [09:05<19:01,  3.22s/it]"
          ]
        },
        {
          "metadata": {
            "tags": null
          },
          "name": "stdout",
          "output_type": "stream",
          "text": [
            "tensor([[ 2.0554, -1.9168],\n",
            "        [ 1.8498, -1.6647],\n",
            "        [ 2.4300, -1.7663],\n",
            "        [ 1.9318, -1.7235],\n",
            "        [ 2.3712, -1.8513],\n",
            "        [-1.4150,  0.8628],\n",
            "        [-1.4946,  0.8485],\n",
            "        [ 1.8319, -1.3172]], grad_fn=<AddmmBackward0>)\n",
            "tensor([0, 0, 0, 0, 0, 1, 0, 0])\n",
            "tensor([0, 0, 0, 0, 0, 1, 1, 0])\n"
          ]
        },
        {
          "metadata": {
            "tags": null
          },
          "name": "stderr",
          "output_type": "stream",
          "text": [
            "\r 33%|███▎      | 171/525 [09:08<19:05,  3.24s/it]"
          ]
        },
        {
          "metadata": {
            "tags": null
          },
          "name": "stdout",
          "output_type": "stream",
          "text": [
            "tensor([[ 0.9138, -0.9965],\n",
            "        [-2.2085,  2.1646],\n",
            "        [-2.0502,  1.7149],\n",
            "        [ 2.0182, -1.7729],\n",
            "        [ 1.9347, -1.8453],\n",
            "        [-2.3399,  2.3949],\n",
            "        [-2.2836,  2.2863],\n",
            "        [-0.4030,  0.0741]], grad_fn=<AddmmBackward0>)\n",
            "tensor([0, 1, 1, 0, 0, 1, 1, 0])\n",
            "tensor([0, 1, 1, 0, 0, 1, 1, 1])\n"
          ]
        },
        {
          "metadata": {
            "tags": null
          },
          "name": "stderr",
          "output_type": "stream",
          "text": [
            "\r 33%|███▎      | 172/525 [09:12<19:17,  3.28s/it]"
          ]
        },
        {
          "metadata": {
            "tags": null
          },
          "name": "stdout",
          "output_type": "stream",
          "text": [
            "tensor([[ 1.8216, -1.7404],\n",
            "        [-2.1279,  2.1074],\n",
            "        [ 2.0007, -2.0664],\n",
            "        [-2.1712,  1.8397],\n",
            "        [-2.1250,  1.7230],\n",
            "        [-2.4000,  1.9439],\n",
            "        [ 1.5414, -1.5475],\n",
            "        [ 0.8141, -0.7160]], grad_fn=<AddmmBackward0>)\n",
            "tensor([0, 1, 0, 1, 1, 1, 0, 0])\n",
            "tensor([0, 1, 0, 1, 1, 1, 0, 0])\n"
          ]
        },
        {
          "metadata": {
            "tags": null
          },
          "name": "stderr",
          "output_type": "stream",
          "text": [
            "\r 33%|███▎      | 173/525 [09:15<19:25,  3.31s/it]"
          ]
        },
        {
          "metadata": {
            "tags": null
          },
          "name": "stdout",
          "output_type": "stream",
          "text": [
            "tensor([[ 0.8159, -0.7937],\n",
            "        [-2.3745,  1.9149],\n",
            "        [-1.1185,  0.4340],\n",
            "        [-1.8528,  1.5538],\n",
            "        [-2.1730,  2.1136],\n",
            "        [-1.1799,  0.7537],\n",
            "        [ 1.5944, -1.7354],\n",
            "        [-2.3359,  2.0792]], grad_fn=<AddmmBackward0>)\n",
            "tensor([0, 1, 1, 1, 1, 1, 0, 1])\n",
            "tensor([0, 1, 1, 1, 1, 1, 0, 1])\n"
          ]
        },
        {
          "metadata": {
            "tags": null
          },
          "name": "stderr",
          "output_type": "stream",
          "text": [
            "\r 33%|███▎      | 174/525 [09:18<18:57,  3.24s/it]"
          ]
        },
        {
          "metadata": {
            "tags": null
          },
          "name": "stdout",
          "output_type": "stream",
          "text": [
            "tensor([[ 1.9224, -1.4976],\n",
            "        [ 2.1839, -1.8891],\n",
            "        [-2.0711,  2.1459],\n",
            "        [ 1.8184, -1.9751],\n",
            "        [-2.2591,  2.1866],\n",
            "        [-2.1720,  1.9070],\n",
            "        [ 0.9416, -0.7899],\n",
            "        [-1.5583,  1.3045]], grad_fn=<AddmmBackward0>)\n",
            "tensor([0, 0, 1, 0, 1, 1, 1, 1])\n",
            "tensor([0, 0, 1, 0, 1, 1, 0, 1])\n"
          ]
        },
        {
          "metadata": {
            "tags": null
          },
          "name": "stderr",
          "output_type": "stream",
          "text": [
            "\r 33%|███▎      | 175/525 [09:21<18:58,  3.25s/it]"
          ]
        },
        {
          "metadata": {
            "tags": null
          },
          "name": "stdout",
          "output_type": "stream",
          "text": [
            "tensor([[-1.8420,  1.7429],\n",
            "        [-2.5558,  2.3578],\n",
            "        [-1.9795,  1.7013],\n",
            "        [-0.5531,  0.2651],\n",
            "        [-0.5169,  0.5158],\n",
            "        [-2.1956,  2.0654],\n",
            "        [-1.2653,  0.5833],\n",
            "        [ 2.1523, -1.6674]], grad_fn=<AddmmBackward0>)\n",
            "tensor([1, 1, 1, 0, 0, 1, 1, 0])\n",
            "tensor([1, 1, 1, 1, 1, 1, 1, 0])\n"
          ]
        },
        {
          "metadata": {
            "tags": null
          },
          "name": "stderr",
          "output_type": "stream",
          "text": [
            "\r 34%|███▎      | 176/525 [09:25<19:17,  3.32s/it]"
          ]
        },
        {
          "metadata": {
            "tags": null
          },
          "name": "stdout",
          "output_type": "stream",
          "text": [
            "tensor([[ 2.3697, -2.2477],\n",
            "        [ 2.1876, -2.0242],\n",
            "        [-2.3527,  1.8985],\n",
            "        [ 1.1943, -0.7007],\n",
            "        [-2.1098,  2.1872],\n",
            "        [ 1.5033, -1.3277],\n",
            "        [ 1.9627, -1.6845],\n",
            "        [-2.2509,  2.1761]], grad_fn=<AddmmBackward0>)\n",
            "tensor([0, 0, 1, 1, 1, 0, 0, 1])\n",
            "tensor([0, 0, 1, 0, 1, 0, 0, 1])\n"
          ]
        },
        {
          "metadata": {
            "tags": null
          },
          "name": "stderr",
          "output_type": "stream",
          "text": [
            "\r 34%|███▎      | 177/525 [09:28<19:42,  3.40s/it]"
          ]
        },
        {
          "metadata": {
            "tags": null
          },
          "name": "stdout",
          "output_type": "stream",
          "text": [
            "tensor([[-1.7317,  1.2711],\n",
            "        [ 1.0404, -1.1567],\n",
            "        [ 1.7864, -1.8588],\n",
            "        [ 1.1934, -1.2296],\n",
            "        [ 0.2850, -0.3718],\n",
            "        [-1.8726,  1.7874],\n",
            "        [-1.0058,  0.6760],\n",
            "        [-2.1583,  2.1645]], grad_fn=<AddmmBackward0>)\n",
            "tensor([1, 0, 0, 0, 1, 1, 1, 1])\n",
            "tensor([1, 0, 0, 0, 0, 1, 1, 1])\n"
          ]
        },
        {
          "metadata": {
            "tags": null
          },
          "name": "stderr",
          "output_type": "stream",
          "text": [
            "\r 34%|███▍      | 178/525 [09:32<19:49,  3.43s/it]"
          ]
        },
        {
          "metadata": {
            "tags": null
          },
          "name": "stdout",
          "output_type": "stream",
          "text": [
            "tensor([[-1.4076,  1.0965],\n",
            "        [-1.9773,  1.9121],\n",
            "        [-1.2000,  0.6842],\n",
            "        [-2.5178,  2.3941],\n",
            "        [-1.8624,  1.8636],\n",
            "        [-2.0159,  1.5838],\n",
            "        [ 0.6943, -0.8649],\n",
            "        [ 2.3655, -2.0797]], grad_fn=<AddmmBackward0>)\n",
            "tensor([1, 0, 1, 1, 1, 1, 1, 0])\n",
            "tensor([1, 1, 1, 1, 1, 1, 0, 0])\n"
          ]
        },
        {
          "metadata": {
            "tags": null
          },
          "name": "stderr",
          "output_type": "stream",
          "text": [
            "\r 34%|███▍      | 179/525 [09:35<19:07,  3.32s/it]"
          ]
        },
        {
          "metadata": {
            "tags": null
          },
          "name": "stdout",
          "output_type": "stream",
          "text": [
            "tensor([[-1.0613,  0.2007],\n",
            "        [-0.4311, -0.1611],\n",
            "        [-0.8079,  0.4319],\n",
            "        [-1.0066,  0.5331],\n",
            "        [-2.1435,  2.0239],\n",
            "        [ 1.8386, -1.6878],\n",
            "        [-2.2296,  2.3462],\n",
            "        [ 1.3143, -1.3550]], grad_fn=<AddmmBackward0>)\n",
            "tensor([1, 1, 1, 1, 1, 0, 1, 0])\n",
            "tensor([1, 1, 1, 1, 1, 0, 1, 0])\n"
          ]
        },
        {
          "metadata": {
            "tags": null
          },
          "name": "stderr",
          "output_type": "stream",
          "text": [
            "\r 34%|███▍      | 180/525 [09:38<19:04,  3.32s/it]"
          ]
        },
        {
          "metadata": {
            "tags": null
          },
          "name": "stdout",
          "output_type": "stream",
          "text": [
            "tensor([[ 1.4022, -1.0047],\n",
            "        [ 0.9445, -1.0660],\n",
            "        [-2.0793,  1.7253],\n",
            "        [-0.5980,  0.3805],\n",
            "        [-0.5072, -0.0336],\n",
            "        [-2.2147,  1.8162],\n",
            "        [-0.5622,  0.2852],\n",
            "        [-2.0719,  1.6071]], grad_fn=<AddmmBackward0>)\n",
            "tensor([0, 0, 1, 0, 0, 1, 1, 1])\n",
            "tensor([0, 0, 1, 1, 1, 1, 1, 1])\n"
          ]
        },
        {
          "metadata": {
            "tags": null
          },
          "name": "stderr",
          "output_type": "stream",
          "text": [
            "\r 34%|███▍      | 181/525 [09:42<19:17,  3.37s/it]"
          ]
        },
        {
          "metadata": {
            "tags": null
          },
          "name": "stdout",
          "output_type": "stream",
          "text": [
            "tensor([[ 0.9808, -1.0067],\n",
            "        [-2.2540,  2.0825],\n",
            "        [ 1.8924, -1.8461],\n",
            "        [ 0.4260, -0.6834],\n",
            "        [-2.3422,  1.8951],\n",
            "        [-2.2177,  1.9723],\n",
            "        [ 1.8582, -1.9338],\n",
            "        [ 0.6024, -0.7710]], grad_fn=<AddmmBackward0>)\n",
            "tensor([0, 1, 0, 0, 1, 1, 0, 0])\n",
            "tensor([0, 1, 0, 0, 1, 1, 0, 0])\n"
          ]
        },
        {
          "metadata": {
            "tags": null
          },
          "name": "stderr",
          "output_type": "stream",
          "text": [
            "\r 35%|███▍      | 182/525 [09:45<18:43,  3.28s/it]"
          ]
        },
        {
          "metadata": {
            "tags": null
          },
          "name": "stdout",
          "output_type": "stream",
          "text": [
            "tensor([[-0.0920, -0.3088],\n",
            "        [ 1.2277, -1.3546],\n",
            "        [-1.4822,  1.0168],\n",
            "        [-1.0395,  0.7795],\n",
            "        [-1.9599,  1.6860],\n",
            "        [-2.1203,  2.0010],\n",
            "        [ 1.4407, -1.4494],\n",
            "        [ 1.1431, -1.1719]], grad_fn=<AddmmBackward0>)\n",
            "tensor([0, 0, 1, 1, 1, 1, 0, 0])\n",
            "tensor([0, 0, 1, 1, 1, 1, 0, 0])\n"
          ]
        },
        {
          "metadata": {
            "tags": null
          },
          "name": "stderr",
          "output_type": "stream",
          "text": [
            "\r 35%|███▍      | 183/525 [09:48<18:13,  3.20s/it]"
          ]
        },
        {
          "metadata": {
            "tags": null
          },
          "name": "stdout",
          "output_type": "stream",
          "text": [
            "tensor([[-2.3328,  2.0511],\n",
            "        [ 1.3148, -1.1616],\n",
            "        [-1.8720,  1.7539],\n",
            "        [ 0.9126, -0.9285],\n",
            "        [-2.0360,  2.1546],\n",
            "        [-0.1753,  0.1569],\n",
            "        [-2.1980,  2.1949],\n",
            "        [-2.1878,  2.4783]], grad_fn=<AddmmBackward0>)\n",
            "tensor([1, 0, 1, 0, 1, 1, 1, 1])\n",
            "tensor([1, 0, 1, 0, 1, 1, 1, 1])\n"
          ]
        },
        {
          "metadata": {
            "tags": null
          },
          "name": "stderr",
          "output_type": "stream",
          "text": [
            "\r 35%|███▌      | 184/525 [09:51<18:08,  3.19s/it]"
          ]
        },
        {
          "metadata": {
            "tags": null
          },
          "name": "stdout",
          "output_type": "stream",
          "text": [
            "tensor([[-1.5694,  1.4076],\n",
            "        [-1.3261,  0.9836],\n",
            "        [-0.0610, -0.2885],\n",
            "        [-2.1205,  2.0300],\n",
            "        [-2.2552,  2.1077],\n",
            "        [ 0.7779, -0.7644],\n",
            "        [ 1.5053, -1.5018],\n",
            "        [-1.9571,  1.7428]], grad_fn=<AddmmBackward0>)\n",
            "tensor([1, 1, 0, 1, 1, 0, 0, 1])\n",
            "tensor([1, 1, 0, 1, 1, 0, 0, 1])\n"
          ]
        },
        {
          "metadata": {
            "tags": null
          },
          "name": "stderr",
          "output_type": "stream",
          "text": [
            "\r 35%|███▌      | 185/525 [09:54<18:16,  3.23s/it]"
          ]
        },
        {
          "metadata": {
            "tags": null
          },
          "name": "stdout",
          "output_type": "stream",
          "text": [
            "tensor([[-1.5943,  1.3751],\n",
            "        [-1.4176,  0.8938],\n",
            "        [-0.6000,  0.1890],\n",
            "        [-1.7510,  1.3493],\n",
            "        [ 0.5675, -0.8148],\n",
            "        [-0.9651,  0.7138],\n",
            "        [ 1.5859, -1.5469],\n",
            "        [ 0.4892, -0.5904]], grad_fn=<AddmmBackward0>)\n",
            "tensor([1, 1, 0, 0, 0, 1, 0, 0])\n",
            "tensor([1, 1, 1, 1, 0, 1, 0, 0])\n"
          ]
        },
        {
          "metadata": {
            "tags": null
          },
          "name": "stderr",
          "output_type": "stream",
          "text": [
            "\r 35%|███▌      | 186/525 [09:58<18:42,  3.31s/it]"
          ]
        },
        {
          "metadata": {
            "tags": null
          },
          "name": "stdout",
          "output_type": "stream",
          "text": [
            "tensor([[ 4.2659e-03, -3.9863e-02],\n",
            "        [-1.0926e-02, -2.9807e-01],\n",
            "        [-1.2342e+00,  1.2845e+00],\n",
            "        [-2.1358e-04, -3.8238e-01],\n",
            "        [-2.1396e+00,  1.9380e+00],\n",
            "        [ 8.1957e-01, -8.6491e-01],\n",
            "        [ 1.6750e+00, -1.2000e+00],\n",
            "        [ 1.2154e-01, -4.6584e-01]], grad_fn=<AddmmBackward0>)\n",
            "tensor([0, 0, 0, 0, 1, 0, 0, 0])\n",
            "tensor([0, 0, 1, 0, 1, 0, 0, 0])\n"
          ]
        },
        {
          "metadata": {
            "tags": null
          },
          "name": "stderr",
          "output_type": "stream",
          "text": [
            "\r 36%|███▌      | 187/525 [10:01<18:31,  3.29s/it]"
          ]
        },
        {
          "metadata": {
            "tags": null
          },
          "name": "stdout",
          "output_type": "stream",
          "text": [
            "tensor([[ 0.5506, -0.6005],\n",
            "        [ 1.7656, -1.8144],\n",
            "        [ 2.3806, -2.0215],\n",
            "        [-2.0648,  1.7783],\n",
            "        [-1.4728,  1.3822],\n",
            "        [ 1.2533, -1.2402],\n",
            "        [ 0.7532, -0.7201],\n",
            "        [ 0.6708, -0.6601]], grad_fn=<AddmmBackward0>)\n",
            "tensor([0, 0, 0, 1, 1, 0, 0, 0])\n",
            "tensor([0, 0, 0, 1, 1, 0, 0, 0])\n"
          ]
        },
        {
          "metadata": {
            "tags": null
          },
          "name": "stderr",
          "output_type": "stream",
          "text": [
            "\r 36%|███▌      | 188/525 [10:04<18:28,  3.29s/it]"
          ]
        },
        {
          "metadata": {
            "tags": null
          },
          "name": "stdout",
          "output_type": "stream",
          "text": [
            "tensor([[ 2.5017, -1.9359],\n",
            "        [-1.1973,  1.1503],\n",
            "        [-0.3623,  0.2563],\n",
            "        [-0.3689, -0.2298],\n",
            "        [ 2.2948, -1.7751],\n",
            "        [ 0.3347, -0.3638],\n",
            "        [ 1.1660, -1.2231],\n",
            "        [-0.2317,  0.0519]], grad_fn=<AddmmBackward0>)\n",
            "tensor([0, 1, 1, 1, 0, 1, 1, 1])\n",
            "tensor([0, 1, 1, 1, 0, 0, 0, 1])\n"
          ]
        },
        {
          "metadata": {
            "tags": null
          },
          "name": "stderr",
          "output_type": "stream",
          "text": [
            "\r 36%|███▌      | 189/525 [10:08<18:23,  3.29s/it]"
          ]
        },
        {
          "metadata": {
            "tags": null
          },
          "name": "stdout",
          "output_type": "stream",
          "text": [
            "tensor([[ 1.8350, -1.8747],\n",
            "        [ 1.3387, -1.1645],\n",
            "        [-1.0498,  0.8022],\n",
            "        [ 1.9225, -1.7286],\n",
            "        [-0.0025, -0.3146],\n",
            "        [-0.9266,  0.7920],\n",
            "        [ 2.2383, -1.8356],\n",
            "        [ 2.0493, -1.2556]], grad_fn=<AddmmBackward0>)\n",
            "tensor([0, 1, 1, 0, 1, 1, 0, 0])\n",
            "tensor([0, 0, 1, 0, 0, 1, 0, 0])\n"
          ]
        },
        {
          "metadata": {
            "tags": null
          },
          "name": "stderr",
          "output_type": "stream",
          "text": [
            "\r 36%|███▌      | 190/525 [10:11<18:45,  3.36s/it]"
          ]
        },
        {
          "metadata": {
            "tags": null
          },
          "name": "stdout",
          "output_type": "stream",
          "text": [
            "tensor([[ 1.6430, -1.4258],\n",
            "        [-1.7212,  1.5875],\n",
            "        [ 0.8352, -0.7930],\n",
            "        [ 1.9725, -1.8363],\n",
            "        [ 1.1427, -0.6471],\n",
            "        [-1.2269,  1.2305],\n",
            "        [-1.7867,  1.5512],\n",
            "        [-0.4098,  0.1196]], grad_fn=<AddmmBackward0>)\n",
            "tensor([0, 1, 0, 0, 1, 1, 1, 1])\n",
            "tensor([0, 1, 0, 0, 0, 1, 1, 1])\n"
          ]
        },
        {
          "metadata": {
            "tags": null
          },
          "name": "stderr",
          "output_type": "stream",
          "text": [
            "\r 36%|███▋      | 191/525 [10:15<19:09,  3.44s/it]"
          ]
        },
        {
          "metadata": {
            "tags": null
          },
          "name": "stdout",
          "output_type": "stream",
          "text": [
            "tensor([[ 1.0646, -0.9623],\n",
            "        [ 1.8636, -1.7065],\n",
            "        [ 0.9580, -0.7753],\n",
            "        [ 2.0225, -1.9467],\n",
            "        [ 1.8621, -2.0331],\n",
            "        [-0.3794, -0.2865],\n",
            "        [ 1.3145, -1.1662],\n",
            "        [ 1.4336, -1.1147]], grad_fn=<AddmmBackward0>)\n",
            "tensor([1, 0, 1, 0, 0, 1, 0, 0])\n",
            "tensor([0, 0, 0, 0, 0, 1, 0, 0])\n"
          ]
        },
        {
          "metadata": {
            "tags": null
          },
          "name": "stderr",
          "output_type": "stream",
          "text": [
            "\r 37%|███▋      | 192/525 [10:18<19:01,  3.43s/it]"
          ]
        },
        {
          "metadata": {
            "tags": null
          },
          "name": "stdout",
          "output_type": "stream",
          "text": [
            "tensor([[-1.5599,  1.2151],\n",
            "        [ 0.1826, -0.2381],\n",
            "        [ 2.2374, -1.7346],\n",
            "        [ 0.8650, -0.5610],\n",
            "        [ 1.3419, -1.3797],\n",
            "        [ 1.0624, -0.6419],\n",
            "        [ 1.8247, -1.3987],\n",
            "        [ 0.3508, -0.4143]], grad_fn=<AddmmBackward0>)\n",
            "tensor([1, 1, 0, 1, 0, 0, 0, 1])\n",
            "tensor([1, 0, 0, 0, 0, 0, 0, 0])\n"
          ]
        },
        {
          "metadata": {
            "tags": null
          },
          "name": "stderr",
          "output_type": "stream",
          "text": [
            "\r 37%|███▋      | 193/525 [10:21<18:35,  3.36s/it]"
          ]
        },
        {
          "metadata": {
            "tags": null
          },
          "name": "stdout",
          "output_type": "stream",
          "text": [
            "tensor([[ 1.4253, -1.2165],\n",
            "        [ 2.1289, -1.6343],\n",
            "        [ 2.2092, -2.1697],\n",
            "        [-1.0404,  0.8503],\n",
            "        [ 1.8763, -1.6469],\n",
            "        [-1.3384,  1.0653],\n",
            "        [ 0.7551, -0.8392],\n",
            "        [ 2.1550, -1.8242]], grad_fn=<AddmmBackward0>)\n",
            "tensor([0, 0, 0, 1, 0, 1, 0, 0])\n",
            "tensor([0, 0, 0, 1, 0, 1, 0, 0])\n"
          ]
        },
        {
          "metadata": {
            "tags": null
          },
          "name": "stderr",
          "output_type": "stream",
          "text": [
            "\r 37%|███▋      | 194/525 [10:25<18:51,  3.42s/it]"
          ]
        },
        {
          "metadata": {
            "tags": null
          },
          "name": "stdout",
          "output_type": "stream",
          "text": [
            "tensor([[ 1.8005, -1.6312],\n",
            "        [-1.2037,  0.8640],\n",
            "        [-2.0370,  1.9177],\n",
            "        [ 1.8098, -1.7163],\n",
            "        [ 0.4686, -0.5509],\n",
            "        [-1.5406,  1.5188],\n",
            "        [-1.9530,  1.8906],\n",
            "        [ 1.7512, -1.4167]], grad_fn=<AddmmBackward0>)\n",
            "tensor([0, 1, 1, 0, 0, 1, 1, 0])\n",
            "tensor([0, 1, 1, 0, 0, 1, 1, 0])\n"
          ]
        },
        {
          "metadata": {
            "tags": null
          },
          "name": "stderr",
          "output_type": "stream",
          "text": [
            "\r 37%|███▋      | 195/525 [10:28<18:51,  3.43s/it]"
          ]
        },
        {
          "metadata": {
            "tags": null
          },
          "name": "stdout",
          "output_type": "stream",
          "text": [
            "tensor([[-1.5872,  1.5438],\n",
            "        [ 0.7219, -0.8253],\n",
            "        [-1.0034,  0.5318],\n",
            "        [ 1.5695, -1.2318],\n",
            "        [-0.4790,  0.1099],\n",
            "        [-1.9986,  1.6543],\n",
            "        [-1.7154,  1.5813],\n",
            "        [-1.1694,  0.8863]], grad_fn=<AddmmBackward0>)\n",
            "tensor([1, 0, 1, 0, 0, 1, 1, 0])\n",
            "tensor([1, 0, 1, 0, 1, 1, 1, 1])\n"
          ]
        },
        {
          "metadata": {
            "tags": null
          },
          "name": "stderr",
          "output_type": "stream",
          "text": [
            "\r 37%|███▋      | 196/525 [10:32<18:41,  3.41s/it]"
          ]
        },
        {
          "metadata": {
            "tags": null
          },
          "name": "stdout",
          "output_type": "stream",
          "text": [
            "tensor([[ 0.4268, -0.4149],\n",
            "        [-1.4426,  1.4311],\n",
            "        [-1.8639,  1.6879],\n",
            "        [ 1.4028, -0.9891],\n",
            "        [-1.8676,  1.7124],\n",
            "        [-1.9543,  1.5919],\n",
            "        [ 0.1923, -0.5114],\n",
            "        [-1.7305,  1.7843]], grad_fn=<AddmmBackward0>)\n",
            "tensor([0, 1, 1, 0, 1, 1, 0, 1])\n",
            "tensor([0, 1, 1, 0, 1, 1, 0, 1])\n"
          ]
        },
        {
          "metadata": {
            "tags": null
          },
          "name": "stderr",
          "output_type": "stream",
          "text": [
            "\r 38%|███▊      | 197/525 [10:35<18:29,  3.38s/it]"
          ]
        },
        {
          "metadata": {
            "tags": null
          },
          "name": "stdout",
          "output_type": "stream",
          "text": [
            "tensor([[-1.9098,  1.9023],\n",
            "        [-1.8606,  1.5898],\n",
            "        [ 1.2104, -1.2259],\n",
            "        [-1.0005,  0.4705],\n",
            "        [-1.4042,  1.0950],\n",
            "        [-2.1848,  1.8667],\n",
            "        [-2.1862,  2.0306],\n",
            "        [-2.1497,  1.9020]], grad_fn=<AddmmBackward0>)\n",
            "tensor([1, 1, 0, 0, 0, 1, 1, 1])\n",
            "tensor([1, 1, 0, 1, 1, 1, 1, 1])\n"
          ]
        },
        {
          "metadata": {
            "tags": null
          },
          "name": "stderr",
          "output_type": "stream",
          "text": [
            "\r 38%|███▊      | 198/525 [10:39<18:30,  3.40s/it]"
          ]
        },
        {
          "metadata": {
            "tags": null
          },
          "name": "stdout",
          "output_type": "stream",
          "text": [
            "tensor([[-1.1778,  0.6941],\n",
            "        [-1.7959,  1.3612],\n",
            "        [ 0.0761, -0.1577],\n",
            "        [-2.0724,  1.7720],\n",
            "        [ 0.6123, -0.5835],\n",
            "        [ 0.6545, -0.8619],\n",
            "        [-1.1026,  0.5213],\n",
            "        [ 1.3250, -1.2308]], grad_fn=<AddmmBackward0>)\n",
            "tensor([1, 1, 1, 1, 0, 0, 0, 0])\n",
            "tensor([1, 1, 0, 1, 0, 0, 1, 0])\n"
          ]
        },
        {
          "metadata": {
            "tags": null
          },
          "name": "stderr",
          "output_type": "stream",
          "text": [
            "\r 38%|███▊      | 199/525 [10:42<18:28,  3.40s/it]"
          ]
        },
        {
          "metadata": {
            "tags": null
          },
          "name": "stdout",
          "output_type": "stream",
          "text": [
            "tensor([[ 0.3442, -0.4376],\n",
            "        [ 1.9934, -1.5735],\n",
            "        [-2.0129,  1.6983],\n",
            "        [-1.8106,  1.8041],\n",
            "        [-2.0965,  1.8673],\n",
            "        [ 2.2990, -1.7637],\n",
            "        [-0.8865,  0.2455],\n",
            "        [-2.0580,  2.0677]], grad_fn=<AddmmBackward0>)\n",
            "tensor([0, 0, 1, 1, 1, 0, 0, 1])\n",
            "tensor([0, 0, 1, 1, 1, 0, 1, 1])\n"
          ]
        },
        {
          "metadata": {
            "tags": null
          },
          "name": "stderr",
          "output_type": "stream",
          "text": [
            "\r 38%|███▊      | 200/525 [10:45<18:34,  3.43s/it]"
          ]
        },
        {
          "metadata": {
            "tags": null
          },
          "name": "stdout",
          "output_type": "stream",
          "text": [
            "tensor([[-1.1643,  0.2577],\n",
            "        [-1.8094,  1.7154],\n",
            "        [ 0.9252, -1.1768],\n",
            "        [-0.1861, -0.0741],\n",
            "        [-0.3375,  0.0448],\n",
            "        [ 1.1386, -1.0489],\n",
            "        [-0.2935,  0.0501],\n",
            "        [-1.2834,  0.9600]], grad_fn=<AddmmBackward0>)\n",
            "tensor([1, 1, 0, 1, 1, 0, 0, 1])\n",
            "tensor([1, 1, 0, 1, 1, 0, 1, 1])\n"
          ]
        },
        {
          "metadata": {
            "tags": null
          },
          "name": "stderr",
          "output_type": "stream",
          "text": [
            "\r 38%|███▊      | 201/525 [10:49<18:27,  3.42s/it]"
          ]
        },
        {
          "metadata": {
            "tags": null
          },
          "name": "stdout",
          "output_type": "stream",
          "text": [
            "tensor([[-1.1170,  0.6728],\n",
            "        [-0.6769, -0.0889],\n",
            "        [ 0.5712, -0.7242],\n",
            "        [-0.5101,  0.0136],\n",
            "        [ 0.0937, -0.4875],\n",
            "        [ 0.6628, -0.9800],\n",
            "        [-0.6413,  0.5185],\n",
            "        [ 1.2040, -1.2540]], grad_fn=<AddmmBackward0>)\n",
            "tensor([1, 0, 0, 0, 0, 0, 1, 0])\n",
            "tensor([1, 1, 0, 1, 0, 0, 1, 0])\n"
          ]
        },
        {
          "metadata": {
            "tags": null
          },
          "name": "stderr",
          "output_type": "stream",
          "text": [
            "\r 38%|███▊      | 202/525 [10:52<18:15,  3.39s/it]"
          ]
        },
        {
          "metadata": {
            "tags": null
          },
          "name": "stdout",
          "output_type": "stream",
          "text": [
            "tensor([[-0.7134,  0.4357],\n",
            "        [-1.4988,  1.2094],\n",
            "        [ 1.9205, -1.6974],\n",
            "        [-0.0070, -0.4705],\n",
            "        [-0.6891,  0.5572],\n",
            "        [-1.4082,  1.0486],\n",
            "        [-0.8068,  0.3206],\n",
            "        [ 0.1717, -0.3200]], grad_fn=<AddmmBackward0>)\n",
            "tensor([0, 1, 0, 0, 1, 1, 1, 0])\n",
            "tensor([1, 1, 0, 0, 1, 1, 1, 0])\n"
          ]
        },
        {
          "metadata": {
            "tags": null
          },
          "name": "stderr",
          "output_type": "stream",
          "text": [
            "\r 39%|███▊      | 203/525 [10:56<18:25,  3.43s/it]"
          ]
        },
        {
          "metadata": {
            "tags": null
          },
          "name": "stdout",
          "output_type": "stream",
          "text": [
            "tensor([[-0.3414,  0.2157],\n",
            "        [-0.4674,  0.0048],\n",
            "        [ 2.1964, -1.9443],\n",
            "        [-1.6837,  1.7465],\n",
            "        [ 1.3145, -1.3429],\n",
            "        [-1.4728,  0.9055],\n",
            "        [ 0.2068, -0.3293],\n",
            "        [ 2.1949, -1.6745]], grad_fn=<AddmmBackward0>)\n",
            "tensor([1, 1, 0, 1, 0, 1, 1, 0])\n",
            "tensor([1, 1, 0, 1, 0, 1, 0, 0])\n"
          ]
        },
        {
          "metadata": {
            "tags": null
          },
          "name": "stderr",
          "output_type": "stream",
          "text": [
            "\r 39%|███▉      | 204/525 [10:59<18:44,  3.50s/it]"
          ]
        },
        {
          "metadata": {
            "tags": null
          },
          "name": "stdout",
          "output_type": "stream",
          "text": [
            "tensor([[ 2.0101, -1.9931],\n",
            "        [-1.5641,  1.4012],\n",
            "        [ 1.3460, -1.1855],\n",
            "        [-1.4178,  1.4312],\n",
            "        [ 0.2173, -0.6068],\n",
            "        [-1.5116,  1.0903],\n",
            "        [ 2.4934, -2.0573],\n",
            "        [-1.5055,  1.3347]], grad_fn=<AddmmBackward0>)\n",
            "tensor([0, 1, 0, 1, 0, 1, 0, 1])\n",
            "tensor([0, 1, 0, 1, 0, 1, 0, 1])\n"
          ]
        },
        {
          "metadata": {
            "tags": null
          },
          "name": "stderr",
          "output_type": "stream",
          "text": [
            "\r 39%|███▉      | 205/525 [11:03<18:23,  3.45s/it]"
          ]
        },
        {
          "metadata": {
            "tags": null
          },
          "name": "stdout",
          "output_type": "stream",
          "text": [
            "tensor([[ 0.2104, -0.6528],\n",
            "        [ 1.3275, -1.4178],\n",
            "        [ 2.5376, -2.1342],\n",
            "        [ 1.1793, -1.1662],\n",
            "        [-1.1708,  1.0411],\n",
            "        [-1.2390,  0.6961],\n",
            "        [ 2.2816, -2.0926],\n",
            "        [ 1.2943, -1.3488]], grad_fn=<AddmmBackward0>)\n",
            "tensor([1, 0, 0, 0, 1, 1, 0, 0])\n",
            "tensor([0, 0, 0, 0, 1, 1, 0, 0])\n"
          ]
        },
        {
          "metadata": {
            "tags": null
          },
          "name": "stderr",
          "output_type": "stream",
          "text": [
            "\r 39%|███▉      | 206/525 [11:06<17:57,  3.38s/it]"
          ]
        },
        {
          "metadata": {
            "tags": null
          },
          "name": "stdout",
          "output_type": "stream",
          "text": [
            "tensor([[ 1.1645, -0.7676],\n",
            "        [ 1.1561, -1.1005],\n",
            "        [ 1.8093, -1.6752],\n",
            "        [ 1.3733, -1.5971],\n",
            "        [-0.0757, -0.3037],\n",
            "        [-1.4157,  1.1923],\n",
            "        [ 2.0299, -1.7618],\n",
            "        [ 2.2254, -1.9252]], grad_fn=<AddmmBackward0>)\n",
            "tensor([0, 1, 0, 0, 1, 1, 0, 0])\n",
            "tensor([0, 0, 0, 0, 0, 1, 0, 0])\n"
          ]
        },
        {
          "metadata": {
            "tags": null
          },
          "name": "stderr",
          "output_type": "stream",
          "text": [
            "\r 39%|███▉      | 207/525 [11:09<17:43,  3.35s/it]"
          ]
        },
        {
          "metadata": {
            "tags": null
          },
          "name": "stdout",
          "output_type": "stream",
          "text": [
            "tensor([[ 0.8588, -0.9615],\n",
            "        [-0.5272, -0.3995],\n",
            "        [ 0.8306, -0.7958],\n",
            "        [ 1.8255, -1.6094],\n",
            "        [ 1.5513, -1.4650],\n",
            "        [ 2.3241, -2.2421],\n",
            "        [-1.1575,  0.3191],\n",
            "        [ 2.0373, -1.8071]], grad_fn=<AddmmBackward0>)\n",
            "tensor([0, 1, 1, 0, 1, 0, 1, 0])\n",
            "tensor([0, 1, 0, 0, 0, 0, 1, 0])\n"
          ]
        },
        {
          "metadata": {
            "tags": null
          },
          "name": "stderr",
          "output_type": "stream",
          "text": [
            "\r 40%|███▉      | 208/525 [11:12<17:32,  3.32s/it]"
          ]
        },
        {
          "metadata": {
            "tags": null
          },
          "name": "stdout",
          "output_type": "stream",
          "text": [
            "tensor([[ 1.8682, -1.6161],\n",
            "        [-1.4320,  1.0106],\n",
            "        [ 2.1996, -1.7943],\n",
            "        [ 0.1073, -0.5229],\n",
            "        [-0.4750,  0.4997],\n",
            "        [ 1.5014, -1.5113],\n",
            "        [-0.7078,  0.1185],\n",
            "        [-0.8704,  0.2175]], grad_fn=<AddmmBackward0>)\n",
            "tensor([0, 1, 0, 1, 1, 0, 1, 1])\n",
            "tensor([0, 1, 0, 0, 1, 0, 1, 1])\n"
          ]
        },
        {
          "metadata": {
            "tags": null
          },
          "name": "stderr",
          "output_type": "stream",
          "text": [
            "\r 40%|███▉      | 209/525 [11:16<17:30,  3.32s/it]"
          ]
        },
        {
          "metadata": {
            "tags": null
          },
          "name": "stdout",
          "output_type": "stream",
          "text": [
            "tensor([[-0.1386, -0.0806],\n",
            "        [ 1.2035, -1.1969],\n",
            "        [-0.7197,  0.0759],\n",
            "        [-1.6634,  1.3952],\n",
            "        [ 1.9288, -1.7653],\n",
            "        [-1.2999,  1.0692],\n",
            "        [-0.1880, -0.4079],\n",
            "        [-0.7220,  0.3374]], grad_fn=<AddmmBackward0>)\n",
            "tensor([1, 0, 1, 1, 0, 1, 1, 1])\n",
            "tensor([1, 0, 1, 1, 0, 1, 0, 1])\n"
          ]
        },
        {
          "metadata": {
            "tags": null
          },
          "name": "stderr",
          "output_type": "stream",
          "text": [
            "\r 40%|████      | 210/525 [11:19<17:04,  3.25s/it]"
          ]
        },
        {
          "metadata": {
            "tags": null
          },
          "name": "stdout",
          "output_type": "stream",
          "text": [
            "tensor([[ 1.0522, -0.8841],\n",
            "        [-1.5092,  1.1929],\n",
            "        [-0.2441, -0.5620],\n",
            "        [ 0.7160, -0.7555],\n",
            "        [-1.8419,  1.4777],\n",
            "        [ 0.9997, -1.0992],\n",
            "        [-1.2978,  0.9980],\n",
            "        [ 1.9650, -1.5601]], grad_fn=<AddmmBackward0>)\n",
            "tensor([0, 1, 1, 0, 1, 0, 1, 0])\n",
            "tensor([0, 1, 0, 0, 1, 0, 1, 0])\n"
          ]
        },
        {
          "metadata": {
            "tags": null
          },
          "name": "stderr",
          "output_type": "stream",
          "text": [
            "\r 40%|████      | 211/525 [11:22<17:06,  3.27s/it]"
          ]
        },
        {
          "metadata": {
            "tags": null
          },
          "name": "stdout",
          "output_type": "stream",
          "text": [
            "tensor([[-1.1638,  0.6304],\n",
            "        [-1.1234,  0.4084],\n",
            "        [ 0.4410, -0.8091],\n",
            "        [-0.0221, -0.4604],\n",
            "        [-1.9298,  1.8666],\n",
            "        [-1.5191,  0.8951],\n",
            "        [-1.6622,  1.4198],\n",
            "        [ 0.9130, -0.9523]], grad_fn=<AddmmBackward0>)\n",
            "tensor([1, 1, 0, 0, 1, 1, 1, 0])\n",
            "tensor([1, 1, 0, 0, 1, 1, 1, 0])\n"
          ]
        },
        {
          "metadata": {
            "tags": null
          },
          "name": "stderr",
          "output_type": "stream",
          "text": [
            "\r 40%|████      | 212/525 [11:26<17:12,  3.30s/it]"
          ]
        },
        {
          "metadata": {
            "tags": null
          },
          "name": "stdout",
          "output_type": "stream",
          "text": [
            "tensor([[ 0.2765, -0.6199],\n",
            "        [ 1.6155, -1.2741],\n",
            "        [-1.9712,  1.8672],\n",
            "        [-0.1499, -0.5744],\n",
            "        [-1.2569,  0.6409],\n",
            "        [ 1.2242, -1.0687],\n",
            "        [ 1.0471, -0.8997],\n",
            "        [-1.7098,  1.5895]], grad_fn=<AddmmBackward0>)\n",
            "tensor([0, 0, 1, 0, 1, 0, 0, 1])\n",
            "tensor([0, 0, 1, 0, 1, 0, 0, 1])\n"
          ]
        },
        {
          "metadata": {
            "tags": null
          },
          "name": "stderr",
          "output_type": "stream",
          "text": [
            "\r 41%|████      | 213/525 [11:29<17:29,  3.36s/it]"
          ]
        },
        {
          "metadata": {
            "tags": null
          },
          "name": "stdout",
          "output_type": "stream",
          "text": [
            "tensor([[-2.2175,  1.9063],\n",
            "        [-2.1231,  2.0190],\n",
            "        [-1.7639,  1.2715],\n",
            "        [ 1.6354, -1.7514],\n",
            "        [ 0.0370, -0.4661],\n",
            "        [-0.1537, -0.1791],\n",
            "        [-2.0463,  1.6129],\n",
            "        [-1.2631,  0.6718]], grad_fn=<AddmmBackward0>)\n",
            "tensor([1, 1, 1, 0, 0, 0, 1, 1])\n",
            "tensor([1, 1, 1, 0, 0, 0, 1, 1])\n"
          ]
        },
        {
          "metadata": {
            "tags": null
          },
          "name": "stderr",
          "output_type": "stream",
          "text": [
            "\r 41%|████      | 214/525 [11:32<17:15,  3.33s/it]"
          ]
        },
        {
          "metadata": {
            "tags": null
          },
          "name": "stdout",
          "output_type": "stream",
          "text": [
            "tensor([[-0.6554,  0.1306],\n",
            "        [ 1.5735, -1.6500],\n",
            "        [-0.7094,  0.2058],\n",
            "        [-1.0331,  1.0170],\n",
            "        [ 0.1883, -0.3279],\n",
            "        [-2.2088,  1.8872],\n",
            "        [-0.6929,  0.2222],\n",
            "        [-1.6616,  1.2016]], grad_fn=<AddmmBackward0>)\n",
            "tensor([1, 0, 0, 1, 0, 1, 0, 1])\n",
            "tensor([1, 0, 1, 1, 0, 1, 1, 1])\n"
          ]
        },
        {
          "metadata": {
            "tags": null
          },
          "name": "stderr",
          "output_type": "stream",
          "text": [
            "\r 41%|████      | 215/525 [11:35<16:15,  3.15s/it]"
          ]
        },
        {
          "metadata": {
            "tags": null
          },
          "name": "stdout",
          "output_type": "stream",
          "text": [
            "tensor([[-1.0705,  0.8152],\n",
            "        [-2.0433,  2.2145],\n",
            "        [ 2.1951, -1.7472],\n",
            "        [ 1.4461, -1.1044],\n",
            "        [-1.6930,  1.2360],\n",
            "        [-2.1596,  2.3871],\n",
            "        [ 0.0690, -0.2566],\n",
            "        [ 1.6398, -1.3141]], grad_fn=<AddmmBackward0>)\n",
            "tensor([1, 1, 0, 0, 0, 1, 0, 0])\n",
            "tensor([1, 1, 0, 0, 1, 1, 0, 0])\n"
          ]
        },
        {
          "metadata": {
            "tags": null
          },
          "name": "stderr",
          "output_type": "stream",
          "text": [
            "\r 41%|████      | 216/525 [11:38<16:27,  3.20s/it]"
          ]
        },
        {
          "metadata": {
            "tags": null
          },
          "name": "stdout",
          "output_type": "stream",
          "text": [
            "tensor([[-0.3678, -0.0552],\n",
            "        [ 1.9883, -1.7791],\n",
            "        [-1.2389,  0.7139],\n",
            "        [-2.2334,  1.8697],\n",
            "        [ 2.6387, -1.9078],\n",
            "        [ 1.1983, -1.1729],\n",
            "        [-2.0263,  1.8780],\n",
            "        [-2.1192,  1.8251]], grad_fn=<AddmmBackward0>)\n",
            "tensor([1, 1, 1, 1, 0, 0, 1, 1])\n",
            "tensor([1, 0, 1, 1, 0, 0, 1, 1])\n"
          ]
        },
        {
          "metadata": {
            "tags": null
          },
          "name": "stderr",
          "output_type": "stream",
          "text": [
            "\r 41%|████▏     | 217/525 [11:42<16:49,  3.28s/it]"
          ]
        },
        {
          "metadata": {
            "tags": null
          },
          "name": "stdout",
          "output_type": "stream",
          "text": [
            "tensor([[ 1.7559, -1.6024],\n",
            "        [-1.2059,  0.5254],\n",
            "        [-1.7295,  1.2872],\n",
            "        [-0.0949, -0.3412],\n",
            "        [ 1.1541, -1.0654],\n",
            "        [-1.2601,  0.9616],\n",
            "        [-2.1519,  2.0602],\n",
            "        [-2.0104,  1.5964]], grad_fn=<AddmmBackward0>)\n",
            "tensor([0, 0, 1, 0, 0, 1, 1, 1])\n",
            "tensor([0, 1, 1, 0, 0, 1, 1, 1])\n"
          ]
        },
        {
          "metadata": {
            "tags": null
          },
          "name": "stderr",
          "output_type": "stream",
          "text": [
            "\r 42%|████▏     | 218/525 [11:45<17:04,  3.34s/it]"
          ]
        },
        {
          "metadata": {
            "tags": null
          },
          "name": "stdout",
          "output_type": "stream",
          "text": [
            "tensor([[-1.7520,  1.6943],\n",
            "        [-2.0881,  1.8964],\n",
            "        [ 1.5067, -1.3517],\n",
            "        [-2.2064,  1.5028],\n",
            "        [-2.1839,  1.9660],\n",
            "        [-2.0529,  2.0126],\n",
            "        [ 1.5527, -1.4856],\n",
            "        [ 2.1082, -2.0989]], grad_fn=<AddmmBackward0>)\n",
            "tensor([1, 1, 0, 1, 1, 1, 0, 0])\n",
            "tensor([1, 1, 0, 1, 1, 1, 0, 0])\n"
          ]
        },
        {
          "metadata": {
            "tags": null
          },
          "name": "stderr",
          "output_type": "stream",
          "text": [
            "\r 42%|████▏     | 219/525 [11:49<16:54,  3.32s/it]"
          ]
        },
        {
          "metadata": {
            "tags": null
          },
          "name": "stdout",
          "output_type": "stream",
          "text": [
            "tensor([[ 0.6376, -0.6285],\n",
            "        [ 0.3661, -0.6979],\n",
            "        [-1.9661,  1.6353],\n",
            "        [ 2.0096, -1.8337],\n",
            "        [-2.0344,  1.8549],\n",
            "        [ 2.5549, -2.0061],\n",
            "        [-2.1618,  1.7168],\n",
            "        [ 0.7051, -0.6205]], grad_fn=<AddmmBackward0>)\n",
            "tensor([0, 0, 1, 0, 1, 0, 1, 0])\n",
            "tensor([0, 0, 1, 0, 1, 0, 1, 0])\n"
          ]
        },
        {
          "metadata": {
            "tags": null
          },
          "name": "stderr",
          "output_type": "stream",
          "text": [
            "\r 42%|████▏     | 220/525 [11:52<16:48,  3.31s/it]"
          ]
        },
        {
          "metadata": {
            "tags": null
          },
          "name": "stdout",
          "output_type": "stream",
          "text": [
            "tensor([[-1.7389,  2.0653],\n",
            "        [ 0.7015, -0.6604],\n",
            "        [-2.1379,  2.0493],\n",
            "        [ 2.4870, -1.9209],\n",
            "        [-0.9949,  0.6925],\n",
            "        [ 1.7690, -1.4069],\n",
            "        [-1.8997,  1.8312],\n",
            "        [ 0.7748, -0.9310]], grad_fn=<AddmmBackward0>)\n",
            "tensor([1, 1, 1, 0, 1, 0, 1, 1])\n",
            "tensor([1, 0, 1, 0, 1, 0, 1, 0])\n"
          ]
        },
        {
          "metadata": {
            "tags": null
          },
          "name": "stderr",
          "output_type": "stream",
          "text": [
            "\r 42%|████▏     | 221/525 [11:55<17:04,  3.37s/it]"
          ]
        },
        {
          "metadata": {
            "tags": null
          },
          "name": "stdout",
          "output_type": "stream",
          "text": [
            "tensor([[-1.9799,  1.8087],\n",
            "        [-1.1509,  0.9245],\n",
            "        [ 1.8045, -1.6089],\n",
            "        [-2.0899,  1.9781],\n",
            "        [-1.5833,  1.1632],\n",
            "        [ 2.3893, -2.0725],\n",
            "        [ 1.8362, -1.6438],\n",
            "        [-1.1338,  0.6815]], grad_fn=<AddmmBackward0>)\n",
            "tensor([1, 0, 0, 1, 1, 0, 0, 1])\n",
            "tensor([1, 1, 0, 1, 1, 0, 0, 1])\n"
          ]
        },
        {
          "metadata": {
            "tags": null
          },
          "name": "stderr",
          "output_type": "stream",
          "text": [
            "\r 42%|████▏     | 222/525 [11:59<17:21,  3.44s/it]"
          ]
        },
        {
          "metadata": {
            "tags": null
          },
          "name": "stdout",
          "output_type": "stream",
          "text": [
            "tensor([[-1.9506,  1.6883],\n",
            "        [-1.2656,  0.8408],\n",
            "        [-1.7592,  1.7461],\n",
            "        [ 1.4315, -1.3910],\n",
            "        [ 1.3196, -1.1190],\n",
            "        [ 2.0940, -1.7861],\n",
            "        [-0.3291, -0.0063],\n",
            "        [-1.2971,  1.0504]], grad_fn=<AddmmBackward0>)\n",
            "tensor([1, 0, 1, 1, 0, 0, 1, 1])\n",
            "tensor([1, 1, 1, 0, 0, 0, 1, 1])\n"
          ]
        },
        {
          "metadata": {
            "tags": null
          },
          "name": "stderr",
          "output_type": "stream",
          "text": [
            "\r 42%|████▏     | 223/525 [12:02<16:26,  3.27s/it]"
          ]
        },
        {
          "metadata": {
            "tags": null
          },
          "name": "stdout",
          "output_type": "stream",
          "text": [
            "tensor([[ 2.6333, -1.9744],\n",
            "        [ 2.5889, -1.8600],\n",
            "        [ 2.6092, -1.9397],\n",
            "        [ 0.3495, -0.4318],\n",
            "        [-0.7912,  0.2897],\n",
            "        [ 2.4857, -2.1042],\n",
            "        [ 2.2080, -1.8802],\n",
            "        [-0.3073, -0.0214]], grad_fn=<AddmmBackward0>)\n",
            "tensor([0, 0, 0, 0, 1, 0, 0, 0])\n",
            "tensor([0, 0, 0, 0, 1, 0, 0, 1])\n"
          ]
        },
        {
          "metadata": {
            "tags": null
          },
          "name": "stderr",
          "output_type": "stream",
          "text": [
            "\r 43%|████▎     | 224/525 [12:05<16:26,  3.28s/it]"
          ]
        },
        {
          "metadata": {
            "tags": null
          },
          "name": "stdout",
          "output_type": "stream",
          "text": [
            "tensor([[-0.9485,  0.2222],\n",
            "        [ 0.6122, -0.8405],\n",
            "        [-2.2791,  2.2154],\n",
            "        [-1.1734,  1.1962],\n",
            "        [ 0.9609, -0.9202],\n",
            "        [-2.2877,  1.7064],\n",
            "        [ 0.8939, -0.8514],\n",
            "        [-2.3670,  1.9350]], grad_fn=<AddmmBackward0>)\n",
            "tensor([1, 0, 1, 1, 0, 1, 0, 1])\n",
            "tensor([1, 0, 1, 1, 0, 1, 0, 1])\n"
          ]
        },
        {
          "metadata": {
            "tags": null
          },
          "name": "stderr",
          "output_type": "stream",
          "text": [
            "\r 43%|████▎     | 225/525 [12:08<16:08,  3.23s/it]"
          ]
        },
        {
          "metadata": {
            "tags": null
          },
          "name": "stdout",
          "output_type": "stream",
          "text": [
            "tensor([[-2.2315,  2.1338],\n",
            "        [ 0.8372, -0.9283],\n",
            "        [ 2.2310, -2.0060],\n",
            "        [-0.6041,  0.0708],\n",
            "        [-2.2943,  2.0780],\n",
            "        [-2.0829,  2.0253],\n",
            "        [ 2.3925, -1.6776],\n",
            "        [-0.7298,  0.1856]], grad_fn=<AddmmBackward0>)\n",
            "tensor([1, 0, 0, 0, 1, 1, 0, 0])\n",
            "tensor([1, 0, 0, 1, 1, 1, 0, 1])\n"
          ]
        },
        {
          "metadata": {
            "tags": null
          },
          "name": "stderr",
          "output_type": "stream",
          "text": [
            "\r 43%|████▎     | 226/525 [12:12<16:19,  3.28s/it]"
          ]
        },
        {
          "metadata": {
            "tags": null
          },
          "name": "stdout",
          "output_type": "stream",
          "text": [
            "tensor([[-1.9753,  1.9802],\n",
            "        [ 2.5785, -1.8793],\n",
            "        [ 1.2580, -1.2371],\n",
            "        [-0.5916,  0.1720],\n",
            "        [ 1.7220, -1.6974],\n",
            "        [ 2.2120, -1.6077],\n",
            "        [ 2.4256, -1.9830],\n",
            "        [ 2.0754, -1.6666]], grad_fn=<AddmmBackward0>)\n",
            "tensor([1, 0, 0, 0, 0, 0, 0, 0])\n",
            "tensor([1, 0, 0, 1, 0, 0, 0, 0])\n"
          ]
        },
        {
          "metadata": {
            "tags": null
          },
          "name": "stderr",
          "output_type": "stream",
          "text": [
            "\r 43%|████▎     | 227/525 [12:15<16:38,  3.35s/it]"
          ]
        },
        {
          "metadata": {
            "tags": null
          },
          "name": "stdout",
          "output_type": "stream",
          "text": [
            "tensor([[-2.0752,  1.9879],\n",
            "        [-0.9231,  0.3938],\n",
            "        [ 1.7189, -1.2565],\n",
            "        [ 0.0629, -0.1356],\n",
            "        [-0.4869,  0.0793],\n",
            "        [-2.1061,  1.7556],\n",
            "        [ 2.3164, -1.6508],\n",
            "        [ 0.1236, -0.2536]], grad_fn=<AddmmBackward0>)\n",
            "tensor([1, 1, 0, 0, 1, 1, 0, 1])\n",
            "tensor([1, 1, 0, 0, 1, 1, 0, 0])\n"
          ]
        },
        {
          "metadata": {
            "tags": null
          },
          "name": "stderr",
          "output_type": "stream",
          "text": [
            "\r 43%|████▎     | 228/525 [12:19<17:05,  3.45s/it]"
          ]
        },
        {
          "metadata": {
            "tags": null
          },
          "name": "stdout",
          "output_type": "stream",
          "text": [
            "tensor([[ 2.3235, -1.8262],\n",
            "        [-1.4874,  1.1293],\n",
            "        [ 2.0913, -2.0061],\n",
            "        [-1.3033,  0.6243],\n",
            "        [-1.3741,  1.0507],\n",
            "        [ 1.9990, -1.6084],\n",
            "        [-1.1394,  1.1182],\n",
            "        [ 1.2663, -1.1518]], grad_fn=<AddmmBackward0>)\n",
            "tensor([0, 1, 0, 1, 1, 0, 1, 0])\n",
            "tensor([0, 1, 0, 1, 1, 0, 1, 0])\n"
          ]
        },
        {
          "metadata": {
            "tags": null
          },
          "name": "stderr",
          "output_type": "stream",
          "text": [
            "\r 44%|████▎     | 229/525 [12:22<16:34,  3.36s/it]"
          ]
        },
        {
          "metadata": {
            "tags": null
          },
          "name": "stdout",
          "output_type": "stream",
          "text": [
            "tensor([[-0.8640,  0.0768],\n",
            "        [ 1.0429, -0.9573],\n",
            "        [ 0.1569, -0.0557],\n",
            "        [ 1.6383, -1.1899],\n",
            "        [ 2.1988, -1.8494],\n",
            "        [-1.4947,  0.9256],\n",
            "        [ 1.7919, -1.2149],\n",
            "        [ 1.9021, -1.4803]], grad_fn=<AddmmBackward0>)\n",
            "tensor([1, 0, 1, 1, 0, 1, 0, 1])\n",
            "tensor([1, 0, 0, 0, 0, 1, 0, 0])\n"
          ]
        },
        {
          "metadata": {
            "tags": null
          },
          "name": "stderr",
          "output_type": "stream",
          "text": [
            "\r 44%|████▍     | 230/525 [12:25<16:14,  3.30s/it]"
          ]
        },
        {
          "metadata": {
            "tags": null
          },
          "name": "stdout",
          "output_type": "stream",
          "text": [
            "tensor([[-1.0391,  0.4765],\n",
            "        [-1.8305,  1.4608],\n",
            "        [-0.4045,  0.0202],\n",
            "        [ 0.8900, -0.7624],\n",
            "        [-1.4385,  0.8903],\n",
            "        [ 1.3846, -1.1419],\n",
            "        [ 0.2873, -0.5870],\n",
            "        [-1.4994,  1.0845]], grad_fn=<AddmmBackward0>)\n",
            "tensor([1, 1, 1, 1, 1, 0, 0, 1])\n",
            "tensor([1, 1, 1, 0, 1, 0, 0, 1])\n"
          ]
        },
        {
          "metadata": {
            "tags": null
          },
          "name": "stderr",
          "output_type": "stream",
          "text": [
            "\r 44%|████▍     | 231/525 [12:29<16:23,  3.35s/it]"
          ]
        },
        {
          "metadata": {
            "tags": null
          },
          "name": "stdout",
          "output_type": "stream",
          "text": [
            "tensor([[ 0.0670, -0.4487],\n",
            "        [ 0.7238, -0.3523],\n",
            "        [ 1.1746, -1.2808],\n",
            "        [ 1.4516, -1.1316],\n",
            "        [-0.0397, -0.1872],\n",
            "        [ 1.2726, -1.1081],\n",
            "        [ 1.7430, -1.3168],\n",
            "        [ 2.2163, -1.7751]], grad_fn=<AddmmBackward0>)\n",
            "tensor([1, 0, 0, 0, 1, 0, 0, 0])\n",
            "tensor([0, 0, 0, 0, 0, 0, 0, 0])\n"
          ]
        },
        {
          "metadata": {
            "tags": null
          },
          "name": "stderr",
          "output_type": "stream",
          "text": [
            "\r 44%|████▍     | 232/525 [12:32<16:44,  3.43s/it]"
          ]
        },
        {
          "metadata": {
            "tags": null
          },
          "name": "stdout",
          "output_type": "stream",
          "text": [
            "tensor([[-0.2899,  0.0764],\n",
            "        [ 0.2071, -0.3926],\n",
            "        [ 0.2394, -0.5892],\n",
            "        [ 0.8625, -0.8193],\n",
            "        [ 1.0352, -0.7775],\n",
            "        [ 1.9060, -1.4416],\n",
            "        [-0.6484,  0.4087],\n",
            "        [-0.7433,  0.0627]], grad_fn=<AddmmBackward0>)\n",
            "tensor([1, 1, 1, 1, 0, 0, 1, 1])\n",
            "tensor([1, 0, 0, 0, 0, 0, 1, 1])\n"
          ]
        },
        {
          "metadata": {
            "tags": null
          },
          "name": "stderr",
          "output_type": "stream",
          "text": [
            "\r 44%|████▍     | 233/525 [12:35<16:04,  3.30s/it]"
          ]
        },
        {
          "metadata": {
            "tags": null
          },
          "name": "stdout",
          "output_type": "stream",
          "text": [
            "tensor([[-1.0788,  0.6315],\n",
            "        [-1.1118,  0.3079],\n",
            "        [ 1.8783, -1.5518],\n",
            "        [-1.8121,  2.0847],\n",
            "        [ 1.2595, -1.0817],\n",
            "        [-0.4159,  0.0721],\n",
            "        [-1.7933,  1.6369],\n",
            "        [ 0.5552, -0.5869]], grad_fn=<AddmmBackward0>)\n",
            "tensor([1, 1, 0, 1, 0, 1, 1, 0])\n",
            "tensor([1, 1, 0, 1, 0, 1, 1, 0])\n"
          ]
        },
        {
          "metadata": {
            "tags": null
          },
          "name": "stderr",
          "output_type": "stream",
          "text": [
            "\r 45%|████▍     | 234/525 [12:38<15:50,  3.27s/it]"
          ]
        },
        {
          "metadata": {
            "tags": null
          },
          "name": "stdout",
          "output_type": "stream",
          "text": [
            "tensor([[ 1.5753, -0.9735],\n",
            "        [-0.9082,  0.2890],\n",
            "        [ 1.4520, -0.9633],\n",
            "        [-1.4931,  1.0280],\n",
            "        [-0.9156,  0.3529],\n",
            "        [-2.0054,  2.0560],\n",
            "        [ 0.8802, -0.6268],\n",
            "        [ 0.8652, -0.6135]], grad_fn=<AddmmBackward0>)\n",
            "tensor([0, 1, 0, 1, 1, 1, 0, 0])\n",
            "tensor([0, 1, 0, 1, 1, 1, 0, 0])\n"
          ]
        },
        {
          "metadata": {
            "tags": null
          },
          "name": "stderr",
          "output_type": "stream",
          "text": [
            "\r 45%|████▍     | 235/525 [12:42<15:57,  3.30s/it]"
          ]
        },
        {
          "metadata": {
            "tags": null
          },
          "name": "stdout",
          "output_type": "stream",
          "text": [
            "tensor([[-0.5571,  0.3440],\n",
            "        [-1.1372,  0.9770],\n",
            "        [ 1.1575, -0.8405],\n",
            "        [-1.1072,  0.3563],\n",
            "        [ 1.3111, -0.9873],\n",
            "        [-1.4290,  0.6335],\n",
            "        [ 1.5468, -1.4226],\n",
            "        [-1.2937,  0.8762]], grad_fn=<AddmmBackward0>)\n",
            "tensor([1, 1, 0, 1, 0, 1, 0, 1])\n",
            "tensor([1, 1, 0, 1, 0, 1, 0, 1])\n"
          ]
        },
        {
          "metadata": {
            "tags": null
          },
          "name": "stderr",
          "output_type": "stream",
          "text": [
            "\r 45%|████▍     | 236/525 [12:45<15:44,  3.27s/it]"
          ]
        },
        {
          "metadata": {
            "tags": null
          },
          "name": "stdout",
          "output_type": "stream",
          "text": [
            "tensor([[ 0.3472, -0.3848],\n",
            "        [-0.8553,  0.1300],\n",
            "        [-1.0507,  0.9313],\n",
            "        [ 0.8803, -0.5325],\n",
            "        [ 0.4549, -0.4660],\n",
            "        [-2.2325,  2.3135],\n",
            "        [-1.0711,  0.1199],\n",
            "        [-2.2285,  2.0050]], grad_fn=<AddmmBackward0>)\n",
            "tensor([0, 0, 0, 0, 0, 1, 0, 1])\n",
            "tensor([0, 1, 1, 0, 0, 1, 1, 1])\n"
          ]
        },
        {
          "metadata": {
            "tags": null
          },
          "name": "stderr",
          "output_type": "stream",
          "text": [
            "\r 45%|████▌     | 237/525 [12:48<15:43,  3.28s/it]"
          ]
        },
        {
          "metadata": {
            "tags": null
          },
          "name": "stdout",
          "output_type": "stream",
          "text": [
            "tensor([[ 1.8149, -1.2207],\n",
            "        [ 0.2365, -0.2334],\n",
            "        [ 1.5024, -0.7027],\n",
            "        [-2.3444,  2.0646],\n",
            "        [ 1.6007, -1.2986],\n",
            "        [-0.8657,  0.1809],\n",
            "        [ 0.2126, -0.3996],\n",
            "        [ 1.6059, -1.3557]], grad_fn=<AddmmBackward0>)\n",
            "tensor([0, 0, 0, 1, 0, 0, 0, 0])\n",
            "tensor([0, 0, 0, 1, 0, 1, 0, 0])\n"
          ]
        },
        {
          "metadata": {
            "tags": null
          },
          "name": "stderr",
          "output_type": "stream",
          "text": [
            "\r 45%|████▌     | 238/525 [12:52<15:42,  3.28s/it]"
          ]
        },
        {
          "metadata": {
            "tags": null
          },
          "name": "stdout",
          "output_type": "stream",
          "text": [
            "tensor([[-1.8495,  1.4992],\n",
            "        [ 1.0806, -0.9391],\n",
            "        [-1.5521,  1.1641],\n",
            "        [ 1.4035, -0.7450],\n",
            "        [-0.1312, -0.3986],\n",
            "        [ 0.3976, -0.2026],\n",
            "        [ 0.5686, -0.5514],\n",
            "        [-2.4343,  2.1367]], grad_fn=<AddmmBackward0>)\n",
            "tensor([1, 0, 1, 0, 0, 0, 0, 1])\n",
            "tensor([1, 0, 1, 0, 0, 0, 0, 1])\n"
          ]
        },
        {
          "metadata": {
            "tags": null
          },
          "name": "stderr",
          "output_type": "stream",
          "text": [
            "\r 46%|████▌     | 239/525 [12:55<15:50,  3.32s/it]"
          ]
        },
        {
          "metadata": {
            "tags": null
          },
          "name": "stdout",
          "output_type": "stream",
          "text": [
            "tensor([[ 0.2638, -0.3736],\n",
            "        [ 0.1022, -0.1545],\n",
            "        [ 0.7809, -0.7150],\n",
            "        [-1.3872,  0.9329],\n",
            "        [ 1.7140, -1.2449],\n",
            "        [-2.2955,  1.7322],\n",
            "        [-1.1610,  0.7331],\n",
            "        [ 0.9039, -0.6963]], grad_fn=<AddmmBackward0>)\n",
            "tensor([0, 0, 0, 1, 0, 1, 1, 0])\n",
            "tensor([0, 0, 0, 1, 0, 1, 1, 0])\n"
          ]
        },
        {
          "metadata": {
            "tags": null
          },
          "name": "stderr",
          "output_type": "stream",
          "text": [
            "\r 46%|████▌     | 240/525 [12:59<16:08,  3.40s/it]"
          ]
        },
        {
          "metadata": {
            "tags": null
          },
          "name": "stdout",
          "output_type": "stream",
          "text": [
            "tensor([[ 1.0974, -0.8736],\n",
            "        [-2.3251,  2.2966],\n",
            "        [ 0.8130, -0.7381],\n",
            "        [ 1.6497, -1.3083],\n",
            "        [-0.8884,  0.4146],\n",
            "        [-2.1054,  1.8216],\n",
            "        [-0.5578,  0.2522],\n",
            "        [ 1.0253, -0.5565]], grad_fn=<AddmmBackward0>)\n",
            "tensor([0, 1, 0, 0, 0, 1, 1, 0])\n",
            "tensor([0, 1, 0, 0, 1, 1, 1, 0])\n"
          ]
        },
        {
          "metadata": {
            "tags": null
          },
          "name": "stderr",
          "output_type": "stream",
          "text": [
            "\r 46%|████▌     | 241/525 [13:02<15:38,  3.30s/it]"
          ]
        },
        {
          "metadata": {
            "tags": null
          },
          "name": "stdout",
          "output_type": "stream",
          "text": [
            "tensor([[-1.5398,  1.5576],\n",
            "        [-1.5949,  1.5049],\n",
            "        [ 1.5645, -0.9922],\n",
            "        [ 0.5846, -0.7560],\n",
            "        [-0.8507,  0.4324],\n",
            "        [-2.1776,  1.9941],\n",
            "        [-1.2000,  0.8250],\n",
            "        [ 2.2409, -1.5705]], grad_fn=<AddmmBackward0>)\n",
            "tensor([1, 1, 0, 0, 1, 1, 1, 0])\n",
            "tensor([1, 1, 0, 0, 1, 1, 1, 0])\n"
          ]
        },
        {
          "metadata": {
            "tags": null
          },
          "name": "stderr",
          "output_type": "stream",
          "text": [
            "\r 46%|████▌     | 242/525 [13:05<15:07,  3.21s/it]"
          ]
        },
        {
          "metadata": {
            "tags": null
          },
          "name": "stdout",
          "output_type": "stream",
          "text": [
            "tensor([[ 1.6213, -1.1354],\n",
            "        [-1.5458,  1.0460],\n",
            "        [ 0.7467, -0.5815],\n",
            "        [ 0.6636, -0.4775],\n",
            "        [ 1.9043, -1.6115],\n",
            "        [ 0.0545, -0.2652],\n",
            "        [-1.4960,  1.2368],\n",
            "        [-1.5795,  0.9404]], grad_fn=<AddmmBackward0>)\n",
            "tensor([0, 1, 0, 0, 0, 0, 1, 1])\n",
            "tensor([0, 1, 0, 0, 0, 0, 1, 1])\n"
          ]
        },
        {
          "metadata": {
            "tags": null
          },
          "name": "stderr",
          "output_type": "stream",
          "text": [
            "\r 46%|████▋     | 243/525 [13:08<14:57,  3.18s/it]"
          ]
        },
        {
          "metadata": {
            "tags": null
          },
          "name": "stdout",
          "output_type": "stream",
          "text": [
            "tensor([[-0.3843,  0.1093],\n",
            "        [-0.9734,  0.3101],\n",
            "        [-0.8441,  0.3714],\n",
            "        [-2.2671,  1.9769],\n",
            "        [ 1.5336, -1.1456],\n",
            "        [-2.1469,  2.3946],\n",
            "        [ 1.8507, -1.4686],\n",
            "        [-1.9784,  1.7797]], grad_fn=<AddmmBackward0>)\n",
            "tensor([1, 1, 1, 1, 0, 1, 0, 1])\n",
            "tensor([1, 1, 1, 1, 0, 1, 0, 1])\n"
          ]
        },
        {
          "metadata": {
            "tags": null
          },
          "name": "stderr",
          "output_type": "stream",
          "text": [
            "\r 46%|████▋     | 244/525 [13:11<14:58,  3.20s/it]"
          ]
        },
        {
          "metadata": {
            "tags": null
          },
          "name": "stdout",
          "output_type": "stream",
          "text": [
            "tensor([[-0.0958,  0.0531],\n",
            "        [-2.2899,  2.1572],\n",
            "        [ 1.8153, -1.2867],\n",
            "        [ 2.1992, -1.6036],\n",
            "        [-0.2804, -0.0252],\n",
            "        [-0.8910,  0.1762],\n",
            "        [-1.1077,  0.8608],\n",
            "        [ 1.4163, -1.1197]], grad_fn=<AddmmBackward0>)\n",
            "tensor([1, 1, 0, 0, 1, 1, 1, 0])\n",
            "tensor([1, 1, 0, 0, 1, 1, 1, 0])\n"
          ]
        },
        {
          "metadata": {
            "tags": null
          },
          "name": "stderr",
          "output_type": "stream",
          "text": [
            "\r 47%|████▋     | 245/525 [13:14<14:53,  3.19s/it]"
          ]
        },
        {
          "metadata": {
            "tags": null
          },
          "name": "stdout",
          "output_type": "stream",
          "text": [
            "tensor([[-2.1869,  2.1112],\n",
            "        [ 1.7646, -1.0999],\n",
            "        [ 1.6540, -1.1795],\n",
            "        [ 0.9034, -0.5845],\n",
            "        [-2.3454,  1.9611],\n",
            "        [ 2.2038, -1.6583],\n",
            "        [ 1.9103, -1.6702],\n",
            "        [ 1.9818, -1.5689]], grad_fn=<AddmmBackward0>)\n",
            "tensor([1, 0, 0, 1, 1, 0, 0, 0])\n",
            "tensor([1, 0, 0, 0, 1, 0, 0, 0])\n"
          ]
        },
        {
          "metadata": {
            "tags": null
          },
          "name": "stderr",
          "output_type": "stream",
          "text": [
            "\r 47%|████▋     | 246/525 [13:17<14:04,  3.03s/it]"
          ]
        },
        {
          "metadata": {
            "tags": null
          },
          "name": "stdout",
          "output_type": "stream",
          "text": [
            "tensor([[ 1.2483, -0.9491],\n",
            "        [ 2.2340, -1.4848],\n",
            "        [-2.0087,  2.0575],\n",
            "        [ 2.2259, -1.8148],\n",
            "        [ 1.1927, -0.6934],\n",
            "        [ 2.6250, -1.5540],\n",
            "        [ 2.0328, -1.5592],\n",
            "        [ 2.2457, -1.2803]], grad_fn=<AddmmBackward0>)\n",
            "tensor([1, 0, 1, 0, 0, 0, 0, 0])\n",
            "tensor([0, 0, 1, 0, 0, 0, 0, 0])\n"
          ]
        },
        {
          "metadata": {
            "tags": null
          },
          "name": "stderr",
          "output_type": "stream",
          "text": [
            "\r 47%|████▋     | 247/525 [13:20<14:19,  3.09s/it]"
          ]
        },
        {
          "metadata": {
            "tags": null
          },
          "name": "stdout",
          "output_type": "stream",
          "text": [
            "tensor([[ 0.3219, -0.2396],\n",
            "        [-0.6034,  0.2220],\n",
            "        [ 2.5438, -1.7242],\n",
            "        [ 0.9637, -0.6413],\n",
            "        [-2.3449,  2.2035],\n",
            "        [-2.5109,  2.1416],\n",
            "        [ 1.3797, -1.1658],\n",
            "        [ 2.2144, -1.6846]], grad_fn=<AddmmBackward0>)\n",
            "tensor([0, 0, 0, 0, 1, 1, 0, 0])\n",
            "tensor([0, 1, 0, 0, 1, 1, 0, 0])\n"
          ]
        },
        {
          "metadata": {
            "tags": null
          },
          "name": "stderr",
          "output_type": "stream",
          "text": [
            "\r 47%|████▋     | 248/525 [13:23<13:49,  2.99s/it]"
          ]
        },
        {
          "metadata": {
            "tags": null
          },
          "name": "stdout",
          "output_type": "stream",
          "text": [
            "tensor([[ 1.4796, -1.2055],\n",
            "        [ 1.5512, -1.1150],\n",
            "        [-1.6494,  1.3918],\n",
            "        [ 2.5087, -1.5359],\n",
            "        [-2.4842,  2.2509],\n",
            "        [-1.4293,  0.8407],\n",
            "        [ 2.3607, -1.3670],\n",
            "        [-2.2125,  1.9667]], grad_fn=<AddmmBackward0>)\n",
            "tensor([0, 0, 1, 0, 1, 1, 0, 1])\n",
            "tensor([0, 0, 1, 0, 1, 1, 0, 1])\n"
          ]
        },
        {
          "metadata": {
            "tags": null
          },
          "name": "stderr",
          "output_type": "stream",
          "text": [
            "\r 47%|████▋     | 249/525 [13:26<14:09,  3.08s/it]"
          ]
        },
        {
          "metadata": {
            "tags": null
          },
          "name": "stdout",
          "output_type": "stream",
          "text": [
            "tensor([[-2.2436,  2.3391],\n",
            "        [ 2.4738, -1.6739],\n",
            "        [ 2.4545, -1.7491],\n",
            "        [ 2.4088, -1.6630],\n",
            "        [-2.3195,  2.1593],\n",
            "        [-2.3151,  2.1933],\n",
            "        [ 2.1872, -1.4496],\n",
            "        [ 1.5559, -1.2151]], grad_fn=<AddmmBackward0>)\n",
            "tensor([1, 0, 0, 0, 1, 1, 0, 0])\n",
            "tensor([1, 0, 0, 0, 1, 1, 0, 0])\n"
          ]
        },
        {
          "metadata": {
            "tags": null
          },
          "name": "stderr",
          "output_type": "stream",
          "text": [
            "\r 48%|████▊     | 250/525 [13:29<13:57,  3.05s/it]"
          ]
        },
        {
          "metadata": {
            "tags": null
          },
          "name": "stdout",
          "output_type": "stream",
          "text": [
            "tensor([[-2.2462,  2.1261],\n",
            "        [ 2.1317, -1.8995],\n",
            "        [-0.3216,  0.0777],\n",
            "        [ 1.4817, -0.9124],\n",
            "        [ 1.7735, -1.4102],\n",
            "        [-2.0793,  2.0325],\n",
            "        [ 1.6288, -1.1930],\n",
            "        [-2.4332,  2.3315]], grad_fn=<AddmmBackward0>)\n",
            "tensor([1, 0, 1, 0, 0, 1, 0, 1])\n",
            "tensor([1, 0, 1, 0, 0, 1, 0, 1])\n"
          ]
        },
        {
          "metadata": {
            "tags": null
          },
          "name": "stderr",
          "output_type": "stream",
          "text": [
            "\r 48%|████▊     | 251/525 [13:32<14:11,  3.11s/it]"
          ]
        },
        {
          "metadata": {
            "tags": null
          },
          "name": "stdout",
          "output_type": "stream",
          "text": [
            "tensor([[-2.3534,  2.1866],\n",
            "        [-2.3762,  2.3643],\n",
            "        [ 2.1269, -2.0545],\n",
            "        [ 1.8534, -1.3958],\n",
            "        [-2.1914,  2.3300],\n",
            "        [ 2.2320, -1.8402],\n",
            "        [-0.8887,  0.6823],\n",
            "        [ 2.2231, -1.8101]], grad_fn=<AddmmBackward0>)\n",
            "tensor([1, 1, 0, 0, 1, 0, 0, 0])\n",
            "tensor([1, 1, 0, 0, 1, 0, 1, 0])\n"
          ]
        },
        {
          "metadata": {
            "tags": null
          },
          "name": "stderr",
          "output_type": "stream",
          "text": [
            "\r 48%|████▊     | 252/525 [13:36<14:35,  3.21s/it]"
          ]
        },
        {
          "metadata": {
            "tags": null
          },
          "name": "stdout",
          "output_type": "stream",
          "text": [
            "tensor([[-2.2185,  1.9098],\n",
            "        [-1.9820,  1.7235],\n",
            "        [-1.0131,  0.4830],\n",
            "        [ 2.3701, -1.6936],\n",
            "        [ 2.1144, -1.6557],\n",
            "        [-2.4690,  2.3251],\n",
            "        [-0.4148,  0.2254],\n",
            "        [-2.1402,  1.9299]], grad_fn=<AddmmBackward0>)\n",
            "tensor([1, 1, 1, 0, 0, 1, 1, 1])\n",
            "tensor([1, 1, 1, 0, 0, 1, 1, 1])\n"
          ]
        },
        {
          "metadata": {
            "tags": null
          },
          "name": "stderr",
          "output_type": "stream",
          "text": [
            "\r 48%|████▊     | 253/525 [13:39<14:36,  3.22s/it]"
          ]
        },
        {
          "metadata": {
            "tags": null
          },
          "name": "stdout",
          "output_type": "stream",
          "text": [
            "tensor([[ 2.4000, -1.6913],\n",
            "        [ 2.5257, -1.9328],\n",
            "        [-2.3300,  2.1290],\n",
            "        [-1.0767,  0.9305],\n",
            "        [-2.4022,  2.3339],\n",
            "        [-2.3596,  2.0635],\n",
            "        [-2.6155,  2.2356],\n",
            "        [ 1.2540, -1.0847]], grad_fn=<AddmmBackward0>)\n",
            "tensor([0, 0, 1, 1, 1, 1, 1, 0])\n",
            "tensor([0, 0, 1, 1, 1, 1, 1, 0])\n"
          ]
        },
        {
          "metadata": {
            "tags": null
          },
          "name": "stderr",
          "output_type": "stream",
          "text": [
            "\r 48%|████▊     | 254/525 [13:42<14:42,  3.26s/it]"
          ]
        },
        {
          "metadata": {
            "tags": null
          },
          "name": "stdout",
          "output_type": "stream",
          "text": [
            "tensor([[-1.7130,  1.4596],\n",
            "        [ 2.5457, -1.9059],\n",
            "        [ 2.4678, -1.8517],\n",
            "        [-2.6439,  2.2759],\n",
            "        [-2.5930,  2.2284],\n",
            "        [ 1.7850, -1.5933],\n",
            "        [ 2.4808, -1.6620],\n",
            "        [-2.3273,  2.4025]], grad_fn=<AddmmBackward0>)\n",
            "tensor([1, 1, 0, 1, 1, 0, 0, 1])\n",
            "tensor([1, 0, 0, 1, 1, 0, 0, 1])\n"
          ]
        },
        {
          "metadata": {
            "tags": null
          },
          "name": "stderr",
          "output_type": "stream",
          "text": [
            "\r 49%|████▊     | 255/525 [13:46<15:02,  3.34s/it]"
          ]
        },
        {
          "metadata": {
            "tags": null
          },
          "name": "stdout",
          "output_type": "stream",
          "text": [
            "tensor([[ 2.2453, -1.5624],\n",
            "        [-2.4739,  2.3820],\n",
            "        [ 0.7600, -0.7435],\n",
            "        [-1.6639,  1.8465],\n",
            "        [ 1.8920, -1.9488],\n",
            "        [-2.4532,  2.0991],\n",
            "        [-2.4632,  2.2635],\n",
            "        [-2.2017,  2.2922]], grad_fn=<AddmmBackward0>)\n",
            "tensor([0, 1, 0, 1, 0, 1, 1, 1])\n",
            "tensor([0, 1, 0, 1, 0, 1, 1, 1])\n"
          ]
        },
        {
          "metadata": {
            "tags": null
          },
          "name": "stderr",
          "output_type": "stream",
          "text": [
            "\r 49%|████▉     | 256/525 [13:49<14:49,  3.31s/it]"
          ]
        },
        {
          "metadata": {
            "tags": null
          },
          "name": "stdout",
          "output_type": "stream",
          "text": [
            "tensor([[ 2.2518, -2.0501],\n",
            "        [ 2.0889, -1.9957],\n",
            "        [ 1.3753, -0.8327],\n",
            "        [-2.2821,  2.3819],\n",
            "        [-0.6545,  0.6193],\n",
            "        [ 2.3852, -1.7919],\n",
            "        [-2.2253,  2.2390],\n",
            "        [ 2.0591, -1.3948]], grad_fn=<AddmmBackward0>)\n",
            "tensor([0, 0, 1, 1, 0, 0, 1, 0])\n",
            "tensor([0, 0, 0, 1, 1, 0, 1, 0])\n"
          ]
        },
        {
          "metadata": {
            "tags": null
          },
          "name": "stderr",
          "output_type": "stream",
          "text": [
            "\r 49%|████▉     | 257/525 [13:52<14:39,  3.28s/it]"
          ]
        },
        {
          "metadata": {
            "tags": null
          },
          "name": "stdout",
          "output_type": "stream",
          "text": [
            "tensor([[ 1.7641, -1.1019],\n",
            "        [-2.3211,  2.6745],\n",
            "        [-1.3816,  1.0451],\n",
            "        [-2.4647,  2.3624],\n",
            "        [-1.3752,  0.7480],\n",
            "        [ 2.1312, -1.3120],\n",
            "        [-0.5271,  0.0058],\n",
            "        [ 2.3283, -1.8496]], grad_fn=<AddmmBackward0>)\n",
            "tensor([1, 1, 1, 1, 0, 0, 1, 0])\n",
            "tensor([0, 1, 1, 1, 1, 0, 1, 0])\n"
          ]
        },
        {
          "metadata": {
            "tags": null
          },
          "name": "stderr",
          "output_type": "stream",
          "text": [
            "\r 49%|████▉     | 258/525 [13:56<14:37,  3.29s/it]"
          ]
        },
        {
          "metadata": {
            "tags": null
          },
          "name": "stdout",
          "output_type": "stream",
          "text": [
            "tensor([[ 2.0466, -1.6718],\n",
            "        [ 1.7454, -1.5977],\n",
            "        [-1.9353,  1.7580],\n",
            "        [ 1.4971, -0.8405],\n",
            "        [-2.2284,  2.1894],\n",
            "        [-2.3084,  2.2343],\n",
            "        [ 2.2607, -1.3988],\n",
            "        [-2.6272,  2.4530]], grad_fn=<AddmmBackward0>)\n",
            "tensor([0, 0, 1, 0, 1, 1, 0, 1])\n",
            "tensor([0, 0, 1, 0, 1, 1, 0, 1])\n"
          ]
        },
        {
          "metadata": {
            "tags": null
          },
          "name": "stderr",
          "output_type": "stream",
          "text": [
            "\r 49%|████▉     | 259/525 [13:59<15:01,  3.39s/it]"
          ]
        },
        {
          "metadata": {
            "tags": null
          },
          "name": "stdout",
          "output_type": "stream",
          "text": [
            "tensor([[ 2.4969, -1.5757],\n",
            "        [ 1.1906, -1.0039],\n",
            "        [ 2.3268, -1.1464],\n",
            "        [-2.2355,  2.0692],\n",
            "        [ 0.2638, -0.0610],\n",
            "        [-2.4289,  2.2147],\n",
            "        [-2.5754,  2.3350],\n",
            "        [-2.4010,  2.3854]], grad_fn=<AddmmBackward0>)\n",
            "tensor([0, 0, 0, 1, 0, 1, 1, 1])\n",
            "tensor([0, 0, 0, 1, 0, 1, 1, 1])\n"
          ]
        },
        {
          "metadata": {
            "tags": null
          },
          "name": "stderr",
          "output_type": "stream",
          "text": [
            "\r 50%|████▉     | 260/525 [14:03<15:01,  3.40s/it]"
          ]
        },
        {
          "metadata": {
            "tags": null
          },
          "name": "stdout",
          "output_type": "stream",
          "text": [
            "tensor([[ 2.3398, -1.8525],\n",
            "        [-2.1388,  1.9058],\n",
            "        [-1.5302,  0.9341],\n",
            "        [ 2.0915, -1.8174],\n",
            "        [ 1.6471, -1.4533],\n",
            "        [-1.2632,  0.9169],\n",
            "        [ 2.1828, -1.7527],\n",
            "        [-2.5825,  2.5957]], grad_fn=<AddmmBackward0>)\n",
            "tensor([0, 1, 1, 0, 0, 1, 0, 1])\n",
            "tensor([0, 1, 1, 0, 0, 1, 0, 1])\n"
          ]
        },
        {
          "metadata": {
            "tags": null
          },
          "name": "stderr",
          "output_type": "stream",
          "text": [
            "\r 50%|████▉     | 261/525 [14:06<14:43,  3.35s/it]"
          ]
        },
        {
          "metadata": {
            "tags": null
          },
          "name": "stdout",
          "output_type": "stream",
          "text": [
            "tensor([[-2.5940,  2.4881],\n",
            "        [ 2.0805, -1.5704],\n",
            "        [ 1.9263, -1.7165],\n",
            "        [ 1.7897, -1.8241],\n",
            "        [ 1.9837, -1.2158],\n",
            "        [ 1.1755, -0.8427],\n",
            "        [ 1.7444, -0.9313],\n",
            "        [-2.3711,  2.2769]], grad_fn=<AddmmBackward0>)\n",
            "tensor([1, 0, 0, 0, 0, 0, 0, 1])\n",
            "tensor([1, 0, 0, 0, 0, 0, 0, 1])\n"
          ]
        },
        {
          "metadata": {
            "tags": null
          },
          "name": "stderr",
          "output_type": "stream",
          "text": [
            "\r 50%|████▉     | 262/525 [14:09<14:43,  3.36s/it]"
          ]
        },
        {
          "metadata": {
            "tags": null
          },
          "name": "stdout",
          "output_type": "stream",
          "text": [
            "tensor([[ 2.0604, -1.4479],\n",
            "        [ 2.2378, -1.9254],\n",
            "        [-1.0901,  0.3332],\n",
            "        [-1.4015,  0.9722],\n",
            "        [-0.8530,  0.3089],\n",
            "        [ 2.1322, -1.7368],\n",
            "        [ 2.0934, -1.5108],\n",
            "        [ 2.1050, -1.2666]], grad_fn=<AddmmBackward0>)\n",
            "tensor([0, 0, 0, 1, 1, 0, 0, 0])\n",
            "tensor([0, 0, 1, 1, 1, 0, 0, 0])\n"
          ]
        },
        {
          "metadata": {
            "tags": null
          },
          "name": "stderr",
          "output_type": "stream",
          "text": [
            "\r 50%|█████     | 263/525 [14:13<14:49,  3.39s/it]"
          ]
        },
        {
          "metadata": {
            "tags": null
          },
          "name": "stdout",
          "output_type": "stream",
          "text": [
            "tensor([[-2.6406,  2.4712],\n",
            "        [-1.5880,  1.6507],\n",
            "        [-2.5293,  2.5527],\n",
            "        [ 2.1143, -1.8465],\n",
            "        [-0.7251,  0.3564],\n",
            "        [-2.5853,  2.2067],\n",
            "        [-1.2485,  0.7785],\n",
            "        [-1.3992,  1.1863]], grad_fn=<AddmmBackward0>)\n",
            "tensor([1, 1, 1, 0, 1, 1, 0, 1])\n",
            "tensor([1, 1, 1, 0, 1, 1, 1, 1])\n"
          ]
        },
        {
          "metadata": {
            "tags": null
          },
          "name": "stderr",
          "output_type": "stream",
          "text": [
            "\r 50%|█████     | 264/525 [14:16<14:17,  3.29s/it]"
          ]
        },
        {
          "metadata": {
            "tags": null
          },
          "name": "stdout",
          "output_type": "stream",
          "text": [
            "tensor([[-2.4945,  2.4909],\n",
            "        [-1.2281,  0.5907],\n",
            "        [-0.4591,  0.5230],\n",
            "        [-1.4214,  0.9380],\n",
            "        [ 0.1981, -0.1580],\n",
            "        [-1.8478,  1.3253],\n",
            "        [ 2.3551, -1.2592],\n",
            "        [-0.6851,  0.0036]], grad_fn=<AddmmBackward0>)\n",
            "tensor([1, 0, 1, 1, 0, 1, 0, 0])\n",
            "tensor([1, 1, 1, 1, 0, 1, 0, 1])\n"
          ]
        },
        {
          "metadata": {
            "tags": null
          },
          "name": "stderr",
          "output_type": "stream",
          "text": [
            "\r 50%|█████     | 265/525 [14:19<14:08,  3.26s/it]"
          ]
        },
        {
          "metadata": {
            "tags": null
          },
          "name": "stdout",
          "output_type": "stream",
          "text": [
            "tensor([[ 1.3346, -0.7756],\n",
            "        [-2.2216,  2.2205],\n",
            "        [ 2.2444, -1.3507],\n",
            "        [ 1.7361, -1.3012],\n",
            "        [-2.1193,  1.9447],\n",
            "        [ 2.2052, -1.6328],\n",
            "        [ 2.3376, -1.5818],\n",
            "        [ 1.9828, -1.8954]], grad_fn=<AddmmBackward0>)\n",
            "tensor([0, 1, 0, 0, 1, 1, 0, 0])\n",
            "tensor([0, 1, 0, 0, 1, 0, 0, 0])\n"
          ]
        },
        {
          "metadata": {
            "tags": null
          },
          "name": "stderr",
          "output_type": "stream",
          "text": [
            "\r 51%|█████     | 266/525 [14:22<13:56,  3.23s/it]"
          ]
        },
        {
          "metadata": {
            "tags": null
          },
          "name": "stdout",
          "output_type": "stream",
          "text": [
            "tensor([[-2.2064,  2.0934],\n",
            "        [-0.5115,  0.1364],\n",
            "        [-2.4133,  2.0634],\n",
            "        [ 2.1416, -1.1858],\n",
            "        [-1.7790,  1.8129],\n",
            "        [-0.9152,  0.5494],\n",
            "        [-1.0144,  0.1651],\n",
            "        [-0.3559, -0.2319]], grad_fn=<AddmmBackward0>)\n",
            "tensor([1, 1, 1, 0, 1, 1, 1, 1])\n",
            "tensor([1, 1, 1, 0, 1, 1, 1, 1])\n"
          ]
        },
        {
          "metadata": {
            "tags": null
          },
          "name": "stderr",
          "output_type": "stream",
          "text": [
            "\r 51%|█████     | 267/525 [14:25<13:51,  3.22s/it]"
          ]
        },
        {
          "metadata": {
            "tags": null
          },
          "name": "stdout",
          "output_type": "stream",
          "text": [
            "tensor([[-2.2445,  2.1623],\n",
            "        [ 1.3931, -1.1366],\n",
            "        [-0.0974, -0.0477],\n",
            "        [ 0.5904, -0.6272],\n",
            "        [ 2.1266, -1.7785],\n",
            "        [ 2.2235, -1.5780],\n",
            "        [ 0.5839, -0.4181],\n",
            "        [-0.8999,  0.5485]], grad_fn=<AddmmBackward0>)\n",
            "tensor([1, 1, 0, 1, 0, 0, 1, 1])\n",
            "tensor([1, 0, 1, 0, 0, 0, 0, 1])\n"
          ]
        },
        {
          "metadata": {
            "tags": null
          },
          "name": "stderr",
          "output_type": "stream",
          "text": [
            "\r 51%|█████     | 268/525 [14:29<14:18,  3.34s/it]"
          ]
        },
        {
          "metadata": {
            "tags": null
          },
          "name": "stdout",
          "output_type": "stream",
          "text": [
            "tensor([[-1.7257,  1.5116],\n",
            "        [ 1.3840, -0.8689],\n",
            "        [ 1.0773, -0.6833],\n",
            "        [ 0.0369, -0.1328],\n",
            "        [ 1.8865, -1.4065],\n",
            "        [-1.6195,  0.8916],\n",
            "        [ 2.1098, -1.5299],\n",
            "        [-2.1892,  2.2279]], grad_fn=<AddmmBackward0>)\n",
            "tensor([1, 0, 1, 1, 0, 1, 0, 1])\n",
            "tensor([1, 0, 0, 0, 0, 1, 0, 1])\n"
          ]
        },
        {
          "metadata": {
            "tags": null
          },
          "name": "stderr",
          "output_type": "stream",
          "text": [
            "\r 51%|█████     | 269/525 [14:32<14:11,  3.33s/it]"
          ]
        },
        {
          "metadata": {
            "tags": null
          },
          "name": "stdout",
          "output_type": "stream",
          "text": [
            "tensor([[-1.4103,  0.7230],\n",
            "        [ 1.7741, -1.2615],\n",
            "        [-1.7986,  1.3794],\n",
            "        [-2.2599,  2.1077],\n",
            "        [ 2.0920, -1.5404],\n",
            "        [ 0.8183, -0.7155],\n",
            "        [ 1.6940, -0.9738],\n",
            "        [ 0.7016, -0.5549]], grad_fn=<AddmmBackward0>)\n",
            "tensor([1, 0, 1, 1, 0, 0, 0, 1])\n",
            "tensor([1, 0, 1, 1, 0, 0, 0, 0])\n"
          ]
        },
        {
          "metadata": {
            "tags": null
          },
          "name": "stderr",
          "output_type": "stream",
          "text": [
            "\r 51%|█████▏    | 270/525 [14:35<13:56,  3.28s/it]"
          ]
        },
        {
          "metadata": {
            "tags": null
          },
          "name": "stdout",
          "output_type": "stream",
          "text": [
            "tensor([[ 1.1212, -0.8753],\n",
            "        [-0.2874, -0.1098],\n",
            "        [ 1.9666, -0.9076],\n",
            "        [-0.2368, -0.0599],\n",
            "        [-0.8232,  0.5284],\n",
            "        [ 1.7200, -1.0485],\n",
            "        [ 1.6151, -0.9181],\n",
            "        [ 1.5716, -0.8941]], grad_fn=<AddmmBackward0>)\n",
            "tensor([0, 0, 0, 0, 1, 0, 0, 0])\n",
            "tensor([0, 1, 0, 1, 1, 0, 0, 0])\n"
          ]
        },
        {
          "metadata": {
            "tags": null
          },
          "name": "stderr",
          "output_type": "stream",
          "text": [
            "\r 52%|█████▏    | 271/525 [14:39<13:53,  3.28s/it]"
          ]
        },
        {
          "metadata": {
            "tags": null
          },
          "name": "stdout",
          "output_type": "stream",
          "text": [
            "tensor([[ 2.0726, -1.4611],\n",
            "        [-2.2184,  1.9627],\n",
            "        [ 1.8137, -1.1507],\n",
            "        [ 1.7949, -1.1411],\n",
            "        [ 1.9565, -1.2275],\n",
            "        [-1.3182,  0.7573],\n",
            "        [ 0.8177, -0.5632],\n",
            "        [-2.1451,  1.7246]], grad_fn=<AddmmBackward0>)\n",
            "tensor([0, 1, 0, 0, 0, 0, 0, 1])\n",
            "tensor([0, 1, 0, 0, 0, 1, 0, 1])\n"
          ]
        },
        {
          "metadata": {
            "tags": null
          },
          "name": "stderr",
          "output_type": "stream",
          "text": [
            "\r 52%|█████▏    | 272/525 [14:42<13:55,  3.30s/it]"
          ]
        },
        {
          "metadata": {
            "tags": null
          },
          "name": "stdout",
          "output_type": "stream",
          "text": [
            "tensor([[-1.9291,  1.9234],\n",
            "        [-1.1969,  0.2349],\n",
            "        [ 0.8903, -0.8893],\n",
            "        [ 1.3942, -0.9445],\n",
            "        [-0.8557,  0.3682],\n",
            "        [ 1.5584, -1.1114],\n",
            "        [-0.4615,  0.0686],\n",
            "        [ 1.8130, -1.1191]], grad_fn=<AddmmBackward0>)\n",
            "tensor([1, 1, 0, 0, 1, 0, 1, 0])\n",
            "tensor([1, 1, 0, 0, 1, 0, 1, 0])\n"
          ]
        },
        {
          "metadata": {
            "tags": null
          },
          "name": "stderr",
          "output_type": "stream",
          "text": [
            "\r 52%|█████▏    | 273/525 [14:45<13:57,  3.32s/it]"
          ]
        },
        {
          "metadata": {
            "tags": null
          },
          "name": "stdout",
          "output_type": "stream",
          "text": [
            "tensor([[ 1.5593, -0.8736],\n",
            "        [-1.3525,  0.8083],\n",
            "        [ 1.7844, -1.4570],\n",
            "        [ 1.5383, -0.9321],\n",
            "        [ 1.7859, -1.1055],\n",
            "        [-0.7807,  0.3821],\n",
            "        [-0.9149,  0.6278],\n",
            "        [ 0.9461, -0.7357]], grad_fn=<AddmmBackward0>)\n",
            "tensor([0, 1, 0, 0, 0, 0, 1, 0])\n",
            "tensor([0, 1, 0, 0, 0, 1, 1, 0])\n"
          ]
        },
        {
          "metadata": {
            "tags": null
          },
          "name": "stderr",
          "output_type": "stream",
          "text": [
            "\r 52%|█████▏    | 274/525 [14:49<13:47,  3.30s/it]"
          ]
        },
        {
          "metadata": {
            "tags": null
          },
          "name": "stdout",
          "output_type": "stream",
          "text": [
            "tensor([[-1.4881,  0.7048],\n",
            "        [-1.4211,  1.0667],\n",
            "        [ 1.3579, -0.9057],\n",
            "        [ 0.9187, -0.7591],\n",
            "        [-0.2913, -0.0702],\n",
            "        [-0.4318, -0.1501],\n",
            "        [-0.2151, -0.0057],\n",
            "        [ 1.4587, -0.6488]], grad_fn=<AddmmBackward0>)\n",
            "tensor([1, 1, 0, 0, 1, 0, 0, 0])\n",
            "tensor([1, 1, 0, 0, 1, 1, 1, 0])\n"
          ]
        },
        {
          "metadata": {
            "tags": null
          },
          "name": "stderr",
          "output_type": "stream",
          "text": [
            "\r 52%|█████▏    | 275/525 [14:52<13:29,  3.24s/it]"
          ]
        },
        {
          "metadata": {
            "tags": null
          },
          "name": "stdout",
          "output_type": "stream",
          "text": [
            "tensor([[-0.5504,  0.2727],\n",
            "        [-1.3581,  0.6787],\n",
            "        [ 1.5004, -0.6975],\n",
            "        [-0.3063, -0.2160],\n",
            "        [-0.9887,  0.6784],\n",
            "        [-1.3979,  1.0257],\n",
            "        [-1.8468,  1.7476],\n",
            "        [ 1.9736, -1.3489]], grad_fn=<AddmmBackward0>)\n",
            "tensor([1, 1, 0, 1, 1, 1, 1, 0])\n",
            "tensor([1, 1, 0, 1, 1, 1, 1, 0])\n"
          ]
        },
        {
          "metadata": {
            "tags": null
          },
          "name": "stderr",
          "output_type": "stream",
          "text": [
            "\r 53%|█████▎    | 276/525 [14:55<13:00,  3.13s/it]"
          ]
        },
        {
          "metadata": {
            "tags": null
          },
          "name": "stdout",
          "output_type": "stream",
          "text": [
            "tensor([[-0.9448,  0.2595],\n",
            "        [-1.0329,  0.3898],\n",
            "        [ 2.1354, -1.3125],\n",
            "        [-1.5264,  1.3600],\n",
            "        [ 1.7354, -1.3934],\n",
            "        [ 1.0703, -0.6326],\n",
            "        [-1.6370,  0.9684],\n",
            "        [-0.9497,  0.3059]], grad_fn=<AddmmBackward0>)\n",
            "tensor([1, 1, 0, 1, 0, 0, 1, 1])\n",
            "tensor([1, 1, 0, 1, 0, 0, 1, 1])\n"
          ]
        },
        {
          "metadata": {
            "tags": null
          },
          "name": "stderr",
          "output_type": "stream",
          "text": [
            "\r 53%|█████▎    | 277/525 [14:58<13:14,  3.20s/it]"
          ]
        },
        {
          "metadata": {
            "tags": null
          },
          "name": "stdout",
          "output_type": "stream",
          "text": [
            "tensor([[ 0.4029, -0.4803],\n",
            "        [ 0.2523, -0.3308],\n",
            "        [-0.4757,  0.2737],\n",
            "        [ 1.4016, -0.8450],\n",
            "        [ 1.3963, -0.9809],\n",
            "        [ 1.0502, -0.8036],\n",
            "        [ 1.2407, -0.5518],\n",
            "        [-0.9809,  0.4218]], grad_fn=<AddmmBackward0>)\n",
            "tensor([0, 0, 1, 0, 0, 0, 0, 0])\n",
            "tensor([0, 0, 1, 0, 0, 0, 0, 1])\n"
          ]
        },
        {
          "metadata": {
            "tags": null
          },
          "name": "stderr",
          "output_type": "stream",
          "text": [
            "\r 53%|█████▎    | 278/525 [15:01<13:26,  3.26s/it]"
          ]
        },
        {
          "metadata": {
            "tags": null
          },
          "name": "stdout",
          "output_type": "stream",
          "text": [
            "tensor([[ 1.7083, -1.3901],\n",
            "        [ 0.2875, -0.5670],\n",
            "        [ 2.0948, -1.5866],\n",
            "        [-1.1769,  0.4242],\n",
            "        [ 0.2742, -0.3541],\n",
            "        [-1.2421,  0.8190],\n",
            "        [-0.1586, -0.3204],\n",
            "        [ 1.2960, -0.9385]], grad_fn=<AddmmBackward0>)\n",
            "tensor([0, 0, 0, 1, 0, 1, 0, 0])\n",
            "tensor([0, 0, 0, 1, 0, 1, 0, 0])\n"
          ]
        },
        {
          "metadata": {
            "tags": null
          },
          "name": "stderr",
          "output_type": "stream",
          "text": [
            "\r 53%|█████▎    | 279/525 [15:05<13:20,  3.26s/it]"
          ]
        },
        {
          "metadata": {
            "tags": null
          },
          "name": "stdout",
          "output_type": "stream",
          "text": [
            "tensor([[-0.8203,  0.0670],\n",
            "        [-1.1883,  0.6985],\n",
            "        [-0.9222,  0.3128],\n",
            "        [ 2.1697, -1.7113],\n",
            "        [-0.6040,  0.2647],\n",
            "        [ 2.2751, -1.4731],\n",
            "        [-1.4897,  1.1425],\n",
            "        [ 1.3456, -1.3810]], grad_fn=<AddmmBackward0>)\n",
            "tensor([1, 1, 1, 0, 1, 0, 1, 0])\n",
            "tensor([1, 1, 1, 0, 1, 0, 1, 0])\n"
          ]
        },
        {
          "metadata": {
            "tags": null
          },
          "name": "stderr",
          "output_type": "stream",
          "text": [
            "\r 53%|█████▎    | 280/525 [15:08<13:11,  3.23s/it]"
          ]
        },
        {
          "metadata": {
            "tags": null
          },
          "name": "stdout",
          "output_type": "stream",
          "text": [
            "tensor([[-0.7703,  0.2723],\n",
            "        [ 1.9605, -1.4068],\n",
            "        [ 1.8415, -1.2165],\n",
            "        [ 1.9636, -1.1280],\n",
            "        [ 0.0213, -0.0148],\n",
            "        [-1.0960,  0.4783],\n",
            "        [-2.2695,  2.3598],\n",
            "        [-2.4010,  2.3116]], grad_fn=<AddmmBackward0>)\n",
            "tensor([1, 0, 0, 0, 0, 1, 1, 1])\n",
            "tensor([1, 0, 0, 0, 0, 1, 1, 1])\n"
          ]
        },
        {
          "metadata": {
            "tags": null
          },
          "name": "stderr",
          "output_type": "stream",
          "text": [
            "\r 54%|█████▎    | 281/525 [15:11<13:10,  3.24s/it]"
          ]
        },
        {
          "metadata": {
            "tags": null
          },
          "name": "stdout",
          "output_type": "stream",
          "text": [
            "tensor([[-0.9950,  0.7865],\n",
            "        [-1.3564,  1.0962],\n",
            "        [-0.9365,  0.3885],\n",
            "        [-0.8537,  0.1385],\n",
            "        [-0.7826, -0.0578],\n",
            "        [-0.4929,  0.4836],\n",
            "        [-1.8586,  1.7579],\n",
            "        [-1.4908,  0.8955]], grad_fn=<AddmmBackward0>)\n",
            "tensor([1, 1, 1, 0, 1, 1, 1, 1])\n",
            "tensor([1, 1, 1, 1, 1, 1, 1, 1])\n"
          ]
        },
        {
          "metadata": {
            "tags": null
          },
          "name": "stderr",
          "output_type": "stream",
          "text": [
            "\r 54%|█████▎    | 282/525 [15:15<13:32,  3.34s/it]"
          ]
        },
        {
          "metadata": {
            "tags": null
          },
          "name": "stdout",
          "output_type": "stream",
          "text": [
            "tensor([[ 2.3278, -1.4916],\n",
            "        [ 2.1604, -1.4392],\n",
            "        [ 0.7743, -0.7132],\n",
            "        [ 1.8140, -1.1718],\n",
            "        [ 0.1688, -0.0148],\n",
            "        [ 2.0163, -1.6521],\n",
            "        [ 0.9432, -0.5779],\n",
            "        [-0.6382,  0.0656]], grad_fn=<AddmmBackward0>)\n",
            "tensor([0, 0, 1, 0, 1, 0, 0, 1])\n",
            "tensor([0, 0, 0, 0, 0, 0, 0, 1])\n"
          ]
        },
        {
          "metadata": {
            "tags": null
          },
          "name": "stderr",
          "output_type": "stream",
          "text": [
            "\r 54%|█████▍    | 283/525 [15:18<13:23,  3.32s/it]"
          ]
        },
        {
          "metadata": {
            "tags": null
          },
          "name": "stdout",
          "output_type": "stream",
          "text": [
            "tensor([[-1.7829,  1.2644],\n",
            "        [ 2.3000, -1.4792],\n",
            "        [ 2.1199, -1.6388],\n",
            "        [ 1.8329, -1.1779],\n",
            "        [ 2.3402, -1.4718],\n",
            "        [ 0.5892, -0.4683],\n",
            "        [ 2.1188, -1.4052],\n",
            "        [-1.8858,  1.3371]], grad_fn=<AddmmBackward0>)\n",
            "tensor([1, 0, 0, 0, 0, 0, 0, 1])\n",
            "tensor([1, 0, 0, 0, 0, 0, 0, 1])\n"
          ]
        },
        {
          "metadata": {
            "tags": null
          },
          "name": "stderr",
          "output_type": "stream",
          "text": [
            "\r 54%|█████▍    | 284/525 [15:21<13:03,  3.25s/it]"
          ]
        },
        {
          "metadata": {
            "tags": null
          },
          "name": "stdout",
          "output_type": "stream",
          "text": [
            "tensor([[-2.2801e+00,  2.0846e+00],\n",
            "        [-1.4135e+00,  1.0215e+00],\n",
            "        [-1.4095e-01,  1.2672e-03],\n",
            "        [-2.3008e-01, -1.0183e-01],\n",
            "        [-2.1552e+00,  1.8291e+00],\n",
            "        [-2.2961e+00,  1.9462e+00],\n",
            "        [ 2.2332e+00, -1.7548e+00],\n",
            "        [-1.7988e+00,  1.5804e+00]], grad_fn=<AddmmBackward0>)\n",
            "tensor([0, 1, 1, 0, 1, 1, 0, 1])\n",
            "tensor([1, 1, 1, 1, 1, 1, 0, 1])\n"
          ]
        },
        {
          "metadata": {
            "tags": null
          },
          "name": "stderr",
          "output_type": "stream",
          "text": [
            "\r 54%|█████▍    | 285/525 [15:24<13:07,  3.28s/it]"
          ]
        },
        {
          "metadata": {
            "tags": null
          },
          "name": "stdout",
          "output_type": "stream",
          "text": [
            "tensor([[-2.2426,  2.0794],\n",
            "        [ 2.0162, -1.4539],\n",
            "        [ 2.3947, -1.6563],\n",
            "        [ 2.0112, -1.6705],\n",
            "        [-2.4088,  2.1847],\n",
            "        [-2.4742,  2.4934],\n",
            "        [-2.3632,  2.0810],\n",
            "        [-2.2094,  1.8402]], grad_fn=<AddmmBackward0>)\n",
            "tensor([1, 0, 0, 0, 1, 1, 1, 1])\n",
            "tensor([1, 0, 0, 0, 1, 1, 1, 1])\n"
          ]
        },
        {
          "metadata": {
            "tags": null
          },
          "name": "stderr",
          "output_type": "stream",
          "text": [
            "\r 54%|█████▍    | 286/525 [15:28<13:23,  3.36s/it]"
          ]
        },
        {
          "metadata": {
            "tags": null
          },
          "name": "stdout",
          "output_type": "stream",
          "text": [
            "tensor([[ 2.6218, -1.6842],\n",
            "        [ 2.4158, -2.1599],\n",
            "        [-0.5004,  0.1116],\n",
            "        [-2.0135,  1.7374],\n",
            "        [-2.4333,  2.3990],\n",
            "        [-1.4097,  0.9033],\n",
            "        [ 2.2531, -1.7143],\n",
            "        [-2.0133,  1.6317]], grad_fn=<AddmmBackward0>)\n",
            "tensor([0, 0, 1, 1, 1, 1, 0, 1])\n",
            "tensor([0, 0, 1, 1, 1, 1, 0, 1])\n"
          ]
        },
        {
          "metadata": {
            "tags": null
          },
          "name": "stderr",
          "output_type": "stream",
          "text": [
            "\r 55%|█████▍    | 287/525 [15:31<13:18,  3.35s/it]"
          ]
        },
        {
          "metadata": {
            "tags": null
          },
          "name": "stdout",
          "output_type": "stream",
          "text": [
            "tensor([[ 2.5319, -1.8151],\n",
            "        [ 1.8698, -1.3928],\n",
            "        [-2.2322,  2.1353],\n",
            "        [-0.9892,  0.7354],\n",
            "        [ 1.3391, -1.2715],\n",
            "        [ 2.1365, -1.6979],\n",
            "        [-1.0624,  0.8549],\n",
            "        [ 2.5605, -1.6960]], grad_fn=<AddmmBackward0>)\n",
            "tensor([0, 0, 1, 1, 0, 0, 1, 0])\n",
            "tensor([0, 0, 1, 1, 0, 0, 1, 0])\n"
          ]
        },
        {
          "metadata": {
            "tags": null
          },
          "name": "stderr",
          "output_type": "stream",
          "text": [
            "\r 55%|█████▍    | 288/525 [15:34<13:03,  3.30s/it]"
          ]
        },
        {
          "metadata": {
            "tags": null
          },
          "name": "stdout",
          "output_type": "stream",
          "text": [
            "tensor([[-2.5605,  2.2006],\n",
            "        [-2.0896,  2.1020],\n",
            "        [ 2.3655, -1.9868],\n",
            "        [-2.1529,  2.0788],\n",
            "        [-2.3837,  2.0890],\n",
            "        [-2.3029,  2.0408],\n",
            "        [-1.3204,  0.9391],\n",
            "        [-2.6230,  2.4144]], grad_fn=<AddmmBackward0>)\n",
            "tensor([1, 1, 0, 1, 1, 0, 0, 1])\n",
            "tensor([1, 1, 0, 1, 1, 1, 1, 1])\n"
          ]
        },
        {
          "metadata": {
            "tags": null
          },
          "name": "stderr",
          "output_type": "stream",
          "text": [
            "\r 55%|█████▌    | 289/525 [15:38<13:01,  3.31s/it]"
          ]
        },
        {
          "metadata": {
            "tags": null
          },
          "name": "stdout",
          "output_type": "stream",
          "text": [
            "tensor([[-2.0198,  1.9567],\n",
            "        [-1.1808,  0.7614],\n",
            "        [ 0.3460, -0.2804],\n",
            "        [-2.4042,  2.2729],\n",
            "        [-1.2121,  1.1406],\n",
            "        [-1.1039,  0.7018],\n",
            "        [-2.1798,  2.1819],\n",
            "        [ 2.1383, -2.2437]], grad_fn=<AddmmBackward0>)\n",
            "tensor([1, 1, 0, 1, 1, 0, 1, 0])\n",
            "tensor([1, 1, 0, 1, 1, 1, 1, 0])\n"
          ]
        },
        {
          "metadata": {
            "tags": null
          },
          "name": "stderr",
          "output_type": "stream",
          "text": [
            "\r 55%|█████▌    | 290/525 [15:41<12:56,  3.30s/it]"
          ]
        },
        {
          "metadata": {
            "tags": null
          },
          "name": "stdout",
          "output_type": "stream",
          "text": [
            "tensor([[ 2.4138, -1.7291],\n",
            "        [ 1.2524, -0.9562],\n",
            "        [ 2.1043, -1.6713],\n",
            "        [ 2.5591, -1.9093],\n",
            "        [ 1.8202, -1.6349],\n",
            "        [ 2.4229, -1.8708],\n",
            "        [-1.6265,  1.2931],\n",
            "        [ 0.2698, -0.3801]], grad_fn=<AddmmBackward0>)\n",
            "tensor([0, 0, 0, 0, 0, 0, 1, 0])\n",
            "tensor([0, 0, 0, 0, 0, 0, 1, 0])\n"
          ]
        },
        {
          "metadata": {
            "tags": null
          },
          "name": "stderr",
          "output_type": "stream",
          "text": [
            "\r 55%|█████▌    | 291/525 [15:44<12:57,  3.32s/it]"
          ]
        },
        {
          "metadata": {
            "tags": null
          },
          "name": "stdout",
          "output_type": "stream",
          "text": [
            "tensor([[ 2.0286, -1.6856],\n",
            "        [-1.8141,  1.3397],\n",
            "        [-2.3116,  2.1518],\n",
            "        [-2.5476,  2.2769],\n",
            "        [ 2.2784, -2.1344],\n",
            "        [ 2.2388, -2.2537],\n",
            "        [-1.2410,  0.6546],\n",
            "        [ 2.5196, -1.8929]], grad_fn=<AddmmBackward0>)\n",
            "tensor([0, 1, 1, 1, 0, 0, 1, 0])\n",
            "tensor([0, 1, 1, 1, 0, 0, 1, 0])\n"
          ]
        },
        {
          "metadata": {
            "tags": null
          },
          "name": "stderr",
          "output_type": "stream",
          "text": [
            "\r 56%|█████▌    | 292/525 [15:48<12:37,  3.25s/it]"
          ]
        },
        {
          "metadata": {
            "tags": null
          },
          "name": "stdout",
          "output_type": "stream",
          "text": [
            "tensor([[ 1.9851, -1.5802],\n",
            "        [ 2.3842, -2.2032],\n",
            "        [-0.8884,  0.5812],\n",
            "        [-0.6743,  0.4567],\n",
            "        [-1.6146,  1.4354],\n",
            "        [-1.6271,  1.5372],\n",
            "        [-1.8909,  1.4223],\n",
            "        [ 1.9847, -1.7247]], grad_fn=<AddmmBackward0>)\n",
            "tensor([0, 0, 1, 1, 1, 1, 1, 0])\n",
            "tensor([0, 0, 1, 1, 1, 1, 1, 0])\n"
          ]
        },
        {
          "metadata": {
            "tags": null
          },
          "name": "stderr",
          "output_type": "stream",
          "text": [
            "\r 56%|█████▌    | 293/525 [15:51<12:20,  3.19s/it]"
          ]
        },
        {
          "metadata": {
            "tags": null
          },
          "name": "stdout",
          "output_type": "stream",
          "text": [
            "tensor([[-2.0812,  2.3064],\n",
            "        [ 2.2499, -1.8156],\n",
            "        [ 1.2254, -0.9161],\n",
            "        [ 0.8456, -0.6938],\n",
            "        [ 2.1242, -1.9493],\n",
            "        [ 2.1718, -1.7346],\n",
            "        [-0.1093, -0.1658],\n",
            "        [-0.8893,  0.5091]], grad_fn=<AddmmBackward0>)\n",
            "tensor([1, 0, 0, 1, 0, 0, 1, 1])\n",
            "tensor([1, 0, 0, 0, 0, 0, 0, 1])\n"
          ]
        },
        {
          "metadata": {
            "tags": null
          },
          "name": "stderr",
          "output_type": "stream",
          "text": [
            "\r 56%|█████▌    | 294/525 [15:54<12:15,  3.18s/it]"
          ]
        },
        {
          "metadata": {
            "tags": null
          },
          "name": "stdout",
          "output_type": "stream",
          "text": [
            "tensor([[ 2.3250, -1.7811],\n",
            "        [ 2.1338, -1.9163],\n",
            "        [-0.4242, -0.0808],\n",
            "        [-1.1752,  1.0574],\n",
            "        [ 2.4731, -2.1022],\n",
            "        [-2.2025,  1.9417],\n",
            "        [ 1.7707, -1.6561],\n",
            "        [-2.3661,  2.0995]], grad_fn=<AddmmBackward0>)\n",
            "tensor([0, 0, 1, 1, 0, 1, 0, 1])\n",
            "tensor([0, 0, 1, 1, 0, 1, 0, 1])\n"
          ]
        },
        {
          "metadata": {
            "tags": null
          },
          "name": "stderr",
          "output_type": "stream",
          "text": [
            "\r 56%|█████▌    | 295/525 [15:57<12:25,  3.24s/it]"
          ]
        },
        {
          "metadata": {
            "tags": null
          },
          "name": "stdout",
          "output_type": "stream",
          "text": [
            "tensor([[ 1.9982, -1.3123],\n",
            "        [ 2.3293, -2.1898],\n",
            "        [-1.3021,  1.1561],\n",
            "        [-2.0625,  1.7904],\n",
            "        [ 0.1988, -0.1253],\n",
            "        [ 2.2744, -2.2011],\n",
            "        [ 2.2051, -1.6809],\n",
            "        [ 2.7018, -2.1996]], grad_fn=<AddmmBackward0>)\n",
            "tensor([0, 0, 1, 1, 1, 0, 0, 0])\n",
            "tensor([0, 0, 1, 1, 0, 0, 0, 0])\n"
          ]
        },
        {
          "metadata": {
            "tags": null
          },
          "name": "stderr",
          "output_type": "stream",
          "text": [
            "\r 56%|█████▋    | 296/525 [16:00<12:07,  3.18s/it]"
          ]
        },
        {
          "metadata": {
            "tags": null
          },
          "name": "stdout",
          "output_type": "stream",
          "text": [
            "tensor([[-2.1682,  2.1373],\n",
            "        [ 1.8926, -1.2649],\n",
            "        [ 2.2229, -2.2046],\n",
            "        [-1.2838,  0.6319],\n",
            "        [ 2.5761, -2.1882],\n",
            "        [-0.1251, -0.2724],\n",
            "        [-1.8968,  1.7542],\n",
            "        [ 0.6856, -0.6417]], grad_fn=<AddmmBackward0>)\n",
            "tensor([1, 0, 0, 1, 0, 1, 1, 1])\n",
            "tensor([1, 0, 0, 1, 0, 0, 1, 0])\n"
          ]
        },
        {
          "metadata": {
            "tags": null
          },
          "name": "stderr",
          "output_type": "stream",
          "text": [
            "\r 57%|█████▋    | 297/525 [16:04<12:33,  3.30s/it]"
          ]
        },
        {
          "metadata": {
            "tags": null
          },
          "name": "stdout",
          "output_type": "stream",
          "text": [
            "tensor([[-1.9468,  1.3079],\n",
            "        [ 0.0292, -0.3947],\n",
            "        [ 2.3441, -2.3593],\n",
            "        [-0.1200, -0.3051],\n",
            "        [ 2.3599, -1.7913],\n",
            "        [-1.2366,  1.0324],\n",
            "        [-0.6834,  0.3092],\n",
            "        [-0.2199, -0.0613]], grad_fn=<AddmmBackward0>)\n",
            "tensor([1, 0, 0, 0, 0, 1, 1, 1])\n",
            "tensor([1, 0, 0, 0, 0, 1, 1, 1])\n"
          ]
        },
        {
          "metadata": {
            "tags": null
          },
          "name": "stderr",
          "output_type": "stream",
          "text": [
            "\r 57%|█████▋    | 298/525 [16:07<12:19,  3.26s/it]"
          ]
        },
        {
          "metadata": {
            "tags": null
          },
          "name": "stdout",
          "output_type": "stream",
          "text": [
            "tensor([[-2.1881,  1.8414],\n",
            "        [-0.5391,  0.0171],\n",
            "        [-2.4417,  2.3362],\n",
            "        [-2.1939,  1.7546],\n",
            "        [-0.6991,  0.2386],\n",
            "        [ 1.0054, -1.1929],\n",
            "        [-2.2546,  2.1554],\n",
            "        [ 2.2610, -1.8423]], grad_fn=<AddmmBackward0>)\n",
            "tensor([1, 1, 1, 1, 0, 1, 1, 0])\n",
            "tensor([1, 1, 1, 1, 1, 0, 1, 0])\n"
          ]
        },
        {
          "metadata": {
            "tags": null
          },
          "name": "stderr",
          "output_type": "stream",
          "text": [
            "\r 57%|█████▋    | 299/525 [16:10<12:21,  3.28s/it]"
          ]
        },
        {
          "metadata": {
            "tags": null
          },
          "name": "stdout",
          "output_type": "stream",
          "text": [
            "tensor([[ 1.2040, -1.2076],\n",
            "        [-2.1963,  2.2650],\n",
            "        [ 2.2360, -2.2220],\n",
            "        [ 2.2158, -1.8310],\n",
            "        [-2.2126,  2.0679],\n",
            "        [-1.8800,  1.4858],\n",
            "        [-0.5554,  0.2637],\n",
            "        [-2.1979,  2.1596]], grad_fn=<AddmmBackward0>)\n",
            "tensor([0, 1, 0, 0, 1, 1, 0, 1])\n",
            "tensor([0, 1, 0, 0, 1, 1, 1, 1])\n"
          ]
        },
        {
          "metadata": {
            "tags": null
          },
          "name": "stderr",
          "output_type": "stream",
          "text": [
            "\r 57%|█████▋    | 300/525 [16:14<12:38,  3.37s/it]"
          ]
        },
        {
          "metadata": {
            "tags": null
          },
          "name": "stdout",
          "output_type": "stream",
          "text": [
            "tensor([[-2.5150,  2.2178],\n",
            "        [ 1.4274, -1.3657],\n",
            "        [ 2.2023, -2.0408],\n",
            "        [-2.2643,  1.9498],\n",
            "        [ 2.0930, -1.7513],\n",
            "        [-1.2189,  0.9182],\n",
            "        [ 2.3007, -2.2249],\n",
            "        [ 1.3762, -1.5923]], grad_fn=<AddmmBackward0>)\n",
            "tensor([1, 0, 0, 1, 0, 0, 0, 0])\n",
            "tensor([1, 0, 0, 1, 0, 1, 0, 0])\n"
          ]
        },
        {
          "metadata": {
            "tags": null
          },
          "name": "stderr",
          "output_type": "stream",
          "text": [
            "\r 57%|█████▋    | 301/525 [16:17<12:39,  3.39s/it]"
          ]
        },
        {
          "metadata": {
            "tags": null
          },
          "name": "stdout",
          "output_type": "stream",
          "text": [
            "tensor([[-1.4826,  1.0968],\n",
            "        [ 2.1603, -2.0919],\n",
            "        [-1.7712,  1.5083],\n",
            "        [-2.2661,  2.2510],\n",
            "        [ 2.2883, -2.0408],\n",
            "        [ 2.2609, -1.7909],\n",
            "        [-2.4496,  2.1715],\n",
            "        [ 1.5092, -1.6134]], grad_fn=<AddmmBackward0>)\n",
            "tensor([1, 0, 1, 1, 0, 0, 1, 0])\n",
            "tensor([1, 0, 1, 1, 0, 0, 1, 0])\n"
          ]
        },
        {
          "metadata": {
            "tags": null
          },
          "name": "stderr",
          "output_type": "stream",
          "text": [
            "\r 58%|█████▊    | 302/525 [16:21<12:30,  3.37s/it]"
          ]
        },
        {
          "metadata": {
            "tags": null
          },
          "name": "stdout",
          "output_type": "stream",
          "text": [
            "tensor([[ 0.2288, -0.4281],\n",
            "        [-2.3391,  2.2732],\n",
            "        [-2.3158,  2.1774],\n",
            "        [-0.5840,  0.1368],\n",
            "        [ 1.9517, -2.1443],\n",
            "        [ 2.2231, -2.3331],\n",
            "        [ 0.1378, -0.4692],\n",
            "        [ 1.8596, -1.9334]], grad_fn=<AddmmBackward0>)\n",
            "tensor([0, 1, 1, 0, 0, 0, 0, 0])\n",
            "tensor([0, 1, 1, 1, 0, 0, 0, 0])\n"
          ]
        },
        {
          "metadata": {
            "tags": null
          },
          "name": "stderr",
          "output_type": "stream",
          "text": [
            "\r 58%|█████▊    | 303/525 [16:24<12:15,  3.31s/it]"
          ]
        },
        {
          "metadata": {
            "tags": null
          },
          "name": "stdout",
          "output_type": "stream",
          "text": [
            "tensor([[-0.7804,  0.5202],\n",
            "        [-1.9407,  2.1016],\n",
            "        [-0.7732,  0.7819],\n",
            "        [-2.3756,  2.3413],\n",
            "        [-2.2733,  2.3410],\n",
            "        [-0.5325, -0.0398],\n",
            "        [ 2.5281, -2.3186],\n",
            "        [-0.6423,  0.3933]], grad_fn=<AddmmBackward0>)\n",
            "tensor([1, 1, 1, 1, 1, 0, 0, 0])\n",
            "tensor([1, 1, 1, 1, 1, 1, 0, 1])\n"
          ]
        },
        {
          "metadata": {
            "tags": null
          },
          "name": "stderr",
          "output_type": "stream",
          "text": [
            "\r 58%|█████▊    | 304/525 [16:27<12:16,  3.33s/it]"
          ]
        },
        {
          "metadata": {
            "tags": null
          },
          "name": "stdout",
          "output_type": "stream",
          "text": [
            "tensor([[-0.7236,  0.3869],\n",
            "        [-2.1788,  2.2037],\n",
            "        [-1.7229,  1.2942],\n",
            "        [ 0.9629, -1.0378],\n",
            "        [ 1.7727, -1.6191],\n",
            "        [-0.4409, -0.1403],\n",
            "        [ 2.4507, -2.5336],\n",
            "        [-0.7226,  0.2733]], grad_fn=<AddmmBackward0>)\n",
            "tensor([1, 1, 1, 0, 0, 0, 0, 1])\n",
            "tensor([1, 1, 1, 0, 0, 1, 0, 1])\n"
          ]
        },
        {
          "metadata": {
            "tags": null
          },
          "name": "stderr",
          "output_type": "stream",
          "text": [
            "\r 58%|█████▊    | 305/525 [16:31<12:32,  3.42s/it]"
          ]
        },
        {
          "metadata": {
            "tags": null
          },
          "name": "stdout",
          "output_type": "stream",
          "text": [
            "tensor([[-1.8482,  1.3841],\n",
            "        [ 1.8546, -1.9502],\n",
            "        [-1.5437,  1.2835],\n",
            "        [ 0.6022, -1.1185],\n",
            "        [-1.8324,  1.8411],\n",
            "        [ 1.0755, -1.2148],\n",
            "        [-2.3426,  2.2888],\n",
            "        [-2.3999,  2.2486]], grad_fn=<AddmmBackward0>)\n",
            "tensor([1, 0, 1, 0, 1, 0, 1, 1])\n",
            "tensor([1, 0, 1, 0, 1, 0, 1, 1])\n"
          ]
        },
        {
          "metadata": {
            "tags": null
          },
          "name": "stderr",
          "output_type": "stream",
          "text": [
            "\r 58%|█████▊    | 306/525 [16:34<12:09,  3.33s/it]"
          ]
        },
        {
          "metadata": {
            "tags": null
          },
          "name": "stdout",
          "output_type": "stream",
          "text": [
            "tensor([[ 2.4264, -2.6891],\n",
            "        [-2.2220,  2.0592],\n",
            "        [-1.4990,  1.2537],\n",
            "        [ 2.1360, -1.9472],\n",
            "        [-1.3714,  0.8185],\n",
            "        [ 2.0216, -2.1802],\n",
            "        [-2.3251,  2.0699],\n",
            "        [-2.3713,  2.3367]], grad_fn=<AddmmBackward0>)\n",
            "tensor([0, 1, 1, 0, 1, 0, 0, 1])\n",
            "tensor([0, 1, 1, 0, 1, 0, 1, 1])\n"
          ]
        },
        {
          "metadata": {
            "tags": null
          },
          "name": "stderr",
          "output_type": "stream",
          "text": [
            "\r 58%|█████▊    | 307/525 [16:37<11:53,  3.27s/it]"
          ]
        },
        {
          "metadata": {
            "tags": null
          },
          "name": "stdout",
          "output_type": "stream",
          "text": [
            "tensor([[ 0.9507, -1.0265],\n",
            "        [-1.8851,  1.9266],\n",
            "        [-0.9081,  0.6058],\n",
            "        [-2.2549,  1.9660],\n",
            "        [-1.6140,  1.7124],\n",
            "        [-2.0180,  1.8348],\n",
            "        [-0.3052,  0.1772],\n",
            "        [ 2.5385, -2.2276]], grad_fn=<AddmmBackward0>)\n",
            "tensor([1, 1, 0, 1, 1, 1, 0, 0])\n",
            "tensor([0, 1, 1, 1, 1, 1, 1, 0])\n"
          ]
        },
        {
          "metadata": {
            "tags": null
          },
          "name": "stderr",
          "output_type": "stream",
          "text": [
            "\r 59%|█████▊    | 308/525 [16:40<11:47,  3.26s/it]"
          ]
        },
        {
          "metadata": {
            "tags": null
          },
          "name": "stdout",
          "output_type": "stream",
          "text": [
            "tensor([[-2.2167,  2.1114],\n",
            "        [-1.9937,  2.0476],\n",
            "        [ 1.5624, -1.6071],\n",
            "        [ 2.2879, -2.3184],\n",
            "        [-2.3279,  2.3165],\n",
            "        [-1.9805,  1.7305],\n",
            "        [-2.0235,  1.8593],\n",
            "        [-0.3043, -0.0978]], grad_fn=<AddmmBackward0>)\n",
            "tensor([1, 1, 0, 0, 1, 1, 1, 0])\n",
            "tensor([1, 1, 0, 0, 1, 1, 1, 1])\n"
          ]
        },
        {
          "metadata": {
            "tags": null
          },
          "name": "stderr",
          "output_type": "stream",
          "text": [
            "\r 59%|█████▉    | 309/525 [16:44<11:46,  3.27s/it]"
          ]
        },
        {
          "metadata": {
            "tags": null
          },
          "name": "stdout",
          "output_type": "stream",
          "text": [
            "tensor([[-1.4865,  1.0594],\n",
            "        [ 1.8101, -1.9437],\n",
            "        [-0.9081,  0.6196],\n",
            "        [-2.1237,  2.0322],\n",
            "        [-1.5553,  1.5828],\n",
            "        [ 1.9515, -2.1576],\n",
            "        [ 0.5936, -0.7578],\n",
            "        [ 0.0093, -0.6459]], grad_fn=<AddmmBackward0>)\n",
            "tensor([0, 0, 1, 1, 1, 0, 0, 1])\n",
            "tensor([1, 0, 1, 1, 1, 0, 0, 0])\n"
          ]
        },
        {
          "metadata": {
            "tags": null
          },
          "name": "stderr",
          "output_type": "stream",
          "text": [
            "\r 59%|█████▉    | 310/525 [16:47<12:00,  3.35s/it]"
          ]
        },
        {
          "metadata": {
            "tags": null
          },
          "name": "stdout",
          "output_type": "stream",
          "text": [
            "tensor([[-1.4780,  1.0686],\n",
            "        [-0.7756,  0.7909],\n",
            "        [ 1.1133, -1.2534],\n",
            "        [ 0.9068, -0.9917],\n",
            "        [-0.8712,  0.6875],\n",
            "        [-1.4975,  1.4773],\n",
            "        [ 1.5739, -1.7726],\n",
            "        [-1.8955,  1.9144]], grad_fn=<AddmmBackward0>)\n",
            "tensor([1, 1, 1, 0, 0, 1, 0, 1])\n",
            "tensor([1, 1, 0, 0, 1, 1, 0, 1])\n"
          ]
        },
        {
          "metadata": {
            "tags": null
          },
          "name": "stderr",
          "output_type": "stream",
          "text": [
            "\r 59%|█████▉    | 311/525 [16:50<11:22,  3.19s/it]"
          ]
        },
        {
          "metadata": {
            "tags": null
          },
          "name": "stdout",
          "output_type": "stream",
          "text": [
            "tensor([[-0.6218,  0.0547],\n",
            "        [ 1.6573, -1.3376],\n",
            "        [-0.2993, -0.3031],\n",
            "        [-1.1991,  1.0450],\n",
            "        [-0.1207, -0.1353],\n",
            "        [-0.9802,  0.7046],\n",
            "        [ 1.7985, -1.7676],\n",
            "        [-1.4451,  1.3975]], grad_fn=<AddmmBackward0>)\n",
            "tensor([1, 0, 0, 1, 0, 1, 0, 1])\n",
            "tensor([1, 0, 0, 1, 0, 1, 0, 1])\n"
          ]
        },
        {
          "metadata": {
            "tags": null
          },
          "name": "stderr",
          "output_type": "stream",
          "text": [
            "\r 59%|█████▉    | 312/525 [16:53<11:31,  3.25s/it]"
          ]
        },
        {
          "metadata": {
            "tags": null
          },
          "name": "stdout",
          "output_type": "stream",
          "text": [
            "tensor([[ 1.3860, -1.1941],\n",
            "        [ 1.0707, -1.1214],\n",
            "        [-1.2638,  0.6087],\n",
            "        [-0.9331,  0.2838],\n",
            "        [ 2.2751, -2.4128],\n",
            "        [ 2.2033, -2.2068],\n",
            "        [ 2.1768, -2.3655],\n",
            "        [ 2.2217, -2.4530]], grad_fn=<AddmmBackward0>)\n",
            "tensor([0, 1, 1, 1, 0, 0, 0, 0])\n",
            "tensor([0, 0, 1, 1, 0, 0, 0, 0])\n"
          ]
        },
        {
          "metadata": {
            "tags": null
          },
          "name": "stderr",
          "output_type": "stream",
          "text": [
            "\r 60%|█████▉    | 313/525 [16:57<11:45,  3.33s/it]"
          ]
        },
        {
          "metadata": {
            "tags": null
          },
          "name": "stdout",
          "output_type": "stream",
          "text": [
            "tensor([[ 0.0956, -0.4086],\n",
            "        [ 0.1969, -0.6742],\n",
            "        [-0.3555, -0.0334],\n",
            "        [-0.1833, -0.4156],\n",
            "        [ 0.7917, -1.0572],\n",
            "        [-1.1301,  1.0487],\n",
            "        [ 2.4941, -2.1491],\n",
            "        [ 1.5457, -1.6053]], grad_fn=<AddmmBackward0>)\n",
            "tensor([0, 0, 1, 0, 1, 1, 0, 0])\n",
            "tensor([0, 0, 1, 0, 0, 1, 0, 0])\n"
          ]
        },
        {
          "metadata": {
            "tags": null
          },
          "name": "stderr",
          "output_type": "stream",
          "text": [
            "\r 60%|█████▉    | 314/525 [17:00<12:00,  3.41s/it]"
          ]
        },
        {
          "metadata": {
            "tags": null
          },
          "name": "stdout",
          "output_type": "stream",
          "text": [
            "tensor([[-1.0381,  0.8263],\n",
            "        [ 2.5245, -2.3292],\n",
            "        [-0.9098,  1.0322],\n",
            "        [ 1.7535, -1.4433],\n",
            "        [-0.8280,  0.6004],\n",
            "        [-1.8717,  1.9567],\n",
            "        [-1.5721,  1.7150],\n",
            "        [-0.3203,  0.2345]], grad_fn=<AddmmBackward0>)\n",
            "tensor([1, 0, 0, 0, 1, 1, 1, 1])\n",
            "tensor([1, 0, 1, 0, 1, 1, 1, 1])\n"
          ]
        },
        {
          "metadata": {
            "tags": null
          },
          "name": "stderr",
          "output_type": "stream",
          "text": [
            "\r 60%|██████    | 315/525 [17:03<11:17,  3.23s/it]"
          ]
        },
        {
          "metadata": {
            "tags": null
          },
          "name": "stdout",
          "output_type": "stream",
          "text": [
            "tensor([[ 0.2303, -0.3178],\n",
            "        [-1.4454,  0.5070],\n",
            "        [-0.4956, -0.0142],\n",
            "        [ 1.0330, -1.0492],\n",
            "        [ 0.9286, -1.2636],\n",
            "        [-0.8253,  0.5913],\n",
            "        [-1.4022,  1.0981],\n",
            "        [-0.7440,  0.6616]], grad_fn=<AddmmBackward0>)\n",
            "tensor([0, 1, 1, 0, 0, 1, 1, 0])\n",
            "tensor([0, 1, 1, 0, 0, 1, 1, 1])\n"
          ]
        },
        {
          "metadata": {
            "tags": null
          },
          "name": "stderr",
          "output_type": "stream",
          "text": [
            "\r 60%|██████    | 316/525 [17:06<11:16,  3.24s/it]"
          ]
        },
        {
          "metadata": {
            "tags": null
          },
          "name": "stdout",
          "output_type": "stream",
          "text": [
            "tensor([[-1.6763,  1.3937],\n",
            "        [ 1.9214, -1.7584],\n",
            "        [-0.2502, -0.1751],\n",
            "        [-1.3246,  0.7814],\n",
            "        [-1.5149,  1.6029],\n",
            "        [ 1.6902, -1.8060],\n",
            "        [ 1.4743, -1.8020],\n",
            "        [-0.9152,  0.0604]], grad_fn=<AddmmBackward0>)\n",
            "tensor([1, 0, 1, 1, 1, 0, 0, 1])\n",
            "tensor([1, 0, 1, 1, 1, 0, 0, 1])\n"
          ]
        },
        {
          "metadata": {
            "tags": null
          },
          "name": "stderr",
          "output_type": "stream",
          "text": [
            "\r 60%|██████    | 317/525 [17:10<11:27,  3.31s/it]"
          ]
        },
        {
          "metadata": {
            "tags": null
          },
          "name": "stdout",
          "output_type": "stream",
          "text": [
            "tensor([[ 0.7953, -1.0399],\n",
            "        [ 1.2461, -1.1796],\n",
            "        [ 0.4737, -0.6134],\n",
            "        [ 0.2271, -0.5186],\n",
            "        [-1.2540,  1.3868],\n",
            "        [-0.6461,  0.0583],\n",
            "        [-1.3819,  1.4296],\n",
            "        [ 1.2949, -1.5387]], grad_fn=<AddmmBackward0>)\n",
            "tensor([0, 0, 0, 0, 1, 1, 1, 0])\n",
            "tensor([0, 0, 0, 0, 1, 1, 1, 0])\n"
          ]
        },
        {
          "metadata": {
            "tags": null
          },
          "name": "stderr",
          "output_type": "stream",
          "text": [
            "\r 61%|██████    | 318/525 [17:14<11:42,  3.39s/it]"
          ]
        },
        {
          "metadata": {
            "tags": null
          },
          "name": "stdout",
          "output_type": "stream",
          "text": [
            "tensor([[-1.2384,  0.9614],\n",
            "        [ 1.8327, -1.8901],\n",
            "        [-1.2052,  1.0421],\n",
            "        [-1.2507,  0.9452],\n",
            "        [-0.6165, -0.0782],\n",
            "        [ 1.3895, -1.1878],\n",
            "        [-0.7794,  0.3425],\n",
            "        [-0.8003,  0.5005]], grad_fn=<AddmmBackward0>)\n",
            "tensor([1, 0, 1, 1, 1, 0, 1, 1])\n",
            "tensor([1, 0, 1, 1, 1, 0, 1, 1])\n"
          ]
        },
        {
          "metadata": {
            "tags": null
          },
          "name": "stderr",
          "output_type": "stream",
          "text": [
            "\r 61%|██████    | 319/525 [17:17<11:36,  3.38s/it]"
          ]
        },
        {
          "metadata": {
            "tags": null
          },
          "name": "stdout",
          "output_type": "stream",
          "text": [
            "tensor([[-0.9242,  0.6638],\n",
            "        [ 2.4064, -2.1021],\n",
            "        [-1.3235,  1.3370],\n",
            "        [-0.6272,  0.4572],\n",
            "        [-1.5453,  1.3686],\n",
            "        [-0.0916, -0.3511],\n",
            "        [-0.4291, -0.0403],\n",
            "        [-0.9512,  0.4583]], grad_fn=<AddmmBackward0>)\n",
            "tensor([1, 0, 1, 1, 1, 0, 1, 1])\n",
            "tensor([1, 0, 1, 1, 1, 0, 1, 1])\n"
          ]
        },
        {
          "metadata": {
            "tags": null
          },
          "name": "stderr",
          "output_type": "stream",
          "text": [
            "\r 61%|██████    | 320/525 [17:20<11:20,  3.32s/it]"
          ]
        },
        {
          "metadata": {
            "tags": null
          },
          "name": "stdout",
          "output_type": "stream",
          "text": [
            "tensor([[-0.4242, -0.1648],\n",
            "        [-0.9271,  0.5351],\n",
            "        [ 1.7365, -1.7032],\n",
            "        [-0.8432,  0.3504],\n",
            "        [ 0.9588, -0.8188],\n",
            "        [-0.4452, -0.0929],\n",
            "        [ 0.0120, -0.3054],\n",
            "        [ 2.1731, -2.2914]], grad_fn=<AddmmBackward0>)\n",
            "tensor([0, 1, 0, 1, 0, 0, 0, 0])\n",
            "tensor([1, 1, 0, 1, 0, 1, 0, 0])\n"
          ]
        },
        {
          "metadata": {
            "tags": null
          },
          "name": "stderr",
          "output_type": "stream",
          "text": [
            "\r 61%|██████    | 321/525 [17:23<11:21,  3.34s/it]"
          ]
        },
        {
          "metadata": {
            "tags": null
          },
          "name": "stdout",
          "output_type": "stream",
          "text": [
            "tensor([[ 2.3687, -2.2349],\n",
            "        [ 1.8837, -1.6835],\n",
            "        [-1.6994,  1.3911],\n",
            "        [ 2.5244, -2.3066],\n",
            "        [ 0.6423, -0.8997],\n",
            "        [-1.4746,  1.1219],\n",
            "        [-0.6496,  0.0324],\n",
            "        [-1.0871,  0.6826]], grad_fn=<AddmmBackward0>)\n",
            "tensor([0, 0, 1, 0, 0, 1, 0, 1])\n",
            "tensor([0, 0, 1, 0, 0, 1, 1, 1])\n"
          ]
        },
        {
          "metadata": {
            "tags": null
          },
          "name": "stderr",
          "output_type": "stream",
          "text": [
            "\r 61%|██████▏   | 322/525 [17:27<11:28,  3.39s/it]"
          ]
        },
        {
          "metadata": {
            "tags": null
          },
          "name": "stdout",
          "output_type": "stream",
          "text": [
            "tensor([[ 2.5990, -2.2528],\n",
            "        [-1.8331,  1.7362],\n",
            "        [-1.2360,  1.1329],\n",
            "        [-1.8231,  1.7294],\n",
            "        [-1.7363,  1.2202],\n",
            "        [-1.3233,  0.6051],\n",
            "        [ 1.4991, -1.7007],\n",
            "        [-1.0858,  0.4796]], grad_fn=<AddmmBackward0>)\n",
            "tensor([0, 1, 0, 1, 1, 1, 0, 1])\n",
            "tensor([0, 1, 1, 1, 1, 1, 0, 1])\n"
          ]
        },
        {
          "metadata": {
            "tags": null
          },
          "name": "stderr",
          "output_type": "stream",
          "text": [
            "\r 62%|██████▏   | 323/525 [17:30<11:23,  3.38s/it]"
          ]
        },
        {
          "metadata": {
            "tags": null
          },
          "name": "stdout",
          "output_type": "stream",
          "text": [
            "tensor([[-0.5559, -0.0443],\n",
            "        [ 2.6444, -2.5139],\n",
            "        [ 1.4851, -1.6491],\n",
            "        [-1.2461,  0.5925],\n",
            "        [ 1.8595, -1.8864],\n",
            "        [-1.0758,  0.8440],\n",
            "        [-0.6738,  0.2663],\n",
            "        [ 1.2496, -1.3937]], grad_fn=<AddmmBackward0>)\n",
            "tensor([1, 0, 0, 1, 0, 1, 1, 1])\n",
            "tensor([1, 0, 0, 1, 0, 1, 1, 0])\n"
          ]
        },
        {
          "metadata": {
            "tags": null
          },
          "name": "stderr",
          "output_type": "stream",
          "text": [
            "\r 62%|██████▏   | 324/525 [17:34<11:09,  3.33s/it]"
          ]
        },
        {
          "metadata": {
            "tags": null
          },
          "name": "stdout",
          "output_type": "stream",
          "text": [
            "tensor([[ 2.1157, -1.9131],\n",
            "        [-0.8803,  0.7277],\n",
            "        [ 0.3713, -0.6277],\n",
            "        [ 0.2536, -0.6080],\n",
            "        [-0.3555,  0.0136],\n",
            "        [-0.8432,  0.5477],\n",
            "        [-1.2605,  1.1921],\n",
            "        [-0.5742,  0.1148]], grad_fn=<AddmmBackward0>)\n",
            "tensor([0, 1, 0, 0, 1, 1, 1, 1])\n",
            "tensor([0, 1, 0, 0, 1, 1, 1, 1])\n"
          ]
        },
        {
          "metadata": {
            "tags": null
          },
          "name": "stderr",
          "output_type": "stream",
          "text": [
            "\r 62%|██████▏   | 325/525 [17:37<11:07,  3.34s/it]"
          ]
        },
        {
          "metadata": {
            "tags": null
          },
          "name": "stdout",
          "output_type": "stream",
          "text": [
            "tensor([[ 0.7782, -0.8947],\n",
            "        [-1.6833,  1.7584],\n",
            "        [ 2.6394, -2.5221],\n",
            "        [ 1.7904, -1.7119],\n",
            "        [ 1.7311, -1.8894],\n",
            "        [-0.4587,  0.2033],\n",
            "        [-1.4719,  1.2793],\n",
            "        [ 0.1151, -0.4443]], grad_fn=<AddmmBackward0>)\n",
            "tensor([0, 1, 0, 0, 0, 1, 1, 0])\n",
            "tensor([0, 1, 0, 0, 0, 1, 1, 0])\n"
          ]
        },
        {
          "metadata": {
            "tags": null
          },
          "name": "stderr",
          "output_type": "stream",
          "text": [
            "\r 62%|██████▏   | 326/525 [17:40<11:15,  3.40s/it]"
          ]
        },
        {
          "metadata": {
            "tags": null
          },
          "name": "stdout",
          "output_type": "stream",
          "text": [
            "tensor([[ 1.9868, -2.1865],\n",
            "        [ 1.6967, -2.0311],\n",
            "        [ 2.6308, -2.5038],\n",
            "        [-2.0940,  1.7266],\n",
            "        [-1.5337,  1.5465],\n",
            "        [ 0.7037, -0.8454],\n",
            "        [-1.3908,  1.3117],\n",
            "        [ 1.6588, -1.7399]], grad_fn=<AddmmBackward0>)\n",
            "tensor([0, 0, 0, 1, 1, 1, 1, 0])\n",
            "tensor([0, 0, 0, 1, 1, 0, 1, 0])\n"
          ]
        },
        {
          "metadata": {
            "tags": null
          },
          "name": "stderr",
          "output_type": "stream",
          "text": [
            "\r 62%|██████▏   | 327/525 [17:44<11:16,  3.42s/it]"
          ]
        },
        {
          "metadata": {
            "tags": null
          },
          "name": "stdout",
          "output_type": "stream",
          "text": [
            "tensor([[ 1.2970, -1.4996],\n",
            "        [ 1.2796, -1.3739],\n",
            "        [-1.7101,  1.4203],\n",
            "        [-0.9664,  0.2709],\n",
            "        [-1.1659,  0.7753],\n",
            "        [ 1.2909, -1.3216],\n",
            "        [-0.4048, -0.0748],\n",
            "        [-1.4845,  1.1424]], grad_fn=<AddmmBackward0>)\n",
            "tensor([0, 0, 1, 1, 1, 0, 0, 1])\n",
            "tensor([0, 0, 1, 1, 1, 0, 1, 1])\n"
          ]
        },
        {
          "metadata": {
            "tags": null
          },
          "name": "stderr",
          "output_type": "stream",
          "text": [
            "\r 62%|██████▏   | 328/525 [17:47<10:53,  3.32s/it]"
          ]
        },
        {
          "metadata": {
            "tags": null
          },
          "name": "stdout",
          "output_type": "stream",
          "text": [
            "tensor([[-2.0481,  1.7643],\n",
            "        [ 1.1114, -1.3696],\n",
            "        [ 2.2631, -2.0525],\n",
            "        [ 2.0310, -1.9964],\n",
            "        [ 0.8937, -0.9455],\n",
            "        [-0.3427,  0.0457],\n",
            "        [-1.4339,  1.1016],\n",
            "        [-1.6126,  1.1286]], grad_fn=<AddmmBackward0>)\n",
            "tensor([1, 1, 0, 0, 0, 1, 1, 1])\n",
            "tensor([1, 0, 0, 0, 0, 1, 1, 1])\n"
          ]
        },
        {
          "metadata": {
            "tags": null
          },
          "name": "stderr",
          "output_type": "stream",
          "text": [
            "\r 63%|██████▎   | 329/525 [17:50<10:43,  3.28s/it]"
          ]
        },
        {
          "metadata": {
            "tags": null
          },
          "name": "stdout",
          "output_type": "stream",
          "text": [
            "tensor([[-1.6485,  1.1947],\n",
            "        [-1.5242,  1.8421],\n",
            "        [ 1.1869, -1.3195],\n",
            "        [ 2.3601, -2.5584],\n",
            "        [-0.4920,  0.2635],\n",
            "        [-1.1538,  0.7548],\n",
            "        [-0.0315, -0.2684],\n",
            "        [-1.7435,  1.7440]], grad_fn=<AddmmBackward0>)\n",
            "tensor([1, 1, 0, 0, 1, 0, 1, 1])\n",
            "tensor([1, 1, 0, 0, 1, 1, 0, 1])\n"
          ]
        },
        {
          "metadata": {
            "tags": null
          },
          "name": "stderr",
          "output_type": "stream",
          "text": [
            "\r 63%|██████▎   | 330/525 [17:54<10:44,  3.30s/it]"
          ]
        },
        {
          "metadata": {
            "tags": null
          },
          "name": "stdout",
          "output_type": "stream",
          "text": [
            "tensor([[-1.4324,  1.3260],\n",
            "        [-2.0343,  2.0960],\n",
            "        [-1.6574,  1.8692],\n",
            "        [-1.9993,  1.9907],\n",
            "        [ 0.9757, -0.9435],\n",
            "        [-0.1519, -0.3151],\n",
            "        [-1.3377,  1.1104],\n",
            "        [-2.0485,  1.6127]], grad_fn=<AddmmBackward0>)\n",
            "tensor([1, 1, 1, 1, 0, 0, 1, 1])\n",
            "tensor([1, 1, 1, 1, 0, 0, 1, 1])\n"
          ]
        },
        {
          "metadata": {
            "tags": null
          },
          "name": "stderr",
          "output_type": "stream",
          "text": [
            "\r 63%|██████▎   | 331/525 [17:57<11:01,  3.41s/it]"
          ]
        },
        {
          "metadata": {
            "tags": null
          },
          "name": "stdout",
          "output_type": "stream",
          "text": [
            "tensor([[ 1.7906, -1.7396],\n",
            "        [-1.9046,  1.8459],\n",
            "        [-2.1724,  2.0855],\n",
            "        [ 2.5559, -2.3791],\n",
            "        [ 1.9324, -1.8733],\n",
            "        [-0.7421,  0.4085],\n",
            "        [-1.2604,  0.7810],\n",
            "        [-0.3181, -0.1468]], grad_fn=<AddmmBackward0>)\n",
            "tensor([0, 1, 1, 0, 0, 1, 1, 0])\n",
            "tensor([0, 1, 1, 0, 0, 1, 1, 1])\n"
          ]
        },
        {
          "metadata": {
            "tags": null
          },
          "name": "stderr",
          "output_type": "stream",
          "text": [
            "\r 63%|██████▎   | 332/525 [18:01<10:59,  3.42s/it]"
          ]
        },
        {
          "metadata": {
            "tags": null
          },
          "name": "stdout",
          "output_type": "stream",
          "text": [
            "tensor([[-1.6541,  1.4018],\n",
            "        [-1.9582,  1.8665],\n",
            "        [ 2.5842, -2.4038],\n",
            "        [ 0.2347, -0.5581],\n",
            "        [ 2.2327, -2.6842],\n",
            "        [-1.5552,  1.0694],\n",
            "        [-2.0896,  1.9169],\n",
            "        [-2.0070,  2.0851]], grad_fn=<AddmmBackward0>)\n",
            "tensor([1, 1, 0, 0, 0, 1, 1, 1])\n",
            "tensor([1, 1, 0, 0, 0, 1, 1, 1])\n"
          ]
        },
        {
          "metadata": {
            "tags": null
          },
          "name": "stderr",
          "output_type": "stream",
          "text": [
            "\r 63%|██████▎   | 333/525 [18:04<10:36,  3.32s/it]"
          ]
        },
        {
          "metadata": {
            "tags": null
          },
          "name": "stdout",
          "output_type": "stream",
          "text": [
            "tensor([[-1.3033,  1.0132],\n",
            "        [-2.2612,  1.9779],\n",
            "        [-2.1057,  1.9084],\n",
            "        [ 1.0801, -1.2237],\n",
            "        [-0.8999,  0.5005],\n",
            "        [ 2.8487, -2.5237],\n",
            "        [-0.6831,  0.6698],\n",
            "        [-1.9789,  1.9666]], grad_fn=<AddmmBackward0>)\n",
            "tensor([1, 1, 1, 0, 1, 0, 1, 1])\n",
            "tensor([1, 1, 1, 0, 1, 0, 1, 1])\n"
          ]
        },
        {
          "metadata": {
            "tags": null
          },
          "name": "stderr",
          "output_type": "stream",
          "text": [
            "\r 64%|██████▎   | 334/525 [18:07<10:33,  3.32s/it]"
          ]
        },
        {
          "metadata": {
            "tags": null
          },
          "name": "stdout",
          "output_type": "stream",
          "text": [
            "tensor([[-2.2500,  2.2099],\n",
            "        [-0.1695, -0.3202],\n",
            "        [-1.9503,  2.0540],\n",
            "        [ 0.2915, -0.4936],\n",
            "        [-2.0794,  1.8630],\n",
            "        [-2.1010,  2.0294],\n",
            "        [ 2.6576, -2.4338],\n",
            "        [ 1.8258, -1.5372]], grad_fn=<AddmmBackward0>)\n",
            "tensor([1, 0, 1, 0, 1, 1, 0, 0])\n",
            "tensor([1, 0, 1, 0, 1, 1, 0, 0])\n"
          ]
        },
        {
          "metadata": {
            "tags": null
          },
          "name": "stderr",
          "output_type": "stream",
          "text": [
            "\r 64%|██████▍   | 335/525 [18:10<10:29,  3.31s/it]"
          ]
        },
        {
          "metadata": {
            "tags": null
          },
          "name": "stdout",
          "output_type": "stream",
          "text": [
            "tensor([[ 0.0936, -0.5904],\n",
            "        [-1.9928,  1.7779],\n",
            "        [-1.7434,  1.6798],\n",
            "        [ 0.3842, -0.7272],\n",
            "        [-2.0904,  2.1460],\n",
            "        [ 2.2629, -2.3188],\n",
            "        [-1.9375,  1.8197],\n",
            "        [-1.0018,  0.6695]], grad_fn=<AddmmBackward0>)\n",
            "tensor([0, 1, 0, 0, 1, 0, 1, 0])\n",
            "tensor([0, 1, 1, 0, 1, 0, 1, 1])\n"
          ]
        },
        {
          "metadata": {
            "tags": null
          },
          "name": "stderr",
          "output_type": "stream",
          "text": [
            "\r 64%|██████▍   | 336/525 [18:14<10:36,  3.37s/it]"
          ]
        },
        {
          "metadata": {
            "tags": null
          },
          "name": "stdout",
          "output_type": "stream",
          "text": [
            "tensor([[-1.5267,  1.4496],\n",
            "        [-2.3039,  1.8392],\n",
            "        [ 1.3842, -1.5830],\n",
            "        [ 2.4928, -2.5689],\n",
            "        [ 0.0363, -0.1997],\n",
            "        [-1.8880,  1.5232],\n",
            "        [-1.6704,  1.6405],\n",
            "        [-1.7937,  1.3433]], grad_fn=<AddmmBackward0>)\n",
            "tensor([1, 1, 0, 0, 1, 1, 1, 1])\n",
            "tensor([1, 1, 0, 0, 0, 1, 1, 1])\n"
          ]
        },
        {
          "metadata": {
            "tags": null
          },
          "name": "stderr",
          "output_type": "stream",
          "text": [
            "\r 64%|██████▍   | 337/525 [18:17<10:24,  3.32s/it]"
          ]
        },
        {
          "metadata": {
            "tags": null
          },
          "name": "stdout",
          "output_type": "stream",
          "text": [
            "tensor([[ 1.6960, -1.3390],\n",
            "        [ 2.4620, -2.5109],\n",
            "        [-2.0686,  1.9206],\n",
            "        [ 0.0695, -0.5427],\n",
            "        [ 0.1737, -0.4226],\n",
            "        [-2.2879,  2.1647],\n",
            "        [-1.6940,  1.5412],\n",
            "        [-2.1506,  1.9651]], grad_fn=<AddmmBackward0>)\n",
            "tensor([0, 0, 0, 0, 0, 1, 1, 0])\n",
            "tensor([0, 0, 1, 0, 0, 1, 1, 1])\n"
          ]
        },
        {
          "metadata": {
            "tags": null
          },
          "name": "stderr",
          "output_type": "stream",
          "text": [
            "\r 64%|██████▍   | 338/525 [18:20<10:27,  3.36s/it]"
          ]
        },
        {
          "metadata": {
            "tags": null
          },
          "name": "stdout",
          "output_type": "stream",
          "text": [
            "tensor([[-1.6601,  1.5188],\n",
            "        [ 2.4055, -2.5444],\n",
            "        [-1.9057,  1.9415],\n",
            "        [ 1.3779, -1.4499],\n",
            "        [ 2.3722, -2.2523],\n",
            "        [ 2.5208, -2.5223],\n",
            "        [-2.0918,  1.9224],\n",
            "        [ 0.5927, -0.4910]], grad_fn=<AddmmBackward0>)\n",
            "tensor([1, 0, 1, 0, 0, 0, 1, 0])\n",
            "tensor([1, 0, 1, 0, 0, 0, 1, 0])\n"
          ]
        },
        {
          "metadata": {
            "tags": null
          },
          "name": "stderr",
          "output_type": "stream",
          "text": [
            "\r 65%|██████▍   | 339/525 [18:23<09:51,  3.18s/it]"
          ]
        },
        {
          "metadata": {
            "tags": null
          },
          "name": "stdout",
          "output_type": "stream",
          "text": [
            "tensor([[ 1.4783, -1.7092],\n",
            "        [ 2.6291, -2.4316],\n",
            "        [ 0.2723,  0.0220],\n",
            "        [ 0.0911, -0.5444],\n",
            "        [-1.8483,  1.7263],\n",
            "        [-1.7447,  1.6438],\n",
            "        [-1.6656,  1.9228],\n",
            "        [-1.1961,  0.7609]], grad_fn=<AddmmBackward0>)\n",
            "tensor([0, 0, 1, 1, 1, 1, 1, 1])\n",
            "tensor([0, 0, 0, 0, 1, 1, 1, 1])\n"
          ]
        },
        {
          "metadata": {
            "tags": null
          },
          "name": "stderr",
          "output_type": "stream",
          "text": [
            "\r 65%|██████▍   | 340/525 [18:27<10:03,  3.26s/it]"
          ]
        },
        {
          "metadata": {
            "tags": null
          },
          "name": "stdout",
          "output_type": "stream",
          "text": [
            "tensor([[ 2.4029, -2.8190],\n",
            "        [ 1.5593, -1.4650],\n",
            "        [-0.9588,  0.8879],\n",
            "        [-1.5989,  1.2677],\n",
            "        [-1.3537,  1.1950],\n",
            "        [ 1.3734, -1.4876],\n",
            "        [-1.7847,  1.5210],\n",
            "        [-1.8453,  1.4959]], grad_fn=<AddmmBackward0>)\n",
            "tensor([0, 0, 1, 1, 0, 1, 1, 1])\n",
            "tensor([0, 0, 1, 1, 1, 0, 1, 1])\n"
          ]
        },
        {
          "metadata": {
            "tags": null
          },
          "name": "stderr",
          "output_type": "stream",
          "text": [
            "\r 65%|██████▍   | 341/525 [18:30<10:06,  3.29s/it]"
          ]
        },
        {
          "metadata": {
            "tags": null
          },
          "name": "stdout",
          "output_type": "stream",
          "text": [
            "tensor([[ 0.7962, -0.9327],\n",
            "        [-1.3782,  1.3088],\n",
            "        [ 2.0494, -2.0581],\n",
            "        [ 1.9734, -2.2463],\n",
            "        [ 1.9216, -1.8346],\n",
            "        [ 1.4775, -1.7232],\n",
            "        [ 1.5866, -1.5903],\n",
            "        [-1.1297,  1.2264]], grad_fn=<AddmmBackward0>)\n",
            "tensor([0, 1, 0, 0, 0, 0, 0, 1])\n",
            "tensor([0, 1, 0, 0, 0, 0, 0, 1])\n"
          ]
        },
        {
          "metadata": {
            "tags": null
          },
          "name": "stderr",
          "output_type": "stream",
          "text": [
            "\r 65%|██████▌   | 342/525 [18:33<09:58,  3.27s/it]"
          ]
        },
        {
          "metadata": {
            "tags": null
          },
          "name": "stdout",
          "output_type": "stream",
          "text": [
            "tensor([[ 1.4899, -1.5393],\n",
            "        [-0.6157,  0.2328],\n",
            "        [-0.5402,  0.3499],\n",
            "        [ 1.3574, -1.1598],\n",
            "        [-1.1453,  0.9911],\n",
            "        [ 1.5167, -1.5402],\n",
            "        [-1.3231,  1.2337],\n",
            "        [-1.6108,  1.4706]], grad_fn=<AddmmBackward0>)\n",
            "tensor([0, 1, 1, 0, 1, 0, 1, 1])\n",
            "tensor([0, 1, 1, 0, 1, 0, 1, 1])\n"
          ]
        },
        {
          "metadata": {
            "tags": null
          },
          "name": "stderr",
          "output_type": "stream",
          "text": [
            "\r 65%|██████▌   | 343/525 [18:37<09:58,  3.29s/it]"
          ]
        },
        {
          "metadata": {
            "tags": null
          },
          "name": "stdout",
          "output_type": "stream",
          "text": [
            "tensor([[-1.2893,  1.3038],\n",
            "        [-1.3063,  1.2128],\n",
            "        [-1.1106,  0.8609],\n",
            "        [-1.0222,  1.4600],\n",
            "        [-1.0890,  0.8109],\n",
            "        [ 2.0979, -2.2794],\n",
            "        [-1.4155,  1.5892],\n",
            "        [ 1.3107, -1.3217]], grad_fn=<AddmmBackward0>)\n",
            "tensor([1, 1, 1, 1, 1, 0, 1, 0])\n",
            "tensor([1, 1, 1, 1, 1, 0, 1, 0])\n"
          ]
        },
        {
          "metadata": {
            "tags": null
          },
          "name": "stderr",
          "output_type": "stream",
          "text": [
            "\r 66%|██████▌   | 344/525 [18:40<09:52,  3.27s/it]"
          ]
        },
        {
          "metadata": {
            "tags": null
          },
          "name": "stdout",
          "output_type": "stream",
          "text": [
            "tensor([[ 0.8695, -1.0065],\n",
            "        [-0.9137,  0.2859],\n",
            "        [-1.4255,  1.4296],\n",
            "        [ 1.8166, -1.7726],\n",
            "        [-1.3624,  1.1597],\n",
            "        [-0.3288, -0.2147],\n",
            "        [-1.2051,  1.4108],\n",
            "        [-1.2005,  1.0799]], grad_fn=<AddmmBackward0>)\n",
            "tensor([0, 1, 1, 0, 1, 1, 1, 1])\n",
            "tensor([0, 1, 1, 0, 1, 1, 1, 1])\n"
          ]
        },
        {
          "metadata": {
            "tags": null
          },
          "name": "stderr",
          "output_type": "stream",
          "text": [
            "\r 66%|██████▌   | 345/525 [18:43<09:57,  3.32s/it]"
          ]
        },
        {
          "metadata": {
            "tags": null
          },
          "name": "stdout",
          "output_type": "stream",
          "text": [
            "tensor([[-1.2748,  1.3560],\n",
            "        [ 2.4148, -2.6082],\n",
            "        [-1.2925,  1.4704],\n",
            "        [ 1.8111, -1.9278],\n",
            "        [-1.3713,  1.6507],\n",
            "        [-0.4156,  0.0654],\n",
            "        [ 2.4493, -2.3810],\n",
            "        [ 1.5883, -2.1568]], grad_fn=<AddmmBackward0>)\n",
            "tensor([1, 0, 1, 0, 1, 0, 0, 0])\n",
            "tensor([1, 0, 1, 0, 1, 1, 0, 0])\n"
          ]
        },
        {
          "metadata": {
            "tags": null
          },
          "name": "stderr",
          "output_type": "stream",
          "text": [
            "\r 66%|██████▌   | 346/525 [18:47<09:53,  3.32s/it]"
          ]
        },
        {
          "metadata": {
            "tags": null
          },
          "name": "stdout",
          "output_type": "stream",
          "text": [
            "tensor([[ 0.2769, -0.7156],\n",
            "        [ 1.2367, -1.2940],\n",
            "        [-0.7143,  0.4857],\n",
            "        [-1.1564,  1.1833],\n",
            "        [-0.9740,  0.4856],\n",
            "        [ 0.7603, -1.0112],\n",
            "        [-0.1745,  0.0696],\n",
            "        [-1.5697,  1.2140]], grad_fn=<AddmmBackward0>)\n",
            "tensor([0, 0, 1, 1, 1, 1, 0, 1])\n",
            "tensor([0, 0, 1, 1, 1, 0, 1, 1])\n"
          ]
        },
        {
          "metadata": {
            "tags": null
          },
          "name": "stderr",
          "output_type": "stream",
          "text": [
            "\r 66%|██████▌   | 347/525 [18:50<09:51,  3.32s/it]"
          ]
        },
        {
          "metadata": {
            "tags": null
          },
          "name": "stdout",
          "output_type": "stream",
          "text": [
            "tensor([[-1.4754,  1.3831],\n",
            "        [-1.3165,  1.2614],\n",
            "        [-1.5142,  1.2773],\n",
            "        [ 0.7313, -1.0078],\n",
            "        [-0.7364,  0.2468],\n",
            "        [ 0.7596, -0.9760],\n",
            "        [ 1.5705, -1.4599],\n",
            "        [ 0.6011, -0.9558]], grad_fn=<AddmmBackward0>)\n",
            "tensor([1, 1, 1, 0, 0, 0, 0, 0])\n",
            "tensor([1, 1, 1, 0, 1, 0, 0, 0])\n"
          ]
        },
        {
          "metadata": {
            "tags": null
          },
          "name": "stderr",
          "output_type": "stream",
          "text": [
            "\r 66%|██████▋   | 348/525 [18:53<09:45,  3.31s/it]"
          ]
        },
        {
          "metadata": {
            "tags": null
          },
          "name": "stdout",
          "output_type": "stream",
          "text": [
            "tensor([[ 2.0432, -2.3237],\n",
            "        [-0.6527,  0.2554],\n",
            "        [-0.9987,  0.3906],\n",
            "        [ 0.3009, -0.8088],\n",
            "        [-1.3756,  1.5111],\n",
            "        [ 0.9336, -1.4099],\n",
            "        [-0.3677,  0.1691],\n",
            "        [ 1.2280, -1.4801]], grad_fn=<AddmmBackward0>)\n",
            "tensor([0, 1, 1, 0, 1, 0, 1, 0])\n",
            "tensor([0, 1, 1, 0, 1, 0, 1, 0])\n"
          ]
        },
        {
          "metadata": {
            "tags": null
          },
          "name": "stderr",
          "output_type": "stream",
          "text": [
            "\r 66%|██████▋   | 349/525 [18:56<09:37,  3.28s/it]"
          ]
        },
        {
          "metadata": {
            "tags": null
          },
          "name": "stdout",
          "output_type": "stream",
          "text": [
            "tensor([[-1.2795,  1.4313],\n",
            "        [ 0.3750, -0.7524],\n",
            "        [ 2.4516, -2.5823],\n",
            "        [-1.0623,  0.9294],\n",
            "        [-1.3760,  1.4165],\n",
            "        [ 0.2804, -0.4690],\n",
            "        [ 2.4180, -2.5231],\n",
            "        [-0.2528, -0.1200]], grad_fn=<AddmmBackward0>)\n",
            "tensor([1, 0, 0, 1, 1, 1, 0, 1])\n",
            "tensor([1, 0, 0, 1, 1, 0, 0, 1])\n"
          ]
        },
        {
          "metadata": {
            "tags": null
          },
          "name": "stderr",
          "output_type": "stream",
          "text": [
            "\r 67%|██████▋   | 350/525 [19:00<09:40,  3.32s/it]"
          ]
        },
        {
          "metadata": {
            "tags": null
          },
          "name": "stdout",
          "output_type": "stream",
          "text": [
            "tensor([[-0.1858,  0.0242],\n",
            "        [-1.1618,  0.6704],\n",
            "        [-0.4523,  0.1321],\n",
            "        [-1.3160,  1.4627],\n",
            "        [-1.1994,  0.8573],\n",
            "        [-1.3331,  1.3255],\n",
            "        [ 1.2127, -1.5248],\n",
            "        [ 0.1853, -0.5066]], grad_fn=<AddmmBackward0>)\n",
            "tensor([0, 1, 1, 1, 0, 1, 0, 0])\n",
            "tensor([1, 1, 1, 1, 1, 1, 0, 0])\n"
          ]
        },
        {
          "metadata": {
            "tags": null
          },
          "name": "stderr",
          "output_type": "stream",
          "text": [
            "\r 67%|██████▋   | 351/525 [19:03<09:35,  3.31s/it]"
          ]
        },
        {
          "metadata": {
            "tags": null
          },
          "name": "stdout",
          "output_type": "stream",
          "text": [
            "tensor([[-1.3516,  1.3773],\n",
            "        [-0.9395,  0.7425],\n",
            "        [-1.5098,  1.0358],\n",
            "        [-1.2854,  0.9057],\n",
            "        [-1.2999,  1.3943],\n",
            "        [-1.5518,  1.3737],\n",
            "        [-1.1033,  1.0250],\n",
            "        [-1.3270,  1.1806]], grad_fn=<AddmmBackward0>)\n",
            "tensor([1, 1, 1, 1, 1, 1, 1, 1])\n",
            "tensor([1, 1, 1, 1, 1, 1, 1, 1])\n"
          ]
        },
        {
          "metadata": {
            "tags": null
          },
          "name": "stderr",
          "output_type": "stream",
          "text": [
            "\r 67%|██████▋   | 352/525 [19:06<09:27,  3.28s/it]"
          ]
        },
        {
          "metadata": {
            "tags": null
          },
          "name": "stdout",
          "output_type": "stream",
          "text": [
            "tensor([[-1.0739,  0.6343],\n",
            "        [-1.3350,  1.4102],\n",
            "        [ 1.4195, -1.6930],\n",
            "        [ 0.9298, -0.9986],\n",
            "        [ 0.1042, -0.4186],\n",
            "        [ 1.1487, -1.3535],\n",
            "        [-1.2710,  1.3862],\n",
            "        [ 1.3674, -1.6133]], grad_fn=<AddmmBackward0>)\n",
            "tensor([1, 1, 0, 0, 1, 0, 1, 0])\n",
            "tensor([1, 1, 0, 0, 0, 0, 1, 0])\n"
          ]
        },
        {
          "metadata": {
            "tags": null
          },
          "name": "stderr",
          "output_type": "stream",
          "text": [
            "\r 67%|██████▋   | 353/525 [19:10<09:26,  3.30s/it]"
          ]
        },
        {
          "metadata": {
            "tags": null
          },
          "name": "stdout",
          "output_type": "stream",
          "text": [
            "tensor([[-1.3785,  1.3937],\n",
            "        [-1.4806,  1.4953],\n",
            "        [ 0.7580, -1.0087],\n",
            "        [-0.8059,  0.2882],\n",
            "        [ 0.3822, -0.4433],\n",
            "        [-1.3834,  1.3542],\n",
            "        [-1.3512,  1.4448],\n",
            "        [ 2.5086, -2.5893]], grad_fn=<AddmmBackward0>)\n",
            "tensor([1, 1, 0, 1, 0, 1, 1, 0])\n",
            "tensor([1, 1, 0, 1, 0, 1, 1, 0])\n"
          ]
        },
        {
          "metadata": {
            "tags": null
          },
          "name": "stderr",
          "output_type": "stream",
          "text": [
            "\r 67%|██████▋   | 354/525 [19:13<09:35,  3.37s/it]"
          ]
        },
        {
          "metadata": {
            "tags": null
          },
          "name": "stdout",
          "output_type": "stream",
          "text": [
            "tensor([[ 2.2772, -2.6287],\n",
            "        [ 1.7813, -1.8996],\n",
            "        [-1.0422,  0.7627],\n",
            "        [ 2.1698, -2.5393],\n",
            "        [ 0.3041, -0.6323],\n",
            "        [-0.0835, -0.2657],\n",
            "        [-0.9388,  0.8982],\n",
            "        [ 1.1369, -1.2104]], grad_fn=<AddmmBackward0>)\n",
            "tensor([0, 0, 1, 0, 0, 1, 1, 1])\n",
            "tensor([0, 0, 1, 0, 0, 0, 1, 0])\n"
          ]
        },
        {
          "metadata": {
            "tags": null
          },
          "name": "stderr",
          "output_type": "stream",
          "text": [
            "\r 68%|██████▊   | 355/525 [19:17<09:31,  3.36s/it]"
          ]
        },
        {
          "metadata": {
            "tags": null
          },
          "name": "stdout",
          "output_type": "stream",
          "text": [
            "tensor([[-1.5362,  0.9368],\n",
            "        [-0.9081,  0.5202],\n",
            "        [-1.0730,  0.9771],\n",
            "        [ 1.5592, -1.9742],\n",
            "        [-1.4985,  1.2887],\n",
            "        [ 2.1260, -2.7170],\n",
            "        [ 2.3304, -2.7824],\n",
            "        [-1.3906,  1.7170]], grad_fn=<AddmmBackward0>)\n",
            "tensor([1, 1, 1, 0, 1, 0, 0, 1])\n",
            "tensor([1, 1, 1, 0, 1, 0, 0, 1])\n"
          ]
        },
        {
          "metadata": {
            "tags": null
          },
          "name": "stderr",
          "output_type": "stream",
          "text": [
            "\r 68%|██████▊   | 356/525 [19:20<09:20,  3.31s/it]"
          ]
        },
        {
          "metadata": {
            "tags": null
          },
          "name": "stdout",
          "output_type": "stream",
          "text": [
            "tensor([[ 0.1186, -0.4529],\n",
            "        [ 0.7032, -0.8854],\n",
            "        [ 2.4830, -2.5139],\n",
            "        [ 2.3151, -2.5331],\n",
            "        [-1.2675,  0.9899],\n",
            "        [-1.4993,  1.5984],\n",
            "        [ 0.6191, -0.9741],\n",
            "        [ 2.2427, -2.4445]], grad_fn=<AddmmBackward0>)\n",
            "tensor([0, 0, 0, 0, 1, 1, 0, 0])\n",
            "tensor([0, 0, 0, 0, 1, 1, 0, 0])\n"
          ]
        },
        {
          "metadata": {
            "tags": null
          },
          "name": "stderr",
          "output_type": "stream",
          "text": [
            "\r 68%|██████▊   | 357/525 [19:23<09:16,  3.31s/it]"
          ]
        },
        {
          "metadata": {
            "tags": null
          },
          "name": "stdout",
          "output_type": "stream",
          "text": [
            "tensor([[-1.7297,  1.4562],\n",
            "        [ 0.1323, -0.5992],\n",
            "        [ 1.8032, -2.3685],\n",
            "        [ 2.2968, -2.4606],\n",
            "        [ 1.8669, -2.2861],\n",
            "        [-0.2318, -0.0830],\n",
            "        [-0.4807,  0.0682],\n",
            "        [ 0.2543, -0.6404]], grad_fn=<AddmmBackward0>)\n",
            "tensor([1, 0, 0, 0, 0, 1, 0, 1])\n",
            "tensor([1, 0, 0, 0, 0, 1, 1, 0])\n"
          ]
        },
        {
          "metadata": {
            "tags": null
          },
          "name": "stderr",
          "output_type": "stream",
          "text": [
            "\r 68%|██████▊   | 358/525 [19:26<09:16,  3.33s/it]"
          ]
        },
        {
          "metadata": {
            "tags": null
          },
          "name": "stdout",
          "output_type": "stream",
          "text": [
            "tensor([[ 1.5845, -1.7329],\n",
            "        [-1.7584,  1.4452],\n",
            "        [ 2.0598, -2.1572],\n",
            "        [ 2.3839, -2.7980],\n",
            "        [ 0.0705, -0.2379],\n",
            "        [-1.4854,  1.5421],\n",
            "        [-0.4617,  0.1745],\n",
            "        [-0.5806,  0.3133]], grad_fn=<AddmmBackward0>)\n",
            "tensor([0, 1, 0, 0, 0, 1, 0, 0])\n",
            "tensor([0, 1, 0, 0, 0, 1, 1, 1])\n"
          ]
        },
        {
          "metadata": {
            "tags": null
          },
          "name": "stderr",
          "output_type": "stream",
          "text": [
            "\r 68%|██████▊   | 359/525 [19:30<09:30,  3.43s/it]"
          ]
        },
        {
          "metadata": {
            "tags": null
          },
          "name": "stdout",
          "output_type": "stream",
          "text": [
            "tensor([[-1.1315,  0.6284],\n",
            "        [ 2.3336, -2.7060],\n",
            "        [ 0.4172, -0.8335],\n",
            "        [ 0.5651, -0.8782],\n",
            "        [-1.6286,  1.5754],\n",
            "        [-1.5987,  1.4694],\n",
            "        [-1.8225,  1.5957],\n",
            "        [-1.8637,  1.7737]], grad_fn=<AddmmBackward0>)\n",
            "tensor([0, 0, 0, 0, 1, 1, 1, 1])\n",
            "tensor([1, 0, 0, 0, 1, 1, 1, 1])\n"
          ]
        },
        {
          "metadata": {
            "tags": null
          },
          "name": "stderr",
          "output_type": "stream",
          "text": [
            "\r 69%|██████▊   | 360/525 [19:34<09:36,  3.49s/it]"
          ]
        },
        {
          "metadata": {
            "tags": null
          },
          "name": "stdout",
          "output_type": "stream",
          "text": [
            "tensor([[ 1.3812, -1.5010],\n",
            "        [-0.9400,  0.5154],\n",
            "        [-0.0983, -0.4760],\n",
            "        [ 1.2109, -1.3646],\n",
            "        [ 1.2869, -1.4842],\n",
            "        [-0.6097,  0.1567],\n",
            "        [-1.7453,  1.3939],\n",
            "        [ 1.7195, -1.9743]], grad_fn=<AddmmBackward0>)\n",
            "tensor([0, 1, 0, 0, 0, 0, 1, 0])\n",
            "tensor([0, 1, 0, 0, 0, 1, 1, 0])\n"
          ]
        },
        {
          "metadata": {
            "tags": null
          },
          "name": "stderr",
          "output_type": "stream",
          "text": [
            "\r 69%|██████▉   | 361/525 [19:37<09:40,  3.54s/it]"
          ]
        },
        {
          "metadata": {
            "tags": null
          },
          "name": "stdout",
          "output_type": "stream",
          "text": [
            "tensor([[ 1.6179, -1.9175],\n",
            "        [-1.3598,  1.2405],\n",
            "        [-1.5642,  1.4669],\n",
            "        [-1.7008,  1.8033],\n",
            "        [ 0.9173, -0.9265],\n",
            "        [ 2.1787, -2.7431],\n",
            "        [-0.6014,  0.1593],\n",
            "        [-1.3798,  1.3162]], grad_fn=<AddmmBackward0>)\n",
            "tensor([0, 1, 1, 1, 0, 0, 1, 1])\n",
            "tensor([0, 1, 1, 1, 0, 0, 1, 1])\n"
          ]
        },
        {
          "metadata": {
            "tags": null
          },
          "name": "stderr",
          "output_type": "stream",
          "text": [
            "\r 69%|██████▉   | 362/525 [19:41<09:41,  3.57s/it]"
          ]
        },
        {
          "metadata": {
            "tags": null
          },
          "name": "stdout",
          "output_type": "stream",
          "text": [
            "tensor([[-0.1253, -0.1480],\n",
            "        [-1.2479,  1.0263],\n",
            "        [ 2.2723, -2.3836],\n",
            "        [-1.8141,  1.7946],\n",
            "        [ 1.1815, -1.0273],\n",
            "        [-1.5877,  1.1808],\n",
            "        [-1.6483,  1.4945],\n",
            "        [-1.6525,  1.6812]], grad_fn=<AddmmBackward0>)\n",
            "tensor([1, 1, 0, 1, 0, 1, 1, 1])\n",
            "tensor([0, 1, 0, 1, 0, 1, 1, 1])\n"
          ]
        },
        {
          "metadata": {
            "tags": null
          },
          "name": "stderr",
          "output_type": "stream",
          "text": [
            "\r 69%|██████▉   | 363/525 [19:44<09:31,  3.53s/it]"
          ]
        },
        {
          "metadata": {
            "tags": null
          },
          "name": "stdout",
          "output_type": "stream",
          "text": [
            "tensor([[ 1.1287, -1.3512],\n",
            "        [-1.0179,  0.8638],\n",
            "        [ 0.2871, -0.6191],\n",
            "        [-1.0262,  0.6457],\n",
            "        [-0.6234,  0.1413],\n",
            "        [-1.6335,  1.3377],\n",
            "        [-1.1471,  0.8512],\n",
            "        [-1.8042,  1.7467]], grad_fn=<AddmmBackward0>)\n",
            "tensor([0, 1, 1, 1, 0, 1, 1, 1])\n",
            "tensor([0, 1, 0, 1, 1, 1, 1, 1])\n"
          ]
        },
        {
          "metadata": {
            "tags": null
          },
          "name": "stderr",
          "output_type": "stream",
          "text": [
            "\r 69%|██████▉   | 364/525 [19:48<09:21,  3.49s/it]"
          ]
        },
        {
          "metadata": {
            "tags": null
          },
          "name": "stdout",
          "output_type": "stream",
          "text": [
            "tensor([[ 1.1064, -1.1103],\n",
            "        [ 2.2816, -2.6566],\n",
            "        [ 1.8145, -1.9341],\n",
            "        [-2.1924,  1.7224],\n",
            "        [-0.8864,  0.3133],\n",
            "        [ 1.3599, -1.2849],\n",
            "        [-1.6511,  1.1119],\n",
            "        [ 2.3529, -2.7267]], grad_fn=<AddmmBackward0>)\n",
            "tensor([0, 0, 0, 1, 1, 1, 1, 0])\n",
            "tensor([0, 0, 0, 1, 1, 0, 1, 0])\n"
          ]
        },
        {
          "metadata": {
            "tags": null
          },
          "name": "stderr",
          "output_type": "stream",
          "text": [
            "\r 70%|██████▉   | 365/525 [19:51<09:04,  3.40s/it]"
          ]
        },
        {
          "metadata": {
            "tags": null
          },
          "name": "stdout",
          "output_type": "stream",
          "text": [
            "tensor([[-1.1058,  0.5505],\n",
            "        [-1.7449,  1.9228],\n",
            "        [ 1.4093, -1.6597],\n",
            "        [ 2.1487, -2.7504],\n",
            "        [ 2.1174, -2.1377],\n",
            "        [ 1.5845, -1.5200],\n",
            "        [-1.6415,  1.4505],\n",
            "        [-2.1267,  2.0734]], grad_fn=<AddmmBackward0>)\n",
            "tensor([1, 1, 0, 0, 0, 0, 1, 1])\n",
            "tensor([1, 1, 0, 0, 0, 0, 1, 1])\n"
          ]
        },
        {
          "metadata": {
            "tags": null
          },
          "name": "stderr",
          "output_type": "stream",
          "text": [
            "\r 70%|██████▉   | 366/525 [19:54<08:56,  3.37s/it]"
          ]
        },
        {
          "metadata": {
            "tags": null
          },
          "name": "stdout",
          "output_type": "stream",
          "text": [
            "tensor([[-1.5539,  1.4342],\n",
            "        [-1.0927,  0.8421],\n",
            "        [-1.7815,  1.8802],\n",
            "        [ 2.4467, -2.7719],\n",
            "        [-0.0734, -0.4235],\n",
            "        [ 2.3776, -2.4559],\n",
            "        [-0.9158,  0.5964],\n",
            "        [ 1.1674, -1.5240]], grad_fn=<AddmmBackward0>)\n",
            "tensor([1, 1, 1, 0, 1, 0, 0, 0])\n",
            "tensor([1, 1, 1, 0, 0, 0, 1, 0])\n"
          ]
        },
        {
          "metadata": {
            "tags": null
          },
          "name": "stderr",
          "output_type": "stream",
          "text": [
            "\r 70%|██████▉   | 367/525 [19:58<08:55,  3.39s/it]"
          ]
        },
        {
          "metadata": {
            "tags": null
          },
          "name": "stdout",
          "output_type": "stream",
          "text": [
            "tensor([[-1.5425,  1.2221],\n",
            "        [ 1.7975, -1.8272],\n",
            "        [ 2.2409, -2.4901],\n",
            "        [ 1.5334, -1.7239],\n",
            "        [-1.9393,  1.4013],\n",
            "        [-0.2416,  0.0175],\n",
            "        [ 0.8886, -1.0021],\n",
            "        [ 2.1619, -2.5151]], grad_fn=<AddmmBackward0>)\n",
            "tensor([1, 0, 0, 0, 1, 0, 0, 0])\n",
            "tensor([1, 0, 0, 0, 1, 1, 0, 0])\n"
          ]
        },
        {
          "metadata": {
            "tags": null
          },
          "name": "stderr",
          "output_type": "stream",
          "text": [
            "\r 70%|███████   | 368/525 [20:01<08:58,  3.43s/it]"
          ]
        },
        {
          "metadata": {
            "tags": null
          },
          "name": "stdout",
          "output_type": "stream",
          "text": [
            "tensor([[-1.9716,  1.8241],\n",
            "        [-0.9856,  0.6824],\n",
            "        [-1.7380,  1.6992],\n",
            "        [ 0.4710, -0.8291],\n",
            "        [-1.3944,  1.3384],\n",
            "        [ 1.1246, -1.1860],\n",
            "        [-1.7847,  1.6780],\n",
            "        [-0.9143,  0.1676]], grad_fn=<AddmmBackward0>)\n",
            "tensor([1, 1, 1, 0, 0, 0, 1, 0])\n",
            "tensor([1, 1, 1, 0, 1, 0, 1, 1])\n"
          ]
        },
        {
          "metadata": {
            "tags": null
          },
          "name": "stderr",
          "output_type": "stream",
          "text": [
            "\r 70%|███████   | 369/525 [20:05<08:47,  3.38s/it]"
          ]
        },
        {
          "metadata": {
            "tags": null
          },
          "name": "stdout",
          "output_type": "stream",
          "text": [
            "tensor([[ 1.2259, -1.2340],\n",
            "        [ 0.6803, -0.6930],\n",
            "        [ 2.6880, -2.7527],\n",
            "        [ 2.3295, -2.7921],\n",
            "        [-1.4734,  1.3849],\n",
            "        [ 1.5614, -1.8528],\n",
            "        [ 2.4367, -2.8417],\n",
            "        [ 2.2979, -2.6369]], grad_fn=<AddmmBackward0>)\n",
            "tensor([1, 1, 0, 0, 1, 0, 0, 0])\n",
            "tensor([0, 0, 0, 0, 1, 0, 0, 0])\n"
          ]
        },
        {
          "metadata": {
            "tags": null
          },
          "name": "stderr",
          "output_type": "stream",
          "text": [
            "\r 70%|███████   | 370/525 [20:08<08:32,  3.31s/it]"
          ]
        },
        {
          "metadata": {
            "tags": null
          },
          "name": "stdout",
          "output_type": "stream",
          "text": [
            "tensor([[ 1.6313, -2.0344],\n",
            "        [-1.8671,  1.6994],\n",
            "        [-1.7171,  1.6373],\n",
            "        [-1.9727,  2.1758],\n",
            "        [-1.7170,  1.2826],\n",
            "        [ 1.9256, -2.1559],\n",
            "        [-1.6421,  1.3744],\n",
            "        [-0.1215,  0.1765]], grad_fn=<AddmmBackward0>)\n",
            "tensor([0, 1, 1, 1, 1, 0, 1, 1])\n",
            "tensor([0, 1, 1, 1, 1, 0, 1, 1])\n"
          ]
        },
        {
          "metadata": {
            "tags": null
          },
          "name": "stderr",
          "output_type": "stream",
          "text": [
            "\r 71%|███████   | 371/525 [20:11<08:26,  3.29s/it]"
          ]
        },
        {
          "metadata": {
            "tags": null
          },
          "name": "stdout",
          "output_type": "stream",
          "text": [
            "tensor([[ 2.6723, -2.9062],\n",
            "        [-1.0698,  0.5266],\n",
            "        [ 1.3044, -1.4273],\n",
            "        [-1.4635,  1.4186],\n",
            "        [ 2.7370, -2.7890],\n",
            "        [-0.1275, -0.0319],\n",
            "        [-1.4017,  0.8803],\n",
            "        [ 2.0188, -1.8479]], grad_fn=<AddmmBackward0>)\n",
            "tensor([0, 1, 1, 1, 0, 0, 1, 0])\n",
            "tensor([0, 1, 0, 1, 0, 1, 1, 0])\n"
          ]
        },
        {
          "metadata": {
            "tags": null
          },
          "name": "stderr",
          "output_type": "stream",
          "text": [
            "\r 71%|███████   | 372/525 [20:14<08:22,  3.28s/it]"
          ]
        },
        {
          "metadata": {
            "tags": null
          },
          "name": "stdout",
          "output_type": "stream",
          "text": [
            "tensor([[-0.5265,  0.0335],\n",
            "        [ 0.8794, -0.7773],\n",
            "        [-0.8163,  0.3024],\n",
            "        [ 0.7776, -0.8169],\n",
            "        [ 0.6062, -0.9353],\n",
            "        [ 1.3879, -1.4792],\n",
            "        [ 2.0858, -2.2739],\n",
            "        [ 0.7220, -1.1517]], grad_fn=<AddmmBackward0>)\n",
            "tensor([1, 1, 1, 0, 1, 1, 0, 0])\n",
            "tensor([1, 0, 1, 0, 0, 0, 0, 0])\n"
          ]
        },
        {
          "metadata": {
            "tags": null
          },
          "name": "stderr",
          "output_type": "stream",
          "text": [
            "\r 71%|███████   | 373/525 [20:18<08:26,  3.33s/it]"
          ]
        },
        {
          "metadata": {
            "tags": null
          },
          "name": "stdout",
          "output_type": "stream",
          "text": [
            "tensor([[ 1.7079, -2.2780],\n",
            "        [-1.7826,  1.4666],\n",
            "        [-2.0959,  1.9877],\n",
            "        [ 0.7897, -1.0085],\n",
            "        [-0.4709,  0.1437],\n",
            "        [-1.3541,  0.9942],\n",
            "        [-1.4841,  1.2424],\n",
            "        [-0.0426, -0.5114]], grad_fn=<AddmmBackward0>)\n",
            "tensor([0, 1, 1, 0, 1, 1, 1, 0])\n",
            "tensor([0, 1, 1, 0, 1, 1, 1, 0])\n"
          ]
        },
        {
          "metadata": {
            "tags": null
          },
          "name": "stderr",
          "output_type": "stream",
          "text": [
            "\r 71%|███████   | 374/525 [20:21<08:24,  3.34s/it]"
          ]
        },
        {
          "metadata": {
            "tags": null
          },
          "name": "stdout",
          "output_type": "stream",
          "text": [
            "tensor([[ 0.9019, -0.8986],\n",
            "        [-1.6625,  1.2228],\n",
            "        [-1.7252,  1.9710],\n",
            "        [-1.6283,  1.0830],\n",
            "        [ 1.5242, -1.5313],\n",
            "        [ 0.5096, -0.8073],\n",
            "        [-1.2997,  0.6589],\n",
            "        [-1.4357,  1.1720]], grad_fn=<AddmmBackward0>)\n",
            "tensor([0, 1, 1, 1, 0, 0, 1, 0])\n",
            "tensor([0, 1, 1, 1, 0, 0, 1, 1])\n"
          ]
        },
        {
          "metadata": {
            "tags": null
          },
          "name": "stderr",
          "output_type": "stream",
          "text": [
            "\r 71%|███████▏  | 375/525 [20:24<08:11,  3.28s/it]"
          ]
        },
        {
          "metadata": {
            "tags": null
          },
          "name": "stdout",
          "output_type": "stream",
          "text": [
            "tensor([[ 0.8536, -1.1581],\n",
            "        [-1.5566,  1.0314],\n",
            "        [-1.9675,  1.9598],\n",
            "        [-2.1695,  2.1668],\n",
            "        [ 1.6529, -1.9292],\n",
            "        [-1.2379,  0.7932],\n",
            "        [-1.7054,  1.6264],\n",
            "        [-1.5332,  1.7122]], grad_fn=<AddmmBackward0>)\n",
            "tensor([0, 1, 1, 1, 0, 1, 1, 1])\n",
            "tensor([0, 1, 1, 1, 0, 1, 1, 1])\n"
          ]
        },
        {
          "metadata": {
            "tags": null
          },
          "name": "stderr",
          "output_type": "stream",
          "text": [
            "\r 72%|███████▏  | 376/525 [20:27<08:02,  3.24s/it]"
          ]
        },
        {
          "metadata": {
            "tags": null
          },
          "name": "stdout",
          "output_type": "stream",
          "text": [
            "tensor([[ 0.7582, -0.8952],\n",
            "        [-1.8011,  1.9297],\n",
            "        [ 0.0384, -0.2487],\n",
            "        [ 1.5186, -2.2134],\n",
            "        [-1.8787,  1.6986],\n",
            "        [ 1.0169, -1.2019],\n",
            "        [-0.7232,  0.3830],\n",
            "        [-0.2496,  0.1364]], grad_fn=<AddmmBackward0>)\n",
            "tensor([1, 1, 0, 0, 1, 0, 0, 0])\n",
            "tensor([0, 1, 0, 0, 1, 0, 1, 1])\n"
          ]
        },
        {
          "metadata": {
            "tags": null
          },
          "name": "stderr",
          "output_type": "stream",
          "text": [
            "\r 72%|███████▏  | 377/525 [20:31<08:08,  3.30s/it]"
          ]
        },
        {
          "metadata": {
            "tags": null
          },
          "name": "stdout",
          "output_type": "stream",
          "text": [
            "tensor([[-2.0316,  1.6064],\n",
            "        [-1.9571,  2.0720],\n",
            "        [ 1.4447, -1.5350],\n",
            "        [-1.9062,  1.7691],\n",
            "        [ 1.5118, -2.2251],\n",
            "        [-1.7196,  1.5714],\n",
            "        [-0.9357,  0.4486],\n",
            "        [-1.6690,  1.4379]], grad_fn=<AddmmBackward0>)\n",
            "tensor([1, 1, 0, 1, 0, 1, 1, 1])\n",
            "tensor([1, 1, 0, 1, 0, 1, 1, 1])\n"
          ]
        },
        {
          "metadata": {
            "tags": null
          },
          "name": "stderr",
          "output_type": "stream",
          "text": [
            "\r 72%|███████▏  | 378/525 [20:34<08:12,  3.35s/it]"
          ]
        },
        {
          "metadata": {
            "tags": null
          },
          "name": "stdout",
          "output_type": "stream",
          "text": [
            "tensor([[ 0.8965, -1.1862],\n",
            "        [-0.2997, -0.4198],\n",
            "        [-1.3272,  0.9194],\n",
            "        [-1.3392,  1.1590],\n",
            "        [-1.3518,  1.1115],\n",
            "        [ 1.2460, -1.2330],\n",
            "        [ 1.3432, -1.6281],\n",
            "        [ 0.8209, -0.7218]], grad_fn=<AddmmBackward0>)\n",
            "tensor([0, 0, 1, 1, 1, 0, 0, 0])\n",
            "tensor([0, 0, 1, 1, 1, 0, 0, 0])\n"
          ]
        },
        {
          "metadata": {
            "tags": null
          },
          "name": "stderr",
          "output_type": "stream",
          "text": [
            "\r 72%|███████▏  | 379/525 [20:37<07:58,  3.28s/it]"
          ]
        },
        {
          "metadata": {
            "tags": null
          },
          "name": "stdout",
          "output_type": "stream",
          "text": [
            "tensor([[-0.0742, -0.2671],\n",
            "        [ 0.5331, -0.7543],\n",
            "        [ 1.3336, -1.4593],\n",
            "        [-1.0203,  0.9794],\n",
            "        [-1.8814,  1.7891],\n",
            "        [-0.2726, -0.1779],\n",
            "        [-0.6338,  0.2120],\n",
            "        [-1.8585,  1.7157]], grad_fn=<AddmmBackward0>)\n",
            "tensor([0, 0, 0, 1, 1, 0, 1, 1])\n",
            "tensor([0, 0, 0, 1, 1, 1, 1, 1])\n"
          ]
        },
        {
          "metadata": {
            "tags": null
          },
          "name": "stderr",
          "output_type": "stream",
          "text": [
            "\r 72%|███████▏  | 380/525 [20:41<07:50,  3.25s/it]"
          ]
        },
        {
          "metadata": {
            "tags": null
          },
          "name": "stdout",
          "output_type": "stream",
          "text": [
            "tensor([[-0.0214, -0.1258],\n",
            "        [-0.8809,  0.3642],\n",
            "        [-2.1946,  2.0365],\n",
            "        [ 1.3822, -1.3284],\n",
            "        [ 0.3887, -0.4858],\n",
            "        [-1.6684,  1.4748],\n",
            "        [-0.2234, -0.1257],\n",
            "        [ 0.7780, -1.1694]], grad_fn=<AddmmBackward0>)\n",
            "tensor([0, 1, 1, 0, 0, 1, 0, 0])\n",
            "tensor([0, 1, 1, 0, 0, 1, 1, 0])\n"
          ]
        },
        {
          "metadata": {
            "tags": null
          },
          "name": "stderr",
          "output_type": "stream",
          "text": [
            "\r 73%|███████▎  | 381/525 [20:44<07:57,  3.32s/it]"
          ]
        },
        {
          "metadata": {
            "tags": null
          },
          "name": "stdout",
          "output_type": "stream",
          "text": [
            "tensor([[-0.0785, -0.3123],\n",
            "        [-0.4833, -0.0980],\n",
            "        [-0.3190, -0.0870],\n",
            "        [ 0.4123, -0.5933],\n",
            "        [ 1.1699, -1.3571],\n",
            "        [ 0.0370, -0.4910],\n",
            "        [ 0.5489, -0.7656],\n",
            "        [-0.1479, -0.0457]], grad_fn=<AddmmBackward0>)\n",
            "tensor([0, 0, 1, 0, 0, 1, 0, 1])\n",
            "tensor([0, 1, 1, 0, 0, 0, 0, 1])\n"
          ]
        },
        {
          "metadata": {
            "tags": null
          },
          "name": "stderr",
          "output_type": "stream",
          "text": [
            "\r 73%|███████▎  | 382/525 [20:47<07:50,  3.29s/it]"
          ]
        },
        {
          "metadata": {
            "tags": null
          },
          "name": "stdout",
          "output_type": "stream",
          "text": [
            "tensor([[-2.0124,  1.8569],\n",
            "        [-1.8228,  1.9517],\n",
            "        [-1.1618,  1.3861],\n",
            "        [ 0.4450, -0.8522],\n",
            "        [ 0.0906, -0.3446],\n",
            "        [-1.9037,  1.5522],\n",
            "        [ 1.7294, -2.0758],\n",
            "        [-0.4611,  0.0128]], grad_fn=<AddmmBackward0>)\n",
            "tensor([1, 1, 1, 0, 0, 1, 0, 1])\n",
            "tensor([1, 1, 1, 0, 0, 1, 0, 1])\n"
          ]
        },
        {
          "metadata": {
            "tags": null
          },
          "name": "stderr",
          "output_type": "stream",
          "text": [
            "\r 73%|███████▎  | 383/525 [20:50<07:45,  3.28s/it]"
          ]
        },
        {
          "metadata": {
            "tags": null
          },
          "name": "stdout",
          "output_type": "stream",
          "text": [
            "tensor([[-0.9936,  0.1966],\n",
            "        [-0.9394,  0.7571],\n",
            "        [ 0.8902, -1.1658],\n",
            "        [ 0.5855, -0.6002],\n",
            "        [-1.1940,  0.7289],\n",
            "        [ 0.8286, -0.7927],\n",
            "        [-0.0650, -0.4462],\n",
            "        [ 0.1658, -0.5051]], grad_fn=<AddmmBackward0>)\n",
            "tensor([1, 1, 0, 0, 1, 0, 0, 0])\n",
            "tensor([1, 1, 0, 0, 1, 0, 0, 0])\n"
          ]
        },
        {
          "metadata": {
            "tags": null
          },
          "name": "stderr",
          "output_type": "stream",
          "text": [
            "\r 73%|███████▎  | 384/525 [20:54<07:31,  3.21s/it]"
          ]
        },
        {
          "metadata": {
            "tags": null
          },
          "name": "stdout",
          "output_type": "stream",
          "text": [
            "tensor([[ 1.2407, -1.3047],\n",
            "        [-1.5847,  1.1724],\n",
            "        [-2.0491,  1.8036],\n",
            "        [ 0.9530, -1.1105],\n",
            "        [-1.3676,  0.8587],\n",
            "        [-0.1547, -0.2600],\n",
            "        [-1.7923,  1.5928],\n",
            "        [ 1.5134, -1.3841]], grad_fn=<AddmmBackward0>)\n",
            "tensor([0, 1, 1, 0, 1, 1, 1, 0])\n",
            "tensor([0, 1, 1, 0, 1, 0, 1, 0])\n"
          ]
        },
        {
          "metadata": {
            "tags": null
          },
          "name": "stderr",
          "output_type": "stream",
          "text": [
            "\r 73%|███████▎  | 385/525 [20:56<07:18,  3.14s/it]"
          ]
        },
        {
          "metadata": {
            "tags": null
          },
          "name": "stdout",
          "output_type": "stream",
          "text": [
            "tensor([[-0.7346,  0.0273],\n",
            "        [ 0.9174, -1.0576],\n",
            "        [-0.8040,  0.3223],\n",
            "        [-1.0998,  0.5897],\n",
            "        [ 0.2236, -0.3718],\n",
            "        [-0.1264, -0.3795],\n",
            "        [ 2.3330, -2.6701],\n",
            "        [-0.9972,  0.4310]], grad_fn=<AddmmBackward0>)\n",
            "tensor([1, 0, 1, 1, 0, 1, 0, 0])\n",
            "tensor([1, 0, 1, 1, 0, 0, 0, 1])\n"
          ]
        },
        {
          "metadata": {
            "tags": null
          },
          "name": "stderr",
          "output_type": "stream",
          "text": [
            "\r 74%|███████▎  | 386/525 [21:00<07:24,  3.20s/it]"
          ]
        },
        {
          "metadata": {
            "tags": null
          },
          "name": "stdout",
          "output_type": "stream",
          "text": [
            "tensor([[-1.0404,  0.8122],\n",
            "        [-0.1019, -0.0758],\n",
            "        [-0.3716, -0.0207],\n",
            "        [ 0.7736, -0.5371],\n",
            "        [ 1.0419, -1.0457],\n",
            "        [ 1.8159, -2.0615],\n",
            "        [ 2.0234, -1.8507],\n",
            "        [-1.2045,  0.9100]], grad_fn=<AddmmBackward0>)\n",
            "tensor([1, 1, 0, 0, 0, 0, 0, 1])\n",
            "tensor([1, 1, 1, 0, 0, 0, 0, 1])\n"
          ]
        },
        {
          "metadata": {
            "tags": null
          },
          "name": "stderr",
          "output_type": "stream",
          "text": [
            "\r 74%|███████▎  | 387/525 [21:03<07:24,  3.22s/it]"
          ]
        },
        {
          "metadata": {
            "tags": null
          },
          "name": "stdout",
          "output_type": "stream",
          "text": [
            "tensor([[-2.2695,  1.9692],\n",
            "        [-1.6930,  1.2578],\n",
            "        [ 1.3039, -1.2330],\n",
            "        [-1.7241,  1.8712],\n",
            "        [-1.5642,  1.2223],\n",
            "        [ 1.4944, -1.6577],\n",
            "        [ 1.8280, -2.1461],\n",
            "        [ 0.8189, -1.0331]], grad_fn=<AddmmBackward0>)\n",
            "tensor([1, 1, 0, 1, 1, 0, 0, 0])\n",
            "tensor([1, 1, 0, 1, 1, 0, 0, 0])\n"
          ]
        },
        {
          "metadata": {
            "tags": null
          },
          "name": "stderr",
          "output_type": "stream",
          "text": [
            "\r 74%|███████▍  | 388/525 [21:06<07:22,  3.23s/it]"
          ]
        },
        {
          "metadata": {
            "tags": null
          },
          "name": "stdout",
          "output_type": "stream",
          "text": [
            "tensor([[ 2.3723, -2.1271],\n",
            "        [-0.4788,  0.2419],\n",
            "        [-0.4953,  0.3694],\n",
            "        [-0.1969, -0.1630],\n",
            "        [ 0.2025, -0.1526],\n",
            "        [ 2.0554, -2.1896],\n",
            "        [-2.1651,  2.1488],\n",
            "        [ 2.4049, -1.9680]], grad_fn=<AddmmBackward0>)\n",
            "tensor([0, 1, 1, 1, 1, 0, 1, 0])\n",
            "tensor([0, 1, 1, 1, 0, 0, 1, 0])\n"
          ]
        },
        {
          "metadata": {
            "tags": null
          },
          "name": "stderr",
          "output_type": "stream",
          "text": [
            "\r 74%|███████▍  | 389/525 [21:10<07:29,  3.31s/it]"
          ]
        },
        {
          "metadata": {
            "tags": null
          },
          "name": "stdout",
          "output_type": "stream",
          "text": [
            "tensor([[-1.3562,  1.1534],\n",
            "        [ 0.2758, -0.7610],\n",
            "        [ 1.1964, -1.0063],\n",
            "        [-1.2583,  0.8881],\n",
            "        [-2.0901,  1.8750],\n",
            "        [-1.9850,  2.0335],\n",
            "        [-1.1122,  0.7902],\n",
            "        [ 2.5820, -2.8807]], grad_fn=<AddmmBackward0>)\n",
            "tensor([1, 0, 1, 1, 1, 1, 1, 0])\n",
            "tensor([1, 0, 0, 1, 1, 1, 1, 0])\n"
          ]
        },
        {
          "metadata": {
            "tags": null
          },
          "name": "stderr",
          "output_type": "stream",
          "text": [
            "\r 74%|███████▍  | 390/525 [21:13<07:08,  3.18s/it]"
          ]
        },
        {
          "metadata": {
            "tags": null
          },
          "name": "stdout",
          "output_type": "stream",
          "text": [
            "tensor([[ 0.6874, -0.8524],\n",
            "        [-1.6759,  1.6904],\n",
            "        [ 2.3249, -2.2622],\n",
            "        [ 0.8598, -1.1408],\n",
            "        [-2.0820,  1.5970],\n",
            "        [-2.1159,  1.9602],\n",
            "        [-2.1970,  2.0705],\n",
            "        [-1.8600,  2.1241]], grad_fn=<AddmmBackward0>)\n",
            "tensor([0, 1, 0, 0, 1, 1, 0, 1])\n",
            "tensor([0, 1, 0, 0, 1, 1, 1, 1])\n"
          ]
        },
        {
          "metadata": {
            "tags": null
          },
          "name": "stderr",
          "output_type": "stream",
          "text": [
            "\r 74%|███████▍  | 391/525 [21:16<07:17,  3.27s/it]"
          ]
        },
        {
          "metadata": {
            "tags": null
          },
          "name": "stdout",
          "output_type": "stream",
          "text": [
            "tensor([[ 1.7311, -1.7578],\n",
            "        [-2.0556,  1.7581],\n",
            "        [ 1.3622, -1.3556],\n",
            "        [ 1.7251, -1.8043],\n",
            "        [ 1.5601, -1.8774],\n",
            "        [-2.2580,  1.9004],\n",
            "        [-1.4076,  1.1136],\n",
            "        [-1.9549,  2.1149]], grad_fn=<AddmmBackward0>)\n",
            "tensor([0, 1, 0, 0, 0, 1, 1, 1])\n",
            "tensor([0, 1, 0, 0, 0, 1, 1, 1])\n"
          ]
        },
        {
          "metadata": {
            "tags": null
          },
          "name": "stderr",
          "output_type": "stream",
          "text": [
            "\r 75%|███████▍  | 392/525 [21:20<07:27,  3.36s/it]"
          ]
        },
        {
          "metadata": {
            "tags": null
          },
          "name": "stdout",
          "output_type": "stream",
          "text": [
            "tensor([[-1.8667,  2.0054],\n",
            "        [-1.7477,  1.9842],\n",
            "        [-2.4648,  2.0650],\n",
            "        [-2.1528,  2.3151],\n",
            "        [-2.1098,  2.1097],\n",
            "        [-0.9332,  0.6311],\n",
            "        [-0.4710,  0.1201],\n",
            "        [-0.5287,  0.3657]], grad_fn=<AddmmBackward0>)\n",
            "tensor([1, 1, 1, 1, 1, 1, 0, 0])\n",
            "tensor([1, 1, 1, 1, 1, 1, 1, 1])\n"
          ]
        },
        {
          "metadata": {
            "tags": null
          },
          "name": "stderr",
          "output_type": "stream",
          "text": [
            "\r 75%|███████▍  | 393/525 [21:23<07:25,  3.38s/it]"
          ]
        },
        {
          "metadata": {
            "tags": null
          },
          "name": "stdout",
          "output_type": "stream",
          "text": [
            "tensor([[ 0.3045, -0.6725],\n",
            "        [-2.3203,  1.9961],\n",
            "        [-1.9619,  1.7643],\n",
            "        [-0.2850,  0.2000],\n",
            "        [-1.5010,  1.1507],\n",
            "        [ 0.6431, -0.5803],\n",
            "        [-2.2273,  1.9662],\n",
            "        [-0.2535,  0.0563]], grad_fn=<AddmmBackward0>)\n",
            "tensor([0, 1, 1, 0, 0, 0, 1, 0])\n",
            "tensor([0, 1, 1, 1, 1, 0, 1, 1])\n"
          ]
        },
        {
          "metadata": {
            "tags": null
          },
          "name": "stderr",
          "output_type": "stream",
          "text": [
            "\r 75%|███████▌  | 394/525 [21:26<07:15,  3.32s/it]"
          ]
        },
        {
          "metadata": {
            "tags": null
          },
          "name": "stdout",
          "output_type": "stream",
          "text": [
            "tensor([[-1.0138e+00,  8.1013e-01],\n",
            "        [-2.1132e+00,  1.7842e+00],\n",
            "        [-1.5486e+00,  1.5272e+00],\n",
            "        [-2.2547e+00,  2.2426e+00],\n",
            "        [-2.3046e+00,  2.1179e+00],\n",
            "        [-2.3892e+00,  1.7985e+00],\n",
            "        [-2.9353e-01,  2.9337e-01],\n",
            "        [-2.8164e-04, -2.3103e-01]], grad_fn=<AddmmBackward0>)\n",
            "tensor([0, 1, 1, 1, 1, 1, 0, 0])\n",
            "tensor([1, 1, 1, 1, 1, 1, 1, 0])\n"
          ]
        },
        {
          "metadata": {
            "tags": null
          },
          "name": "stderr",
          "output_type": "stream",
          "text": [
            "\r 75%|███████▌  | 395/525 [21:29<06:59,  3.22s/it]"
          ]
        },
        {
          "metadata": {
            "tags": null
          },
          "name": "stdout",
          "output_type": "stream",
          "text": [
            "tensor([[ 1.9096, -1.8845],\n",
            "        [ 2.3053, -2.3188],\n",
            "        [ 2.1180, -2.0929],\n",
            "        [-2.3503,  1.8316],\n",
            "        [-0.0086, -0.1643],\n",
            "        [ 2.8421, -2.6657],\n",
            "        [-1.7008,  1.7955],\n",
            "        [ 0.1973, -0.5139]], grad_fn=<AddmmBackward0>)\n",
            "tensor([0, 0, 0, 1, 0, 0, 1, 0])\n",
            "tensor([0, 0, 0, 1, 0, 0, 1, 0])\n"
          ]
        },
        {
          "metadata": {
            "tags": null
          },
          "name": "stderr",
          "output_type": "stream",
          "text": [
            "\r 75%|███████▌  | 396/525 [21:33<07:01,  3.26s/it]"
          ]
        },
        {
          "metadata": {
            "tags": null
          },
          "name": "stdout",
          "output_type": "stream",
          "text": [
            "tensor([[ 1.3632, -1.2341],\n",
            "        [ 0.2563, -0.5066],\n",
            "        [-0.7926,  0.2364],\n",
            "        [ 2.4859, -2.4605],\n",
            "        [-1.8469,  1.5934],\n",
            "        [-1.8401,  1.8273],\n",
            "        [-2.0399,  1.9205],\n",
            "        [ 1.5649, -1.5159]], grad_fn=<AddmmBackward0>)\n",
            "tensor([0, 1, 1, 0, 1, 1, 1, 0])\n",
            "tensor([0, 0, 1, 0, 1, 1, 1, 0])\n"
          ]
        },
        {
          "metadata": {
            "tags": null
          },
          "name": "stderr",
          "output_type": "stream",
          "text": [
            "\r 76%|███████▌  | 397/525 [21:36<07:07,  3.34s/it]"
          ]
        },
        {
          "metadata": {
            "tags": null
          },
          "name": "stdout",
          "output_type": "stream",
          "text": [
            "tensor([[ 1.9982, -1.9438],\n",
            "        [-2.0486,  1.9391],\n",
            "        [-1.6392,  1.5542],\n",
            "        [ 2.8028, -2.7507],\n",
            "        [-1.1299,  0.9507],\n",
            "        [ 2.2914, -2.3035],\n",
            "        [ 0.6811, -0.7436],\n",
            "        [ 2.4692, -2.6469]], grad_fn=<AddmmBackward0>)\n",
            "tensor([0, 1, 1, 0, 1, 0, 0, 0])\n",
            "tensor([0, 1, 1, 0, 1, 0, 0, 0])\n"
          ]
        },
        {
          "metadata": {
            "tags": null
          },
          "name": "stderr",
          "output_type": "stream",
          "text": [
            "\r 76%|███████▌  | 398/525 [21:40<07:02,  3.33s/it]"
          ]
        },
        {
          "metadata": {
            "tags": null
          },
          "name": "stdout",
          "output_type": "stream",
          "text": [
            "tensor([[ 2.8964, -2.8112],\n",
            "        [-1.8957,  1.8538],\n",
            "        [ 1.2744, -0.9987],\n",
            "        [ 2.6880, -2.8458],\n",
            "        [ 0.5106, -0.7126],\n",
            "        [ 2.6273, -2.6491],\n",
            "        [ 2.8853, -2.6292],\n",
            "        [ 1.4950, -1.5393]], grad_fn=<AddmmBackward0>)\n",
            "tensor([0, 1, 1, 0, 1, 0, 0, 1])\n",
            "tensor([0, 1, 0, 0, 0, 0, 0, 0])\n"
          ]
        },
        {
          "metadata": {
            "tags": null
          },
          "name": "stderr",
          "output_type": "stream",
          "text": [
            "\r 76%|███████▌  | 399/525 [21:42<06:42,  3.19s/it]"
          ]
        },
        {
          "metadata": {
            "tags": null
          },
          "name": "stdout",
          "output_type": "stream",
          "text": [
            "tensor([[-0.8709,  0.5898],\n",
            "        [ 0.8943, -0.7145],\n",
            "        [ 1.9258, -1.8375],\n",
            "        [ 1.6045, -1.4061],\n",
            "        [-0.8784,  0.9980],\n",
            "        [ 2.8565, -2.8809],\n",
            "        [ 2.5014, -2.6816],\n",
            "        [-1.2579,  0.8967]], grad_fn=<AddmmBackward0>)\n",
            "tensor([1, 1, 0, 0, 1, 0, 0, 1])\n",
            "tensor([1, 0, 0, 0, 1, 0, 0, 1])\n"
          ]
        },
        {
          "metadata": {
            "tags": null
          },
          "name": "stderr",
          "output_type": "stream",
          "text": [
            "\r 76%|███████▌  | 400/525 [21:46<06:38,  3.19s/it]"
          ]
        },
        {
          "metadata": {
            "tags": null
          },
          "name": "stdout",
          "output_type": "stream",
          "text": [
            "tensor([[ 2.6704, -2.5455],\n",
            "        [ 0.7093, -0.6536],\n",
            "        [ 1.9266, -1.6162],\n",
            "        [-0.6901,  0.4503],\n",
            "        [ 1.7741, -1.3785],\n",
            "        [-1.9333,  1.6901],\n",
            "        [ 2.7233, -2.4314],\n",
            "        [ 2.1862, -2.0166]], grad_fn=<AddmmBackward0>)\n",
            "tensor([0, 1, 0, 1, 0, 1, 0, 0])\n",
            "tensor([0, 0, 0, 1, 0, 1, 0, 0])\n"
          ]
        },
        {
          "metadata": {
            "tags": null
          },
          "name": "stderr",
          "output_type": "stream",
          "text": [
            "\r 76%|███████▋  | 401/525 [21:49<06:39,  3.22s/it]"
          ]
        },
        {
          "metadata": {
            "tags": null
          },
          "name": "stdout",
          "output_type": "stream",
          "text": [
            "tensor([[ 3.6337e-01, -5.2938e-01],\n",
            "        [-1.8186e-01,  2.2420e-03],\n",
            "        [-3.1549e-01,  8.0049e-03],\n",
            "        [-3.7191e-01, -4.7148e-02],\n",
            "        [ 2.5178e+00, -2.4440e+00],\n",
            "        [ 1.9522e+00, -1.5564e+00],\n",
            "        [-1.2912e+00,  8.6679e-01],\n",
            "        [-3.5261e-01, -9.1534e-02]], grad_fn=<AddmmBackward0>)\n",
            "tensor([1, 1, 1, 1, 0, 0, 1, 1])\n",
            "tensor([0, 1, 1, 1, 0, 0, 1, 1])\n"
          ]
        },
        {
          "metadata": {
            "tags": null
          },
          "name": "stderr",
          "output_type": "stream",
          "text": [
            "\r 77%|███████▋  | 402/525 [21:52<06:46,  3.31s/it]"
          ]
        },
        {
          "metadata": {
            "tags": null
          },
          "name": "stdout",
          "output_type": "stream",
          "text": [
            "tensor([[ 2.6464, -2.6805],\n",
            "        [ 1.5675, -1.6470],\n",
            "        [-1.8222,  1.5131],\n",
            "        [-0.0725, -0.3100],\n",
            "        [-1.1891,  0.6684],\n",
            "        [ 0.1206, -0.4196],\n",
            "        [ 1.0476, -1.0275],\n",
            "        [-1.4537,  0.9903]], grad_fn=<AddmmBackward0>)\n",
            "tensor([0, 0, 1, 1, 1, 1, 1, 1])\n",
            "tensor([0, 0, 1, 0, 1, 0, 0, 1])\n"
          ]
        },
        {
          "metadata": {
            "tags": null
          },
          "name": "stderr",
          "output_type": "stream",
          "text": [
            "\r 77%|███████▋  | 403/525 [21:56<06:45,  3.32s/it]"
          ]
        },
        {
          "metadata": {
            "tags": null
          },
          "name": "stdout",
          "output_type": "stream",
          "text": [
            "tensor([[ 0.5124, -0.4855],\n",
            "        [ 1.3241, -0.9904],\n",
            "        [ 1.6207, -1.7103],\n",
            "        [ 1.8225, -1.3829],\n",
            "        [ 2.3561, -2.1656],\n",
            "        [ 0.4879, -0.5544],\n",
            "        [-1.5103,  1.3707],\n",
            "        [-0.0955, -0.0788]], grad_fn=<AddmmBackward0>)\n",
            "tensor([0, 0, 0, 0, 0, 0, 1, 1])\n",
            "tensor([0, 0, 0, 0, 0, 0, 1, 1])\n"
          ]
        },
        {
          "metadata": {
            "tags": null
          },
          "name": "stderr",
          "output_type": "stream",
          "text": [
            "\r 77%|███████▋  | 404/525 [21:59<06:44,  3.34s/it]"
          ]
        },
        {
          "metadata": {
            "tags": null
          },
          "name": "stdout",
          "output_type": "stream",
          "text": [
            "tensor([[-1.8937,  2.1014],\n",
            "        [-1.7722,  1.8187],\n",
            "        [-1.6926,  1.3028],\n",
            "        [ 1.3470, -1.1270],\n",
            "        [ 0.0718, -0.0636],\n",
            "        [ 0.9744, -0.8135],\n",
            "        [ 2.3680, -2.3874],\n",
            "        [-0.9750,  0.6759]], grad_fn=<AddmmBackward0>)\n",
            "tensor([1, 1, 1, 0, 1, 0, 0, 1])\n",
            "tensor([1, 1, 1, 0, 0, 0, 0, 1])\n"
          ]
        },
        {
          "metadata": {
            "tags": null
          },
          "name": "stderr",
          "output_type": "stream",
          "text": [
            "\r 77%|███████▋  | 405/525 [22:02<06:41,  3.35s/it]"
          ]
        },
        {
          "metadata": {
            "tags": null
          },
          "name": "stdout",
          "output_type": "stream",
          "text": [
            "tensor([[-1.6593,  1.7072],\n",
            "        [-1.3696,  1.1715],\n",
            "        [-1.3246,  1.1836],\n",
            "        [-1.0013,  0.3000],\n",
            "        [-1.9578,  1.9441],\n",
            "        [-1.8488,  1.7000],\n",
            "        [-1.8774,  1.8581],\n",
            "        [-1.7881,  1.9310]], grad_fn=<AddmmBackward0>)\n",
            "tensor([1, 1, 1, 1, 1, 1, 1, 1])\n",
            "tensor([1, 1, 1, 1, 1, 1, 1, 1])\n"
          ]
        },
        {
          "metadata": {
            "tags": null
          },
          "name": "stderr",
          "output_type": "stream",
          "text": [
            "\r 77%|███████▋  | 406/525 [22:06<06:33,  3.30s/it]"
          ]
        },
        {
          "metadata": {
            "tags": null
          },
          "name": "stdout",
          "output_type": "stream",
          "text": [
            "tensor([[-1.8517,  1.6958],\n",
            "        [ 1.7206, -1.4838],\n",
            "        [-0.5686,  0.2517],\n",
            "        [-1.6272,  1.0936],\n",
            "        [-2.2532,  1.8441],\n",
            "        [ 2.6803, -2.5433],\n",
            "        [ 0.7873, -0.9630],\n",
            "        [-1.7223,  1.8412]], grad_fn=<AddmmBackward0>)\n",
            "tensor([1, 0, 0, 1, 1, 0, 0, 1])\n",
            "tensor([1, 0, 1, 1, 1, 0, 0, 1])\n"
          ]
        },
        {
          "metadata": {
            "tags": null
          },
          "name": "stderr",
          "output_type": "stream",
          "text": [
            "\r 78%|███████▊  | 407/525 [22:09<06:31,  3.32s/it]"
          ]
        },
        {
          "metadata": {
            "tags": null
          },
          "name": "stdout",
          "output_type": "stream",
          "text": [
            "tensor([[-1.4612,  1.4627],\n",
            "        [ 0.8111, -0.8368],\n",
            "        [-0.5154,  0.1396],\n",
            "        [-2.0625,  2.1030],\n",
            "        [-1.8708,  1.8108],\n",
            "        [-1.9979,  1.7520],\n",
            "        [ 1.8498, -1.7329],\n",
            "        [-1.1514,  0.9730]], grad_fn=<AddmmBackward0>)\n",
            "tensor([0, 0, 0, 1, 1, 1, 0, 0])\n",
            "tensor([1, 0, 1, 1, 1, 1, 0, 1])\n"
          ]
        },
        {
          "metadata": {
            "tags": null
          },
          "name": "stderr",
          "output_type": "stream",
          "text": [
            "\r 78%|███████▊  | 408/525 [22:12<06:21,  3.26s/it]"
          ]
        },
        {
          "metadata": {
            "tags": null
          },
          "name": "stdout",
          "output_type": "stream",
          "text": [
            "tensor([[-2.1873,  2.0642],\n",
            "        [-2.2733,  1.8147],\n",
            "        [-2.1363,  1.9774],\n",
            "        [-1.9623,  1.7010],\n",
            "        [-1.0129,  0.7452],\n",
            "        [ 0.9105, -0.7381],\n",
            "        [-2.1249,  1.8154],\n",
            "        [-1.8436,  1.7702]], grad_fn=<AddmmBackward0>)\n",
            "tensor([1, 1, 1, 1, 0, 0, 1, 0])\n",
            "tensor([1, 1, 1, 1, 1, 0, 1, 1])\n"
          ]
        },
        {
          "metadata": {
            "tags": null
          },
          "name": "stderr",
          "output_type": "stream",
          "text": [
            "\r 78%|███████▊  | 409/525 [22:16<06:21,  3.29s/it]"
          ]
        },
        {
          "metadata": {
            "tags": null
          },
          "name": "stdout",
          "output_type": "stream",
          "text": [
            "tensor([[ 0.2811, -0.2535],\n",
            "        [ 1.5467, -1.2345],\n",
            "        [ 0.6744, -0.7307],\n",
            "        [-2.1396,  2.0300],\n",
            "        [-2.0530,  2.2245],\n",
            "        [ 1.3944, -1.1586],\n",
            "        [-1.6371,  1.4348],\n",
            "        [-0.4004, -0.0352]], grad_fn=<AddmmBackward0>)\n",
            "tensor([0, 0, 0, 1, 1, 0, 0, 0])\n",
            "tensor([0, 0, 0, 1, 1, 0, 1, 1])\n"
          ]
        },
        {
          "metadata": {
            "tags": null
          },
          "name": "stderr",
          "output_type": "stream",
          "text": [
            "\r 78%|███████▊  | 410/525 [22:19<06:30,  3.39s/it]"
          ]
        },
        {
          "metadata": {
            "tags": null
          },
          "name": "stdout",
          "output_type": "stream",
          "text": [
            "tensor([[-1.9336,  1.7522],\n",
            "        [ 0.8656, -0.8668],\n",
            "        [-0.8982,  0.4210],\n",
            "        [ 1.5977, -1.2978],\n",
            "        [-1.9714,  1.8846],\n",
            "        [ 1.3398, -1.0981],\n",
            "        [ 0.8288, -0.8242],\n",
            "        [-1.7370,  1.8393]], grad_fn=<AddmmBackward0>)\n",
            "tensor([1, 0, 0, 0, 1, 0, 0, 1])\n",
            "tensor([1, 0, 1, 0, 1, 0, 0, 1])\n"
          ]
        },
        {
          "metadata": {
            "tags": null
          },
          "name": "stderr",
          "output_type": "stream",
          "text": [
            "\r 78%|███████▊  | 411/525 [22:23<06:25,  3.38s/it]"
          ]
        },
        {
          "metadata": {
            "tags": null
          },
          "name": "stdout",
          "output_type": "stream",
          "text": [
            "tensor([[ 1.0858, -0.6870],\n",
            "        [-1.1013,  0.8443],\n",
            "        [-1.0272,  0.9537],\n",
            "        [ 1.5102, -1.6502],\n",
            "        [ 2.5981, -2.2127],\n",
            "        [-2.0386,  1.9044],\n",
            "        [-1.1837,  0.8541],\n",
            "        [-1.8137,  1.6593]], grad_fn=<AddmmBackward0>)\n",
            "tensor([0, 1, 1, 0, 0, 1, 1, 1])\n",
            "tensor([0, 1, 1, 0, 0, 1, 1, 1])\n"
          ]
        },
        {
          "metadata": {
            "tags": null
          },
          "name": "stderr",
          "output_type": "stream",
          "text": [
            "\r 78%|███████▊  | 412/525 [22:26<06:20,  3.36s/it]"
          ]
        },
        {
          "metadata": {
            "tags": null
          },
          "name": "stdout",
          "output_type": "stream",
          "text": [
            "tensor([[ 1.8775, -2.0121],\n",
            "        [-0.2442, -0.0339],\n",
            "        [-1.1307,  0.5993],\n",
            "        [ 2.6147, -2.6601],\n",
            "        [-1.9609,  1.6431],\n",
            "        [ 0.7440, -0.9032],\n",
            "        [ 1.5611, -1.3816],\n",
            "        [-2.0863,  1.6561]], grad_fn=<AddmmBackward0>)\n",
            "tensor([0, 0, 1, 0, 1, 0, 0, 1])\n",
            "tensor([0, 1, 1, 0, 1, 0, 0, 1])\n"
          ]
        },
        {
          "metadata": {
            "tags": null
          },
          "name": "stderr",
          "output_type": "stream",
          "text": [
            "\r 79%|███████▊  | 413/525 [22:29<06:24,  3.44s/it]"
          ]
        },
        {
          "metadata": {
            "tags": null
          },
          "name": "stdout",
          "output_type": "stream",
          "text": [
            "tensor([[ 2.7157, -2.4454],\n",
            "        [ 2.6360, -2.2577],\n",
            "        [-0.7077,  0.2767],\n",
            "        [-1.5552,  1.6927],\n",
            "        [-0.2636,  0.0618],\n",
            "        [ 0.4773, -0.6044],\n",
            "        [-1.2164,  0.8126],\n",
            "        [-0.1314, -0.3076]], grad_fn=<AddmmBackward0>)\n",
            "tensor([0, 0, 1, 1, 1, 0, 1, 1])\n",
            "tensor([0, 0, 1, 1, 1, 0, 1, 0])\n"
          ]
        },
        {
          "metadata": {
            "tags": null
          },
          "name": "stderr",
          "output_type": "stream",
          "text": [
            "\r 79%|███████▉  | 414/525 [22:33<06:25,  3.47s/it]"
          ]
        },
        {
          "metadata": {
            "tags": null
          },
          "name": "stdout",
          "output_type": "stream",
          "text": [
            "tensor([[-0.8002,  0.3809],\n",
            "        [ 2.6802, -2.6080],\n",
            "        [-0.4481,  0.1311],\n",
            "        [-1.0809,  1.0818],\n",
            "        [-0.8943,  0.4838],\n",
            "        [ 2.4485, -2.7895],\n",
            "        [ 1.9708, -2.2421],\n",
            "        [ 2.3199, -2.3027]], grad_fn=<AddmmBackward0>)\n",
            "tensor([1, 0, 1, 1, 1, 0, 0, 0])\n",
            "tensor([1, 0, 1, 1, 1, 0, 0, 0])\n"
          ]
        },
        {
          "metadata": {
            "tags": null
          },
          "name": "stderr",
          "output_type": "stream",
          "text": [
            "\r 79%|███████▉  | 415/525 [22:36<06:21,  3.47s/it]"
          ]
        },
        {
          "metadata": {
            "tags": null
          },
          "name": "stdout",
          "output_type": "stream",
          "text": [
            "tensor([[ 8.9653e-01, -8.3563e-01],\n",
            "        [-2.9124e-01, -1.1307e-01],\n",
            "        [ 2.2777e+00, -2.5841e+00],\n",
            "        [-1.4381e+00,  1.1880e+00],\n",
            "        [-6.3261e-01,  4.6993e-01],\n",
            "        [ 1.5771e+00, -1.4860e+00],\n",
            "        [-1.1861e-01, -6.6193e-04],\n",
            "        [ 2.7490e+00, -2.4928e+00]], grad_fn=<AddmmBackward0>)\n",
            "tensor([0, 0, 0, 1, 1, 0, 1, 0])\n",
            "tensor([0, 1, 0, 1, 1, 0, 1, 0])\n"
          ]
        },
        {
          "metadata": {
            "tags": null
          },
          "name": "stderr",
          "output_type": "stream",
          "text": [
            "\r 79%|███████▉  | 416/525 [22:40<06:09,  3.39s/it]"
          ]
        },
        {
          "metadata": {
            "tags": null
          },
          "name": "stdout",
          "output_type": "stream",
          "text": [
            "tensor([[ 2.4577, -2.6103],\n",
            "        [ 2.1086, -1.9793],\n",
            "        [ 2.0118, -1.3308],\n",
            "        [-0.5797,  0.0033],\n",
            "        [ 0.2322, -0.5013],\n",
            "        [ 1.7807, -1.6993],\n",
            "        [ 1.2501, -1.2476],\n",
            "        [ 1.0293, -0.8695]], grad_fn=<AddmmBackward0>)\n",
            "tensor([0, 0, 0, 1, 1, 0, 0, 0])\n",
            "tensor([0, 0, 0, 1, 0, 0, 0, 0])\n"
          ]
        },
        {
          "metadata": {
            "tags": null
          },
          "name": "stderr",
          "output_type": "stream",
          "text": [
            "\r 79%|███████▉  | 417/525 [22:43<05:58,  3.32s/it]"
          ]
        },
        {
          "metadata": {
            "tags": null
          },
          "name": "stdout",
          "output_type": "stream",
          "text": [
            "tensor([[ 2.3123, -2.3446],\n",
            "        [ 2.3558, -2.4717],\n",
            "        [ 2.5665, -2.3603],\n",
            "        [ 0.7050, -0.6890],\n",
            "        [-0.8236,  0.4070],\n",
            "        [-1.4786,  0.8042],\n",
            "        [-1.3934,  0.8624],\n",
            "        [-1.3145,  1.2714]], grad_fn=<AddmmBackward0>)\n",
            "tensor([0, 0, 0, 1, 1, 1, 1, 1])\n",
            "tensor([0, 0, 0, 0, 1, 1, 1, 1])\n"
          ]
        },
        {
          "metadata": {
            "tags": null
          },
          "name": "stderr",
          "output_type": "stream",
          "text": [
            "\r 80%|███████▉  | 418/525 [22:47<06:07,  3.44s/it]"
          ]
        },
        {
          "metadata": {
            "tags": null
          },
          "name": "stdout",
          "output_type": "stream",
          "text": [
            "tensor([[-1.2053,  0.7559],\n",
            "        [ 0.1793, -0.3466],\n",
            "        [ 2.6419, -2.5493],\n",
            "        [-1.1042,  0.7640],\n",
            "        [-0.9308,  0.6628],\n",
            "        [ 2.6934, -2.5851],\n",
            "        [ 2.4386, -2.5731],\n",
            "        [ 2.0519, -1.6375]], grad_fn=<AddmmBackward0>)\n",
            "tensor([1, 0, 0, 1, 1, 0, 0, 0])\n",
            "tensor([1, 0, 0, 1, 1, 0, 0, 0])\n"
          ]
        },
        {
          "metadata": {
            "tags": null
          },
          "name": "stderr",
          "output_type": "stream",
          "text": [
            "\r 80%|███████▉  | 419/525 [22:50<06:04,  3.44s/it]"
          ]
        },
        {
          "metadata": {
            "tags": null
          },
          "name": "stdout",
          "output_type": "stream",
          "text": [
            "tensor([[-1.2366,  1.0880],\n",
            "        [-1.2292,  0.7049],\n",
            "        [ 2.3476, -2.2313],\n",
            "        [ 1.9261, -1.8434],\n",
            "        [-1.3612,  0.7976],\n",
            "        [ 2.6903, -2.0859],\n",
            "        [-0.5006, -0.1203],\n",
            "        [-1.4820,  0.8900]], grad_fn=<AddmmBackward0>)\n",
            "tensor([1, 1, 0, 0, 1, 0, 1, 1])\n",
            "tensor([1, 1, 0, 0, 1, 0, 1, 1])\n"
          ]
        },
        {
          "metadata": {
            "tags": null
          },
          "name": "stderr",
          "output_type": "stream",
          "text": [
            "\r 80%|████████  | 420/525 [22:53<05:54,  3.38s/it]"
          ]
        },
        {
          "metadata": {
            "tags": null
          },
          "name": "stdout",
          "output_type": "stream",
          "text": [
            "tensor([[-1.3578,  0.9163],\n",
            "        [-0.1003, -0.3476],\n",
            "        [-0.6082,  0.3218],\n",
            "        [-1.5414,  0.9335],\n",
            "        [ 1.7360, -1.5825],\n",
            "        [ 2.1621, -1.7688],\n",
            "        [-0.9069,  0.4311],\n",
            "        [ 2.5313, -2.6905]], grad_fn=<AddmmBackward0>)\n",
            "tensor([1, 0, 1, 1, 0, 0, 1, 0])\n",
            "tensor([1, 0, 1, 1, 0, 0, 1, 0])\n"
          ]
        },
        {
          "metadata": {
            "tags": null
          },
          "name": "stderr",
          "output_type": "stream",
          "text": [
            "\r 80%|████████  | 421/525 [22:56<05:46,  3.33s/it]"
          ]
        },
        {
          "metadata": {
            "tags": null
          },
          "name": "stdout",
          "output_type": "stream",
          "text": [
            "tensor([[ 1.8728e+00, -1.8414e+00],\n",
            "        [ 2.1502e+00, -2.5572e+00],\n",
            "        [ 2.5435e+00, -2.6323e+00],\n",
            "        [-6.2559e-01,  3.0735e-01],\n",
            "        [-7.6874e-01,  4.5894e-01],\n",
            "        [-3.6915e-01,  1.5558e-03],\n",
            "        [ 5.7547e-02, -1.1500e-01],\n",
            "        [-1.0945e+00,  4.3537e-01]], grad_fn=<AddmmBackward0>)\n",
            "tensor([0, 0, 0, 1, 1, 1, 1, 1])\n",
            "tensor([0, 0, 0, 1, 1, 1, 0, 1])\n"
          ]
        },
        {
          "metadata": {
            "tags": null
          },
          "name": "stderr",
          "output_type": "stream",
          "text": [
            "\r 80%|████████  | 422/525 [23:00<05:37,  3.28s/it]"
          ]
        },
        {
          "metadata": {
            "tags": null
          },
          "name": "stdout",
          "output_type": "stream",
          "text": [
            "tensor([[ 0.3112, -0.1095],\n",
            "        [ 1.5737, -0.9806],\n",
            "        [ 2.6078, -2.2973],\n",
            "        [-0.5387,  0.0579],\n",
            "        [ 2.5069, -2.1662],\n",
            "        [ 1.0771, -0.9223],\n",
            "        [-0.4219,  0.1355],\n",
            "        [ 2.7029, -2.5195]], grad_fn=<AddmmBackward0>)\n",
            "tensor([0, 0, 0, 1, 0, 0, 0, 0])\n",
            "tensor([0, 0, 0, 1, 0, 0, 1, 0])\n"
          ]
        },
        {
          "metadata": {
            "tags": null
          },
          "name": "stderr",
          "output_type": "stream",
          "text": [
            "\r 81%|████████  | 423/525 [23:03<05:40,  3.34s/it]"
          ]
        },
        {
          "metadata": {
            "tags": null
          },
          "name": "stdout",
          "output_type": "stream",
          "text": [
            "tensor([[ 2.8019, -2.4267],\n",
            "        [-1.6941,  1.3196],\n",
            "        [-0.4157,  0.0592],\n",
            "        [ 1.2864, -1.1528],\n",
            "        [ 2.0664, -1.9902],\n",
            "        [-1.5653,  1.3894],\n",
            "        [ 2.6521, -2.5167],\n",
            "        [ 2.3316, -2.5783]], grad_fn=<AddmmBackward0>)\n",
            "tensor([0, 1, 1, 0, 0, 1, 0, 0])\n",
            "tensor([0, 1, 1, 0, 0, 1, 0, 0])\n"
          ]
        },
        {
          "metadata": {
            "tags": null
          },
          "name": "stderr",
          "output_type": "stream",
          "text": [
            "\r 81%|████████  | 424/525 [23:06<05:36,  3.33s/it]"
          ]
        },
        {
          "metadata": {
            "tags": null
          },
          "name": "stdout",
          "output_type": "stream",
          "text": [
            "tensor([[ 2.3584, -2.7664],\n",
            "        [ 2.3531, -2.2839],\n",
            "        [-1.7327,  1.7430],\n",
            "        [ 0.8281, -0.6166],\n",
            "        [ 2.5660, -2.5258],\n",
            "        [ 2.5886, -2.6985],\n",
            "        [ 2.2040, -2.7251],\n",
            "        [ 2.3363, -2.3984]], grad_fn=<AddmmBackward0>)\n",
            "tensor([0, 0, 1, 0, 0, 0, 0, 0])\n",
            "tensor([0, 0, 1, 0, 0, 0, 0, 0])\n"
          ]
        },
        {
          "metadata": {
            "tags": null
          },
          "name": "stderr",
          "output_type": "stream",
          "text": [
            "\r 81%|████████  | 425/525 [23:10<05:35,  3.35s/it]"
          ]
        },
        {
          "metadata": {
            "tags": null
          },
          "name": "stdout",
          "output_type": "stream",
          "text": [
            "tensor([[ 1.4002, -1.1022],\n",
            "        [ 1.0335, -1.3056],\n",
            "        [-0.6966,  0.6760],\n",
            "        [ 1.3071, -1.1944],\n",
            "        [ 2.2772, -2.5690],\n",
            "        [-1.6350,  1.7352],\n",
            "        [ 0.4768, -0.5937],\n",
            "        [-1.5724,  1.2756]], grad_fn=<AddmmBackward0>)\n",
            "tensor([1, 1, 1, 0, 0, 1, 1, 1])\n",
            "tensor([0, 0, 1, 0, 0, 1, 0, 1])\n"
          ]
        },
        {
          "metadata": {
            "tags": null
          },
          "name": "stderr",
          "output_type": "stream",
          "text": [
            "\r 81%|████████  | 426/525 [23:13<05:22,  3.25s/it]"
          ]
        },
        {
          "metadata": {
            "tags": null
          },
          "name": "stdout",
          "output_type": "stream",
          "text": [
            "tensor([[-0.1954,  0.0692],\n",
            "        [ 2.6498, -2.4313],\n",
            "        [-1.7843,  1.9308],\n",
            "        [-1.7858,  1.6690],\n",
            "        [-1.6244,  1.3340],\n",
            "        [-1.4834,  1.2881],\n",
            "        [-2.1521,  1.9023],\n",
            "        [-0.4393, -0.1007]], grad_fn=<AddmmBackward0>)\n",
            "tensor([1, 0, 1, 1, 1, 1, 1, 0])\n",
            "tensor([1, 0, 1, 1, 1, 1, 1, 1])\n"
          ]
        },
        {
          "metadata": {
            "tags": null
          },
          "name": "stderr",
          "output_type": "stream",
          "text": [
            "\r 81%|████████▏ | 427/525 [23:16<05:28,  3.36s/it]"
          ]
        },
        {
          "metadata": {
            "tags": null
          },
          "name": "stdout",
          "output_type": "stream",
          "text": [
            "tensor([[ 0.8517, -0.7137],\n",
            "        [ 2.4865, -2.6757],\n",
            "        [ 1.2469, -1.1593],\n",
            "        [-1.8602,  1.7782],\n",
            "        [ 2.6192, -2.6085],\n",
            "        [ 2.6081, -2.6193],\n",
            "        [ 0.4016, -0.4579],\n",
            "        [ 0.7063, -0.9423]], grad_fn=<AddmmBackward0>)\n",
            "tensor([0, 0, 0, 1, 0, 0, 1, 0])\n",
            "tensor([0, 0, 0, 1, 0, 0, 0, 0])\n"
          ]
        },
        {
          "metadata": {
            "tags": null
          },
          "name": "stderr",
          "output_type": "stream",
          "text": [
            "\r 82%|████████▏ | 428/525 [23:20<05:27,  3.38s/it]"
          ]
        },
        {
          "metadata": {
            "tags": null
          },
          "name": "stdout",
          "output_type": "stream",
          "text": [
            "tensor([[ 2.5717, -2.6914],\n",
            "        [-2.1177,  1.8986],\n",
            "        [-0.7492,  0.5558],\n",
            "        [ 2.5865, -2.8927],\n",
            "        [-1.8802,  1.7856],\n",
            "        [-1.5715,  0.7861],\n",
            "        [-1.3624,  0.7400],\n",
            "        [ 0.1725, -0.3512]], grad_fn=<AddmmBackward0>)\n",
            "tensor([0, 1, 1, 0, 1, 1, 0, 1])\n",
            "tensor([0, 1, 1, 0, 1, 1, 1, 0])\n"
          ]
        },
        {
          "metadata": {
            "tags": null
          },
          "name": "stderr",
          "output_type": "stream",
          "text": [
            "\r 82%|████████▏ | 429/525 [23:23<05:19,  3.33s/it]"
          ]
        },
        {
          "metadata": {
            "tags": null
          },
          "name": "stdout",
          "output_type": "stream",
          "text": [
            "tensor([[-1.1619,  0.6646],\n",
            "        [-0.8222,  0.6715],\n",
            "        [-1.9242,  1.6895],\n",
            "        [ 1.7941, -1.7276],\n",
            "        [-0.1036,  0.0088],\n",
            "        [-2.1471,  1.6229],\n",
            "        [ 2.5668, -2.7725],\n",
            "        [-1.8040,  1.5881]], grad_fn=<AddmmBackward0>)\n",
            "tensor([1, 0, 1, 0, 0, 1, 0, 1])\n",
            "tensor([1, 1, 1, 0, 1, 1, 0, 1])\n"
          ]
        },
        {
          "metadata": {
            "tags": null
          },
          "name": "stderr",
          "output_type": "stream",
          "text": [
            "\r 82%|████████▏ | 430/525 [23:26<05:16,  3.34s/it]"
          ]
        },
        {
          "metadata": {
            "tags": null
          },
          "name": "stdout",
          "output_type": "stream",
          "text": [
            "tensor([[-1.7727,  1.6879],\n",
            "        [ 2.5386, -2.5617],\n",
            "        [ 2.5102, -2.7096],\n",
            "        [-0.6945,  0.4905],\n",
            "        [ 2.5716, -2.4894],\n",
            "        [-1.6459,  1.2014],\n",
            "        [-1.7348,  1.2621],\n",
            "        [-1.7694,  1.4289]], grad_fn=<AddmmBackward0>)\n",
            "tensor([1, 0, 0, 0, 0, 1, 1, 1])\n",
            "tensor([1, 0, 0, 1, 0, 1, 1, 1])\n"
          ]
        },
        {
          "metadata": {
            "tags": null
          },
          "name": "stderr",
          "output_type": "stream",
          "text": [
            "\r 82%|████████▏ | 431/525 [23:30<05:22,  3.43s/it]"
          ]
        },
        {
          "metadata": {
            "tags": null
          },
          "name": "stdout",
          "output_type": "stream",
          "text": [
            "tensor([[-0.1272,  0.1123],\n",
            "        [-1.8952,  1.7137],\n",
            "        [-2.0956,  1.8358],\n",
            "        [-1.8606,  1.7105],\n",
            "        [-1.6952,  1.6614],\n",
            "        [-2.0078,  2.2191],\n",
            "        [ 0.7209, -0.5118],\n",
            "        [ 2.4625, -2.6442]], grad_fn=<AddmmBackward0>)\n",
            "tensor([0, 1, 1, 1, 1, 1, 1, 0])\n",
            "tensor([1, 1, 1, 1, 1, 1, 0, 0])\n"
          ]
        },
        {
          "metadata": {
            "tags": null
          },
          "name": "stderr",
          "output_type": "stream",
          "text": [
            "\r 82%|████████▏ | 432/525 [23:33<05:19,  3.44s/it]"
          ]
        },
        {
          "metadata": {
            "tags": null
          },
          "name": "stdout",
          "output_type": "stream",
          "text": [
            "tensor([[-2.2208,  2.0479],\n",
            "        [-1.9628,  1.6227],\n",
            "        [-0.5426,  0.5208],\n",
            "        [ 0.0262, -0.1671],\n",
            "        [-1.9178,  1.6565],\n",
            "        [ 2.5967, -2.5522],\n",
            "        [ 2.7067, -2.8393],\n",
            "        [-0.5178,  0.2398]], grad_fn=<AddmmBackward0>)\n",
            "tensor([1, 1, 0, 0, 1, 0, 0, 0])\n",
            "tensor([1, 1, 1, 0, 1, 0, 0, 1])\n"
          ]
        },
        {
          "output_type": "stream",
          "name": "stderr",
          "text": [
            "\r 82%|████████▏ | 433/525 [23:37<05:15,  3.43s/it]"
          ]
        },
        {
          "output_type": "stream",
          "name": "stdout",
          "text": [
            "tensor([[-1.9622,  1.9034],\n",
            "        [ 0.9802, -0.9067],\n",
            "        [ 0.2742, -0.1419],\n",
            "        [-2.0333,  1.7678],\n",
            "        [-0.6021,  0.2162],\n",
            "        [-1.8194,  1.9379],\n",
            "        [-1.5069,  1.4110],\n",
            "        [-1.8908,  1.8042]], grad_fn=<AddmmBackward0>)\n",
            "tensor([1, 0, 0, 1, 0, 1, 1, 1])\n",
            "tensor([1, 0, 0, 1, 1, 1, 1, 1])\n"
          ]
        },
        {
          "output_type": "stream",
          "name": "stderr",
          "text": [
            "\r 83%|████████▎ | 434/525 [23:40<05:11,  3.42s/it]"
          ]
        },
        {
          "output_type": "stream",
          "name": "stdout",
          "text": [
            "tensor([[ 1.5458, -1.6427],\n",
            "        [-2.1221,  1.6172],\n",
            "        [ 2.4748, -2.4229],\n",
            "        [-2.0593,  1.9164],\n",
            "        [-1.9527,  1.8847],\n",
            "        [ 2.6884, -2.4434],\n",
            "        [-0.7528,  0.4213],\n",
            "        [ 2.2037, -2.2027]], grad_fn=<AddmmBackward0>)\n",
            "tensor([0, 1, 0, 1, 1, 0, 0, 0])\n",
            "tensor([0, 1, 0, 1, 1, 0, 1, 0])\n"
          ]
        },
        {
          "output_type": "stream",
          "name": "stderr",
          "text": [
            "\r 83%|████████▎ | 435/525 [23:44<05:08,  3.43s/it]"
          ]
        },
        {
          "output_type": "stream",
          "name": "stdout",
          "text": [
            "tensor([[ 1.1302, -0.8877],\n",
            "        [-2.0312,  1.9265],\n",
            "        [-0.9754,  0.9078],\n",
            "        [-2.1171,  1.8825],\n",
            "        [ 1.1799, -1.3523],\n",
            "        [ 1.1864, -0.9466],\n",
            "        [ 0.1843, -0.1321],\n",
            "        [-1.8585,  1.8604]], grad_fn=<AddmmBackward0>)\n",
            "tensor([0, 1, 0, 1, 0, 0, 0, 1])\n",
            "tensor([0, 1, 1, 1, 0, 0, 0, 1])\n"
          ]
        },
        {
          "output_type": "stream",
          "name": "stderr",
          "text": [
            "\r 83%|████████▎ | 436/525 [23:47<05:04,  3.42s/it]"
          ]
        },
        {
          "output_type": "stream",
          "name": "stdout",
          "text": [
            "tensor([[ 0.9715, -1.1076],\n",
            "        [ 1.4456, -1.1400],\n",
            "        [ 1.7401, -1.8236],\n",
            "        [-1.4431,  1.2598],\n",
            "        [-2.1081,  1.8639],\n",
            "        [-1.2754,  1.0658],\n",
            "        [-1.8116,  1.8574],\n",
            "        [-0.0504, -0.1239]], grad_fn=<AddmmBackward0>)\n",
            "tensor([0, 0, 0, 1, 1, 1, 1, 0])\n",
            "tensor([0, 0, 0, 1, 1, 1, 1, 0])\n"
          ]
        },
        {
          "output_type": "stream",
          "name": "stderr",
          "text": [
            "\r 83%|████████▎ | 437/525 [23:51<05:01,  3.43s/it]"
          ]
        },
        {
          "output_type": "stream",
          "name": "stdout",
          "text": [
            "tensor([[ 2.6280, -2.7534],\n",
            "        [ 2.5601, -2.8239],\n",
            "        [-0.8017,  0.6176],\n",
            "        [-0.1474,  0.0665],\n",
            "        [ 2.0828, -2.1573],\n",
            "        [ 1.8606, -1.8595],\n",
            "        [ 0.2508, -0.4482],\n",
            "        [ 2.6079, -2.8286]], grad_fn=<AddmmBackward0>)\n",
            "tensor([0, 0, 1, 0, 0, 0, 1, 0])\n",
            "tensor([0, 0, 1, 1, 0, 0, 0, 0])\n"
          ]
        },
        {
          "output_type": "stream",
          "name": "stderr",
          "text": [
            "\r 83%|████████▎ | 438/525 [23:54<04:57,  3.42s/it]"
          ]
        },
        {
          "output_type": "stream",
          "name": "stdout",
          "text": [
            "tensor([[ 2.5501, -2.6553],\n",
            "        [ 2.7033, -2.5203],\n",
            "        [ 0.0532, -0.3108],\n",
            "        [ 2.4731, -2.7371],\n",
            "        [ 2.5729, -2.9482],\n",
            "        [ 0.8960, -0.9568],\n",
            "        [-0.2125, -0.1797],\n",
            "        [ 2.6483, -2.7318]], grad_fn=<AddmmBackward0>)\n",
            "tensor([0, 0, 0, 0, 0, 1, 0, 1])\n",
            "tensor([0, 0, 0, 0, 0, 0, 1, 0])\n"
          ]
        },
        {
          "output_type": "stream",
          "name": "stderr",
          "text": [
            "\r 84%|████████▎ | 439/525 [23:57<04:47,  3.34s/it]"
          ]
        },
        {
          "output_type": "stream",
          "name": "stdout",
          "text": [
            "tensor([[ 2.0430, -1.9947],\n",
            "        [ 2.4836, -2.6434],\n",
            "        [ 2.7900, -2.6736],\n",
            "        [ 2.6355, -2.8735],\n",
            "        [ 2.7980, -2.7175],\n",
            "        [ 2.3696, -2.4633],\n",
            "        [ 2.6649, -2.7558],\n",
            "        [ 1.8634, -1.6526]], grad_fn=<AddmmBackward0>)\n",
            "tensor([0, 0, 0, 0, 0, 0, 0, 0])\n",
            "tensor([0, 0, 0, 0, 0, 0, 0, 0])\n"
          ]
        },
        {
          "output_type": "stream",
          "name": "stderr",
          "text": [
            "\r 84%|████████▍ | 440/525 [24:01<04:48,  3.39s/it]"
          ]
        },
        {
          "output_type": "stream",
          "name": "stdout",
          "text": [
            "tensor([[-1.1409,  0.8347],\n",
            "        [ 2.5706, -2.6314],\n",
            "        [ 1.6959, -1.6517],\n",
            "        [ 1.3689, -1.4111],\n",
            "        [ 0.9723, -1.1685],\n",
            "        [ 2.4826, -2.4799],\n",
            "        [ 2.4965, -2.8194],\n",
            "        [ 1.0895, -1.0667]], grad_fn=<AddmmBackward0>)\n",
            "tensor([1, 0, 0, 0, 0, 0, 0, 0])\n",
            "tensor([1, 0, 0, 0, 0, 0, 0, 0])\n"
          ]
        },
        {
          "output_type": "stream",
          "name": "stderr",
          "text": [
            "\r 84%|████████▍ | 441/525 [24:04<04:44,  3.38s/it]"
          ]
        },
        {
          "output_type": "stream",
          "name": "stdout",
          "text": [
            "tensor([[ 2.2335, -2.1465],\n",
            "        [ 1.0343, -0.7403],\n",
            "        [ 2.0908, -2.1880],\n",
            "        [ 1.6357, -1.0878],\n",
            "        [ 2.0364, -2.2374],\n",
            "        [-1.6130,  1.7937],\n",
            "        [ 2.7805, -2.4936],\n",
            "        [-0.8728,  0.5404]], grad_fn=<AddmmBackward0>)\n",
            "tensor([0, 1, 0, 1, 0, 1, 0, 1])\n",
            "tensor([0, 0, 0, 0, 0, 1, 0, 1])\n"
          ]
        },
        {
          "output_type": "stream",
          "name": "stderr",
          "text": [
            "\r 84%|████████▍ | 442/525 [24:07<04:38,  3.36s/it]"
          ]
        },
        {
          "output_type": "stream",
          "name": "stdout",
          "text": [
            "tensor([[-1.7420,  1.2546],\n",
            "        [-0.5434,  0.3743],\n",
            "        [ 2.7094, -2.7035],\n",
            "        [ 1.0736, -0.9309],\n",
            "        [ 2.5935, -2.4231],\n",
            "        [-0.5797,  0.0442],\n",
            "        [ 1.6793, -1.4682],\n",
            "        [-1.6832,  1.7206]], grad_fn=<AddmmBackward0>)\n",
            "tensor([1, 1, 0, 1, 0, 1, 0, 1])\n",
            "tensor([1, 1, 0, 0, 0, 1, 0, 1])\n"
          ]
        },
        {
          "output_type": "stream",
          "name": "stderr",
          "text": [
            "\r 84%|████████▍ | 443/525 [24:11<04:36,  3.37s/it]"
          ]
        },
        {
          "output_type": "stream",
          "name": "stdout",
          "text": [
            "tensor([[ 1.6970, -1.6524],\n",
            "        [ 2.2178, -2.0430],\n",
            "        [ 2.3635, -2.1734],\n",
            "        [ 1.0486, -0.7693],\n",
            "        [-1.1559,  0.8443],\n",
            "        [ 2.2745, -2.0482],\n",
            "        [ 1.4104, -1.2023],\n",
            "        [ 1.5901, -1.2484]], grad_fn=<AddmmBackward0>)\n",
            "tensor([0, 0, 0, 0, 1, 0, 0, 0])\n",
            "tensor([0, 0, 0, 0, 1, 0, 0, 0])\n"
          ]
        },
        {
          "output_type": "stream",
          "name": "stderr",
          "text": [
            "\r 85%|████████▍ | 444/525 [24:14<04:35,  3.40s/it]"
          ]
        },
        {
          "output_type": "stream",
          "name": "stdout",
          "text": [
            "tensor([[ 2.1154, -1.7481],\n",
            "        [-0.6205,  0.4485],\n",
            "        [-1.2019,  0.9719],\n",
            "        [-1.0509,  0.7895],\n",
            "        [ 2.0093, -2.3357],\n",
            "        [-0.2934, -0.0686],\n",
            "        [-1.5049,  1.3431],\n",
            "        [-1.2213,  0.6619]], grad_fn=<AddmmBackward0>)\n",
            "tensor([0, 1, 1, 1, 0, 1, 1, 1])\n",
            "tensor([0, 1, 1, 1, 0, 1, 1, 1])\n"
          ]
        },
        {
          "output_type": "stream",
          "name": "stderr",
          "text": [
            "\r 85%|████████▍ | 445/525 [24:18<04:30,  3.38s/it]"
          ]
        },
        {
          "output_type": "stream",
          "name": "stdout",
          "text": [
            "tensor([[ 2.1481, -1.6311],\n",
            "        [-1.1118,  0.9031],\n",
            "        [-1.5778,  1.4162],\n",
            "        [ 0.8773, -0.5818],\n",
            "        [ 0.8066, -1.0301],\n",
            "        [-0.1443,  0.1273],\n",
            "        [-1.7913,  1.8702],\n",
            "        [ 1.9226, -1.5904]], grad_fn=<AddmmBackward0>)\n",
            "tensor([0, 1, 1, 0, 0, 0, 1, 0])\n",
            "tensor([0, 1, 1, 0, 0, 1, 1, 0])\n"
          ]
        },
        {
          "output_type": "stream",
          "name": "stderr",
          "text": [
            "\r 85%|████████▍ | 446/525 [24:21<04:25,  3.36s/it]"
          ]
        },
        {
          "output_type": "stream",
          "name": "stdout",
          "text": [
            "tensor([[-1.6868,  1.1687],\n",
            "        [ 0.3116, -0.5239],\n",
            "        [ 0.1132, -0.3778],\n",
            "        [ 0.3957, -0.2693],\n",
            "        [ 0.8610, -0.7635],\n",
            "        [ 0.2076, -0.2088],\n",
            "        [ 2.2945, -1.8772],\n",
            "        [ 0.1490, -0.0345]], grad_fn=<AddmmBackward0>)\n",
            "tensor([1, 0, 1, 0, 0, 1, 0, 1])\n",
            "tensor([1, 0, 0, 0, 0, 0, 0, 0])\n"
          ]
        },
        {
          "output_type": "stream",
          "name": "stderr",
          "text": [
            "\r 85%|████████▌ | 447/525 [24:24<04:26,  3.42s/it]"
          ]
        },
        {
          "output_type": "stream",
          "name": "stdout",
          "text": [
            "tensor([[-0.3794,  0.2568],\n",
            "        [ 1.0248, -0.6685],\n",
            "        [-0.9442,  0.9254],\n",
            "        [ 1.5225, -1.0474],\n",
            "        [-1.8757,  1.6909],\n",
            "        [-1.3663,  0.9943],\n",
            "        [ 1.5630, -1.2209],\n",
            "        [-0.1118, -0.2216]], grad_fn=<AddmmBackward0>)\n",
            "tensor([1, 0, 1, 0, 1, 1, 0, 1])\n",
            "tensor([1, 0, 1, 0, 1, 1, 0, 0])\n"
          ]
        },
        {
          "output_type": "stream",
          "name": "stderr",
          "text": [
            "\r 85%|████████▌ | 448/525 [24:28<04:25,  3.45s/it]"
          ]
        },
        {
          "output_type": "stream",
          "name": "stdout",
          "text": [
            "tensor([[ 1.6693, -1.2360],\n",
            "        [-1.5325,  1.2839],\n",
            "        [-1.8762,  1.8328],\n",
            "        [-1.8439,  1.8318],\n",
            "        [ 0.3859, -0.5836],\n",
            "        [-1.8375,  1.9680],\n",
            "        [ 0.8106, -0.7450],\n",
            "        [-1.9404,  1.6426]], grad_fn=<AddmmBackward0>)\n",
            "tensor([0, 1, 1, 1, 0, 1, 0, 1])\n",
            "tensor([0, 1, 1, 1, 0, 1, 0, 1])\n"
          ]
        },
        {
          "output_type": "stream",
          "name": "stderr",
          "text": [
            "\r 86%|████████▌ | 449/525 [24:31<04:09,  3.28s/it]"
          ]
        },
        {
          "output_type": "stream",
          "name": "stdout",
          "text": [
            "tensor([[-0.0580, -0.2216],\n",
            "        [ 0.9700, -0.8150],\n",
            "        [-0.1500, -0.1892],\n",
            "        [ 0.4386, -0.4748],\n",
            "        [-1.2039,  0.9988],\n",
            "        [ 0.2507, -0.2057],\n",
            "        [-0.3829, -0.1734],\n",
            "        [ 0.9524, -0.6208]], grad_fn=<AddmmBackward0>)\n",
            "tensor([1, 0, 1, 0, 1, 1, 0, 0])\n",
            "tensor([0, 0, 0, 0, 1, 0, 1, 0])\n"
          ]
        },
        {
          "output_type": "stream",
          "name": "stderr",
          "text": [
            "\r 86%|████████▌ | 450/525 [24:34<04:02,  3.23s/it]"
          ]
        },
        {
          "output_type": "stream",
          "name": "stdout",
          "text": [
            "tensor([[-1.8071,  1.6345],\n",
            "        [ 0.0923, -0.1173],\n",
            "        [ 0.9858, -0.7376],\n",
            "        [-1.3218,  1.1544],\n",
            "        [-0.1476, -0.2054],\n",
            "        [-0.0971, -0.0439],\n",
            "        [ 0.9583, -0.7214],\n",
            "        [ 1.2907, -0.9332]], grad_fn=<AddmmBackward0>)\n",
            "tensor([1, 0, 0, 1, 0, 0, 0, 0])\n",
            "tensor([1, 0, 0, 1, 0, 1, 0, 0])\n"
          ]
        },
        {
          "output_type": "stream",
          "name": "stderr",
          "text": [
            "\r 86%|████████▌ | 451/525 [24:37<04:02,  3.27s/it]"
          ]
        },
        {
          "output_type": "stream",
          "name": "stdout",
          "text": [
            "tensor([[ 1.4741, -1.0954],\n",
            "        [-1.8971,  1.7134],\n",
            "        [ 0.3116, -0.5239],\n",
            "        [ 0.3247, -0.4153],\n",
            "        [ 1.2625, -0.8770],\n",
            "        [-0.0217, -0.0739],\n",
            "        [-1.5672,  1.3032],\n",
            "        [-1.6215,  1.6174]], grad_fn=<AddmmBackward0>)\n",
            "tensor([0, 1, 1, 0, 0, 0, 1, 0])\n",
            "tensor([0, 1, 0, 0, 0, 0, 1, 1])\n"
          ]
        },
        {
          "output_type": "stream",
          "name": "stderr",
          "text": [
            "\r 86%|████████▌ | 452/525 [24:41<04:06,  3.38s/it]"
          ]
        },
        {
          "output_type": "stream",
          "name": "stdout",
          "text": [
            "tensor([[ 1.5321, -1.2534],\n",
            "        [ 1.4254, -1.0090],\n",
            "        [-1.7806,  1.6768],\n",
            "        [ 1.6581, -1.2692],\n",
            "        [-0.4545, -0.0199],\n",
            "        [-2.0415,  2.0246],\n",
            "        [-0.4835, -0.0283],\n",
            "        [-1.9777,  1.6789]], grad_fn=<AddmmBackward0>)\n",
            "tensor([0, 0, 1, 0, 0, 1, 0, 1])\n",
            "tensor([0, 0, 1, 0, 1, 1, 1, 1])\n"
          ]
        },
        {
          "output_type": "stream",
          "name": "stderr",
          "text": [
            "\r 86%|████████▋ | 453/525 [24:44<04:03,  3.38s/it]"
          ]
        },
        {
          "output_type": "stream",
          "name": "stdout",
          "text": [
            "tensor([[-2.0577,  2.0653],\n",
            "        [ 0.3554, -0.2268],\n",
            "        [-1.7277,  1.7413],\n",
            "        [ 1.3075, -1.0443],\n",
            "        [ 1.7288, -1.4464],\n",
            "        [-0.4133,  0.0781],\n",
            "        [-1.6184,  1.1874],\n",
            "        [-2.0573,  2.0133]], grad_fn=<AddmmBackward0>)\n",
            "tensor([1, 0, 1, 0, 0, 1, 1, 1])\n",
            "tensor([1, 0, 1, 0, 0, 1, 1, 1])\n"
          ]
        },
        {
          "output_type": "stream",
          "name": "stderr",
          "text": [
            "\r 86%|████████▋ | 454/525 [24:47<03:53,  3.29s/it]"
          ]
        },
        {
          "output_type": "stream",
          "name": "stdout",
          "text": [
            "tensor([[ 0.2918, -0.3440],\n",
            "        [-0.0021, -0.0861],\n",
            "        [-1.8278,  1.7636],\n",
            "        [-1.6998,  1.7197],\n",
            "        [ 1.0671, -0.8902],\n",
            "        [ 0.9101, -0.8077],\n",
            "        [-0.0953, -0.2051],\n",
            "        [ 1.1156, -0.8793]], grad_fn=<AddmmBackward0>)\n",
            "tensor([0, 0, 1, 1, 0, 0, 1, 0])\n",
            "tensor([0, 0, 1, 1, 0, 0, 0, 0])\n"
          ]
        },
        {
          "output_type": "stream",
          "name": "stderr",
          "text": [
            "\r 87%|████████▋ | 455/525 [24:51<03:50,  3.30s/it]"
          ]
        },
        {
          "output_type": "stream",
          "name": "stdout",
          "text": [
            "tensor([[-1.5101,  1.3857],\n",
            "        [-1.4350,  1.5709],\n",
            "        [-1.4653,  1.3158],\n",
            "        [-0.6549,  0.3653],\n",
            "        [ 1.5196, -1.1457],\n",
            "        [ 0.7011, -0.9258],\n",
            "        [ 1.4899, -1.0715],\n",
            "        [ 0.7633, -0.9370]], grad_fn=<AddmmBackward0>)\n",
            "tensor([1, 0, 1, 1, 0, 0, 0, 0])\n",
            "tensor([1, 1, 1, 1, 0, 0, 0, 0])\n"
          ]
        },
        {
          "output_type": "stream",
          "name": "stderr",
          "text": [
            "\r 87%|████████▋ | 456/525 [24:55<03:58,  3.45s/it]"
          ]
        },
        {
          "output_type": "stream",
          "name": "stdout",
          "text": [
            "tensor([[-1.8999,  1.8081],\n",
            "        [-2.0576,  1.5918],\n",
            "        [ 1.3767, -1.0135],\n",
            "        [ 2.0951, -1.6329],\n",
            "        [-1.5710,  1.4977],\n",
            "        [ 0.7588, -0.7331],\n",
            "        [-1.5292,  1.2600],\n",
            "        [ 0.9015, -0.8818]], grad_fn=<AddmmBackward0>)\n",
            "tensor([1, 1, 1, 0, 1, 0, 1, 0])\n",
            "tensor([1, 1, 0, 0, 1, 0, 1, 0])\n"
          ]
        },
        {
          "output_type": "stream",
          "name": "stderr",
          "text": [
            "\r 87%|████████▋ | 457/525 [24:58<03:54,  3.45s/it]"
          ]
        },
        {
          "output_type": "stream",
          "name": "stdout",
          "text": [
            "tensor([[-1.4653,  0.9843],\n",
            "        [ 1.8745, -1.6067],\n",
            "        [ 1.2518, -1.0611],\n",
            "        [-1.7679,  1.5208],\n",
            "        [ 1.0270, -0.7965],\n",
            "        [-1.6641,  1.6780],\n",
            "        [ 1.4465, -1.0312],\n",
            "        [-1.9805,  2.0111]], grad_fn=<AddmmBackward0>)\n",
            "tensor([1, 0, 0, 1, 0, 1, 1, 1])\n",
            "tensor([1, 0, 0, 1, 0, 1, 0, 1])\n"
          ]
        },
        {
          "output_type": "stream",
          "name": "stderr",
          "text": [
            "\r 87%|████████▋ | 458/525 [25:01<03:45,  3.37s/it]"
          ]
        },
        {
          "output_type": "stream",
          "name": "stdout",
          "text": [
            "tensor([[ 2.1400, -1.5636],\n",
            "        [-1.1624,  0.9230],\n",
            "        [-0.8481,  0.1738],\n",
            "        [ 1.9237, -1.7765],\n",
            "        [-2.0646,  1.9937],\n",
            "        [ 1.7554, -1.2888],\n",
            "        [-2.0723,  1.9507],\n",
            "        [-0.4685, -0.0998]], grad_fn=<AddmmBackward0>)\n",
            "tensor([0, 1, 1, 0, 1, 0, 1, 1])\n",
            "tensor([0, 1, 1, 0, 1, 0, 1, 1])\n"
          ]
        },
        {
          "output_type": "stream",
          "name": "stderr",
          "text": [
            "\r 87%|████████▋ | 459/525 [25:04<03:37,  3.30s/it]"
          ]
        },
        {
          "output_type": "stream",
          "name": "stdout",
          "text": [
            "tensor([[-1.3954,  1.1113],\n",
            "        [-0.8892,  0.5022],\n",
            "        [-1.3692,  0.9761],\n",
            "        [ 1.5826, -1.0833],\n",
            "        [-0.5824,  0.2576],\n",
            "        [ 1.8524, -1.2739],\n",
            "        [ 1.5487, -1.3137],\n",
            "        [ 1.4041, -1.1189]], grad_fn=<AddmmBackward0>)\n",
            "tensor([1, 1, 1, 0, 1, 0, 0, 0])\n",
            "tensor([1, 1, 1, 0, 1, 0, 0, 0])\n"
          ]
        },
        {
          "output_type": "stream",
          "name": "stderr",
          "text": [
            "\r 88%|████████▊ | 460/525 [25:08<03:37,  3.34s/it]"
          ]
        },
        {
          "output_type": "stream",
          "name": "stdout",
          "text": [
            "tensor([[ 1.7282, -1.4379],\n",
            "        [-0.2049, -0.0900],\n",
            "        [ 1.8763, -1.2874],\n",
            "        [ 1.6540, -1.4659],\n",
            "        [-1.0869,  1.1787],\n",
            "        [ 0.0032, -0.3236],\n",
            "        [ 1.5254, -1.1276],\n",
            "        [ 1.2025, -0.7240]], grad_fn=<AddmmBackward0>)\n",
            "tensor([0, 0, 0, 0, 1, 1, 0, 0])\n",
            "tensor([0, 1, 0, 0, 1, 0, 0, 0])\n"
          ]
        },
        {
          "output_type": "stream",
          "name": "stderr",
          "text": [
            "\r 88%|████████▊ | 461/525 [25:11<03:38,  3.41s/it]"
          ]
        },
        {
          "output_type": "stream",
          "name": "stdout",
          "text": [
            "tensor([[-0.6657,  0.2214],\n",
            "        [ 0.3642, -0.4805],\n",
            "        [ 1.7605, -1.5317],\n",
            "        [ 1.8084, -1.0429],\n",
            "        [-0.4423,  0.1410],\n",
            "        [-1.6717,  1.4283],\n",
            "        [-1.2655,  1.0485],\n",
            "        [-1.8649,  1.3268]], grad_fn=<AddmmBackward0>)\n",
            "tensor([1, 1, 0, 0, 1, 1, 1, 1])\n",
            "tensor([1, 0, 0, 0, 1, 1, 1, 1])\n"
          ]
        },
        {
          "output_type": "stream",
          "name": "stderr",
          "text": [
            "\r 88%|████████▊ | 462/525 [25:15<03:32,  3.37s/it]"
          ]
        },
        {
          "output_type": "stream",
          "name": "stdout",
          "text": [
            "tensor([[-0.1227, -0.3085],\n",
            "        [-1.5183,  1.4759],\n",
            "        [-2.0064,  1.4812],\n",
            "        [ 1.5923, -1.0213],\n",
            "        [-0.0032, -0.5111],\n",
            "        [-1.8502,  1.6452],\n",
            "        [-2.0129,  1.9352],\n",
            "        [-0.2741,  0.1863]], grad_fn=<AddmmBackward0>)\n",
            "tensor([1, 1, 1, 0, 1, 1, 1, 1])\n",
            "tensor([0, 1, 1, 0, 0, 1, 1, 1])\n"
          ]
        },
        {
          "output_type": "stream",
          "name": "stderr",
          "text": [
            "\r 88%|████████▊ | 463/525 [25:18<03:30,  3.39s/it]"
          ]
        },
        {
          "output_type": "stream",
          "name": "stdout",
          "text": [
            "tensor([[-1.7515,  1.9408],\n",
            "        [ 0.2915, -0.4839],\n",
            "        [-0.0718, -0.1508],\n",
            "        [-1.8351,  1.8004],\n",
            "        [ 0.6918, -0.7046],\n",
            "        [ 0.1097, -0.3603],\n",
            "        [-1.1640,  0.5058],\n",
            "        [ 1.7414, -1.0215]], grad_fn=<AddmmBackward0>)\n",
            "tensor([1, 1, 0, 1, 0, 0, 1, 0])\n",
            "tensor([1, 0, 0, 1, 0, 0, 1, 0])\n"
          ]
        },
        {
          "output_type": "stream",
          "name": "stderr",
          "text": [
            "\r 88%|████████▊ | 464/525 [25:21<03:22,  3.31s/it]"
          ]
        },
        {
          "output_type": "stream",
          "name": "stdout",
          "text": [
            "tensor([[-2.1315,  1.8850],\n",
            "        [ 0.7303, -0.8060],\n",
            "        [-1.9599,  1.9116],\n",
            "        [ 2.0710, -1.7241],\n",
            "        [ 1.6507, -1.3924],\n",
            "        [ 0.6562, -0.2256],\n",
            "        [-1.0669,  0.5572],\n",
            "        [ 1.7848, -1.4206]], grad_fn=<AddmmBackward0>)\n",
            "tensor([1, 0, 1, 0, 0, 0, 1, 0])\n",
            "tensor([1, 0, 1, 0, 0, 0, 1, 0])\n"
          ]
        },
        {
          "output_type": "stream",
          "name": "stderr",
          "text": [
            "\r 89%|████████▊ | 465/525 [25:25<03:25,  3.43s/it]"
          ]
        },
        {
          "output_type": "stream",
          "name": "stdout",
          "text": [
            "tensor([[-1.4045,  1.1160],\n",
            "        [-2.0854,  1.4914],\n",
            "        [-1.3808,  0.9025],\n",
            "        [-1.5569,  1.2972],\n",
            "        [-0.3231, -0.1585],\n",
            "        [-1.5904,  1.1944],\n",
            "        [-2.1916,  1.9032],\n",
            "        [ 0.4339, -0.4849]], grad_fn=<AddmmBackward0>)\n",
            "tensor([1, 1, 1, 1, 1, 1, 1, 0])\n",
            "tensor([1, 1, 1, 1, 1, 1, 1, 0])\n"
          ]
        },
        {
          "output_type": "stream",
          "name": "stderr",
          "text": [
            "\r 89%|████████▉ | 466/525 [25:28<03:18,  3.37s/it]"
          ]
        },
        {
          "output_type": "stream",
          "name": "stdout",
          "text": [
            "tensor([[-2.0132,  1.6996],\n",
            "        [-1.7431,  1.5935],\n",
            "        [-2.1613,  2.2020],\n",
            "        [-1.3005,  1.0094],\n",
            "        [-1.8418,  1.5776],\n",
            "        [-2.2181,  2.1278],\n",
            "        [ 0.9198, -0.6558],\n",
            "        [ 2.2325, -1.5919]], grad_fn=<AddmmBackward0>)\n",
            "tensor([1, 1, 1, 1, 1, 1, 0, 0])\n",
            "tensor([1, 1, 1, 1, 1, 1, 0, 0])\n"
          ]
        },
        {
          "output_type": "stream",
          "name": "stderr",
          "text": [
            "\r 89%|████████▉ | 467/525 [25:31<03:12,  3.32s/it]"
          ]
        },
        {
          "output_type": "stream",
          "name": "stdout",
          "text": [
            "tensor([[ 2.3638, -1.3368],\n",
            "        [ 0.6174, -0.4574],\n",
            "        [ 1.7672, -1.2449],\n",
            "        [-1.6847,  1.5914],\n",
            "        [ 1.0772, -0.6244],\n",
            "        [ 1.3540, -0.8387],\n",
            "        [-0.9703,  0.6478],\n",
            "        [ 1.6412, -1.2007]], grad_fn=<AddmmBackward0>)\n",
            "tensor([0, 0, 0, 1, 1, 0, 1, 0])\n",
            "tensor([0, 0, 0, 1, 0, 0, 1, 0])\n"
          ]
        },
        {
          "output_type": "stream",
          "name": "stderr",
          "text": [
            "\r 89%|████████▉ | 468/525 [25:35<03:09,  3.33s/it]"
          ]
        },
        {
          "output_type": "stream",
          "name": "stdout",
          "text": [
            "tensor([[ 0.3683, -0.4382],\n",
            "        [-1.9377,  1.6554],\n",
            "        [ 0.3949, -0.3088],\n",
            "        [ 1.6765, -1.2028],\n",
            "        [ 0.0391, -0.0802],\n",
            "        [ 1.5740, -1.0690],\n",
            "        [ 1.3838, -0.7595],\n",
            "        [ 1.6428, -1.2780]], grad_fn=<AddmmBackward0>)\n",
            "tensor([0, 1, 0, 0, 0, 0, 0, 0])\n",
            "tensor([0, 1, 0, 0, 0, 0, 0, 0])\n"
          ]
        },
        {
          "output_type": "stream",
          "name": "stderr",
          "text": [
            "\r 89%|████████▉ | 469/525 [25:38<03:12,  3.43s/it]"
          ]
        },
        {
          "output_type": "stream",
          "name": "stdout",
          "text": [
            "tensor([[ 2.2106, -1.7026],\n",
            "        [-2.1309,  1.9617],\n",
            "        [-0.7768,  0.5190],\n",
            "        [ 1.4007, -0.8085],\n",
            "        [ 1.7821, -1.5109],\n",
            "        [-2.2678,  1.5710],\n",
            "        [ 1.8684, -1.4878],\n",
            "        [ 0.9063, -0.8559]], grad_fn=<AddmmBackward0>)\n",
            "tensor([0, 1, 0, 0, 0, 0, 0, 0])\n",
            "tensor([0, 1, 1, 0, 0, 1, 0, 0])\n"
          ]
        },
        {
          "output_type": "stream",
          "name": "stderr",
          "text": [
            "\r 90%|████████▉ | 470/525 [25:42<03:10,  3.46s/it]"
          ]
        },
        {
          "output_type": "stream",
          "name": "stdout",
          "text": [
            "tensor([[ 0.9022, -0.6827],\n",
            "        [-1.7665,  1.1631],\n",
            "        [-1.1774,  0.6641],\n",
            "        [-2.1862,  2.2545],\n",
            "        [ 0.2382, -0.4923],\n",
            "        [ 1.2535, -0.7903],\n",
            "        [ 0.2272, -0.2901],\n",
            "        [ 1.5027, -1.2592]], grad_fn=<AddmmBackward0>)\n",
            "tensor([0, 1, 0, 1, 0, 0, 0, 0])\n",
            "tensor([0, 1, 1, 1, 0, 0, 0, 0])\n"
          ]
        },
        {
          "output_type": "stream",
          "name": "stderr",
          "text": [
            "\r 90%|████████▉ | 471/525 [25:45<03:03,  3.39s/it]"
          ]
        },
        {
          "output_type": "stream",
          "name": "stdout",
          "text": [
            "tensor([[ 2.3679, -1.5472],\n",
            "        [ 1.6981, -1.3585],\n",
            "        [-0.4816, -0.0106],\n",
            "        [-2.0576,  1.7072],\n",
            "        [-1.7843,  2.2429],\n",
            "        [-1.1582,  0.9275],\n",
            "        [ 1.7815, -1.6064],\n",
            "        [ 1.7519, -1.6552]], grad_fn=<AddmmBackward0>)\n",
            "tensor([0, 0, 1, 1, 1, 1, 0, 0])\n",
            "tensor([0, 0, 1, 1, 1, 1, 0, 0])\n"
          ]
        },
        {
          "output_type": "stream",
          "name": "stderr",
          "text": [
            "\r 90%|████████▉ | 472/525 [25:48<02:58,  3.38s/it]"
          ]
        },
        {
          "output_type": "stream",
          "name": "stdout",
          "text": [
            "tensor([[-1.3471,  1.1153],\n",
            "        [-1.5046,  1.3137],\n",
            "        [-0.9462,  0.7429],\n",
            "        [ 0.9060, -0.7796],\n",
            "        [-0.4238, -0.0586],\n",
            "        [-1.8193,  1.3503],\n",
            "        [-0.7649,  0.4844],\n",
            "        [-0.3613,  0.2023]], grad_fn=<AddmmBackward0>)\n",
            "tensor([1, 1, 1, 0, 1, 1, 1, 0])\n",
            "tensor([1, 1, 1, 0, 1, 1, 1, 1])\n"
          ]
        },
        {
          "output_type": "stream",
          "name": "stderr",
          "text": [
            "\r 90%|█████████ | 473/525 [25:52<03:02,  3.50s/it]"
          ]
        },
        {
          "output_type": "stream",
          "name": "stdout",
          "text": [
            "tensor([[ 0.3747, -0.2855],\n",
            "        [ 2.2341, -1.6442],\n",
            "        [ 0.4390, -0.4120],\n",
            "        [-1.7413,  1.2508],\n",
            "        [-0.7756,  0.2804],\n",
            "        [ 2.2359, -1.5442],\n",
            "        [-1.7041,  1.7499],\n",
            "        [ 2.1567, -1.6141]], grad_fn=<AddmmBackward0>)\n",
            "tensor([0, 0, 0, 1, 0, 0, 1, 0])\n",
            "tensor([0, 0, 0, 1, 1, 0, 1, 0])\n"
          ]
        },
        {
          "output_type": "stream",
          "name": "stderr",
          "text": [
            "\r 90%|█████████ | 474/525 [25:56<02:58,  3.50s/it]"
          ]
        },
        {
          "output_type": "stream",
          "name": "stdout",
          "text": [
            "tensor([[-1.8537,  1.6834],\n",
            "        [ 0.8288, -0.6430],\n",
            "        [ 2.1344, -1.8940],\n",
            "        [-0.0856, -0.1429],\n",
            "        [-0.7420,  0.0948],\n",
            "        [ 2.4193, -1.9273],\n",
            "        [ 2.3440, -1.6917],\n",
            "        [ 0.9739, -0.5812]], grad_fn=<AddmmBackward0>)\n",
            "tensor([1, 1, 0, 1, 1, 0, 0, 1])\n",
            "tensor([1, 0, 0, 0, 1, 0, 0, 0])\n"
          ]
        },
        {
          "output_type": "stream",
          "name": "stderr",
          "text": [
            "\r 90%|█████████ | 475/525 [25:59<02:49,  3.40s/it]"
          ]
        },
        {
          "output_type": "stream",
          "name": "stdout",
          "text": [
            "tensor([[ 2.4766, -1.9031],\n",
            "        [ 0.9119, -0.3282],\n",
            "        [-0.5148,  0.2018],\n",
            "        [ 2.6937, -2.4315],\n",
            "        [-1.1404,  0.7431],\n",
            "        [-2.3086,  2.0860],\n",
            "        [-2.2516,  2.2070],\n",
            "        [-2.3196,  2.2804]], grad_fn=<AddmmBackward0>)\n",
            "tensor([0, 0, 1, 0, 0, 1, 1, 1])\n",
            "tensor([0, 0, 1, 0, 1, 1, 1, 1])\n"
          ]
        },
        {
          "output_type": "stream",
          "name": "stderr",
          "text": [
            "\r 91%|█████████ | 476/525 [26:02<02:43,  3.34s/it]"
          ]
        },
        {
          "output_type": "stream",
          "name": "stdout",
          "text": [
            "tensor([[-0.6914, -0.0332],\n",
            "        [ 0.7333, -0.4182],\n",
            "        [-1.8147,  1.5514],\n",
            "        [-0.8477,  0.3215],\n",
            "        [ 2.0499, -1.6204],\n",
            "        [-2.3528,  2.3476],\n",
            "        [ 0.6922, -0.6757],\n",
            "        [ 1.2598, -0.9123]], grad_fn=<AddmmBackward0>)\n",
            "tensor([1, 0, 1, 0, 0, 1, 0, 0])\n",
            "tensor([1, 0, 1, 1, 0, 1, 0, 0])\n"
          ]
        },
        {
          "output_type": "stream",
          "name": "stderr",
          "text": [
            "\r 91%|█████████ | 477/525 [26:06<02:42,  3.39s/it]"
          ]
        },
        {
          "output_type": "stream",
          "name": "stdout",
          "text": [
            "tensor([[ 2.1448, -1.5868],\n",
            "        [ 1.8958, -1.5772],\n",
            "        [-1.4440,  1.2706],\n",
            "        [ 2.2296, -2.0381],\n",
            "        [-1.0921,  0.1901],\n",
            "        [ 1.0433, -0.6144],\n",
            "        [ 1.9922, -1.5960],\n",
            "        [-2.1471,  2.1346]], grad_fn=<AddmmBackward0>)\n",
            "tensor([0, 0, 1, 0, 1, 1, 0, 1])\n",
            "tensor([0, 0, 1, 0, 1, 0, 0, 1])\n"
          ]
        },
        {
          "output_type": "stream",
          "name": "stderr",
          "text": [
            "\r 91%|█████████ | 478/525 [26:09<02:38,  3.38s/it]"
          ]
        },
        {
          "output_type": "stream",
          "name": "stdout",
          "text": [
            "tensor([[-2.0119,  1.8073],\n",
            "        [-2.0421,  1.7946],\n",
            "        [ 2.4594, -1.7063],\n",
            "        [-2.0114,  1.5951],\n",
            "        [ 2.3925, -1.9878],\n",
            "        [-0.7588,  0.4088],\n",
            "        [ 2.2837, -1.7948],\n",
            "        [ 2.3735, -2.1138]], grad_fn=<AddmmBackward0>)\n",
            "tensor([1, 1, 0, 1, 0, 1, 0, 0])\n",
            "tensor([1, 1, 0, 1, 0, 1, 0, 0])\n"
          ]
        },
        {
          "output_type": "stream",
          "name": "stderr",
          "text": [
            "\r 91%|█████████ | 479/525 [26:12<02:32,  3.32s/it]"
          ]
        },
        {
          "output_type": "stream",
          "name": "stdout",
          "text": [
            "tensor([[ 2.3488, -1.5154],\n",
            "        [ 2.0046, -1.5277],\n",
            "        [-1.4578,  1.0575],\n",
            "        [-1.6904,  1.3781],\n",
            "        [ 0.6275, -0.4763],\n",
            "        [-1.0475,  0.6212],\n",
            "        [ 2.0939, -1.7353],\n",
            "        [ 2.3038, -1.6213]], grad_fn=<AddmmBackward0>)\n",
            "tensor([0, 0, 0, 1, 0, 0, 0, 0])\n",
            "tensor([0, 0, 1, 1, 0, 1, 0, 0])\n"
          ]
        },
        {
          "output_type": "stream",
          "name": "stderr",
          "text": [
            "\r 91%|█████████▏| 480/525 [26:15<02:28,  3.29s/it]"
          ]
        },
        {
          "output_type": "stream",
          "name": "stdout",
          "text": [
            "tensor([[-0.1076, -0.1823],\n",
            "        [ 0.5119, -0.7104],\n",
            "        [ 0.6999, -0.4787],\n",
            "        [-1.4805,  0.9272],\n",
            "        [ 1.7260, -1.1683],\n",
            "        [ 2.3551, -1.8903],\n",
            "        [ 1.3050, -0.8063],\n",
            "        [-1.2732,  1.1152]], grad_fn=<AddmmBackward0>)\n",
            "tensor([1, 0, 1, 1, 0, 0, 0, 1])\n",
            "tensor([0, 0, 0, 1, 0, 0, 0, 1])\n"
          ]
        },
        {
          "output_type": "stream",
          "name": "stderr",
          "text": [
            "\r 92%|█████████▏| 481/525 [26:19<02:26,  3.32s/it]"
          ]
        },
        {
          "output_type": "stream",
          "name": "stdout",
          "text": [
            "tensor([[ 1.5863, -1.0058],\n",
            "        [-1.4888,  1.0015],\n",
            "        [ 1.3769, -0.9693],\n",
            "        [-1.2118,  0.3354],\n",
            "        [ 2.2359, -1.9182],\n",
            "        [ 2.3532, -1.5487],\n",
            "        [ 2.2779, -1.7100],\n",
            "        [-0.9888,  0.4305]], grad_fn=<AddmmBackward0>)\n",
            "tensor([0, 1, 0, 1, 0, 0, 0, 1])\n",
            "tensor([0, 1, 0, 1, 0, 0, 0, 1])\n"
          ]
        },
        {
          "output_type": "stream",
          "name": "stderr",
          "text": [
            "\r 92%|█████████▏| 482/525 [26:22<02:25,  3.39s/it]"
          ]
        },
        {
          "output_type": "stream",
          "name": "stdout",
          "text": [
            "tensor([[-1.0100,  0.2769],\n",
            "        [ 1.0516, -0.9247],\n",
            "        [-0.5735,  0.1719],\n",
            "        [ 1.6387, -1.1098],\n",
            "        [ 0.8654, -0.7817],\n",
            "        [ 1.9178, -1.5793],\n",
            "        [-0.2812, -0.0137],\n",
            "        [-1.3686,  0.8150]], grad_fn=<AddmmBackward0>)\n",
            "tensor([1, 1, 1, 0, 1, 0, 1, 1])\n",
            "tensor([1, 0, 1, 0, 0, 0, 1, 1])\n"
          ]
        },
        {
          "output_type": "stream",
          "name": "stderr",
          "text": [
            "\r 92%|█████████▏| 483/525 [26:25<02:19,  3.32s/it]"
          ]
        },
        {
          "output_type": "stream",
          "name": "stdout",
          "text": [
            "tensor([[-1.3882,  0.8783],\n",
            "        [ 2.7160, -2.0168],\n",
            "        [-1.5733,  1.1730],\n",
            "        [-1.8496,  1.5760],\n",
            "        [-0.5393,  0.0529],\n",
            "        [ 2.6546, -1.9096],\n",
            "        [-0.3248, -0.0637],\n",
            "        [-0.9975,  0.5726]], grad_fn=<AddmmBackward0>)\n",
            "tensor([1, 0, 1, 1, 0, 0, 1, 1])\n",
            "tensor([1, 0, 1, 1, 1, 0, 1, 1])\n"
          ]
        },
        {
          "output_type": "stream",
          "name": "stderr",
          "text": [
            "\r 92%|█████████▏| 484/525 [26:29<02:16,  3.32s/it]"
          ]
        },
        {
          "output_type": "stream",
          "name": "stdout",
          "text": [
            "tensor([[ 0.5835, -0.4750],\n",
            "        [-0.3409, -0.0095],\n",
            "        [-1.3210,  0.8407],\n",
            "        [ 0.7401, -0.3992],\n",
            "        [-1.0849,  0.8430],\n",
            "        [-1.1248,  0.6784],\n",
            "        [ 1.8076, -1.5196],\n",
            "        [ 1.5045, -0.6466]], grad_fn=<AddmmBackward0>)\n",
            "tensor([1, 1, 1, 0, 1, 1, 0, 0])\n",
            "tensor([0, 1, 1, 0, 1, 1, 0, 0])\n"
          ]
        },
        {
          "output_type": "stream",
          "name": "stderr",
          "text": [
            "\r 92%|█████████▏| 485/525 [26:31<02:05,  3.14s/it]"
          ]
        },
        {
          "output_type": "stream",
          "name": "stdout",
          "text": [
            "tensor([[ 2.1618, -1.5976],\n",
            "        [-1.7517,  1.3378],\n",
            "        [-1.6583,  1.4772],\n",
            "        [ 1.0611, -0.7796],\n",
            "        [ 0.0233, -0.2515],\n",
            "        [-1.3147,  0.4952],\n",
            "        [ 1.3611, -1.1639],\n",
            "        [ 0.2252, -0.3754]], grad_fn=<AddmmBackward0>)\n",
            "tensor([0, 1, 1, 0, 1, 1, 0, 1])\n",
            "tensor([0, 1, 1, 0, 0, 1, 0, 0])\n"
          ]
        },
        {
          "output_type": "stream",
          "name": "stderr",
          "text": [
            "\r 93%|█████████▎| 486/525 [26:35<02:06,  3.25s/it]"
          ]
        },
        {
          "output_type": "stream",
          "name": "stdout",
          "text": [
            "tensor([[-2.2012,  1.9681],\n",
            "        [-0.6891,  0.1774],\n",
            "        [ 0.7658, -0.3346],\n",
            "        [ 0.9360, -0.7267],\n",
            "        [-0.3592,  0.0785],\n",
            "        [ 2.3026, -1.3061],\n",
            "        [ 0.1793, -0.2567],\n",
            "        [-1.5657,  1.0462]], grad_fn=<AddmmBackward0>)\n",
            "tensor([1, 0, 0, 0, 0, 0, 1, 1])\n",
            "tensor([1, 1, 0, 0, 1, 0, 0, 1])\n"
          ]
        },
        {
          "output_type": "stream",
          "name": "stderr",
          "text": [
            "\r 93%|█████████▎| 487/525 [26:39<02:07,  3.36s/it]"
          ]
        },
        {
          "output_type": "stream",
          "name": "stdout",
          "text": [
            "tensor([[ 2.2662, -1.9767],\n",
            "        [-1.6741,  1.3566],\n",
            "        [ 0.1712, -0.3792],\n",
            "        [ 0.3358, -0.3582],\n",
            "        [-1.7703,  1.5145],\n",
            "        [-1.5660,  1.0611],\n",
            "        [-1.4667,  1.1456],\n",
            "        [-1.0749,  0.6392]], grad_fn=<AddmmBackward0>)\n",
            "tensor([0, 1, 0, 0, 1, 1, 1, 0])\n",
            "tensor([0, 1, 0, 0, 1, 1, 1, 1])\n"
          ]
        },
        {
          "output_type": "stream",
          "name": "stderr",
          "text": [
            "\r 93%|█████████▎| 488/525 [26:42<02:04,  3.38s/it]"
          ]
        },
        {
          "output_type": "stream",
          "name": "stdout",
          "text": [
            "tensor([[ 0.9596, -0.4891],\n",
            "        [-2.2051,  1.8988],\n",
            "        [-0.1283, -0.3515],\n",
            "        [-0.6738,  0.3071],\n",
            "        [ 1.1528, -0.9954],\n",
            "        [-1.3763,  1.1602],\n",
            "        [-1.2676,  0.8075],\n",
            "        [-1.4396,  1.0383]], grad_fn=<AddmmBackward0>)\n",
            "tensor([0, 1, 0, 1, 0, 0, 0, 1])\n",
            "tensor([0, 1, 0, 1, 0, 1, 1, 1])\n"
          ]
        },
        {
          "output_type": "stream",
          "name": "stderr",
          "text": [
            "\r 93%|█████████▎| 489/525 [26:45<02:00,  3.36s/it]"
          ]
        },
        {
          "output_type": "stream",
          "name": "stdout",
          "text": [
            "tensor([[ 0.1430, -0.1158],\n",
            "        [ 0.2402, -0.3216],\n",
            "        [ 0.2210, -0.5005],\n",
            "        [-0.7034,  0.4082],\n",
            "        [-1.9802,  1.6280],\n",
            "        [ 1.3174, -0.9340],\n",
            "        [-0.7041,  0.6530],\n",
            "        [-1.2866,  0.9238]], grad_fn=<AddmmBackward0>)\n",
            "tensor([0, 1, 0, 0, 1, 0, 1, 1])\n",
            "tensor([0, 0, 0, 1, 1, 0, 1, 1])\n"
          ]
        },
        {
          "output_type": "stream",
          "name": "stderr",
          "text": [
            "\r 93%|█████████▎| 490/525 [26:49<01:58,  3.38s/it]"
          ]
        },
        {
          "output_type": "stream",
          "name": "stdout",
          "text": [
            "tensor([[ 2.0028, -1.4366],\n",
            "        [-1.9659,  1.8812],\n",
            "        [ 0.1746, -0.4503],\n",
            "        [-1.5225,  1.0237],\n",
            "        [-0.5305,  0.5017],\n",
            "        [ 1.9811, -1.6699],\n",
            "        [-0.9403,  0.5482],\n",
            "        [-0.2759,  0.0140]], grad_fn=<AddmmBackward0>)\n",
            "tensor([0, 1, 0, 1, 0, 0, 1, 0])\n",
            "tensor([0, 1, 0, 1, 1, 0, 1, 1])\n"
          ]
        },
        {
          "output_type": "stream",
          "name": "stderr",
          "text": [
            "\r 94%|█████████▎| 491/525 [26:52<01:57,  3.47s/it]"
          ]
        },
        {
          "output_type": "stream",
          "name": "stdout",
          "text": [
            "tensor([[ 1.7317, -1.2084],\n",
            "        [-2.0903,  1.4668],\n",
            "        [ 0.2048, -0.3779],\n",
            "        [ 1.7200, -1.5572],\n",
            "        [-1.8305,  1.4429],\n",
            "        [ 0.4299, -0.4736],\n",
            "        [-1.8565,  1.4204],\n",
            "        [-1.9766,  1.8025]], grad_fn=<AddmmBackward0>)\n",
            "tensor([0, 1, 1, 0, 1, 0, 1, 1])\n",
            "tensor([0, 1, 0, 0, 1, 0, 1, 1])\n"
          ]
        },
        {
          "output_type": "stream",
          "name": "stderr",
          "text": [
            "\r 94%|█████████▎| 492/525 [26:56<01:53,  3.44s/it]"
          ]
        },
        {
          "output_type": "stream",
          "name": "stdout",
          "text": [
            "tensor([[-0.3864, -0.1367],\n",
            "        [ 2.6685, -2.3331],\n",
            "        [-0.2397, -0.2679],\n",
            "        [-1.9300,  1.8865],\n",
            "        [-0.4909,  0.3750],\n",
            "        [-1.7587,  1.3750],\n",
            "        [ 2.4764, -1.9115],\n",
            "        [-1.1943,  0.7014]], grad_fn=<AddmmBackward0>)\n",
            "tensor([0, 0, 0, 1, 0, 1, 0, 1])\n",
            "tensor([1, 0, 0, 1, 1, 1, 0, 1])\n"
          ]
        },
        {
          "output_type": "stream",
          "name": "stderr",
          "text": [
            "\r 94%|█████████▍| 493/525 [26:59<01:50,  3.45s/it]"
          ]
        },
        {
          "output_type": "stream",
          "name": "stdout",
          "text": [
            "tensor([[ 0.1556, -0.3708],\n",
            "        [ 2.1489, -1.9505],\n",
            "        [ 2.2921, -2.0742],\n",
            "        [-1.7858,  1.3648],\n",
            "        [-0.9722,  0.5017],\n",
            "        [ 1.2445, -0.7067],\n",
            "        [-0.9599,  0.7627],\n",
            "        [ 2.3710, -1.9894]], grad_fn=<AddmmBackward0>)\n",
            "tensor([0, 0, 0, 1, 1, 0, 1, 0])\n",
            "tensor([0, 0, 0, 1, 1, 0, 1, 0])\n"
          ]
        },
        {
          "output_type": "stream",
          "name": "stderr",
          "text": [
            "\r 94%|█████████▍| 494/525 [27:03<01:45,  3.42s/it]"
          ]
        },
        {
          "output_type": "stream",
          "name": "stdout",
          "text": [
            "tensor([[-0.0691, -0.1354],\n",
            "        [-1.6329,  1.2015],\n",
            "        [-0.9596,  0.7189],\n",
            "        [ 2.3850, -1.9710],\n",
            "        [ 0.7131, -0.5619],\n",
            "        [-0.5147, -0.1014],\n",
            "        [-0.3234, -0.3829],\n",
            "        [-0.7603,  0.1159]], grad_fn=<AddmmBackward0>)\n",
            "tensor([1, 1, 1, 0, 0, 1, 1, 1])\n",
            "tensor([0, 1, 1, 0, 0, 1, 0, 1])\n"
          ]
        },
        {
          "output_type": "stream",
          "name": "stderr",
          "text": [
            "\r 94%|█████████▍| 495/525 [27:06<01:45,  3.50s/it]"
          ]
        },
        {
          "output_type": "stream",
          "name": "stdout",
          "text": [
            "tensor([[-1.9473,  1.7591],\n",
            "        [-0.7141,  0.3377],\n",
            "        [-0.8608,  0.4506],\n",
            "        [-0.4739, -0.0381],\n",
            "        [-0.2807, -0.0364],\n",
            "        [-1.4613,  1.2282],\n",
            "        [ 2.4341, -2.0053],\n",
            "        [-1.1526,  0.4669]], grad_fn=<AddmmBackward0>)\n",
            "tensor([1, 1, 1, 1, 1, 1, 0, 1])\n",
            "tensor([1, 1, 1, 1, 1, 1, 0, 1])\n"
          ]
        },
        {
          "output_type": "stream",
          "name": "stderr",
          "text": [
            "\r 94%|█████████▍| 496/525 [27:09<01:35,  3.28s/it]"
          ]
        },
        {
          "output_type": "stream",
          "name": "stdout",
          "text": [
            "tensor([[ 1.8941, -1.5997],\n",
            "        [ 2.6849, -2.1880],\n",
            "        [-1.9280,  1.5268],\n",
            "        [ 0.0443, -0.0444],\n",
            "        [ 2.3823, -1.9070],\n",
            "        [-1.5668,  1.0387],\n",
            "        [ 0.3889, -0.6553],\n",
            "        [-1.1419,  0.5600]], grad_fn=<AddmmBackward0>)\n",
            "tensor([0, 0, 1, 0, 0, 1, 1, 1])\n",
            "tensor([0, 0, 1, 0, 0, 1, 0, 1])\n"
          ]
        },
        {
          "output_type": "stream",
          "name": "stderr",
          "text": [
            "\r 95%|█████████▍| 497/525 [27:12<01:31,  3.27s/it]"
          ]
        },
        {
          "output_type": "stream",
          "name": "stdout",
          "text": [
            "tensor([[-1.0131,  0.6481],\n",
            "        [ 2.0714, -1.9781],\n",
            "        [ 0.8010, -0.9891],\n",
            "        [ 0.0510, -0.5512],\n",
            "        [-0.8199,  0.8230],\n",
            "        [ 0.7944, -0.8882],\n",
            "        [-0.8969,  0.5848],\n",
            "        [ 2.4031, -1.6894]], grad_fn=<AddmmBackward0>)\n",
            "tensor([1, 0, 0, 0, 1, 0, 1, 0])\n",
            "tensor([1, 0, 0, 0, 1, 0, 1, 0])\n"
          ]
        },
        {
          "output_type": "stream",
          "name": "stderr",
          "text": [
            "\r 95%|█████████▍| 498/525 [27:15<01:23,  3.11s/it]"
          ]
        },
        {
          "output_type": "stream",
          "name": "stdout",
          "text": [
            "tensor([[-0.3141, -0.0129],\n",
            "        [-1.0583,  0.6894],\n",
            "        [-1.2438,  0.9445],\n",
            "        [-0.6929,  0.4021],\n",
            "        [-0.3450,  0.1403],\n",
            "        [ 2.7076, -2.2195],\n",
            "        [-0.8396,  0.4916],\n",
            "        [-2.1736,  2.0467]], grad_fn=<AddmmBackward0>)\n",
            "tensor([1, 1, 1, 1, 1, 0, 1, 1])\n",
            "tensor([1, 1, 1, 1, 1, 0, 1, 1])\n"
          ]
        },
        {
          "output_type": "stream",
          "name": "stderr",
          "text": [
            "\r 95%|█████████▌| 499/525 [27:19<01:23,  3.22s/it]"
          ]
        },
        {
          "output_type": "stream",
          "name": "stdout",
          "text": [
            "tensor([[-0.5027,  0.1836],\n",
            "        [-1.7470,  1.3569],\n",
            "        [ 2.3176, -1.9230],\n",
            "        [-1.8612,  1.0998],\n",
            "        [-1.0054,  0.6076],\n",
            "        [-0.6653,  0.2685],\n",
            "        [ 1.3498, -1.2047],\n",
            "        [-1.4209,  1.2493]], grad_fn=<AddmmBackward0>)\n",
            "tensor([0, 1, 0, 1, 1, 1, 0, 1])\n",
            "tensor([1, 1, 0, 1, 1, 1, 0, 1])\n"
          ]
        },
        {
          "output_type": "stream",
          "name": "stderr",
          "text": [
            "\r 95%|█████████▌| 500/525 [27:22<01:23,  3.34s/it]"
          ]
        },
        {
          "output_type": "stream",
          "name": "stdout",
          "text": [
            "tensor([[-0.8657,  0.1938],\n",
            "        [ 1.8884, -1.6923],\n",
            "        [-0.9859,  0.3423],\n",
            "        [-0.5063,  0.3187],\n",
            "        [-0.0903, -0.0405],\n",
            "        [-1.6603,  1.4285],\n",
            "        [-2.0401,  2.3828],\n",
            "        [-0.1804, -0.0398]], grad_fn=<AddmmBackward0>)\n",
            "tensor([1, 0, 1, 1, 1, 1, 1, 1])\n",
            "tensor([1, 0, 1, 1, 1, 1, 1, 1])\n"
          ]
        },
        {
          "output_type": "stream",
          "name": "stderr",
          "text": [
            "\r 95%|█████████▌| 501/525 [27:26<01:20,  3.36s/it]"
          ]
        },
        {
          "output_type": "stream",
          "name": "stdout",
          "text": [
            "tensor([[-1.7306,  1.2808],\n",
            "        [-0.4995, -0.0865],\n",
            "        [ 2.5711, -2.4684],\n",
            "        [ 0.7050, -0.6861],\n",
            "        [-1.2109,  0.7409],\n",
            "        [ 2.1000, -1.9085],\n",
            "        [ 0.5821, -0.2985],\n",
            "        [ 0.6990, -0.7062]], grad_fn=<AddmmBackward0>)\n",
            "tensor([1, 0, 0, 0, 0, 0, 0, 0])\n",
            "tensor([1, 1, 0, 0, 1, 0, 0, 0])\n"
          ]
        },
        {
          "output_type": "stream",
          "name": "stderr",
          "text": [
            "\r 96%|█████████▌| 502/525 [27:29<01:17,  3.38s/it]"
          ]
        },
        {
          "output_type": "stream",
          "name": "stdout",
          "text": [
            "tensor([[-2.0386,  1.9574],\n",
            "        [ 0.9457, -0.8746],\n",
            "        [-0.9068,  0.2337],\n",
            "        [-0.9773,  0.6116],\n",
            "        [ 2.7526, -2.3016],\n",
            "        [-2.2488,  1.9831],\n",
            "        [ 1.5093, -1.4379],\n",
            "        [ 0.2484, -0.3178]], grad_fn=<AddmmBackward0>)\n",
            "tensor([1, 0, 1, 1, 0, 1, 0, 1])\n",
            "tensor([1, 0, 1, 1, 0, 1, 0, 0])\n"
          ]
        },
        {
          "output_type": "stream",
          "name": "stderr",
          "text": [
            "\r 96%|█████████▌| 503/525 [27:33<01:15,  3.43s/it]"
          ]
        },
        {
          "output_type": "stream",
          "name": "stdout",
          "text": [
            "tensor([[-2.3166,  2.2060],\n",
            "        [ 0.4365, -0.7262],\n",
            "        [ 0.0438, -0.4569],\n",
            "        [-1.8317,  1.5133],\n",
            "        [ 2.3269, -2.1669],\n",
            "        [ 2.0516, -1.9487],\n",
            "        [-0.9048,  0.4578],\n",
            "        [-1.0089,  0.5990]], grad_fn=<AddmmBackward0>)\n",
            "tensor([1, 0, 0, 1, 0, 0, 1, 1])\n",
            "tensor([1, 0, 0, 1, 0, 0, 1, 1])\n"
          ]
        },
        {
          "output_type": "stream",
          "name": "stderr",
          "text": [
            "\r 96%|█████████▌| 504/525 [27:36<01:13,  3.51s/it]"
          ]
        },
        {
          "output_type": "stream",
          "name": "stdout",
          "text": [
            "tensor([[-0.6512,  0.0482],\n",
            "        [-2.3891,  2.4544],\n",
            "        [-1.5097,  1.0266],\n",
            "        [-1.1405,  0.4999],\n",
            "        [ 1.5719, -1.3323],\n",
            "        [-0.8743,  0.2912],\n",
            "        [ 2.8164, -2.5577],\n",
            "        [ 2.1232, -2.2699]], grad_fn=<AddmmBackward0>)\n",
            "tensor([1, 1, 1, 1, 0, 1, 0, 0])\n",
            "tensor([1, 1, 1, 1, 0, 1, 0, 0])\n"
          ]
        },
        {
          "output_type": "stream",
          "name": "stderr",
          "text": [
            "\r 96%|█████████▌| 505/525 [27:40<01:09,  3.46s/it]"
          ]
        },
        {
          "output_type": "stream",
          "name": "stdout",
          "text": [
            "tensor([[ 2.1048, -1.8711],\n",
            "        [ 0.3089, -0.7847],\n",
            "        [ 0.2571, -0.4604],\n",
            "        [-1.0858,  0.6789],\n",
            "        [ 2.3023, -2.6174],\n",
            "        [-0.8799,  0.5463],\n",
            "        [-0.3653, -0.0658],\n",
            "        [-2.2180,  1.8593]], grad_fn=<AddmmBackward0>)\n",
            "tensor([0, 0, 1, 1, 0, 1, 1, 1])\n",
            "tensor([0, 0, 0, 1, 0, 1, 1, 1])\n"
          ]
        },
        {
          "output_type": "stream",
          "name": "stderr",
          "text": [
            "\r 96%|█████████▋| 506/525 [27:43<01:05,  3.45s/it]"
          ]
        },
        {
          "output_type": "stream",
          "name": "stdout",
          "text": [
            "tensor([[-2.2189,  2.2591],\n",
            "        [ 1.6327, -1.3478],\n",
            "        [-1.2404,  0.7027],\n",
            "        [-0.7608,  0.6354],\n",
            "        [-0.2381, -0.2656],\n",
            "        [-1.7275,  1.7484],\n",
            "        [-1.8553,  1.3939],\n",
            "        [-2.3521,  2.2499]], grad_fn=<AddmmBackward0>)\n",
            "tensor([1, 0, 1, 1, 0, 1, 1, 1])\n",
            "tensor([1, 0, 1, 1, 0, 1, 1, 1])\n"
          ]
        },
        {
          "output_type": "stream",
          "name": "stderr",
          "text": [
            "\r 97%|█████████▋| 507/525 [27:46<01:01,  3.44s/it]"
          ]
        },
        {
          "output_type": "stream",
          "name": "stdout",
          "text": [
            "tensor([[ 1.4661, -1.3116],\n",
            "        [-2.2806,  2.0817],\n",
            "        [-1.5629,  0.7768],\n",
            "        [ 1.2138, -1.1957],\n",
            "        [-2.3932,  2.2882],\n",
            "        [-1.1778,  0.2886],\n",
            "        [-1.9373,  1.6621],\n",
            "        [-0.4101,  0.0403]], grad_fn=<AddmmBackward0>)\n",
            "tensor([0, 1, 1, 1, 1, 1, 1, 0])\n",
            "tensor([0, 1, 1, 0, 1, 1, 1, 1])\n"
          ]
        },
        {
          "output_type": "stream",
          "name": "stderr",
          "text": [
            "\r 97%|█████████▋| 508/525 [27:50<00:58,  3.47s/it]"
          ]
        },
        {
          "output_type": "stream",
          "name": "stdout",
          "text": [
            "tensor([[-2.0325,  1.9224],\n",
            "        [ 2.4521, -2.2957],\n",
            "        [ 0.2856, -1.0810],\n",
            "        [-2.3419,  2.1747],\n",
            "        [-1.7140,  1.5527],\n",
            "        [-1.6957,  1.1727],\n",
            "        [-0.4456, -0.0805],\n",
            "        [ 0.8147, -0.8970]], grad_fn=<AddmmBackward0>)\n",
            "tensor([1, 0, 0, 1, 1, 1, 1, 0])\n",
            "tensor([1, 0, 0, 1, 1, 1, 1, 0])\n"
          ]
        },
        {
          "output_type": "stream",
          "name": "stderr",
          "text": [
            "\r 97%|█████████▋| 509/525 [27:53<00:54,  3.41s/it]"
          ]
        },
        {
          "output_type": "stream",
          "name": "stdout",
          "text": [
            "tensor([[-2.2112,  1.8371],\n",
            "        [-2.2901,  1.8935],\n",
            "        [ 0.3657, -0.5300],\n",
            "        [ 2.6749, -2.5729],\n",
            "        [ 0.9475, -0.8129],\n",
            "        [ 1.9534, -1.8654],\n",
            "        [-2.2370,  2.1266],\n",
            "        [-2.3783,  2.4775]], grad_fn=<AddmmBackward0>)\n",
            "tensor([1, 1, 0, 0, 0, 0, 1, 1])\n",
            "tensor([1, 1, 0, 0, 0, 0, 1, 1])\n"
          ]
        },
        {
          "output_type": "stream",
          "name": "stderr",
          "text": [
            "\r 97%|█████████▋| 510/525 [27:56<00:49,  3.29s/it]"
          ]
        },
        {
          "output_type": "stream",
          "name": "stdout",
          "text": [
            "tensor([[ 1.9945, -2.0420],\n",
            "        [-2.2830,  2.1227],\n",
            "        [ 0.9759, -1.1315],\n",
            "        [-0.9138,  0.6025],\n",
            "        [-2.2593,  2.0495],\n",
            "        [ 2.2182, -2.1145],\n",
            "        [-0.5369,  0.1510],\n",
            "        [-1.3301,  1.2928]], grad_fn=<AddmmBackward0>)\n",
            "tensor([0, 1, 0, 1, 1, 0, 0, 1])\n",
            "tensor([0, 1, 0, 1, 1, 0, 1, 1])\n"
          ]
        },
        {
          "output_type": "stream",
          "name": "stderr",
          "text": [
            "\r 97%|█████████▋| 511/525 [28:00<00:46,  3.32s/it]"
          ]
        },
        {
          "output_type": "stream",
          "name": "stdout",
          "text": [
            "tensor([[-2.6346,  2.4645],\n",
            "        [-1.8736,  1.1598],\n",
            "        [-2.6443,  2.5964],\n",
            "        [-2.4331,  2.6311],\n",
            "        [-2.4995,  2.3876],\n",
            "        [-1.0904,  0.6225],\n",
            "        [ 0.2165, -0.7479],\n",
            "        [-1.7291,  1.3501]], grad_fn=<AddmmBackward0>)\n",
            "tensor([1, 1, 1, 1, 1, 0, 0, 0])\n",
            "tensor([1, 1, 1, 1, 1, 1, 0, 1])\n"
          ]
        },
        {
          "output_type": "stream",
          "name": "stderr",
          "text": [
            "\r 98%|█████████▊| 512/525 [28:03<00:44,  3.39s/it]"
          ]
        },
        {
          "output_type": "stream",
          "name": "stdout",
          "text": [
            "tensor([[ 1.1976, -1.0506],\n",
            "        [-0.5693,  0.0686],\n",
            "        [ 2.8886, -2.8242],\n",
            "        [ 2.7725, -2.8154],\n",
            "        [-2.5449,  2.3133],\n",
            "        [-2.6158,  2.3499],\n",
            "        [-2.5583,  2.4371],\n",
            "        [-2.3232,  2.0802]], grad_fn=<AddmmBackward0>)\n",
            "tensor([0, 0, 0, 0, 1, 1, 1, 1])\n",
            "tensor([0, 1, 0, 0, 1, 1, 1, 1])\n"
          ]
        },
        {
          "output_type": "stream",
          "name": "stderr",
          "text": [
            "\r 98%|█████████▊| 513/525 [28:06<00:40,  3.35s/it]"
          ]
        },
        {
          "output_type": "stream",
          "name": "stdout",
          "text": [
            "tensor([[-2.3840,  2.1166],\n",
            "        [-0.7009,  0.1729],\n",
            "        [-0.9651,  0.7340],\n",
            "        [-2.4915,  2.4640],\n",
            "        [ 2.8693, -2.5092],\n",
            "        [-2.2755,  2.2143],\n",
            "        [-2.4984,  2.2038],\n",
            "        [ 2.6076, -2.1140]], grad_fn=<AddmmBackward0>)\n",
            "tensor([1, 1, 1, 1, 0, 1, 1, 0])\n",
            "tensor([1, 1, 1, 1, 0, 1, 1, 0])\n"
          ]
        },
        {
          "output_type": "stream",
          "name": "stderr",
          "text": [
            "\r 98%|█████████▊| 514/525 [28:10<00:37,  3.37s/it]"
          ]
        },
        {
          "output_type": "stream",
          "name": "stdout",
          "text": [
            "tensor([[ 2.1903, -2.3143],\n",
            "        [-1.9718,  1.8567],\n",
            "        [ 2.1420, -2.0174],\n",
            "        [ 2.9426, -2.4844],\n",
            "        [-0.3183, -0.1657],\n",
            "        [ 2.9191, -2.4860],\n",
            "        [-2.4862,  2.1392],\n",
            "        [ 2.8124, -2.9030]], grad_fn=<AddmmBackward0>)\n",
            "tensor([0, 1, 0, 0, 0, 0, 1, 0])\n",
            "tensor([0, 1, 0, 0, 1, 0, 1, 0])\n"
          ]
        },
        {
          "output_type": "stream",
          "name": "stderr",
          "text": [
            "\r 98%|█████████▊| 515/525 [28:13<00:33,  3.32s/it]"
          ]
        },
        {
          "output_type": "stream",
          "name": "stdout",
          "text": [
            "tensor([[ 2.7806, -2.7370],\n",
            "        [ 1.0720, -1.3746],\n",
            "        [-2.0980,  1.7629],\n",
            "        [ 2.7020, -2.8371],\n",
            "        [-2.5748,  2.3926],\n",
            "        [ 2.6946, -2.3473],\n",
            "        [ 2.8086, -2.5018],\n",
            "        [ 0.9428, -0.9039]], grad_fn=<AddmmBackward0>)\n",
            "tensor([0, 0, 1, 0, 1, 0, 0, 1])\n",
            "tensor([0, 0, 1, 0, 1, 0, 0, 0])\n"
          ]
        },
        {
          "output_type": "stream",
          "name": "stderr",
          "text": [
            "\r 98%|█████████▊| 516/525 [28:16<00:29,  3.32s/it]"
          ]
        },
        {
          "output_type": "stream",
          "name": "stdout",
          "text": [
            "tensor([[ 2.1646, -2.0831],\n",
            "        [-2.5087,  2.2715],\n",
            "        [-2.1657,  2.1468],\n",
            "        [-1.9133,  1.8592],\n",
            "        [-2.6228,  2.4796],\n",
            "        [ 2.9054, -2.5917],\n",
            "        [-1.2955,  0.7022],\n",
            "        [ 2.7385, -2.6448]], grad_fn=<AddmmBackward0>)\n",
            "tensor([0, 1, 1, 1, 1, 0, 1, 0])\n",
            "tensor([0, 1, 1, 1, 1, 0, 1, 0])\n"
          ]
        },
        {
          "output_type": "stream",
          "name": "stderr",
          "text": [
            "\r 98%|█████████▊| 517/525 [28:20<00:26,  3.33s/it]"
          ]
        },
        {
          "output_type": "stream",
          "name": "stdout",
          "text": [
            "tensor([[ 3.7543e-04, -2.7632e-01],\n",
            "        [ 2.6078e+00, -2.4595e+00],\n",
            "        [ 2.6559e+00, -2.4975e+00],\n",
            "        [ 1.3148e+00, -1.1779e+00],\n",
            "        [ 6.2579e-01, -8.4497e-01],\n",
            "        [-2.2213e+00,  1.9157e+00],\n",
            "        [ 3.0465e+00, -2.9615e+00],\n",
            "        [ 2.9053e+00, -2.8238e+00]], grad_fn=<AddmmBackward0>)\n",
            "tensor([1, 0, 0, 0, 0, 1, 0, 0])\n",
            "tensor([0, 0, 0, 0, 0, 1, 0, 0])\n"
          ]
        },
        {
          "output_type": "stream",
          "name": "stderr",
          "text": [
            "\r 99%|█████████▊| 518/525 [28:23<00:23,  3.30s/it]"
          ]
        },
        {
          "output_type": "stream",
          "name": "stdout",
          "text": [
            "tensor([[ 0.5371, -0.5755],\n",
            "        [-2.6109,  2.3288],\n",
            "        [-2.1870,  2.0845],\n",
            "        [-1.3261,  0.9819],\n",
            "        [-2.6439,  2.3884],\n",
            "        [-2.3614,  2.5925],\n",
            "        [ 2.7928, -2.6582],\n",
            "        [ 2.6926, -2.7353]], grad_fn=<AddmmBackward0>)\n",
            "tensor([1, 1, 1, 1, 1, 1, 0, 0])\n",
            "tensor([0, 1, 1, 1, 1, 1, 0, 0])\n"
          ]
        },
        {
          "output_type": "stream",
          "name": "stderr",
          "text": [
            "\r 99%|█████████▉| 519/525 [28:26<00:19,  3.26s/it]"
          ]
        },
        {
          "output_type": "stream",
          "name": "stdout",
          "text": [
            "tensor([[ 2.7068, -2.5775],\n",
            "        [-2.3090,  2.7014],\n",
            "        [-2.5495,  2.3512],\n",
            "        [ 2.6980, -2.6628],\n",
            "        [ 1.7511, -1.5591],\n",
            "        [ 1.3520, -1.7338],\n",
            "        [ 2.7943, -2.7008],\n",
            "        [-2.5616,  2.5812]], grad_fn=<AddmmBackward0>)\n",
            "tensor([0, 1, 1, 0, 1, 0, 0, 1])\n",
            "tensor([0, 1, 1, 0, 0, 0, 0, 1])\n"
          ]
        },
        {
          "output_type": "stream",
          "name": "stderr",
          "text": [
            "\r 99%|█████████▉| 520/525 [28:30<00:16,  3.32s/it]"
          ]
        },
        {
          "output_type": "stream",
          "name": "stdout",
          "text": [
            "tensor([[-2.0917,  1.6457],\n",
            "        [-2.6762,  2.3937],\n",
            "        [-2.6356,  2.2142],\n",
            "        [-0.7709,  0.3930],\n",
            "        [ 2.8677, -2.9166],\n",
            "        [-2.4442,  2.4444],\n",
            "        [-2.6932,  2.5597],\n",
            "        [-2.6824,  2.2721]], grad_fn=<AddmmBackward0>)\n",
            "tensor([1, 1, 1, 0, 0, 1, 1, 1])\n",
            "tensor([1, 1, 1, 1, 0, 1, 1, 1])\n"
          ]
        },
        {
          "output_type": "stream",
          "name": "stderr",
          "text": [
            "\r 99%|█████████▉| 521/525 [28:33<00:13,  3.38s/it]"
          ]
        },
        {
          "output_type": "stream",
          "name": "stdout",
          "text": [
            "tensor([[ 0.3943, -0.7896],\n",
            "        [-2.5711,  2.4221],\n",
            "        [ 0.9907, -1.1676],\n",
            "        [-1.6192,  1.1392],\n",
            "        [-0.4554,  0.3401],\n",
            "        [ 0.7618, -0.8147],\n",
            "        [ 0.0401, -0.3702],\n",
            "        [ 2.9162, -3.0407]], grad_fn=<AddmmBackward0>)\n",
            "tensor([0, 1, 0, 0, 0, 0, 1, 0])\n",
            "tensor([0, 1, 0, 1, 1, 0, 0, 0])\n"
          ]
        },
        {
          "output_type": "stream",
          "name": "stderr",
          "text": [
            "\r 99%|█████████▉| 522/525 [28:36<00:09,  3.33s/it]"
          ]
        },
        {
          "output_type": "stream",
          "name": "stdout",
          "text": [
            "tensor([[-1.0794,  0.9181],\n",
            "        [ 2.8828, -2.7618],\n",
            "        [-2.6195,  2.3314],\n",
            "        [-2.5198,  2.4180],\n",
            "        [ 1.3514, -1.6799],\n",
            "        [ 2.7757, -2.3612],\n",
            "        [-1.7271,  1.3296],\n",
            "        [-2.6734,  2.2791]], grad_fn=<AddmmBackward0>)\n",
            "tensor([0, 0, 1, 1, 0, 0, 1, 1])\n",
            "tensor([1, 0, 1, 1, 0, 0, 1, 1])\n"
          ]
        },
        {
          "output_type": "stream",
          "name": "stderr",
          "text": [
            "\r100%|█████████▉| 523/525 [28:40<00:06,  3.31s/it]"
          ]
        },
        {
          "output_type": "stream",
          "name": "stdout",
          "text": [
            "tensor([[ 0.7141, -1.1034],\n",
            "        [-1.8173,  1.2384],\n",
            "        [-0.5839,  0.1885],\n",
            "        [-2.5169,  2.7301],\n",
            "        [-1.0883,  0.5101],\n",
            "        [-2.1433,  2.2060],\n",
            "        [-1.5537,  1.1328],\n",
            "        [ 2.7534, -2.7866]], grad_fn=<AddmmBackward0>)\n",
            "tensor([1, 1, 1, 1, 1, 1, 1, 0])\n",
            "tensor([0, 1, 1, 1, 1, 1, 1, 0])\n"
          ]
        },
        {
          "output_type": "stream",
          "name": "stderr",
          "text": [
            "\r100%|█████████▉| 524/525 [28:43<00:03,  3.29s/it]"
          ]
        },
        {
          "output_type": "stream",
          "name": "stdout",
          "text": [
            "tensor([[-0.1911, -0.0208],\n",
            "        [-2.2060,  1.7780],\n",
            "        [-0.5170,  0.3441],\n",
            "        [-2.3893,  2.5684],\n",
            "        [-1.6104,  1.5320],\n",
            "        [ 0.2809, -0.6234],\n",
            "        [-0.7211,  0.2889],\n",
            "        [-1.8638,  1.3864]], grad_fn=<AddmmBackward0>)\n",
            "tensor([0, 0, 1, 1, 1, 0, 1, 0])\n",
            "tensor([1, 1, 1, 1, 1, 0, 1, 1])\n"
          ]
        },
        {
          "output_type": "stream",
          "name": "stderr",
          "text": [
            "100%|██████████| 525/525 [28:46<00:00,  3.29s/it]\n"
          ]
        },
        {
          "output_type": "stream",
          "name": "stdout",
          "text": [
            "테스트 정확도: 0.9033333333333333\n"
          ]
        }
      ]
    }
  ]
}