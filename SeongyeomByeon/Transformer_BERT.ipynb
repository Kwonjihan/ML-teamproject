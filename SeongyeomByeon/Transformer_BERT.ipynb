{
  "nbformat": 4,
  "nbformat_minor": 0,
  "metadata": {
    "colab": {
      "provenance": [],
      "machine_shape": "hm",
      "gpuType": "A100",
      "authorship_tag": "ABX9TyMFmRa23nix34ezR7STneYv",
      "include_colab_link": true
    },
    "kernelspec": {
      "name": "python3",
      "display_name": "Python 3"
    },
    "language_info": {
      "name": "python"
    },
    "accelerator": "GPU"
  },
  "cells": [
    {
      "cell_type": "markdown",
      "metadata": {
        "id": "view-in-github",
        "colab_type": "text"
      },
      "source": [
        "<a href=\"https://colab.research.google.com/github/Kwonjihan/ML-teamproject/blob/develop/SeongyeomByeon/Transformer_BERT.ipynb\" target=\"_parent\"><img src=\"https://colab.research.google.com/assets/colab-badge.svg\" alt=\"Open In Colab\"/></a>"
      ]
    },
    {
      "cell_type": "code",
      "execution_count": 5,
      "metadata": {
        "id": "BSM2MT4EXP0K"
      },
      "outputs": [],
      "source": [
        "import torch\n",
        "import numpy as np\n",
        "from transformers import BertTokenizer, BertModel, BertConfig\n",
        "import pandas as pd\n",
        "from torch.utils.data import DataLoader, Dataset\n",
        "from transformers import BertTokenizer, BertForSequenceClassification, AdamW\n",
        "from sklearn.model_selection import train_test_split\n",
        "from sklearn.metrics import accuracy_score"
      ]
    },
    {
      "cell_type": "code",
      "source": [
        "class ReviewDataset(Dataset):\n",
        "    \"\"\" 작업 효율을 위해 Dataset 클래스를 상속하여 전용 클래스 정의 \"\"\"\n",
        "    def __init__(self, texts, labels, tokenizer, max_length = 512):\n",
        "        self.texts = texts\n",
        "        self.labels = labels\n",
        "        self.tokenizer = tokenizer # 동적으로 토크나이즈하기 위해 토크나이즈도 받아옴\n",
        "        self.max_length = max_length # BERT 모델의 입력 길이는 모두 같아야 된다고 함\n",
        "\n",
        "    def __len__(self):\n",
        "        return len(self.texts)\n",
        "\n",
        "    def __getitem__(self, idx):\n",
        "        text = self.texts[idx]\n",
        "        label = self.labels[idx]\n",
        "        inputs = self.tokenizer.encode_plus( # 토큰화 + 인코딩\n",
        "            text,\n",
        "            None,\n",
        "            add_special_tokens=True, # 토큰화된 텍스트 앞뒤에 [CLS], [SEP] 추가\n",
        "            max_length=self.max_length,\n",
        "            padding='max_length', # max_length보다 짧으면 패딩\n",
        "            truncation=True, # max_length보다 길면 자름\n",
        "            return_attention_mask=True, # 위에서 패딩된 부분을 무시할 수 있도록 어텐션 마스크를 반환해줌\n",
        "            return_tensors='pt'# 파이토치 텐서로 반환\n",
        "        )\n",
        "        input_ids = inputs['input_ids'].flatten() # 1차원 텐서로 변경(벡터화)\n",
        "        attention_mask = inputs['attention_mask'].flatten()\n",
        "\n",
        "        return {\n",
        "            'input_ids': input_ids,\n",
        "            'attention_mask': attention_mask,\n",
        "            'labels': torch.tensor(label, dtype=torch.long)\n",
        "        }"
      ],
      "metadata": {
        "id": "XB51PCPxskKd"
      },
      "execution_count": 9,
      "outputs": []
    },
    {
      "cell_type": "code",
      "source": [
        "param_grid = {\n",
        "    'num_attention_heads': [4, 8, 12],  # 트랜스포머 층당 어텐션 헤드의 수\n",
        "    'attention_probs_dropout_prob': [0.1, 0.2, 0.3],  # 어텐션 계산 후 적용할 드롭아웃 확률\n",
        "}"
      ],
      "metadata": {
        "id": "-LSbluzx-w3K"
      },
      "execution_count": 14,
      "outputs": []
    },
    {
      "cell_type": "code",
      "source": [
        "def train_epoch(model, data_loader, loss_fn, optimizer, device, len_reviews):\n",
        "    \"\"\" 한 에포크의 train을 수행하고 모델 정확도를 반환하는 함수 \"\"\"\n",
        "    model = model.train()\n",
        "    losses = []\n",
        "    correct_predictions = 0\n",
        "\n",
        "    # 배치 단위로 병렬적으로 학습 수행\n",
        "    for d in data_loader:\n",
        "        input_ids = d['input_ids'].to(device)\n",
        "        attention_mask = d['attention_mask'].to(device)\n",
        "        labels = d['labels'].to(device)\n",
        "\n",
        "        outputs = model(\n",
        "            input_ids=input_ids,\n",
        "            attention_mask=attention_mask,\n",
        "            labels=labels\n",
        "        )\n",
        "\n",
        "        loss = outputs.loss # 현재 배치의 손실 계산\n",
        "\n",
        "        _, preds = torch.max(outputs.logits, dim=1) # 로짓에서 가장 높은 값을 가진 레이블을 예측 레이블로 설정\n",
        "        correct_predictions += torch.sum(preds == labels) # 위에서 구한 예측 레이블과 실제 레이블이 몇 개나 같은지 구함\n",
        "\n",
        "        optimizer.zero_grad() # 이전 배치의 그레디언트 초기화\n",
        "        loss.backward() # 오류 역전파\n",
        "        optimizer.step() # 파라미터 업데이트\n",
        "\n",
        "    return correct_predictions.double() / len_reviews # 맞춘 수 / 총 리뷰 개수\n",
        "\n",
        "# 데이터 로드\n",
        "data = pd.read_csv('6000_IMDB_Dataset.csv')\n",
        "texts = data['review'].tolist()\n",
        "labels = data['sentiment'].apply(lambda x: 1 if x == 'positive' else 0).tolist() # 기존 positive / negative 레이블을 1과 0으로 매핑 후 리스트로 변환\n",
        "\n",
        "# 데이터 분할\n",
        "train_texts, val_texts, train_labels, val_labels = train_test_split(texts, labels, test_size=0.1, random_state=42)\n",
        "\n",
        "# 토크나이저 및 모델 로드 (하이퍼파라미터 추가)\n",
        "tokenizer = BertTokenizer.from_pretrained('bert-base-uncased')\n",
        "models = [BertForSequenceClassification.from_pretrained('bert-base-uncased', num_labels=2,\n",
        "                                                        num_attention_heads=param_grid['num_attention_heads'][i],\n",
        "                                                        attention_probs_dropout_prob=param_grid['attention_probs_dropout_prob'][j])\n",
        "                                                        for i in range(3) for j in range(3)]\n",
        "\n",
        "# 데이터셋 및 데이터 로더 설정\n",
        "train_dataset = ReviewDataset(train_texts, train_labels, tokenizer)\n",
        "val_dataset = ReviewDataset(val_texts, val_labels, tokenizer)\n",
        "train_data_loader = DataLoader(train_dataset, batch_size=16, shuffle=True)\n",
        "val_data_loader = DataLoader(val_dataset, batch_size=16, shuffle=False)\n",
        "\n",
        "# 학습 설정\n",
        "device = torch.device(\"cuda\") # GPU로 처리하도록 처리 장치 명시\n",
        "loss_fn = torch.nn.CrossEntropyLoss().to(device) # 손실함수는 Cross Entropy 사용\n",
        "\n",
        "# 학습 실행\n",
        "for model in models:\n",
        "    model = model.to(device)\n",
        "    optimizer = AdamW(model.parameters(), lr=2e-5)\n",
        "    train_accuracy = train_epoch(model, train_data_loader, loss_fn, optimizer, device, len(train_dataset))\n",
        "    print(f\"하이퍼파라미터 : \\n- num_attention_heads : {model.config.num_attention_heads}\\n- attention_probs_dropout_prob : {model.config.attention_probs_dropout_prob}\")\n",
        "    print(f\"정확도: {train_accuracy}\\n\")"
      ],
      "metadata": {
        "colab": {
          "base_uri": "https://localhost:8080/"
        },
        "id": "Lghkxc4MnxuW",
        "outputId": "9ba11c81-d1ab-4ac3-e3b5-36f9d3ebf5ff"
      },
      "execution_count": 16,
      "outputs": [
        {
          "output_type": "stream",
          "name": "stderr",
          "text": [
            "Some weights of BertForSequenceClassification were not initialized from the model checkpoint at bert-base-uncased and are newly initialized: ['classifier.bias', 'classifier.weight']\n",
            "You should probably TRAIN this model on a down-stream task to be able to use it for predictions and inference.\n",
            "Some weights of BertForSequenceClassification were not initialized from the model checkpoint at bert-base-uncased and are newly initialized: ['classifier.bias', 'classifier.weight']\n",
            "You should probably TRAIN this model on a down-stream task to be able to use it for predictions and inference.\n",
            "Some weights of BertForSequenceClassification were not initialized from the model checkpoint at bert-base-uncased and are newly initialized: ['classifier.bias', 'classifier.weight']\n",
            "You should probably TRAIN this model on a down-stream task to be able to use it for predictions and inference.\n",
            "Some weights of BertForSequenceClassification were not initialized from the model checkpoint at bert-base-uncased and are newly initialized: ['classifier.bias', 'classifier.weight']\n",
            "You should probably TRAIN this model on a down-stream task to be able to use it for predictions and inference.\n",
            "Some weights of BertForSequenceClassification were not initialized from the model checkpoint at bert-base-uncased and are newly initialized: ['classifier.bias', 'classifier.weight']\n",
            "You should probably TRAIN this model on a down-stream task to be able to use it for predictions and inference.\n",
            "Some weights of BertForSequenceClassification were not initialized from the model checkpoint at bert-base-uncased and are newly initialized: ['classifier.bias', 'classifier.weight']\n",
            "You should probably TRAIN this model on a down-stream task to be able to use it for predictions and inference.\n",
            "Some weights of BertForSequenceClassification were not initialized from the model checkpoint at bert-base-uncased and are newly initialized: ['classifier.bias', 'classifier.weight']\n",
            "You should probably TRAIN this model on a down-stream task to be able to use it for predictions and inference.\n",
            "Some weights of BertForSequenceClassification were not initialized from the model checkpoint at bert-base-uncased and are newly initialized: ['classifier.bias', 'classifier.weight']\n",
            "You should probably TRAIN this model on a down-stream task to be able to use it for predictions and inference.\n",
            "Some weights of BertForSequenceClassification were not initialized from the model checkpoint at bert-base-uncased and are newly initialized: ['classifier.bias', 'classifier.weight']\n",
            "You should probably TRAIN this model on a down-stream task to be able to use it for predictions and inference.\n",
            "/usr/local/lib/python3.10/dist-packages/transformers/optimization.py:521: FutureWarning: This implementation of AdamW is deprecated and will be removed in a future version. Use the PyTorch implementation torch.optim.AdamW instead, or set `no_deprecation_warning=True` to disable this warning\n",
            "  warnings.warn(\n"
          ]
        },
        {
          "output_type": "stream",
          "name": "stdout",
          "text": [
            "하이퍼파라미터 : \n",
            "- num_attention_heads : 4\n",
            "- attention_probs_dropout_prob : 0.1\n",
            "정확도: 0.8183333333333332\n",
            "\n",
            "하이퍼파라미터 : \n",
            "- num_attention_heads : 4\n",
            "- attention_probs_dropout_prob : 0.2\n",
            "정확도: 0.5403703703703704\n",
            "\n",
            "하이퍼파라미터 : \n",
            "- num_attention_heads : 4\n",
            "- attention_probs_dropout_prob : 0.3\n",
            "정확도: 0.7775925925925925\n",
            "\n",
            "하이퍼파라미터 : \n",
            "- num_attention_heads : 8\n",
            "- attention_probs_dropout_prob : 0.1\n",
            "정확도: 0.8222222222222222\n",
            "\n",
            "하이퍼파라미터 : \n",
            "- num_attention_heads : 8\n",
            "- attention_probs_dropout_prob : 0.2\n",
            "정확도: 0.835\n",
            "\n",
            "하이퍼파라미터 : \n",
            "- num_attention_heads : 8\n",
            "- attention_probs_dropout_prob : 0.3\n",
            "정확도: 0.8288888888888889\n",
            "\n",
            "하이퍼파라미터 : \n",
            "- num_attention_heads : 12\n",
            "- attention_probs_dropout_prob : 0.1\n",
            "정확도: 0.8662962962962962\n",
            "\n",
            "하이퍼파라미터 : \n",
            "- num_attention_heads : 12\n",
            "- attention_probs_dropout_prob : 0.2\n",
            "정확도: 0.8581481481481481\n",
            "\n",
            "하이퍼파라미터 : \n",
            "- num_attention_heads : 12\n",
            "- attention_probs_dropout_prob : 0.3\n",
            "정확도: 0.8533333333333333\n",
            "\n"
          ]
        }
      ]
    },
    {
      "cell_type": "markdown",
      "source": [],
      "metadata": {
        "id": "ZZIVx1v3jwPH"
      }
    }
  ]
}