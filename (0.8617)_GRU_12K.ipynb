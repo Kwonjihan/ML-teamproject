{
  "nbformat": 4,
  "nbformat_minor": 0,
  "metadata": {
    "colab": {
      "provenance": [],
      "gpuType": "T4",
      "authorship_tag": "ABX9TyMqDpa+dAGVqSh/WVQekZHG",
      "include_colab_link": true
    },
    "kernelspec": {
      "name": "python3",
      "display_name": "Python 3"
    },
    "language_info": {
      "name": "python"
    },
    "accelerator": "GPU"
  },
  "cells": [
    {
      "cell_type": "markdown",
      "metadata": {
        "id": "view-in-github",
        "colab_type": "text"
      },
      "source": [
        "<a href=\"https://colab.research.google.com/github/Kwonjihan/ML-teamproject/blob/developtemp/(0.8617)_GRU_12K.ipynb\" target=\"_parent\"><img src=\"https://colab.research.google.com/assets/colab-badge.svg\" alt=\"Open In Colab\"/></a>"
      ]
    },
    {
      "cell_type": "code",
      "execution_count": 1,
      "metadata": {
        "colab": {
          "base_uri": "https://localhost:8080/"
        },
        "id": "U8xtSX_ncTPr",
        "outputId": "7e2900ba-daaf-4ba8-af48-d7cf33ac8539"
      },
      "outputs": [
        {
          "output_type": "stream",
          "name": "stdout",
          "text": [
            "Mounted at /content/drive\n"
          ]
        }
      ],
      "source": [
        "from google.colab import drive\n",
        "drive.mount('/content/drive')\n",
        "\n",
        "path = '/content/drive/MyDrive/ML/TP/12K IMDB Dataset.csv'"
      ]
    },
    {
      "cell_type": "markdown",
      "source": [
        "## <데이터셋 확인>"
      ],
      "metadata": {
        "id": "i71AZlMGf0Kc"
      }
    },
    {
      "cell_type": "code",
      "source": [
        "import pandas as pd #dataframe 관한 함수 사용\n",
        "\n",
        "df = pd.read_csv(path)\n",
        "df #dataframe 미리보기"
      ],
      "metadata": {
        "colab": {
          "base_uri": "https://localhost:8080/",
          "height": 423
        },
        "id": "FsNlaRiNdc-q",
        "outputId": "26994012-9f75-49f3-88e7-85fbcb57d2ba"
      },
      "execution_count": 2,
      "outputs": [
        {
          "output_type": "execute_result",
          "data": {
            "text/plain": [
              "                                                  review sentiment\n",
              "0      One of the other reviewers has mentioned that ...  positive\n",
              "1      A wonderful little production. <br /><br />The...  positive\n",
              "2      I thought this was a wonderful way to spend ti...  positive\n",
              "3      Petter Mattei's \"Love in the Time of Money\" is...  positive\n",
              "4      Probably my all-time favorite movie, a story o...  positive\n",
              "...                                                  ...       ...\n",
              "11995  If there's one thing you can count on Disney t...  negative\n",
              "11996  I wouldn't rent this one even on dollar rental...  negative\n",
              "11997  Is there anything else on earth to be more ent...  negative\n",
              "11998  There was a time when Joel Schumacher was rank...  negative\n",
              "11999  Oh, man, I hated this movie. Granted, the site...  negative\n",
              "\n",
              "[12000 rows x 2 columns]"
            ],
            "text/html": [
              "\n",
              "  <div id=\"df-41c7055b-8422-4969-a84a-c26a7174ee56\" class=\"colab-df-container\">\n",
              "    <div>\n",
              "<style scoped>\n",
              "    .dataframe tbody tr th:only-of-type {\n",
              "        vertical-align: middle;\n",
              "    }\n",
              "\n",
              "    .dataframe tbody tr th {\n",
              "        vertical-align: top;\n",
              "    }\n",
              "\n",
              "    .dataframe thead th {\n",
              "        text-align: right;\n",
              "    }\n",
              "</style>\n",
              "<table border=\"1\" class=\"dataframe\">\n",
              "  <thead>\n",
              "    <tr style=\"text-align: right;\">\n",
              "      <th></th>\n",
              "      <th>review</th>\n",
              "      <th>sentiment</th>\n",
              "    </tr>\n",
              "  </thead>\n",
              "  <tbody>\n",
              "    <tr>\n",
              "      <th>0</th>\n",
              "      <td>One of the other reviewers has mentioned that ...</td>\n",
              "      <td>positive</td>\n",
              "    </tr>\n",
              "    <tr>\n",
              "      <th>1</th>\n",
              "      <td>A wonderful little production. &lt;br /&gt;&lt;br /&gt;The...</td>\n",
              "      <td>positive</td>\n",
              "    </tr>\n",
              "    <tr>\n",
              "      <th>2</th>\n",
              "      <td>I thought this was a wonderful way to spend ti...</td>\n",
              "      <td>positive</td>\n",
              "    </tr>\n",
              "    <tr>\n",
              "      <th>3</th>\n",
              "      <td>Petter Mattei's \"Love in the Time of Money\" is...</td>\n",
              "      <td>positive</td>\n",
              "    </tr>\n",
              "    <tr>\n",
              "      <th>4</th>\n",
              "      <td>Probably my all-time favorite movie, a story o...</td>\n",
              "      <td>positive</td>\n",
              "    </tr>\n",
              "    <tr>\n",
              "      <th>...</th>\n",
              "      <td>...</td>\n",
              "      <td>...</td>\n",
              "    </tr>\n",
              "    <tr>\n",
              "      <th>11995</th>\n",
              "      <td>If there's one thing you can count on Disney t...</td>\n",
              "      <td>negative</td>\n",
              "    </tr>\n",
              "    <tr>\n",
              "      <th>11996</th>\n",
              "      <td>I wouldn't rent this one even on dollar rental...</td>\n",
              "      <td>negative</td>\n",
              "    </tr>\n",
              "    <tr>\n",
              "      <th>11997</th>\n",
              "      <td>Is there anything else on earth to be more ent...</td>\n",
              "      <td>negative</td>\n",
              "    </tr>\n",
              "    <tr>\n",
              "      <th>11998</th>\n",
              "      <td>There was a time when Joel Schumacher was rank...</td>\n",
              "      <td>negative</td>\n",
              "    </tr>\n",
              "    <tr>\n",
              "      <th>11999</th>\n",
              "      <td>Oh, man, I hated this movie. Granted, the site...</td>\n",
              "      <td>negative</td>\n",
              "    </tr>\n",
              "  </tbody>\n",
              "</table>\n",
              "<p>12000 rows × 2 columns</p>\n",
              "</div>\n",
              "    <div class=\"colab-df-buttons\">\n",
              "\n",
              "  <div class=\"colab-df-container\">\n",
              "    <button class=\"colab-df-convert\" onclick=\"convertToInteractive('df-41c7055b-8422-4969-a84a-c26a7174ee56')\"\n",
              "            title=\"Convert this dataframe to an interactive table.\"\n",
              "            style=\"display:none;\">\n",
              "\n",
              "  <svg xmlns=\"http://www.w3.org/2000/svg\" height=\"24px\" viewBox=\"0 -960 960 960\">\n",
              "    <path d=\"M120-120v-720h720v720H120Zm60-500h600v-160H180v160Zm220 220h160v-160H400v160Zm0 220h160v-160H400v160ZM180-400h160v-160H180v160Zm440 0h160v-160H620v160ZM180-180h160v-160H180v160Zm440 0h160v-160H620v160Z\"/>\n",
              "  </svg>\n",
              "    </button>\n",
              "\n",
              "  <style>\n",
              "    .colab-df-container {\n",
              "      display:flex;\n",
              "      gap: 12px;\n",
              "    }\n",
              "\n",
              "    .colab-df-convert {\n",
              "      background-color: #E8F0FE;\n",
              "      border: none;\n",
              "      border-radius: 50%;\n",
              "      cursor: pointer;\n",
              "      display: none;\n",
              "      fill: #1967D2;\n",
              "      height: 32px;\n",
              "      padding: 0 0 0 0;\n",
              "      width: 32px;\n",
              "    }\n",
              "\n",
              "    .colab-df-convert:hover {\n",
              "      background-color: #E2EBFA;\n",
              "      box-shadow: 0px 1px 2px rgba(60, 64, 67, 0.3), 0px 1px 3px 1px rgba(60, 64, 67, 0.15);\n",
              "      fill: #174EA6;\n",
              "    }\n",
              "\n",
              "    .colab-df-buttons div {\n",
              "      margin-bottom: 4px;\n",
              "    }\n",
              "\n",
              "    [theme=dark] .colab-df-convert {\n",
              "      background-color: #3B4455;\n",
              "      fill: #D2E3FC;\n",
              "    }\n",
              "\n",
              "    [theme=dark] .colab-df-convert:hover {\n",
              "      background-color: #434B5C;\n",
              "      box-shadow: 0px 1px 3px 1px rgba(0, 0, 0, 0.15);\n",
              "      filter: drop-shadow(0px 1px 2px rgba(0, 0, 0, 0.3));\n",
              "      fill: #FFFFFF;\n",
              "    }\n",
              "  </style>\n",
              "\n",
              "    <script>\n",
              "      const buttonEl =\n",
              "        document.querySelector('#df-41c7055b-8422-4969-a84a-c26a7174ee56 button.colab-df-convert');\n",
              "      buttonEl.style.display =\n",
              "        google.colab.kernel.accessAllowed ? 'block' : 'none';\n",
              "\n",
              "      async function convertToInteractive(key) {\n",
              "        const element = document.querySelector('#df-41c7055b-8422-4969-a84a-c26a7174ee56');\n",
              "        const dataTable =\n",
              "          await google.colab.kernel.invokeFunction('convertToInteractive',\n",
              "                                                    [key], {});\n",
              "        if (!dataTable) return;\n",
              "\n",
              "        const docLinkHtml = 'Like what you see? Visit the ' +\n",
              "          '<a target=\"_blank\" href=https://colab.research.google.com/notebooks/data_table.ipynb>data table notebook</a>'\n",
              "          + ' to learn more about interactive tables.';\n",
              "        element.innerHTML = '';\n",
              "        dataTable['output_type'] = 'display_data';\n",
              "        await google.colab.output.renderOutput(dataTable, element);\n",
              "        const docLink = document.createElement('div');\n",
              "        docLink.innerHTML = docLinkHtml;\n",
              "        element.appendChild(docLink);\n",
              "      }\n",
              "    </script>\n",
              "  </div>\n",
              "\n",
              "\n",
              "<div id=\"df-52e15fc3-0cc1-44ae-85ec-0da4fdcc4605\">\n",
              "  <button class=\"colab-df-quickchart\" onclick=\"quickchart('df-52e15fc3-0cc1-44ae-85ec-0da4fdcc4605')\"\n",
              "            title=\"Suggest charts\"\n",
              "            style=\"display:none;\">\n",
              "\n",
              "<svg xmlns=\"http://www.w3.org/2000/svg\" height=\"24px\"viewBox=\"0 0 24 24\"\n",
              "     width=\"24px\">\n",
              "    <g>\n",
              "        <path d=\"M19 3H5c-1.1 0-2 .9-2 2v14c0 1.1.9 2 2 2h14c1.1 0 2-.9 2-2V5c0-1.1-.9-2-2-2zM9 17H7v-7h2v7zm4 0h-2V7h2v10zm4 0h-2v-4h2v4z\"/>\n",
              "    </g>\n",
              "</svg>\n",
              "  </button>\n",
              "\n",
              "<style>\n",
              "  .colab-df-quickchart {\n",
              "      --bg-color: #E8F0FE;\n",
              "      --fill-color: #1967D2;\n",
              "      --hover-bg-color: #E2EBFA;\n",
              "      --hover-fill-color: #174EA6;\n",
              "      --disabled-fill-color: #AAA;\n",
              "      --disabled-bg-color: #DDD;\n",
              "  }\n",
              "\n",
              "  [theme=dark] .colab-df-quickchart {\n",
              "      --bg-color: #3B4455;\n",
              "      --fill-color: #D2E3FC;\n",
              "      --hover-bg-color: #434B5C;\n",
              "      --hover-fill-color: #FFFFFF;\n",
              "      --disabled-bg-color: #3B4455;\n",
              "      --disabled-fill-color: #666;\n",
              "  }\n",
              "\n",
              "  .colab-df-quickchart {\n",
              "    background-color: var(--bg-color);\n",
              "    border: none;\n",
              "    border-radius: 50%;\n",
              "    cursor: pointer;\n",
              "    display: none;\n",
              "    fill: var(--fill-color);\n",
              "    height: 32px;\n",
              "    padding: 0;\n",
              "    width: 32px;\n",
              "  }\n",
              "\n",
              "  .colab-df-quickchart:hover {\n",
              "    background-color: var(--hover-bg-color);\n",
              "    box-shadow: 0 1px 2px rgba(60, 64, 67, 0.3), 0 1px 3px 1px rgba(60, 64, 67, 0.15);\n",
              "    fill: var(--button-hover-fill-color);\n",
              "  }\n",
              "\n",
              "  .colab-df-quickchart-complete:disabled,\n",
              "  .colab-df-quickchart-complete:disabled:hover {\n",
              "    background-color: var(--disabled-bg-color);\n",
              "    fill: var(--disabled-fill-color);\n",
              "    box-shadow: none;\n",
              "  }\n",
              "\n",
              "  .colab-df-spinner {\n",
              "    border: 2px solid var(--fill-color);\n",
              "    border-color: transparent;\n",
              "    border-bottom-color: var(--fill-color);\n",
              "    animation:\n",
              "      spin 1s steps(1) infinite;\n",
              "  }\n",
              "\n",
              "  @keyframes spin {\n",
              "    0% {\n",
              "      border-color: transparent;\n",
              "      border-bottom-color: var(--fill-color);\n",
              "      border-left-color: var(--fill-color);\n",
              "    }\n",
              "    20% {\n",
              "      border-color: transparent;\n",
              "      border-left-color: var(--fill-color);\n",
              "      border-top-color: var(--fill-color);\n",
              "    }\n",
              "    30% {\n",
              "      border-color: transparent;\n",
              "      border-left-color: var(--fill-color);\n",
              "      border-top-color: var(--fill-color);\n",
              "      border-right-color: var(--fill-color);\n",
              "    }\n",
              "    40% {\n",
              "      border-color: transparent;\n",
              "      border-right-color: var(--fill-color);\n",
              "      border-top-color: var(--fill-color);\n",
              "    }\n",
              "    60% {\n",
              "      border-color: transparent;\n",
              "      border-right-color: var(--fill-color);\n",
              "    }\n",
              "    80% {\n",
              "      border-color: transparent;\n",
              "      border-right-color: var(--fill-color);\n",
              "      border-bottom-color: var(--fill-color);\n",
              "    }\n",
              "    90% {\n",
              "      border-color: transparent;\n",
              "      border-bottom-color: var(--fill-color);\n",
              "    }\n",
              "  }\n",
              "</style>\n",
              "\n",
              "  <script>\n",
              "    async function quickchart(key) {\n",
              "      const quickchartButtonEl =\n",
              "        document.querySelector('#' + key + ' button');\n",
              "      quickchartButtonEl.disabled = true;  // To prevent multiple clicks.\n",
              "      quickchartButtonEl.classList.add('colab-df-spinner');\n",
              "      try {\n",
              "        const charts = await google.colab.kernel.invokeFunction(\n",
              "            'suggestCharts', [key], {});\n",
              "      } catch (error) {\n",
              "        console.error('Error during call to suggestCharts:', error);\n",
              "      }\n",
              "      quickchartButtonEl.classList.remove('colab-df-spinner');\n",
              "      quickchartButtonEl.classList.add('colab-df-quickchart-complete');\n",
              "    }\n",
              "    (() => {\n",
              "      let quickchartButtonEl =\n",
              "        document.querySelector('#df-52e15fc3-0cc1-44ae-85ec-0da4fdcc4605 button');\n",
              "      quickchartButtonEl.style.display =\n",
              "        google.colab.kernel.accessAllowed ? 'block' : 'none';\n",
              "    })();\n",
              "  </script>\n",
              "</div>\n",
              "    </div>\n",
              "  </div>\n"
            ],
            "application/vnd.google.colaboratory.intrinsic+json": {
              "type": "dataframe",
              "variable_name": "df",
              "summary": "{\n  \"name\": \"df\",\n  \"rows\": 12000,\n  \"fields\": [\n    {\n      \"column\": \"review\",\n      \"properties\": {\n        \"dtype\": \"string\",\n        \"num_unique_values\": 11978,\n        \"samples\": [\n          \"This movie was definitely on the boring side. The acting was decent and the film looks pretty nice, the soundtrack is definitely for fans of Kenny G and Michael Bolton. Speaking of the soundtrack, I found it very ironic that a film about telling the truth and not stealing decided to use a song in it's titles that was a BLATANT RIPOFF of Paul Simon's \\\"You Can Call Me Al\\\" - except that they don't acknowledge it at all. Isn't there something a little hypocritical there? The scene that the main kid was in where he was mimicking a game show host was my favorite. 10 lines? I have to write ten lines about this movie to be included? What a ripoff, I don't think it's too fair to FORCE people to write more than they would just to get it included!\",\n          \"I was attracted to this film by its offbeat, low-key, 'real life' story line. That is, a twenty-something guy flops in the Big Apple and comes back home to live with his parents and even more floppy brother. It just might have worked but there's a problem. And that problem's name is Casey Affleck. <br /><br />Casey Affleck is nearly catatonic in this film. His acting mantra must be \\\"exert as little effort as possible at all times\\\". Or \\\"why speak when you can mutter?\\\" Or maybe \\\"put yourself into a coma as soon as the camera rolls\\\". Lips moving when speaking? Barely. Facial expressions? None. Muscles in face? Atrophied. Something? Nothing. ANYthing? Zip.\",\n          \"This comment discusses \\\"North and South Book I\\\" dealing with 1842-1861 period<br /><br />The 19th century history of the USA is mostly identified by people with the Civil War (1861-1865). This is a reasonable opinion because that was Civil War which put the Union under the severe test; that was the Civil War which made Americans realize how precious it is to live in peace; finally, that was this period which at last brought the end to the shameful system of slavery. <br /><br />From the birth of motion pictures, there were people who adapted that time onto screen. D.W. Griffith, in the early 1900s, made his unforgettable BIRTH OF A NATION. Yet, the most famous film about the north-south clash is still, I suppose, GONE WITH THE WIND (1938). Unfortunately, fewer people know the magnificent TV series based on John Jakes' novel, \\\"North and South.\\\" It is the very best TV series ever made and the time spent on watching it is really precious. I taped it on my video from Polish TV many years ago and have come back to it with great pleasure many times since then. Why? <br /><br />Firstly, the entire story is deeply rooted in historical reality. The two families, the Maines from South Carolina and the Hazards from Pennsylvania, represent two entirely different ways of life. In spite of that, friendship unites them. Yet, what they experience is the struggle all people do: friendship attacked by \\\"truth\\\" of \\\"political correctness\\\", love attacked by hatred of \\\"legal spouses\\\", gentleness by strength of \\\"social heroes\\\". Orry Maine (Patrick Swayze) is my beloved character - someone who finds love and who is quickly deprived of her; someone who cares for friends but political fanatics step in the way and ruin much. Finally, he is someone who can see the tragic future for his land but there is nothing he can do about the south's inescapable fate. His friend, George Hazard, is similar in most aspects but sometimes he appears to have a stronger character. It is him who shows Orry that although there are tragedies, he must get up from despair and live since life is the most precious thing we have. Although they represent two different lifestyles, their friendship occurs to be stronger than any prejudice, politics or conflicts.<br /><br />Other characters are also particularly well developed. There are villains, like Justin LaMotte or Salem Jones who are really wicked but most of the people are ambiguous as the nature of humanity has always been. Charles Maine is, at first, full of rebellion, prone to fighting, later, however, he learns to be a true southern gentleman for whom southern pride is not courageous words but foremost courageous deeds. Virgilia Hazard represents the most fanatical side of abolitionist movement striving to condemn slavery and punish the owners of \\\"black breeding farms.\\\" Her marriage with Grady appears to be a symbol of equality but also a symbol of saying \\\"NO\\\" to the politics of the south. Two interesting characters are Orry's sisters, Brett and Ashton - sisters in whose veins runs entirely opposite blood. Brett, in her gentleness but also naiveness, believes in absolute fidelity. She marries Billy, even though he is a northerner, because she truly loves him. Brett is the representation of all that is precious in any young woman. Ashton, however, is a vamp, a tigress, a woman who does not hesitate to do the most wicked things. The clear picture of their world views clash is their chat about men and family...unforgettable moment and how universal! Most characters head for their values...yet, war breaks out and they'll have to put aside a lot...<br /><br />Secondly, the performances... someone said that not all people act naturally. I wouldn't say that. I'd rather say that all cast do very good jobs in their parts from the main characters who are portrayed by younger staff to the guests that consist of famous stars, including Liz Taylor, Robert Mitchum and others. Patrick Swayze as Orry does a great job. I consider this role one of his best ones. Lesley Anne Down as Madeleine is also very memorable. Her part, perhaps, entails too much suffering but she manages to express all sorts of feelings really well. Kirstie Alley is very appealing and truly memorable as the abolitionist Virgilia Hazard. Phillip Casnoff is worth consideration as horribly ambitious Elkanah Bent as well as David Carradine as a monster husband, disgusting Justin LaMotte. And, in contrast to him, a mention must be made of Jean Simmons who is truly excellent as Orry's mother whose heart beats for the glory of family life and concord of union. <br /><br />Thirdly, memorable moments of \\\"North and South\\\" leave an unfading trace in one's mind. Who can forget the first meeting of Orry and Madeleine - what charm, what gentleness there is in this scene! Or is it possible to skip the moment when Madeleine's father dies? I found it really powerful, there is a real drama in this moment, a drama of a woman being left by someone who really loved her. I also liked Churubusco sequence and George Hazard so worried about the life of his dearest friend, Orry. Then his meetings with Constance are terrific. Virgilia's speech in Philadelphia is a masterpiece of performance. And the final moment of the first part: although North and South may separate, their friendship will never die. Orry and George symbolically join hands as the train moves on. Simply, there are so many beautiful and powerful scenes that it's impossible to mention even half of them here. And these gorgeous tunes by Bill Conti and shot in brilliant landscapes. The music in \\\"North and South\\\" is very touching and memorable.<br /><br />What to say in the end? \\\"North and South\\\" is a real must have on DVD, simply an amazing TV series about the victory of all that is precious in us: love, friendship, loyalty, honor, truthfulness, absolute fidelity. 9/10\"\n        ],\n        \"semantic_type\": \"\",\n        \"description\": \"\"\n      }\n    },\n    {\n      \"column\": \"sentiment\",\n      \"properties\": {\n        \"dtype\": \"category\",\n        \"num_unique_values\": 2,\n        \"samples\": [\n          \"negative\",\n          \"positive\"\n        ],\n        \"semantic_type\": \"\",\n        \"description\": \"\"\n      }\n    }\n  ]\n}"
            }
          },
          "metadata": {},
          "execution_count": 2
        }
      ]
    },
    {
      "cell_type": "markdown",
      "source": [
        "## <데이터 전처리>"
      ],
      "metadata": {
        "id": "L96HD5GQf3rA"
      }
    },
    {
      "cell_type": "markdown",
      "source": [
        "sentiment(레이블) 전처리"
      ],
      "metadata": {
        "id": "2aConLI_Spse"
      }
    },
    {
      "cell_type": "code",
      "source": [
        "#정확도 비교를 쉽게 하기 위해 positive를 1, negative를 0으로 매핑\n",
        "sentiment_mapping = {'positive': 1, 'negative': 0}\n",
        "df['sentiment'] = df['sentiment'].replace(sentiment_mapping)\n",
        "df"
      ],
      "metadata": {
        "colab": {
          "base_uri": "https://localhost:8080/",
          "height": 423
        },
        "id": "KOIEgwUxdslr",
        "outputId": "b2fcb111-10a4-4a00-e855-91fe4c5a61c3"
      },
      "execution_count": 3,
      "outputs": [
        {
          "output_type": "execute_result",
          "data": {
            "text/plain": [
              "                                                  review  sentiment\n",
              "0      One of the other reviewers has mentioned that ...          1\n",
              "1      A wonderful little production. <br /><br />The...          1\n",
              "2      I thought this was a wonderful way to spend ti...          1\n",
              "3      Petter Mattei's \"Love in the Time of Money\" is...          1\n",
              "4      Probably my all-time favorite movie, a story o...          1\n",
              "...                                                  ...        ...\n",
              "11995  If there's one thing you can count on Disney t...          0\n",
              "11996  I wouldn't rent this one even on dollar rental...          0\n",
              "11997  Is there anything else on earth to be more ent...          0\n",
              "11998  There was a time when Joel Schumacher was rank...          0\n",
              "11999  Oh, man, I hated this movie. Granted, the site...          0\n",
              "\n",
              "[12000 rows x 2 columns]"
            ],
            "text/html": [
              "\n",
              "  <div id=\"df-73bca399-39fd-4542-8f00-9c67b32e6d63\" class=\"colab-df-container\">\n",
              "    <div>\n",
              "<style scoped>\n",
              "    .dataframe tbody tr th:only-of-type {\n",
              "        vertical-align: middle;\n",
              "    }\n",
              "\n",
              "    .dataframe tbody tr th {\n",
              "        vertical-align: top;\n",
              "    }\n",
              "\n",
              "    .dataframe thead th {\n",
              "        text-align: right;\n",
              "    }\n",
              "</style>\n",
              "<table border=\"1\" class=\"dataframe\">\n",
              "  <thead>\n",
              "    <tr style=\"text-align: right;\">\n",
              "      <th></th>\n",
              "      <th>review</th>\n",
              "      <th>sentiment</th>\n",
              "    </tr>\n",
              "  </thead>\n",
              "  <tbody>\n",
              "    <tr>\n",
              "      <th>0</th>\n",
              "      <td>One of the other reviewers has mentioned that ...</td>\n",
              "      <td>1</td>\n",
              "    </tr>\n",
              "    <tr>\n",
              "      <th>1</th>\n",
              "      <td>A wonderful little production. &lt;br /&gt;&lt;br /&gt;The...</td>\n",
              "      <td>1</td>\n",
              "    </tr>\n",
              "    <tr>\n",
              "      <th>2</th>\n",
              "      <td>I thought this was a wonderful way to spend ti...</td>\n",
              "      <td>1</td>\n",
              "    </tr>\n",
              "    <tr>\n",
              "      <th>3</th>\n",
              "      <td>Petter Mattei's \"Love in the Time of Money\" is...</td>\n",
              "      <td>1</td>\n",
              "    </tr>\n",
              "    <tr>\n",
              "      <th>4</th>\n",
              "      <td>Probably my all-time favorite movie, a story o...</td>\n",
              "      <td>1</td>\n",
              "    </tr>\n",
              "    <tr>\n",
              "      <th>...</th>\n",
              "      <td>...</td>\n",
              "      <td>...</td>\n",
              "    </tr>\n",
              "    <tr>\n",
              "      <th>11995</th>\n",
              "      <td>If there's one thing you can count on Disney t...</td>\n",
              "      <td>0</td>\n",
              "    </tr>\n",
              "    <tr>\n",
              "      <th>11996</th>\n",
              "      <td>I wouldn't rent this one even on dollar rental...</td>\n",
              "      <td>0</td>\n",
              "    </tr>\n",
              "    <tr>\n",
              "      <th>11997</th>\n",
              "      <td>Is there anything else on earth to be more ent...</td>\n",
              "      <td>0</td>\n",
              "    </tr>\n",
              "    <tr>\n",
              "      <th>11998</th>\n",
              "      <td>There was a time when Joel Schumacher was rank...</td>\n",
              "      <td>0</td>\n",
              "    </tr>\n",
              "    <tr>\n",
              "      <th>11999</th>\n",
              "      <td>Oh, man, I hated this movie. Granted, the site...</td>\n",
              "      <td>0</td>\n",
              "    </tr>\n",
              "  </tbody>\n",
              "</table>\n",
              "<p>12000 rows × 2 columns</p>\n",
              "</div>\n",
              "    <div class=\"colab-df-buttons\">\n",
              "\n",
              "  <div class=\"colab-df-container\">\n",
              "    <button class=\"colab-df-convert\" onclick=\"convertToInteractive('df-73bca399-39fd-4542-8f00-9c67b32e6d63')\"\n",
              "            title=\"Convert this dataframe to an interactive table.\"\n",
              "            style=\"display:none;\">\n",
              "\n",
              "  <svg xmlns=\"http://www.w3.org/2000/svg\" height=\"24px\" viewBox=\"0 -960 960 960\">\n",
              "    <path d=\"M120-120v-720h720v720H120Zm60-500h600v-160H180v160Zm220 220h160v-160H400v160Zm0 220h160v-160H400v160ZM180-400h160v-160H180v160Zm440 0h160v-160H620v160ZM180-180h160v-160H180v160Zm440 0h160v-160H620v160Z\"/>\n",
              "  </svg>\n",
              "    </button>\n",
              "\n",
              "  <style>\n",
              "    .colab-df-container {\n",
              "      display:flex;\n",
              "      gap: 12px;\n",
              "    }\n",
              "\n",
              "    .colab-df-convert {\n",
              "      background-color: #E8F0FE;\n",
              "      border: none;\n",
              "      border-radius: 50%;\n",
              "      cursor: pointer;\n",
              "      display: none;\n",
              "      fill: #1967D2;\n",
              "      height: 32px;\n",
              "      padding: 0 0 0 0;\n",
              "      width: 32px;\n",
              "    }\n",
              "\n",
              "    .colab-df-convert:hover {\n",
              "      background-color: #E2EBFA;\n",
              "      box-shadow: 0px 1px 2px rgba(60, 64, 67, 0.3), 0px 1px 3px 1px rgba(60, 64, 67, 0.15);\n",
              "      fill: #174EA6;\n",
              "    }\n",
              "\n",
              "    .colab-df-buttons div {\n",
              "      margin-bottom: 4px;\n",
              "    }\n",
              "\n",
              "    [theme=dark] .colab-df-convert {\n",
              "      background-color: #3B4455;\n",
              "      fill: #D2E3FC;\n",
              "    }\n",
              "\n",
              "    [theme=dark] .colab-df-convert:hover {\n",
              "      background-color: #434B5C;\n",
              "      box-shadow: 0px 1px 3px 1px rgba(0, 0, 0, 0.15);\n",
              "      filter: drop-shadow(0px 1px 2px rgba(0, 0, 0, 0.3));\n",
              "      fill: #FFFFFF;\n",
              "    }\n",
              "  </style>\n",
              "\n",
              "    <script>\n",
              "      const buttonEl =\n",
              "        document.querySelector('#df-73bca399-39fd-4542-8f00-9c67b32e6d63 button.colab-df-convert');\n",
              "      buttonEl.style.display =\n",
              "        google.colab.kernel.accessAllowed ? 'block' : 'none';\n",
              "\n",
              "      async function convertToInteractive(key) {\n",
              "        const element = document.querySelector('#df-73bca399-39fd-4542-8f00-9c67b32e6d63');\n",
              "        const dataTable =\n",
              "          await google.colab.kernel.invokeFunction('convertToInteractive',\n",
              "                                                    [key], {});\n",
              "        if (!dataTable) return;\n",
              "\n",
              "        const docLinkHtml = 'Like what you see? Visit the ' +\n",
              "          '<a target=\"_blank\" href=https://colab.research.google.com/notebooks/data_table.ipynb>data table notebook</a>'\n",
              "          + ' to learn more about interactive tables.';\n",
              "        element.innerHTML = '';\n",
              "        dataTable['output_type'] = 'display_data';\n",
              "        await google.colab.output.renderOutput(dataTable, element);\n",
              "        const docLink = document.createElement('div');\n",
              "        docLink.innerHTML = docLinkHtml;\n",
              "        element.appendChild(docLink);\n",
              "      }\n",
              "    </script>\n",
              "  </div>\n",
              "\n",
              "\n",
              "<div id=\"df-6c4438cd-9818-40ec-bd36-2aead9b6cb40\">\n",
              "  <button class=\"colab-df-quickchart\" onclick=\"quickchart('df-6c4438cd-9818-40ec-bd36-2aead9b6cb40')\"\n",
              "            title=\"Suggest charts\"\n",
              "            style=\"display:none;\">\n",
              "\n",
              "<svg xmlns=\"http://www.w3.org/2000/svg\" height=\"24px\"viewBox=\"0 0 24 24\"\n",
              "     width=\"24px\">\n",
              "    <g>\n",
              "        <path d=\"M19 3H5c-1.1 0-2 .9-2 2v14c0 1.1.9 2 2 2h14c1.1 0 2-.9 2-2V5c0-1.1-.9-2-2-2zM9 17H7v-7h2v7zm4 0h-2V7h2v10zm4 0h-2v-4h2v4z\"/>\n",
              "    </g>\n",
              "</svg>\n",
              "  </button>\n",
              "\n",
              "<style>\n",
              "  .colab-df-quickchart {\n",
              "      --bg-color: #E8F0FE;\n",
              "      --fill-color: #1967D2;\n",
              "      --hover-bg-color: #E2EBFA;\n",
              "      --hover-fill-color: #174EA6;\n",
              "      --disabled-fill-color: #AAA;\n",
              "      --disabled-bg-color: #DDD;\n",
              "  }\n",
              "\n",
              "  [theme=dark] .colab-df-quickchart {\n",
              "      --bg-color: #3B4455;\n",
              "      --fill-color: #D2E3FC;\n",
              "      --hover-bg-color: #434B5C;\n",
              "      --hover-fill-color: #FFFFFF;\n",
              "      --disabled-bg-color: #3B4455;\n",
              "      --disabled-fill-color: #666;\n",
              "  }\n",
              "\n",
              "  .colab-df-quickchart {\n",
              "    background-color: var(--bg-color);\n",
              "    border: none;\n",
              "    border-radius: 50%;\n",
              "    cursor: pointer;\n",
              "    display: none;\n",
              "    fill: var(--fill-color);\n",
              "    height: 32px;\n",
              "    padding: 0;\n",
              "    width: 32px;\n",
              "  }\n",
              "\n",
              "  .colab-df-quickchart:hover {\n",
              "    background-color: var(--hover-bg-color);\n",
              "    box-shadow: 0 1px 2px rgba(60, 64, 67, 0.3), 0 1px 3px 1px rgba(60, 64, 67, 0.15);\n",
              "    fill: var(--button-hover-fill-color);\n",
              "  }\n",
              "\n",
              "  .colab-df-quickchart-complete:disabled,\n",
              "  .colab-df-quickchart-complete:disabled:hover {\n",
              "    background-color: var(--disabled-bg-color);\n",
              "    fill: var(--disabled-fill-color);\n",
              "    box-shadow: none;\n",
              "  }\n",
              "\n",
              "  .colab-df-spinner {\n",
              "    border: 2px solid var(--fill-color);\n",
              "    border-color: transparent;\n",
              "    border-bottom-color: var(--fill-color);\n",
              "    animation:\n",
              "      spin 1s steps(1) infinite;\n",
              "  }\n",
              "\n",
              "  @keyframes spin {\n",
              "    0% {\n",
              "      border-color: transparent;\n",
              "      border-bottom-color: var(--fill-color);\n",
              "      border-left-color: var(--fill-color);\n",
              "    }\n",
              "    20% {\n",
              "      border-color: transparent;\n",
              "      border-left-color: var(--fill-color);\n",
              "      border-top-color: var(--fill-color);\n",
              "    }\n",
              "    30% {\n",
              "      border-color: transparent;\n",
              "      border-left-color: var(--fill-color);\n",
              "      border-top-color: var(--fill-color);\n",
              "      border-right-color: var(--fill-color);\n",
              "    }\n",
              "    40% {\n",
              "      border-color: transparent;\n",
              "      border-right-color: var(--fill-color);\n",
              "      border-top-color: var(--fill-color);\n",
              "    }\n",
              "    60% {\n",
              "      border-color: transparent;\n",
              "      border-right-color: var(--fill-color);\n",
              "    }\n",
              "    80% {\n",
              "      border-color: transparent;\n",
              "      border-right-color: var(--fill-color);\n",
              "      border-bottom-color: var(--fill-color);\n",
              "    }\n",
              "    90% {\n",
              "      border-color: transparent;\n",
              "      border-bottom-color: var(--fill-color);\n",
              "    }\n",
              "  }\n",
              "</style>\n",
              "\n",
              "  <script>\n",
              "    async function quickchart(key) {\n",
              "      const quickchartButtonEl =\n",
              "        document.querySelector('#' + key + ' button');\n",
              "      quickchartButtonEl.disabled = true;  // To prevent multiple clicks.\n",
              "      quickchartButtonEl.classList.add('colab-df-spinner');\n",
              "      try {\n",
              "        const charts = await google.colab.kernel.invokeFunction(\n",
              "            'suggestCharts', [key], {});\n",
              "      } catch (error) {\n",
              "        console.error('Error during call to suggestCharts:', error);\n",
              "      }\n",
              "      quickchartButtonEl.classList.remove('colab-df-spinner');\n",
              "      quickchartButtonEl.classList.add('colab-df-quickchart-complete');\n",
              "    }\n",
              "    (() => {\n",
              "      let quickchartButtonEl =\n",
              "        document.querySelector('#df-6c4438cd-9818-40ec-bd36-2aead9b6cb40 button');\n",
              "      quickchartButtonEl.style.display =\n",
              "        google.colab.kernel.accessAllowed ? 'block' : 'none';\n",
              "    })();\n",
              "  </script>\n",
              "</div>\n",
              "    </div>\n",
              "  </div>\n"
            ],
            "application/vnd.google.colaboratory.intrinsic+json": {
              "type": "dataframe",
              "variable_name": "df",
              "summary": "{\n  \"name\": \"df\",\n  \"rows\": 12000,\n  \"fields\": [\n    {\n      \"column\": \"review\",\n      \"properties\": {\n        \"dtype\": \"string\",\n        \"num_unique_values\": 11978,\n        \"samples\": [\n          \"This movie was definitely on the boring side. The acting was decent and the film looks pretty nice, the soundtrack is definitely for fans of Kenny G and Michael Bolton. Speaking of the soundtrack, I found it very ironic that a film about telling the truth and not stealing decided to use a song in it's titles that was a BLATANT RIPOFF of Paul Simon's \\\"You Can Call Me Al\\\" - except that they don't acknowledge it at all. Isn't there something a little hypocritical there? The scene that the main kid was in where he was mimicking a game show host was my favorite. 10 lines? I have to write ten lines about this movie to be included? What a ripoff, I don't think it's too fair to FORCE people to write more than they would just to get it included!\",\n          \"I was attracted to this film by its offbeat, low-key, 'real life' story line. That is, a twenty-something guy flops in the Big Apple and comes back home to live with his parents and even more floppy brother. It just might have worked but there's a problem. And that problem's name is Casey Affleck. <br /><br />Casey Affleck is nearly catatonic in this film. His acting mantra must be \\\"exert as little effort as possible at all times\\\". Or \\\"why speak when you can mutter?\\\" Or maybe \\\"put yourself into a coma as soon as the camera rolls\\\". Lips moving when speaking? Barely. Facial expressions? None. Muscles in face? Atrophied. Something? Nothing. ANYthing? Zip.\",\n          \"This comment discusses \\\"North and South Book I\\\" dealing with 1842-1861 period<br /><br />The 19th century history of the USA is mostly identified by people with the Civil War (1861-1865). This is a reasonable opinion because that was Civil War which put the Union under the severe test; that was the Civil War which made Americans realize how precious it is to live in peace; finally, that was this period which at last brought the end to the shameful system of slavery. <br /><br />From the birth of motion pictures, there were people who adapted that time onto screen. D.W. Griffith, in the early 1900s, made his unforgettable BIRTH OF A NATION. Yet, the most famous film about the north-south clash is still, I suppose, GONE WITH THE WIND (1938). Unfortunately, fewer people know the magnificent TV series based on John Jakes' novel, \\\"North and South.\\\" It is the very best TV series ever made and the time spent on watching it is really precious. I taped it on my video from Polish TV many years ago and have come back to it with great pleasure many times since then. Why? <br /><br />Firstly, the entire story is deeply rooted in historical reality. The two families, the Maines from South Carolina and the Hazards from Pennsylvania, represent two entirely different ways of life. In spite of that, friendship unites them. Yet, what they experience is the struggle all people do: friendship attacked by \\\"truth\\\" of \\\"political correctness\\\", love attacked by hatred of \\\"legal spouses\\\", gentleness by strength of \\\"social heroes\\\". Orry Maine (Patrick Swayze) is my beloved character - someone who finds love and who is quickly deprived of her; someone who cares for friends but political fanatics step in the way and ruin much. Finally, he is someone who can see the tragic future for his land but there is nothing he can do about the south's inescapable fate. His friend, George Hazard, is similar in most aspects but sometimes he appears to have a stronger character. It is him who shows Orry that although there are tragedies, he must get up from despair and live since life is the most precious thing we have. Although they represent two different lifestyles, their friendship occurs to be stronger than any prejudice, politics or conflicts.<br /><br />Other characters are also particularly well developed. There are villains, like Justin LaMotte or Salem Jones who are really wicked but most of the people are ambiguous as the nature of humanity has always been. Charles Maine is, at first, full of rebellion, prone to fighting, later, however, he learns to be a true southern gentleman for whom southern pride is not courageous words but foremost courageous deeds. Virgilia Hazard represents the most fanatical side of abolitionist movement striving to condemn slavery and punish the owners of \\\"black breeding farms.\\\" Her marriage with Grady appears to be a symbol of equality but also a symbol of saying \\\"NO\\\" to the politics of the south. Two interesting characters are Orry's sisters, Brett and Ashton - sisters in whose veins runs entirely opposite blood. Brett, in her gentleness but also naiveness, believes in absolute fidelity. She marries Billy, even though he is a northerner, because she truly loves him. Brett is the representation of all that is precious in any young woman. Ashton, however, is a vamp, a tigress, a woman who does not hesitate to do the most wicked things. The clear picture of their world views clash is their chat about men and family...unforgettable moment and how universal! Most characters head for their values...yet, war breaks out and they'll have to put aside a lot...<br /><br />Secondly, the performances... someone said that not all people act naturally. I wouldn't say that. I'd rather say that all cast do very good jobs in their parts from the main characters who are portrayed by younger staff to the guests that consist of famous stars, including Liz Taylor, Robert Mitchum and others. Patrick Swayze as Orry does a great job. I consider this role one of his best ones. Lesley Anne Down as Madeleine is also very memorable. Her part, perhaps, entails too much suffering but she manages to express all sorts of feelings really well. Kirstie Alley is very appealing and truly memorable as the abolitionist Virgilia Hazard. Phillip Casnoff is worth consideration as horribly ambitious Elkanah Bent as well as David Carradine as a monster husband, disgusting Justin LaMotte. And, in contrast to him, a mention must be made of Jean Simmons who is truly excellent as Orry's mother whose heart beats for the glory of family life and concord of union. <br /><br />Thirdly, memorable moments of \\\"North and South\\\" leave an unfading trace in one's mind. Who can forget the first meeting of Orry and Madeleine - what charm, what gentleness there is in this scene! Or is it possible to skip the moment when Madeleine's father dies? I found it really powerful, there is a real drama in this moment, a drama of a woman being left by someone who really loved her. I also liked Churubusco sequence and George Hazard so worried about the life of his dearest friend, Orry. Then his meetings with Constance are terrific. Virgilia's speech in Philadelphia is a masterpiece of performance. And the final moment of the first part: although North and South may separate, their friendship will never die. Orry and George symbolically join hands as the train moves on. Simply, there are so many beautiful and powerful scenes that it's impossible to mention even half of them here. And these gorgeous tunes by Bill Conti and shot in brilliant landscapes. The music in \\\"North and South\\\" is very touching and memorable.<br /><br />What to say in the end? \\\"North and South\\\" is a real must have on DVD, simply an amazing TV series about the victory of all that is precious in us: love, friendship, loyalty, honor, truthfulness, absolute fidelity. 9/10\"\n        ],\n        \"semantic_type\": \"\",\n        \"description\": \"\"\n      }\n    },\n    {\n      \"column\": \"sentiment\",\n      \"properties\": {\n        \"dtype\": \"number\",\n        \"std\": 0,\n        \"min\": 0,\n        \"max\": 1,\n        \"num_unique_values\": 2,\n        \"samples\": [\n          0,\n          1\n        ],\n        \"semantic_type\": \"\",\n        \"description\": \"\"\n      }\n    }\n  ]\n}"
            }
          },
          "metadata": {},
          "execution_count": 3
        }
      ]
    },
    {
      "cell_type": "code",
      "source": [
        "labels=df['sentiment'].values #df의 sentiment 열을 np.array로 만듦"
      ],
      "metadata": {
        "id": "D56cKO9fTQHu"
      },
      "execution_count": 4,
      "outputs": []
    },
    {
      "cell_type": "markdown",
      "source": [
        "review 전처리"
      ],
      "metadata": {
        "id": "9fgrvnzwSvZd"
      }
    },
    {
      "cell_type": "code",
      "source": [
        "!pip install html5lib"
      ],
      "metadata": {
        "colab": {
          "base_uri": "https://localhost:8080/"
        },
        "id": "N0pozxk9ett1",
        "outputId": "c07175b5-8353-44b2-9a31-41626affe87b"
      },
      "execution_count": 5,
      "outputs": [
        {
          "output_type": "stream",
          "name": "stdout",
          "text": [
            "Requirement already satisfied: html5lib in /usr/local/lib/python3.10/dist-packages (1.1)\n",
            "Requirement already satisfied: six>=1.9 in /usr/local/lib/python3.10/dist-packages (from html5lib) (1.16.0)\n",
            "Requirement already satisfied: webencodings in /usr/local/lib/python3.10/dist-packages (from html5lib) (0.5.1)\n"
          ]
        }
      ]
    },
    {
      "cell_type": "code",
      "source": [
        "!pip install BeautifulSoup4"
      ],
      "metadata": {
        "colab": {
          "base_uri": "https://localhost:8080/"
        },
        "id": "KDzQm4CCfvQG",
        "outputId": "043efe93-efd1-418e-e01a-69c80e8eed0c"
      },
      "execution_count": 6,
      "outputs": [
        {
          "output_type": "stream",
          "name": "stdout",
          "text": [
            "Requirement already satisfied: BeautifulSoup4 in /usr/local/lib/python3.10/dist-packages (4.12.3)\n",
            "Requirement already satisfied: soupsieve>1.2 in /usr/local/lib/python3.10/dist-packages (from BeautifulSoup4) (2.5)\n"
          ]
        }
      ]
    },
    {
      "cell_type": "code",
      "source": [
        "from bs4 import BeautifulSoup\n",
        "import re #정규표현식\n",
        "import nltk\n",
        "from nltk.corpus import stopwords\n",
        "from nltk.stem import WordNetLemmatizer\n",
        "\n",
        "nltk.download('wordnet')\n",
        "nltk.download('stopwords')\n",
        "\n",
        "#축약단어 푸는 함수\n",
        "def decontraction(phrase):\n",
        "    # specific\n",
        "    phrase = re.sub(r\"won\\'t\", \"will not\", phrase)\n",
        "    phrase = re.sub(r\"can\\'t\", \"can not\", phrase)\n",
        "    # general\n",
        "    phrase = re.sub(r\"n\\'t\", \" not\", phrase)\n",
        "    phrase = re.sub(r\"\\'re\", \" are\", phrase)\n",
        "    phrase = re.sub(r\"\\'s\", \" is\", phrase)\n",
        "    phrase = re.sub(r\"\\'d\", \" would\", phrase)\n",
        "    phrase = re.sub(r\"\\'ll\", \" will\", phrase)\n",
        "    phrase = re.sub(r\"\\'t\", \" not\", phrase)\n",
        "    phrase = re.sub(r\"\\'ve\", \" have\", phrase)\n",
        "    phrase = re.sub(r\"\\'m\", \" am\", phrase)\n",
        "    return phrase\n",
        "\n",
        "#어근 추출하는 함수(스테머LancasterStemmer/PorterStemmer)\n",
        "#stemmer=nltk.stem.LancasterStemmer()\n",
        "#표제어 추출하는 함수(레머타이저)\n",
        "#lemmatizer = WordNetLemmatizer()\n",
        "\n",
        "def clean(review):\n",
        "  review_text=BeautifulSoup(review, 'html5lib').get_text() # HTML 태그 제거\n",
        "  review_text=re.sub('[^a-zA-Z]', ' ', review_text) # 영어 문자 제외 나머지 기호(쉼표, 느낌표, 숫자 등) 제거하고 공백으로 대체\n",
        "  review_text=decontraction(review_text) # 축약단어 풀기\n",
        "  review_text=review_text.lower() # 소문자 변환\n",
        "\n",
        "  review_words=review_text.split() # 단어로 분해 시킨 뒤에\n",
        "  #review_words=[stemmer.stem(word) for word in review_words] # 어근 추출\n",
        "  #review_words=[lemmatizer.lemmatize(word) for word in review_words] # 표제어 추출\n",
        "\n",
        "  stop_words = set(stopwords.words('english'))\n",
        "  review_words=[w for w in review_words if w not in stop_words] # 불용어 제거\n",
        "\n",
        "  review_text=' '.join(review_words)\n",
        "  clean_review=review_text\n",
        "  return clean_review\n",
        "\n",
        "df['review']=df['review'].apply(clean)\n",
        "df['review']"
      ],
      "metadata": {
        "colab": {
          "base_uri": "https://localhost:8080/"
        },
        "id": "CyZsq7hbf_aG",
        "outputId": "c11d5d9d-09ba-4db1-9d56-9b297888abc7"
      },
      "execution_count": 7,
      "outputs": [
        {
          "output_type": "stream",
          "name": "stderr",
          "text": [
            "[nltk_data] Downloading package wordnet to /root/nltk_data...\n",
            "[nltk_data] Downloading package stopwords to /root/nltk_data...\n",
            "[nltk_data]   Unzipping corpora/stopwords.zip.\n",
            "<ipython-input-7-86e9e9c4f6b6>:32: MarkupResemblesLocatorWarning: The input looks more like a filename than markup. You may want to open this file and pass the filehandle into Beautiful Soup.\n",
            "  review_text=BeautifulSoup(review, 'html5lib').get_text() # HTML 태그 제거\n"
          ]
        },
        {
          "output_type": "execute_result",
          "data": {
            "text/plain": [
              "0        one reviewers mentioned watching oz episode ho...\n",
              "1        wonderful little production filming technique ...\n",
              "2        thought wonderful way spend time hot summer we...\n",
              "3        petter mattei love time money visually stunnin...\n",
              "4        probably time favorite movie story selflessnes...\n",
              "                               ...                        \n",
              "11995    one thing count disney uncanny ability take st...\n",
              "11996                    rent one even dollar rental night\n",
              "11997    anything else earth enticing learn expects fra...\n",
              "11998    time joel schumacher ranked quite high list fa...\n",
              "11999    oh man hated movie granted site locations grea...\n",
              "Name: review, Length: 12000, dtype: object"
            ]
          },
          "metadata": {},
          "execution_count": 7
        }
      ]
    },
    {
      "cell_type": "markdown",
      "source": [
        "review 단어 수 세기>>한 문장당 최대 단어 개수 정하기 위해"
      ],
      "metadata": {
        "id": "elQ40mOMVJwg"
      }
    },
    {
      "cell_type": "code",
      "source": [
        "# 단어로 분리시키기, 배열로 생성됨\n",
        "review_words = [sentence.split(' ') for sentence in df['review']]\n",
        "\n",
        "# 분리 샘플 5개 보기\n",
        "for i in range(5):\n",
        "    print(review_words[i])"
      ],
      "metadata": {
        "colab": {
          "base_uri": "https://localhost:8080/"
        },
        "id": "ocbEeL-IU7fi",
        "outputId": "c6cffb60-7521-4e5a-d9f2-cc2af27b5154"
      },
      "execution_count": 8,
      "outputs": [
        {
          "output_type": "stream",
          "name": "stdout",
          "text": [
            "['one', 'reviewers', 'mentioned', 'watching', 'oz', 'episode', 'hooked', 'right', 'exactly', 'happened', 'first', 'thing', 'struck', 'oz', 'brutality', 'unflinching', 'scenes', 'violence', 'set', 'right', 'word', 'go', 'trust', 'show', 'faint', 'hearted', 'timid', 'show', 'pulls', 'punches', 'regards', 'drugs', 'sex', 'violence', 'hardcore', 'classic', 'use', 'word', 'called', 'oz', 'nickname', 'given', 'oswald', 'maximum', 'security', 'state', 'penitentary', 'focuses', 'mainly', 'emerald', 'city', 'experimental', 'section', 'prison', 'cells', 'glass', 'fronts', 'face', 'inwards', 'privacy', 'high', 'agenda', 'em', 'city', 'home', 'many', 'aryans', 'muslims', 'gangstas', 'latinos', 'christians', 'italians', 'irish', 'scuffles', 'death', 'stares', 'dodgy', 'dealings', 'shady', 'agreements', 'never', 'far', 'away', 'would', 'say', 'main', 'appeal', 'show', 'due', 'fact', 'goes', 'shows', 'dare', 'forget', 'pretty', 'pictures', 'painted', 'mainstream', 'audiences', 'forget', 'charm', 'forget', 'romance', 'oz', 'mess', 'around', 'first', 'episode', 'ever', 'saw', 'struck', 'nasty', 'surreal', 'say', 'ready', 'watched', 'developed', 'taste', 'oz', 'got', 'accustomed', 'high', 'levels', 'graphic', 'violence', 'violence', 'injustice', 'crooked', 'guards', 'sold', 'nickel', 'inmates', 'kill', 'order', 'get', 'away', 'well', 'mannered', 'middle', 'class', 'inmates', 'turned', 'prison', 'bitches', 'due', 'lack', 'street', 'skills', 'prison', 'experience', 'watching', 'oz', 'may', 'become', 'comfortable', 'uncomfortable', 'viewing', 'thats', 'get', 'touch', 'darker', 'side']\n",
            "['wonderful', 'little', 'production', 'filming', 'technique', 'unassuming', 'old', 'time', 'bbc', 'fashion', 'gives', 'comforting', 'sometimes', 'discomforting', 'sense', 'realism', 'entire', 'piece', 'actors', 'extremely', 'well', 'chosen', 'michael', 'sheen', 'got', 'polari', 'voices', 'pat', 'truly', 'see', 'seamless', 'editing', 'guided', 'references', 'williams', 'diary', 'entries', 'well', 'worth', 'watching', 'terrificly', 'written', 'performed', 'piece', 'masterful', 'production', 'one', 'great', 'master', 'comedy', 'life', 'realism', 'really', 'comes', 'home', 'little', 'things', 'fantasy', 'guard', 'rather', 'use', 'traditional', 'dream', 'techniques', 'remains', 'solid', 'disappears', 'plays', 'knowledge', 'senses', 'particularly', 'scenes', 'concerning', 'orton', 'halliwell', 'sets', 'particularly', 'flat', 'halliwell', 'murals', 'decorating', 'every', 'surface', 'terribly', 'well', 'done']\n",
            "['thought', 'wonderful', 'way', 'spend', 'time', 'hot', 'summer', 'weekend', 'sitting', 'air', 'conditioned', 'theater', 'watching', 'light', 'hearted', 'comedy', 'plot', 'simplistic', 'dialogue', 'witty', 'characters', 'likable', 'even', 'well', 'bread', 'suspected', 'serial', 'killer', 'may', 'disappointed', 'realize', 'match', 'point', 'risk', 'addiction', 'thought', 'proof', 'woody', 'allen', 'still', 'fully', 'control', 'style', 'many', 'us', 'grown', 'love', 'laughed', 'one', 'woody', 'comedies', 'years', 'dare', 'say', 'decade', 'never', 'impressed', 'scarlet', 'johanson', 'managed', 'tone', 'sexy', 'image', 'jumped', 'right', 'average', 'spirited', 'young', 'woman', 'may', 'crown', 'jewel', 'career', 'wittier', 'devil', 'wears', 'prada', 'interesting', 'superman', 'great', 'comedy', 'go', 'see', 'friends']\n",
            "['petter', 'mattei', 'love', 'time', 'money', 'visually', 'stunning', 'film', 'watch', 'mr', 'mattei', 'offers', 'us', 'vivid', 'portrait', 'human', 'relations', 'movie', 'seems', 'telling', 'us', 'money', 'power', 'success', 'people', 'different', 'situations', 'encounter', 'variation', 'arthur', 'schnitzler', 'play', 'theme', 'director', 'transfers', 'action', 'present', 'time', 'new', 'york', 'different', 'characters', 'meet', 'connect', 'one', 'connected', 'one', 'way', 'another', 'next', 'person', 'one', 'seems', 'know', 'previous', 'point', 'contact', 'stylishly', 'film', 'sophisticated', 'luxurious', 'look', 'taken', 'see', 'people', 'live', 'world', 'live', 'habitat', 'thing', 'one', 'gets', 'souls', 'picture', 'different', 'stages', 'loneliness', 'one', 'inhabits', 'big', 'city', 'exactly', 'best', 'place', 'human', 'relations', 'find', 'sincere', 'fulfillment', 'one', 'discerns', 'case', 'people', 'encounter', 'acting', 'good', 'mr', 'mattei', 'direction', 'steve', 'buscemi', 'rosario', 'dawson', 'carol', 'kane', 'michael', 'imperioli', 'adrian', 'grenier', 'rest', 'talented', 'cast', 'make', 'characters', 'come', 'alive', 'wish', 'mr', 'mattei', 'good', 'luck', 'await', 'anxiously', 'next', 'work']\n",
            "['probably', 'time', 'favorite', 'movie', 'story', 'selflessness', 'sacrifice', 'dedication', 'noble', 'cause', 'preachy', 'boring', 'never', 'gets', 'old', 'despite', 'seen', 'times', 'last', 'years', 'paul', 'lukas', 'performance', 'brings', 'tears', 'eyes', 'bette', 'davis', 'one', 'truly', 'sympathetic', 'roles', 'delight', 'kids', 'grandma', 'says', 'like', 'dressed', 'midgets', 'children', 'makes', 'fun', 'watch', 'mother', 'slow', 'awakening', 'happening', 'world', 'roof', 'believable', 'startling', 'dozen', 'thumbs', 'movie']\n"
          ]
        }
      ]
    },
    {
      "cell_type": "code",
      "source": [
        "# review 문장 길이(문장 별 단어 수) 통계\n",
        "import seaborn as sns\n",
        "import matplotlib.pyplot as plt\n",
        "\n",
        "review_len = [len(sentence) for sentence in review_words]\n",
        "review_len.sort()\n",
        "sns.displot(review_len)\n",
        "plt.xlabel('review length')\n",
        "plt.ylabel('frequency')\n",
        "plt.show()"
      ],
      "metadata": {
        "colab": {
          "base_uri": "https://localhost:8080/",
          "height": 526
        },
        "id": "FrE_9K7LSLo3",
        "outputId": "019b0343-9157-493b-b8e6-db42c55df697"
      },
      "execution_count": 9,
      "outputs": [
        {
          "output_type": "display_data",
          "data": {
            "text/plain": [
              "<Figure size 500x500 with 1 Axes>"
            ],
            "image/png": "[encoded data removed]"
          },
          "metadata": {}
        }
      ]
    },
    {
      "cell_type": "code",
      "source": [
        "#타입 확인\n",
        "print(type(df['review'])) #pandas series\n",
        "print(type(review_words)) #list"
      ],
      "metadata": {
        "colab": {
          "base_uri": "https://localhost:8080/"
        },
        "id": "zfymhcOUX0oZ",
        "outputId": "ab3408e7-01a5-4b5f-e9b1-67fb3d6b2adc"
      },
      "execution_count": 10,
      "outputs": [
        {
          "output_type": "stream",
          "name": "stdout",
          "text": [
            "<class 'pandas.core.series.Series'>\n",
            "<class 'list'>\n"
          ]
        }
      ]
    },
    {
      "cell_type": "markdown",
      "source": [
        "토큰화"
      ],
      "metadata": {
        "id": "2rN0goMMnj2C"
      }
    },
    {
      "cell_type": "code",
      "source": [
        "###### Hyperparameters ######\n",
        "my_num_words = 10000 #embedding할 단어 개수\n",
        "max_length = 500 #한 문장당 몇 개의 단어 개수를 제한으로 둘 지. 짧으면 패딩 추가, 길면 잘라냄\n",
        "embedding_dim = 100 #my_num_words의 단어를 몇 차원의 벡터로 변환할 지 결정\n",
        "padding_type='post'#패딩과 잘라내기를 뒤쪽에 적용\n",
        "trunc_type='post'"
      ],
      "metadata": {
        "id": "UHONivw-qK2F"
      },
      "execution_count": 11,
      "outputs": []
    },
    {
      "cell_type": "code",
      "source": [
        "import keras\n",
        "from keras.preprocessing.text import Tokenizer\n",
        "from keras.preprocessing.sequence import pad_sequences\n",
        "\n",
        "# num_words에 지정된 만큼만 숫자로 반환\n",
        "tokenizer = Tokenizer(num_words=my_num_words)\n",
        "tokenizer.fit_on_texts(review_words) #review_words를 tokenizer에 대입\n",
        "review_tokens = tokenizer.texts_to_sequences(review_words) # tokenizer에 의해 구해진 단어의 index로 review_tokens 생성\n",
        "review_tokens = pad_sequences(review_tokens,\n",
        "                              padding=padding_type, truncating=trunc_type,\n",
        "                              maxlen=max_length)\n",
        "print(review_tokens[:5])"
      ],
      "metadata": {
        "colab": {
          "base_uri": "https://localhost:8080/"
        },
        "id": "jnPRCqwG5Vxh",
        "outputId": "9a4c0b7f-3ebd-4518-ee23-9c102f334a32"
      },
      "execution_count": 12,
      "outputs": [
        {
          "output_type": "stream",
          "name": "stdout",
          "text": [
            "[[   3 1911  848 ...    0    0    0]\n",
            " [ 254   34  233 ...    0    0    0]\n",
            " [  94  254   22 ...    0    0    0]\n",
            " [6534   36    7 ...    0    0    0]\n",
            " [ 125    7  371 ...    0    0    0]]\n"
          ]
        }
      ]
    },
    {
      "cell_type": "code",
      "source": [
        "#타입 확인\n",
        "print(type(review_tokens)) #array"
      ],
      "metadata": {
        "colab": {
          "base_uri": "https://localhost:8080/"
        },
        "id": "VExX_TL-Yyli",
        "outputId": "fe1cab67-270b-4824-d06e-91bbe3b56334"
      },
      "execution_count": 13,
      "outputs": [
        {
          "output_type": "stream",
          "name": "stdout",
          "text": [
            "<class 'numpy.ndarray'>\n"
          ]
        }
      ]
    },
    {
      "cell_type": "code",
      "source": [
        "# tokenizer 확인\n",
        "print(tokenizer.index_word[1])\n",
        "print(tokenizer.index_word[29999])"
      ],
      "metadata": {
        "colab": {
          "base_uri": "https://localhost:8080/"
        },
        "id": "vasbbj88Dd_-",
        "outputId": "7e300d07-0d35-4f6d-f805-dbd3b514655c"
      },
      "execution_count": 14,
      "outputs": [
        {
          "output_type": "stream",
          "name": "stdout",
          "text": [
            "movie\n",
            "contemplations\n"
          ]
        }
      ]
    },
    {
      "cell_type": "markdown",
      "source": [
        "## <모델 훈련>"
      ],
      "metadata": {
        "id": "xWoiDiC-m7Dp"
      }
    },
    {
      "cell_type": "code",
      "source": [
        "from sklearn.model_selection import train_test_split\n",
        "#train_test_split 함수 https://scikit-learn.org/stable/modules/generated/sklearn.model_selection.train_test_split.html\n",
        "#sklearn.model_selection.train_test_split(*arrays, test_size=None, train_size=None, random_state=None, shuffle=True, stratify=None)[source]\n",
        "\n",
        "train_texts, test_texts, train_labels, test_labels = train_test_split(review_tokens, labels, test_size=0.2, random_state=42)"
      ],
      "metadata": {
        "id": "v3LqehFqm6X8"
      },
      "execution_count": 15,
      "outputs": []
    },
    {
      "cell_type": "code",
      "source": [
        "#타입 확인\n",
        "print(type(train_texts))\n",
        "print(type(train_labels))"
      ],
      "metadata": {
        "colab": {
          "base_uri": "https://localhost:8080/"
        },
        "id": "5D421GjYaNZG",
        "outputId": "485ac9cf-77ef-45e4-d0c1-bd92d1baf63e"
      },
      "execution_count": 16,
      "outputs": [
        {
          "output_type": "stream",
          "name": "stdout",
          "text": [
            "<class 'numpy.ndarray'>\n",
            "<class 'numpy.ndarray'>\n"
          ]
        }
      ]
    },
    {
      "cell_type": "code",
      "source": [
        "#참고 용어 설명\n",
        "#에폭(epoch): 하나의 단위. 1에폭은 학습에서 훈련 데이터를 모두 소진했을 때의 횟수에 해당함.\n",
        "#미니 배치(mini batch): 전체 데이터 셋을 몇 개의 데이터 셋으로 나누었을 때, 그 작은 데이터 셋 뭉치\n",
        "#배치사이즈(batch size): 하나의 미니 배치에 넘겨주는 데이터 갯수, 즉 한번의 배치마다 주는 샘플의 size\n",
        "#이터레이션(iteration): 하나의 미니 배치를 학습할 때 1iteration이라고 한다. 즉, 미니 배치 갯수 = 이터레이션 수\n",
        "\n",
        "######hyperparameters######\n",
        "num_epochs = 2\n",
        "batch_sz = 64\n",
        "lr = 0.001 #learning rate\n",
        "dr = 0.2 #dropout rate"
      ],
      "metadata": {
        "id": "uqbqf9jdnyHl"
      },
      "execution_count": 17,
      "outputs": []
    },
    {
      "cell_type": "markdown",
      "source": [
        "## **GRU**"
      ],
      "metadata": {
        "id": "YfSaIhOAs9T1"
      }
    },
    {
      "cell_type": "code",
      "source": [
        "from keras.callbacks import EarlyStopping, ModelCheckpoint\n",
        "\n",
        "optim = keras.optimizers.Adam(learning_rate=lr)\n",
        "\n",
        "# GRU model\n",
        "model_GRU = keras.Sequential(name=\"model_GRU\", layers=[\n",
        "    keras.layers.Embedding(my_num_words, embedding_dim, input_length=max_length),\n",
        "    keras.layers.Bidirectional(keras.layers.GRU(64, dropout=dr)),\n",
        "    keras.layers.Dense(24, activation='relu'),\n",
        "    keras.layers.Dense(1, activation='sigmoid')\n",
        "])\n",
        "\n",
        "model_GRU.compile(loss='binary_crossentropy',\n",
        "                  optimizer=optim,\n",
        "                  metrics=['accuracy'])\n",
        "\n",
        "# Model summary\n",
        "model_GRU.summary()"
      ],
      "metadata": {
        "colab": {
          "base_uri": "https://localhost:8080/"
        },
        "id": "jkLnOLwytr1R",
        "outputId": "cdbbed0e-f0f0-4b2e-ab6c-0a77ad690eea"
      },
      "execution_count": 18,
      "outputs": [
        {
          "output_type": "stream",
          "name": "stdout",
          "text": [
            "Model: \"model_GRU\"\n",
            "_________________________________________________________________\n",
            " Layer (type)                Output Shape              Param #   \n",
            "=================================================================\n",
            " embedding (Embedding)       (None, 500, 100)          1000000   \n",
            "                                                                 \n",
            " bidirectional (Bidirection  (None, 128)               63744     \n",
            " al)                                                             \n",
            "                                                                 \n",
            " dense (Dense)               (None, 24)                3096      \n",
            "                                                                 \n",
            " dense_1 (Dense)             (None, 1)                 25        \n",
            "                                                                 \n",
            "=================================================================\n",
            "Total params: 1066865 (4.07 MB)\n",
            "Trainable params: 1066865 (4.07 MB)\n",
            "Non-trainable params: 0 (0.00 Byte)\n",
            "_________________________________________________________________\n"
          ]
        }
      ]
    },
    {
      "cell_type": "code",
      "source": [
        "result_GRU = model_GRU.fit(train_texts, train_labels, epochs=num_epochs, batch_size=batch_sz, verbose=1, validation_split=0.1)"
      ],
      "metadata": {
        "colab": {
          "base_uri": "https://localhost:8080/"
        },
        "id": "VYyNZ-pfvR22",
        "outputId": "6047b710-0292-4209-e8c9-d32f51393faf"
      },
      "execution_count": 19,
      "outputs": [
        {
          "output_type": "stream",
          "name": "stdout",
          "text": [
            "Epoch 1/2\n",
            "135/135 [==============================] - 53s 265ms/step - loss: 0.6340 - accuracy: 0.6382 - val_loss: 0.5048 - val_accuracy: 0.7646\n",
            "Epoch 2/2\n",
            "135/135 [==============================] - 23s 168ms/step - loss: 0.3025 - accuracy: 0.8748 - val_loss: 0.3806 - val_accuracy: 0.8604\n"
          ]
        }
      ]
    },
    {
      "cell_type": "code",
      "source": [
        "#train, validation data에 대한 loss, accuracy 계산\n",
        "\n",
        "plt.figure(figsize=(12, 4))\n",
        "\n",
        "plt.subplot(1, 2, 1)\n",
        "plt.title('Loss of model_GRU', fontsize=15)\n",
        "plt.plot(result_GRU.history['loss'], 'b-', label='loss')\n",
        "plt.plot(result_GRU.history['val_loss'], 'r--', label='val_loss')\n",
        "plt.xlabel('Epoch')\n",
        "plt.legend()\n",
        "\n",
        "plt.subplot(1, 2, 2)\n",
        "plt.title('Accuracy of model_GRU', fontsize=15)\n",
        "plt.plot(result_GRU.history['accuracy'], 'g-', label='accuracy')\n",
        "plt.plot(result_GRU.history['val_accuracy'], 'k--', label='val_accuracy')\n",
        "plt.xlabel('Epoch')\n",
        "plt.legend()\n",
        "\n",
        "plt.tight_layout()\n",
        "plt.show()"
      ],
      "metadata": {
        "colab": {
          "base_uri": "https://localhost:8080/",
          "height": 407
        },
        "id": "txeU4moZuWCM",
        "outputId": "5ce7668c-8a95-4944-c5f0-5ced27191c26"
      },
      "execution_count": 20,
      "outputs": [
        {
          "output_type": "display_data",
          "data": {
            "text/plain": [
              "<Figure size 1200x400 with 2 Axes>"
            ],
            "image/png": "[encoded data removed]"
          },
          "metadata": {}
        }
      ]
    },
    {
      "cell_type": "code",
      "source": [
        "from sklearn.metrics import accuracy_score, confusion_matrix, f1_score, precision_score, recall_score, roc_curve, roc_auc_score\n",
        "import matplotlib.pyplot as plt\n",
        "import seaborn as sns; sns.set()\n",
        "\n",
        "# 예측값 얻기\n",
        "predictions = model_GRU.predict(test_texts)\n",
        "predictions_binary = (predictions > 0.5).astype(int) #이진 분류.\n",
        "\n",
        "# 평가 척도 계산\n",
        "cm=confusion_matrix(test_labels, predictions_binary)#confusion matrix\n",
        "f1=f1_score(test_labels, predictions_binary) #f1score\n",
        "precision=precision_score(test_labels, predictions_binary)#precision\n",
        "recall=recall_score(test_labels, predictions_binary)#recall\n",
        "accuracy = accuracy_score(test_labels, predictions_binary) # accuracy\n",
        "\n",
        "# 정확도 출력\n",
        "print(f'Test Accuracy: {accuracy:.4f}')\n",
        "\n",
        "#시각화\n",
        "fig, axes = plt.subplots(figsize=(16, 6))\n",
        "\n",
        "#시각화1-confusion matrix\n",
        "sns.heatmap(cm, annot=True, cmap='Blues', fmt='d', ax=axes)\n",
        "axes.set_title('Confusion Matrix', fontsize=14)\n",
        "axes.set_xlabel('Predicted Label', fontsize=12)\n",
        "axes.set_ylabel('True Label', fontsize=12)\n",
        "axes.text(0.5, -0.15, f'F1 Score: {f1:.4f} Precision: {precision:.4f} Recall: {recall:.4f}',\n",
        "             horizontalalignment='center', verticalalignment='center', transform=axes.transAxes,fontsize=12)\n",
        "plt.show()\n",
        "\n",
        "#시각화2-ROC curve\n",
        "fp, tp, _ = roc_curve(test_labels, predictions) #처음 두 값(fp 및 tp)만 압축을 풀고 나머지는 무시하도록 지시\n",
        "auroc_baseline = roc_auc_score(test_labels, predictions)\n",
        "\n",
        "plt.figure(figsize=(10, 6))\n",
        "plt.plot(fp, tp, label=f'model_GRU (area = {auroc_baseline:.3f})')\n",
        "plt.plot([0, 1], [0, 1], 'k--')\n",
        "plt.xlabel('False Positive Rate')\n",
        "plt.ylabel('True Positive Rate')\n",
        "plt.title('ROC Curve')\n",
        "plt.legend(loc=\"lower right\")\n",
        "plt.show()"
      ],
      "metadata": {
        "colab": {
          "base_uri": "https://localhost:8080/",
          "height": 1000
        },
        "id": "26pTJPx5v7xe",
        "outputId": "2495468c-4bd7-4799-bd97-15bb94eda059"
      },
      "execution_count": 21,
      "outputs": [
        {
          "output_type": "stream",
          "name": "stdout",
          "text": [
            "75/75 [==============================] - 2s 14ms/step\n",
            "Test Accuracy: 0.8617\n"
          ]
        },
        {
          "output_type": "display_data",
          "data": {
            "text/plain": [
              "<Figure size 1600x600 with 2 Axes>"
            ],
            "image/png": "[encoded data removed]"
          },
          "metadata": {}
        },
        {
          "output_type": "display_data",
          "data": {
            "text/plain": [
              "<Figure size 1000x600 with 1 Axes>"
            ],
            "image/png": "[encoded data removed]"
          },
          "metadata": {}
        }
      ]
    }
  ]
}